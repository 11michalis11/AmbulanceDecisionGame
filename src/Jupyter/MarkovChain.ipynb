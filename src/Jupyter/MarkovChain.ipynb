{
 "cells": [
  {
   "cell_type": "code",
   "execution_count": 14,
   "metadata": {},
   "outputs": [],
   "source": [
    "import networkx as nx\n",
    "import matplotlib.pyplot as plt\n",
    "import numpy as np\n",
    "import sympy as sym\n",
    "import sys"
   ]
  },
  {
   "cell_type": "markdown",
   "metadata": {},
   "source": [
    "# Visualising the model"
   ]
  },
  {
   "cell_type": "code",
   "execution_count": 234,
   "metadata": {},
   "outputs": [],
   "source": [
    "def build_states(threshold, system_capacity, parking_capacity):\n",
    "    \n",
    "    states_1 = [(0,v) for v in range(0, threshold)]\n",
    "    states_2 = [(u,v) for v in range(threshold, system_capacity+1) for u in range(parking_capacity+1)]\n",
    "    all_states = states_1 + states_2    \n",
    "    \n",
    "    return all_states"
   ]
  },
  {
   "cell_type": "code",
   "execution_count": 185,
   "metadata": {},
   "outputs": [],
   "source": [
    "def visualise_ambulance_markov_chain(num_of_servers, threshold, parking_capacity, system_capacity):\n",
    "\n",
    "    all_states = build_states(threshold, system_capacity, parking_capacity)\n",
    "    G = nx.MultiDiGraph()\n",
    "    for i, origin_state in enumerate(all_states):\n",
    "        for j, destination_state in enumerate(all_states):\n",
    "            column_adjacent = (destination_state[0] - origin_state[0] == 1 and destination_state[1] - origin_state[1] == 0)\n",
    "            row_adjacent = (destination_state[1] - origin_state[1] == 1 and destination_state[0] - origin_state[0] == 0)\n",
    "            if row_adjacent or column_adjacent:\n",
    "                G.add_edge(origin_state, destination_state, color=\"blue\")\n",
    "\n",
    "    plt.figure(figsize=(1.5 * (parking_capacity+1), 1.5 * system_capacity))\n",
    "    pos = {state:list(state) for state in all_states}\n",
    "    nx.draw_networkx_nodes(G, pos, node_size=2000, nodelist=[state for state in all_states if state[1] < num_of_servers])\n",
    "    nx.draw_networkx_nodes(G, pos, node_size=2000, nodelist=[state for state in all_states if state[1] >= num_of_servers], node_color='red')\n",
    "    nx.draw_networkx_edges(G, pos)\n",
    "    nx.draw_networkx_labels(G, pos)\n",
    "    plt.axis('off');"
   ]
  },
  {
   "cell_type": "markdown",
   "metadata": {},
   "source": [
    "# Getting individual entrys of the transition matrix (Symbolic/Exact)"
   ]
  },
  {
   "cell_type": "code",
   "execution_count": 217,
   "metadata": {},
   "outputs": [],
   "source": [
    "def get_symbolic_transition_matrix_entry(origin, destination, threshold, lambda_a, lambda_o, Lambda, mu, num_of_servers):\n",
    "    \n",
    "    row_diff = origin[0] - destination[0]\n",
    "    column_diff = origin[1] - destination[1]\n",
    "    \n",
    "    if row_diff == 0 and column_diff == -1:\n",
    "        if origin[1] < threshold:\n",
    "            return Lambda\n",
    "        return lambda_o\n",
    "    elif row_diff == -1 and column_diff == 0:\n",
    "        return lambda_a\n",
    "    elif row_diff == 0 and column_diff == 1:\n",
    "        if origin[1] <= num_of_servers:\n",
    "            return origin[1] * mu\n",
    "        else:\n",
    "            return num_of_servers * mu\n",
    "    elif row_diff == 1 and column_diff == 0 and origin[1] == threshold:\n",
    "        return threshold * mu\n",
    "    else:\n",
    "        return 0"
   ]
  },
  {
   "cell_type": "code",
   "execution_count": 218,
   "metadata": {},
   "outputs": [],
   "source": [
    "def get_transition_matrix_entry(origin, destination, threshold, lambda_a, lambda_o, mu, num_of_servers):\n",
    "    \n",
    "    row_diff = origin[0] - destination[0]\n",
    "    column_diff = origin[1] - destination[1]\n",
    "    \n",
    "    if row_diff == 0 and column_diff == -1:\n",
    "        if origin[1] < threshold:\n",
    "            return lambda_a + lambda_o\n",
    "        return lambda_o\n",
    "    elif row_diff == -1 and column_diff == 0:\n",
    "        return lambda_a\n",
    "    elif row_diff == 0 and column_diff == 1:\n",
    "        if origin[1] <= num_of_servers:\n",
    "            return origin[1] * mu\n",
    "        else:\n",
    "            return num_of_servers * mu\n",
    "    elif row_diff == 1 and column_diff == 0 and origin[1] == threshold:\n",
    "        return threshold * mu\n",
    "    else:\n",
    "        return 0"
   ]
  },
  {
   "cell_type": "markdown",
   "metadata": {},
   "source": [
    "# Get the whole transition matrix (Symbolic/Exact)"
   ]
  },
  {
   "cell_type": "code",
   "execution_count": 501,
   "metadata": {},
   "outputs": [],
   "source": [
    "def get_symbolic_transition_matrix(number_of_servers, threshold, system_capacity, parking_capacity):\n",
    "    \n",
    "    Lambda = sym.symbols('Lambda')\n",
    "    lambda_o = sym.symbols('lambda')**sym.symbols('o')\n",
    "    lambda_a = sym.symbols('lambda')**sym.symbols('A')\n",
    "    mu = sym.symbols('mu')\n",
    "    \n",
    "    all_states = build_states(threshold, system_capacity, parking_capacity)\n",
    "    np.set_printoptions(threshold=sys.maxsize)\n",
    "    Q = sym.zeros(len(all_states))\n",
    "    for i, origin_state in enumerate(all_states):\n",
    "        for j, destination_state in enumerate(all_states):\n",
    "            Q[i,j] = get_symbolic_transition_matrix_entry(origin=origin_state, destination=destination_state, threshold=threshold, lambda_a=lambda_a, lambda_o=lambda_o, Lambda=Lambda, mu=mu, num_of_servers=num_of_servers)\n",
    "        Q[i, i] = - sum(Q[i,:])     # Clarify what the diagonal should be\n",
    "    return Q"
   ]
  },
  {
   "cell_type": "code",
   "execution_count": 502,
   "metadata": {},
   "outputs": [],
   "source": [
    "def get_transition_matrix(lambda_a, lambda_o, mu, number_of_servers, threshold, system_capacity, parking_capacity):\n",
    "    \n",
    "    all_states = build_states(threshold, system_capacity, parking_capacity)\n",
    "    np.set_printoptions(threshold=sys.maxsize)\n",
    "    Q = np.zeros((len(all_states),len(all_states)))\n",
    "    for i, origin_state in enumerate(all_states):\n",
    "        for j, destination_state in enumerate(all_states):\n",
    "            Q[i, j] = get_transition_matrix_entry(origin=origin_state, destination=destination_state, threshold=threshold, lambda_a=lambda_a, lambda_o=lambda_o, mu=mu, num_of_servers=num_of_servers)\n",
    "        Q[i, i] = - sum(Q[i,:])     # Clarify what the diagonal should be\n",
    "    return Q"
   ]
  },
  {
   "cell_type": "markdown",
   "metadata": {},
   "source": [
    "# Reviewing the model and transition matrix"
   ]
  },
  {
   "cell_type": "code",
   "execution_count": 503,
   "metadata": {},
   "outputs": [],
   "source": [
    "lambda_a = 0.4\n",
    "lambda_o = 0.3\n",
    "mu = 0.4\n",
    "\n",
    "num_of_servers = 2\n",
    "threshold = 1\n",
    "system_capacity = 3\n",
    "parking_capacity = 1"
   ]
  },
  {
   "cell_type": "code",
   "execution_count": 504,
   "metadata": {},
   "outputs": [],
   "source": [
    "Q_sym = get_symbolic_transition_matrix(num_of_servers, threshold, system_capacity, parking_capacity)\n",
    "all_states = build_states(threshold, system_capacity, parking_capacity)"
   ]
  },
  {
   "cell_type": "code",
   "execution_count": 505,
   "metadata": {},
   "outputs": [
    {
     "data": {
      "image/png": "[encoded data removed]",
      "text/plain": [
       "<Figure size 216x324 with 1 Axes>"
      ]
     },
     "metadata": {},
     "output_type": "display_data"
    }
   ],
   "source": [
    "visualise_ambulance_markov_chain(num_of_servers, threshold, parking_capacity, system_capacity)"
   ]
  },
  {
   "cell_type": "code",
   "execution_count": 506,
   "metadata": {},
   "outputs": [
    {
     "data": {
      "text/plain": [
       "[(0, 0), (0, 1), (1, 1), (0, 2), (1, 2), (0, 3), (1, 3)]"
      ]
     },
     "execution_count": 506,
     "metadata": {},
     "output_type": "execute_result"
    }
   ],
   "source": [
    "all_states"
   ]
  },
  {
   "cell_type": "code",
   "execution_count": 507,
   "metadata": {},
   "outputs": [
    {
     "data": {
      "text/latex": [
       "$\\displaystyle \\left[\\begin{matrix}- \\Lambda & \\Lambda & 0 & 0 & 0 & 0 & 0\\\\\\mu & - \\lambda^{A} - \\lambda^{o} - \\mu & \\lambda^{A} & \\lambda^{o} & 0 & 0 & 0\\\\0 & \\mu & - \\lambda^{o} - \\mu & 0 & \\lambda^{o} & 0 & 0\\\\0 & 2 \\mu & 0 & - \\lambda^{A} - \\lambda^{o} - 2 \\mu & \\lambda^{A} & \\lambda^{o} & 0\\\\0 & 0 & 2 \\mu & 0 & - \\lambda^{o} - 2 \\mu & 0 & \\lambda^{o}\\\\0 & 0 & 0 & 2 \\mu & 0 & - \\lambda^{A} - 2 \\mu & \\lambda^{A}\\\\0 & 0 & 0 & 0 & 2 \\mu & 0 & - 2 \\mu\\end{matrix}\\right]$"
      ],
      "text/plain": [
       "Matrix([\n",
       "[-Lambda,                      Lambda,               0,                             0,                 0,                 0,         0],\n",
       "[     mu, -lambda**A - lambda**o - mu,       lambda**A,                     lambda**o,                 0,                 0,         0],\n",
       "[      0,                          mu, -lambda**o - mu,                             0,         lambda**o,                 0,         0],\n",
       "[      0,                        2*mu,               0, -lambda**A - lambda**o - 2*mu,         lambda**A,         lambda**o,         0],\n",
       "[      0,                           0,            2*mu,                             0, -lambda**o - 2*mu,                 0, lambda**o],\n",
       "[      0,                           0,               0,                          2*mu,                 0, -lambda**A - 2*mu, lambda**A],\n",
       "[      0,                           0,               0,                             0,              2*mu,                 0,     -2*mu]])"
      ]
     },
     "execution_count": 507,
     "metadata": {},
     "output_type": "execute_result"
    }
   ],
   "source": [
    "Q_sym"
   ]
  },
  {
   "cell_type": "markdown",
   "metadata": {},
   "source": [
    "# Building the transition matrix"
   ]
  },
  {
   "cell_type": "code",
   "execution_count": 508,
   "metadata": {},
   "outputs": [],
   "source": [
    "Q = get_transition_matrix(lambda_a, lambda_o, mu, num_of_servers, threshold, system_capacity, parking_capacity)"
   ]
  },
  {
   "cell_type": "code",
   "execution_count": 509,
   "metadata": {},
   "outputs": [
    {
     "data": {
      "text/plain": [
       "[(0, 0), (0, 1), (1, 1), (0, 2), (1, 2), (0, 3), (1, 3)]"
      ]
     },
     "execution_count": 509,
     "metadata": {},
     "output_type": "execute_result"
    }
   ],
   "source": [
    "all_states = build_states(threshold, system_capacity, parking_capacity)\n",
    "all_states"
   ]
  },
  {
   "cell_type": "code",
   "execution_count": 510,
   "metadata": {
    "scrolled": false
   },
   "outputs": [
    {
     "name": "stdout",
     "output_type": "stream",
     "text": [
      "[[-0.7  0.7  0.   0.   0.   0.   0. ]\n",
      " [ 0.4 -1.1  0.4  0.3  0.   0.   0. ]\n",
      " [ 0.   0.4 -0.7  0.   0.3  0.   0. ]\n",
      " [ 0.   0.8  0.  -1.5  0.4  0.3  0. ]\n",
      " [ 0.   0.   0.8  0.  -1.1  0.   0.3]\n",
      " [ 0.   0.   0.   0.8  0.  -1.2  0.4]\n",
      " [ 0.   0.   0.   0.   0.8  0.  -0.8]]\n"
     ]
    }
   ],
   "source": [
    "print(Q)"
   ]
  },
  {
   "cell_type": "code",
   "execution_count": null,
   "metadata": {},
   "outputs": [],
   "source": []
  },
  {
   "cell_type": "code",
   "execution_count": null,
   "metadata": {},
   "outputs": [],
   "source": []
  },
  {
   "cell_type": "code",
   "execution_count": null,
   "metadata": {},
   "outputs": [],
   "source": []
  },
  {
   "cell_type": "code",
   "execution_count": null,
   "metadata": {},
   "outputs": [],
   "source": []
  },
  {
   "cell_type": "code",
   "execution_count": null,
   "metadata": {},
   "outputs": [],
   "source": []
  },
  {
   "cell_type": "code",
   "execution_count": null,
   "metadata": {},
   "outputs": [],
   "source": []
  },
  {
   "cell_type": "code",
   "execution_count": null,
   "metadata": {},
   "outputs": [],
   "source": []
  },
  {
   "cell_type": "markdown",
   "metadata": {},
   "source": [
    "# Dummy Cells"
   ]
  },
  {
   "cell_type": "code",
   "execution_count": 345,
   "metadata": {},
   "outputs": [],
   "source": [
    "def get_transition_matrix(lambda_a, lambda_o, mu, num_of_servers, threshold, system_capacity, parking_capacity):\n",
    "    \n",
    "    all_states = build_states(threshold, system_capacity, parking_capacity)\n",
    "    np.set_printoptions(threshold=sys.maxsize)\n",
    "    Q = np.zeros((len(all_states),len(all_states)))\n",
    "    for i, origin_state in enumerate(all_states):\n",
    "        for j, destination_state in enumerate(all_states):\n",
    "            Q[i,j] = get_transition_matrix_entry(origin=origin_state, destination=destination_state, threshold=threshold, lambda_a=lambda_a, lambda_o=lambda_o, mu=mu, num_of_servers=num_of_servers)\n",
    "            yield Q[i,j]"
   ]
  },
  {
   "cell_type": "code",
   "execution_count": 431,
   "metadata": {},
   "outputs": [],
   "source": [
    "Q = get_transition_matrix(lambda_a, lambda_o, mu, num_of_servers, threshold, system_capacity, parking_capacity)"
   ]
  },
  {
   "cell_type": "code",
   "execution_count": 432,
   "metadata": {},
   "outputs": [],
   "source": [
    "demo = [i for i in Q]"
   ]
  },
  {
   "cell_type": "code",
   "execution_count": null,
   "metadata": {},
   "outputs": [],
   "source": []
  },
  {
   "cell_type": "code",
   "execution_count": 454,
   "metadata": {},
   "outputs": [],
   "source": [
    "x = sym.symbols('x')\n",
    "y = sym.symbols('y')"
   ]
  },
  {
   "cell_type": "code",
   "execution_count": 458,
   "metadata": {},
   "outputs": [
    {
     "data": {
      "text/latex": [
       "$\\displaystyle - x - y + 1$"
      ],
      "text/plain": [
       "-x - y + 1"
      ]
     },
     "execution_count": 458,
     "metadata": {},
     "output_type": "execute_result"
    }
   ],
   "source": [
    "1 - (x + y)"
   ]
  },
  {
   "cell_type": "code",
   "execution_count": null,
   "metadata": {},
   "outputs": [],
   "source": []
  }
 ],
 "metadata": {
  "kernelspec": {
   "display_name": "Python 3.8.1 64-bit ('AmbulanceGame': conda)",
   "language": "python",
   "name": "python38164bitambulancegameconda313376b6b30b4ff1a63b667ba23e8abb"
  },
  "language_info": {
   "codemirror_mode": {
    "name": "ipython",
    "version": 3
   },
   "file_extension": ".py",
   "mimetype": "text/x-python",
   "name": "python",
   "nbconvert_exporter": "python",
   "pygments_lexer": "ipython3",
   "version": "3.8.1"
  }
 },
 "nbformat": 4,
 "nbformat_minor": 4
}
