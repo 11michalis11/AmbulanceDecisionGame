{
 "cells": [
  {
   "cell_type": "code",
   "execution_count": 1,
   "metadata": {},
   "outputs": [],
   "source": [
    "import networkx as nx\n",
    "import matplotlib.pyplot as plt\n",
    "import numpy as np\n",
    "import sympy as sym\n",
    "import sys\n",
    "import itertools\n",
    "import scipy.integrate"
   ]
  },
  {
   "cell_type": "markdown",
   "metadata": {},
   "source": [
    "# Visualising the model"
   ]
  },
  {
   "cell_type": "code",
   "execution_count": 2,
   "metadata": {},
   "outputs": [],
   "source": [
    "def build_states(threshold, system_capacity, parking_capacity):\n",
    "    \n",
    "    states_1 = [(0,v) for v in range(0, threshold)]\n",
    "    states_2 = [(u,v) for v in range(threshold, system_capacity+1) for u in range(parking_capacity+1)]\n",
    "    all_states = states_1 + states_2    \n",
    "    \n",
    "    return all_states"
   ]
  },
  {
   "cell_type": "code",
   "execution_count": 3,
   "metadata": {},
   "outputs": [],
   "source": [
    "def visualise_ambulance_markov_chain(num_of_servers, threshold, parking_capacity, system_capacity):\n",
    "\n",
    "    all_states = build_states(threshold, system_capacity, parking_capacity)\n",
    "    G = nx.MultiDiGraph()\n",
    "    for i, origin_state in enumerate(all_states):\n",
    "        for j, destination_state in enumerate(all_states):\n",
    "            column_adjacent = (destination_state[0] - origin_state[0] == 1 and destination_state[1] - origin_state[1] == 0)\n",
    "            row_adjacent = (destination_state[1] - origin_state[1] == 1 and destination_state[0] - origin_state[0] == 0)\n",
    "            if row_adjacent or column_adjacent:\n",
    "                G.add_edge(origin_state, destination_state, color=\"blue\")\n",
    "\n",
    "    plt.figure(figsize=(1.5 * (parking_capacity+1), 1.5 * system_capacity))\n",
    "    pos = {state:list(state) for state in all_states}\n",
    "    nx.draw_networkx_nodes(G, pos, node_size=2000, nodelist=[state for state in all_states if state[1] < num_of_servers])\n",
    "    nx.draw_networkx_nodes(G, pos, node_size=2000, nodelist=[state for state in all_states if state[1] >= num_of_servers], node_color='red')\n",
    "    nx.draw_networkx_edges(G, pos)\n",
    "    nx.draw_networkx_labels(G, pos)\n",
    "    plt.axis('off');"
   ]
  },
  {
   "cell_type": "markdown",
   "metadata": {},
   "source": [
    "# Getting individual entrys of the transition matrix (Symbolic/Exact)"
   ]
  },
  {
   "cell_type": "code",
   "execution_count": 4,
   "metadata": {},
   "outputs": [],
   "source": [
    "def get_symbolic_transition_matrix_entry(origin, destination, threshold, lambda_a, lambda_o, Lambda, mu, num_of_servers):\n",
    "    \n",
    "    row_diff = origin[0] - destination[0]\n",
    "    column_diff = origin[1] - destination[1]\n",
    "    \n",
    "    if row_diff == 0 and column_diff == -1:\n",
    "        if origin[1] < threshold:\n",
    "            return Lambda\n",
    "        return lambda_o\n",
    "    elif row_diff == -1 and column_diff == 0:\n",
    "        return lambda_a\n",
    "    elif row_diff == 0 and column_diff == 1:\n",
    "        if origin[1] <= num_of_servers:\n",
    "            return origin[1] * mu\n",
    "        else:\n",
    "            return num_of_servers * mu\n",
    "    elif row_diff == 1 and column_diff == 0 and origin[1] == threshold:\n",
    "        return threshold * mu\n",
    "    else:\n",
    "        return 0"
   ]
  },
  {
   "cell_type": "code",
   "execution_count": 5,
   "metadata": {},
   "outputs": [],
   "source": [
    "def get_transition_matrix_entry(origin, destination, threshold, lambda_a, lambda_o, mu, num_of_servers):\n",
    "    \n",
    "    row_diff = origin[0] - destination[0]\n",
    "    column_diff = origin[1] - destination[1]\n",
    "    \n",
    "    if row_diff == 0 and column_diff == -1:\n",
    "        if origin[1] < threshold:\n",
    "            return lambda_a + lambda_o\n",
    "        return lambda_o\n",
    "    elif row_diff == -1 and column_diff == 0:\n",
    "        return lambda_a\n",
    "    elif row_diff == 0 and column_diff == 1:\n",
    "        if origin[1] <= num_of_servers:\n",
    "            return origin[1] * mu\n",
    "        else:\n",
    "            return num_of_servers * mu\n",
    "    elif row_diff == 1 and column_diff == 0 and origin[1] == threshold:\n",
    "        return threshold * mu\n",
    "    else:\n",
    "        return 0"
   ]
  },
  {
   "cell_type": "markdown",
   "metadata": {},
   "source": [
    "# Get the whole transition matrix (Symbolic/Exact)"
   ]
  },
  {
   "cell_type": "code",
   "execution_count": 6,
   "metadata": {},
   "outputs": [],
   "source": [
    "def get_matrix(num_of_servers, threshold, system_capacity, parking_capacity): #TO BE DELETED\n",
    "    \n",
    "    Lambda = sym.symbols('Lambda')\n",
    "    lambda_o = sym.symbols('lambda')**sym.symbols('o')\n",
    "    lambda_a = sym.symbols('lambda')**sym.symbols('A')\n",
    "    mu = sym.symbols('mu')\n",
    "    \n",
    "    all_states = build_states(threshold, system_capacity, parking_capacity)\n",
    "    Q = sym.zeros(len(all_states))\n",
    "    \n",
    "    for i, origin_state in enumerate(all_states):\n",
    "        for j, destination_state in enumerate(all_states):\n",
    "            Q[i,j] = get_symbolic_transition_matrix_entry(origin=origin_state, destination=destination_state, threshold=threshold, lambda_a=lambda_a, lambda_o=lambda_o, Lambda=Lambda, mu=mu, num_of_servers=num_of_servers)\n",
    "        Q[i, i] = - sum(Q[i,:])     # Clarify what the diagonal should be\n",
    "    return Q"
   ]
  },
  {
   "cell_type": "code",
   "execution_count": 7,
   "metadata": {},
   "outputs": [],
   "source": [
    "def get_symbolic_transition_matrix(num_of_servers, threshold, system_capacity, parking_capacity):\n",
    "\n",
    "    Lambda = sym.symbols('Lambda')\n",
    "    lambda_o = sym.symbols('lambda')**sym.symbols('o')\n",
    "    lambda_a = sym.symbols('lambda')**sym.symbols('A')\n",
    "    mu = sym.symbols('mu')\n",
    "\n",
    "    all_states = build_states(threshold, system_capacity, parking_capacity)\n",
    "    Q = sym.zeros(len(all_states))\n",
    "\n",
    "    for (i, origin_state), (j, destination_state) in itertools.product(enumerate(all_states), repeat=2):\n",
    "        Q[i, j] = get_symbolic_transition_matrix_entry(origin=origin_state, destination=destination_state, threshold=threshold, lambda_a=lambda_a, lambda_o=lambda_o, Lambda=Lambda, mu=mu, num_of_servers=num_of_servers)\n",
    "\n",
    "    sum_of_rates = - np.sum(Q, axis=1)\n",
    "    Q = Q + sym.Matrix(np.diag(sum_of_rates))\n",
    "\n",
    "    return Q"
   ]
  },
  {
   "cell_type": "code",
   "execution_count": 8,
   "metadata": {},
   "outputs": [],
   "source": [
    "def get_transition_matrix(lambda_a, lambda_o, mu, num_of_servers, threshold, system_capacity, parking_capacity):\n",
    "\n",
    "    all_states = build_states(threshold, system_capacity, parking_capacity)\n",
    "    size = len(all_states)\n",
    "    Q = np.zeros((size, size))\n",
    "\n",
    "    for (i, origin_state), (j, destination_state) in itertools.product(enumerate(all_states), repeat=2):\n",
    "        Q[i, j] = get_transition_matrix_entry(origin=origin_state, destination=destination_state, threshold=threshold, lambda_a=lambda_a, lambda_o=lambda_o, mu=mu, num_of_servers=num_of_servers)\n",
    "    sum_of_rates = np.sum(Q, axis=1)\n",
    "    np.fill_diagonal(Q, -sum_of_rates)    \n",
    "    return Q"
   ]
  },
  {
   "cell_type": "markdown",
   "metadata": {},
   "source": [
    "# Reviewing the model and transition matrix"
   ]
  },
  {
   "cell_type": "code",
   "execution_count": 9,
   "metadata": {},
   "outputs": [],
   "source": [
    "lambda_a = 0.4\n",
    "lambda_o = 0.3\n",
    "mu = 0.4\n",
    "\n",
    "num_of_servers = 2\n",
    "threshold = 1\n",
    "system_capacity = 4\n",
    "parking_capacity = 1"
   ]
  },
  {
   "cell_type": "code",
   "execution_count": 10,
   "metadata": {},
   "outputs": [],
   "source": [
    "Q_sym = get_symbolic_transition_matrix(num_of_servers, threshold, system_capacity, parking_capacity)\n",
    "all_states = build_states(threshold, system_capacity, parking_capacity)"
   ]
  },
  {
   "cell_type": "code",
   "execution_count": 11,
   "metadata": {},
   "outputs": [
    {
     "data": {
      "image/png": "[encoded data removed]",
      "text/plain": [
       "<Figure size 216x432 with 1 Axes>"
      ]
     },
     "metadata": {},
     "output_type": "display_data"
    }
   ],
   "source": [
    "visualise_ambulance_markov_chain(num_of_servers, threshold, parking_capacity, system_capacity)"
   ]
  },
  {
   "cell_type": "code",
   "execution_count": 12,
   "metadata": {},
   "outputs": [
    {
     "data": {
      "text/plain": [
       "[(0, 0), (0, 1), (1, 1), (0, 2), (1, 2), (0, 3), (1, 3), (0, 4), (1, 4)]"
      ]
     },
     "execution_count": 12,
     "metadata": {},
     "output_type": "execute_result"
    }
   ],
   "source": [
    "all_states"
   ]
  },
  {
   "cell_type": "code",
   "execution_count": 13,
   "metadata": {
    "scrolled": false
   },
   "outputs": [
    {
     "data": {
      "text/latex": [
       "$\\displaystyle \\left[\\begin{matrix}- \\Lambda & \\Lambda & 0 & 0 & 0 & 0 & 0 & 0 & 0\\\\\\mu & - \\lambda^{A} - \\lambda^{o} - \\mu & \\lambda^{A} & \\lambda^{o} & 0 & 0 & 0 & 0 & 0\\\\0 & \\mu & - \\lambda^{o} - \\mu & 0 & \\lambda^{o} & 0 & 0 & 0 & 0\\\\0 & 2 \\mu & 0 & - \\lambda^{A} - \\lambda^{o} - 2 \\mu & \\lambda^{A} & \\lambda^{o} & 0 & 0 & 0\\\\0 & 0 & 2 \\mu & 0 & - \\lambda^{o} - 2 \\mu & 0 & \\lambda^{o} & 0 & 0\\\\0 & 0 & 0 & 2 \\mu & 0 & - \\lambda^{A} - \\lambda^{o} - 2 \\mu & \\lambda^{A} & \\lambda^{o} & 0\\\\0 & 0 & 0 & 0 & 2 \\mu & 0 & - \\lambda^{o} - 2 \\mu & 0 & \\lambda^{o}\\\\0 & 0 & 0 & 0 & 0 & 2 \\mu & 0 & - \\lambda^{A} - 2 \\mu & \\lambda^{A}\\\\0 & 0 & 0 & 0 & 0 & 0 & 2 \\mu & 0 & - 2 \\mu\\end{matrix}\\right]$"
      ],
      "text/plain": [
       "Matrix([\n",
       "[-Lambda,                      Lambda,               0,                             0,                 0,                             0,                 0,                 0,         0],\n",
       "[     mu, -lambda**A - lambda**o - mu,       lambda**A,                     lambda**o,                 0,                             0,                 0,                 0,         0],\n",
       "[      0,                          mu, -lambda**o - mu,                             0,         lambda**o,                             0,                 0,                 0,         0],\n",
       "[      0,                        2*mu,               0, -lambda**A - lambda**o - 2*mu,         lambda**A,                     lambda**o,                 0,                 0,         0],\n",
       "[      0,                           0,            2*mu,                             0, -lambda**o - 2*mu,                             0,         lambda**o,                 0,         0],\n",
       "[      0,                           0,               0,                          2*mu,                 0, -lambda**A - lambda**o - 2*mu,         lambda**A,         lambda**o,         0],\n",
       "[      0,                           0,               0,                             0,              2*mu,                             0, -lambda**o - 2*mu,                 0, lambda**o],\n",
       "[      0,                           0,               0,                             0,                 0,                          2*mu,                 0, -lambda**A - 2*mu, lambda**A],\n",
       "[      0,                           0,               0,                             0,                 0,                             0,              2*mu,                 0,     -2*mu]])"
      ]
     },
     "execution_count": 13,
     "metadata": {},
     "output_type": "execute_result"
    }
   ],
   "source": [
    "Q_sym"
   ]
  },
  {
   "cell_type": "markdown",
   "metadata": {},
   "source": [
    "# Building the transition matrix"
   ]
  },
  {
   "cell_type": "code",
   "execution_count": 14,
   "metadata": {},
   "outputs": [],
   "source": [
    "lambda_a = 0.4\n",
    "lambda_o = 0.3\n",
    "mu = 0.05\n",
    "\n",
    "num_of_servers = 8\n",
    "threshold = 6\n",
    "system_capacity = 14\n",
    "parking_capacity = 15"
   ]
  },
  {
   "cell_type": "code",
   "execution_count": 15,
   "metadata": {},
   "outputs": [],
   "source": [
    "Q = get_transition_matrix(lambda_a, lambda_o, mu, num_of_servers, threshold, system_capacity, parking_capacity)"
   ]
  },
  {
   "cell_type": "code",
   "execution_count": 16,
   "metadata": {},
   "outputs": [
    {
     "data": {
      "text/plain": [
       "[(0, 0),\n",
       " (0, 1),\n",
       " (0, 2),\n",
       " (0, 3),\n",
       " (0, 4),\n",
       " (0, 5),\n",
       " (0, 6),\n",
       " (1, 6),\n",
       " (2, 6),\n",
       " (3, 6),\n",
       " (4, 6),\n",
       " (5, 6),\n",
       " (6, 6),\n",
       " (7, 6),\n",
       " (8, 6),\n",
       " (9, 6),\n",
       " (10, 6),\n",
       " (11, 6),\n",
       " (12, 6),\n",
       " (13, 6),\n",
       " (14, 6),\n",
       " (15, 6),\n",
       " (0, 7),\n",
       " (1, 7),\n",
       " (2, 7),\n",
       " (3, 7),\n",
       " (4, 7),\n",
       " (5, 7),\n",
       " (6, 7),\n",
       " (7, 7),\n",
       " (8, 7),\n",
       " (9, 7),\n",
       " (10, 7),\n",
       " (11, 7),\n",
       " (12, 7),\n",
       " (13, 7),\n",
       " (14, 7),\n",
       " (15, 7),\n",
       " (0, 8),\n",
       " (1, 8),\n",
       " (2, 8),\n",
       " (3, 8),\n",
       " (4, 8),\n",
       " (5, 8),\n",
       " (6, 8),\n",
       " (7, 8),\n",
       " (8, 8),\n",
       " (9, 8),\n",
       " (10, 8),\n",
       " (11, 8),\n",
       " (12, 8),\n",
       " (13, 8),\n",
       " (14, 8),\n",
       " (15, 8),\n",
       " (0, 9),\n",
       " (1, 9),\n",
       " (2, 9),\n",
       " (3, 9),\n",
       " (4, 9),\n",
       " (5, 9),\n",
       " (6, 9),\n",
       " (7, 9),\n",
       " (8, 9),\n",
       " (9, 9),\n",
       " (10, 9),\n",
       " (11, 9),\n",
       " (12, 9),\n",
       " (13, 9),\n",
       " (14, 9),\n",
       " (15, 9),\n",
       " (0, 10),\n",
       " (1, 10),\n",
       " (2, 10),\n",
       " (3, 10),\n",
       " (4, 10),\n",
       " (5, 10),\n",
       " (6, 10),\n",
       " (7, 10),\n",
       " (8, 10),\n",
       " (9, 10),\n",
       " (10, 10),\n",
       " (11, 10),\n",
       " (12, 10),\n",
       " (13, 10),\n",
       " (14, 10),\n",
       " (15, 10),\n",
       " (0, 11),\n",
       " (1, 11),\n",
       " (2, 11),\n",
       " (3, 11),\n",
       " (4, 11),\n",
       " (5, 11),\n",
       " (6, 11),\n",
       " (7, 11),\n",
       " (8, 11),\n",
       " (9, 11),\n",
       " (10, 11),\n",
       " (11, 11),\n",
       " (12, 11),\n",
       " (13, 11),\n",
       " (14, 11),\n",
       " (15, 11),\n",
       " (0, 12),\n",
       " (1, 12),\n",
       " (2, 12),\n",
       " (3, 12),\n",
       " (4, 12),\n",
       " (5, 12),\n",
       " (6, 12),\n",
       " (7, 12),\n",
       " (8, 12),\n",
       " (9, 12),\n",
       " (10, 12),\n",
       " (11, 12),\n",
       " (12, 12),\n",
       " (13, 12),\n",
       " (14, 12),\n",
       " (15, 12),\n",
       " (0, 13),\n",
       " (1, 13),\n",
       " (2, 13),\n",
       " (3, 13),\n",
       " (4, 13),\n",
       " (5, 13),\n",
       " (6, 13),\n",
       " (7, 13),\n",
       " (8, 13),\n",
       " (9, 13),\n",
       " (10, 13),\n",
       " (11, 13),\n",
       " (12, 13),\n",
       " (13, 13),\n",
       " (14, 13),\n",
       " (15, 13),\n",
       " (0, 14),\n",
       " (1, 14),\n",
       " (2, 14),\n",
       " (3, 14),\n",
       " (4, 14),\n",
       " (5, 14),\n",
       " (6, 14),\n",
       " (7, 14),\n",
       " (8, 14),\n",
       " (9, 14),\n",
       " (10, 14),\n",
       " (11, 14),\n",
       " (12, 14),\n",
       " (13, 14),\n",
       " (14, 14),\n",
       " (15, 14)]"
      ]
     },
     "execution_count": 16,
     "metadata": {},
     "output_type": "execute_result"
    }
   ],
   "source": [
    "all_states = build_states(threshold, system_capacity, parking_capacity)\n",
    "all_states"
   ]
  },
  {
   "cell_type": "code",
   "execution_count": 17,
   "metadata": {
    "scrolled": false
   },
   "outputs": [
    {
     "data": {
      "text/plain": [
       "array([[-0.7 ,  0.7 ,  0.  , ...,  0.  ,  0.  ,  0.  ],\n",
       "       [ 0.05, -0.75,  0.7 , ...,  0.  ,  0.  ,  0.  ],\n",
       "       [ 0.  ,  0.1 , -0.8 , ...,  0.  ,  0.  ,  0.  ],\n",
       "       ...,\n",
       "       [ 0.  ,  0.  ,  0.  , ..., -0.8 ,  0.4 ,  0.  ],\n",
       "       [ 0.  ,  0.  ,  0.  , ...,  0.  , -0.8 ,  0.4 ],\n",
       "       [ 0.  ,  0.  ,  0.  , ...,  0.  ,  0.  , -0.4 ]])"
      ]
     },
     "execution_count": 17,
     "metadata": {},
     "output_type": "execute_result"
    }
   ],
   "source": [
    "# np.set_printoptions(threshold=sys.maxsize)\n",
    "np.set_printoptions(threshold=0)\n",
    "Q"
   ]
  },
  {
   "cell_type": "code",
   "execution_count": null,
   "metadata": {},
   "outputs": [],
   "source": []
  },
  {
   "cell_type": "markdown",
   "metadata": {},
   "source": [
    "# Steady State"
   ]
  },
  {
   "cell_type": "code",
   "execution_count": 18,
   "metadata": {},
   "outputs": [],
   "source": [
    "def is_steady_state(state, Q):\n",
    "    return np.allclose(np.dot(state, Q), 0)"
   ]
  },
  {
   "cell_type": "code",
   "execution_count": 22,
   "metadata": {},
   "outputs": [],
   "source": [
    "def get_steady_state(Q, max_t=100, number_of_timepoints=1000, method=0):\n",
    "    \n",
    "    if method == 1:\n",
    "        def derivative(x, t):\n",
    "            return np.dot(x, Q)\n",
    "\n",
    "        dimension = Q.shape[0]\n",
    "        state = np.ones(dimension) / dimension\n",
    "        while not is_steady_state(state=state, Q=Q):\n",
    "            t_span = np.linspace(0, max_t, number_of_timepoints)\n",
    "            sol = scipy.integrate.odeint(func=derivative, y0=state, t=t_span)\n",
    "            state = sol[-1]\n",
    "        return state\n",
    "\n",
    "    if method == 2:\n",
    "        def derivative(t, x):\n",
    "            return np.dot(x, Q)\n",
    "\n",
    "        dimension = Q.shape[0]\n",
    "        state = np.ones(dimension) / dimension\n",
    "        while not is_steady_state(state=state, Q=Q):\n",
    "            t_span = np.linspace(0, max_t, number_of_timepoints)\n",
    "            sol = scipy.integrate.solve_ivp(fun=derivative, y0=state, t_span=t_span)\n",
    "            state = sol.y[:,-1]\n",
    "        return state"
   ]
  },
  {
   "cell_type": "code",
   "execution_count": 23,
   "metadata": {},
   "outputs": [
    {
     "name": "stdout",
     "output_type": "stream",
     "text": [
      "True\n",
      "1.0000000000000067\n"
     ]
    }
   ],
   "source": [
    "sol1 = get_steady_state(Q, method=1)\n",
    "print(is_steady_state(sol1, Q))\n",
    "print(np.sum(sol1))"
   ]
  },
  {
   "cell_type": "code",
   "execution_count": 24,
   "metadata": {},
   "outputs": [
    {
     "name": "stdout",
     "output_type": "stream",
     "text": [
      "True\n",
      "1.0000000000000047\n"
     ]
    }
   ],
   "source": [
    "sol2 = get_steady_state(Q, method=2)\n",
    "print(is_steady_state(sol2, Q))\n",
    "print(np.sum(sol2))"
   ]
  },
  {
   "cell_type": "code",
   "execution_count": null,
   "metadata": {},
   "outputs": [],
   "source": []
  },
  {
   "cell_type": "markdown",
   "metadata": {},
   "source": [
    "# Dummy Cells"
   ]
  },
  {
   "cell_type": "code",
   "execution_count": null,
   "metadata": {},
   "outputs": [],
   "source": []
  }
 ],
 "metadata": {
  "kernelspec": {
   "display_name": "Python 3.8.1 64-bit ('AmbulanceGame': conda)",
   "language": "python",
   "name": "python38164bitambulancegameconda313376b6b30b4ff1a63b667ba23e8abb"
  },
  "language_info": {
   "codemirror_mode": {
    "name": "ipython",
    "version": 3
   },
   "file_extension": ".py",
   "mimetype": "text/x-python",
   "name": "python",
   "nbconvert_exporter": "python",
   "pygments_lexer": "ipython3",
   "version": "3.8.1"
  }
 },
 "nbformat": 4,
 "nbformat_minor": 4
}
