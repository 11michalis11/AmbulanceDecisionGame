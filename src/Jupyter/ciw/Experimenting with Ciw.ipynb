{
 "cells": [
  {
   "cell_type": "code",
   "execution_count": 2,
   "metadata": {},
   "outputs": [],
   "source": [
    "import numpy as np\n",
    "import matplotlib.pyplot as plt\n",
    "import random\n",
    "import timeit\n",
    "import ciw\n",
    "import collections"
   ]
  },
  {
   "cell_type": "markdown",
   "metadata": {},
   "source": [
    "# Define the model"
   ]
  },
  {
   "cell_type": "markdown",
   "metadata": {},
   "source": [
    "![model](imgs/visualised_model.png)"
   ]
  },
  {
   "cell_type": "code",
   "execution_count": 3,
   "metadata": {},
   "outputs": [],
   "source": [
    "def build_model(lambda_a, lambda_o, mu, total_capacity):\n",
    "    \"\"\" Builds the required ciw network\n",
    "\n",
    "    Parameters\n",
    "    ----------\n",
    "    lambda_a : [float]\n",
    "        [Arrival rate of ambulance patients]\n",
    "    lambda_o : [float]\n",
    "        [Arrival rate of other patients]\n",
    "    mu : [float]\n",
    "        [Service rate of hospital]\n",
    "    total_capacity : [integer]\n",
    "        [The total capacity of the hospital]\n",
    "    \"\"\"          \n",
    "    model = ciw.create_network(\n",
    "        arrival_distributions = [ciw.dists.Exponential(lambda_a),\n",
    "                                 ciw.dists.Exponential(lambda_o)],\n",
    "        service_distributions = [ciw.dists.Deterministic(0),\n",
    "                                 ciw.dists.Exponential(mu)],\n",
    "        routing=[[0.0, 1.0],\n",
    "                 [0.0, 0.0]],\n",
    "        number_of_servers=[float('inf'), total_capacity]\n",
    "    )\n",
    "    return model"
   ]
  },
  {
   "cell_type": "markdown",
   "metadata": {},
   "source": [
    "# Inherit 'ciw.Node' class to block individuals of Node 1"
   ]
  },
  {
   "cell_type": "markdown",
   "metadata": {},
   "source": [
    "![smart_model](imgs/visualised_smart_model.png)"
   ]
  },
  {
   "cell_type": "code",
   "execution_count": 4,
   "metadata": {},
   "outputs": [],
   "source": [
    "def build_custom_node(threshold=8):\n",
    "    \"\"\"Build a custome node to replace the default ciw.Node\n",
    "    \n",
    "    Parameters\n",
    "    ----------\n",
    "    threshold : [int], optional\n",
    "        [The capacity threshold to be used by the method, by default 8]\n",
    "    \n",
    "    Returns\n",
    "    -------\n",
    "    [class]\n",
    "        [A custom node class that inherits from ciw.Node]\n",
    "    \"\"\"    \n",
    "    class CustomNode(ciw.Node):\n",
    "        def finish_service(self):\n",
    "            \"\"\"\n",
    "            The next individual finishes service:\n",
    "              - finds the individual to finish service\n",
    "              - check if they need to change class\n",
    "              - find their next node\n",
    "              - release the individual if there is capacity at destination,\n",
    "                otherwise cause blockage\n",
    "              - note that blockage also occurs when we are at node 1 and the \n",
    "                number of individuals on node 2 are more than the 'thershold'\n",
    "            \"\"\"\n",
    "            next_individual, next_individual_index = self.find_next_individual()\n",
    "            self.change_customer_class(next_individual)\n",
    "            next_node = self.next_node(next_individual)\n",
    "            next_individual.destination = next_node.id_number\n",
    "\n",
    "            if not np.isinf(self.c):\n",
    "                next_individual.server.next_end_service_date = float('Inf')\n",
    "            \n",
    "            blockage = (next_node.number_of_individuals > threshold and self.id_number == 1)\n",
    "            if (next_node.number_of_individuals < next_node.node_capacity) and not blockage:\n",
    "                self.release(next_individual_index, next_node)\n",
    "                # print(self.id_number, next_node.number_of_individuals)\n",
    "            else:\n",
    "                self.block_individual(next_individual, next_node)\n",
    "                # print(next_node.number_of_individuals)\n",
    "    return CustomNode"
   ]
  },
  {
   "cell_type": "markdown",
   "metadata": {},
   "source": [
    "# Simulate the problem"
   ]
  },
  {
   "cell_type": "code",
   "execution_count": 5,
   "metadata": {},
   "outputs": [],
   "source": [
    "def simulate_model(lambda_a, lambda_o, mu, total_capacity, threshold = 8, seed_num = None):\n",
    "    \"\"\"Simulate the model\n",
    "    \n",
    "    Parameters\n",
    "    ----------\n",
    "    seed_num : [float], optional\n",
    "        [A seed number in order to be able to replicate results], by default random.random()\n",
    "    \n",
    "    Returns\n",
    "    -------\n",
    "    [object]\n",
    "        [An object that contains all simulation records]\n",
    "    \"\"\"    \n",
    "    if seed_num == None:\n",
    "        seed_num = random.random()\n",
    "        \n",
    "    model = build_model(lambda_a, lambda_o, mu, total_capacity)\n",
    "    node = build_custom_node(threshold)\n",
    "\n",
    "    ciw.seed(seed_num)\n",
    "    \n",
    "    simulation = ciw.Simulation(model, node_class=node)\n",
    "    simulation.simulate_until_max_time(1440)\n",
    "    \n",
    "    return simulation"
   ]
  },
  {
   "cell_type": "code",
   "execution_count": 52,
   "metadata": {},
   "outputs": [
    {
     "data": {
      "text/plain": [
       "0.4184074029967902"
      ]
     },
     "execution_count": 52,
     "metadata": {},
     "output_type": "execute_result"
    }
   ],
   "source": [
    "lambda_a = 0.1       # Ambulance: 6 arrivals per hour\n",
    "lambda_o = 0.05      # Others: 3 arrivals per hour\n",
    "mu = 0.05            # Service time: 3 services per hour\n",
    "total_capacity = 8   # Number of servers: 8 servers\n",
    "threshold = 4        # Threshold of accepting ambulance patients\n",
    "\n",
    "records = simulate_model(lambda_a, lambda_o, mu, total_capacity, threshold, 1).get_all_records()\n",
    "blocks = [b.time_blocked for b in records]\n",
    "np.mean(blocks)"
   ]
  },
  {
   "cell_type": "markdown",
   "metadata": {},
   "source": [
    "# Timing Experiment 1"
   ]
  },
  {
   "cell_type": "code",
   "execution_count": 11,
   "metadata": {},
   "outputs": [],
   "source": [
    "def time_for_different_number_of_trials(num_of_trials):\n",
    "    times = []\n",
    "    for trials in range(num_of_trials):\n",
    "        duration_object = timeit.Timer(\"simulate_model(0.15, 0.2, 0.05, 8, 4)\", \n",
    "                          \"from __main__ import simulate_model\")\n",
    "        duration_for_trial = duration_object.timeit(number=trials)\n",
    "        times.append(duration_for_trial)\n",
    "        #print(trials, duration_for_trial)\n",
    "            \n",
    "    time_plot = plt.plot(times)\n",
    "    time_plot = plt.xlabel(\"Number of Trials\")\n",
    "    time_plot = plt.ylabel(\"Time in seconds\")\n",
    "    \n",
    "    return [times,time_plot]"
   ]
  },
  {
   "cell_type": "code",
   "execution_count": 17,
   "metadata": {},
   "outputs": [
    {
     "data": {
      "image/png": "[encoded data removed]",
      "text/plain": [
       "<Figure size 432x288 with 1 Axes>"
      ]
     },
     "metadata": {
      "needs_background": "light"
     },
     "output_type": "display_data"
    }
   ],
   "source": [
    "times = time_for_different_number_of_trials(100)[0]\n",
    "plt.show()"
   ]
  },
  {
   "cell_type": "markdown",
   "metadata": {},
   "source": [
    "# Timing Experiment 2 - (Confidence Intervals)"
   ]
  },
  {
   "cell_type": "markdown",
   "metadata": {},
   "source": [
    "### Method 1"
   ]
  },
  {
   "cell_type": "code",
   "execution_count": 18,
   "metadata": {},
   "outputs": [],
   "source": [
    "def get_multiple_runs_results(lambda_a, lambda_o, mu, total_capacity, threshold, num_of_trials=10):\n",
    "    \n",
    "    warm_up_time = 100\n",
    "    records = collections.namedtuple('records', 'waiting_times service_times blocking_times')\n",
    "    results = []\n",
    "    \n",
    "    for trial in range(num_of_trials):\n",
    "        simulation = simulate_model(lambda_a, lambda_o, mu, total_capacity, threshold, random.random())\n",
    "        sim_results = simulation.get_all_records()\n",
    "\n",
    "        waiting = [r.waiting_time for r in sim_results if r.arrival_date > warm_up_time]\n",
    "        serving = [r.service_time for r in sim_results if r.arrival_date > warm_up_time]\n",
    "        blocking = [r.time_blocked for r in sim_results if r.arrival_date > warm_up_time]\n",
    "\n",
    "        results.append(records(waiting, serving, blocking))\n",
    "        \n",
    "    return results"
   ]
  },
  {
   "cell_type": "code",
   "execution_count": 19,
   "metadata": {},
   "outputs": [],
   "source": [
    "def waiting_time_confidence_intervals_for_different_number_of_trials(num_of_trials = 10):\n",
    "\n",
    "    aggregated_waits = [[] for _ in range(num_of_trials)]\n",
    "    results = get_multiple_runs_results(0.15, 0.2, 0.05, 8, 4, num_of_trials)\n",
    "    all_waits = [w.waiting_times for w in results]\n",
    "    \n",
    "    for i in range(len(all_waits)):\n",
    "        for j in range(i):\n",
    "            aggregated_waits[i] += all_waits[j]\n",
    "    \n",
    "    print([len(w) for w in aggregated_waits])\n",
    "    plot = plt.boxplot(aggregated_waits, whis = 1, showfliers = False)\n",
    "\n",
    "    return plot"
   ]
  },
  {
   "cell_type": "code",
   "execution_count": 20,
   "metadata": {},
   "outputs": [
    {
     "name": "stdout",
     "output_type": "stream",
     "text": [
      "[0, 631, 1257, 1981, 2640, 3281, 3960, 4607, 5315, 5934, 6593, 7226, 7867, 8507, 9259, 9916, 10580, 11237, 11893, 12591]\n"
     ]
    },
    {
     "data": {
      "image/png": "[encoded data removed]",
      "text/plain": [
       "<Figure size 432x288 with 1 Axes>"
      ]
     },
     "metadata": {
      "needs_background": "light"
     },
     "output_type": "display_data"
    }
   ],
   "source": [
    "waiting_time_confidence_intervals_for_different_number_of_trials(20)\n",
    "plt.show()"
   ]
  },
  {
   "cell_type": "code",
   "execution_count": null,
   "metadata": {},
   "outputs": [],
   "source": []
  },
  {
   "cell_type": "code",
   "execution_count": null,
   "metadata": {},
   "outputs": [],
   "source": [
    "lambda_a = 0.1\n",
    "lambda_o = 0.05   \n",
    "mu = 0.05 \n",
    "total_capacity = 8 \n",
    "threshold = 8 "
   ]
  },
  {
   "cell_type": "code",
   "execution_count": 50,
   "metadata": {},
   "outputs": [
    {
     "name": "stdout",
     "output_type": "stream",
     "text": [
      "0.0\n",
      "11.889336020467518\n",
      "0.5859700549626834\n"
     ]
    }
   ],
   "source": [
    "results = get_multiple_runs_results(lambda_a, lambda_o, mu, total_capacity, 4, 1)\n",
    "\n",
    "print(np.mean([np.mean(w.waiting_times) for w in results]))\n",
    "print(np.mean([np.mean(s.service_times) for s in results]))\n",
    "print(np.mean([np.mean(b.blocking_times) for b in results]))"
   ]
  },
  {
   "cell_type": "markdown",
   "metadata": {},
   "source": [
    "# Results of the model"
   ]
  },
  {
   "cell_type": "code",
   "execution_count": 24,
   "metadata": {},
   "outputs": [],
   "source": [
    "lambda_a = 0.1\n",
    "lambda_o = 0.05   \n",
    "mu = 0.05 \n",
    "total_capacity = 8 \n",
    "threshold = 8        "
   ]
  },
  {
   "cell_type": "code",
   "execution_count": 25,
   "metadata": {},
   "outputs": [],
   "source": [
    "simulation = simulate_model(lambda_a, lambda_o, mu, total_capacity, threshold, 1)\n",
    "sim_results = simulation.get_all_records()"
   ]
  },
  {
   "cell_type": "code",
   "execution_count": 26,
   "metadata": {},
   "outputs": [
    {
     "data": {
      "text/plain": [
       "0.009549642336239419"
      ]
     },
     "execution_count": 26,
     "metadata": {},
     "output_type": "execute_result"
    }
   ],
   "source": [
    "# Mean Waiting Time\n",
    "waits = [r.waiting_time for r in sim_results]\n",
    "mean_waiting_time = sum(waits) / len(waits)\n",
    "mean_waiting_time"
   ]
  },
  {
   "cell_type": "code",
   "execution_count": 27,
   "metadata": {},
   "outputs": [
    {
     "data": {
      "text/plain": [
       "Counter({1: 152, 2: 224})"
      ]
     },
     "execution_count": 27,
     "metadata": {},
     "output_type": "execute_result"
    }
   ],
   "source": [
    "# Services in each node\n",
    "service_nodes = [r.node for r in sim_results]\n",
    "collections.Counter(service_nodes)"
   ]
  },
  {
   "cell_type": "code",
   "execution_count": 205,
   "metadata": {},
   "outputs": [
    {
     "data": {
      "text/plain": [
       "1.401489260432193"
      ]
     },
     "execution_count": 205,
     "metadata": {},
     "output_type": "execute_result"
    }
   ],
   "source": [
    "# Mean Time Blocked\n",
    "Blocks = [r.time_blocked for r in sim_results]\n",
    "mean_time_blocked = sum(Blocks) / len(Blocks)\n",
    "mean_time_blocked"
   ]
  },
  {
   "cell_type": "code",
   "execution_count": null,
   "metadata": {},
   "outputs": [],
   "source": []
  },
  {
   "cell_type": "code",
   "execution_count": 238,
   "metadata": {},
   "outputs": [],
   "source": []
  },
  {
   "cell_type": "code",
   "execution_count": null,
   "metadata": {},
   "outputs": [],
   "source": []
  },
  {
   "cell_type": "markdown",
   "metadata": {},
   "source": [
    "# Timing Experiment 2 - (Confidence Intervals)"
   ]
  },
  {
   "cell_type": "code",
   "execution_count": null,
   "metadata": {},
   "outputs": [],
   "source": [
    "def waiting_time_confidence_intervals_for_different_number_of_trials(trials_to_be_checked = 10):\n",
    "\n",
    "    all_waiting_times = [[] for _ in range(trials_to_be_checked)]\n",
    "    for number_of_trials in range(trials_to_be_checked):\n",
    "        results = get_multiple_runs_results(0.15, 0.2, 0.05, 8, 4, number_of_trials)\n",
    "        current_waiting_times = [w.waiting_times for w in results]\n",
    "\n",
    "        for wait in range(len(current_waiting_times)):\n",
    "            all_waiting_times[number_of_trials] += current_waiting_times[wait]\n",
    "        \n",
    "    return all_waiting_times\n",
    "\n",
    "demo = waiting_time_confidence_intervals_for_different_number_of_trials(20)\n",
    "\n",
    "plt.boxplot(demo, whis = 1, showfliers = False)\n",
    "plt.show()"
   ]
  },
  {
   "cell_type": "code",
   "execution_count": null,
   "metadata": {},
   "outputs": [],
   "source": []
  },
  {
   "cell_type": "code",
   "execution_count": null,
   "metadata": {},
   "outputs": [],
   "source": []
  },
  {
   "cell_type": "markdown",
   "metadata": {},
   "source": [
    "# Examples for testing"
   ]
  },
  {
   "cell_type": "code",
   "execution_count": 168,
   "metadata": {},
   "outputs": [
    {
     "name": "stdout",
     "output_type": "stream",
     "text": [
      "290\n",
      "1089.854729732795\n",
      "0.0\n"
     ]
    }
   ],
   "source": [
    "ciw.seed(5)\n",
    "Q = ciw.Simulation(build_model(1, 1, 2, 1))\n",
    "\n",
    "Q.simulate_until_max_time(100)\n",
    "records = Q.get_all_records()\n",
    "waits = [r.waiting_time for r in records]\n",
    "blocks = [r.time_blocked for r in records]\n",
    "\n",
    "print(len(records))\n",
    "print(sum(waits))\n",
    "print(sum(blocks))"
   ]
  },
  {
   "cell_type": "code",
   "execution_count": 169,
   "metadata": {},
   "outputs": [
    {
     "name": "stdout",
     "output_type": "stream",
     "text": [
      "290\n",
      "1026.2910789050652\n",
      "66.03415121579033\n"
     ]
    }
   ],
   "source": [
    "ciw.seed(5)\n",
    "Q = ciw.Simulation(build_model(1, 1, 2, 1), node_class=build_custom_node(7))\n",
    "\n",
    "Q.simulate_until_max_time(100)\n",
    "records = Q.get_all_records()\n",
    "waits = [r.waiting_time for r in records]\n",
    "blocks = [r.time_blocked for r in records]\n",
    "\n",
    "print(len(records))\n",
    "print(sum(waits))\n",
    "print(sum(blocks))"
   ]
  },
  {
   "cell_type": "code",
   "execution_count": 170,
   "metadata": {},
   "outputs": [],
   "source": [
    "sim_results = []\n",
    "for i in range(10):\n",
    "    simulation = simulate_model(0.15, 0.2, 0.05, 8, 4, i)\n",
    "    sim_results.append(len(simulation.get_all_records()))"
   ]
  },
  {
   "cell_type": "code",
   "execution_count": 171,
   "metadata": {},
   "outputs": [
    {
     "data": {
      "text/plain": [
       "[705, 647, 712, 747, 681, 738, 699, 724, 744, 700]"
      ]
     },
     "execution_count": 171,
     "metadata": {},
     "output_type": "execute_result"
    }
   ],
   "source": [
    "sim_results"
   ]
  },
  {
   "cell_type": "code",
   "execution_count": null,
   "metadata": {},
   "outputs": [],
   "source": []
  },
  {
   "cell_type": "code",
   "execution_count": null,
   "metadata": {},
   "outputs": [],
   "source": []
  },
  {
   "cell_type": "code",
   "execution_count": null,
   "metadata": {},
   "outputs": [],
   "source": []
  },
  {
   "cell_type": "code",
   "execution_count": null,
   "metadata": {},
   "outputs": [],
   "source": []
  },
  {
   "cell_type": "code",
   "execution_count": null,
   "metadata": {},
   "outputs": [],
   "source": []
  },
  {
   "cell_type": "code",
   "execution_count": null,
   "metadata": {},
   "outputs": [],
   "source": []
  }
 ],
 "metadata": {
  "kernelspec": {
   "display_name": "Python 3.7.3 64-bit ('micha': virtualenv)",
   "language": "python",
   "name": "python37364bitmichavirtualenv142dd739e1264a2888e2d830f0760f67"
  },
  "language_info": {
   "codemirror_mode": {
    "name": "ipython",
    "version": 3
   },
   "file_extension": ".py",
   "mimetype": "text/x-python",
   "name": "python",
   "nbconvert_exporter": "python",
   "pygments_lexer": "ipython3",
   "version": "3.7.3"
  }
 },
 "nbformat": 4,
 "nbformat_minor": 2
}
