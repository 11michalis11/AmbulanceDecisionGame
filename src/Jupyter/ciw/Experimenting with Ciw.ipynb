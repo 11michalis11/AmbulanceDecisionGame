{
 "cells": [
  {
   "cell_type": "code",
   "execution_count": 105,
   "metadata": {},
   "outputs": [],
   "source": [
    "import numpy as np\n",
    "import random\n",
    "import ciw\n",
    "import collections"
   ]
  },
  {
   "cell_type": "markdown",
   "metadata": {},
   "source": [
    "# Define the model"
   ]
  },
  {
   "cell_type": "code",
   "execution_count": 14,
   "metadata": {},
   "outputs": [],
   "source": [
    "def build_model(lambda_a, lambda_o, mu, total_capacity):\n",
    "    model = ciw.create_network(\n",
    "        arrival_distributions = [ciw.dists.Exponential(lambda_a),\n",
    "                             ciw.dists.Exponential(lambda_o)],\n",
    "        service_distributions = [ciw.dists.Deterministic(0),\n",
    "                                 ciw.dists.Exponential(mu)],\n",
    "        routing=[[0.0, 1.0],\n",
    "                 [0.0, 0.0]],\n",
    "        number_of_servers=[float('inf'), total_capacity]\n",
    "    )\n",
    "    return model"
   ]
  },
  {
   "cell_type": "markdown",
   "metadata": {},
   "source": [
    "# Inherit 'ciw.Node' class to block individuals of Node 1"
   ]
  },
  {
   "cell_type": "code",
   "execution_count": 15,
   "metadata": {},
   "outputs": [],
   "source": [
    "def build_custom_node(threshold=7):\n",
    "    class CustomNode(ciw.Node):\n",
    "        def finish_service(self):\n",
    "            \"\"\"\n",
    "            The next individual finishes service:\n",
    "              - finds the individual to finish service\n",
    "              - check if they need to change class\n",
    "              - find their next node\n",
    "              - release the individual if there is capacity at destination,\n",
    "                otherwise cause blockage\n",
    "            \"\"\"\n",
    "            next_individual, next_individual_index = self.find_next_individual()\n",
    "            self.change_customer_class(next_individual)\n",
    "            next_node = self.next_node(next_individual)\n",
    "            next_individual.destination = next_node.id_number\n",
    "\n",
    "            if not np.isinf(self.c):\n",
    "                next_individual.server.next_end_service_date = float('Inf')\n",
    "\n",
    "            blockage = (next_node.number_of_individuals >= threshold and self.id_number == 1)\n",
    "            if (next_node.number_of_individuals < next_node.node_capacity) and not blockage:\n",
    "                self.release(next_individual_index, next_node)\n",
    "            else:\n",
    "                self.block_individual(next_individual, next_node)\n",
    "                \n",
    "    return CustomNode"
   ]
  },
  {
   "cell_type": "markdown",
   "metadata": {},
   "source": [
    "# Simulate the problem"
   ]
  },
  {
   "cell_type": "code",
   "execution_count": 16,
   "metadata": {},
   "outputs": [],
   "source": [
    "def simulate_model(lambda_a, lambda_o, mu, total_capacity, threshold, seed_num = random.random()):\n",
    "    \n",
    "    model = build_model(lambda_a, lambda_o, mu, total_capacity)\n",
    "    node = build_custom_node(threshold)\n",
    "    \n",
    "    ciw.seed(seed_num)\n",
    "    \n",
    "    Simulation = ciw.Simulation(model, node_class=node)\n",
    "    Simulation.simulate_until_max_time(1440)\n",
    "    \n",
    "    return Simulation"
   ]
  },
  {
   "cell_type": "code",
   "execution_count": null,
   "metadata": {},
   "outputs": [],
   "source": []
  },
  {
   "cell_type": "code",
   "execution_count": null,
   "metadata": {},
   "outputs": [],
   "source": []
  },
  {
   "cell_type": "markdown",
   "metadata": {},
   "source": [
    "# Trials"
   ]
  },
  {
   "cell_type": "code",
   "execution_count": null,
   "metadata": {},
   "outputs": [],
   "source": [
    "for trial in range(10):\n",
    "    ciw.seed(trial)\n",
    "    Q = ciw.Simulation(N)\n",
    "    Q.simulate_until_max_time(600)\n",
    "    recs = Q.get_all_records()\n",
    "    num_completed = len([r for r in recs if r.node == 3 and r.arrival_date < 500])\n",
    "    completed_custs.append(num_completed)"
   ]
  },
  {
   "cell_type": "code",
   "execution_count": 110,
   "metadata": {},
   "outputs": [],
   "source": [
    "# def multiple_runs(num_of_trials):\n",
    "num_of_trials = 10\n",
    "warm_up_time = 100\n",
    "\n",
    "waits = []\n",
    "services = []\n",
    "blocks = []\n",
    "for trial in range(num_of_trials):\n",
    "    simulation = simulate_model(lambda_a, lambda_o, mu, total_capacity, threshold, trial)\n",
    "    sim_results = simulation.get_all_records()\n",
    "    \n",
    "    waiting = [r.waiting_time for r in sim_results if r.arrival_date > warm_up_time]\n",
    "    serving = [r.service_time for r in sim_results if r.arrival_date > warm_up_time]\n",
    "    blocking = [r.time_blocked for r in sim_results if r.arrival_date > warm_up_time]\n",
    "    waits.append(waiting)\n",
    "    services.append(serving)\n",
    "    blocks.append(blocking)\n",
    "    "
   ]
  },
  {
   "cell_type": "code",
   "execution_count": 113,
   "metadata": {},
   "outputs": [],
   "source": [
    "records = collections.namedtuple('records', 'waiting_times service_times blocking_times')\n",
    "results = records(waits, services, blocks)\n",
    "\n",
    "print(np.mean([np.mean(w) for w in results.waiting_times]))\n",
    "print(np.mean([np.mean(s) for s in results.service_times]))\n",
    "print(np.mean([np.mean(b) for b in results.blocking_times]))\n",
    "\n",
    "print(np.mean([np.mean(w) for w in waits]))\n",
    "print(np.mean([np.mean(s) for s in services]))\n",
    "print(np.mean([np.mean(b) for b in blocks]))"
   ]
  },
  {
   "cell_type": "code",
   "execution_count": null,
   "metadata": {},
   "outputs": [],
   "source": []
  },
  {
   "cell_type": "code",
   "execution_count": null,
   "metadata": {},
   "outputs": [],
   "source": []
  },
  {
   "cell_type": "code",
   "execution_count": null,
   "metadata": {},
   "outputs": [],
   "source": []
  },
  {
   "cell_type": "code",
   "execution_count": null,
   "metadata": {},
   "outputs": [],
   "source": []
  },
  {
   "cell_type": "code",
   "execution_count": null,
   "metadata": {},
   "outputs": [],
   "source": []
  },
  {
   "cell_type": "code",
   "execution_count": null,
   "metadata": {},
   "outputs": [],
   "source": []
  },
  {
   "cell_type": "markdown",
   "metadata": {},
   "source": [
    "# Results of the model"
   ]
  },
  {
   "cell_type": "code",
   "execution_count": 201,
   "metadata": {},
   "outputs": [],
   "source": [
    "lambda_a = 0.15\n",
    "lambda_o = 0.2\n",
    "mu = 0.05\n",
    "total_capacity = 8\n",
    "threshold = 4"
   ]
  },
  {
   "cell_type": "code",
   "execution_count": 202,
   "metadata": {},
   "outputs": [],
   "source": [
    "simulation = simulate_model(lambda_a, lambda_o, mu, total_capacity, threshold, 1)\n",
    "sim_results = simulation.get_all_records()"
   ]
  },
  {
   "cell_type": "code",
   "execution_count": 203,
   "metadata": {},
   "outputs": [
    {
     "data": {
      "text/plain": [
       "2.9666802537799954"
      ]
     },
     "execution_count": 203,
     "metadata": {},
     "output_type": "execute_result"
    }
   ],
   "source": [
    "# Mean Waiting Time\n",
    "waits = [r.waiting_time for r in sim_results]\n",
    "mean_waiting_time = sum(waits) / len(waits)\n",
    "mean_waiting_time"
   ]
  },
  {
   "cell_type": "code",
   "execution_count": 204,
   "metadata": {},
   "outputs": [
    {
     "data": {
      "text/plain": [
       "Counter({1: 181, 2: 466})"
      ]
     },
     "execution_count": 204,
     "metadata": {},
     "output_type": "execute_result"
    }
   ],
   "source": [
    "# Services in each node\n",
    "service_nodes = [r.node for r in sim_results]\n",
    "collections.Counter(service_nodes)"
   ]
  },
  {
   "cell_type": "code",
   "execution_count": 205,
   "metadata": {},
   "outputs": [
    {
     "data": {
      "text/plain": [
       "1.401489260432193"
      ]
     },
     "execution_count": 205,
     "metadata": {},
     "output_type": "execute_result"
    }
   ],
   "source": [
    "# Mean Time Blocked\n",
    "Blocks = [r.time_blocked for r in sim_results]\n",
    "mean_time_blocked = sum(Blocks) / len(Blocks)\n",
    "mean_time_blocked"
   ]
  },
  {
   "cell_type": "code",
   "execution_count": null,
   "metadata": {},
   "outputs": [],
   "source": []
  },
  {
   "cell_type": "code",
   "execution_count": 238,
   "metadata": {},
   "outputs": [],
   "source": []
  },
  {
   "cell_type": "code",
   "execution_count": null,
   "metadata": {},
   "outputs": [],
   "source": []
  },
  {
   "cell_type": "code",
   "execution_count": null,
   "metadata": {},
   "outputs": [],
   "source": []
  },
  {
   "cell_type": "code",
   "execution_count": null,
   "metadata": {},
   "outputs": [],
   "source": []
  },
  {
   "cell_type": "code",
   "execution_count": null,
   "metadata": {},
   "outputs": [],
   "source": []
  },
  {
   "cell_type": "code",
   "execution_count": null,
   "metadata": {},
   "outputs": [],
   "source": []
  },
  {
   "cell_type": "code",
   "execution_count": null,
   "metadata": {},
   "outputs": [],
   "source": []
  },
  {
   "cell_type": "code",
   "execution_count": null,
   "metadata": {},
   "outputs": [],
   "source": []
  },
  {
   "cell_type": "code",
   "execution_count": null,
   "metadata": {},
   "outputs": [],
   "source": []
  },
  {
   "cell_type": "markdown",
   "metadata": {},
   "source": [
    "# Random Examples for tests"
   ]
  },
  {
   "cell_type": "code",
   "execution_count": 231,
   "metadata": {},
   "outputs": [
    {
     "name": "stdout",
     "output_type": "stream",
     "text": [
      "290\n",
      "1089.854729732795\n",
      "0.0\n"
     ]
    }
   ],
   "source": [
    "ciw.seed(5)\n",
    "Q = ciw.Simulation(build_model(1, 1, 2, 1))\n",
    "\n",
    "Q.simulate_until_max_time(100)\n",
    "records = Q.get_all_records()\n",
    "waits = [r.waiting_time for r in records]\n",
    "blocks = [r.time_blocked for r in records]\n",
    "\n",
    "print(len(records))\n",
    "print(sum(waits))\n",
    "print(sum(blocks))"
   ]
  },
  {
   "cell_type": "code",
   "execution_count": 233,
   "metadata": {},
   "outputs": [
    {
     "name": "stdout",
     "output_type": "stream",
     "text": [
      "290\n",
      "1026.2910789050652\n",
      "66.03415121579033\n"
     ]
    }
   ],
   "source": [
    "ciw.seed(5)\n",
    "Q = ciw.Simulation(build_model(1, 1, 2, 1), node_class=build_custom_node(7))\n",
    "\n",
    "Q.simulate_until_max_time(100)\n",
    "records = Q.get_all_records()\n",
    "waits = [r.waiting_time for r in records]\n",
    "blocks = [r.time_blocked for r in records]\n",
    "\n",
    "print(len(records))\n",
    "print(sum(waits))\n",
    "print(sum(blocks))"
   ]
  },
  {
   "cell_type": "code",
   "execution_count": 260,
   "metadata": {},
   "outputs": [],
   "source": [
    "sim_results = []\n",
    "for i in range(10):\n",
    "    simulation = simulate_model(0.15, 0.2, 0.05, 8, 4, i)\n",
    "    sim_results.append(len(simulation.get_all_records()))"
   ]
  },
  {
   "cell_type": "code",
   "execution_count": 261,
   "metadata": {},
   "outputs": [
    {
     "data": {
      "text/plain": [
       "[705, 647, 712, 747, 681, 738, 699, 724, 744, 700]"
      ]
     },
     "execution_count": 261,
     "metadata": {},
     "output_type": "execute_result"
    }
   ],
   "source": [
    "sim_results"
   ]
  },
  {
   "cell_type": "code",
   "execution_count": null,
   "metadata": {},
   "outputs": [],
   "source": []
  }
 ],
 "metadata": {
  "kernelspec": {
   "display_name": "Python 3.7.3 64-bit ('micha': virtualenv)",
   "language": "python",
   "name": "python37364bitmichavirtualenv142dd739e1264a2888e2d830f0760f67"
  },
  "language_info": {
   "codemirror_mode": {
    "name": "ipython",
    "version": 3
   },
   "file_extension": ".py",
   "mimetype": "text/x-python",
   "name": "python",
   "nbconvert_exporter": "python",
   "pygments_lexer": "ipython3",
   "version": "3.7.3"
  }
 },
 "nbformat": 4,
 "nbformat_minor": 2
}
