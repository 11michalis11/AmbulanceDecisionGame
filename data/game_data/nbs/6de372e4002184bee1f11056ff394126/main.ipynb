{
 "cells": [
  {
   "cell_type": "code",
   "execution_count": 1,
   "metadata": {},
   "outputs": [],
   "source": [
    "import pathlib\n",
    "import sys\n",
    "\n",
    "import ambulance_game as abg"
   ]
  },
  {
   "cell_type": "code",
   "execution_count": 2,
   "metadata": {},
   "outputs": [],
   "source": [
    "relative_path = pathlib.Path.cwd().parent\n",
    "sys.path.insert(0, relative_path.as_posix())\n",
    "from main import (\n",
    "    get_path_of_experiment,\n",
    "    get_parameters,\n",
    "    get_matrices,\n",
    "    get_lemke_howson_outcome,\n",
    "    get_fictitious_play_outcome,\n",
    "    get_stochastic_fictitious_play_outcome,\n",
    "    get_performance_measure_for_given_strategies,\n",
    "    find_best_performance_measure,\n",
    "    find_worst_nash_equilibrium_measure,\n",
    "    get_price_of_anarchy,\n",
    ")"
   ]
  },
  {
   "cell_type": "markdown",
   "metadata": {},
   "source": [
    "# Parameters"
   ]
  },
  {
   "cell_type": "code",
   "execution_count": 3,
   "metadata": {},
   "outputs": [
    {
     "output_type": "execute_result",
     "data": {
      "text/plain": [
       "{'alpha': 0.35000000000000003,\n",
       " 'buffer_capacity_1': 1,\n",
       " 'buffer_capacity_2': 8,\n",
       " 'lambda_1_1': 0.33202952007732955,\n",
       " 'lambda_1_2': 21.485754332120408,\n",
       " 'lambda_2': 0.1,\n",
       " 'mu_1': 0.42057072543128415,\n",
       " 'mu_2': 4.8598730036939015,\n",
       " 'num_of_servers_1': 5,\n",
       " 'num_of_servers_2': 7,\n",
       " 'system_capacity_1': 8,\n",
       " 'system_capacity_2': 7,\n",
       " 'target': 10.0}"
      ]
     },
     "metadata": {},
     "execution_count": 3
    }
   ],
   "source": [
    "parameters = get_parameters()\n",
    "parameters"
   ]
  },
  {
   "cell_type": "markdown",
   "metadata": {},
   "source": [
    "# Matrices"
   ]
  },
  {
   "cell_type": "code",
   "execution_count": 4,
   "metadata": {},
   "outputs": [
    {
     "output_type": "execute_result",
     "data": {
      "text/plain": [
       "array([[1.        , 0.        , 0.        , 0.        , 0.        ,\n",
       "        0.        , 0.        ],\n",
       "       [1.        , 1.        , 0.29791094, 0.        , 0.        ,\n",
       "        0.        , 0.        ],\n",
       "       [1.        , 1.        , 1.        , 1.        , 0.0165745 ,\n",
       "        0.        , 0.        ],\n",
       "       [1.        , 1.        , 1.        , 1.        , 1.        ,\n",
       "        0.85855447, 0.        ],\n",
       "       [1.        , 1.        , 1.        , 1.        , 1.        ,\n",
       "        1.        , 0.89297584],\n",
       "       [1.        , 1.        , 1.        , 1.        , 1.        ,\n",
       "        1.        , 1.        ],\n",
       "       [1.        , 1.        , 1.        , 1.        , 1.        ,\n",
       "        1.        , 1.        ],\n",
       "       [1.        , 1.        , 1.        , 1.        , 1.        ,\n",
       "        1.        , 1.        ]])"
      ]
     },
     "metadata": {},
     "execution_count": 4
    }
   ],
   "source": [
    "R, A, B = get_matrices()\n",
    "R"
   ]
  },
  {
   "cell_type": "code",
   "execution_count": 5,
   "metadata": {},
   "outputs": [
    {
     "output_type": "execute_result",
     "data": {
      "text/plain": [
       "array([[-0.00123085, -0.00123085, -0.00123085, -0.00123085, -0.00123085,\n",
       "        -0.00123085, -0.00123085],\n",
       "       [-0.00123077, -0.00123077, -0.00123083, -0.00123085, -0.00123085,\n",
       "        -0.00123085, -0.00123085],\n",
       "       [-0.00123065, -0.00123065, -0.00123065, -0.00123065, -0.00123085,\n",
       "        -0.00123085, -0.00123085],\n",
       "       [-0.00123047, -0.00123047, -0.00123047, -0.00123047, -0.00123047,\n",
       "        -0.00123053, -0.00123085],\n",
       "       [-0.00123024, -0.00123024, -0.00123024, -0.00123024, -0.00123024,\n",
       "        -0.00123024, -0.00123032],\n",
       "       [-0.00122993, -0.00122993, -0.00122993, -0.00122993, -0.00122993,\n",
       "        -0.00122993, -0.00122993],\n",
       "       [-0.00122985, -0.00122985, -0.00122985, -0.00122985, -0.00122985,\n",
       "        -0.00122985, -0.00122985],\n",
       "       [-0.00122984, -0.00122984, -0.00122984, -0.00122984, -0.00122984,\n",
       "        -0.00122984, -0.00122984]])"
      ]
     },
     "metadata": {},
     "execution_count": 5
    }
   ],
   "source": [
    "A"
   ]
  },
  {
   "cell_type": "code",
   "execution_count": 6,
   "metadata": {},
   "outputs": [
    {
     "output_type": "execute_result",
     "data": {
      "text/plain": [
       "array([[-0.0025, -0.0025, -0.0025, -0.0025, -0.0025, -0.0025, -0.0025],\n",
       "       [-0.0025, -0.0025, -0.0025, -0.0025, -0.0025, -0.0025, -0.0025],\n",
       "       [-0.0025, -0.0025, -0.0025, -0.0025, -0.0025, -0.0025, -0.0025],\n",
       "       [-0.0025, -0.0025, -0.0025, -0.0025, -0.0025, -0.0025, -0.0025],\n",
       "       [-0.0025, -0.0025, -0.0025, -0.0025, -0.0025, -0.0025, -0.0025],\n",
       "       [-0.0025, -0.0025, -0.0025, -0.0025, -0.0025, -0.0025, -0.0025],\n",
       "       [-0.0025, -0.0025, -0.0025, -0.0025, -0.0025, -0.0025, -0.0025],\n",
       "       [-0.0025, -0.0025, -0.0025, -0.0025, -0.0025, -0.0025, -0.0025]])"
      ]
     },
     "metadata": {},
     "execution_count": 6
    }
   ],
   "source": [
    "B"
   ]
  },
  {
   "cell_type": "markdown",
   "metadata": {},
   "source": [
    "# Lemke - Howson"
   ]
  },
  {
   "cell_type": "code",
   "execution_count": 7,
   "metadata": {},
   "outputs": [
    {
     "output_type": "stream",
     "name": "stderr",
     "text": [
      "C:\\Users\\micha\\Anaconda3\\envs\\AmbulanceGame\\lib\\site-packages\\nashpy\\integer_pivoting\\integer_pivoting.py:31: RuntimeWarning: invalid value encountered in true_divide\n",
      "  return np.argmax(tableau[:, column_index] / tableau[:, -1])\n",
      "C:\\Users\\micha\\Anaconda3\\envs\\AmbulanceGame\\lib\\site-packages\\nashpy\\algorithms\\lemke_howson.py:61: RuntimeWarning: invalid value encountered in true_divide\n",
      "  return strategy / sum(strategy)\n",
      "C:\\Users\\micha\\Anaconda3\\envs\\AmbulanceGame\\lib\\site-packages\\nashpy\\algorithms\\lemke_howson.py:132: RuntimeWarning: The Lemke Howson algorithm has returned probability vectors of \n",
      "incorrect shapes. This indicates an error. Your game could be degenerate.\n",
      "  warnings.warn(msg, RuntimeWarning)\n"
     ]
    },
    {
     "output_type": "error",
     "ename": "RuntimeError",
     "evalue": "generator raised StopIteration",
     "traceback": [
      "\u001b[1;31m---------------------------------------------------------------------------\u001b[0m",
      "\u001b[1;31mStopIteration\u001b[0m                             Traceback (most recent call last)",
      "\u001b[1;32m~\\Anaconda3\\envs\\AmbulanceGame\\lib\\site-packages\\nashpy\\game.py\u001b[0m in \u001b[0;36mlemke_howson_enumeration\u001b[1;34m(self)\u001b[0m\n\u001b[0;32m    110\u001b[0m         \u001b[1;32mfor\u001b[0m \u001b[0mlabel\u001b[0m \u001b[1;32min\u001b[0m \u001b[0mrange\u001b[0m\u001b[1;33m(\u001b[0m\u001b[0msum\u001b[0m\u001b[1;33m(\u001b[0m\u001b[0mself\u001b[0m\u001b[1;33m.\u001b[0m\u001b[0mpayoff_matrices\u001b[0m\u001b[1;33m[\u001b[0m\u001b[1;36m0\u001b[0m\u001b[1;33m]\u001b[0m\u001b[1;33m.\u001b[0m\u001b[0mshape\u001b[0m\u001b[1;33m)\u001b[0m\u001b[1;33m)\u001b[0m\u001b[1;33m:\u001b[0m\u001b[1;33m\u001b[0m\u001b[1;33m\u001b[0m\u001b[0m\n\u001b[1;32m--> 111\u001b[1;33m             \u001b[1;32myield\u001b[0m \u001b[0mself\u001b[0m\u001b[1;33m.\u001b[0m\u001b[0mlemke_howson\u001b[0m\u001b[1;33m(\u001b[0m\u001b[0minitial_dropped_label\u001b[0m\u001b[1;33m=\u001b[0m\u001b[0mlabel\u001b[0m\u001b[1;33m)\u001b[0m\u001b[1;33m\u001b[0m\u001b[1;33m\u001b[0m\u001b[0m\n\u001b[0m\u001b[0;32m    112\u001b[0m \u001b[1;33m\u001b[0m\u001b[0m\n",
      "\u001b[1;32m~\\Anaconda3\\envs\\AmbulanceGame\\lib\\site-packages\\nashpy\\game.py\u001b[0m in \u001b[0;36mlemke_howson\u001b[1;34m(self, initial_dropped_label)\u001b[0m\n\u001b[0;32m    138\u001b[0m         \"\"\"\n\u001b[1;32m--> 139\u001b[1;33m         return lemke_howson(\n\u001b[0m\u001b[0;32m    140\u001b[0m             \u001b[1;33m*\u001b[0m\u001b[0mself\u001b[0m\u001b[1;33m.\u001b[0m\u001b[0mpayoff_matrices\u001b[0m\u001b[1;33m,\u001b[0m \u001b[0minitial_dropped_label\u001b[0m\u001b[1;33m=\u001b[0m\u001b[0minitial_dropped_label\u001b[0m\u001b[1;33m\u001b[0m\u001b[1;33m\u001b[0m\u001b[0m\n",
      "\u001b[1;32m~\\Anaconda3\\envs\\AmbulanceGame\\lib\\site-packages\\nashpy\\algorithms\\lemke_howson.py\u001b[0m in \u001b[0;36mlemke_howson\u001b[1;34m(A, B, initial_dropped_label)\u001b[0m\n\u001b[0;32m    113\u001b[0m         entering_label = pivot_tableau(\n\u001b[1;32m--> 114\u001b[1;33m             \u001b[0mnext\u001b[0m\u001b[1;33m(\u001b[0m\u001b[0mtableux\u001b[0m\u001b[1;33m)\u001b[0m\u001b[1;33m,\u001b[0m \u001b[0mnext\u001b[0m\u001b[1;33m(\u001b[0m\u001b[0miter\u001b[0m\u001b[1;33m(\u001b[0m\u001b[0mentering_label\u001b[0m\u001b[1;33m)\u001b[0m\u001b[1;33m)\u001b[0m\u001b[1;33m\u001b[0m\u001b[1;33m\u001b[0m\u001b[0m\n\u001b[0m\u001b[0;32m    115\u001b[0m         )\n",
      "\u001b[1;31mStopIteration\u001b[0m: ",
      "\nThe above exception was the direct cause of the following exception:\n",
      "\u001b[1;31mRuntimeError\u001b[0m                              Traceback (most recent call last)",
      "\u001b[1;32m<ipython-input-7-f201649a399d>\u001b[0m in \u001b[0;36m<module>\u001b[1;34m\u001b[0m\n\u001b[1;32m----> 1\u001b[1;33m \u001b[0mget_lemke_howson_outcome\u001b[0m\u001b[1;33m(\u001b[0m\u001b[1;33m)\u001b[0m\u001b[1;33m\u001b[0m\u001b[1;33m\u001b[0m\u001b[0m\n\u001b[0m",
      "\u001b[1;32mc:/Users/micha/Desktop/PhD/rsch/AmbulanceDecisionGame/data/game_data/nbs\\main.py\u001b[0m in \u001b[0;36mget_lemke_howson_outcome\u001b[1;34m()\u001b[0m\n\u001b[0;32m     86\u001b[0m     \u001b[0m_\u001b[0m\u001b[1;33m,\u001b[0m \u001b[0mA\u001b[0m\u001b[1;33m,\u001b[0m \u001b[0mB\u001b[0m \u001b[1;33m=\u001b[0m \u001b[0mget_matrices\u001b[0m\u001b[1;33m(\u001b[0m\u001b[1;33m)\u001b[0m\u001b[1;33m\u001b[0m\u001b[1;33m\u001b[0m\u001b[0m\n\u001b[0;32m     87\u001b[0m     \u001b[0mgame\u001b[0m \u001b[1;33m=\u001b[0m \u001b[0mnash\u001b[0m\u001b[1;33m.\u001b[0m\u001b[0mGame\u001b[0m\u001b[1;33m(\u001b[0m\u001b[0mA\u001b[0m\u001b[1;33m,\u001b[0m \u001b[0mB\u001b[0m\u001b[1;33m)\u001b[0m\u001b[1;33m\u001b[0m\u001b[1;33m\u001b[0m\u001b[0m\n\u001b[1;32m---> 88\u001b[1;33m     \u001b[0mall_equilibs\u001b[0m \u001b[1;33m=\u001b[0m \u001b[0mtuple\u001b[0m\u001b[1;33m(\u001b[0m\u001b[0mgame\u001b[0m\u001b[1;33m.\u001b[0m\u001b[0mlemke_howson_enumeration\u001b[0m\u001b[1;33m(\u001b[0m\u001b[1;33m)\u001b[0m\u001b[1;33m)\u001b[0m\u001b[1;33m\u001b[0m\u001b[1;33m\u001b[0m\u001b[0m\n\u001b[0m\u001b[0;32m     89\u001b[0m     \u001b[0munique_equilibs\u001b[0m \u001b[1;33m=\u001b[0m \u001b[1;32mNone\u001b[0m\u001b[1;33m\u001b[0m\u001b[1;33m\u001b[0m\u001b[0m\n\u001b[0;32m     90\u001b[0m     \u001b[1;32mfor\u001b[0m \u001b[0mcurrent_equilib\u001b[0m \u001b[1;32min\u001b[0m \u001b[0mall_equilibs\u001b[0m\u001b[1;33m:\u001b[0m\u001b[1;33m\u001b[0m\u001b[1;33m\u001b[0m\u001b[0m\n",
      "\u001b[1;31mRuntimeError\u001b[0m: generator raised StopIteration"
     ]
    }
   ],
   "source": [
    "get_lemke_howson_outcome()"
   ]
  },
  {
   "cell_type": "markdown",
   "metadata": {},
   "source": [
    "# Fictitious Play"
   ]
  },
  {
   "cell_type": "code",
   "execution_count": 8,
   "metadata": {},
   "outputs": [
    {
     "output_type": "execute_result",
     "data": {
      "text/plain": [
       "((array([0.   , 0.001, 0.   , 0.   , 0.   , 0.   , 0.   , 0.999]),\n",
       "  array([0.   , 0.379, 0.   , 0.   , 0.248, 0.   , 0.373])),\n",
       " (array([0.   , 0.   , 0.   , 0.   , 0.001, 0.   , 0.   , 0.999]),\n",
       "  array([0.   , 0.372, 0.   , 0.   , 0.376, 0.   , 0.252])),\n",
       " (array([0.001, 0.   , 0.   , 0.   , 0.   , 0.   , 0.   , 0.999]),\n",
       "  array([0.001, 0.248, 0.   , 0.001, 0.262, 0.   , 0.488])))"
      ]
     },
     "metadata": {},
     "execution_count": 8
    }
   ],
   "source": [
    "get_fictitious_play_outcome(iterations=1000, repetitions=10)"
   ]
  },
  {
   "cell_type": "markdown",
   "metadata": {},
   "source": [
    "# Stochastic Fictitious Play"
   ]
  },
  {
   "cell_type": "code",
   "execution_count": 9,
   "metadata": {},
   "outputs": [
    {
     "output_type": "execute_result",
     "data": {
      "text/plain": [
       "([array([0.12585992, 0.12519471, 0.12216786, 0.12871297, 0.12309844,\n",
       "         0.1262707 , 0.12666663, 0.12202877]),\n",
       "  array([0.14982801, 0.14539858, 0.14356844, 0.13871419, 0.13949263,\n",
       "         0.14463507, 0.13836308])],)"
      ]
     },
     "metadata": {},
     "execution_count": 9
    }
   ],
   "source": [
    "get_stochastic_fictitious_play_outcome(iterations=1000, repetitions=10)"
   ]
  },
  {
   "cell_type": "markdown",
   "metadata": {},
   "source": [
    "# Price of Anarchy"
   ]
  },
  {
   "cell_type": "markdown",
   "metadata": {},
   "source": [
    "## Waiting time\n",
    "$$\n",
    "    PoA_{waiting} = \\frac{\\max_{s \\in E} W(s)}{\\min_{s \\in S} W(s)}\n",
    "$$"
   ]
  },
  {
   "cell_type": "code",
   "execution_count": 10,
   "metadata": {},
   "outputs": [
    {
     "output_type": "error",
     "ename": "RuntimeError",
     "evalue": "generator raised StopIteration",
     "traceback": [
      "\u001b[1;31m---------------------------------------------------------------------------\u001b[0m",
      "\u001b[1;31mStopIteration\u001b[0m                             Traceback (most recent call last)",
      "\u001b[1;32m~\\Anaconda3\\envs\\AmbulanceGame\\lib\\site-packages\\nashpy\\game.py\u001b[0m in \u001b[0;36mlemke_howson_enumeration\u001b[1;34m(self)\u001b[0m\n\u001b[0;32m    110\u001b[0m         \u001b[1;32mfor\u001b[0m \u001b[0mlabel\u001b[0m \u001b[1;32min\u001b[0m \u001b[0mrange\u001b[0m\u001b[1;33m(\u001b[0m\u001b[0msum\u001b[0m\u001b[1;33m(\u001b[0m\u001b[0mself\u001b[0m\u001b[1;33m.\u001b[0m\u001b[0mpayoff_matrices\u001b[0m\u001b[1;33m[\u001b[0m\u001b[1;36m0\u001b[0m\u001b[1;33m]\u001b[0m\u001b[1;33m.\u001b[0m\u001b[0mshape\u001b[0m\u001b[1;33m)\u001b[0m\u001b[1;33m)\u001b[0m\u001b[1;33m:\u001b[0m\u001b[1;33m\u001b[0m\u001b[1;33m\u001b[0m\u001b[0m\n\u001b[1;32m--> 111\u001b[1;33m             \u001b[1;32myield\u001b[0m \u001b[0mself\u001b[0m\u001b[1;33m.\u001b[0m\u001b[0mlemke_howson\u001b[0m\u001b[1;33m(\u001b[0m\u001b[0minitial_dropped_label\u001b[0m\u001b[1;33m=\u001b[0m\u001b[0mlabel\u001b[0m\u001b[1;33m)\u001b[0m\u001b[1;33m\u001b[0m\u001b[1;33m\u001b[0m\u001b[0m\n\u001b[0m\u001b[0;32m    112\u001b[0m \u001b[1;33m\u001b[0m\u001b[0m\n",
      "\u001b[1;32m~\\Anaconda3\\envs\\AmbulanceGame\\lib\\site-packages\\nashpy\\game.py\u001b[0m in \u001b[0;36mlemke_howson\u001b[1;34m(self, initial_dropped_label)\u001b[0m\n\u001b[0;32m    138\u001b[0m         \"\"\"\n\u001b[1;32m--> 139\u001b[1;33m         return lemke_howson(\n\u001b[0m\u001b[0;32m    140\u001b[0m             \u001b[1;33m*\u001b[0m\u001b[0mself\u001b[0m\u001b[1;33m.\u001b[0m\u001b[0mpayoff_matrices\u001b[0m\u001b[1;33m,\u001b[0m \u001b[0minitial_dropped_label\u001b[0m\u001b[1;33m=\u001b[0m\u001b[0minitial_dropped_label\u001b[0m\u001b[1;33m\u001b[0m\u001b[1;33m\u001b[0m\u001b[0m\n",
      "\u001b[1;32m~\\Anaconda3\\envs\\AmbulanceGame\\lib\\site-packages\\nashpy\\algorithms\\lemke_howson.py\u001b[0m in \u001b[0;36mlemke_howson\u001b[1;34m(A, B, initial_dropped_label)\u001b[0m\n\u001b[0;32m    113\u001b[0m         entering_label = pivot_tableau(\n\u001b[1;32m--> 114\u001b[1;33m             \u001b[0mnext\u001b[0m\u001b[1;33m(\u001b[0m\u001b[0mtableux\u001b[0m\u001b[1;33m)\u001b[0m\u001b[1;33m,\u001b[0m \u001b[0mnext\u001b[0m\u001b[1;33m(\u001b[0m\u001b[0miter\u001b[0m\u001b[1;33m(\u001b[0m\u001b[0mentering_label\u001b[0m\u001b[1;33m)\u001b[0m\u001b[1;33m)\u001b[0m\u001b[1;33m\u001b[0m\u001b[1;33m\u001b[0m\u001b[0m\n\u001b[0m\u001b[0;32m    115\u001b[0m         )\n",
      "\u001b[1;31mStopIteration\u001b[0m: ",
      "\nThe above exception was the direct cause of the following exception:\n",
      "\u001b[1;31mRuntimeError\u001b[0m                              Traceback (most recent call last)",
      "\u001b[1;32m<ipython-input-10-2b35f9d68b3e>\u001b[0m in \u001b[0;36m<module>\u001b[1;34m\u001b[0m\n\u001b[1;32m----> 1\u001b[1;33m \u001b[0mget_price_of_anarchy\u001b[0m\u001b[1;33m(\u001b[0m\u001b[0mperformance_measure_function\u001b[0m\u001b[1;33m=\u001b[0m\u001b[0mabg\u001b[0m\u001b[1;33m.\u001b[0m\u001b[0mmarkov\u001b[0m\u001b[1;33m.\u001b[0m\u001b[0mget_mean_waiting_time_using_markov_state_probabilities\u001b[0m\u001b[1;33m)\u001b[0m\u001b[1;33m\u001b[0m\u001b[1;33m\u001b[0m\u001b[0m\n\u001b[0m",
      "\u001b[1;32mc:/Users/micha/Desktop/PhD/rsch/AmbulanceDecisionGame/data/game_data/nbs\\main.py\u001b[0m in \u001b[0;36mget_price_of_anarchy\u001b[1;34m(performance_measure_function)\u001b[0m\n\u001b[0;32m    256\u001b[0m     \u001b[1;31m#     else:\u001b[0m\u001b[1;33m\u001b[0m\u001b[1;33m\u001b[0m\u001b[1;33m\u001b[0m\u001b[0m\n\u001b[0;32m    257\u001b[0m     \u001b[1;31m#         equilibria = get_Lemke_howson_outcome()\u001b[0m\u001b[1;33m\u001b[0m\u001b[1;33m\u001b[0m\u001b[1;33m\u001b[0m\u001b[0m\n\u001b[1;32m--> 258\u001b[1;33m     \u001b[0mequilibria\u001b[0m \u001b[1;33m=\u001b[0m \u001b[0mget_lemke_howson_outcome\u001b[0m\u001b[1;33m(\u001b[0m\u001b[1;33m)\u001b[0m\u001b[1;33m\u001b[0m\u001b[1;33m\u001b[0m\u001b[0m\n\u001b[0m\u001b[0;32m    259\u001b[0m     minimum_value = find_best_performance_measure(\n\u001b[0;32m    260\u001b[0m         \u001b[0mrouting\u001b[0m\u001b[1;33m=\u001b[0m\u001b[0mrouting\u001b[0m\u001b[1;33m,\u001b[0m\u001b[1;33m\u001b[0m\u001b[1;33m\u001b[0m\u001b[0m\n",
      "\u001b[1;32mc:/Users/micha/Desktop/PhD/rsch/AmbulanceDecisionGame/data/game_data/nbs\\main.py\u001b[0m in \u001b[0;36mget_lemke_howson_outcome\u001b[1;34m()\u001b[0m\n\u001b[0;32m     86\u001b[0m     \u001b[0m_\u001b[0m\u001b[1;33m,\u001b[0m \u001b[0mA\u001b[0m\u001b[1;33m,\u001b[0m \u001b[0mB\u001b[0m \u001b[1;33m=\u001b[0m \u001b[0mget_matrices\u001b[0m\u001b[1;33m(\u001b[0m\u001b[1;33m)\u001b[0m\u001b[1;33m\u001b[0m\u001b[1;33m\u001b[0m\u001b[0m\n\u001b[0;32m     87\u001b[0m     \u001b[0mgame\u001b[0m \u001b[1;33m=\u001b[0m \u001b[0mnash\u001b[0m\u001b[1;33m.\u001b[0m\u001b[0mGame\u001b[0m\u001b[1;33m(\u001b[0m\u001b[0mA\u001b[0m\u001b[1;33m,\u001b[0m \u001b[0mB\u001b[0m\u001b[1;33m)\u001b[0m\u001b[1;33m\u001b[0m\u001b[1;33m\u001b[0m\u001b[0m\n\u001b[1;32m---> 88\u001b[1;33m     \u001b[0mall_equilibs\u001b[0m \u001b[1;33m=\u001b[0m \u001b[0mtuple\u001b[0m\u001b[1;33m(\u001b[0m\u001b[0mgame\u001b[0m\u001b[1;33m.\u001b[0m\u001b[0mlemke_howson_enumeration\u001b[0m\u001b[1;33m(\u001b[0m\u001b[1;33m)\u001b[0m\u001b[1;33m)\u001b[0m\u001b[1;33m\u001b[0m\u001b[1;33m\u001b[0m\u001b[0m\n\u001b[0m\u001b[0;32m     89\u001b[0m     \u001b[0munique_equilibs\u001b[0m \u001b[1;33m=\u001b[0m \u001b[1;32mNone\u001b[0m\u001b[1;33m\u001b[0m\u001b[1;33m\u001b[0m\u001b[0m\n\u001b[0;32m     90\u001b[0m     \u001b[1;32mfor\u001b[0m \u001b[0mcurrent_equilib\u001b[0m \u001b[1;32min\u001b[0m \u001b[0mall_equilibs\u001b[0m\u001b[1;33m:\u001b[0m\u001b[1;33m\u001b[0m\u001b[1;33m\u001b[0m\u001b[0m\n",
      "\u001b[1;31mRuntimeError\u001b[0m: generator raised StopIteration"
     ]
    }
   ],
   "source": [
    "get_price_of_anarchy(performance_measure_function=abg.markov.get_mean_waiting_time_using_markov_state_probabilities)"
   ]
  },
  {
   "cell_type": "markdown",
   "metadata": {},
   "source": [
    "## Blocking time\n",
    "$$\n",
    "    PoA_{blocking} = \\frac{\\max_{s \\in E} B(s)}{\\min_{s \\in S} B(s)}\n",
    "$$"
   ]
  },
  {
   "cell_type": "code",
   "execution_count": 11,
   "metadata": {},
   "outputs": [
    {
     "output_type": "error",
     "ename": "RuntimeError",
     "evalue": "generator raised StopIteration",
     "traceback": [
      "\u001b[1;31m---------------------------------------------------------------------------\u001b[0m",
      "\u001b[1;31mStopIteration\u001b[0m                             Traceback (most recent call last)",
      "\u001b[1;32m~\\Anaconda3\\envs\\AmbulanceGame\\lib\\site-packages\\nashpy\\game.py\u001b[0m in \u001b[0;36mlemke_howson_enumeration\u001b[1;34m(self)\u001b[0m\n\u001b[0;32m    110\u001b[0m         \u001b[1;32mfor\u001b[0m \u001b[0mlabel\u001b[0m \u001b[1;32min\u001b[0m \u001b[0mrange\u001b[0m\u001b[1;33m(\u001b[0m\u001b[0msum\u001b[0m\u001b[1;33m(\u001b[0m\u001b[0mself\u001b[0m\u001b[1;33m.\u001b[0m\u001b[0mpayoff_matrices\u001b[0m\u001b[1;33m[\u001b[0m\u001b[1;36m0\u001b[0m\u001b[1;33m]\u001b[0m\u001b[1;33m.\u001b[0m\u001b[0mshape\u001b[0m\u001b[1;33m)\u001b[0m\u001b[1;33m)\u001b[0m\u001b[1;33m:\u001b[0m\u001b[1;33m\u001b[0m\u001b[1;33m\u001b[0m\u001b[0m\n\u001b[1;32m--> 111\u001b[1;33m             \u001b[1;32myield\u001b[0m \u001b[0mself\u001b[0m\u001b[1;33m.\u001b[0m\u001b[0mlemke_howson\u001b[0m\u001b[1;33m(\u001b[0m\u001b[0minitial_dropped_label\u001b[0m\u001b[1;33m=\u001b[0m\u001b[0mlabel\u001b[0m\u001b[1;33m)\u001b[0m\u001b[1;33m\u001b[0m\u001b[1;33m\u001b[0m\u001b[0m\n\u001b[0m\u001b[0;32m    112\u001b[0m \u001b[1;33m\u001b[0m\u001b[0m\n",
      "\u001b[1;32m~\\Anaconda3\\envs\\AmbulanceGame\\lib\\site-packages\\nashpy\\game.py\u001b[0m in \u001b[0;36mlemke_howson\u001b[1;34m(self, initial_dropped_label)\u001b[0m\n\u001b[0;32m    138\u001b[0m         \"\"\"\n\u001b[1;32m--> 139\u001b[1;33m         return lemke_howson(\n\u001b[0m\u001b[0;32m    140\u001b[0m             \u001b[1;33m*\u001b[0m\u001b[0mself\u001b[0m\u001b[1;33m.\u001b[0m\u001b[0mpayoff_matrices\u001b[0m\u001b[1;33m,\u001b[0m \u001b[0minitial_dropped_label\u001b[0m\u001b[1;33m=\u001b[0m\u001b[0minitial_dropped_label\u001b[0m\u001b[1;33m\u001b[0m\u001b[1;33m\u001b[0m\u001b[0m\n",
      "\u001b[1;32m~\\Anaconda3\\envs\\AmbulanceGame\\lib\\site-packages\\nashpy\\algorithms\\lemke_howson.py\u001b[0m in \u001b[0;36mlemke_howson\u001b[1;34m(A, B, initial_dropped_label)\u001b[0m\n\u001b[0;32m    113\u001b[0m         entering_label = pivot_tableau(\n\u001b[1;32m--> 114\u001b[1;33m             \u001b[0mnext\u001b[0m\u001b[1;33m(\u001b[0m\u001b[0mtableux\u001b[0m\u001b[1;33m)\u001b[0m\u001b[1;33m,\u001b[0m \u001b[0mnext\u001b[0m\u001b[1;33m(\u001b[0m\u001b[0miter\u001b[0m\u001b[1;33m(\u001b[0m\u001b[0mentering_label\u001b[0m\u001b[1;33m)\u001b[0m\u001b[1;33m)\u001b[0m\u001b[1;33m\u001b[0m\u001b[1;33m\u001b[0m\u001b[0m\n\u001b[0m\u001b[0;32m    115\u001b[0m         )\n",
      "\u001b[1;31mStopIteration\u001b[0m: ",
      "\nThe above exception was the direct cause of the following exception:\n",
      "\u001b[1;31mRuntimeError\u001b[0m                              Traceback (most recent call last)",
      "\u001b[1;32m<ipython-input-11-fdff1566c158>\u001b[0m in \u001b[0;36m<module>\u001b[1;34m\u001b[0m\n\u001b[1;32m----> 1\u001b[1;33m \u001b[0mget_price_of_anarchy\u001b[0m\u001b[1;33m(\u001b[0m\u001b[0mperformance_measure_function\u001b[0m\u001b[1;33m=\u001b[0m\u001b[0mabg\u001b[0m\u001b[1;33m.\u001b[0m\u001b[0mmarkov\u001b[0m\u001b[1;33m.\u001b[0m\u001b[0mget_mean_blocking_time_using_markov_state_probabilities\u001b[0m\u001b[1;33m)\u001b[0m\u001b[1;33m\u001b[0m\u001b[1;33m\u001b[0m\u001b[0m\n\u001b[0m",
      "\u001b[1;32mc:/Users/micha/Desktop/PhD/rsch/AmbulanceDecisionGame/data/game_data/nbs\\main.py\u001b[0m in \u001b[0;36mget_price_of_anarchy\u001b[1;34m(performance_measure_function)\u001b[0m\n\u001b[0;32m    256\u001b[0m     \u001b[1;31m#     else:\u001b[0m\u001b[1;33m\u001b[0m\u001b[1;33m\u001b[0m\u001b[1;33m\u001b[0m\u001b[0m\n\u001b[0;32m    257\u001b[0m     \u001b[1;31m#         equilibria = get_Lemke_howson_outcome()\u001b[0m\u001b[1;33m\u001b[0m\u001b[1;33m\u001b[0m\u001b[1;33m\u001b[0m\u001b[0m\n\u001b[1;32m--> 258\u001b[1;33m     \u001b[0mequilibria\u001b[0m \u001b[1;33m=\u001b[0m \u001b[0mget_lemke_howson_outcome\u001b[0m\u001b[1;33m(\u001b[0m\u001b[1;33m)\u001b[0m\u001b[1;33m\u001b[0m\u001b[1;33m\u001b[0m\u001b[0m\n\u001b[0m\u001b[0;32m    259\u001b[0m     minimum_value = find_best_performance_measure(\n\u001b[0;32m    260\u001b[0m         \u001b[0mrouting\u001b[0m\u001b[1;33m=\u001b[0m\u001b[0mrouting\u001b[0m\u001b[1;33m,\u001b[0m\u001b[1;33m\u001b[0m\u001b[1;33m\u001b[0m\u001b[0m\n",
      "\u001b[1;32mc:/Users/micha/Desktop/PhD/rsch/AmbulanceDecisionGame/data/game_data/nbs\\main.py\u001b[0m in \u001b[0;36mget_lemke_howson_outcome\u001b[1;34m()\u001b[0m\n\u001b[0;32m     86\u001b[0m     \u001b[0m_\u001b[0m\u001b[1;33m,\u001b[0m \u001b[0mA\u001b[0m\u001b[1;33m,\u001b[0m \u001b[0mB\u001b[0m \u001b[1;33m=\u001b[0m \u001b[0mget_matrices\u001b[0m\u001b[1;33m(\u001b[0m\u001b[1;33m)\u001b[0m\u001b[1;33m\u001b[0m\u001b[1;33m\u001b[0m\u001b[0m\n\u001b[0;32m     87\u001b[0m     \u001b[0mgame\u001b[0m \u001b[1;33m=\u001b[0m \u001b[0mnash\u001b[0m\u001b[1;33m.\u001b[0m\u001b[0mGame\u001b[0m\u001b[1;33m(\u001b[0m\u001b[0mA\u001b[0m\u001b[1;33m,\u001b[0m \u001b[0mB\u001b[0m\u001b[1;33m)\u001b[0m\u001b[1;33m\u001b[0m\u001b[1;33m\u001b[0m\u001b[0m\n\u001b[1;32m---> 88\u001b[1;33m     \u001b[0mall_equilibs\u001b[0m \u001b[1;33m=\u001b[0m \u001b[0mtuple\u001b[0m\u001b[1;33m(\u001b[0m\u001b[0mgame\u001b[0m\u001b[1;33m.\u001b[0m\u001b[0mlemke_howson_enumeration\u001b[0m\u001b[1;33m(\u001b[0m\u001b[1;33m)\u001b[0m\u001b[1;33m)\u001b[0m\u001b[1;33m\u001b[0m\u001b[1;33m\u001b[0m\u001b[0m\n\u001b[0m\u001b[0;32m     89\u001b[0m     \u001b[0munique_equilibs\u001b[0m \u001b[1;33m=\u001b[0m \u001b[1;32mNone\u001b[0m\u001b[1;33m\u001b[0m\u001b[1;33m\u001b[0m\u001b[0m\n\u001b[0;32m     90\u001b[0m     \u001b[1;32mfor\u001b[0m \u001b[0mcurrent_equilib\u001b[0m \u001b[1;32min\u001b[0m \u001b[0mall_equilibs\u001b[0m\u001b[1;33m:\u001b[0m\u001b[1;33m\u001b[0m\u001b[1;33m\u001b[0m\u001b[0m\n",
      "\u001b[1;31mRuntimeError\u001b[0m: generator raised StopIteration"
     ]
    }
   ],
   "source": [
    "get_price_of_anarchy(performance_measure_function=abg.markov.get_mean_blocking_time_using_markov_state_probabilities)"
   ]
  },
  {
   "cell_type": "markdown",
   "metadata": {},
   "source": [
    "## Proportion of individuals lost\n",
    "$$\n",
    "    PoA_{lost} = \\frac{\\max_{s \\in E} P(L(s))}{\\min_{s \\in S} P(L(s))}\n",
    "$$"
   ]
  },
  {
   "cell_type": "code",
   "execution_count": 12,
   "metadata": {},
   "outputs": [
    {
     "output_type": "error",
     "ename": "RuntimeError",
     "evalue": "generator raised StopIteration",
     "traceback": [
      "\u001b[1;31m---------------------------------------------------------------------------\u001b[0m",
      "\u001b[1;31mStopIteration\u001b[0m                             Traceback (most recent call last)",
      "\u001b[1;32m~\\Anaconda3\\envs\\AmbulanceGame\\lib\\site-packages\\nashpy\\game.py\u001b[0m in \u001b[0;36mlemke_howson_enumeration\u001b[1;34m(self)\u001b[0m\n\u001b[0;32m    110\u001b[0m         \u001b[1;32mfor\u001b[0m \u001b[0mlabel\u001b[0m \u001b[1;32min\u001b[0m \u001b[0mrange\u001b[0m\u001b[1;33m(\u001b[0m\u001b[0msum\u001b[0m\u001b[1;33m(\u001b[0m\u001b[0mself\u001b[0m\u001b[1;33m.\u001b[0m\u001b[0mpayoff_matrices\u001b[0m\u001b[1;33m[\u001b[0m\u001b[1;36m0\u001b[0m\u001b[1;33m]\u001b[0m\u001b[1;33m.\u001b[0m\u001b[0mshape\u001b[0m\u001b[1;33m)\u001b[0m\u001b[1;33m)\u001b[0m\u001b[1;33m:\u001b[0m\u001b[1;33m\u001b[0m\u001b[1;33m\u001b[0m\u001b[0m\n\u001b[1;32m--> 111\u001b[1;33m             \u001b[1;32myield\u001b[0m \u001b[0mself\u001b[0m\u001b[1;33m.\u001b[0m\u001b[0mlemke_howson\u001b[0m\u001b[1;33m(\u001b[0m\u001b[0minitial_dropped_label\u001b[0m\u001b[1;33m=\u001b[0m\u001b[0mlabel\u001b[0m\u001b[1;33m)\u001b[0m\u001b[1;33m\u001b[0m\u001b[1;33m\u001b[0m\u001b[0m\n\u001b[0m\u001b[0;32m    112\u001b[0m \u001b[1;33m\u001b[0m\u001b[0m\n",
      "\u001b[1;32m~\\Anaconda3\\envs\\AmbulanceGame\\lib\\site-packages\\nashpy\\game.py\u001b[0m in \u001b[0;36mlemke_howson\u001b[1;34m(self, initial_dropped_label)\u001b[0m\n\u001b[0;32m    138\u001b[0m         \"\"\"\n\u001b[1;32m--> 139\u001b[1;33m         return lemke_howson(\n\u001b[0m\u001b[0;32m    140\u001b[0m             \u001b[1;33m*\u001b[0m\u001b[0mself\u001b[0m\u001b[1;33m.\u001b[0m\u001b[0mpayoff_matrices\u001b[0m\u001b[1;33m,\u001b[0m \u001b[0minitial_dropped_label\u001b[0m\u001b[1;33m=\u001b[0m\u001b[0minitial_dropped_label\u001b[0m\u001b[1;33m\u001b[0m\u001b[1;33m\u001b[0m\u001b[0m\n",
      "\u001b[1;32m~\\Anaconda3\\envs\\AmbulanceGame\\lib\\site-packages\\nashpy\\algorithms\\lemke_howson.py\u001b[0m in \u001b[0;36mlemke_howson\u001b[1;34m(A, B, initial_dropped_label)\u001b[0m\n\u001b[0;32m    113\u001b[0m         entering_label = pivot_tableau(\n\u001b[1;32m--> 114\u001b[1;33m             \u001b[0mnext\u001b[0m\u001b[1;33m(\u001b[0m\u001b[0mtableux\u001b[0m\u001b[1;33m)\u001b[0m\u001b[1;33m,\u001b[0m \u001b[0mnext\u001b[0m\u001b[1;33m(\u001b[0m\u001b[0miter\u001b[0m\u001b[1;33m(\u001b[0m\u001b[0mentering_label\u001b[0m\u001b[1;33m)\u001b[0m\u001b[1;33m)\u001b[0m\u001b[1;33m\u001b[0m\u001b[1;33m\u001b[0m\u001b[0m\n\u001b[0m\u001b[0;32m    115\u001b[0m         )\n",
      "\u001b[1;31mStopIteration\u001b[0m: ",
      "\nThe above exception was the direct cause of the following exception:\n",
      "\u001b[1;31mRuntimeError\u001b[0m                              Traceback (most recent call last)",
      "\u001b[1;32m<ipython-input-12-06490eb2c649>\u001b[0m in \u001b[0;36m<module>\u001b[1;34m\u001b[0m\n\u001b[1;32m----> 1\u001b[1;33m \u001b[0mget_price_of_anarchy\u001b[0m\u001b[1;33m(\u001b[0m\u001b[0mperformance_measure_function\u001b[0m\u001b[1;33m=\u001b[0m\u001b[0mabg\u001b[0m\u001b[1;33m.\u001b[0m\u001b[0mmarkov\u001b[0m\u001b[1;33m.\u001b[0m\u001b[0mget_accepting_proportion_of_class_2_individuals\u001b[0m\u001b[1;33m)\u001b[0m\u001b[1;33m\u001b[0m\u001b[1;33m\u001b[0m\u001b[0m\n\u001b[0m",
      "\u001b[1;32mc:/Users/micha/Desktop/PhD/rsch/AmbulanceDecisionGame/data/game_data/nbs\\main.py\u001b[0m in \u001b[0;36mget_price_of_anarchy\u001b[1;34m(performance_measure_function)\u001b[0m\n\u001b[0;32m    256\u001b[0m     \u001b[1;31m#     else:\u001b[0m\u001b[1;33m\u001b[0m\u001b[1;33m\u001b[0m\u001b[1;33m\u001b[0m\u001b[0m\n\u001b[0;32m    257\u001b[0m     \u001b[1;31m#         equilibria = get_Lemke_howson_outcome()\u001b[0m\u001b[1;33m\u001b[0m\u001b[1;33m\u001b[0m\u001b[1;33m\u001b[0m\u001b[0m\n\u001b[1;32m--> 258\u001b[1;33m     \u001b[0mequilibria\u001b[0m \u001b[1;33m=\u001b[0m \u001b[0mget_lemke_howson_outcome\u001b[0m\u001b[1;33m(\u001b[0m\u001b[1;33m)\u001b[0m\u001b[1;33m\u001b[0m\u001b[1;33m\u001b[0m\u001b[0m\n\u001b[0m\u001b[0;32m    259\u001b[0m     minimum_value = find_best_performance_measure(\n\u001b[0;32m    260\u001b[0m         \u001b[0mrouting\u001b[0m\u001b[1;33m=\u001b[0m\u001b[0mrouting\u001b[0m\u001b[1;33m,\u001b[0m\u001b[1;33m\u001b[0m\u001b[1;33m\u001b[0m\u001b[0m\n",
      "\u001b[1;32mc:/Users/micha/Desktop/PhD/rsch/AmbulanceDecisionGame/data/game_data/nbs\\main.py\u001b[0m in \u001b[0;36mget_lemke_howson_outcome\u001b[1;34m()\u001b[0m\n\u001b[0;32m     86\u001b[0m     \u001b[0m_\u001b[0m\u001b[1;33m,\u001b[0m \u001b[0mA\u001b[0m\u001b[1;33m,\u001b[0m \u001b[0mB\u001b[0m \u001b[1;33m=\u001b[0m \u001b[0mget_matrices\u001b[0m\u001b[1;33m(\u001b[0m\u001b[1;33m)\u001b[0m\u001b[1;33m\u001b[0m\u001b[1;33m\u001b[0m\u001b[0m\n\u001b[0;32m     87\u001b[0m     \u001b[0mgame\u001b[0m \u001b[1;33m=\u001b[0m \u001b[0mnash\u001b[0m\u001b[1;33m.\u001b[0m\u001b[0mGame\u001b[0m\u001b[1;33m(\u001b[0m\u001b[0mA\u001b[0m\u001b[1;33m,\u001b[0m \u001b[0mB\u001b[0m\u001b[1;33m)\u001b[0m\u001b[1;33m\u001b[0m\u001b[1;33m\u001b[0m\u001b[0m\n\u001b[1;32m---> 88\u001b[1;33m     \u001b[0mall_equilibs\u001b[0m \u001b[1;33m=\u001b[0m \u001b[0mtuple\u001b[0m\u001b[1;33m(\u001b[0m\u001b[0mgame\u001b[0m\u001b[1;33m.\u001b[0m\u001b[0mlemke_howson_enumeration\u001b[0m\u001b[1;33m(\u001b[0m\u001b[1;33m)\u001b[0m\u001b[1;33m)\u001b[0m\u001b[1;33m\u001b[0m\u001b[1;33m\u001b[0m\u001b[0m\n\u001b[0m\u001b[0;32m     89\u001b[0m     \u001b[0munique_equilibs\u001b[0m \u001b[1;33m=\u001b[0m \u001b[1;32mNone\u001b[0m\u001b[1;33m\u001b[0m\u001b[1;33m\u001b[0m\u001b[0m\n\u001b[0;32m     90\u001b[0m     \u001b[1;32mfor\u001b[0m \u001b[0mcurrent_equilib\u001b[0m \u001b[1;32min\u001b[0m \u001b[0mall_equilibs\u001b[0m\u001b[1;33m:\u001b[0m\u001b[1;33m\u001b[0m\u001b[1;33m\u001b[0m\u001b[0m\n",
      "\u001b[1;31mRuntimeError\u001b[0m: generator raised StopIteration"
     ]
    }
   ],
   "source": [
    "get_price_of_anarchy(performance_measure_function=abg.markov.get_accepting_proportion_of_class_2_individuals)"
   ]
  },
  {
   "cell_type": "code",
   "execution_count": null,
   "metadata": {},
   "outputs": [],
   "source": []
  }
 ],
 "metadata": {
  "kernelspec": {
   "name": "python381jvsc74a57bd0b1eb7420065b85113d17a1e25e856107fd521c861cd126e9170fac762de4b262",
   "display_name": "Python 3.8.1 64-bit ('AmbulanceGame': conda)"
  },
  "language_info": {
   "codemirror_mode": {
    "name": "ipython",
    "version": 3
   },
   "file_extension": ".py",
   "mimetype": "text/x-python",
   "name": "python",
   "nbconvert_exporter": "python",
   "pygments_lexer": "ipython3",
   "version": "3.8.1"
  }
 },
 "nbformat": 4,
 "nbformat_minor": 2
}