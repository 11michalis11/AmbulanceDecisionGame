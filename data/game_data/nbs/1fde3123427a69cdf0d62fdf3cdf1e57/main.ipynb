{
 "cells": [
  {
   "cell_type": "code",
   "execution_count": 1,
   "metadata": {},
   "outputs": [],
   "source": [
    "import pathlib\n",
    "import sys\n",
    "\n",
    "import ambulance_game as abg"
   ]
  },
  {
   "cell_type": "code",
   "execution_count": 2,
   "metadata": {},
   "outputs": [],
   "source": [
    "relative_path = pathlib.Path.cwd().parent\n",
    "sys.path.insert(0, relative_path.as_posix())\n",
    "from main import (\n",
    "    get_path_of_experiment,\n",
    "    get_parameters,\n",
    "    get_matrices,\n",
    "    get_lemke_howson_outcome,\n",
    "    get_fictitious_play_outcome,\n",
    "    get_stochastic_fictitious_play_outcome,\n",
    "    get_performance_measure_for_given_strategies,\n",
    "    find_best_performance_measure,\n",
    "    find_worst_nash_equilibrium_measure,\n",
    "    get_price_of_anarchy,\n",
    ")"
   ]
  },
  {
   "cell_type": "markdown",
   "metadata": {},
   "source": [
    "# Parameters"
   ]
  },
  {
   "cell_type": "code",
   "execution_count": 3,
   "metadata": {},
   "outputs": [
    {
     "output_type": "execute_result",
     "data": {
      "text/plain": [
       "{'alpha': 0.9500000000000001,\n",
       " 'buffer_capacity_1': 2,\n",
       " 'buffer_capacity_2': 2,\n",
       " 'lambda_1_1': 1.789473684210526,\n",
       " 'lambda_1_2': 1.1578947368421053,\n",
       " 'lambda_2': 4.186206896551724,\n",
       " 'mu_1': 2,\n",
       " 'mu_2': 2,\n",
       " 'num_of_servers_1': 1,\n",
       " 'num_of_servers_2': 1,\n",
       " 'system_capacity_1': 2,\n",
       " 'system_capacity_2': 2,\n",
       " 'target': 0.5263157894736842}"
      ]
     },
     "metadata": {},
     "execution_count": 3
    }
   ],
   "source": [
    "parameters = get_parameters()\n",
    "parameters"
   ]
  },
  {
   "cell_type": "markdown",
   "metadata": {},
   "source": [
    "# Matrices"
   ]
  },
  {
   "cell_type": "code",
   "execution_count": 4,
   "metadata": {},
   "outputs": [
    {
     "output_type": "execute_result",
     "data": {
      "text/plain": [
       "array([[0.43544124, 0.28474364],\n",
       "       [0.65231146, 0.48945744]])"
      ]
     },
     "metadata": {},
     "execution_count": 4
    }
   ],
   "source": [
    "R, A, B = get_matrices()\n",
    "R"
   ]
  },
  {
   "cell_type": "code",
   "execution_count": 5,
   "metadata": {},
   "outputs": [
    {
     "output_type": "execute_result",
     "data": {
      "text/plain": [
       "array([[-0.22326247, -0.22326247],\n",
       "       [-0.39893412, -0.3759644 ]])"
      ]
     },
     "metadata": {},
     "execution_count": 5
    }
   ],
   "source": [
    "A"
   ]
  },
  {
   "cell_type": "code",
   "execution_count": 6,
   "metadata": {},
   "outputs": [
    {
     "output_type": "execute_result",
     "data": {
      "text/plain": [
       "array([[-0.18811894, -0.40006261],\n",
       "       [-0.18811894, -0.36965641]])"
      ]
     },
     "metadata": {},
     "execution_count": 6
    }
   ],
   "source": [
    "B"
   ]
  },
  {
   "cell_type": "markdown",
   "metadata": {},
   "source": [
    "# Lemke - Howson"
   ]
  },
  {
   "cell_type": "code",
   "execution_count": 7,
   "metadata": {},
   "outputs": [
    {
     "output_type": "execute_result",
     "data": {
      "text/plain": [
       "((array([1., 0.]), array([1., 0.])),)"
      ]
     },
     "metadata": {},
     "execution_count": 7
    }
   ],
   "source": [
    "get_lemke_howson_outcome()"
   ]
  },
  {
   "cell_type": "markdown",
   "metadata": {},
   "source": [
    "# Fictitious Play"
   ]
  },
  {
   "cell_type": "code",
   "execution_count": 8,
   "metadata": {},
   "outputs": [
    {
     "output_type": "execute_result",
     "data": {
      "text/plain": [
       "((array([0.999, 0.001]), array([1., 0.])),)"
      ]
     },
     "metadata": {},
     "execution_count": 8
    }
   ],
   "source": [
    "get_fictitious_play_outcome(iterations=1000, repetitions=10)"
   ]
  },
  {
   "cell_type": "markdown",
   "metadata": {},
   "source": [
    "# Stochastic Fictitious Play"
   ]
  },
  {
   "cell_type": "code",
   "execution_count": 9,
   "metadata": {},
   "outputs": [
    {
     "output_type": "execute_result",
     "data": {
      "text/plain": [
       "([array([0.84600572, 0.15399428]), array([0.88929513, 0.11070487])],)"
      ]
     },
     "metadata": {},
     "execution_count": 9
    }
   ],
   "source": [
    "get_stochastic_fictitious_play_outcome(iterations=1000, repetitions=10)"
   ]
  },
  {
   "cell_type": "markdown",
   "metadata": {},
   "source": [
    "# Price of Anarchy"
   ]
  },
  {
   "cell_type": "markdown",
   "metadata": {},
   "source": [
    "## Waiting time\n",
    "$$\n",
    "    PoA_{waiting} = \\frac{\\max_{s \\in E} W(s)}{\\min_{s \\in S} W(s)}\n",
    "$$"
   ]
  },
  {
   "cell_type": "code",
   "execution_count": 10,
   "metadata": {},
   "outputs": [
    {
     "output_type": "execute_result",
     "data": {
      "text/plain": [
       "1.0"
      ]
     },
     "metadata": {},
     "execution_count": 10
    }
   ],
   "source": [
    "get_price_of_anarchy(performance_measure_function=abg.markov.get_mean_waiting_time_using_markov_state_probabilities)"
   ]
  },
  {
   "cell_type": "markdown",
   "metadata": {},
   "source": [
    "## Blocking time\n",
    "$$\n",
    "    PoA_{blocking} = \\frac{\\max_{s \\in E} B(s)}{\\min_{s \\in S} B(s)}\n",
    "$$"
   ]
  },
  {
   "cell_type": "code",
   "execution_count": 11,
   "metadata": {},
   "outputs": [
    {
     "output_type": "execute_result",
     "data": {
      "text/plain": [
       "2.5222548862501135"
      ]
     },
     "metadata": {},
     "execution_count": 11
    }
   ],
   "source": [
    "get_price_of_anarchy(performance_measure_function=abg.markov.get_mean_blocking_time_using_markov_state_probabilities)"
   ]
  },
  {
   "cell_type": "markdown",
   "metadata": {},
   "source": [
    "## Proportion of individuals lost\n",
    "$$\n",
    "    PoA_{lost} = \\frac{\\max_{s \\in E} P(L(s))}{\\min_{s \\in S} P(L(s))}\n",
    "$$"
   ]
  },
  {
   "cell_type": "code",
   "execution_count": 12,
   "metadata": {},
   "outputs": [
    {
     "output_type": "execute_result",
     "data": {
      "text/plain": [
       "1.9361399860476216"
      ]
     },
     "metadata": {},
     "execution_count": 12
    }
   ],
   "source": [
    "get_price_of_anarchy(performance_measure_function=abg.markov.get_accepting_proportion_of_class_2_individuals)"
   ]
  },
  {
   "cell_type": "code",
   "execution_count": null,
   "metadata": {},
   "outputs": [],
   "source": []
  }
 ],
 "metadata": {
  "kernelspec": {
   "name": "python381jvsc74a57bd0b1eb7420065b85113d17a1e25e856107fd521c861cd126e9170fac762de4b262",
   "display_name": "Python 3.8.1 64-bit ('AmbulanceGame': conda)"
  },
  "language_info": {
   "codemirror_mode": {
    "name": "ipython",
    "version": 3
   },
   "file_extension": ".py",
   "mimetype": "text/x-python",
   "name": "python",
   "nbconvert_exporter": "python",
   "pygments_lexer": "ipython3",
   "version": "3.8.1"
  }
 },
 "nbformat": 4,
 "nbformat_minor": 2
}