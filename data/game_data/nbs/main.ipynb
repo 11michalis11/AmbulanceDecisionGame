{
 "cells": [
  {
   "cell_type": "code",
   "execution_count": 1,
   "metadata": {},
   "outputs": [],
   "source": [
    "import os\n",
    "\n",
    "import numpy as np\n",
    "import pandas as pd\n",
    "import pathlib\n",
    "\n",
    "import ambulance_game as abg"
   ]
  },
  {
   "cell_type": "markdown",
   "metadata": {},
   "source": [
    "## Number of experiments\n",
    "- In this machine: 5,101,843\n",
    "- In siren so far: 0"
   ]
  },
  {
   "cell_type": "markdown",
   "metadata": {},
   "source": [
    "# Looking around the parameters"
   ]
  },
  {
   "cell_type": "code",
   "execution_count": 2,
   "metadata": {},
   "outputs": [],
   "source": [
    "df = pd.read_csv(pathlib.Path(\"../data/_parameters/main.csv\"))"
   ]
  },
  {
   "cell_type": "code",
   "execution_count": 3,
   "metadata": {},
   "outputs": [
    {
     "data": {
      "text/plain": [
       "5101843"
      ]
     },
     "execution_count": 3,
     "metadata": {},
     "output_type": "execute_result"
    }
   ],
   "source": [
    "len(df)"
   ]
  },
  {
   "cell_type": "markdown",
   "metadata": {},
   "source": [
    "# Summary"
   ]
  },
  {
   "cell_type": "code",
   "execution_count": 4,
   "metadata": {},
   "outputs": [],
   "source": [
    "summary = df.describe()"
   ]
  },
  {
   "cell_type": "code",
   "execution_count": 5,
   "metadata": {},
   "outputs": [
    {
     "data": {
      "text/html": [
       "<div>\n",
       "<style scoped>\n",
       "    .dataframe tbody tr th:only-of-type {\n",
       "        vertical-align: middle;\n",
       "    }\n",
       "\n",
       "    .dataframe tbody tr th {\n",
       "        vertical-align: top;\n",
       "    }\n",
       "\n",
       "    .dataframe thead th {\n",
       "        text-align: right;\n",
       "    }\n",
       "</style>\n",
       "<table border=\"1\" class=\"dataframe\">\n",
       "  <thead>\n",
       "    <tr style=\"text-align: right;\">\n",
       "      <th></th>\n",
       "      <th>alpha</th>\n",
       "      <th>buffer_capacity_1</th>\n",
       "      <th>buffer_capacity_2</th>\n",
       "      <th>lambda_1_1</th>\n",
       "      <th>lambda_1_2</th>\n",
       "      <th>lambda_2</th>\n",
       "      <th>mu_1</th>\n",
       "      <th>mu_2</th>\n",
       "      <th>num_of_servers_1</th>\n",
       "      <th>num_of_servers_2</th>\n",
       "      <th>system_capacity_1</th>\n",
       "      <th>system_capacity_2</th>\n",
       "      <th>target</th>\n",
       "    </tr>\n",
       "  </thead>\n",
       "  <tbody>\n",
       "    <tr>\n",
       "      <th>count</th>\n",
       "      <td>5.078880e+06</td>\n",
       "      <td>5.078880e+06</td>\n",
       "      <td>5.078880e+06</td>\n",
       "      <td>5.078880e+06</td>\n",
       "      <td>5.078880e+06</td>\n",
       "      <td>5.078880e+06</td>\n",
       "      <td>5.078880e+06</td>\n",
       "      <td>5.078880e+06</td>\n",
       "      <td>5.078880e+06</td>\n",
       "      <td>5.078880e+06</td>\n",
       "      <td>5.078880e+06</td>\n",
       "      <td>5.078880e+06</td>\n",
       "      <td>5.078880e+06</td>\n",
       "    </tr>\n",
       "    <tr>\n",
       "      <th>mean</th>\n",
       "      <td>4.999894e-01</td>\n",
       "      <td>1.992345e+00</td>\n",
       "      <td>2.045931e+00</td>\n",
       "      <td>9.939033e-01</td>\n",
       "      <td>1.115661e+00</td>\n",
       "      <td>4.019762e+00</td>\n",
       "      <td>1.987909e+00</td>\n",
       "      <td>2.021893e+00</td>\n",
       "      <td>1.030621e+00</td>\n",
       "      <td>1.045931e+00</td>\n",
       "      <td>2.045931e+00</td>\n",
       "      <td>2.038276e+00</td>\n",
       "      <td>5.000000e+00</td>\n",
       "    </tr>\n",
       "    <tr>\n",
       "      <th>std</th>\n",
       "      <td>3.027642e-01</td>\n",
       "      <td>8.715865e-02</td>\n",
       "      <td>5.229519e-01</td>\n",
       "      <td>6.087603e-01</td>\n",
       "      <td>1.699545e+00</td>\n",
       "      <td>2.373917e+00</td>\n",
       "      <td>1.376609e-01</td>\n",
       "      <td>2.492627e-01</td>\n",
       "      <td>3.486346e-01</td>\n",
       "      <td>5.229519e-01</td>\n",
       "      <td>5.229519e-01</td>\n",
       "      <td>4.357932e-01</td>\n",
       "      <td>3.034885e+00</td>\n",
       "    </tr>\n",
       "    <tr>\n",
       "      <th>min</th>\n",
       "      <td>0.000000e+00</td>\n",
       "      <td>1.000000e+00</td>\n",
       "      <td>2.000000e+00</td>\n",
       "      <td>0.000000e+00</td>\n",
       "      <td>0.000000e+00</td>\n",
       "      <td>1.000000e-01</td>\n",
       "      <td>4.205707e-01</td>\n",
       "      <td>2.000000e+00</td>\n",
       "      <td>1.000000e+00</td>\n",
       "      <td>1.000000e+00</td>\n",
       "      <td>2.000000e+00</td>\n",
       "      <td>2.000000e+00</td>\n",
       "      <td>0.000000e+00</td>\n",
       "    </tr>\n",
       "    <tr>\n",
       "      <th>25%</th>\n",
       "      <td>2.500000e-01</td>\n",
       "      <td>2.000000e+00</td>\n",
       "      <td>2.000000e+00</td>\n",
       "      <td>4.210526e-01</td>\n",
       "      <td>5.263158e-01</td>\n",
       "      <td>2.006897e+00</td>\n",
       "      <td>2.000000e+00</td>\n",
       "      <td>2.000000e+00</td>\n",
       "      <td>1.000000e+00</td>\n",
       "      <td>1.000000e+00</td>\n",
       "      <td>2.000000e+00</td>\n",
       "      <td>2.000000e+00</td>\n",
       "      <td>2.500000e+00</td>\n",
       "    </tr>\n",
       "    <tr>\n",
       "      <th>50%</th>\n",
       "      <td>5.000000e-01</td>\n",
       "      <td>2.000000e+00</td>\n",
       "      <td>2.000000e+00</td>\n",
       "      <td>9.473684e-01</td>\n",
       "      <td>1.052632e+00</td>\n",
       "      <td>3.913793e+00</td>\n",
       "      <td>2.000000e+00</td>\n",
       "      <td>2.000000e+00</td>\n",
       "      <td>1.000000e+00</td>\n",
       "      <td>1.000000e+00</td>\n",
       "      <td>2.000000e+00</td>\n",
       "      <td>2.000000e+00</td>\n",
       "      <td>5.000000e+00</td>\n",
       "    </tr>\n",
       "    <tr>\n",
       "      <th>75%</th>\n",
       "      <td>7.500000e-01</td>\n",
       "      <td>2.000000e+00</td>\n",
       "      <td>2.000000e+00</td>\n",
       "      <td>1.473684e+00</td>\n",
       "      <td>1.578947e+00</td>\n",
       "      <td>6.093103e+00</td>\n",
       "      <td>2.000000e+00</td>\n",
       "      <td>2.000000e+00</td>\n",
       "      <td>1.000000e+00</td>\n",
       "      <td>1.000000e+00</td>\n",
       "      <td>2.000000e+00</td>\n",
       "      <td>2.000000e+00</td>\n",
       "      <td>7.500000e+00</td>\n",
       "    </tr>\n",
       "    <tr>\n",
       "      <th>max</th>\n",
       "      <td>1.000000e+00</td>\n",
       "      <td>2.000000e+00</td>\n",
       "      <td>8.000000e+00</td>\n",
       "      <td>2.000000e+00</td>\n",
       "      <td>3.401911e+01</td>\n",
       "      <td>8.000000e+00</td>\n",
       "      <td>2.000000e+00</td>\n",
       "      <td>4.859873e+00</td>\n",
       "      <td>5.000000e+00</td>\n",
       "      <td>7.000000e+00</td>\n",
       "      <td>8.000000e+00</td>\n",
       "      <td>7.000000e+00</td>\n",
       "      <td>1.000000e+01</td>\n",
       "    </tr>\n",
       "  </tbody>\n",
       "</table>\n",
       "</div>"
      ],
      "text/plain": [
       "              alpha  buffer_capacity_1  buffer_capacity_2    lambda_1_1  \\\n",
       "count  5.078880e+06       5.078880e+06       5.078880e+06  5.078880e+06   \n",
       "mean   4.999894e-01       1.992345e+00       2.045931e+00  9.939033e-01   \n",
       "std    3.027642e-01       8.715865e-02       5.229519e-01  6.087603e-01   \n",
       "min    0.000000e+00       1.000000e+00       2.000000e+00  0.000000e+00   \n",
       "25%    2.500000e-01       2.000000e+00       2.000000e+00  4.210526e-01   \n",
       "50%    5.000000e-01       2.000000e+00       2.000000e+00  9.473684e-01   \n",
       "75%    7.500000e-01       2.000000e+00       2.000000e+00  1.473684e+00   \n",
       "max    1.000000e+00       2.000000e+00       8.000000e+00  2.000000e+00   \n",
       "\n",
       "         lambda_1_2      lambda_2          mu_1          mu_2  \\\n",
       "count  5.078880e+06  5.078880e+06  5.078880e+06  5.078880e+06   \n",
       "mean   1.115661e+00  4.019762e+00  1.987909e+00  2.021893e+00   \n",
       "std    1.699545e+00  2.373917e+00  1.376609e-01  2.492627e-01   \n",
       "min    0.000000e+00  1.000000e-01  4.205707e-01  2.000000e+00   \n",
       "25%    5.263158e-01  2.006897e+00  2.000000e+00  2.000000e+00   \n",
       "50%    1.052632e+00  3.913793e+00  2.000000e+00  2.000000e+00   \n",
       "75%    1.578947e+00  6.093103e+00  2.000000e+00  2.000000e+00   \n",
       "max    3.401911e+01  8.000000e+00  2.000000e+00  4.859873e+00   \n",
       "\n",
       "       num_of_servers_1  num_of_servers_2  system_capacity_1  \\\n",
       "count      5.078880e+06      5.078880e+06       5.078880e+06   \n",
       "mean       1.030621e+00      1.045931e+00       2.045931e+00   \n",
       "std        3.486346e-01      5.229519e-01       5.229519e-01   \n",
       "min        1.000000e+00      1.000000e+00       2.000000e+00   \n",
       "25%        1.000000e+00      1.000000e+00       2.000000e+00   \n",
       "50%        1.000000e+00      1.000000e+00       2.000000e+00   \n",
       "75%        1.000000e+00      1.000000e+00       2.000000e+00   \n",
       "max        5.000000e+00      7.000000e+00       8.000000e+00   \n",
       "\n",
       "       system_capacity_2        target  \n",
       "count       5.078880e+06  5.078880e+06  \n",
       "mean        2.038276e+00  5.000000e+00  \n",
       "std         4.357932e-01  3.034885e+00  \n",
       "min         2.000000e+00  0.000000e+00  \n",
       "25%         2.000000e+00  2.500000e+00  \n",
       "50%         2.000000e+00  5.000000e+00  \n",
       "75%         2.000000e+00  7.500000e+00  \n",
       "max         7.000000e+00  1.000000e+01  "
      ]
     },
     "execution_count": 5,
     "metadata": {},
     "output_type": "execute_result"
    }
   ],
   "source": [
    "summary"
   ]
  },
  {
   "cell_type": "markdown",
   "metadata": {},
   "source": [
    "# Separation of set of parameters"
   ]
  },
  {
   "cell_type": "code",
   "execution_count": 4,
   "metadata": {},
   "outputs": [
    {
     "data": {
      "text/plain": [
       "2"
      ]
     },
     "execution_count": 4,
     "metadata": {},
     "output_type": "execute_result"
    }
   ],
   "source": [
    "df[\"buffer_capacity_2\"][5039999]"
   ]
  },
  {
   "cell_type": "code",
   "execution_count": 8,
   "metadata": {},
   "outputs": [
    {
     "data": {
      "text/plain": [
       "8"
      ]
     },
     "execution_count": 8,
     "metadata": {},
     "output_type": "execute_result"
    }
   ],
   "source": [
    "df[\"buffer_capacity_2\"][5040000]"
   ]
  },
  {
   "cell_type": "markdown",
   "metadata": {},
   "source": [
    "# Get hash of given set of parameters"
   ]
  },
  {
   "cell_type": "code",
   "execution_count": 9,
   "metadata": {},
   "outputs": [],
   "source": [
    "def get_index_of_values(problem_parameters, atol=1e-08, rtol=1e-05):\n",
    "    \"\"\"\n",
    "    Get the indices of the rows that match the given parameters' values\n",
    "    \"\"\"\n",
    "    index = df.index\n",
    "    condition = (\n",
    "        np.isclose(df[\"lambda_2\"], problem_parameters[\"lambda_2\"], atol=atol, rtol=rtol)\n",
    "        & np.isclose(df[\"lambda_1_1\"], problem_parameters[\"lambda_1_1\"], atol=atol, rtol=rtol)\n",
    "        & np.isclose(df[\"lambda_1_2\"], problem_parameters[\"lambda_1_2\"], atol=atol, rtol=rtol)\n",
    "        & np.isclose(df[\"mu_1\"], problem_parameters[\"mu_1\"], atol=atol, rtol=rtol)\n",
    "        & np.isclose(df[\"mu_2\"], problem_parameters[\"mu_2\"], atol=atol, rtol=rtol)\n",
    "        & np.isclose(df[\"num_of_servers_1\"], problem_parameters[\"num_of_servers_1\"])\n",
    "        & np.isclose(df[\"num_of_servers_2\"], problem_parameters[\"num_of_servers_2\"])\n",
    "        & np.isclose(df[\"system_capacity_1\"], problem_parameters[\"system_capacity_1\"])\n",
    "        & np.isclose(df[\"system_capacity_2\"], problem_parameters[\"system_capacity_2\"])\n",
    "        & np.isclose(df[\"buffer_capacity_1\"], problem_parameters[\"buffer_capacity_1\"])\n",
    "        & np.isclose(df[\"buffer_capacity_2\"], problem_parameters[\"buffer_capacity_2\"])\n",
    "        & np.isclose(df[\"alpha\"], problem_parameters[\"alpha\"])\n",
    "        & np.isclose(df[\"target\"], problem_parameters[\"target\"], atol=atol, rtol=rtol)\n",
    "    )\n",
    "    indices = index[condition]\n",
    "    return indices"
   ]
  },
  {
   "cell_type": "code",
   "execution_count": 10,
   "metadata": {},
   "outputs": [],
   "source": [
    "def create_directory_with_notebook(index_value):\n",
    "    \"\"\"\n",
    "    Create the directory with main.ipynb that contains a brief analysis for that scenario\n",
    "    \"\"\"\n",
    "    hash_value = df[index_value:index_value + 1][\"hash_value\"]\n",
    "    dirname = hash_value.to_string(index=False)[1:]\n",
    "    new_dir = pathlib.Path() / dirname\n",
    "    new_dir.mkdir(exist_ok=True)\n",
    "    command = 'copy _main\\main.ipynb ' + dirname + '\\\\'\n",
    "    os.system(command)\n",
    "    return dirname"
   ]
  },
  {
   "cell_type": "markdown",
   "metadata": {},
   "source": [
    "# Experiments"
   ]
  },
  {
   "cell_type": "markdown",
   "metadata": {},
   "source": [
    "# 1) Changing the target"
   ]
  },
  {
   "cell_type": "markdown",
   "metadata": {},
   "source": [
    "### 1.1) R = 5.2"
   ]
  },
  {
   "cell_type": "code",
   "execution_count": 11,
   "metadata": {},
   "outputs": [
    {
     "data": {
      "text/html": [
       "<div>\n",
       "<style scoped>\n",
       "    .dataframe tbody tr th:only-of-type {\n",
       "        vertical-align: middle;\n",
       "    }\n",
       "\n",
       "    .dataframe tbody tr th {\n",
       "        vertical-align: top;\n",
       "    }\n",
       "\n",
       "    .dataframe thead th {\n",
       "        text-align: right;\n",
       "    }\n",
       "</style>\n",
       "<table border=\"1\" class=\"dataframe\">\n",
       "  <thead>\n",
       "    <tr style=\"text-align: right;\">\n",
       "      <th></th>\n",
       "      <th>alpha</th>\n",
       "      <th>buffer_capacity_1</th>\n",
       "      <th>buffer_capacity_2</th>\n",
       "      <th>lambda_1_1</th>\n",
       "      <th>lambda_1_2</th>\n",
       "      <th>lambda_2</th>\n",
       "      <th>mu_1</th>\n",
       "      <th>mu_2</th>\n",
       "      <th>num_of_servers_1</th>\n",
       "      <th>num_of_servers_2</th>\n",
       "      <th>system_capacity_1</th>\n",
       "      <th>system_capacity_2</th>\n",
       "      <th>target</th>\n",
       "      <th>hash_value</th>\n",
       "    </tr>\n",
       "  </thead>\n",
       "  <tbody>\n",
       "    <tr>\n",
       "      <th>2667810</th>\n",
       "      <td>0.95</td>\n",
       "      <td>2</td>\n",
       "      <td>2</td>\n",
       "      <td>1.789474</td>\n",
       "      <td>1.157895</td>\n",
       "      <td>4.186207</td>\n",
       "      <td>2.0</td>\n",
       "      <td>2.0</td>\n",
       "      <td>1</td>\n",
       "      <td>1</td>\n",
       "      <td>2</td>\n",
       "      <td>2</td>\n",
       "      <td>5.263158</td>\n",
       "      <td>000000a094aa728bb6d364142375d4b4</td>\n",
       "    </tr>\n",
       "    <tr>\n",
       "      <th>2668230</th>\n",
       "      <td>0.95</td>\n",
       "      <td>2</td>\n",
       "      <td>2</td>\n",
       "      <td>1.789474</td>\n",
       "      <td>1.263158</td>\n",
       "      <td>4.186207</td>\n",
       "      <td>2.0</td>\n",
       "      <td>2.0</td>\n",
       "      <td>1</td>\n",
       "      <td>1</td>\n",
       "      <td>2</td>\n",
       "      <td>2</td>\n",
       "      <td>5.263158</td>\n",
       "      <td>bf94ff36c0fa6d3b9ee82460ddd3c797</td>\n",
       "    </tr>\n",
       "    <tr>\n",
       "      <th>2676210</th>\n",
       "      <td>0.95</td>\n",
       "      <td>2</td>\n",
       "      <td>2</td>\n",
       "      <td>1.894737</td>\n",
       "      <td>1.157895</td>\n",
       "      <td>4.186207</td>\n",
       "      <td>2.0</td>\n",
       "      <td>2.0</td>\n",
       "      <td>1</td>\n",
       "      <td>1</td>\n",
       "      <td>2</td>\n",
       "      <td>2</td>\n",
       "      <td>5.263158</td>\n",
       "      <td>2016f1dfab8b7adfb2ab939d0687e272</td>\n",
       "    </tr>\n",
       "    <tr>\n",
       "      <th>2676630</th>\n",
       "      <td>0.95</td>\n",
       "      <td>2</td>\n",
       "      <td>2</td>\n",
       "      <td>1.894737</td>\n",
       "      <td>1.263158</td>\n",
       "      <td>4.186207</td>\n",
       "      <td>2.0</td>\n",
       "      <td>2.0</td>\n",
       "      <td>1</td>\n",
       "      <td>1</td>\n",
       "      <td>2</td>\n",
       "      <td>2</td>\n",
       "      <td>5.263158</td>\n",
       "      <td>36ba11dbfa17feb5cfe3fe6e703b1999</td>\n",
       "    </tr>\n",
       "  </tbody>\n",
       "</table>\n",
       "</div>"
      ],
      "text/plain": [
       "         alpha  buffer_capacity_1  buffer_capacity_2  lambda_1_1  lambda_1_2  \\\n",
       "2667810   0.95                  2                  2    1.789474    1.157895   \n",
       "2668230   0.95                  2                  2    1.789474    1.263158   \n",
       "2676210   0.95                  2                  2    1.894737    1.157895   \n",
       "2676630   0.95                  2                  2    1.894737    1.263158   \n",
       "\n",
       "         lambda_2  mu_1  mu_2  num_of_servers_1  num_of_servers_2  \\\n",
       "2667810  4.186207   2.0   2.0                 1                 1   \n",
       "2668230  4.186207   2.0   2.0                 1                 1   \n",
       "2676210  4.186207   2.0   2.0                 1                 1   \n",
       "2676630  4.186207   2.0   2.0                 1                 1   \n",
       "\n",
       "         system_capacity_1  system_capacity_2    target  \\\n",
       "2667810                  2                  2  5.263158   \n",
       "2668230                  2                  2  5.263158   \n",
       "2676210                  2                  2  5.263158   \n",
       "2676630                  2                  2  5.263158   \n",
       "\n",
       "                               hash_value  \n",
       "2667810  000000a094aa728bb6d364142375d4b4  \n",
       "2668230  bf94ff36c0fa6d3b9ee82460ddd3c797  \n",
       "2676210  2016f1dfab8b7adfb2ab939d0687e272  \n",
       "2676630  36ba11dbfa17feb5cfe3fe6e703b1999  "
      ]
     },
     "execution_count": 11,
     "metadata": {},
     "output_type": "execute_result"
    }
   ],
   "source": [
    "problem_parameters = {\n",
    "        \"alpha\": 0.95,\n",
    "        \"buffer_capacity_1\": 2,\n",
    "        \"buffer_capacity_2\": 2,\n",
    "        \"lambda_1_1\": 1.8,\n",
    "        \"lambda_1_2\": 1.2,\n",
    "        \"lambda_2\": 4.2,\n",
    "        \"mu_1\": 2,\n",
    "        \"mu_2\": 2,\n",
    "        \"num_of_servers_1\": 1,\n",
    "        \"num_of_servers_2\": 1,\n",
    "        \"system_capacity_1\": 2,\n",
    "        \"system_capacity_2\": 2,\n",
    "        \"target\": 5.25,\n",
    "    }\n",
    "index = get_index_of_values(problem_parameters, atol=1e-01)\n",
    "df.iloc[list(index)]"
   ]
  },
  {
   "cell_type": "code",
   "execution_count": 12,
   "metadata": {},
   "outputs": [
    {
     "data": {
      "text/plain": [
       "'000000a094aa728bb6d364142375d4b4'"
      ]
     },
     "execution_count": 12,
     "metadata": {},
     "output_type": "execute_result"
    }
   ],
   "source": [
    "create_directory_with_notebook(index_value=index[0])"
   ]
  },
  {
   "cell_type": "markdown",
   "metadata": {},
   "source": [
    "### 1.2) R = 0.5"
   ]
  },
  {
   "cell_type": "code",
   "execution_count": 13,
   "metadata": {},
   "outputs": [
    {
     "data": {
      "text/html": [
       "<div>\n",
       "<style scoped>\n",
       "    .dataframe tbody tr th:only-of-type {\n",
       "        vertical-align: middle;\n",
       "    }\n",
       "\n",
       "    .dataframe tbody tr th {\n",
       "        vertical-align: top;\n",
       "    }\n",
       "\n",
       "    .dataframe thead th {\n",
       "        text-align: right;\n",
       "    }\n",
       "</style>\n",
       "<table border=\"1\" class=\"dataframe\">\n",
       "  <thead>\n",
       "    <tr style=\"text-align: right;\">\n",
       "      <th></th>\n",
       "      <th>alpha</th>\n",
       "      <th>buffer_capacity_1</th>\n",
       "      <th>buffer_capacity_2</th>\n",
       "      <th>lambda_1_1</th>\n",
       "      <th>lambda_1_2</th>\n",
       "      <th>lambda_2</th>\n",
       "      <th>mu_1</th>\n",
       "      <th>mu_2</th>\n",
       "      <th>num_of_servers_1</th>\n",
       "      <th>num_of_servers_2</th>\n",
       "      <th>system_capacity_1</th>\n",
       "      <th>system_capacity_2</th>\n",
       "      <th>target</th>\n",
       "      <th>hash_value</th>\n",
       "    </tr>\n",
       "  </thead>\n",
       "  <tbody>\n",
       "    <tr>\n",
       "      <th>2667801</th>\n",
       "      <td>0.95</td>\n",
       "      <td>2</td>\n",
       "      <td>2</td>\n",
       "      <td>1.789474</td>\n",
       "      <td>1.157895</td>\n",
       "      <td>4.186207</td>\n",
       "      <td>2.0</td>\n",
       "      <td>2.0</td>\n",
       "      <td>1</td>\n",
       "      <td>1</td>\n",
       "      <td>2</td>\n",
       "      <td>2</td>\n",
       "      <td>0.526316</td>\n",
       "      <td>1fde3123427a69cdf0d62fdf3cdf1e57</td>\n",
       "    </tr>\n",
       "    <tr>\n",
       "      <th>2668221</th>\n",
       "      <td>0.95</td>\n",
       "      <td>2</td>\n",
       "      <td>2</td>\n",
       "      <td>1.789474</td>\n",
       "      <td>1.263158</td>\n",
       "      <td>4.186207</td>\n",
       "      <td>2.0</td>\n",
       "      <td>2.0</td>\n",
       "      <td>1</td>\n",
       "      <td>1</td>\n",
       "      <td>2</td>\n",
       "      <td>2</td>\n",
       "      <td>0.526316</td>\n",
       "      <td>bf95cdd339f749235e8d4a0e8200e448</td>\n",
       "    </tr>\n",
       "    <tr>\n",
       "      <th>2676201</th>\n",
       "      <td>0.95</td>\n",
       "      <td>2</td>\n",
       "      <td>2</td>\n",
       "      <td>1.894737</td>\n",
       "      <td>1.157895</td>\n",
       "      <td>4.186207</td>\n",
       "      <td>2.0</td>\n",
       "      <td>2.0</td>\n",
       "      <td>1</td>\n",
       "      <td>1</td>\n",
       "      <td>2</td>\n",
       "      <td>2</td>\n",
       "      <td>0.526316</td>\n",
       "      <td>b193a7f260f370fc87ecb4acb7c902d0</td>\n",
       "    </tr>\n",
       "    <tr>\n",
       "      <th>2676621</th>\n",
       "      <td>0.95</td>\n",
       "      <td>2</td>\n",
       "      <td>2</td>\n",
       "      <td>1.894737</td>\n",
       "      <td>1.263158</td>\n",
       "      <td>4.186207</td>\n",
       "      <td>2.0</td>\n",
       "      <td>2.0</td>\n",
       "      <td>1</td>\n",
       "      <td>1</td>\n",
       "      <td>2</td>\n",
       "      <td>2</td>\n",
       "      <td>0.526316</td>\n",
       "      <td>e6f1ec3374cb331e9e546b12c823401a</td>\n",
       "    </tr>\n",
       "  </tbody>\n",
       "</table>\n",
       "</div>"
      ],
      "text/plain": [
       "         alpha  buffer_capacity_1  buffer_capacity_2  lambda_1_1  lambda_1_2  \\\n",
       "2667801   0.95                  2                  2    1.789474    1.157895   \n",
       "2668221   0.95                  2                  2    1.789474    1.263158   \n",
       "2676201   0.95                  2                  2    1.894737    1.157895   \n",
       "2676621   0.95                  2                  2    1.894737    1.263158   \n",
       "\n",
       "         lambda_2  mu_1  mu_2  num_of_servers_1  num_of_servers_2  \\\n",
       "2667801  4.186207   2.0   2.0                 1                 1   \n",
       "2668221  4.186207   2.0   2.0                 1                 1   \n",
       "2676201  4.186207   2.0   2.0                 1                 1   \n",
       "2676621  4.186207   2.0   2.0                 1                 1   \n",
       "\n",
       "         system_capacity_1  system_capacity_2    target  \\\n",
       "2667801                  2                  2  0.526316   \n",
       "2668221                  2                  2  0.526316   \n",
       "2676201                  2                  2  0.526316   \n",
       "2676621                  2                  2  0.526316   \n",
       "\n",
       "                               hash_value  \n",
       "2667801  1fde3123427a69cdf0d62fdf3cdf1e57  \n",
       "2668221  bf95cdd339f749235e8d4a0e8200e448  \n",
       "2676201  b193a7f260f370fc87ecb4acb7c902d0  \n",
       "2676621  e6f1ec3374cb331e9e546b12c823401a  "
      ]
     },
     "execution_count": 13,
     "metadata": {},
     "output_type": "execute_result"
    }
   ],
   "source": [
    "problem_parameters = {\n",
    "        \"alpha\": 0.95,\n",
    "        \"buffer_capacity_1\": 2,\n",
    "        \"buffer_capacity_2\": 2,\n",
    "        \"lambda_1_1\": 1.8,\n",
    "        \"lambda_1_2\": 1.2,\n",
    "        \"lambda_2\": 4.2,\n",
    "        \"mu_1\": 2,\n",
    "        \"mu_2\": 2,\n",
    "        \"num_of_servers_1\": 1,\n",
    "        \"num_of_servers_2\": 1,\n",
    "        \"system_capacity_1\": 2,\n",
    "        \"system_capacity_2\": 2,\n",
    "        \"target\": 0.5,\n",
    "    }\n",
    "index = get_index_of_values(problem_parameters, atol=1e-01)\n",
    "df.iloc[list(index)]"
   ]
  },
  {
   "cell_type": "code",
   "execution_count": 14,
   "metadata": {},
   "outputs": [
    {
     "data": {
      "text/plain": [
       "'1fde3123427a69cdf0d62fdf3cdf1e57'"
      ]
     },
     "execution_count": 14,
     "metadata": {},
     "output_type": "execute_result"
    }
   ],
   "source": [
    "create_directory_with_notebook(index_value=index[0])"
   ]
  },
  {
   "cell_type": "markdown",
   "metadata": {},
   "source": [
    "### Comparisons\n",
    "By comparing the jupyter notebooks in directories 000000a094aa728bb6d364142375d4b4/ and 1fde3123427a69cdf0d62fdf3cdf1e57/ we can observe that by decreasing the value of the target ($R$) there is some changes in the price of anarchy ($PoA$) for different performance measures:\n",
    "\n",
    "- Waiting Time: $\\qquad PoA(R \\approx 5) = 2.0 \\qquad \\qquad PoA(R \\approx 0.5) = 1.0$ \n",
    "- Blocking Time: $\\qquad PoA(R \\approx 5) = 1.0 \\qquad  \\qquad PoA(R \\approx 0.5) = 2.5$\n",
    "- Proportion of individuals lost: $\\qquad PoA(R \\approx 5) = 1.0 \\qquad  \\qquad PoA(R \\approx 0.5) = 1.9$"
   ]
  },
  {
   "cell_type": "markdown",
   "metadata": {},
   "source": [
    "# 2) Using fictitious play instead of Lemke-Howson (maybe???)"
   ]
  },
  {
   "cell_type": "code",
   "execution_count": 15,
   "metadata": {},
   "outputs": [
    {
     "data": {
      "text/html": [
       "<div>\n",
       "<style scoped>\n",
       "    .dataframe tbody tr th:only-of-type {\n",
       "        vertical-align: middle;\n",
       "    }\n",
       "\n",
       "    .dataframe tbody tr th {\n",
       "        vertical-align: top;\n",
       "    }\n",
       "\n",
       "    .dataframe thead th {\n",
       "        text-align: right;\n",
       "    }\n",
       "</style>\n",
       "<table border=\"1\" class=\"dataframe\">\n",
       "  <thead>\n",
       "    <tr style=\"text-align: right;\">\n",
       "      <th></th>\n",
       "      <th>alpha</th>\n",
       "      <th>buffer_capacity_1</th>\n",
       "      <th>buffer_capacity_2</th>\n",
       "      <th>lambda_1_1</th>\n",
       "      <th>lambda_1_2</th>\n",
       "      <th>lambda_2</th>\n",
       "      <th>mu_1</th>\n",
       "      <th>mu_2</th>\n",
       "      <th>num_of_servers_1</th>\n",
       "      <th>num_of_servers_2</th>\n",
       "      <th>system_capacity_1</th>\n",
       "      <th>system_capacity_2</th>\n",
       "      <th>target</th>\n",
       "      <th>hash_value</th>\n",
       "    </tr>\n",
       "  </thead>\n",
       "  <tbody>\n",
       "    <tr>\n",
       "      <th>5070399</th>\n",
       "      <td>0.35</td>\n",
       "      <td>1</td>\n",
       "      <td>8</td>\n",
       "      <td>0.33203</td>\n",
       "      <td>21.485754</td>\n",
       "      <td>0.1</td>\n",
       "      <td>0.420571</td>\n",
       "      <td>4.859873</td>\n",
       "      <td>5</td>\n",
       "      <td>7</td>\n",
       "      <td>8</td>\n",
       "      <td>7</td>\n",
       "      <td>10.0</td>\n",
       "      <td>6de372e4002184bee1f11056ff394126</td>\n",
       "    </tr>\n",
       "  </tbody>\n",
       "</table>\n",
       "</div>"
      ],
      "text/plain": [
       "         alpha  buffer_capacity_1  buffer_capacity_2  lambda_1_1  lambda_1_2  \\\n",
       "5070399   0.35                  1                  8     0.33203   21.485754   \n",
       "\n",
       "         lambda_2      mu_1      mu_2  num_of_servers_1  num_of_servers_2  \\\n",
       "5070399       0.1  0.420571  4.859873                 5                 7   \n",
       "\n",
       "         system_capacity_1  system_capacity_2  target  \\\n",
       "5070399                  8                  7    10.0   \n",
       "\n",
       "                               hash_value  \n",
       "5070399  6de372e4002184bee1f11056ff394126  "
      ]
     },
     "execution_count": 15,
     "metadata": {},
     "output_type": "execute_result"
    }
   ],
   "source": [
    "problem_parameters = {\n",
    "        \"alpha\": 0.35,\n",
    "        \"buffer_capacity_1\": 1,\n",
    "        \"buffer_capacity_2\": 8,\n",
    "        \"lambda_1_1\": 0.34,\n",
    "        \"lambda_1_2\": 21.4,\n",
    "        \"lambda_2\": 0.1,\n",
    "        \"mu_1\": 0.42,\n",
    "        \"mu_2\": 4.8,\n",
    "        \"num_of_servers_1\": 5,\n",
    "        \"num_of_servers_2\": 7,\n",
    "        \"system_capacity_1\": 8,\n",
    "        \"system_capacity_2\": 7,\n",
    "        \"target\": 10,\n",
    "    }\n",
    "index = get_index_of_values(problem_parameters, atol=1e-1)\n",
    "df.iloc[list(index)]"
   ]
  },
  {
   "cell_type": "code",
   "execution_count": 16,
   "metadata": {},
   "outputs": [
    {
     "data": {
      "text/plain": [
       "'6de372e4002184bee1f11056ff394126'"
      ]
     },
     "execution_count": 16,
     "metadata": {},
     "output_type": "execute_result"
    }
   ],
   "source": [
    "create_directory_with_notebook(index_value=index[0])"
   ]
  },
  {
   "cell_type": "markdown",
   "metadata": {},
   "source": [
    "## 3)"
   ]
  },
  {
   "cell_type": "code",
   "execution_count": null,
   "metadata": {},
   "outputs": [],
   "source": []
  },
  {
   "cell_type": "code",
   "execution_count": null,
   "metadata": {},
   "outputs": [],
   "source": []
  },
  {
   "cell_type": "code",
   "execution_count": null,
   "metadata": {},
   "outputs": [],
   "source": []
  },
  {
   "cell_type": "code",
   "execution_count": null,
   "metadata": {},
   "outputs": [],
   "source": []
  },
  {
   "cell_type": "code",
   "execution_count": null,
   "metadata": {},
   "outputs": [],
   "source": []
  },
  {
   "cell_type": "code",
   "execution_count": null,
   "metadata": {},
   "outputs": [],
   "source": []
  },
  {
   "cell_type": "code",
   "execution_count": null,
   "metadata": {},
   "outputs": [],
   "source": []
  },
  {
   "cell_type": "code",
   "execution_count": null,
   "metadata": {},
   "outputs": [],
   "source": []
  },
  {
   "cell_type": "code",
   "execution_count": null,
   "metadata": {},
   "outputs": [],
   "source": []
  },
  {
   "cell_type": "code",
   "execution_count": null,
   "metadata": {},
   "outputs": [],
   "source": []
  },
  {
   "cell_type": "markdown",
   "metadata": {},
   "source": [
    "# Looking into stochastic_fictitious_play()"
   ]
  },
  {
   "cell_type": "code",
   "execution_count": 31,
   "metadata": {},
   "outputs": [
    {
     "data": {
      "text/plain": [
       "([array([499., 501.]), array([495., 505.])],\n",
       " [array([0.50194612, 0.49805388]), array([0.50557038, 0.49442962])])"
      ]
     },
     "execution_count": 31,
     "metadata": {},
     "output_type": "execute_result"
    }
   ],
   "source": [
    "import nashpy as nash\n",
    "A = np.array(\n",
    "    [[-0.00248401, -0.00248401],\n",
    "    [-0.00247184, -0.00247325]]\n",
    ")\n",
    "B = np.array(\n",
    "    [[-0.00248698, -0.00247177],\n",
    "    [-0.00248698, -0.00247364]]\n",
    ")\n",
    "game = nash.Game(A, B)\n",
    "tuple(game.stochastic_fictitious_play(iterations=1000))[-1]"
   ]
  },
  {
   "cell_type": "code",
   "execution_count": 60,
   "metadata": {},
   "outputs": [
    {
     "data": {
      "text/plain": [
       "([array([514., 486.]), array([493., 507.])],\n",
       " [array([0.00496265, 0.99503735]), array([0.01195151, 0.98804849])])"
      ]
     },
     "execution_count": 60,
     "metadata": {},
     "output_type": "execute_result"
    }
   ],
   "source": [
    "tuple(game.stochastic_fictitious_play(iterations=1000, etha=0.0001))[-1]"
   ]
  },
  {
   "cell_type": "code",
   "execution_count": null,
   "metadata": {},
   "outputs": [],
   "source": []
  }
 ],
 "metadata": {
  "kernelspec": {
   "display_name": "Python 3",
   "language": "python",
   "name": "python3"
  },
  "language_info": {
   "codemirror_mode": {
    "name": "ipython",
    "version": 3
   },
   "file_extension": ".py",
   "mimetype": "text/x-python",
   "name": "python",
   "nbconvert_exporter": "python",
   "pygments_lexer": "ipython3",
   "version": "3.8.1"
  }
 },
 "nbformat": 4,
 "nbformat_minor": 2
}
