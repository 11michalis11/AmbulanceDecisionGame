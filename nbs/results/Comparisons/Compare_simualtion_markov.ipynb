{
 "cells": [
  {
   "cell_type": "code",
   "execution_count": 33,
   "metadata": {},
   "outputs": [],
   "source": [
    "import numpy as np\n",
    "import matplotlib.pyplot as plt\n",
    "import scipy as sci\n",
    "import ciw"
   ]
  },
  {
   "cell_type": "code",
   "execution_count": 34,
   "metadata": {},
   "outputs": [],
   "source": [
    "import ambulance_game as abg"
   ]
  },
  {
   "cell_type": "code",
   "execution_count": 35,
   "metadata": {},
   "outputs": [],
   "source": [
    "def get_mean_blocking_time(pi, states, lambda_a, lambda_o=None, mu=None):\n",
    "    mean_ambulances = abg.markov.get_mean_ambulances_blocked(pi, states)\n",
    "    mean_blocking_time = (mean_ambulances / lambda_a)\n",
    "    return mean_blocking_time"
   ]
  },
  {
   "cell_type": "code",
   "execution_count": 40,
   "metadata": {},
   "outputs": [],
   "source": [
    "# Parameters\n",
    "seed_num = None     \n",
    "runtime = 14400\n",
    "warm_up_time = 100\n",
    "num_of_trials = 50\n",
    "output_type = \"tuple\"\n",
    "system_capacity = 60\n",
    "parking_capacity = 40"
   ]
  },
  {
   "cell_type": "code",
   "execution_count": 41,
   "metadata": {},
   "outputs": [],
   "source": [
    "def compare_simulation_markov(lambda_a, lambda_o, mu, num_of_servers, threshold, seed_num, runtime, warm_up_time, num_of_trials, output_type, system_capacity, parking_capacity):\n",
    "    res = abg.simulation.get_multiple_runs_results(lambda_a=lambda_a, lambda_o=lambda_o, mu=mu, num_of_servers=num_of_servers, threshold=threshold, seed_num=seed_num, warm_up_time=warm_up_time, num_of_trials=num_of_trials, output_type=output_type, runtime=runtime, system_capacity=system_capacity, parking_capacity=parking_capacity)\n",
    "    sim_mean_block = np.mean([np.mean(b.blocking_times) for b in res])\n",
    "\n",
    "    all_states = abg.markov.build_states(threshold, system_capacity, parking_capacity)\n",
    "    Q = abg.markov.get_transition_matrix(lambda_a, lambda_o, mu, num_of_servers, threshold, system_capacity, parking_capacity)\n",
    "    pi = abg.markov.get_steady_state_algebraically(Q, algebraic_function=np.linalg.lstsq)\n",
    "\n",
    "    markov_mean_block = get_mean_blocking_time(pi, all_states, lambda_a, mu=mu)\n",
    "    \n",
    "    return sim_mean_block, markov_mean_block"
   ]
  },
  {
   "cell_type": "markdown",
   "metadata": {},
   "source": [
    "# Comparing blocking times with Little's law"
   ]
  },
  {
   "cell_type": "code",
   "execution_count": 42,
   "metadata": {},
   "outputs": [],
   "source": [
    "# par = [lambda_a, lambda_o, mu, num_of_servers, threshold]\n",
    "par_1 = [0.15, 0.2, 0.1, 8, 5]\n",
    "par_2 = [0.15, 0.1, 0.1, 7, 4]\n",
    "par_3 = [0.2, 0.3, 0.1, 12, 10]\n",
    "par_4 = [0.2, 0.3, 0.1, 13, 5]"
   ]
  },
  {
   "cell_type": "code",
   "execution_count": 43,
   "metadata": {},
   "outputs": [],
   "source": [
    "res1 = compare_simulation_markov(par_1[0], par_1[1], par_1[2], par_1[3], par_1[4], seed_num, runtime, warm_up_time, num_of_trials, output_type, system_capacity, parking_capacity)\n",
    "res2 = compare_simulation_markov(par_2[0], par_2[1], par_2[2], par_2[3], par_2[4], seed_num, runtime, warm_up_time, num_of_trials, output_type, system_capacity, parking_capacity)\n",
    "res3 = compare_simulation_markov(par_3[0], par_3[1], par_3[2], par_3[3], par_3[4], seed_num, runtime, warm_up_time, num_of_trials, output_type, system_capacity, parking_capacity)\n",
    "res4 = compare_simulation_markov(par_4[0], par_4[1], par_4[2], par_4[3], par_4[4], seed_num, runtime, warm_up_time, num_of_trials, output_type, system_capacity, parking_capacity)"
   ]
  },
  {
   "cell_type": "code",
   "execution_count": 48,
   "metadata": {},
   "outputs": [
    {
     "data": {
      "text/plain": [
       "(2.1280729831639538, 2.2074715188497813)"
      ]
     },
     "execution_count": 48,
     "metadata": {},
     "output_type": "execute_result"
    }
   ],
   "source": [
    "res1"
   ]
  },
  {
   "cell_type": "code",
   "execution_count": 49,
   "metadata": {},
   "outputs": [
    {
     "data": {
      "text/plain": [
       "(1.987419826598748, 1.9635149940302197)"
      ]
     },
     "execution_count": 49,
     "metadata": {},
     "output_type": "execute_result"
    }
   ],
   "source": [
    "res2"
   ]
  },
  {
   "cell_type": "code",
   "execution_count": 50,
   "metadata": {},
   "outputs": [
    {
     "data": {
      "text/plain": [
       "(0.0878194886998425, 0.08329506080883302)"
      ]
     },
     "execution_count": 50,
     "metadata": {},
     "output_type": "execute_result"
    }
   ],
   "source": [
    "res3"
   ]
  },
  {
   "cell_type": "code",
   "execution_count": 51,
   "metadata": {},
   "outputs": [
    {
     "data": {
      "text/plain": [
       "(14.848726478887867, 15.019252473424162)"
      ]
     },
     "execution_count": 51,
     "metadata": {},
     "output_type": "execute_result"
    }
   ],
   "source": [
    "res4"
   ]
  },
  {
   "cell_type": "code",
   "execution_count": null,
   "metadata": {},
   "outputs": [],
   "source": []
  },
  {
   "cell_type": "code",
   "execution_count": null,
   "metadata": {},
   "outputs": [],
   "source": []
  },
  {
   "cell_type": "markdown",
   "metadata": {},
   "source": [
    "# Compare waiting times without Little's Law"
   ]
  },
  {
   "cell_type": "code",
   "execution_count": 64,
   "metadata": {},
   "outputs": [],
   "source": [
    "lambda_a = 0.1\n",
    "lambda_o = 0.1\n",
    "mu = 0.1\n",
    "num_of_servers = 3\n",
    "threshold = 100"
   ]
  },
  {
   "cell_type": "code",
   "execution_count": 75,
   "metadata": {},
   "outputs": [],
   "source": [
    "# Parameters\n",
    "seed_num = None     \n",
    "runtime = 1440\n",
    "warm_up_time = 100\n",
    "num_of_trials = 100\n",
    "output_type = \"tuple\"\n",
    "system_capacity = 20\n",
    "parking_capacity = 10"
   ]
  },
  {
   "cell_type": "code",
   "execution_count": 76,
   "metadata": {},
   "outputs": [],
   "source": [
    "def get_mean_waiting_time(pi, states, lambda_a, lambda_o, mu, num_of_servers):\n",
    "    states_np = np.array(states)\n",
    "    indices = [index for index, (u,v) in enumerate(all_states) if v>num_of_servers and u==0]\n",
    "    mean_waiting_time = np.sum(((states_np[indices][:,1] - num_of_servers) / (mu * num_of_servers)) * pi[indices])\n",
    "    return mean_waiting_time"
   ]
  },
  {
   "cell_type": "code",
   "execution_count": 77,
   "metadata": {},
   "outputs": [],
   "source": [
    "res = abg.simulation.get_multiple_runs_results(lambda_a=lambda_a, lambda_o=lambda_o, mu=mu, num_of_servers=num_of_servers, threshold=threshold, seed_num=seed_num, warm_up_time=warm_up_time, num_of_trials=num_of_trials, output_type=output_type, runtime=runtime, system_capacity=system_capacity, parking_capacity=parking_capacity)\n",
    "sim_mean_wait = np.mean([np.mean(w.waiting_times) for w in res])\n",
    "\n",
    "all_states = abg.markov.build_states(threshold, system_capacity, parking_capacity)\n",
    "Q = abg.markov.get_transition_matrix(lambda_a, lambda_o, mu, num_of_servers, threshold, system_capacity, parking_capacity)\n",
    "pi = abg.markov.get_steady_state_algebraically(Q, algebraic_function=np.linalg.lstsq)\n",
    "\n",
    "markov_mean_wait = get_mean_waiting_time(pi, all_states, lambda_a, lambda_o, mu, num_of_servers)"
   ]
  },
  {
   "cell_type": "code",
   "execution_count": 78,
   "metadata": {},
   "outputs": [
    {
     "data": {
      "text/plain": [
       "4.412087409496544"
      ]
     },
     "execution_count": 78,
     "metadata": {},
     "output_type": "execute_result"
    }
   ],
   "source": [
    "sim_mean_wait"
   ]
  },
  {
   "cell_type": "code",
   "execution_count": 79,
   "metadata": {},
   "outputs": [
    {
     "data": {
      "text/plain": [
       "2.935718022099208"
      ]
     },
     "execution_count": 79,
     "metadata": {},
     "output_type": "execute_result"
    }
   ],
   "source": [
    "markov_mean_wait"
   ]
  },
  {
   "cell_type": "markdown",
   "metadata": {},
   "source": [
    "# Break-down of formula for mean waiting time"
   ]
  },
  {
   "cell_type": "code",
   "execution_count": 14,
   "metadata": {},
   "outputs": [],
   "source": [
    "states_np = np.array(all_states)"
   ]
  },
  {
   "cell_type": "code",
   "execution_count": 15,
   "metadata": {},
   "outputs": [],
   "source": [
    "indices = [index for index, (u,v) in enumerate(all_states) if v>num_of_servers and u==0]"
   ]
  },
  {
   "cell_type": "code",
   "execution_count": 17,
   "metadata": {},
   "outputs": [
    {
     "data": {
      "text/plain": [
       "[4, 5, 6, 7, 8, 9, 10, 11, 12, 13, 14, 15, 16, 17, 18, 19]"
      ]
     },
     "execution_count": 17,
     "metadata": {},
     "output_type": "execute_result"
    }
   ],
   "source": [
    "indices"
   ]
  },
  {
   "cell_type": "code",
   "execution_count": 18,
   "metadata": {},
   "outputs": [
    {
     "data": {
      "text/plain": [
       "array([ 4,  5,  6,  7,  8,  9, 10, 11, 12, 13, 14, 15, 16, 17, 18, 19])"
      ]
     },
     "execution_count": 18,
     "metadata": {},
     "output_type": "execute_result"
    }
   ],
   "source": [
    "states_np[indices][:,1]"
   ]
  },
  {
   "cell_type": "code",
   "execution_count": 19,
   "metadata": {},
   "outputs": [
    {
     "data": {
      "text/plain": [
       "array([ 1,  2,  3,  4,  5,  6,  7,  8,  9, 10, 11, 12, 13, 14, 15, 16])"
      ]
     },
     "execution_count": 19,
     "metadata": {},
     "output_type": "execute_result"
    }
   ],
   "source": [
    "states_np[indices][:,1] - num_of_servers"
   ]
  },
  {
   "cell_type": "code",
   "execution_count": 20,
   "metadata": {},
   "outputs": [
    {
     "data": {
      "text/plain": [
       "array([ 3.33333333,  6.66666667, 10.        , 13.33333333, 16.66666667,\n",
       "       20.        , 23.33333333, 26.66666667, 30.        , 33.33333333,\n",
       "       36.66666667, 40.        , 43.33333333, 46.66666667, 50.        ,\n",
       "       53.33333333])"
      ]
     },
     "execution_count": 20,
     "metadata": {},
     "output_type": "execute_result"
    }
   ],
   "source": [
    "(states_np[indices][:,1] - num_of_servers) / (mu * num_of_servers)"
   ]
  },
  {
   "cell_type": "code",
   "execution_count": 21,
   "metadata": {},
   "outputs": [
    {
     "data": {
      "text/plain": [
       "array([0.32936668, 0.43915558, 0.43915558, 0.39036051, 0.32530043,\n",
       "       0.26024034, 0.20240915, 0.1542165 , 0.11566237, 0.08567583,\n",
       "       0.06282894, 0.04569378, 0.03300106, 0.02369307, 0.01692362,\n",
       "       0.01203458])"
      ]
     },
     "execution_count": 21,
     "metadata": {},
     "output_type": "execute_result"
    }
   ],
   "source": [
    "((states_np[indices][:,1] - num_of_servers) / (mu * num_of_servers)) * pi[indices]"
   ]
  },
  {
   "cell_type": "code",
   "execution_count": 22,
   "metadata": {},
   "outputs": [
    {
     "data": {
      "text/plain": [
       "2.935718022099208"
      ]
     },
     "execution_count": 22,
     "metadata": {},
     "output_type": "execute_result"
    }
   ],
   "source": [
    "np.sum(((states_np[indices][:,1] - num_of_servers) / (mu * num_of_servers)) * pi[indices])"
   ]
  },
  {
   "cell_type": "code",
   "execution_count": null,
   "metadata": {},
   "outputs": [],
   "source": []
  },
  {
   "cell_type": "code",
   "execution_count": null,
   "metadata": {},
   "outputs": [],
   "source": []
  },
  {
   "cell_type": "code",
   "execution_count": null,
   "metadata": {},
   "outputs": [],
   "source": []
  },
  {
   "cell_type": "code",
   "execution_count": null,
   "metadata": {},
   "outputs": [],
   "source": []
  },
  {
   "cell_type": "code",
   "execution_count": null,
   "metadata": {},
   "outputs": [],
   "source": []
  },
  {
   "cell_type": "code",
   "execution_count": null,
   "metadata": {},
   "outputs": [],
   "source": []
  },
  {
   "cell_type": "code",
   "execution_count": null,
   "metadata": {},
   "outputs": [],
   "source": []
  }
 ],
 "metadata": {
  "kernelspec": {
   "display_name": "Python 3.8.1 64-bit ('AmbulanceGame': conda)",
   "language": "python",
   "name": "python38164bitambulancegameconda313376b6b30b4ff1a63b667ba23e8abb"
  },
  "language_info": {
   "codemirror_mode": {
    "name": "ipython",
    "version": 3
   },
   "file_extension": ".py",
   "mimetype": "text/x-python",
   "name": "python",
   "nbconvert_exporter": "python",
   "pygments_lexer": "ipython3",
   "version": "3.8.1"
  }
 },
 "nbformat": 4,
 "nbformat_minor": 4
}
