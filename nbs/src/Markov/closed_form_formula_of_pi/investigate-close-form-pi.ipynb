{
 "cells": [
  {
   "cell_type": "code",
   "execution_count": 1,
   "metadata": {},
   "outputs": [],
   "source": [
    "import ambulance_game as abg\n",
    "import numpy as np\n",
    "import sympy as sym\n",
    "from sympy.abc import a,b,c,d,e,f,g,h,i,j"
   ]
  },
  {
   "cell_type": "markdown",
   "metadata": {},
   "source": [
    "# Classic Markov Chain"
   ]
  },
  {
   "cell_type": "code",
   "execution_count": 2,
   "metadata": {},
   "outputs": [],
   "source": [
    "def get_P0(lambda_2, lambda_1, mu, num_of_servers, threshold):\n",
    "    ro = (lambda_2 + lambda_1) / (mu * num_of_servers)\n",
    "    summation_1 = np.sum(\n",
    "        [\n",
    "            ((ro * num_of_servers) ** i) / np.math.factorial(i)\n",
    "            for i in range(num_of_servers)\n",
    "        ]\n",
    "    )\n",
    "    summation_2 = ((num_of_servers * ro) ** num_of_servers) / (\n",
    "        np.math.factorial(num_of_servers) * (1 - ro)\n",
    "    )\n",
    "    P_0 = 1 / (summation_1 + summation_2)\n",
    "    return P_0\n"
   ]
  },
  {
   "cell_type": "code",
   "execution_count": 3,
   "metadata": {},
   "outputs": [],
   "source": [
    "def get_prob(P_0, state, lambda_2, lambda_1, mu, num_of_servers, threshold):\n",
    "    u = state[0]\n",
    "    v = state[1]\n",
    "\n",
    "    ro = (lambda_2 + lambda_1) / (mu * num_of_servers)\n",
    "    # P_0 = get_P0(lambda_2, lambda_1, mu, num_of_servers, threshold)\n",
    "\n",
    "    if v < num_of_servers:\n",
    "        P_i = P_0 * ((ro * num_of_servers) ** v) / np.math.factorial(v)\n",
    "        return P_i\n",
    "\n",
    "    # if u != 0:\n",
    "    #     ro_a = (lambda_2) / (mu * num_of_servers)\n",
    "    #     P_i_1 = (P_0 * (ro ** v) * (num_of_servers ** num_of_servers) / (np.math.factorial(num_of_servers)))\n",
    "    #     P_i_2 = (P_0 * (ro_a ** u) * (num_of_servers ** num_of_servers) / (np.math.factorial(num_of_servers)))\n",
    "    #     return P_i_1 + P_i_2\n",
    "\n",
    "    P_i = (P_0 * (ro ** v) * (num_of_servers ** num_of_servers) / (np.math.factorial(num_of_servers)))\n",
    "    return P_i\n"
   ]
  },
  {
   "cell_type": "code",
   "execution_count": 4,
   "metadata": {},
   "outputs": [],
   "source": [
    "lambda_2 = 1\n",
    "lambda_1 = 1\n",
    "mu = 2\n",
    "\n",
    "num_of_servers = 3\n",
    "threshold = 6\n",
    "system_capacity = threshold - 1\n",
    "buffer_capacity = 1\n"
   ]
  },
  {
   "cell_type": "code",
   "execution_count": 5,
   "metadata": {},
   "outputs": [
    {
     "data": {
      "text/plain": [
       "<networkx.classes.multidigraph.MultiDiGraph at 0x1c1c5a7ba58>"
      ]
     },
     "execution_count": 5,
     "metadata": {},
     "output_type": "execute_result"
    },
    {
     "data": {
      "image/png": "[encoded data removed]",
      "image/svg+xml": [
       "<?xml version=\"1.0\" encoding=\"utf-8\" standalone=\"no\"?>\r\n",
       "<!DOCTYPE svg PUBLIC \"-//W3C//DTD SVG 1.1//EN\"\r\n",
       "  \"http://www.w3.org/Graphics/SVG/1.1/DTD/svg11.dtd\">\r\n",
       "<!-- Created with matplotlib (https://matplotlib.org/) -->\r\n",
       "<svg height=\"422.1pt\" version=\"1.1\" viewBox=\"0 0 181.8 422.1\" width=\"181.8pt\" xmlns=\"http://www.w3.org/2000/svg\" xmlns:xlink=\"http://www.w3.org/1999/xlink\">\r\n",
       " <defs>\r\n",
       "  <style type=\"text/css\">\r\n",
       "*{stroke-linecap:butt;stroke-linejoin:round;}\r\n",
       "  </style>\r\n",
       " </defs>\r\n",
       " <g id=\"figure_1\">\r\n",
       "  <g id=\"patch_1\">\r\n",
       "   <path d=\"M 0 422.1 \r\n",
       "L 181.8 422.1 \r\n",
       "L 181.8 0 \r\n",
       "L 0 0 \r\n",
       "z\r\n",
       "\" style=\"fill:none;\"/>\r\n",
       "  </g>\r\n",
       "  <g id=\"axes_1\">\r\n",
       "   <g id=\"patch_2\">\r\n",
       "    <path clip-path=\"url(#p0bb7882a3a)\" d=\"M 90.9 379.521074 \r\n",
       "Q 90.9 350.155859 90.9 321.908677 \r\n",
       "\" style=\"fill:none;stroke:#000000;stroke-linecap:round;\"/>\r\n",
       "    <path clip-path=\"url(#p0bb7882a3a)\" d=\"M 88.9 325.908677 \r\n",
       "L 90.9 321.908677 \r\n",
       "L 92.9 325.908677 \r\n",
       "L 88.9 325.908677 \r\n",
       "z\r\n",
       "\" style=\"stroke:#000000;stroke-linecap:round;\"/>\r\n",
       "   </g>\r\n",
       "   <g id=\"patch_3\">\r\n",
       "    <path clip-path=\"url(#p0bb7882a3a)\" d=\"M 90.9 312.132645 \r\n",
       "Q 90.9 282.767429 90.9 254.520247 \r\n",
       "\" style=\"fill:none;stroke:#000000;stroke-linecap:round;\"/>\r\n",
       "    <path clip-path=\"url(#p0bb7882a3a)\" d=\"M 88.9 258.520247 \r\n",
       "L 90.9 254.520247 \r\n",
       "L 92.9 258.520247 \r\n",
       "L 88.9 258.520247 \r\n",
       "z\r\n",
       "\" style=\"stroke:#000000;stroke-linecap:round;\"/>\r\n",
       "   </g>\r\n",
       "   <g id=\"patch_4\">\r\n",
       "    <path clip-path=\"url(#p0bb7882a3a)\" d=\"M 90.9 244.744215 \r\n",
       "Q 90.9 215.378999 90.9 187.131817 \r\n",
       "\" style=\"fill:none;stroke:#000000;stroke-linecap:round;\"/>\r\n",
       "    <path clip-path=\"url(#p0bb7882a3a)\" d=\"M 88.9 191.131817 \r\n",
       "L 90.9 187.131817 \r\n",
       "L 92.9 191.131817 \r\n",
       "L 88.9 191.131817 \r\n",
       "z\r\n",
       "\" style=\"stroke:#000000;stroke-linecap:round;\"/>\r\n",
       "   </g>\r\n",
       "   <g id=\"patch_5\">\r\n",
       "    <path clip-path=\"url(#p0bb7882a3a)\" d=\"M 90.9 177.355785 \r\n",
       "Q 90.9 147.990569 90.9 119.743388 \r\n",
       "\" style=\"fill:none;stroke:#000000;stroke-linecap:round;\"/>\r\n",
       "    <path clip-path=\"url(#p0bb7882a3a)\" d=\"M 88.9 123.743388 \r\n",
       "L 90.9 119.743388 \r\n",
       "L 92.9 123.743388 \r\n",
       "L 88.9 123.743388 \r\n",
       "z\r\n",
       "\" style=\"stroke:#000000;stroke-linecap:round;\"/>\r\n",
       "   </g>\r\n",
       "   <g id=\"patch_6\">\r\n",
       "    <path clip-path=\"url(#p0bb7882a3a)\" d=\"M 90.9 109.967355 \r\n",
       "Q 90.9 80.60214 90.9 52.354958 \r\n",
       "\" style=\"fill:none;stroke:#000000;stroke-linecap:round;\"/>\r\n",
       "    <path clip-path=\"url(#p0bb7882a3a)\" d=\"M 88.9 56.354958 \r\n",
       "L 90.9 52.354958 \r\n",
       "L 92.9 56.354958 \r\n",
       "L 88.9 56.354958 \r\n",
       "z\r\n",
       "\" style=\"stroke:#000000;stroke-linecap:round;\"/>\r\n",
       "   </g>\r\n",
       "   <g id=\"PathCollection_1\">\r\n",
       "    <defs>\r\n",
       "     <path d=\"M 0 22.36068 \r\n",
       "C 5.930122 22.36068 11.618159 20.004617 15.811388 15.811388 \r\n",
       "C 20.004617 11.618159 22.36068 5.930122 22.36068 0 \r\n",
       "C 22.36068 -5.930122 20.004617 -11.618159 15.811388 -15.811388 \r\n",
       "C 11.618159 -20.004617 5.930122 -22.36068 0 -22.36068 \r\n",
       "C -5.930122 -22.36068 -11.618159 -20.004617 -15.811388 -15.811388 \r\n",
       "C -20.004617 -11.618159 -22.36068 -5.930122 -22.36068 0 \r\n",
       "C -22.36068 5.930122 -20.004617 11.618159 -15.811388 15.811388 \r\n",
       "C -11.618159 20.004617 -5.930122 22.36068 0 22.36068 \r\n",
       "z\r\n",
       "\" id=\"m95bcda4772\" style=\"stroke:#1f78b4;\"/>\r\n",
       "    </defs>\r\n",
       "    <g clip-path=\"url(#p0bb7882a3a)\">\r\n",
       "     <use style=\"fill:#1f78b4;stroke:#1f78b4;\" x=\"90.9\" xlink:href=\"#m95bcda4772\" y=\"379.521074\"/>\r\n",
       "     <use style=\"fill:#1f78b4;stroke:#1f78b4;\" x=\"90.9\" xlink:href=\"#m95bcda4772\" y=\"312.132645\"/>\r\n",
       "     <use style=\"fill:#1f78b4;stroke:#1f78b4;\" x=\"90.9\" xlink:href=\"#m95bcda4772\" y=\"244.744215\"/>\r\n",
       "    </g>\r\n",
       "   </g>\r\n",
       "   <g id=\"PathCollection_2\">\r\n",
       "    <defs>\r\n",
       "     <path d=\"M 0 22.36068 \r\n",
       "C 5.930122 22.36068 11.618159 20.004617 15.811388 15.811388 \r\n",
       "C 20.004617 11.618159 22.36068 5.930122 22.36068 0 \r\n",
       "C 22.36068 -5.930122 20.004617 -11.618159 15.811388 -15.811388 \r\n",
       "C 11.618159 -20.004617 5.930122 -22.36068 0 -22.36068 \r\n",
       "C -5.930122 -22.36068 -11.618159 -20.004617 -15.811388 -15.811388 \r\n",
       "C -20.004617 -11.618159 -22.36068 -5.930122 -22.36068 0 \r\n",
       "C -22.36068 5.930122 -20.004617 11.618159 -15.811388 15.811388 \r\n",
       "C -11.618159 20.004617 -5.930122 22.36068 0 22.36068 \r\n",
       "z\r\n",
       "\" id=\"mc1a015ea65\" style=\"stroke:#ff0000;\"/>\r\n",
       "    </defs>\r\n",
       "    <g clip-path=\"url(#p0bb7882a3a)\">\r\n",
       "     <use style=\"fill:#ff0000;stroke:#ff0000;\" x=\"90.9\" xlink:href=\"#mc1a015ea65\" y=\"177.355785\"/>\r\n",
       "     <use style=\"fill:#ff0000;stroke:#ff0000;\" x=\"90.9\" xlink:href=\"#mc1a015ea65\" y=\"109.967355\"/>\r\n",
       "     <use style=\"fill:#ff0000;stroke:#ff0000;\" x=\"90.9\" xlink:href=\"#mc1a015ea65\" y=\"42.578926\"/>\r\n",
       "    </g>\r\n",
       "   </g>\r\n",
       "   <g id=\"text_1\">\r\n",
       "    <g clip-path=\"url(#p0bb7882a3a)\">\r\n",
       "     <!-- (0, 0) -->\r\n",
       "     <defs>\r\n",
       "      <path d=\"M 31 75.875 \r\n",
       "Q 24.46875 64.65625 21.28125 53.65625 \r\n",
       "Q 18.109375 42.671875 18.109375 31.390625 \r\n",
       "Q 18.109375 20.125 21.3125 9.0625 \r\n",
       "Q 24.515625 -2 31 -13.1875 \r\n",
       "L 23.1875 -13.1875 \r\n",
       "Q 15.875 -1.703125 12.234375 9.375 \r\n",
       "Q 8.59375 20.453125 8.59375 31.390625 \r\n",
       "Q 8.59375 42.28125 12.203125 53.3125 \r\n",
       "Q 15.828125 64.359375 23.1875 75.875 \r\n",
       "z\r\n",
       "\" id=\"DejaVuSans-40\"/>\r\n",
       "      <path d=\"M 31.78125 66.40625 \r\n",
       "Q 24.171875 66.40625 20.328125 58.90625 \r\n",
       "Q 16.5 51.421875 16.5 36.375 \r\n",
       "Q 16.5 21.390625 20.328125 13.890625 \r\n",
       "Q 24.171875 6.390625 31.78125 6.390625 \r\n",
       "Q 39.453125 6.390625 43.28125 13.890625 \r\n",
       "Q 47.125 21.390625 47.125 36.375 \r\n",
       "Q 47.125 51.421875 43.28125 58.90625 \r\n",
       "Q 39.453125 66.40625 31.78125 66.40625 \r\n",
       "z\r\n",
       "M 31.78125 74.21875 \r\n",
       "Q 44.046875 74.21875 50.515625 64.515625 \r\n",
       "Q 56.984375 54.828125 56.984375 36.375 \r\n",
       "Q 56.984375 17.96875 50.515625 8.265625 \r\n",
       "Q 44.046875 -1.421875 31.78125 -1.421875 \r\n",
       "Q 19.53125 -1.421875 13.0625 8.265625 \r\n",
       "Q 6.59375 17.96875 6.59375 36.375 \r\n",
       "Q 6.59375 54.828125 13.0625 64.515625 \r\n",
       "Q 19.53125 74.21875 31.78125 74.21875 \r\n",
       "z\r\n",
       "\" id=\"DejaVuSans-48\"/>\r\n",
       "      <path d=\"M 11.71875 12.40625 \r\n",
       "L 22.015625 12.40625 \r\n",
       "L 22.015625 4 \r\n",
       "L 14.015625 -11.625 \r\n",
       "L 7.71875 -11.625 \r\n",
       "L 11.71875 4 \r\n",
       "z\r\n",
       "\" id=\"DejaVuSans-44\"/>\r\n",
       "      <path id=\"DejaVuSans-32\"/>\r\n",
       "      <path d=\"M 8.015625 75.875 \r\n",
       "L 15.828125 75.875 \r\n",
       "Q 23.140625 64.359375 26.78125 53.3125 \r\n",
       "Q 30.421875 42.28125 30.421875 31.390625 \r\n",
       "Q 30.421875 20.453125 26.78125 9.375 \r\n",
       "Q 23.140625 -1.703125 15.828125 -13.1875 \r\n",
       "L 8.015625 -13.1875 \r\n",
       "Q 14.5 -2 17.703125 9.0625 \r\n",
       "Q 20.90625 20.125 20.90625 31.390625 \r\n",
       "Q 20.90625 42.671875 17.703125 53.65625 \r\n",
       "Q 14.5 64.65625 8.015625 75.875 \r\n",
       "z\r\n",
       "\" id=\"DejaVuSans-41\"/>\r\n",
       "     </defs>\r\n",
       "     <g transform=\"translate(74.769375 382.832324)scale(0.12 -0.12)\">\r\n",
       "      <use xlink:href=\"#DejaVuSans-40\"/>\r\n",
       "      <use x=\"39.013672\" xlink:href=\"#DejaVuSans-48\"/>\r\n",
       "      <use x=\"102.636719\" xlink:href=\"#DejaVuSans-44\"/>\r\n",
       "      <use x=\"134.423828\" xlink:href=\"#DejaVuSans-32\"/>\r\n",
       "      <use x=\"166.210938\" xlink:href=\"#DejaVuSans-48\"/>\r\n",
       "      <use x=\"229.833984\" xlink:href=\"#DejaVuSans-41\"/>\r\n",
       "     </g>\r\n",
       "    </g>\r\n",
       "   </g>\r\n",
       "   <g id=\"text_2\">\r\n",
       "    <g clip-path=\"url(#p0bb7882a3a)\">\r\n",
       "     <!-- (0, 1) -->\r\n",
       "     <defs>\r\n",
       "      <path d=\"M 12.40625 8.296875 \r\n",
       "L 28.515625 8.296875 \r\n",
       "L 28.515625 63.921875 \r\n",
       "L 10.984375 60.40625 \r\n",
       "L 10.984375 69.390625 \r\n",
       "L 28.421875 72.90625 \r\n",
       "L 38.28125 72.90625 \r\n",
       "L 38.28125 8.296875 \r\n",
       "L 54.390625 8.296875 \r\n",
       "L 54.390625 0 \r\n",
       "L 12.40625 0 \r\n",
       "z\r\n",
       "\" id=\"DejaVuSans-49\"/>\r\n",
       "     </defs>\r\n",
       "     <g transform=\"translate(74.769375 315.443895)scale(0.12 -0.12)\">\r\n",
       "      <use xlink:href=\"#DejaVuSans-40\"/>\r\n",
       "      <use x=\"39.013672\" xlink:href=\"#DejaVuSans-48\"/>\r\n",
       "      <use x=\"102.636719\" xlink:href=\"#DejaVuSans-44\"/>\r\n",
       "      <use x=\"134.423828\" xlink:href=\"#DejaVuSans-32\"/>\r\n",
       "      <use x=\"166.210938\" xlink:href=\"#DejaVuSans-49\"/>\r\n",
       "      <use x=\"229.833984\" xlink:href=\"#DejaVuSans-41\"/>\r\n",
       "     </g>\r\n",
       "    </g>\r\n",
       "   </g>\r\n",
       "   <g id=\"text_3\">\r\n",
       "    <g clip-path=\"url(#p0bb7882a3a)\">\r\n",
       "     <!-- (0, 2) -->\r\n",
       "     <defs>\r\n",
       "      <path d=\"M 19.1875 8.296875 \r\n",
       "L 53.609375 8.296875 \r\n",
       "L 53.609375 0 \r\n",
       "L 7.328125 0 \r\n",
       "L 7.328125 8.296875 \r\n",
       "Q 12.9375 14.109375 22.625 23.890625 \r\n",
       "Q 32.328125 33.6875 34.8125 36.53125 \r\n",
       "Q 39.546875 41.84375 41.421875 45.53125 \r\n",
       "Q 43.3125 49.21875 43.3125 52.78125 \r\n",
       "Q 43.3125 58.59375 39.234375 62.25 \r\n",
       "Q 35.15625 65.921875 28.609375 65.921875 \r\n",
       "Q 23.96875 65.921875 18.8125 64.3125 \r\n",
       "Q 13.671875 62.703125 7.8125 59.421875 \r\n",
       "L 7.8125 69.390625 \r\n",
       "Q 13.765625 71.78125 18.9375 73 \r\n",
       "Q 24.125 74.21875 28.421875 74.21875 \r\n",
       "Q 39.75 74.21875 46.484375 68.546875 \r\n",
       "Q 53.21875 62.890625 53.21875 53.421875 \r\n",
       "Q 53.21875 48.921875 51.53125 44.890625 \r\n",
       "Q 49.859375 40.875 45.40625 35.40625 \r\n",
       "Q 44.1875 33.984375 37.640625 27.21875 \r\n",
       "Q 31.109375 20.453125 19.1875 8.296875 \r\n",
       "z\r\n",
       "\" id=\"DejaVuSans-50\"/>\r\n",
       "     </defs>\r\n",
       "     <g transform=\"translate(74.769375 248.055465)scale(0.12 -0.12)\">\r\n",
       "      <use xlink:href=\"#DejaVuSans-40\"/>\r\n",
       "      <use x=\"39.013672\" xlink:href=\"#DejaVuSans-48\"/>\r\n",
       "      <use x=\"102.636719\" xlink:href=\"#DejaVuSans-44\"/>\r\n",
       "      <use x=\"134.423828\" xlink:href=\"#DejaVuSans-32\"/>\r\n",
       "      <use x=\"166.210938\" xlink:href=\"#DejaVuSans-50\"/>\r\n",
       "      <use x=\"229.833984\" xlink:href=\"#DejaVuSans-41\"/>\r\n",
       "     </g>\r\n",
       "    </g>\r\n",
       "   </g>\r\n",
       "   <g id=\"text_4\">\r\n",
       "    <g clip-path=\"url(#p0bb7882a3a)\">\r\n",
       "     <!-- (0, 3) -->\r\n",
       "     <defs>\r\n",
       "      <path d=\"M 40.578125 39.3125 \r\n",
       "Q 47.65625 37.796875 51.625 33 \r\n",
       "Q 55.609375 28.21875 55.609375 21.1875 \r\n",
       "Q 55.609375 10.40625 48.1875 4.484375 \r\n",
       "Q 40.765625 -1.421875 27.09375 -1.421875 \r\n",
       "Q 22.515625 -1.421875 17.65625 -0.515625 \r\n",
       "Q 12.796875 0.390625 7.625 2.203125 \r\n",
       "L 7.625 11.71875 \r\n",
       "Q 11.71875 9.328125 16.59375 8.109375 \r\n",
       "Q 21.484375 6.890625 26.8125 6.890625 \r\n",
       "Q 36.078125 6.890625 40.9375 10.546875 \r\n",
       "Q 45.796875 14.203125 45.796875 21.1875 \r\n",
       "Q 45.796875 27.640625 41.28125 31.265625 \r\n",
       "Q 36.765625 34.90625 28.71875 34.90625 \r\n",
       "L 20.21875 34.90625 \r\n",
       "L 20.21875 43.015625 \r\n",
       "L 29.109375 43.015625 \r\n",
       "Q 36.375 43.015625 40.234375 45.921875 \r\n",
       "Q 44.09375 48.828125 44.09375 54.296875 \r\n",
       "Q 44.09375 59.90625 40.109375 62.90625 \r\n",
       "Q 36.140625 65.921875 28.71875 65.921875 \r\n",
       "Q 24.65625 65.921875 20.015625 65.03125 \r\n",
       "Q 15.375 64.15625 9.8125 62.3125 \r\n",
       "L 9.8125 71.09375 \r\n",
       "Q 15.4375 72.65625 20.34375 73.4375 \r\n",
       "Q 25.25 74.21875 29.59375 74.21875 \r\n",
       "Q 40.828125 74.21875 47.359375 69.109375 \r\n",
       "Q 53.90625 64.015625 53.90625 55.328125 \r\n",
       "Q 53.90625 49.265625 50.4375 45.09375 \r\n",
       "Q 46.96875 40.921875 40.578125 39.3125 \r\n",
       "z\r\n",
       "\" id=\"DejaVuSans-51\"/>\r\n",
       "     </defs>\r\n",
       "     <g transform=\"translate(74.769375 180.667035)scale(0.12 -0.12)\">\r\n",
       "      <use xlink:href=\"#DejaVuSans-40\"/>\r\n",
       "      <use x=\"39.013672\" xlink:href=\"#DejaVuSans-48\"/>\r\n",
       "      <use x=\"102.636719\" xlink:href=\"#DejaVuSans-44\"/>\r\n",
       "      <use x=\"134.423828\" xlink:href=\"#DejaVuSans-32\"/>\r\n",
       "      <use x=\"166.210938\" xlink:href=\"#DejaVuSans-51\"/>\r\n",
       "      <use x=\"229.833984\" xlink:href=\"#DejaVuSans-41\"/>\r\n",
       "     </g>\r\n",
       "    </g>\r\n",
       "   </g>\r\n",
       "   <g id=\"text_5\">\r\n",
       "    <g clip-path=\"url(#p0bb7882a3a)\">\r\n",
       "     <!-- (0, 4) -->\r\n",
       "     <defs>\r\n",
       "      <path d=\"M 37.796875 64.3125 \r\n",
       "L 12.890625 25.390625 \r\n",
       "L 37.796875 25.390625 \r\n",
       "z\r\n",
       "M 35.203125 72.90625 \r\n",
       "L 47.609375 72.90625 \r\n",
       "L 47.609375 25.390625 \r\n",
       "L 58.015625 25.390625 \r\n",
       "L 58.015625 17.1875 \r\n",
       "L 47.609375 17.1875 \r\n",
       "L 47.609375 0 \r\n",
       "L 37.796875 0 \r\n",
       "L 37.796875 17.1875 \r\n",
       "L 4.890625 17.1875 \r\n",
       "L 4.890625 26.703125 \r\n",
       "z\r\n",
       "\" id=\"DejaVuSans-52\"/>\r\n",
       "     </defs>\r\n",
       "     <g transform=\"translate(74.769375 113.278605)scale(0.12 -0.12)\">\r\n",
       "      <use xlink:href=\"#DejaVuSans-40\"/>\r\n",
       "      <use x=\"39.013672\" xlink:href=\"#DejaVuSans-48\"/>\r\n",
       "      <use x=\"102.636719\" xlink:href=\"#DejaVuSans-44\"/>\r\n",
       "      <use x=\"134.423828\" xlink:href=\"#DejaVuSans-32\"/>\r\n",
       "      <use x=\"166.210938\" xlink:href=\"#DejaVuSans-52\"/>\r\n",
       "      <use x=\"229.833984\" xlink:href=\"#DejaVuSans-41\"/>\r\n",
       "     </g>\r\n",
       "    </g>\r\n",
       "   </g>\r\n",
       "   <g id=\"text_6\">\r\n",
       "    <g clip-path=\"url(#p0bb7882a3a)\">\r\n",
       "     <!-- (0, 5) -->\r\n",
       "     <defs>\r\n",
       "      <path d=\"M 10.796875 72.90625 \r\n",
       "L 49.515625 72.90625 \r\n",
       "L 49.515625 64.59375 \r\n",
       "L 19.828125 64.59375 \r\n",
       "L 19.828125 46.734375 \r\n",
       "Q 21.96875 47.46875 24.109375 47.828125 \r\n",
       "Q 26.265625 48.1875 28.421875 48.1875 \r\n",
       "Q 40.625 48.1875 47.75 41.5 \r\n",
       "Q 54.890625 34.8125 54.890625 23.390625 \r\n",
       "Q 54.890625 11.625 47.5625 5.09375 \r\n",
       "Q 40.234375 -1.421875 26.90625 -1.421875 \r\n",
       "Q 22.3125 -1.421875 17.546875 -0.640625 \r\n",
       "Q 12.796875 0.140625 7.71875 1.703125 \r\n",
       "L 7.71875 11.625 \r\n",
       "Q 12.109375 9.234375 16.796875 8.0625 \r\n",
       "Q 21.484375 6.890625 26.703125 6.890625 \r\n",
       "Q 35.15625 6.890625 40.078125 11.328125 \r\n",
       "Q 45.015625 15.765625 45.015625 23.390625 \r\n",
       "Q 45.015625 31 40.078125 35.4375 \r\n",
       "Q 35.15625 39.890625 26.703125 39.890625 \r\n",
       "Q 22.75 39.890625 18.8125 39.015625 \r\n",
       "Q 14.890625 38.140625 10.796875 36.28125 \r\n",
       "z\r\n",
       "\" id=\"DejaVuSans-53\"/>\r\n",
       "     </defs>\r\n",
       "     <g transform=\"translate(74.769375 45.890176)scale(0.12 -0.12)\">\r\n",
       "      <use xlink:href=\"#DejaVuSans-40\"/>\r\n",
       "      <use x=\"39.013672\" xlink:href=\"#DejaVuSans-48\"/>\r\n",
       "      <use x=\"102.636719\" xlink:href=\"#DejaVuSans-44\"/>\r\n",
       "      <use x=\"134.423828\" xlink:href=\"#DejaVuSans-32\"/>\r\n",
       "      <use x=\"166.210938\" xlink:href=\"#DejaVuSans-53\"/>\r\n",
       "      <use x=\"229.833984\" xlink:href=\"#DejaVuSans-41\"/>\r\n",
       "     </g>\r\n",
       "    </g>\r\n",
       "   </g>\r\n",
       "  </g>\r\n",
       " </g>\r\n",
       " <defs>\r\n",
       "  <clipPath id=\"p0bb7882a3a\">\r\n",
       "   <rect height=\"407.7\" width=\"167.4\" x=\"7.2\" y=\"7.2\"/>\r\n",
       "  </clipPath>\r\n",
       " </defs>\r\n",
       "</svg>\r\n"
      ],
      "text/plain": [
       "<Figure size 216x540 with 1 Axes>"
      ]
     },
     "metadata": {},
     "output_type": "display_data"
    }
   ],
   "source": [
    "abg.markov.visualise_ambulance_markov_chain(num_of_servers, threshold, system_capacity, buffer_capacity)"
   ]
  },
  {
   "cell_type": "code",
   "execution_count": 6,
   "metadata": {},
   "outputs": [
    {
     "data": {
      "text/plain": [
       "array([0.36486486, 0.36486486, 0.18243243, 0.06081081, 0.02027027,\n",
       "       0.00675676])"
      ]
     },
     "execution_count": 6,
     "metadata": {},
     "output_type": "execute_result"
    }
   ],
   "source": [
    "all_states = abg.markov.build_states(threshold, system_capacity, buffer_capacity)\n",
    "Q = abg.markov.get_transition_matrix(\n",
    "    lambda_2, lambda_1, mu, num_of_servers, threshold, system_capacity, buffer_capacity\n",
    ")\n",
    "sol = abg.markov.get_steady_state_algebraically(Q, algebraic_function=np.linalg.solve)\n",
    "sol\n",
    "\n"
   ]
  },
  {
   "cell_type": "code",
   "execution_count": 7,
   "metadata": {},
   "outputs": [
    {
     "data": {
      "text/plain": [
       "0.9966329966329966"
      ]
     },
     "execution_count": 7,
     "metadata": {},
     "output_type": "execute_result"
    }
   ],
   "source": [
    "exact_P0 = get_P0(lambda_2, lambda_1, mu, num_of_servers, threshold)\n",
    "sum([get_prob(exact_P0, state, lambda_2, lambda_1, mu, num_of_servers, threshold) for state in all_states])\n"
   ]
  },
  {
   "cell_type": "code",
   "execution_count": 8,
   "metadata": {},
   "outputs": [
    {
     "data": {
      "text/plain": [
       "0.9999999999999999"
      ]
     },
     "execution_count": 8,
     "metadata": {},
     "output_type": "execute_result"
    }
   ],
   "source": [
    "sum([get_prob(sol[0], state, lambda_2, lambda_1, mu, num_of_servers, threshold) for state in all_states])\n"
   ]
  },
  {
   "cell_type": "markdown",
   "metadata": {},
   "source": [
    "# Using Sympy"
   ]
  },
  {
   "cell_type": "code",
   "execution_count": 9,
   "metadata": {},
   "outputs": [],
   "source": [
    "lambda_2 = 1\n",
    "lambda_1 = 1\n",
    "mu = 2\n",
    "\n",
    "num_of_servers = 1\n",
    "threshold = 3\n",
    "system_capacity = threshold - 1\n",
    "buffer_capacity = 1"
   ]
  },
  {
   "cell_type": "markdown",
   "metadata": {},
   "source": [
    "## Numeric"
   ]
  },
  {
   "cell_type": "code",
   "execution_count": 10,
   "metadata": {},
   "outputs": [
    {
     "data": {
      "text/plain": [
       "array([[-2.,  2.,  0.],\n",
       "       [ 2., -4.,  2.],\n",
       "       [ 0.,  2., -2.]])"
      ]
     },
     "execution_count": 10,
     "metadata": {},
     "output_type": "execute_result"
    }
   ],
   "source": [
    "Q_num = abg.markov.get_transition_matrix(lambda_2=lambda_2, lambda_1=lambda_1, mu=mu, num_of_servers=num_of_servers, threshold=threshold, system_capacity=system_capacity, buffer_capacity=buffer_capacity)\n",
    "Q_num"
   ]
  },
  {
   "cell_type": "code",
   "execution_count": 11,
   "metadata": {
    "tags": []
   },
   "outputs": [
    {
     "name": "stdout",
     "output_type": "stream",
     "text": [
      "3\n"
     ]
    }
   ],
   "source": [
    "dimension = Q_num.shape[0]\n",
    "print(dimension)"
   ]
  },
  {
   "cell_type": "code",
   "execution_count": 12,
   "metadata": {
    "tags": []
   },
   "outputs": [
    {
     "data": {
      "text/plain": [
       "array([[-2.,  2.,  0.],\n",
       "       [ 2., -4.,  2.]])"
      ]
     },
     "execution_count": 12,
     "metadata": {},
     "output_type": "execute_result"
    }
   ],
   "source": [
    "Q_num.transpose()[:-1,:]"
   ]
  },
  {
   "cell_type": "code",
   "execution_count": 13,
   "metadata": {},
   "outputs": [
    {
     "data": {
      "text/plain": [
       "array([[-2.,  2.,  0.],\n",
       "       [ 2., -4.,  2.],\n",
       "       [ 1.,  1.,  1.]])"
      ]
     },
     "execution_count": 13,
     "metadata": {},
     "output_type": "execute_result"
    }
   ],
   "source": [
    "M_num = np.vstack((Q_num.transpose()[:-1], np.ones(dimension)))\n",
    "M_num"
   ]
  },
  {
   "cell_type": "code",
   "execution_count": 14,
   "metadata": {},
   "outputs": [
    {
     "data": {
      "text/plain": [
       "array([[0.],\n",
       "       [0.],\n",
       "       [1.]])"
      ]
     },
     "execution_count": 14,
     "metadata": {},
     "output_type": "execute_result"
    }
   ],
   "source": [
    "b_num = np.vstack((np.zeros((dimension - 1, 1)), [1]))\n",
    "b_num"
   ]
  },
  {
   "cell_type": "code",
   "execution_count": 15,
   "metadata": {},
   "outputs": [
    {
     "data": {
      "text/plain": [
       "array([0.33333333, 0.33333333, 0.33333333])"
      ]
     },
     "execution_count": 15,
     "metadata": {},
     "output_type": "execute_result"
    }
   ],
   "source": [
    "np.linalg.solve(M_num, b_num).transpose()[0]"
   ]
  },
  {
   "cell_type": "markdown",
   "metadata": {},
   "source": [
    "## Symbolic"
   ]
  },
  {
   "cell_type": "code",
   "execution_count": 16,
   "metadata": {
    "tags": []
   },
   "outputs": [
    {
     "data": {
      "text/latex": [
       "$\\displaystyle \\left[\\begin{matrix}- \\Lambda & \\Lambda & 0\\\\\\mu & - \\Lambda - \\mu & \\Lambda\\\\0 & \\mu & - \\mu\\end{matrix}\\right]$"
      ],
      "text/plain": [
       "Matrix([\n",
       "[-Lambda,       Lambda,      0],\n",
       "[     mu, -Lambda - mu, Lambda],\n",
       "[      0,           mu,    -mu]])"
      ]
     },
     "execution_count": 16,
     "metadata": {},
     "output_type": "execute_result"
    }
   ],
   "source": [
    "Q_sym = abg.markov.get_symbolic_transition_matrix(num_of_servers=num_of_servers, \n",
    "                                            threshold=threshold, \n",
    "                                            system_capacity=system_capacity,\n",
    "                                            buffer_capacity=buffer_capacity)\n",
    "Q_sym"
   ]
  },
  {
   "cell_type": "code",
   "execution_count": 17,
   "metadata": {},
   "outputs": [
    {
     "data": {
      "text/plain": [
       "3"
      ]
     },
     "execution_count": 17,
     "metadata": {},
     "output_type": "execute_result"
    }
   ],
   "source": [
    "dimension = Q_sym.shape[0]\n",
    "dimension"
   ]
  },
  {
   "cell_type": "code",
   "execution_count": 18,
   "metadata": {},
   "outputs": [
    {
     "data": {
      "text/latex": [
       "$\\displaystyle \\left[\\begin{matrix}1 & 1 & 1\\end{matrix}\\right]$"
      ],
      "text/plain": [
       "Matrix([[1, 1, 1]])"
      ]
     },
     "execution_count": 18,
     "metadata": {},
     "output_type": "execute_result"
    }
   ],
   "source": [
    "sym.ones(1, dimension)"
   ]
  },
  {
   "cell_type": "code",
   "execution_count": 19,
   "metadata": {},
   "outputs": [
    {
     "data": {
      "text/latex": [
       "$\\displaystyle \\left[\\begin{matrix}- \\Lambda & \\mu & 0\\\\\\Lambda & - \\Lambda - \\mu & \\mu\\\\1 & 1 & 1\\end{matrix}\\right]$"
      ],
      "text/plain": [
       "Matrix([\n",
       "[-Lambda,           mu,  0],\n",
       "[ Lambda, -Lambda - mu, mu],\n",
       "[      1,            1,  1]])"
      ]
     },
     "execution_count": 19,
     "metadata": {},
     "output_type": "execute_result"
    }
   ],
   "source": [
    "M_sym = sym.Matrix([Q_sym.transpose()[:-1,:], sym.ones(1,dimension)])\n",
    "M_sym"
   ]
  },
  {
   "cell_type": "code",
   "execution_count": 20,
   "metadata": {},
   "outputs": [
    {
     "data": {
      "text/latex": [
       "$\\displaystyle \\left[\\begin{matrix}0\\\\0\\\\1\\end{matrix}\\right]$"
      ],
      "text/plain": [
       "Matrix([\n",
       "[0],\n",
       "[0],\n",
       "[1]])"
      ]
     },
     "execution_count": 20,
     "metadata": {},
     "output_type": "execute_result"
    }
   ],
   "source": [
    "b_sym = sym.Matrix([sym.zeros(dimension - 1, 1), [1]])\n",
    "b_sym"
   ]
  },
  {
   "cell_type": "code",
   "execution_count": 21,
   "metadata": {},
   "outputs": [
    {
     "data": {
      "text/latex": [
       "$\\displaystyle \\left[\\begin{matrix}- \\Lambda & \\mu & 0 & 0\\\\\\Lambda & - \\Lambda - \\mu & \\mu & 0\\\\1 & 1 & 1 & 1\\end{matrix}\\right]$"
      ],
      "text/plain": [
       "Matrix([\n",
       "[-Lambda,           mu,  0, 0],\n",
       "[ Lambda, -Lambda - mu, mu, 0],\n",
       "[      1,            1,  1, 1]])"
      ]
     },
     "execution_count": 21,
     "metadata": {},
     "output_type": "execute_result"
    }
   ],
   "source": [
    "system = M_sym.col_insert(5,b_sym)\n",
    "system"
   ]
  },
  {
   "cell_type": "code",
   "execution_count": 22,
   "metadata": {
    "tags": []
   },
   "outputs": [
    {
     "data": {
      "text/latex": [
       "$\\displaystyle \\left\\{ a : - \\frac{\\Lambda + \\frac{\\Lambda \\left(\\Lambda + \\mu\\right)}{- 2 \\Lambda - \\mu}}{\\Lambda - \\frac{\\left(- \\Lambda + \\mu\\right) \\left(\\Lambda + \\mu\\right)}{- 2 \\Lambda - \\mu}} + 1 - \\frac{- \\Lambda - \\frac{\\left(- \\Lambda + \\mu\\right) \\left(\\Lambda + \\frac{\\Lambda \\left(\\Lambda + \\mu\\right)}{- 2 \\Lambda - \\mu}\\right)}{\\Lambda - \\frac{\\left(- \\Lambda + \\mu\\right) \\left(\\Lambda + \\mu\\right)}{- 2 \\Lambda - \\mu}}}{- 2 \\Lambda - \\mu}, \\  b : \\frac{- \\Lambda - \\frac{\\left(- \\Lambda + \\mu\\right) \\left(\\Lambda + \\frac{\\Lambda \\left(\\Lambda + \\mu\\right)}{- 2 \\Lambda - \\mu}\\right)}{\\Lambda - \\frac{\\left(- \\Lambda + \\mu\\right) \\left(\\Lambda + \\mu\\right)}{- 2 \\Lambda - \\mu}}}{- 2 \\Lambda - \\mu}, \\  c : \\frac{\\Lambda + \\frac{\\Lambda \\left(\\Lambda + \\mu\\right)}{- 2 \\Lambda - \\mu}}{\\Lambda - \\frac{\\left(- \\Lambda + \\mu\\right) \\left(\\Lambda + \\mu\\right)}{- 2 \\Lambda - \\mu}}\\right\\}$"
      ],
      "text/plain": [
       "⎧                                              ⎛    Λ⋅(Λ + μ)⎞                \n",
       "⎪                                     (-Λ + μ)⋅⎜Λ + ─────────⎟          (-Λ + \n",
       "⎪                                              ⎝     -2⋅Λ - μ⎠                \n",
       "⎪                                -Λ - ────────────────────────     -Λ - ──────\n",
       "⎪            Λ⋅(Λ + μ)                      (-Λ + μ)⋅(Λ + μ)                  \n",
       "⎨        Λ + ─────────                  Λ - ────────────────              Λ - \n",
       "⎪             -2⋅Λ - μ                          -2⋅Λ - μ                      \n",
       "⎪a: - ──────────────────── + 1 - ─────────────────────────────, b: ───────────\n",
       "⎪         (-Λ + μ)⋅(Λ + μ)                  -2⋅Λ - μ                          \n",
       "⎪     Λ - ────────────────                                                    \n",
       "⎩             -2⋅Λ - μ                                                        \n",
       "\n",
       "   ⎛    Λ⋅(Λ + μ)⎞                         ⎫\n",
       "μ)⋅⎜Λ + ─────────⎟                         ⎪\n",
       "   ⎝     -2⋅Λ - μ⎠                         ⎪\n",
       "──────────────────                         ⎪\n",
       "(-Λ + μ)⋅(Λ + μ)              Λ⋅(Λ + μ)    ⎪\n",
       "────────────────          Λ + ─────────    ⎬\n",
       "    -2⋅Λ - μ                   -2⋅Λ - μ    ⎪\n",
       "──────────────────, c: ────────────────────⎪\n",
       "-2⋅Λ - μ                   (-Λ + μ)⋅(Λ + μ)⎪\n",
       "                       Λ - ────────────────⎪\n",
       "                               -2⋅Λ - μ    ⎭"
      ]
     },
     "execution_count": 22,
     "metadata": {},
     "output_type": "execute_result"
    }
   ],
   "source": [
    "# np.linalg.solve(M_sym, b_sym).transpose()[0]\n",
    "sym.init_printing(use_latex='mathjax')\n",
    "sym_pi=sym.solve_linear_system_LU(system, [a,b,c,d,e])\n",
    "sym_pi"
   ]
  },
  {
   "cell_type": "code",
   "execution_count": 23,
   "metadata": {},
   "outputs": [
    {
     "data": {
      "text/latex": [
       "$\\displaystyle \\left[ \\frac{\\mu^{2}}{\\Lambda^{2} + \\Lambda \\mu + \\mu^{2}}, \\  \\frac{\\Lambda \\mu}{\\Lambda^{2} + \\Lambda \\mu + \\mu^{2}}, \\  \\frac{\\Lambda^{2}}{\\Lambda^{2} + \\Lambda \\mu + \\mu^{2}}\\right]$"
      ],
      "text/plain": [
       "⎡       2                             2     ⎤\n",
       "⎢      μ             Λ⋅μ             Λ      ⎥\n",
       "⎢─────────────, ─────────────, ─────────────⎥\n",
       "⎢ 2          2   2          2   2          2⎥\n",
       "⎣Λ  + Λ⋅μ + μ   Λ  + Λ⋅μ + μ   Λ  + Λ⋅μ + μ ⎦"
      ]
     },
     "execution_count": 23,
     "metadata": {},
     "output_type": "execute_result"
    }
   ],
   "source": [
    "[sym.simplify(sym_pi[key]) for key in sym_pi.keys()]"
   ]
  },
  {
   "cell_type": "code",
   "execution_count": null,
   "metadata": {},
   "outputs": [],
   "source": []
  },
  {
   "cell_type": "markdown",
   "metadata": {},
   "source": [
    "# Multiple examples"
   ]
  },
  {
   "cell_type": "code",
   "execution_count": 24,
   "metadata": {},
   "outputs": [],
   "source": [
    "sym.init_printing(use_latex='mathjax')"
   ]
  },
  {
   "cell_type": "code",
   "execution_count": 25,
   "metadata": {},
   "outputs": [],
   "source": [
    "def get_symbolic_pi(num_of_servers, threshold, system_capacity, buffer_capacity):\n",
    "    Q_sym = abg.markov.get_symbolic_transition_matrix(num_of_servers=num_of_servers, \n",
    "                                            threshold=threshold, \n",
    "                                            system_capacity=system_capacity,\n",
    "                                            buffer_capacity=buffer_capacity)\n",
    "    dimension =  Q_sym.shape[0]\n",
    "    if dimension > 7:\n",
    "        return \"Capacity of 6 exceeded\"\n",
    "    M_sym = sym.Matrix([Q_sym.transpose()[:-1,:], sym.ones(1,dimension)])\n",
    "    b_sym = sym.Matrix([sym.zeros(dimension - 1, 1), [1]])\n",
    "    system = M_sym.col_insert(dimension,b_sym)\n",
    "    sol = sym.solve_linear_system_LU(system, [a,b,c,d,e,f,g])\n",
    "    return sol\n",
    "\n"
   ]
  },
  {
   "cell_type": "code",
   "execution_count": null,
   "metadata": {},
   "outputs": [],
   "source": []
  },
  {
   "cell_type": "markdown",
   "metadata": {},
   "source": [
    "# $C=1, T=3, N=2, M=1$"
   ]
  },
  {
   "cell_type": "code",
   "execution_count": 112,
   "metadata": {},
   "outputs": [],
   "source": [
    "num_of_servers = 1\n",
    "threshold = 3\n",
    "system_capacity = 2\n",
    "buffer_capacity = 1"
   ]
  },
  {
   "cell_type": "code",
   "execution_count": 113,
   "metadata": {},
   "outputs": [
    {
     "data": {
      "text/plain": [
       "<networkx.classes.multidigraph.MultiDiGraph at 0x1c1c9372f60>"
      ]
     },
     "execution_count": 113,
     "metadata": {},
     "output_type": "execute_result"
    },
    {
     "data": {
      "image/png": "[encoded data removed]",
      "image/svg+xml": [
       "<?xml version=\"1.0\" encoding=\"utf-8\" standalone=\"no\"?>\r\n",
       "<!DOCTYPE svg PUBLIC \"-//W3C//DTD SVG 1.1//EN\"\r\n",
       "  \"http://www.w3.org/Graphics/SVG/1.1/DTD/svg11.dtd\">\r\n",
       "<!-- Created with matplotlib (https://matplotlib.org/) -->\r\n",
       "<svg height=\"177.48pt\" version=\"1.1\" viewBox=\"0 0 181.8 177.48\" width=\"181.8pt\" xmlns=\"http://www.w3.org/2000/svg\" xmlns:xlink=\"http://www.w3.org/1999/xlink\">\r\n",
       " <defs>\r\n",
       "  <style type=\"text/css\">\r\n",
       "*{stroke-linecap:butt;stroke-linejoin:round;}\r\n",
       "  </style>\r\n",
       " </defs>\r\n",
       " <g id=\"figure_1\">\r\n",
       "  <g id=\"patch_1\">\r\n",
       "   <path d=\"M 0 177.48 \r\n",
       "L 181.8 177.48 \r\n",
       "L 181.8 0 \r\n",
       "L 0 0 \r\n",
       "z\r\n",
       "\" style=\"fill:none;\"/>\r\n",
       "  </g>\r\n",
       "  <g id=\"axes_1\">\r\n",
       "   <g id=\"patch_2\">\r\n",
       "    <path clip-path=\"url(#p7a5126c3c1)\" d=\"M 90.9 156.12843 \r\n",
       "Q 90.9 126.763214 90.9 98.516032 \r\n",
       "\" style=\"fill:none;stroke:#000000;stroke-linecap:round;\"/>\r\n",
       "    <path clip-path=\"url(#p7a5126c3c1)\" d=\"M 88.9 102.516032 \r\n",
       "L 90.9 98.516032 \r\n",
       "L 92.9 102.516032 \r\n",
       "L 88.9 102.516032 \r\n",
       "z\r\n",
       "\" style=\"stroke:#000000;stroke-linecap:round;\"/>\r\n",
       "   </g>\r\n",
       "   <g id=\"patch_3\">\r\n",
       "    <path clip-path=\"url(#p7a5126c3c1)\" d=\"M 90.9 88.74 \r\n",
       "Q 90.9 59.374784 90.9 31.127603 \r\n",
       "\" style=\"fill:none;stroke:#000000;stroke-linecap:round;\"/>\r\n",
       "    <path clip-path=\"url(#p7a5126c3c1)\" d=\"M 88.9 35.127603 \r\n",
       "L 90.9 31.127603 \r\n",
       "L 92.9 35.127603 \r\n",
       "L 88.9 35.127603 \r\n",
       "z\r\n",
       "\" style=\"stroke:#000000;stroke-linecap:round;\"/>\r\n",
       "   </g>\r\n",
       "   <g id=\"PathCollection_1\">\r\n",
       "    <defs>\r\n",
       "     <path d=\"M 0 22.36068 \r\n",
       "C 5.930122 22.36068 11.618159 20.004617 15.811388 15.811388 \r\n",
       "C 20.004617 11.618159 22.36068 5.930122 22.36068 0 \r\n",
       "C 22.36068 -5.930122 20.004617 -11.618159 15.811388 -15.811388 \r\n",
       "C 11.618159 -20.004617 5.930122 -22.36068 0 -22.36068 \r\n",
       "C -5.930122 -22.36068 -11.618159 -20.004617 -15.811388 -15.811388 \r\n",
       "C -20.004617 -11.618159 -22.36068 -5.930122 -22.36068 0 \r\n",
       "C -22.36068 5.930122 -20.004617 11.618159 -15.811388 15.811388 \r\n",
       "C -11.618159 20.004617 -5.930122 22.36068 0 22.36068 \r\n",
       "z\r\n",
       "\" id=\"m82d6bfcee8\" style=\"stroke:#1f78b4;\"/>\r\n",
       "    </defs>\r\n",
       "    <g clip-path=\"url(#p7a5126c3c1)\">\r\n",
       "     <use style=\"fill:#1f78b4;stroke:#1f78b4;\" x=\"90.9\" xlink:href=\"#m82d6bfcee8\" y=\"156.12843\"/>\r\n",
       "    </g>\r\n",
       "   </g>\r\n",
       "   <g id=\"PathCollection_2\">\r\n",
       "    <defs>\r\n",
       "     <path d=\"M 0 22.36068 \r\n",
       "C 5.930122 22.36068 11.618159 20.004617 15.811388 15.811388 \r\n",
       "C 20.004617 11.618159 22.36068 5.930122 22.36068 0 \r\n",
       "C 22.36068 -5.930122 20.004617 -11.618159 15.811388 -15.811388 \r\n",
       "C 11.618159 -20.004617 5.930122 -22.36068 0 -22.36068 \r\n",
       "C -5.930122 -22.36068 -11.618159 -20.004617 -15.811388 -15.811388 \r\n",
       "C -20.004617 -11.618159 -22.36068 -5.930122 -22.36068 0 \r\n",
       "C -22.36068 5.930122 -20.004617 11.618159 -15.811388 15.811388 \r\n",
       "C -11.618159 20.004617 -5.930122 22.36068 0 22.36068 \r\n",
       "z\r\n",
       "\" id=\"m904f3644f2\" style=\"stroke:#ff0000;\"/>\r\n",
       "    </defs>\r\n",
       "    <g clip-path=\"url(#p7a5126c3c1)\">\r\n",
       "     <use style=\"fill:#ff0000;stroke:#ff0000;\" x=\"90.9\" xlink:href=\"#m904f3644f2\" y=\"88.74\"/>\r\n",
       "     <use style=\"fill:#ff0000;stroke:#ff0000;\" x=\"90.9\" xlink:href=\"#m904f3644f2\" y=\"21.35157\"/>\r\n",
       "    </g>\r\n",
       "   </g>\r\n",
       "   <g id=\"text_1\">\r\n",
       "    <g clip-path=\"url(#p7a5126c3c1)\">\r\n",
       "     <!-- (0, 0) -->\r\n",
       "     <defs>\r\n",
       "      <path d=\"M 31 75.875 \r\n",
       "Q 24.46875 64.65625 21.28125 53.65625 \r\n",
       "Q 18.109375 42.671875 18.109375 31.390625 \r\n",
       "Q 18.109375 20.125 21.3125 9.0625 \r\n",
       "Q 24.515625 -2 31 -13.1875 \r\n",
       "L 23.1875 -13.1875 \r\n",
       "Q 15.875 -1.703125 12.234375 9.375 \r\n",
       "Q 8.59375 20.453125 8.59375 31.390625 \r\n",
       "Q 8.59375 42.28125 12.203125 53.3125 \r\n",
       "Q 15.828125 64.359375 23.1875 75.875 \r\n",
       "z\r\n",
       "\" id=\"DejaVuSans-40\"/>\r\n",
       "      <path d=\"M 31.78125 66.40625 \r\n",
       "Q 24.171875 66.40625 20.328125 58.90625 \r\n",
       "Q 16.5 51.421875 16.5 36.375 \r\n",
       "Q 16.5 21.390625 20.328125 13.890625 \r\n",
       "Q 24.171875 6.390625 31.78125 6.390625 \r\n",
       "Q 39.453125 6.390625 43.28125 13.890625 \r\n",
       "Q 47.125 21.390625 47.125 36.375 \r\n",
       "Q 47.125 51.421875 43.28125 58.90625 \r\n",
       "Q 39.453125 66.40625 31.78125 66.40625 \r\n",
       "z\r\n",
       "M 31.78125 74.21875 \r\n",
       "Q 44.046875 74.21875 50.515625 64.515625 \r\n",
       "Q 56.984375 54.828125 56.984375 36.375 \r\n",
       "Q 56.984375 17.96875 50.515625 8.265625 \r\n",
       "Q 44.046875 -1.421875 31.78125 -1.421875 \r\n",
       "Q 19.53125 -1.421875 13.0625 8.265625 \r\n",
       "Q 6.59375 17.96875 6.59375 36.375 \r\n",
       "Q 6.59375 54.828125 13.0625 64.515625 \r\n",
       "Q 19.53125 74.21875 31.78125 74.21875 \r\n",
       "z\r\n",
       "\" id=\"DejaVuSans-48\"/>\r\n",
       "      <path d=\"M 11.71875 12.40625 \r\n",
       "L 22.015625 12.40625 \r\n",
       "L 22.015625 4 \r\n",
       "L 14.015625 -11.625 \r\n",
       "L 7.71875 -11.625 \r\n",
       "L 11.71875 4 \r\n",
       "z\r\n",
       "\" id=\"DejaVuSans-44\"/>\r\n",
       "      <path id=\"DejaVuSans-32\"/>\r\n",
       "      <path d=\"M 8.015625 75.875 \r\n",
       "L 15.828125 75.875 \r\n",
       "Q 23.140625 64.359375 26.78125 53.3125 \r\n",
       "Q 30.421875 42.28125 30.421875 31.390625 \r\n",
       "Q 30.421875 20.453125 26.78125 9.375 \r\n",
       "Q 23.140625 -1.703125 15.828125 -13.1875 \r\n",
       "L 8.015625 -13.1875 \r\n",
       "Q 14.5 -2 17.703125 9.0625 \r\n",
       "Q 20.90625 20.125 20.90625 31.390625 \r\n",
       "Q 20.90625 42.671875 17.703125 53.65625 \r\n",
       "Q 14.5 64.65625 8.015625 75.875 \r\n",
       "z\r\n",
       "\" id=\"DejaVuSans-41\"/>\r\n",
       "     </defs>\r\n",
       "     <g transform=\"translate(74.769375 159.43968)scale(0.12 -0.12)\">\r\n",
       "      <use xlink:href=\"#DejaVuSans-40\"/>\r\n",
       "      <use x=\"39.013672\" xlink:href=\"#DejaVuSans-48\"/>\r\n",
       "      <use x=\"102.636719\" xlink:href=\"#DejaVuSans-44\"/>\r\n",
       "      <use x=\"134.423828\" xlink:href=\"#DejaVuSans-32\"/>\r\n",
       "      <use x=\"166.210938\" xlink:href=\"#DejaVuSans-48\"/>\r\n",
       "      <use x=\"229.833984\" xlink:href=\"#DejaVuSans-41\"/>\r\n",
       "     </g>\r\n",
       "    </g>\r\n",
       "   </g>\r\n",
       "   <g id=\"text_2\">\r\n",
       "    <g clip-path=\"url(#p7a5126c3c1)\">\r\n",
       "     <!-- (0, 1) -->\r\n",
       "     <defs>\r\n",
       "      <path d=\"M 12.40625 8.296875 \r\n",
       "L 28.515625 8.296875 \r\n",
       "L 28.515625 63.921875 \r\n",
       "L 10.984375 60.40625 \r\n",
       "L 10.984375 69.390625 \r\n",
       "L 28.421875 72.90625 \r\n",
       "L 38.28125 72.90625 \r\n",
       "L 38.28125 8.296875 \r\n",
       "L 54.390625 8.296875 \r\n",
       "L 54.390625 0 \r\n",
       "L 12.40625 0 \r\n",
       "z\r\n",
       "\" id=\"DejaVuSans-49\"/>\r\n",
       "     </defs>\r\n",
       "     <g transform=\"translate(74.769375 92.05125)scale(0.12 -0.12)\">\r\n",
       "      <use xlink:href=\"#DejaVuSans-40\"/>\r\n",
       "      <use x=\"39.013672\" xlink:href=\"#DejaVuSans-48\"/>\r\n",
       "      <use x=\"102.636719\" xlink:href=\"#DejaVuSans-44\"/>\r\n",
       "      <use x=\"134.423828\" xlink:href=\"#DejaVuSans-32\"/>\r\n",
       "      <use x=\"166.210938\" xlink:href=\"#DejaVuSans-49\"/>\r\n",
       "      <use x=\"229.833984\" xlink:href=\"#DejaVuSans-41\"/>\r\n",
       "     </g>\r\n",
       "    </g>\r\n",
       "   </g>\r\n",
       "   <g id=\"text_3\">\r\n",
       "    <g clip-path=\"url(#p7a5126c3c1)\">\r\n",
       "     <!-- (0, 2) -->\r\n",
       "     <defs>\r\n",
       "      <path d=\"M 19.1875 8.296875 \r\n",
       "L 53.609375 8.296875 \r\n",
       "L 53.609375 0 \r\n",
       "L 7.328125 0 \r\n",
       "L 7.328125 8.296875 \r\n",
       "Q 12.9375 14.109375 22.625 23.890625 \r\n",
       "Q 32.328125 33.6875 34.8125 36.53125 \r\n",
       "Q 39.546875 41.84375 41.421875 45.53125 \r\n",
       "Q 43.3125 49.21875 43.3125 52.78125 \r\n",
       "Q 43.3125 58.59375 39.234375 62.25 \r\n",
       "Q 35.15625 65.921875 28.609375 65.921875 \r\n",
       "Q 23.96875 65.921875 18.8125 64.3125 \r\n",
       "Q 13.671875 62.703125 7.8125 59.421875 \r\n",
       "L 7.8125 69.390625 \r\n",
       "Q 13.765625 71.78125 18.9375 73 \r\n",
       "Q 24.125 74.21875 28.421875 74.21875 \r\n",
       "Q 39.75 74.21875 46.484375 68.546875 \r\n",
       "Q 53.21875 62.890625 53.21875 53.421875 \r\n",
       "Q 53.21875 48.921875 51.53125 44.890625 \r\n",
       "Q 49.859375 40.875 45.40625 35.40625 \r\n",
       "Q 44.1875 33.984375 37.640625 27.21875 \r\n",
       "Q 31.109375 20.453125 19.1875 8.296875 \r\n",
       "z\r\n",
       "\" id=\"DejaVuSans-50\"/>\r\n",
       "     </defs>\r\n",
       "     <g transform=\"translate(74.769375 24.66282)scale(0.12 -0.12)\">\r\n",
       "      <use xlink:href=\"#DejaVuSans-40\"/>\r\n",
       "      <use x=\"39.013672\" xlink:href=\"#DejaVuSans-48\"/>\r\n",
       "      <use x=\"102.636719\" xlink:href=\"#DejaVuSans-44\"/>\r\n",
       "      <use x=\"134.423828\" xlink:href=\"#DejaVuSans-32\"/>\r\n",
       "      <use x=\"166.210938\" xlink:href=\"#DejaVuSans-50\"/>\r\n",
       "      <use x=\"229.833984\" xlink:href=\"#DejaVuSans-41\"/>\r\n",
       "     </g>\r\n",
       "    </g>\r\n",
       "   </g>\r\n",
       "  </g>\r\n",
       " </g>\r\n",
       " <defs>\r\n",
       "  <clipPath id=\"p7a5126c3c1\">\r\n",
       "   <rect height=\"163.08\" width=\"167.4\" x=\"7.2\" y=\"7.2\"/>\r\n",
       "  </clipPath>\r\n",
       " </defs>\r\n",
       "</svg>\r\n"
      ],
      "text/plain": [
       "<Figure size 216x216 with 1 Axes>"
      ]
     },
     "metadata": {},
     "output_type": "display_data"
    }
   ],
   "source": [
    "abg.markov.visualise_ambulance_markov_chain(num_of_servers, threshold, system_capacity, buffer_capacity)"
   ]
  },
  {
   "cell_type": "code",
   "execution_count": 27,
   "metadata": {},
   "outputs": [],
   "source": [
    "sym_pi = get_symbolic_pi(num_of_servers=num_of_servers, threshold=threshold, system_capacity=system_capacity, buffer_capacity=buffer_capacity)"
   ]
  },
  {
   "cell_type": "code",
   "execution_count": 24,
   "metadata": {},
   "outputs": [
    {
     "data": {
      "text/latex": [
       "$\\displaystyle \\left[ \\left( 0, \\  0\\right), \\  \\left( 0, \\  1\\right), \\  \\left( 0, \\  2\\right)\\right]$"
      ],
      "text/plain": [
       "[(0, 0), (0, 1), (0, 2)]"
      ]
     },
     "execution_count": 24,
     "metadata": {},
     "output_type": "execute_result"
    }
   ],
   "source": [
    "abg.markov.build_states(threshold=threshold, system_capacity=system_capacity, buffer_capacity=buffer_capacity)"
   ]
  },
  {
   "cell_type": "code",
   "execution_count": 28,
   "metadata": {},
   "outputs": [
    {
     "data": {
      "text/latex": [
       "$\\displaystyle \\left[ \\frac{\\mu^{2}}{\\Lambda^{2} + \\Lambda \\mu + \\mu^{2}}, \\  \\frac{\\Lambda \\mu}{\\Lambda^{2} + \\Lambda \\mu + \\mu^{2}}, \\  \\frac{\\Lambda^{2}}{\\Lambda^{2} + \\Lambda \\mu + \\mu^{2}}\\right]$"
      ],
      "text/plain": [
       "⎡       2                             2     ⎤\n",
       "⎢      μ             Λ⋅μ             Λ      ⎥\n",
       "⎢─────────────, ─────────────, ─────────────⎥\n",
       "⎢ 2          2   2          2   2          2⎥\n",
       "⎣Λ  + Λ⋅μ + μ   Λ  + Λ⋅μ + μ   Λ  + Λ⋅μ + μ ⎦"
      ]
     },
     "execution_count": 28,
     "metadata": {},
     "output_type": "execute_result"
    }
   ],
   "source": [
    "[sym.simplify(sym_pi[key]) for key in sym_pi.keys()]"
   ]
  },
  {
   "cell_type": "code",
   "execution_count": null,
   "metadata": {},
   "outputs": [],
   "source": []
  },
  {
   "cell_type": "markdown",
   "metadata": {},
   "source": [
    "# $C=1, T=4, N=3, M=1$"
   ]
  },
  {
   "cell_type": "code",
   "execution_count": 114,
   "metadata": {},
   "outputs": [],
   "source": [
    "num_of_servers = 1\n",
    "threshold = 4\n",
    "system_capacity = 3\n",
    "buffer_capacity = 1"
   ]
  },
  {
   "cell_type": "code",
   "execution_count": 115,
   "metadata": {},
   "outputs": [
    {
     "data": {
      "text/plain": [
       "<networkx.classes.multidigraph.MultiDiGraph at 0x1c1c81e0438>"
      ]
     },
     "execution_count": 115,
     "metadata": {},
     "output_type": "execute_result"
    },
    {
     "data": {
      "image/png": "[encoded data removed]",
      "image/svg+xml": [
       "<?xml version=\"1.0\" encoding=\"utf-8\" standalone=\"no\"?>\r\n",
       "<!DOCTYPE svg PUBLIC \"-//W3C//DTD SVG 1.1//EN\"\r\n",
       "  \"http://www.w3.org/Graphics/SVG/1.1/DTD/svg11.dtd\">\r\n",
       "<!-- Created with matplotlib (https://matplotlib.org/) -->\r\n",
       "<svg height=\"259.02pt\" version=\"1.1\" viewBox=\"0 0 181.8 259.02\" width=\"181.8pt\" xmlns=\"http://www.w3.org/2000/svg\" xmlns:xlink=\"http://www.w3.org/1999/xlink\">\r\n",
       " <defs>\r\n",
       "  <style type=\"text/css\">\r\n",
       "*{stroke-linecap:butt;stroke-linejoin:round;}\r\n",
       "  </style>\r\n",
       " </defs>\r\n",
       " <g id=\"figure_1\">\r\n",
       "  <g id=\"patch_1\">\r\n",
       "   <path d=\"M 0 259.02 \r\n",
       "L 181.8 259.02 \r\n",
       "L 181.8 0 \r\n",
       "L 0 0 \r\n",
       "z\r\n",
       "\" style=\"fill:none;\"/>\r\n",
       "  </g>\r\n",
       "  <g id=\"axes_1\">\r\n",
       "   <g id=\"patch_2\">\r\n",
       "    <path clip-path=\"url(#p32abdb13de)\" d=\"M 90.9 230.592645 \r\n",
       "Q 90.9 201.227429 90.9 172.980247 \r\n",
       "\" style=\"fill:none;stroke:#000000;stroke-linecap:round;\"/>\r\n",
       "    <path clip-path=\"url(#p32abdb13de)\" d=\"M 88.9 176.980247 \r\n",
       "L 90.9 172.980247 \r\n",
       "L 92.9 176.980247 \r\n",
       "L 88.9 176.980247 \r\n",
       "z\r\n",
       "\" style=\"stroke:#000000;stroke-linecap:round;\"/>\r\n",
       "   </g>\r\n",
       "   <g id=\"patch_3\">\r\n",
       "    <path clip-path=\"url(#p32abdb13de)\" d=\"M 90.9 163.204215 \r\n",
       "Q 90.9 133.838999 90.9 105.591817 \r\n",
       "\" style=\"fill:none;stroke:#000000;stroke-linecap:round;\"/>\r\n",
       "    <path clip-path=\"url(#p32abdb13de)\" d=\"M 88.9 109.591817 \r\n",
       "L 90.9 105.591817 \r\n",
       "L 92.9 109.591817 \r\n",
       "L 88.9 109.591817 \r\n",
       "z\r\n",
       "\" style=\"stroke:#000000;stroke-linecap:round;\"/>\r\n",
       "   </g>\r\n",
       "   <g id=\"patch_4\">\r\n",
       "    <path clip-path=\"url(#p32abdb13de)\" d=\"M 90.9 95.815785 \r\n",
       "Q 90.9 66.450569 90.9 38.203388 \r\n",
       "\" style=\"fill:none;stroke:#000000;stroke-linecap:round;\"/>\r\n",
       "    <path clip-path=\"url(#p32abdb13de)\" d=\"M 88.9 42.203388 \r\n",
       "L 90.9 38.203388 \r\n",
       "L 92.9 42.203388 \r\n",
       "L 88.9 42.203388 \r\n",
       "z\r\n",
       "\" style=\"stroke:#000000;stroke-linecap:round;\"/>\r\n",
       "   </g>\r\n",
       "   <g id=\"PathCollection_1\">\r\n",
       "    <defs>\r\n",
       "     <path d=\"M 0 22.36068 \r\n",
       "C 5.930122 22.36068 11.618159 20.004617 15.811388 15.811388 \r\n",
       "C 20.004617 11.618159 22.36068 5.930122 22.36068 0 \r\n",
       "C 22.36068 -5.930122 20.004617 -11.618159 15.811388 -15.811388 \r\n",
       "C 11.618159 -20.004617 5.930122 -22.36068 0 -22.36068 \r\n",
       "C -5.930122 -22.36068 -11.618159 -20.004617 -15.811388 -15.811388 \r\n",
       "C -20.004617 -11.618159 -22.36068 -5.930122 -22.36068 0 \r\n",
       "C -22.36068 5.930122 -20.004617 11.618159 -15.811388 15.811388 \r\n",
       "C -11.618159 20.004617 -5.930122 22.36068 0 22.36068 \r\n",
       "z\r\n",
       "\" id=\"m77568ce170\" style=\"stroke:#1f78b4;\"/>\r\n",
       "    </defs>\r\n",
       "    <g clip-path=\"url(#p32abdb13de)\">\r\n",
       "     <use style=\"fill:#1f78b4;stroke:#1f78b4;\" x=\"90.9\" xlink:href=\"#m77568ce170\" y=\"230.592645\"/>\r\n",
       "    </g>\r\n",
       "   </g>\r\n",
       "   <g id=\"PathCollection_2\">\r\n",
       "    <defs>\r\n",
       "     <path d=\"M 0 22.36068 \r\n",
       "C 5.930122 22.36068 11.618159 20.004617 15.811388 15.811388 \r\n",
       "C 20.004617 11.618159 22.36068 5.930122 22.36068 0 \r\n",
       "C 22.36068 -5.930122 20.004617 -11.618159 15.811388 -15.811388 \r\n",
       "C 11.618159 -20.004617 5.930122 -22.36068 0 -22.36068 \r\n",
       "C -5.930122 -22.36068 -11.618159 -20.004617 -15.811388 -15.811388 \r\n",
       "C -20.004617 -11.618159 -22.36068 -5.930122 -22.36068 0 \r\n",
       "C -22.36068 5.930122 -20.004617 11.618159 -15.811388 15.811388 \r\n",
       "C -11.618159 20.004617 -5.930122 22.36068 0 22.36068 \r\n",
       "z\r\n",
       "\" id=\"m55424ee649\" style=\"stroke:#ff0000;\"/>\r\n",
       "    </defs>\r\n",
       "    <g clip-path=\"url(#p32abdb13de)\">\r\n",
       "     <use style=\"fill:#ff0000;stroke:#ff0000;\" x=\"90.9\" xlink:href=\"#m55424ee649\" y=\"163.204215\"/>\r\n",
       "     <use style=\"fill:#ff0000;stroke:#ff0000;\" x=\"90.9\" xlink:href=\"#m55424ee649\" y=\"95.815785\"/>\r\n",
       "     <use style=\"fill:#ff0000;stroke:#ff0000;\" x=\"90.9\" xlink:href=\"#m55424ee649\" y=\"28.427355\"/>\r\n",
       "    </g>\r\n",
       "   </g>\r\n",
       "   <g id=\"text_1\">\r\n",
       "    <g clip-path=\"url(#p32abdb13de)\">\r\n",
       "     <!-- (0, 0) -->\r\n",
       "     <defs>\r\n",
       "      <path d=\"M 31 75.875 \r\n",
       "Q 24.46875 64.65625 21.28125 53.65625 \r\n",
       "Q 18.109375 42.671875 18.109375 31.390625 \r\n",
       "Q 18.109375 20.125 21.3125 9.0625 \r\n",
       "Q 24.515625 -2 31 -13.1875 \r\n",
       "L 23.1875 -13.1875 \r\n",
       "Q 15.875 -1.703125 12.234375 9.375 \r\n",
       "Q 8.59375 20.453125 8.59375 31.390625 \r\n",
       "Q 8.59375 42.28125 12.203125 53.3125 \r\n",
       "Q 15.828125 64.359375 23.1875 75.875 \r\n",
       "z\r\n",
       "\" id=\"DejaVuSans-40\"/>\r\n",
       "      <path d=\"M 31.78125 66.40625 \r\n",
       "Q 24.171875 66.40625 20.328125 58.90625 \r\n",
       "Q 16.5 51.421875 16.5 36.375 \r\n",
       "Q 16.5 21.390625 20.328125 13.890625 \r\n",
       "Q 24.171875 6.390625 31.78125 6.390625 \r\n",
       "Q 39.453125 6.390625 43.28125 13.890625 \r\n",
       "Q 47.125 21.390625 47.125 36.375 \r\n",
       "Q 47.125 51.421875 43.28125 58.90625 \r\n",
       "Q 39.453125 66.40625 31.78125 66.40625 \r\n",
       "z\r\n",
       "M 31.78125 74.21875 \r\n",
       "Q 44.046875 74.21875 50.515625 64.515625 \r\n",
       "Q 56.984375 54.828125 56.984375 36.375 \r\n",
       "Q 56.984375 17.96875 50.515625 8.265625 \r\n",
       "Q 44.046875 -1.421875 31.78125 -1.421875 \r\n",
       "Q 19.53125 -1.421875 13.0625 8.265625 \r\n",
       "Q 6.59375 17.96875 6.59375 36.375 \r\n",
       "Q 6.59375 54.828125 13.0625 64.515625 \r\n",
       "Q 19.53125 74.21875 31.78125 74.21875 \r\n",
       "z\r\n",
       "\" id=\"DejaVuSans-48\"/>\r\n",
       "      <path d=\"M 11.71875 12.40625 \r\n",
       "L 22.015625 12.40625 \r\n",
       "L 22.015625 4 \r\n",
       "L 14.015625 -11.625 \r\n",
       "L 7.71875 -11.625 \r\n",
       "L 11.71875 4 \r\n",
       "z\r\n",
       "\" id=\"DejaVuSans-44\"/>\r\n",
       "      <path id=\"DejaVuSans-32\"/>\r\n",
       "      <path d=\"M 8.015625 75.875 \r\n",
       "L 15.828125 75.875 \r\n",
       "Q 23.140625 64.359375 26.78125 53.3125 \r\n",
       "Q 30.421875 42.28125 30.421875 31.390625 \r\n",
       "Q 30.421875 20.453125 26.78125 9.375 \r\n",
       "Q 23.140625 -1.703125 15.828125 -13.1875 \r\n",
       "L 8.015625 -13.1875 \r\n",
       "Q 14.5 -2 17.703125 9.0625 \r\n",
       "Q 20.90625 20.125 20.90625 31.390625 \r\n",
       "Q 20.90625 42.671875 17.703125 53.65625 \r\n",
       "Q 14.5 64.65625 8.015625 75.875 \r\n",
       "z\r\n",
       "\" id=\"DejaVuSans-41\"/>\r\n",
       "     </defs>\r\n",
       "     <g transform=\"translate(74.769375 233.903895)scale(0.12 -0.12)\">\r\n",
       "      <use xlink:href=\"#DejaVuSans-40\"/>\r\n",
       "      <use x=\"39.013672\" xlink:href=\"#DejaVuSans-48\"/>\r\n",
       "      <use x=\"102.636719\" xlink:href=\"#DejaVuSans-44\"/>\r\n",
       "      <use x=\"134.423828\" xlink:href=\"#DejaVuSans-32\"/>\r\n",
       "      <use x=\"166.210938\" xlink:href=\"#DejaVuSans-48\"/>\r\n",
       "      <use x=\"229.833984\" xlink:href=\"#DejaVuSans-41\"/>\r\n",
       "     </g>\r\n",
       "    </g>\r\n",
       "   </g>\r\n",
       "   <g id=\"text_2\">\r\n",
       "    <g clip-path=\"url(#p32abdb13de)\">\r\n",
       "     <!-- (0, 1) -->\r\n",
       "     <defs>\r\n",
       "      <path d=\"M 12.40625 8.296875 \r\n",
       "L 28.515625 8.296875 \r\n",
       "L 28.515625 63.921875 \r\n",
       "L 10.984375 60.40625 \r\n",
       "L 10.984375 69.390625 \r\n",
       "L 28.421875 72.90625 \r\n",
       "L 38.28125 72.90625 \r\n",
       "L 38.28125 8.296875 \r\n",
       "L 54.390625 8.296875 \r\n",
       "L 54.390625 0 \r\n",
       "L 12.40625 0 \r\n",
       "z\r\n",
       "\" id=\"DejaVuSans-49\"/>\r\n",
       "     </defs>\r\n",
       "     <g transform=\"translate(74.769375 166.515465)scale(0.12 -0.12)\">\r\n",
       "      <use xlink:href=\"#DejaVuSans-40\"/>\r\n",
       "      <use x=\"39.013672\" xlink:href=\"#DejaVuSans-48\"/>\r\n",
       "      <use x=\"102.636719\" xlink:href=\"#DejaVuSans-44\"/>\r\n",
       "      <use x=\"134.423828\" xlink:href=\"#DejaVuSans-32\"/>\r\n",
       "      <use x=\"166.210938\" xlink:href=\"#DejaVuSans-49\"/>\r\n",
       "      <use x=\"229.833984\" xlink:href=\"#DejaVuSans-41\"/>\r\n",
       "     </g>\r\n",
       "    </g>\r\n",
       "   </g>\r\n",
       "   <g id=\"text_3\">\r\n",
       "    <g clip-path=\"url(#p32abdb13de)\">\r\n",
       "     <!-- (0, 2) -->\r\n",
       "     <defs>\r\n",
       "      <path d=\"M 19.1875 8.296875 \r\n",
       "L 53.609375 8.296875 \r\n",
       "L 53.609375 0 \r\n",
       "L 7.328125 0 \r\n",
       "L 7.328125 8.296875 \r\n",
       "Q 12.9375 14.109375 22.625 23.890625 \r\n",
       "Q 32.328125 33.6875 34.8125 36.53125 \r\n",
       "Q 39.546875 41.84375 41.421875 45.53125 \r\n",
       "Q 43.3125 49.21875 43.3125 52.78125 \r\n",
       "Q 43.3125 58.59375 39.234375 62.25 \r\n",
       "Q 35.15625 65.921875 28.609375 65.921875 \r\n",
       "Q 23.96875 65.921875 18.8125 64.3125 \r\n",
       "Q 13.671875 62.703125 7.8125 59.421875 \r\n",
       "L 7.8125 69.390625 \r\n",
       "Q 13.765625 71.78125 18.9375 73 \r\n",
       "Q 24.125 74.21875 28.421875 74.21875 \r\n",
       "Q 39.75 74.21875 46.484375 68.546875 \r\n",
       "Q 53.21875 62.890625 53.21875 53.421875 \r\n",
       "Q 53.21875 48.921875 51.53125 44.890625 \r\n",
       "Q 49.859375 40.875 45.40625 35.40625 \r\n",
       "Q 44.1875 33.984375 37.640625 27.21875 \r\n",
       "Q 31.109375 20.453125 19.1875 8.296875 \r\n",
       "z\r\n",
       "\" id=\"DejaVuSans-50\"/>\r\n",
       "     </defs>\r\n",
       "     <g transform=\"translate(74.769375 99.127035)scale(0.12 -0.12)\">\r\n",
       "      <use xlink:href=\"#DejaVuSans-40\"/>\r\n",
       "      <use x=\"39.013672\" xlink:href=\"#DejaVuSans-48\"/>\r\n",
       "      <use x=\"102.636719\" xlink:href=\"#DejaVuSans-44\"/>\r\n",
       "      <use x=\"134.423828\" xlink:href=\"#DejaVuSans-32\"/>\r\n",
       "      <use x=\"166.210938\" xlink:href=\"#DejaVuSans-50\"/>\r\n",
       "      <use x=\"229.833984\" xlink:href=\"#DejaVuSans-41\"/>\r\n",
       "     </g>\r\n",
       "    </g>\r\n",
       "   </g>\r\n",
       "   <g id=\"text_4\">\r\n",
       "    <g clip-path=\"url(#p32abdb13de)\">\r\n",
       "     <!-- (0, 3) -->\r\n",
       "     <defs>\r\n",
       "      <path d=\"M 40.578125 39.3125 \r\n",
       "Q 47.65625 37.796875 51.625 33 \r\n",
       "Q 55.609375 28.21875 55.609375 21.1875 \r\n",
       "Q 55.609375 10.40625 48.1875 4.484375 \r\n",
       "Q 40.765625 -1.421875 27.09375 -1.421875 \r\n",
       "Q 22.515625 -1.421875 17.65625 -0.515625 \r\n",
       "Q 12.796875 0.390625 7.625 2.203125 \r\n",
       "L 7.625 11.71875 \r\n",
       "Q 11.71875 9.328125 16.59375 8.109375 \r\n",
       "Q 21.484375 6.890625 26.8125 6.890625 \r\n",
       "Q 36.078125 6.890625 40.9375 10.546875 \r\n",
       "Q 45.796875 14.203125 45.796875 21.1875 \r\n",
       "Q 45.796875 27.640625 41.28125 31.265625 \r\n",
       "Q 36.765625 34.90625 28.71875 34.90625 \r\n",
       "L 20.21875 34.90625 \r\n",
       "L 20.21875 43.015625 \r\n",
       "L 29.109375 43.015625 \r\n",
       "Q 36.375 43.015625 40.234375 45.921875 \r\n",
       "Q 44.09375 48.828125 44.09375 54.296875 \r\n",
       "Q 44.09375 59.90625 40.109375 62.90625 \r\n",
       "Q 36.140625 65.921875 28.71875 65.921875 \r\n",
       "Q 24.65625 65.921875 20.015625 65.03125 \r\n",
       "Q 15.375 64.15625 9.8125 62.3125 \r\n",
       "L 9.8125 71.09375 \r\n",
       "Q 15.4375 72.65625 20.34375 73.4375 \r\n",
       "Q 25.25 74.21875 29.59375 74.21875 \r\n",
       "Q 40.828125 74.21875 47.359375 69.109375 \r\n",
       "Q 53.90625 64.015625 53.90625 55.328125 \r\n",
       "Q 53.90625 49.265625 50.4375 45.09375 \r\n",
       "Q 46.96875 40.921875 40.578125 39.3125 \r\n",
       "z\r\n",
       "\" id=\"DejaVuSans-51\"/>\r\n",
       "     </defs>\r\n",
       "     <g transform=\"translate(74.769375 31.738605)scale(0.12 -0.12)\">\r\n",
       "      <use xlink:href=\"#DejaVuSans-40\"/>\r\n",
       "      <use x=\"39.013672\" xlink:href=\"#DejaVuSans-48\"/>\r\n",
       "      <use x=\"102.636719\" xlink:href=\"#DejaVuSans-44\"/>\r\n",
       "      <use x=\"134.423828\" xlink:href=\"#DejaVuSans-32\"/>\r\n",
       "      <use x=\"166.210938\" xlink:href=\"#DejaVuSans-51\"/>\r\n",
       "      <use x=\"229.833984\" xlink:href=\"#DejaVuSans-41\"/>\r\n",
       "     </g>\r\n",
       "    </g>\r\n",
       "   </g>\r\n",
       "  </g>\r\n",
       " </g>\r\n",
       " <defs>\r\n",
       "  <clipPath id=\"p32abdb13de\">\r\n",
       "   <rect height=\"244.62\" width=\"167.4\" x=\"7.2\" y=\"7.2\"/>\r\n",
       "  </clipPath>\r\n",
       " </defs>\r\n",
       "</svg>\r\n"
      ],
      "text/plain": [
       "<Figure size 216x324 with 1 Axes>"
      ]
     },
     "metadata": {},
     "output_type": "display_data"
    }
   ],
   "source": [
    "abg.markov.visualise_ambulance_markov_chain(num_of_servers, threshold, system_capacity, buffer_capacity)"
   ]
  },
  {
   "cell_type": "code",
   "execution_count": 30,
   "metadata": {},
   "outputs": [],
   "source": [
    "sym_pi = get_symbolic_pi(num_of_servers=num_of_servers, threshold=threshold, system_capacity=system_capacity, buffer_capacity=buffer_capacity)"
   ]
  },
  {
   "cell_type": "code",
   "execution_count": 31,
   "metadata": {},
   "outputs": [
    {
     "data": {
      "text/latex": [
       "$\\displaystyle \\left[ \\left( 0, \\  0\\right), \\  \\left( 0, \\  1\\right), \\  \\left( 0, \\  2\\right), \\  \\left( 0, \\  3\\right)\\right]$"
      ],
      "text/plain": [
       "[(0, 0), (0, 1), (0, 2), (0, 3)]"
      ]
     },
     "execution_count": 31,
     "metadata": {},
     "output_type": "execute_result"
    }
   ],
   "source": [
    "abg.markov.build_states(threshold=threshold, system_capacity=system_capacity, buffer_capacity=buffer_capacity)"
   ]
  },
  {
   "cell_type": "code",
   "execution_count": 32,
   "metadata": {},
   "outputs": [
    {
     "data": {
      "text/latex": [
       "$\\displaystyle \\left[ \\frac{\\mu^{3}}{\\Lambda^{3} + \\Lambda^{2} \\mu + \\Lambda \\mu^{2} + \\mu^{3}}, \\  \\frac{\\Lambda \\mu^{2}}{\\Lambda^{3} + \\Lambda^{2} \\mu + \\Lambda \\mu^{2} + \\mu^{3}}, \\  \\frac{\\Lambda^{2} \\mu}{\\Lambda^{3} + \\Lambda^{2} \\mu + \\Lambda \\mu^{2} + \\mu^{3}}, \\  \\frac{\\Lambda^{3}}{\\Lambda^{3} + \\Lambda^{2} \\mu + \\Lambda \\mu^{2} + \\mu^{3}}\\right]$"
      ],
      "text/plain": [
       "⎡           3                       2                    2                    \n",
       "⎢          μ                     Λ⋅μ                    Λ ⋅μ                  \n",
       "⎢─────────────────────, ─────────────────────, ─────────────────────, ────────\n",
       "⎢ 3    2        2    3   3    2        2    3   3    2        2    3   3    2 \n",
       "⎣Λ  + Λ ⋅μ + Λ⋅μ  + μ   Λ  + Λ ⋅μ + Λ⋅μ  + μ   Λ  + Λ ⋅μ + Λ⋅μ  + μ   Λ  + Λ ⋅\n",
       "\n",
       "   3         ⎤\n",
       "  Λ          ⎥\n",
       "─────────────⎥\n",
       "       2    3⎥\n",
       "μ + Λ⋅μ  + μ ⎦"
      ]
     },
     "execution_count": 32,
     "metadata": {},
     "output_type": "execute_result"
    }
   ],
   "source": [
    "[sym.simplify(sym_pi[key]) for key in sym_pi.keys()]"
   ]
  },
  {
   "cell_type": "markdown",
   "metadata": {},
   "source": [
    "# $C=1, T=1, N=2, Μ=1$"
   ]
  },
  {
   "cell_type": "code",
   "execution_count": 116,
   "metadata": {},
   "outputs": [],
   "source": [
    "num_of_servers = 1\n",
    "threshold = 1\n",
    "system_capacity = 2\n",
    "buffer_capacity = 1"
   ]
  },
  {
   "cell_type": "code",
   "execution_count": 117,
   "metadata": {},
   "outputs": [
    {
     "data": {
      "text/plain": [
       "<networkx.classes.multidigraph.MultiDiGraph at 0x1c1c87c8898>"
      ]
     },
     "execution_count": 117,
     "metadata": {},
     "output_type": "execute_result"
    },
    {
     "data": {
      "image/png": "[encoded data removed]",
      "image/svg+xml": [
       "<?xml version=\"1.0\" encoding=\"utf-8\" standalone=\"no\"?>\r\n",
       "<!DOCTYPE svg PUBLIC \"-//W3C//DTD SVG 1.1//EN\"\r\n",
       "  \"http://www.w3.org/Graphics/SVG/1.1/DTD/svg11.dtd\">\r\n",
       "<!-- Created with matplotlib (https://matplotlib.org/) -->\r\n",
       "<svg height=\"177.48pt\" version=\"1.1\" viewBox=\"0 0 181.8 177.48\" width=\"181.8pt\" xmlns=\"http://www.w3.org/2000/svg\" xmlns:xlink=\"http://www.w3.org/1999/xlink\">\r\n",
       " <defs>\r\n",
       "  <style type=\"text/css\">\r\n",
       "*{stroke-linecap:butt;stroke-linejoin:round;}\r\n",
       "  </style>\r\n",
       " </defs>\r\n",
       " <g id=\"figure_1\">\r\n",
       "  <g id=\"patch_1\">\r\n",
       "   <path d=\"M 0 177.48 \r\n",
       "L 181.8 177.48 \r\n",
       "L 181.8 0 \r\n",
       "L 0 0 \r\n",
       "z\r\n",
       "\" style=\"fill:none;\"/>\r\n",
       "  </g>\r\n",
       "  <g id=\"axes_1\">\r\n",
       "   <g id=\"patch_2\">\r\n",
       "    <path clip-path=\"url(#peedb5e2f10)\" d=\"M 21.726446 156.12843 \r\n",
       "Q 21.726446 126.763214 21.726446 98.516032 \r\n",
       "\" style=\"fill:none;stroke:#000000;stroke-linecap:round;\"/>\r\n",
       "    <path clip-path=\"url(#peedb5e2f10)\" d=\"M 19.726446 102.516032 \r\n",
       "L 21.726446 98.516032 \r\n",
       "L 23.726446 102.516032 \r\n",
       "L 19.726446 102.516032 \r\n",
       "z\r\n",
       "\" style=\"stroke:#000000;stroke-linecap:round;\"/>\r\n",
       "   </g>\r\n",
       "   <g id=\"patch_3\">\r\n",
       "    <path clip-path=\"url(#peedb5e2f10)\" d=\"M 21.726446 88.74 \r\n",
       "Q 86.57032 88.74 150.296159 88.74 \r\n",
       "\" style=\"fill:none;stroke:#000000;stroke-linecap:round;\"/>\r\n",
       "    <path clip-path=\"url(#peedb5e2f10)\" d=\"M 146.296159 86.74 \r\n",
       "L 150.296159 88.74 \r\n",
       "L 146.296159 90.74 \r\n",
       "L 146.296159 86.74 \r\n",
       "z\r\n",
       "\" style=\"stroke:#000000;stroke-linecap:round;\"/>\r\n",
       "   </g>\r\n",
       "   <g id=\"patch_4\">\r\n",
       "    <path clip-path=\"url(#peedb5e2f10)\" d=\"M 21.726446 88.74 \r\n",
       "Q 21.726446 59.374784 21.726446 31.127603 \r\n",
       "\" style=\"fill:none;stroke:#000000;stroke-linecap:round;\"/>\r\n",
       "    <path clip-path=\"url(#peedb5e2f10)\" d=\"M 19.726446 35.127603 \r\n",
       "L 21.726446 31.127603 \r\n",
       "L 23.726446 35.127603 \r\n",
       "L 19.726446 35.127603 \r\n",
       "z\r\n",
       "\" style=\"stroke:#000000;stroke-linecap:round;\"/>\r\n",
       "   </g>\r\n",
       "   <g id=\"patch_5\">\r\n",
       "    <path clip-path=\"url(#peedb5e2f10)\" d=\"M 160.073554 88.74 \r\n",
       "Q 160.073554 59.374784 160.073554 31.127603 \r\n",
       "\" style=\"fill:none;stroke:#000000;stroke-linecap:round;\"/>\r\n",
       "    <path clip-path=\"url(#peedb5e2f10)\" d=\"M 158.073554 35.127603 \r\n",
       "L 160.073554 31.127603 \r\n",
       "L 162.073554 35.127603 \r\n",
       "L 158.073554 35.127603 \r\n",
       "z\r\n",
       "\" style=\"stroke:#000000;stroke-linecap:round;\"/>\r\n",
       "   </g>\r\n",
       "   <g id=\"patch_6\">\r\n",
       "    <path clip-path=\"url(#peedb5e2f10)\" d=\"M 21.726446 21.35157 \r\n",
       "Q 86.57032 21.35157 150.296159 21.35157 \r\n",
       "\" style=\"fill:none;stroke:#000000;stroke-linecap:round;\"/>\r\n",
       "    <path clip-path=\"url(#peedb5e2f10)\" d=\"M 146.296159 19.35157 \r\n",
       "L 150.296159 21.35157 \r\n",
       "L 146.296159 23.35157 \r\n",
       "L 146.296159 19.35157 \r\n",
       "z\r\n",
       "\" style=\"stroke:#000000;stroke-linecap:round;\"/>\r\n",
       "   </g>\r\n",
       "   <g id=\"PathCollection_1\">\r\n",
       "    <defs>\r\n",
       "     <path d=\"M 0 22.36068 \r\n",
       "C 5.930122 22.36068 11.618159 20.004617 15.811388 15.811388 \r\n",
       "C 20.004617 11.618159 22.36068 5.930122 22.36068 0 \r\n",
       "C 22.36068 -5.930122 20.004617 -11.618159 15.811388 -15.811388 \r\n",
       "C 11.618159 -20.004617 5.930122 -22.36068 0 -22.36068 \r\n",
       "C -5.930122 -22.36068 -11.618159 -20.004617 -15.811388 -15.811388 \r\n",
       "C -20.004617 -11.618159 -22.36068 -5.930122 -22.36068 0 \r\n",
       "C -22.36068 5.930122 -20.004617 11.618159 -15.811388 15.811388 \r\n",
       "C -11.618159 20.004617 -5.930122 22.36068 0 22.36068 \r\n",
       "z\r\n",
       "\" id=\"mf8c7cb7905\" style=\"stroke:#1f78b4;\"/>\r\n",
       "    </defs>\r\n",
       "    <g clip-path=\"url(#peedb5e2f10)\">\r\n",
       "     <use style=\"fill:#1f78b4;stroke:#1f78b4;\" x=\"21.726446\" xlink:href=\"#mf8c7cb7905\" y=\"156.12843\"/>\r\n",
       "    </g>\r\n",
       "   </g>\r\n",
       "   <g id=\"PathCollection_2\">\r\n",
       "    <defs>\r\n",
       "     <path d=\"M 0 22.36068 \r\n",
       "C 5.930122 22.36068 11.618159 20.004617 15.811388 15.811388 \r\n",
       "C 20.004617 11.618159 22.36068 5.930122 22.36068 0 \r\n",
       "C 22.36068 -5.930122 20.004617 -11.618159 15.811388 -15.811388 \r\n",
       "C 11.618159 -20.004617 5.930122 -22.36068 0 -22.36068 \r\n",
       "C -5.930122 -22.36068 -11.618159 -20.004617 -15.811388 -15.811388 \r\n",
       "C -20.004617 -11.618159 -22.36068 -5.930122 -22.36068 0 \r\n",
       "C -22.36068 5.930122 -20.004617 11.618159 -15.811388 15.811388 \r\n",
       "C -11.618159 20.004617 -5.930122 22.36068 0 22.36068 \r\n",
       "z\r\n",
       "\" id=\"mdc26f33ae2\" style=\"stroke:#ff0000;\"/>\r\n",
       "    </defs>\r\n",
       "    <g clip-path=\"url(#peedb5e2f10)\">\r\n",
       "     <use style=\"fill:#ff0000;stroke:#ff0000;\" x=\"21.726446\" xlink:href=\"#mdc26f33ae2\" y=\"88.74\"/>\r\n",
       "     <use style=\"fill:#ff0000;stroke:#ff0000;\" x=\"160.073554\" xlink:href=\"#mdc26f33ae2\" y=\"88.74\"/>\r\n",
       "     <use style=\"fill:#ff0000;stroke:#ff0000;\" x=\"21.726446\" xlink:href=\"#mdc26f33ae2\" y=\"21.35157\"/>\r\n",
       "     <use style=\"fill:#ff0000;stroke:#ff0000;\" x=\"160.073554\" xlink:href=\"#mdc26f33ae2\" y=\"21.35157\"/>\r\n",
       "    </g>\r\n",
       "   </g>\r\n",
       "   <g id=\"text_1\">\r\n",
       "    <g clip-path=\"url(#peedb5e2f10)\">\r\n",
       "     <!-- (0, 0) -->\r\n",
       "     <defs>\r\n",
       "      <path d=\"M 31 75.875 \r\n",
       "Q 24.46875 64.65625 21.28125 53.65625 \r\n",
       "Q 18.109375 42.671875 18.109375 31.390625 \r\n",
       "Q 18.109375 20.125 21.3125 9.0625 \r\n",
       "Q 24.515625 -2 31 -13.1875 \r\n",
       "L 23.1875 -13.1875 \r\n",
       "Q 15.875 -1.703125 12.234375 9.375 \r\n",
       "Q 8.59375 20.453125 8.59375 31.390625 \r\n",
       "Q 8.59375 42.28125 12.203125 53.3125 \r\n",
       "Q 15.828125 64.359375 23.1875 75.875 \r\n",
       "z\r\n",
       "\" id=\"DejaVuSans-40\"/>\r\n",
       "      <path d=\"M 31.78125 66.40625 \r\n",
       "Q 24.171875 66.40625 20.328125 58.90625 \r\n",
       "Q 16.5 51.421875 16.5 36.375 \r\n",
       "Q 16.5 21.390625 20.328125 13.890625 \r\n",
       "Q 24.171875 6.390625 31.78125 6.390625 \r\n",
       "Q 39.453125 6.390625 43.28125 13.890625 \r\n",
       "Q 47.125 21.390625 47.125 36.375 \r\n",
       "Q 47.125 51.421875 43.28125 58.90625 \r\n",
       "Q 39.453125 66.40625 31.78125 66.40625 \r\n",
       "z\r\n",
       "M 31.78125 74.21875 \r\n",
       "Q 44.046875 74.21875 50.515625 64.515625 \r\n",
       "Q 56.984375 54.828125 56.984375 36.375 \r\n",
       "Q 56.984375 17.96875 50.515625 8.265625 \r\n",
       "Q 44.046875 -1.421875 31.78125 -1.421875 \r\n",
       "Q 19.53125 -1.421875 13.0625 8.265625 \r\n",
       "Q 6.59375 17.96875 6.59375 36.375 \r\n",
       "Q 6.59375 54.828125 13.0625 64.515625 \r\n",
       "Q 19.53125 74.21875 31.78125 74.21875 \r\n",
       "z\r\n",
       "\" id=\"DejaVuSans-48\"/>\r\n",
       "      <path d=\"M 11.71875 12.40625 \r\n",
       "L 22.015625 12.40625 \r\n",
       "L 22.015625 4 \r\n",
       "L 14.015625 -11.625 \r\n",
       "L 7.71875 -11.625 \r\n",
       "L 11.71875 4 \r\n",
       "z\r\n",
       "\" id=\"DejaVuSans-44\"/>\r\n",
       "      <path id=\"DejaVuSans-32\"/>\r\n",
       "      <path d=\"M 8.015625 75.875 \r\n",
       "L 15.828125 75.875 \r\n",
       "Q 23.140625 64.359375 26.78125 53.3125 \r\n",
       "Q 30.421875 42.28125 30.421875 31.390625 \r\n",
       "Q 30.421875 20.453125 26.78125 9.375 \r\n",
       "Q 23.140625 -1.703125 15.828125 -13.1875 \r\n",
       "L 8.015625 -13.1875 \r\n",
       "Q 14.5 -2 17.703125 9.0625 \r\n",
       "Q 20.90625 20.125 20.90625 31.390625 \r\n",
       "Q 20.90625 42.671875 17.703125 53.65625 \r\n",
       "Q 14.5 64.65625 8.015625 75.875 \r\n",
       "z\r\n",
       "\" id=\"DejaVuSans-41\"/>\r\n",
       "     </defs>\r\n",
       "     <g transform=\"translate(5.595821 159.43968)scale(0.12 -0.12)\">\r\n",
       "      <use xlink:href=\"#DejaVuSans-40\"/>\r\n",
       "      <use x=\"39.013672\" xlink:href=\"#DejaVuSans-48\"/>\r\n",
       "      <use x=\"102.636719\" xlink:href=\"#DejaVuSans-44\"/>\r\n",
       "      <use x=\"134.423828\" xlink:href=\"#DejaVuSans-32\"/>\r\n",
       "      <use x=\"166.210938\" xlink:href=\"#DejaVuSans-48\"/>\r\n",
       "      <use x=\"229.833984\" xlink:href=\"#DejaVuSans-41\"/>\r\n",
       "     </g>\r\n",
       "    </g>\r\n",
       "   </g>\r\n",
       "   <g id=\"text_2\">\r\n",
       "    <g clip-path=\"url(#peedb5e2f10)\">\r\n",
       "     <!-- (0, 1) -->\r\n",
       "     <defs>\r\n",
       "      <path d=\"M 12.40625 8.296875 \r\n",
       "L 28.515625 8.296875 \r\n",
       "L 28.515625 63.921875 \r\n",
       "L 10.984375 60.40625 \r\n",
       "L 10.984375 69.390625 \r\n",
       "L 28.421875 72.90625 \r\n",
       "L 38.28125 72.90625 \r\n",
       "L 38.28125 8.296875 \r\n",
       "L 54.390625 8.296875 \r\n",
       "L 54.390625 0 \r\n",
       "L 12.40625 0 \r\n",
       "z\r\n",
       "\" id=\"DejaVuSans-49\"/>\r\n",
       "     </defs>\r\n",
       "     <g transform=\"translate(5.595821 92.05125)scale(0.12 -0.12)\">\r\n",
       "      <use xlink:href=\"#DejaVuSans-40\"/>\r\n",
       "      <use x=\"39.013672\" xlink:href=\"#DejaVuSans-48\"/>\r\n",
       "      <use x=\"102.636719\" xlink:href=\"#DejaVuSans-44\"/>\r\n",
       "      <use x=\"134.423828\" xlink:href=\"#DejaVuSans-32\"/>\r\n",
       "      <use x=\"166.210938\" xlink:href=\"#DejaVuSans-49\"/>\r\n",
       "      <use x=\"229.833984\" xlink:href=\"#DejaVuSans-41\"/>\r\n",
       "     </g>\r\n",
       "    </g>\r\n",
       "   </g>\r\n",
       "   <g id=\"text_3\">\r\n",
       "    <g clip-path=\"url(#peedb5e2f10)\">\r\n",
       "     <!-- (1, 1) -->\r\n",
       "     <g transform=\"translate(143.942929 92.05125)scale(0.12 -0.12)\">\r\n",
       "      <use xlink:href=\"#DejaVuSans-40\"/>\r\n",
       "      <use x=\"39.013672\" xlink:href=\"#DejaVuSans-49\"/>\r\n",
       "      <use x=\"102.636719\" xlink:href=\"#DejaVuSans-44\"/>\r\n",
       "      <use x=\"134.423828\" xlink:href=\"#DejaVuSans-32\"/>\r\n",
       "      <use x=\"166.210938\" xlink:href=\"#DejaVuSans-49\"/>\r\n",
       "      <use x=\"229.833984\" xlink:href=\"#DejaVuSans-41\"/>\r\n",
       "     </g>\r\n",
       "    </g>\r\n",
       "   </g>\r\n",
       "   <g id=\"text_4\">\r\n",
       "    <g clip-path=\"url(#peedb5e2f10)\">\r\n",
       "     <!-- (0, 2) -->\r\n",
       "     <defs>\r\n",
       "      <path d=\"M 19.1875 8.296875 \r\n",
       "L 53.609375 8.296875 \r\n",
       "L 53.609375 0 \r\n",
       "L 7.328125 0 \r\n",
       "L 7.328125 8.296875 \r\n",
       "Q 12.9375 14.109375 22.625 23.890625 \r\n",
       "Q 32.328125 33.6875 34.8125 36.53125 \r\n",
       "Q 39.546875 41.84375 41.421875 45.53125 \r\n",
       "Q 43.3125 49.21875 43.3125 52.78125 \r\n",
       "Q 43.3125 58.59375 39.234375 62.25 \r\n",
       "Q 35.15625 65.921875 28.609375 65.921875 \r\n",
       "Q 23.96875 65.921875 18.8125 64.3125 \r\n",
       "Q 13.671875 62.703125 7.8125 59.421875 \r\n",
       "L 7.8125 69.390625 \r\n",
       "Q 13.765625 71.78125 18.9375 73 \r\n",
       "Q 24.125 74.21875 28.421875 74.21875 \r\n",
       "Q 39.75 74.21875 46.484375 68.546875 \r\n",
       "Q 53.21875 62.890625 53.21875 53.421875 \r\n",
       "Q 53.21875 48.921875 51.53125 44.890625 \r\n",
       "Q 49.859375 40.875 45.40625 35.40625 \r\n",
       "Q 44.1875 33.984375 37.640625 27.21875 \r\n",
       "Q 31.109375 20.453125 19.1875 8.296875 \r\n",
       "z\r\n",
       "\" id=\"DejaVuSans-50\"/>\r\n",
       "     </defs>\r\n",
       "     <g transform=\"translate(5.595821 24.66282)scale(0.12 -0.12)\">\r\n",
       "      <use xlink:href=\"#DejaVuSans-40\"/>\r\n",
       "      <use x=\"39.013672\" xlink:href=\"#DejaVuSans-48\"/>\r\n",
       "      <use x=\"102.636719\" xlink:href=\"#DejaVuSans-44\"/>\r\n",
       "      <use x=\"134.423828\" xlink:href=\"#DejaVuSans-32\"/>\r\n",
       "      <use x=\"166.210938\" xlink:href=\"#DejaVuSans-50\"/>\r\n",
       "      <use x=\"229.833984\" xlink:href=\"#DejaVuSans-41\"/>\r\n",
       "     </g>\r\n",
       "    </g>\r\n",
       "   </g>\r\n",
       "   <g id=\"text_5\">\r\n",
       "    <g clip-path=\"url(#peedb5e2f10)\">\r\n",
       "     <!-- (1, 2) -->\r\n",
       "     <g transform=\"translate(143.942929 24.66282)scale(0.12 -0.12)\">\r\n",
       "      <use xlink:href=\"#DejaVuSans-40\"/>\r\n",
       "      <use x=\"39.013672\" xlink:href=\"#DejaVuSans-49\"/>\r\n",
       "      <use x=\"102.636719\" xlink:href=\"#DejaVuSans-44\"/>\r\n",
       "      <use x=\"134.423828\" xlink:href=\"#DejaVuSans-32\"/>\r\n",
       "      <use x=\"166.210938\" xlink:href=\"#DejaVuSans-50\"/>\r\n",
       "      <use x=\"229.833984\" xlink:href=\"#DejaVuSans-41\"/>\r\n",
       "     </g>\r\n",
       "    </g>\r\n",
       "   </g>\r\n",
       "  </g>\r\n",
       " </g>\r\n",
       " <defs>\r\n",
       "  <clipPath id=\"peedb5e2f10\">\r\n",
       "   <rect height=\"163.08\" width=\"167.4\" x=\"7.2\" y=\"7.2\"/>\r\n",
       "  </clipPath>\r\n",
       " </defs>\r\n",
       "</svg>\r\n"
      ],
      "text/plain": [
       "<Figure size 216x216 with 1 Axes>"
      ]
     },
     "metadata": {},
     "output_type": "display_data"
    }
   ],
   "source": [
    "abg.markov.visualise_ambulance_markov_chain(num_of_servers, threshold, system_capacity, buffer_capacity)"
   ]
  },
  {
   "cell_type": "code",
   "execution_count": 33,
   "metadata": {},
   "outputs": [
    {
     "data": {
      "text/latex": [
       "$\\displaystyle \\left[ \\left( 0, \\  0\\right), \\  \\left( 0, \\  1\\right), \\  \\left( 1, \\  1\\right), \\  \\left( 0, \\  2\\right), \\  \\left( 1, \\  2\\right)\\right]$"
      ],
      "text/plain": [
       "[(0, 0), (0, 1), (1, 1), (0, 2), (1, 2)]"
      ]
     },
     "execution_count": 33,
     "metadata": {},
     "output_type": "execute_result"
    }
   ],
   "source": [
    "abg.markov.build_states(threshold=threshold, system_capacity=system_capacity, buffer_capacity=buffer_capacity)"
   ]
  },
  {
   "cell_type": "code",
   "execution_count": 34,
   "metadata": {},
   "outputs": [],
   "source": [
    "sym_pi = get_symbolic_pi(num_of_servers=num_of_servers, threshold=threshold, system_capacity=system_capacity, buffer_capacity=buffer_capacity)"
   ]
  },
  {
   "cell_type": "code",
   "execution_count": 80,
   "metadata": {},
   "outputs": [],
   "source": [
    "sym_state_probs = [0 for _ in range(5)]"
   ]
  },
  {
   "cell_type": "code",
   "execution_count": 85,
   "metadata": {},
   "outputs": [
    {
     "data": {
      "text/latex": [
       "$\\displaystyle \\frac{\\mu^{3} \\left(\\lambda^{A} + \\mu\\right)}{\\Lambda \\left(\\lambda^{A}\\right)^{2} \\lambda^{o} + \\Lambda \\left(\\lambda^{A}\\right)^{2} \\mu + \\Lambda \\lambda^{A} \\left(\\lambda^{o}\\right)^{2} + 3 \\Lambda \\lambda^{A} \\lambda^{o} \\mu + 2 \\Lambda \\lambda^{A} \\mu^{2} + \\Lambda \\lambda^{o} \\mu^{2} + \\Lambda \\mu^{3} + \\lambda^{A} \\mu^{3} + \\mu^{4}}$"
      ],
      "text/plain": [
       "                                               3                              \n",
       "                                              μ ⋅(λ__A + μ)                   \n",
       "──────────────────────────────────────────────────────────────────────────────\n",
       "      2              2                2                               2       \n",
       "Λ⋅λ__A ⋅λ__o + Λ⋅λ__A ⋅μ + Λ⋅λ__A⋅λ__o  + 3⋅Λ⋅λ__A⋅λ__o⋅μ + 2⋅Λ⋅λ__A⋅μ  + Λ⋅λ_\n",
       "\n",
       "                           \n",
       "                           \n",
       "───────────────────────────\n",
       "    2      3         3    4\n",
       "_o⋅μ  + Λ⋅μ  + λ__A⋅μ  + μ "
      ]
     },
     "execution_count": 85,
     "metadata": {},
     "output_type": "execute_result"
    }
   ],
   "source": [
    "# (0,0)\n",
    "sym_state_probs[0] = sym.simplify(1 - sum(sym_state_probs[1:]))\n",
    "sym_state_probs[0]"
   ]
  },
  {
   "cell_type": "code",
   "execution_count": 84,
   "metadata": {},
   "outputs": [
    {
     "data": {
      "text/latex": [
       "$\\displaystyle \\frac{\\Lambda \\mu^{2} \\left(\\lambda^{A} + \\mu\\right)}{\\Lambda \\left(\\lambda^{A}\\right)^{2} \\lambda^{o} + \\Lambda \\left(\\lambda^{A}\\right)^{2} \\mu + \\Lambda \\lambda^{A} \\left(\\lambda^{o}\\right)^{2} + 3 \\Lambda \\lambda^{A} \\lambda^{o} \\mu + 2 \\Lambda \\lambda^{A} \\mu^{2} + \\Lambda \\lambda^{o} \\mu^{2} + \\Lambda \\mu^{3} + \\lambda^{A} \\mu^{3} + \\mu^{4}}$"
      ],
      "text/plain": [
       "                                                2                             \n",
       "                                             Λ⋅μ ⋅(λ__A + μ)                  \n",
       "──────────────────────────────────────────────────────────────────────────────\n",
       "      2              2                2                               2       \n",
       "Λ⋅λ__A ⋅λ__o + Λ⋅λ__A ⋅μ + Λ⋅λ__A⋅λ__o  + 3⋅Λ⋅λ__A⋅λ__o⋅μ + 2⋅Λ⋅λ__A⋅μ  + Λ⋅λ_\n",
       "\n",
       "                           \n",
       "                           \n",
       "───────────────────────────\n",
       "    2      3         3    4\n",
       "_o⋅μ  + Λ⋅μ  + λ__A⋅μ  + μ "
      ]
     },
     "execution_count": 84,
     "metadata": {},
     "output_type": "execute_result"
    }
   ],
   "source": [
    "# (0,1)\n",
    "sym_state_probs[1] = sym.simplify(sym_pi[b])\n",
    "sym_state_probs[1]"
   ]
  },
  {
   "cell_type": "code",
   "execution_count": 83,
   "metadata": {},
   "outputs": [
    {
     "data": {
      "text/latex": [
       "$\\displaystyle \\frac{\\Lambda \\lambda^{A} \\mu \\left(\\lambda^{A} + \\lambda^{o} + \\mu\\right)}{\\Lambda \\left(\\lambda^{A}\\right)^{2} \\lambda^{o} + \\Lambda \\left(\\lambda^{A}\\right)^{2} \\mu + \\Lambda \\lambda^{A} \\left(\\lambda^{o}\\right)^{2} + 3 \\Lambda \\lambda^{A} \\lambda^{o} \\mu + 2 \\Lambda \\lambda^{A} \\mu^{2} + \\Lambda \\lambda^{o} \\mu^{2} + \\Lambda \\mu^{3} + \\lambda^{A} \\mu^{3} + \\mu^{4}}$"
      ],
      "text/plain": [
       "                                        Λ⋅λ__A⋅μ⋅(λ__A + λ__o + μ)            \n",
       "──────────────────────────────────────────────────────────────────────────────\n",
       "      2              2                2                               2       \n",
       "Λ⋅λ__A ⋅λ__o + Λ⋅λ__A ⋅μ + Λ⋅λ__A⋅λ__o  + 3⋅Λ⋅λ__A⋅λ__o⋅μ + 2⋅Λ⋅λ__A⋅μ  + Λ⋅λ_\n",
       "\n",
       "                           \n",
       "───────────────────────────\n",
       "    2      3         3    4\n",
       "_o⋅μ  + Λ⋅μ  + λ__A⋅μ  + μ "
      ]
     },
     "execution_count": 83,
     "metadata": {},
     "output_type": "execute_result"
    }
   ],
   "source": [
    "# (1,1)\n",
    "sym_state_probs[2] = sym.simplify(sym_pi[c])\n",
    "sym_state_probs[2]"
   ]
  },
  {
   "cell_type": "code",
   "execution_count": 82,
   "metadata": {},
   "outputs": [
    {
     "data": {
      "text/latex": [
       "$\\displaystyle \\frac{\\Lambda \\lambda^{o} \\mu^{2}}{\\Lambda \\left(\\lambda^{A}\\right)^{2} \\lambda^{o} + \\Lambda \\left(\\lambda^{A}\\right)^{2} \\mu + \\Lambda \\lambda^{A} \\left(\\lambda^{o}\\right)^{2} + 3 \\Lambda \\lambda^{A} \\lambda^{o} \\mu + 2 \\Lambda \\lambda^{A} \\mu^{2} + \\Lambda \\lambda^{o} \\mu^{2} + \\Lambda \\mu^{3} + \\lambda^{A} \\mu^{3} + \\mu^{4}}$"
      ],
      "text/plain": [
       "                                                        2                     \n",
       "                                                Λ⋅λ__o⋅μ                      \n",
       "──────────────────────────────────────────────────────────────────────────────\n",
       "      2              2                2                               2       \n",
       "Λ⋅λ__A ⋅λ__o + Λ⋅λ__A ⋅μ + Λ⋅λ__A⋅λ__o  + 3⋅Λ⋅λ__A⋅λ__o⋅μ + 2⋅Λ⋅λ__A⋅μ  + Λ⋅λ_\n",
       "\n",
       "                           \n",
       "                           \n",
       "───────────────────────────\n",
       "    2      3         3    4\n",
       "_o⋅μ  + Λ⋅μ  + λ__A⋅μ  + μ "
      ]
     },
     "execution_count": 82,
     "metadata": {},
     "output_type": "execute_result"
    }
   ],
   "source": [
    "# (0,2)\n",
    "sym_state_probs[3] = sym.simplify(sym_pi[d])\n",
    "sym_state_probs[3]"
   ]
  },
  {
   "cell_type": "code",
   "execution_count": 81,
   "metadata": {},
   "outputs": [
    {
     "data": {
      "text/latex": [
       "$\\displaystyle \\frac{\\Lambda \\lambda^{A} \\lambda^{o} \\left(\\lambda^{A} + \\lambda^{o} + 2 \\mu\\right)}{\\Lambda \\left(\\lambda^{A}\\right)^{2} \\lambda^{o} + \\Lambda \\left(\\lambda^{A}\\right)^{2} \\mu + \\Lambda \\lambda^{A} \\left(\\lambda^{o}\\right)^{2} + 3 \\Lambda \\lambda^{A} \\lambda^{o} \\mu + 2 \\Lambda \\lambda^{A} \\mu^{2} + \\Lambda \\lambda^{o} \\mu^{2} + \\Lambda \\mu^{3} + \\lambda^{A} \\mu^{3} + \\mu^{4}}$"
      ],
      "text/plain": [
       "                                     Λ⋅λ__A⋅λ__o⋅(λ__A + λ__o + 2⋅μ)          \n",
       "──────────────────────────────────────────────────────────────────────────────\n",
       "      2              2                2                               2       \n",
       "Λ⋅λ__A ⋅λ__o + Λ⋅λ__A ⋅μ + Λ⋅λ__A⋅λ__o  + 3⋅Λ⋅λ__A⋅λ__o⋅μ + 2⋅Λ⋅λ__A⋅μ  + Λ⋅λ_\n",
       "\n",
       "                           \n",
       "───────────────────────────\n",
       "    2      3         3    4\n",
       "_o⋅μ  + Λ⋅μ  + λ__A⋅μ  + μ "
      ]
     },
     "execution_count": 81,
     "metadata": {},
     "output_type": "execute_result"
    }
   ],
   "source": [
    "# (1,2)\n",
    "sym_state_probs[4] = sym.simplify(sym_pi[e])\n",
    "sym_state_probs[4]"
   ]
  },
  {
   "cell_type": "code",
   "execution_count": 86,
   "metadata": {},
   "outputs": [
    {
     "data": {
      "text/latex": [
       "$\\displaystyle 1$"
      ],
      "text/plain": [
       "1"
      ]
     },
     "execution_count": 86,
     "metadata": {},
     "output_type": "execute_result"
    }
   ],
   "source": [
    "sym.simplify(sum(sym_state_probs))"
   ]
  },
  {
   "cell_type": "code",
   "execution_count": null,
   "metadata": {},
   "outputs": [],
   "source": []
  },
  {
   "cell_type": "markdown",
   "metadata": {},
   "source": [
    "# $C=2, T=1, N=2, M=1$"
   ]
  },
  {
   "cell_type": "code",
   "execution_count": 118,
   "metadata": {},
   "outputs": [],
   "source": [
    "num_of_servers = 2\n",
    "threshold = 1\n",
    "system_capacity = 2\n",
    "buffer_capacity = 1"
   ]
  },
  {
   "cell_type": "code",
   "execution_count": 119,
   "metadata": {},
   "outputs": [
    {
     "data": {
      "text/plain": [
       "<networkx.classes.multidigraph.MultiDiGraph at 0x1c1c83e0588>"
      ]
     },
     "execution_count": 119,
     "metadata": {},
     "output_type": "execute_result"
    },
    {
     "data": {
      "image/png": "[encoded data removed]",
      "image/svg+xml": [
       "<?xml version=\"1.0\" encoding=\"utf-8\" standalone=\"no\"?>\r\n",
       "<!DOCTYPE svg PUBLIC \"-//W3C//DTD SVG 1.1//EN\"\r\n",
       "  \"http://www.w3.org/Graphics/SVG/1.1/DTD/svg11.dtd\">\r\n",
       "<!-- Created with matplotlib (https://matplotlib.org/) -->\r\n",
       "<svg height=\"177.48pt\" version=\"1.1\" viewBox=\"0 0 181.8 177.48\" width=\"181.8pt\" xmlns=\"http://www.w3.org/2000/svg\" xmlns:xlink=\"http://www.w3.org/1999/xlink\">\r\n",
       " <defs>\r\n",
       "  <style type=\"text/css\">\r\n",
       "*{stroke-linecap:butt;stroke-linejoin:round;}\r\n",
       "  </style>\r\n",
       " </defs>\r\n",
       " <g id=\"figure_1\">\r\n",
       "  <g id=\"patch_1\">\r\n",
       "   <path d=\"M 0 177.48 \r\n",
       "L 181.8 177.48 \r\n",
       "L 181.8 0 \r\n",
       "L 0 0 \r\n",
       "z\r\n",
       "\" style=\"fill:none;\"/>\r\n",
       "  </g>\r\n",
       "  <g id=\"axes_1\">\r\n",
       "   <g id=\"patch_2\">\r\n",
       "    <path clip-path=\"url(#p1f60de2632)\" d=\"M 21.726446 156.12843 \r\n",
       "Q 21.726446 126.763214 21.726446 98.516032 \r\n",
       "\" style=\"fill:none;stroke:#000000;stroke-linecap:round;\"/>\r\n",
       "    <path clip-path=\"url(#p1f60de2632)\" d=\"M 19.726446 102.516032 \r\n",
       "L 21.726446 98.516032 \r\n",
       "L 23.726446 102.516032 \r\n",
       "L 19.726446 102.516032 \r\n",
       "z\r\n",
       "\" style=\"stroke:#000000;stroke-linecap:round;\"/>\r\n",
       "   </g>\r\n",
       "   <g id=\"patch_3\">\r\n",
       "    <path clip-path=\"url(#p1f60de2632)\" d=\"M 21.726446 88.74 \r\n",
       "Q 86.57032 88.74 150.296159 88.74 \r\n",
       "\" style=\"fill:none;stroke:#000000;stroke-linecap:round;\"/>\r\n",
       "    <path clip-path=\"url(#p1f60de2632)\" d=\"M 146.296159 86.74 \r\n",
       "L 150.296159 88.74 \r\n",
       "L 146.296159 90.74 \r\n",
       "L 146.296159 86.74 \r\n",
       "z\r\n",
       "\" style=\"stroke:#000000;stroke-linecap:round;\"/>\r\n",
       "   </g>\r\n",
       "   <g id=\"patch_4\">\r\n",
       "    <path clip-path=\"url(#p1f60de2632)\" d=\"M 21.726446 88.74 \r\n",
       "Q 21.726446 59.374784 21.726446 31.127603 \r\n",
       "\" style=\"fill:none;stroke:#000000;stroke-linecap:round;\"/>\r\n",
       "    <path clip-path=\"url(#p1f60de2632)\" d=\"M 19.726446 35.127603 \r\n",
       "L 21.726446 31.127603 \r\n",
       "L 23.726446 35.127603 \r\n",
       "L 19.726446 35.127603 \r\n",
       "z\r\n",
       "\" style=\"stroke:#000000;stroke-linecap:round;\"/>\r\n",
       "   </g>\r\n",
       "   <g id=\"patch_5\">\r\n",
       "    <path clip-path=\"url(#p1f60de2632)\" d=\"M 160.073554 88.74 \r\n",
       "Q 160.073554 59.374784 160.073554 31.127603 \r\n",
       "\" style=\"fill:none;stroke:#000000;stroke-linecap:round;\"/>\r\n",
       "    <path clip-path=\"url(#p1f60de2632)\" d=\"M 158.073554 35.127603 \r\n",
       "L 160.073554 31.127603 \r\n",
       "L 162.073554 35.127603 \r\n",
       "L 158.073554 35.127603 \r\n",
       "z\r\n",
       "\" style=\"stroke:#000000;stroke-linecap:round;\"/>\r\n",
       "   </g>\r\n",
       "   <g id=\"patch_6\">\r\n",
       "    <path clip-path=\"url(#p1f60de2632)\" d=\"M 21.726446 21.35157 \r\n",
       "Q 86.57032 21.35157 150.296159 21.35157 \r\n",
       "\" style=\"fill:none;stroke:#000000;stroke-linecap:round;\"/>\r\n",
       "    <path clip-path=\"url(#p1f60de2632)\" d=\"M 146.296159 19.35157 \r\n",
       "L 150.296159 21.35157 \r\n",
       "L 146.296159 23.35157 \r\n",
       "L 146.296159 19.35157 \r\n",
       "z\r\n",
       "\" style=\"stroke:#000000;stroke-linecap:round;\"/>\r\n",
       "   </g>\r\n",
       "   <g id=\"PathCollection_1\">\r\n",
       "    <defs>\r\n",
       "     <path d=\"M 0 22.36068 \r\n",
       "C 5.930122 22.36068 11.618159 20.004617 15.811388 15.811388 \r\n",
       "C 20.004617 11.618159 22.36068 5.930122 22.36068 0 \r\n",
       "C 22.36068 -5.930122 20.004617 -11.618159 15.811388 -15.811388 \r\n",
       "C 11.618159 -20.004617 5.930122 -22.36068 0 -22.36068 \r\n",
       "C -5.930122 -22.36068 -11.618159 -20.004617 -15.811388 -15.811388 \r\n",
       "C -20.004617 -11.618159 -22.36068 -5.930122 -22.36068 0 \r\n",
       "C -22.36068 5.930122 -20.004617 11.618159 -15.811388 15.811388 \r\n",
       "C -11.618159 20.004617 -5.930122 22.36068 0 22.36068 \r\n",
       "z\r\n",
       "\" id=\"m63db59263f\" style=\"stroke:#1f78b4;\"/>\r\n",
       "    </defs>\r\n",
       "    <g clip-path=\"url(#p1f60de2632)\">\r\n",
       "     <use style=\"fill:#1f78b4;stroke:#1f78b4;\" x=\"21.726446\" xlink:href=\"#m63db59263f\" y=\"156.12843\"/>\r\n",
       "     <use style=\"fill:#1f78b4;stroke:#1f78b4;\" x=\"21.726446\" xlink:href=\"#m63db59263f\" y=\"88.74\"/>\r\n",
       "     <use style=\"fill:#1f78b4;stroke:#1f78b4;\" x=\"160.073554\" xlink:href=\"#m63db59263f\" y=\"88.74\"/>\r\n",
       "    </g>\r\n",
       "   </g>\r\n",
       "   <g id=\"PathCollection_2\">\r\n",
       "    <defs>\r\n",
       "     <path d=\"M 0 22.36068 \r\n",
       "C 5.930122 22.36068 11.618159 20.004617 15.811388 15.811388 \r\n",
       "C 20.004617 11.618159 22.36068 5.930122 22.36068 0 \r\n",
       "C 22.36068 -5.930122 20.004617 -11.618159 15.811388 -15.811388 \r\n",
       "C 11.618159 -20.004617 5.930122 -22.36068 0 -22.36068 \r\n",
       "C -5.930122 -22.36068 -11.618159 -20.004617 -15.811388 -15.811388 \r\n",
       "C -20.004617 -11.618159 -22.36068 -5.930122 -22.36068 0 \r\n",
       "C -22.36068 5.930122 -20.004617 11.618159 -15.811388 15.811388 \r\n",
       "C -11.618159 20.004617 -5.930122 22.36068 0 22.36068 \r\n",
       "z\r\n",
       "\" id=\"m139fa525ce\" style=\"stroke:#ff0000;\"/>\r\n",
       "    </defs>\r\n",
       "    <g clip-path=\"url(#p1f60de2632)\">\r\n",
       "     <use style=\"fill:#ff0000;stroke:#ff0000;\" x=\"21.726446\" xlink:href=\"#m139fa525ce\" y=\"21.35157\"/>\r\n",
       "     <use style=\"fill:#ff0000;stroke:#ff0000;\" x=\"160.073554\" xlink:href=\"#m139fa525ce\" y=\"21.35157\"/>\r\n",
       "    </g>\r\n",
       "   </g>\r\n",
       "   <g id=\"text_1\">\r\n",
       "    <g clip-path=\"url(#p1f60de2632)\">\r\n",
       "     <!-- (0, 0) -->\r\n",
       "     <defs>\r\n",
       "      <path d=\"M 31 75.875 \r\n",
       "Q 24.46875 64.65625 21.28125 53.65625 \r\n",
       "Q 18.109375 42.671875 18.109375 31.390625 \r\n",
       "Q 18.109375 20.125 21.3125 9.0625 \r\n",
       "Q 24.515625 -2 31 -13.1875 \r\n",
       "L 23.1875 -13.1875 \r\n",
       "Q 15.875 -1.703125 12.234375 9.375 \r\n",
       "Q 8.59375 20.453125 8.59375 31.390625 \r\n",
       "Q 8.59375 42.28125 12.203125 53.3125 \r\n",
       "Q 15.828125 64.359375 23.1875 75.875 \r\n",
       "z\r\n",
       "\" id=\"DejaVuSans-40\"/>\r\n",
       "      <path d=\"M 31.78125 66.40625 \r\n",
       "Q 24.171875 66.40625 20.328125 58.90625 \r\n",
       "Q 16.5 51.421875 16.5 36.375 \r\n",
       "Q 16.5 21.390625 20.328125 13.890625 \r\n",
       "Q 24.171875 6.390625 31.78125 6.390625 \r\n",
       "Q 39.453125 6.390625 43.28125 13.890625 \r\n",
       "Q 47.125 21.390625 47.125 36.375 \r\n",
       "Q 47.125 51.421875 43.28125 58.90625 \r\n",
       "Q 39.453125 66.40625 31.78125 66.40625 \r\n",
       "z\r\n",
       "M 31.78125 74.21875 \r\n",
       "Q 44.046875 74.21875 50.515625 64.515625 \r\n",
       "Q 56.984375 54.828125 56.984375 36.375 \r\n",
       "Q 56.984375 17.96875 50.515625 8.265625 \r\n",
       "Q 44.046875 -1.421875 31.78125 -1.421875 \r\n",
       "Q 19.53125 -1.421875 13.0625 8.265625 \r\n",
       "Q 6.59375 17.96875 6.59375 36.375 \r\n",
       "Q 6.59375 54.828125 13.0625 64.515625 \r\n",
       "Q 19.53125 74.21875 31.78125 74.21875 \r\n",
       "z\r\n",
       "\" id=\"DejaVuSans-48\"/>\r\n",
       "      <path d=\"M 11.71875 12.40625 \r\n",
       "L 22.015625 12.40625 \r\n",
       "L 22.015625 4 \r\n",
       "L 14.015625 -11.625 \r\n",
       "L 7.71875 -11.625 \r\n",
       "L 11.71875 4 \r\n",
       "z\r\n",
       "\" id=\"DejaVuSans-44\"/>\r\n",
       "      <path id=\"DejaVuSans-32\"/>\r\n",
       "      <path d=\"M 8.015625 75.875 \r\n",
       "L 15.828125 75.875 \r\n",
       "Q 23.140625 64.359375 26.78125 53.3125 \r\n",
       "Q 30.421875 42.28125 30.421875 31.390625 \r\n",
       "Q 30.421875 20.453125 26.78125 9.375 \r\n",
       "Q 23.140625 -1.703125 15.828125 -13.1875 \r\n",
       "L 8.015625 -13.1875 \r\n",
       "Q 14.5 -2 17.703125 9.0625 \r\n",
       "Q 20.90625 20.125 20.90625 31.390625 \r\n",
       "Q 20.90625 42.671875 17.703125 53.65625 \r\n",
       "Q 14.5 64.65625 8.015625 75.875 \r\n",
       "z\r\n",
       "\" id=\"DejaVuSans-41\"/>\r\n",
       "     </defs>\r\n",
       "     <g transform=\"translate(5.595821 159.43968)scale(0.12 -0.12)\">\r\n",
       "      <use xlink:href=\"#DejaVuSans-40\"/>\r\n",
       "      <use x=\"39.013672\" xlink:href=\"#DejaVuSans-48\"/>\r\n",
       "      <use x=\"102.636719\" xlink:href=\"#DejaVuSans-44\"/>\r\n",
       "      <use x=\"134.423828\" xlink:href=\"#DejaVuSans-32\"/>\r\n",
       "      <use x=\"166.210938\" xlink:href=\"#DejaVuSans-48\"/>\r\n",
       "      <use x=\"229.833984\" xlink:href=\"#DejaVuSans-41\"/>\r\n",
       "     </g>\r\n",
       "    </g>\r\n",
       "   </g>\r\n",
       "   <g id=\"text_2\">\r\n",
       "    <g clip-path=\"url(#p1f60de2632)\">\r\n",
       "     <!-- (0, 1) -->\r\n",
       "     <defs>\r\n",
       "      <path d=\"M 12.40625 8.296875 \r\n",
       "L 28.515625 8.296875 \r\n",
       "L 28.515625 63.921875 \r\n",
       "L 10.984375 60.40625 \r\n",
       "L 10.984375 69.390625 \r\n",
       "L 28.421875 72.90625 \r\n",
       "L 38.28125 72.90625 \r\n",
       "L 38.28125 8.296875 \r\n",
       "L 54.390625 8.296875 \r\n",
       "L 54.390625 0 \r\n",
       "L 12.40625 0 \r\n",
       "z\r\n",
       "\" id=\"DejaVuSans-49\"/>\r\n",
       "     </defs>\r\n",
       "     <g transform=\"translate(5.595821 92.05125)scale(0.12 -0.12)\">\r\n",
       "      <use xlink:href=\"#DejaVuSans-40\"/>\r\n",
       "      <use x=\"39.013672\" xlink:href=\"#DejaVuSans-48\"/>\r\n",
       "      <use x=\"102.636719\" xlink:href=\"#DejaVuSans-44\"/>\r\n",
       "      <use x=\"134.423828\" xlink:href=\"#DejaVuSans-32\"/>\r\n",
       "      <use x=\"166.210938\" xlink:href=\"#DejaVuSans-49\"/>\r\n",
       "      <use x=\"229.833984\" xlink:href=\"#DejaVuSans-41\"/>\r\n",
       "     </g>\r\n",
       "    </g>\r\n",
       "   </g>\r\n",
       "   <g id=\"text_3\">\r\n",
       "    <g clip-path=\"url(#p1f60de2632)\">\r\n",
       "     <!-- (1, 1) -->\r\n",
       "     <g transform=\"translate(143.942929 92.05125)scale(0.12 -0.12)\">\r\n",
       "      <use xlink:href=\"#DejaVuSans-40\"/>\r\n",
       "      <use x=\"39.013672\" xlink:href=\"#DejaVuSans-49\"/>\r\n",
       "      <use x=\"102.636719\" xlink:href=\"#DejaVuSans-44\"/>\r\n",
       "      <use x=\"134.423828\" xlink:href=\"#DejaVuSans-32\"/>\r\n",
       "      <use x=\"166.210938\" xlink:href=\"#DejaVuSans-49\"/>\r\n",
       "      <use x=\"229.833984\" xlink:href=\"#DejaVuSans-41\"/>\r\n",
       "     </g>\r\n",
       "    </g>\r\n",
       "   </g>\r\n",
       "   <g id=\"text_4\">\r\n",
       "    <g clip-path=\"url(#p1f60de2632)\">\r\n",
       "     <!-- (0, 2) -->\r\n",
       "     <defs>\r\n",
       "      <path d=\"M 19.1875 8.296875 \r\n",
       "L 53.609375 8.296875 \r\n",
       "L 53.609375 0 \r\n",
       "L 7.328125 0 \r\n",
       "L 7.328125 8.296875 \r\n",
       "Q 12.9375 14.109375 22.625 23.890625 \r\n",
       "Q 32.328125 33.6875 34.8125 36.53125 \r\n",
       "Q 39.546875 41.84375 41.421875 45.53125 \r\n",
       "Q 43.3125 49.21875 43.3125 52.78125 \r\n",
       "Q 43.3125 58.59375 39.234375 62.25 \r\n",
       "Q 35.15625 65.921875 28.609375 65.921875 \r\n",
       "Q 23.96875 65.921875 18.8125 64.3125 \r\n",
       "Q 13.671875 62.703125 7.8125 59.421875 \r\n",
       "L 7.8125 69.390625 \r\n",
       "Q 13.765625 71.78125 18.9375 73 \r\n",
       "Q 24.125 74.21875 28.421875 74.21875 \r\n",
       "Q 39.75 74.21875 46.484375 68.546875 \r\n",
       "Q 53.21875 62.890625 53.21875 53.421875 \r\n",
       "Q 53.21875 48.921875 51.53125 44.890625 \r\n",
       "Q 49.859375 40.875 45.40625 35.40625 \r\n",
       "Q 44.1875 33.984375 37.640625 27.21875 \r\n",
       "Q 31.109375 20.453125 19.1875 8.296875 \r\n",
       "z\r\n",
       "\" id=\"DejaVuSans-50\"/>\r\n",
       "     </defs>\r\n",
       "     <g transform=\"translate(5.595821 24.66282)scale(0.12 -0.12)\">\r\n",
       "      <use xlink:href=\"#DejaVuSans-40\"/>\r\n",
       "      <use x=\"39.013672\" xlink:href=\"#DejaVuSans-48\"/>\r\n",
       "      <use x=\"102.636719\" xlink:href=\"#DejaVuSans-44\"/>\r\n",
       "      <use x=\"134.423828\" xlink:href=\"#DejaVuSans-32\"/>\r\n",
       "      <use x=\"166.210938\" xlink:href=\"#DejaVuSans-50\"/>\r\n",
       "      <use x=\"229.833984\" xlink:href=\"#DejaVuSans-41\"/>\r\n",
       "     </g>\r\n",
       "    </g>\r\n",
       "   </g>\r\n",
       "   <g id=\"text_5\">\r\n",
       "    <g clip-path=\"url(#p1f60de2632)\">\r\n",
       "     <!-- (1, 2) -->\r\n",
       "     <g transform=\"translate(143.942929 24.66282)scale(0.12 -0.12)\">\r\n",
       "      <use xlink:href=\"#DejaVuSans-40\"/>\r\n",
       "      <use x=\"39.013672\" xlink:href=\"#DejaVuSans-49\"/>\r\n",
       "      <use x=\"102.636719\" xlink:href=\"#DejaVuSans-44\"/>\r\n",
       "      <use x=\"134.423828\" xlink:href=\"#DejaVuSans-32\"/>\r\n",
       "      <use x=\"166.210938\" xlink:href=\"#DejaVuSans-50\"/>\r\n",
       "      <use x=\"229.833984\" xlink:href=\"#DejaVuSans-41\"/>\r\n",
       "     </g>\r\n",
       "    </g>\r\n",
       "   </g>\r\n",
       "  </g>\r\n",
       " </g>\r\n",
       " <defs>\r\n",
       "  <clipPath id=\"p1f60de2632\">\r\n",
       "   <rect height=\"163.08\" width=\"167.4\" x=\"7.2\" y=\"7.2\"/>\r\n",
       "  </clipPath>\r\n",
       " </defs>\r\n",
       "</svg>\r\n"
      ],
      "text/plain": [
       "<Figure size 216x216 with 1 Axes>"
      ]
     },
     "metadata": {},
     "output_type": "display_data"
    }
   ],
   "source": [
    "abg.markov.visualise_ambulance_markov_chain(num_of_servers, threshold, system_capacity, buffer_capacity)"
   ]
  },
  {
   "cell_type": "code",
   "execution_count": 31,
   "metadata": {},
   "outputs": [
    {
     "data": {
      "text/latex": [
       "$\\displaystyle \\left[ \\left( 0, \\  0\\right), \\  \\left( 0, \\  1\\right), \\  \\left( 1, \\  1\\right), \\  \\left( 0, \\  2\\right), \\  \\left( 1, \\  2\\right)\\right]$"
      ],
      "text/plain": [
       "[(0, 0), (0, 1), (1, 1), (0, 2), (1, 2)]"
      ]
     },
     "execution_count": 31,
     "metadata": {},
     "output_type": "execute_result"
    }
   ],
   "source": [
    "abg.markov.build_states(threshold=threshold, system_capacity=system_capacity, buffer_capacity=buffer_capacity)"
   ]
  },
  {
   "cell_type": "code",
   "execution_count": 36,
   "metadata": {},
   "outputs": [],
   "source": [
    "sym_pi = get_symbolic_pi(num_of_servers=num_of_servers, threshold=threshold, system_capacity=system_capacity, buffer_capacity=buffer_capacity)"
   ]
  },
  {
   "cell_type": "code",
   "execution_count": 37,
   "metadata": {
    "tags": []
   },
   "outputs": [],
   "source": [
    "sym_state_probs = [0 for _ in range(5)]"
   ]
  },
  {
   "cell_type": "code",
   "execution_count": 46,
   "metadata": {},
   "outputs": [
    {
     "data": {
      "text/latex": [
       "$\\displaystyle \\frac{2 \\mu^{3} \\left(\\lambda^{A} + 2 \\mu\\right)}{\\Lambda \\left(\\lambda^{A}\\right)^{2} \\lambda^{o} + 2 \\Lambda \\left(\\lambda^{A}\\right)^{2} \\mu + \\Lambda \\lambda^{A} \\left(\\lambda^{o}\\right)^{2} + 5 \\Lambda \\lambda^{A} \\lambda^{o} \\mu + 6 \\Lambda \\lambda^{A} \\mu^{2} + 2 \\Lambda \\lambda^{o} \\mu^{2} + 4 \\Lambda \\mu^{3} + 2 \\lambda^{A} \\mu^{3} + 4 \\mu^{4}}$"
      ],
      "text/plain": [
       "                                                    3                         \n",
       "                                                 2⋅μ ⋅(λ__A + 2⋅μ)            \n",
       "──────────────────────────────────────────────────────────────────────────────\n",
       "      2                2                2                               2     \n",
       "Λ⋅λ__A ⋅λ__o + 2⋅Λ⋅λ__A ⋅μ + Λ⋅λ__A⋅λ__o  + 5⋅Λ⋅λ__A⋅λ__o⋅μ + 6⋅Λ⋅λ__A⋅μ  + 2⋅\n",
       "\n",
       "                                     \n",
       "                                     \n",
       "─────────────────────────────────────\n",
       "        2        3           3      4\n",
       "Λ⋅λ__o⋅μ  + 4⋅Λ⋅μ  + 2⋅λ__A⋅μ  + 4⋅μ "
      ]
     },
     "execution_count": 46,
     "metadata": {},
     "output_type": "execute_result"
    }
   ],
   "source": [
    "# (0,0)\n",
    "sym_state_probs[0] = sym.simplify(1 - sum(sym_state_probs[1:]))\n",
    "sym_state_probs[0]"
   ]
  },
  {
   "cell_type": "code",
   "execution_count": 41,
   "metadata": {},
   "outputs": [
    {
     "data": {
      "text/latex": [
       "$\\displaystyle \\frac{2 \\Lambda \\mu^{2} \\left(\\lambda^{A} + 2 \\mu\\right)}{\\Lambda \\left(\\lambda^{A}\\right)^{2} \\lambda^{o} + 2 \\Lambda \\left(\\lambda^{A}\\right)^{2} \\mu + \\Lambda \\lambda^{A} \\left(\\lambda^{o}\\right)^{2} + 5 \\Lambda \\lambda^{A} \\lambda^{o} \\mu + 6 \\Lambda \\lambda^{A} \\mu^{2} + 2 \\Lambda \\lambda^{o} \\mu^{2} + 4 \\Lambda \\mu^{3} + 2 \\lambda^{A} \\mu^{3} + 4 \\mu^{4}}$"
      ],
      "text/plain": [
       "                                                     2                        \n",
       "                                                2⋅Λ⋅μ ⋅(λ__A + 2⋅μ)           \n",
       "──────────────────────────────────────────────────────────────────────────────\n",
       "      2                2                2                               2     \n",
       "Λ⋅λ__A ⋅λ__o + 2⋅Λ⋅λ__A ⋅μ + Λ⋅λ__A⋅λ__o  + 5⋅Λ⋅λ__A⋅λ__o⋅μ + 6⋅Λ⋅λ__A⋅μ  + 2⋅\n",
       "\n",
       "                                     \n",
       "                                     \n",
       "─────────────────────────────────────\n",
       "        2        3           3      4\n",
       "Λ⋅λ__o⋅μ  + 4⋅Λ⋅μ  + 2⋅λ__A⋅μ  + 4⋅μ "
      ]
     },
     "execution_count": 41,
     "metadata": {},
     "output_type": "execute_result"
    }
   ],
   "source": [
    "# (0,1)\n",
    "sym_state_probs[1] = sym.simplify(sym_pi[b])\n",
    "sym_state_probs[1]"
   ]
  },
  {
   "cell_type": "code",
   "execution_count": 40,
   "metadata": {},
   "outputs": [
    {
     "data": {
      "text/latex": [
       "$\\displaystyle \\frac{2 \\Lambda \\lambda^{A} \\mu \\left(\\lambda^{A} + \\lambda^{o} + 2 \\mu\\right)}{\\Lambda \\left(\\lambda^{A}\\right)^{2} \\lambda^{o} + 2 \\Lambda \\left(\\lambda^{A}\\right)^{2} \\mu + \\Lambda \\lambda^{A} \\left(\\lambda^{o}\\right)^{2} + 5 \\Lambda \\lambda^{A} \\lambda^{o} \\mu + 6 \\Lambda \\lambda^{A} \\mu^{2} + 2 \\Lambda \\lambda^{o} \\mu^{2} + 4 \\Lambda \\mu^{3} + 2 \\lambda^{A} \\mu^{3} + 4 \\mu^{4}}$"
      ],
      "text/plain": [
       "                                           2⋅Λ⋅λ__A⋅μ⋅(λ__A + λ__o + 2⋅μ)     \n",
       "──────────────────────────────────────────────────────────────────────────────\n",
       "      2                2                2                               2     \n",
       "Λ⋅λ__A ⋅λ__o + 2⋅Λ⋅λ__A ⋅μ + Λ⋅λ__A⋅λ__o  + 5⋅Λ⋅λ__A⋅λ__o⋅μ + 6⋅Λ⋅λ__A⋅μ  + 2⋅\n",
       "\n",
       "                                     \n",
       "─────────────────────────────────────\n",
       "        2        3           3      4\n",
       "Λ⋅λ__o⋅μ  + 4⋅Λ⋅μ  + 2⋅λ__A⋅μ  + 4⋅μ "
      ]
     },
     "execution_count": 40,
     "metadata": {},
     "output_type": "execute_result"
    }
   ],
   "source": [
    "# (1,1)\n",
    "sym_state_probs[2] = sym.simplify(sym_pi[c])\n",
    "sym_state_probs[2]"
   ]
  },
  {
   "cell_type": "code",
   "execution_count": 39,
   "metadata": {},
   "outputs": [
    {
     "data": {
      "text/latex": [
       "$\\displaystyle \\frac{2 \\Lambda \\lambda^{o} \\mu^{2}}{\\Lambda \\left(\\lambda^{A}\\right)^{2} \\lambda^{o} + 2 \\Lambda \\left(\\lambda^{A}\\right)^{2} \\mu + \\Lambda \\lambda^{A} \\left(\\lambda^{o}\\right)^{2} + 5 \\Lambda \\lambda^{A} \\lambda^{o} \\mu + 6 \\Lambda \\lambda^{A} \\mu^{2} + 2 \\Lambda \\lambda^{o} \\mu^{2} + 4 \\Lambda \\mu^{3} + 2 \\lambda^{A} \\mu^{3} + 4 \\mu^{4}}$"
      ],
      "text/plain": [
       "                                                              2               \n",
       "                                                    2⋅Λ⋅λ__o⋅μ                \n",
       "──────────────────────────────────────────────────────────────────────────────\n",
       "      2                2                2                               2     \n",
       "Λ⋅λ__A ⋅λ__o + 2⋅Λ⋅λ__A ⋅μ + Λ⋅λ__A⋅λ__o  + 5⋅Λ⋅λ__A⋅λ__o⋅μ + 6⋅Λ⋅λ__A⋅μ  + 2⋅\n",
       "\n",
       "                                     \n",
       "                                     \n",
       "─────────────────────────────────────\n",
       "        2        3           3      4\n",
       "Λ⋅λ__o⋅μ  + 4⋅Λ⋅μ  + 2⋅λ__A⋅μ  + 4⋅μ "
      ]
     },
     "execution_count": 39,
     "metadata": {},
     "output_type": "execute_result"
    }
   ],
   "source": [
    "# (0,2)\n",
    "sym_state_probs[3] = sym.simplify(sym_pi[d])\n",
    "sym_state_probs[3]"
   ]
  },
  {
   "cell_type": "code",
   "execution_count": 38,
   "metadata": {},
   "outputs": [
    {
     "data": {
      "text/latex": [
       "$\\displaystyle \\frac{\\Lambda \\lambda^{A} \\lambda^{o} \\left(\\lambda^{A} + \\lambda^{o} + 3 \\mu\\right)}{\\Lambda \\left(\\lambda^{A}\\right)^{2} \\lambda^{o} + 2 \\Lambda \\left(\\lambda^{A}\\right)^{2} \\mu + \\Lambda \\lambda^{A} \\left(\\lambda^{o}\\right)^{2} + 5 \\Lambda \\lambda^{A} \\lambda^{o} \\mu + 6 \\Lambda \\lambda^{A} \\mu^{2} + 2 \\Lambda \\lambda^{o} \\mu^{2} + 4 \\Lambda \\mu^{3} + 2 \\lambda^{A} \\mu^{3} + 4 \\mu^{4}}$"
      ],
      "text/plain": [
       "                                          Λ⋅λ__A⋅λ__o⋅(λ__A + λ__o + 3⋅μ)     \n",
       "──────────────────────────────────────────────────────────────────────────────\n",
       "      2                2                2                               2     \n",
       "Λ⋅λ__A ⋅λ__o + 2⋅Λ⋅λ__A ⋅μ + Λ⋅λ__A⋅λ__o  + 5⋅Λ⋅λ__A⋅λ__o⋅μ + 6⋅Λ⋅λ__A⋅μ  + 2⋅\n",
       "\n",
       "                                     \n",
       "─────────────────────────────────────\n",
       "        2        3           3      4\n",
       "Λ⋅λ__o⋅μ  + 4⋅Λ⋅μ  + 2⋅λ__A⋅μ  + 4⋅μ "
      ]
     },
     "execution_count": 38,
     "metadata": {},
     "output_type": "execute_result"
    }
   ],
   "source": [
    "# (1,2)\n",
    "sym_state_probs[4] = sym.simplify(sym_pi[e])\n",
    "sym_state_probs[4]"
   ]
  },
  {
   "cell_type": "code",
   "execution_count": 49,
   "metadata": {},
   "outputs": [
    {
     "data": {
      "text/latex": [
       "$\\displaystyle 1$"
      ],
      "text/plain": [
       "1"
      ]
     },
     "execution_count": 49,
     "metadata": {},
     "output_type": "execute_result"
    }
   ],
   "source": [
    "sym.simplify(sum(sym_state_probs))"
   ]
  },
  {
   "cell_type": "code",
   "execution_count": null,
   "metadata": {},
   "outputs": [],
   "source": []
  },
  {
   "cell_type": "markdown",
   "metadata": {},
   "source": [
    "# $C=1, T=2, N=2, M=2$"
   ]
  },
  {
   "cell_type": "code",
   "execution_count": 120,
   "metadata": {},
   "outputs": [],
   "source": [
    "num_of_servers = 1\n",
    "threshold = 2\n",
    "system_capacity = 2\n",
    "buffer_capacity = 2"
   ]
  },
  {
   "cell_type": "code",
   "execution_count": 121,
   "metadata": {},
   "outputs": [
    {
     "data": {
      "text/plain": [
       "<networkx.classes.multidigraph.MultiDiGraph at 0x1c1c80e3b38>"
      ]
     },
     "execution_count": 121,
     "metadata": {},
     "output_type": "execute_result"
    },
    {
     "data": {
      "image/png": "[encoded data removed]",
      "image/svg+xml": [
       "<?xml version=\"1.0\" encoding=\"utf-8\" standalone=\"no\"?>\r\n",
       "<!DOCTYPE svg PUBLIC \"-//W3C//DTD SVG 1.1//EN\"\r\n",
       "  \"http://www.w3.org/Graphics/SVG/1.1/DTD/svg11.dtd\">\r\n",
       "<!-- Created with matplotlib (https://matplotlib.org/) -->\r\n",
       "<svg height=\"177.48pt\" version=\"1.1\" viewBox=\"0 0 265.5 177.48\" width=\"265.5pt\" xmlns=\"http://www.w3.org/2000/svg\" xmlns:xlink=\"http://www.w3.org/1999/xlink\">\r\n",
       " <defs>\r\n",
       "  <style type=\"text/css\">\r\n",
       "*{stroke-linecap:butt;stroke-linejoin:round;}\r\n",
       "  </style>\r\n",
       " </defs>\r\n",
       " <g id=\"figure_1\">\r\n",
       "  <g id=\"patch_1\">\r\n",
       "   <path d=\"M 0 177.48 \r\n",
       "L 265.5 177.48 \r\n",
       "L 265.5 0 \r\n",
       "L 0 0 \r\n",
       "z\r\n",
       "\" style=\"fill:none;\"/>\r\n",
       "  </g>\r\n",
       "  <g id=\"axes_1\">\r\n",
       "   <g id=\"patch_2\">\r\n",
       "    <path clip-path=\"url(#p1375a7b13c)\" d=\"M 28.989669 156.12843 \r\n",
       "Q 28.989669 126.763214 28.989669 98.516032 \r\n",
       "\" style=\"fill:none;stroke:#000000;stroke-linecap:round;\"/>\r\n",
       "    <path clip-path=\"url(#p1375a7b13c)\" d=\"M 26.989669 102.516032 \r\n",
       "L 28.989669 98.516032 \r\n",
       "L 30.989669 102.516032 \r\n",
       "L 26.989669 102.516032 \r\n",
       "z\r\n",
       "\" style=\"stroke:#000000;stroke-linecap:round;\"/>\r\n",
       "   </g>\r\n",
       "   <g id=\"patch_3\">\r\n",
       "    <path clip-path=\"url(#p1375a7b13c)\" d=\"M 28.989669 88.74 \r\n",
       "Q 28.989669 59.374784 28.989669 31.127603 \r\n",
       "\" style=\"fill:none;stroke:#000000;stroke-linecap:round;\"/>\r\n",
       "    <path clip-path=\"url(#p1375a7b13c)\" d=\"M 26.989669 35.127603 \r\n",
       "L 28.989669 31.127603 \r\n",
       "L 30.989669 35.127603 \r\n",
       "L 26.989669 35.127603 \r\n",
       "z\r\n",
       "\" style=\"stroke:#000000;stroke-linecap:round;\"/>\r\n",
       "   </g>\r\n",
       "   <g id=\"patch_4\">\r\n",
       "    <path clip-path=\"url(#p1375a7b13c)\" d=\"M 28.989669 21.35157 \r\n",
       "Q 76.539627 21.35157 122.97155 21.35157 \r\n",
       "\" style=\"fill:none;stroke:#000000;stroke-linecap:round;\"/>\r\n",
       "    <path clip-path=\"url(#p1375a7b13c)\" d=\"M 118.97155 19.35157 \r\n",
       "L 122.97155 21.35157 \r\n",
       "L 118.97155 23.35157 \r\n",
       "L 118.97155 19.35157 \r\n",
       "z\r\n",
       "\" style=\"stroke:#000000;stroke-linecap:round;\"/>\r\n",
       "   </g>\r\n",
       "   <g id=\"patch_5\">\r\n",
       "    <path clip-path=\"url(#p1375a7b13c)\" d=\"M 132.75 21.35157 \r\n",
       "Q 180.299957 21.35157 226.731881 21.35157 \r\n",
       "\" style=\"fill:none;stroke:#000000;stroke-linecap:round;\"/>\r\n",
       "    <path clip-path=\"url(#p1375a7b13c)\" d=\"M 222.731881 19.35157 \r\n",
       "L 226.731881 21.35157 \r\n",
       "L 222.731881 23.35157 \r\n",
       "L 222.731881 19.35157 \r\n",
       "z\r\n",
       "\" style=\"stroke:#000000;stroke-linecap:round;\"/>\r\n",
       "   </g>\r\n",
       "   <g id=\"PathCollection_1\">\r\n",
       "    <defs>\r\n",
       "     <path d=\"M 0 22.36068 \r\n",
       "C 5.930122 22.36068 11.618159 20.004617 15.811388 15.811388 \r\n",
       "C 20.004617 11.618159 22.36068 5.930122 22.36068 0 \r\n",
       "C 22.36068 -5.930122 20.004617 -11.618159 15.811388 -15.811388 \r\n",
       "C 11.618159 -20.004617 5.930122 -22.36068 0 -22.36068 \r\n",
       "C -5.930122 -22.36068 -11.618159 -20.004617 -15.811388 -15.811388 \r\n",
       "C -20.004617 -11.618159 -22.36068 -5.930122 -22.36068 0 \r\n",
       "C -22.36068 5.930122 -20.004617 11.618159 -15.811388 15.811388 \r\n",
       "C -11.618159 20.004617 -5.930122 22.36068 0 22.36068 \r\n",
       "z\r\n",
       "\" id=\"m042758673f\" style=\"stroke:#1f78b4;\"/>\r\n",
       "    </defs>\r\n",
       "    <g clip-path=\"url(#p1375a7b13c)\">\r\n",
       "     <use style=\"fill:#1f78b4;stroke:#1f78b4;\" x=\"28.989669\" xlink:href=\"#m042758673f\" y=\"156.12843\"/>\r\n",
       "    </g>\r\n",
       "   </g>\r\n",
       "   <g id=\"PathCollection_2\">\r\n",
       "    <defs>\r\n",
       "     <path d=\"M 0 22.36068 \r\n",
       "C 5.930122 22.36068 11.618159 20.004617 15.811388 15.811388 \r\n",
       "C 20.004617 11.618159 22.36068 5.930122 22.36068 0 \r\n",
       "C 22.36068 -5.930122 20.004617 -11.618159 15.811388 -15.811388 \r\n",
       "C 11.618159 -20.004617 5.930122 -22.36068 0 -22.36068 \r\n",
       "C -5.930122 -22.36068 -11.618159 -20.004617 -15.811388 -15.811388 \r\n",
       "C -20.004617 -11.618159 -22.36068 -5.930122 -22.36068 0 \r\n",
       "C -22.36068 5.930122 -20.004617 11.618159 -15.811388 15.811388 \r\n",
       "C -11.618159 20.004617 -5.930122 22.36068 0 22.36068 \r\n",
       "z\r\n",
       "\" id=\"m18f96da587\" style=\"stroke:#ff0000;\"/>\r\n",
       "    </defs>\r\n",
       "    <g clip-path=\"url(#p1375a7b13c)\">\r\n",
       "     <use style=\"fill:#ff0000;stroke:#ff0000;\" x=\"28.989669\" xlink:href=\"#m18f96da587\" y=\"88.74\"/>\r\n",
       "     <use style=\"fill:#ff0000;stroke:#ff0000;\" x=\"28.989669\" xlink:href=\"#m18f96da587\" y=\"21.35157\"/>\r\n",
       "     <use style=\"fill:#ff0000;stroke:#ff0000;\" x=\"132.75\" xlink:href=\"#m18f96da587\" y=\"21.35157\"/>\r\n",
       "     <use style=\"fill:#ff0000;stroke:#ff0000;\" x=\"236.510331\" xlink:href=\"#m18f96da587\" y=\"21.35157\"/>\r\n",
       "    </g>\r\n",
       "   </g>\r\n",
       "   <g id=\"text_1\">\r\n",
       "    <g clip-path=\"url(#p1375a7b13c)\">\r\n",
       "     <!-- (0, 0) -->\r\n",
       "     <defs>\r\n",
       "      <path d=\"M 31 75.875 \r\n",
       "Q 24.46875 64.65625 21.28125 53.65625 \r\n",
       "Q 18.109375 42.671875 18.109375 31.390625 \r\n",
       "Q 18.109375 20.125 21.3125 9.0625 \r\n",
       "Q 24.515625 -2 31 -13.1875 \r\n",
       "L 23.1875 -13.1875 \r\n",
       "Q 15.875 -1.703125 12.234375 9.375 \r\n",
       "Q 8.59375 20.453125 8.59375 31.390625 \r\n",
       "Q 8.59375 42.28125 12.203125 53.3125 \r\n",
       "Q 15.828125 64.359375 23.1875 75.875 \r\n",
       "z\r\n",
       "\" id=\"DejaVuSans-40\"/>\r\n",
       "      <path d=\"M 31.78125 66.40625 \r\n",
       "Q 24.171875 66.40625 20.328125 58.90625 \r\n",
       "Q 16.5 51.421875 16.5 36.375 \r\n",
       "Q 16.5 21.390625 20.328125 13.890625 \r\n",
       "Q 24.171875 6.390625 31.78125 6.390625 \r\n",
       "Q 39.453125 6.390625 43.28125 13.890625 \r\n",
       "Q 47.125 21.390625 47.125 36.375 \r\n",
       "Q 47.125 51.421875 43.28125 58.90625 \r\n",
       "Q 39.453125 66.40625 31.78125 66.40625 \r\n",
       "z\r\n",
       "M 31.78125 74.21875 \r\n",
       "Q 44.046875 74.21875 50.515625 64.515625 \r\n",
       "Q 56.984375 54.828125 56.984375 36.375 \r\n",
       "Q 56.984375 17.96875 50.515625 8.265625 \r\n",
       "Q 44.046875 -1.421875 31.78125 -1.421875 \r\n",
       "Q 19.53125 -1.421875 13.0625 8.265625 \r\n",
       "Q 6.59375 17.96875 6.59375 36.375 \r\n",
       "Q 6.59375 54.828125 13.0625 64.515625 \r\n",
       "Q 19.53125 74.21875 31.78125 74.21875 \r\n",
       "z\r\n",
       "\" id=\"DejaVuSans-48\"/>\r\n",
       "      <path d=\"M 11.71875 12.40625 \r\n",
       "L 22.015625 12.40625 \r\n",
       "L 22.015625 4 \r\n",
       "L 14.015625 -11.625 \r\n",
       "L 7.71875 -11.625 \r\n",
       "L 11.71875 4 \r\n",
       "z\r\n",
       "\" id=\"DejaVuSans-44\"/>\r\n",
       "      <path id=\"DejaVuSans-32\"/>\r\n",
       "      <path d=\"M 8.015625 75.875 \r\n",
       "L 15.828125 75.875 \r\n",
       "Q 23.140625 64.359375 26.78125 53.3125 \r\n",
       "Q 30.421875 42.28125 30.421875 31.390625 \r\n",
       "Q 30.421875 20.453125 26.78125 9.375 \r\n",
       "Q 23.140625 -1.703125 15.828125 -13.1875 \r\n",
       "L 8.015625 -13.1875 \r\n",
       "Q 14.5 -2 17.703125 9.0625 \r\n",
       "Q 20.90625 20.125 20.90625 31.390625 \r\n",
       "Q 20.90625 42.671875 17.703125 53.65625 \r\n",
       "Q 14.5 64.65625 8.015625 75.875 \r\n",
       "z\r\n",
       "\" id=\"DejaVuSans-41\"/>\r\n",
       "     </defs>\r\n",
       "     <g transform=\"translate(12.859044 159.43968)scale(0.12 -0.12)\">\r\n",
       "      <use xlink:href=\"#DejaVuSans-40\"/>\r\n",
       "      <use x=\"39.013672\" xlink:href=\"#DejaVuSans-48\"/>\r\n",
       "      <use x=\"102.636719\" xlink:href=\"#DejaVuSans-44\"/>\r\n",
       "      <use x=\"134.423828\" xlink:href=\"#DejaVuSans-32\"/>\r\n",
       "      <use x=\"166.210938\" xlink:href=\"#DejaVuSans-48\"/>\r\n",
       "      <use x=\"229.833984\" xlink:href=\"#DejaVuSans-41\"/>\r\n",
       "     </g>\r\n",
       "    </g>\r\n",
       "   </g>\r\n",
       "   <g id=\"text_2\">\r\n",
       "    <g clip-path=\"url(#p1375a7b13c)\">\r\n",
       "     <!-- (0, 1) -->\r\n",
       "     <defs>\r\n",
       "      <path d=\"M 12.40625 8.296875 \r\n",
       "L 28.515625 8.296875 \r\n",
       "L 28.515625 63.921875 \r\n",
       "L 10.984375 60.40625 \r\n",
       "L 10.984375 69.390625 \r\n",
       "L 28.421875 72.90625 \r\n",
       "L 38.28125 72.90625 \r\n",
       "L 38.28125 8.296875 \r\n",
       "L 54.390625 8.296875 \r\n",
       "L 54.390625 0 \r\n",
       "L 12.40625 0 \r\n",
       "z\r\n",
       "\" id=\"DejaVuSans-49\"/>\r\n",
       "     </defs>\r\n",
       "     <g transform=\"translate(12.859044 92.05125)scale(0.12 -0.12)\">\r\n",
       "      <use xlink:href=\"#DejaVuSans-40\"/>\r\n",
       "      <use x=\"39.013672\" xlink:href=\"#DejaVuSans-48\"/>\r\n",
       "      <use x=\"102.636719\" xlink:href=\"#DejaVuSans-44\"/>\r\n",
       "      <use x=\"134.423828\" xlink:href=\"#DejaVuSans-32\"/>\r\n",
       "      <use x=\"166.210938\" xlink:href=\"#DejaVuSans-49\"/>\r\n",
       "      <use x=\"229.833984\" xlink:href=\"#DejaVuSans-41\"/>\r\n",
       "     </g>\r\n",
       "    </g>\r\n",
       "   </g>\r\n",
       "   <g id=\"text_3\">\r\n",
       "    <g clip-path=\"url(#p1375a7b13c)\">\r\n",
       "     <!-- (0, 2) -->\r\n",
       "     <defs>\r\n",
       "      <path d=\"M 19.1875 8.296875 \r\n",
       "L 53.609375 8.296875 \r\n",
       "L 53.609375 0 \r\n",
       "L 7.328125 0 \r\n",
       "L 7.328125 8.296875 \r\n",
       "Q 12.9375 14.109375 22.625 23.890625 \r\n",
       "Q 32.328125 33.6875 34.8125 36.53125 \r\n",
       "Q 39.546875 41.84375 41.421875 45.53125 \r\n",
       "Q 43.3125 49.21875 43.3125 52.78125 \r\n",
       "Q 43.3125 58.59375 39.234375 62.25 \r\n",
       "Q 35.15625 65.921875 28.609375 65.921875 \r\n",
       "Q 23.96875 65.921875 18.8125 64.3125 \r\n",
       "Q 13.671875 62.703125 7.8125 59.421875 \r\n",
       "L 7.8125 69.390625 \r\n",
       "Q 13.765625 71.78125 18.9375 73 \r\n",
       "Q 24.125 74.21875 28.421875 74.21875 \r\n",
       "Q 39.75 74.21875 46.484375 68.546875 \r\n",
       "Q 53.21875 62.890625 53.21875 53.421875 \r\n",
       "Q 53.21875 48.921875 51.53125 44.890625 \r\n",
       "Q 49.859375 40.875 45.40625 35.40625 \r\n",
       "Q 44.1875 33.984375 37.640625 27.21875 \r\n",
       "Q 31.109375 20.453125 19.1875 8.296875 \r\n",
       "z\r\n",
       "\" id=\"DejaVuSans-50\"/>\r\n",
       "     </defs>\r\n",
       "     <g transform=\"translate(12.859044 24.66282)scale(0.12 -0.12)\">\r\n",
       "      <use xlink:href=\"#DejaVuSans-40\"/>\r\n",
       "      <use x=\"39.013672\" xlink:href=\"#DejaVuSans-48\"/>\r\n",
       "      <use x=\"102.636719\" xlink:href=\"#DejaVuSans-44\"/>\r\n",
       "      <use x=\"134.423828\" xlink:href=\"#DejaVuSans-32\"/>\r\n",
       "      <use x=\"166.210938\" xlink:href=\"#DejaVuSans-50\"/>\r\n",
       "      <use x=\"229.833984\" xlink:href=\"#DejaVuSans-41\"/>\r\n",
       "     </g>\r\n",
       "    </g>\r\n",
       "   </g>\r\n",
       "   <g id=\"text_4\">\r\n",
       "    <g clip-path=\"url(#p1375a7b13c)\">\r\n",
       "     <!-- (1, 2) -->\r\n",
       "     <g transform=\"translate(116.619375 24.66282)scale(0.12 -0.12)\">\r\n",
       "      <use xlink:href=\"#DejaVuSans-40\"/>\r\n",
       "      <use x=\"39.013672\" xlink:href=\"#DejaVuSans-49\"/>\r\n",
       "      <use x=\"102.636719\" xlink:href=\"#DejaVuSans-44\"/>\r\n",
       "      <use x=\"134.423828\" xlink:href=\"#DejaVuSans-32\"/>\r\n",
       "      <use x=\"166.210938\" xlink:href=\"#DejaVuSans-50\"/>\r\n",
       "      <use x=\"229.833984\" xlink:href=\"#DejaVuSans-41\"/>\r\n",
       "     </g>\r\n",
       "    </g>\r\n",
       "   </g>\r\n",
       "   <g id=\"text_5\">\r\n",
       "    <g clip-path=\"url(#p1375a7b13c)\">\r\n",
       "     <!-- (2, 2) -->\r\n",
       "     <g transform=\"translate(220.379706 24.66282)scale(0.12 -0.12)\">\r\n",
       "      <use xlink:href=\"#DejaVuSans-40\"/>\r\n",
       "      <use x=\"39.013672\" xlink:href=\"#DejaVuSans-50\"/>\r\n",
       "      <use x=\"102.636719\" xlink:href=\"#DejaVuSans-44\"/>\r\n",
       "      <use x=\"134.423828\" xlink:href=\"#DejaVuSans-32\"/>\r\n",
       "      <use x=\"166.210938\" xlink:href=\"#DejaVuSans-50\"/>\r\n",
       "      <use x=\"229.833984\" xlink:href=\"#DejaVuSans-41\"/>\r\n",
       "     </g>\r\n",
       "    </g>\r\n",
       "   </g>\r\n",
       "  </g>\r\n",
       " </g>\r\n",
       " <defs>\r\n",
       "  <clipPath id=\"p1375a7b13c\">\r\n",
       "   <rect height=\"163.08\" width=\"251.1\" x=\"7.2\" y=\"7.2\"/>\r\n",
       "  </clipPath>\r\n",
       " </defs>\r\n",
       "</svg>\r\n"
      ],
      "text/plain": [
       "<Figure size 324x216 with 1 Axes>"
      ]
     },
     "metadata": {},
     "output_type": "display_data"
    }
   ],
   "source": [
    "abg.markov.visualise_ambulance_markov_chain(num_of_servers, threshold, system_capacity, buffer_capacity)"
   ]
  },
  {
   "cell_type": "code",
   "execution_count": 27,
   "metadata": {},
   "outputs": [],
   "source": [
    "sym_pi = get_symbolic_pi(num_of_servers=num_of_servers, threshold=threshold, system_capacity=system_capacity, buffer_capacity=buffer_capacity)"
   ]
  },
  {
   "cell_type": "code",
   "execution_count": 28,
   "metadata": {},
   "outputs": [
    {
     "data": {
      "text/latex": [
       "$\\displaystyle \\left[ \\left( 0, \\  0\\right), \\  \\left( 0, \\  1\\right), \\  \\left( 0, \\  2\\right), \\  \\left( 1, \\  2\\right), \\  \\left( 2, \\  2\\right)\\right]$"
      ],
      "text/plain": [
       "[(0, 0), (0, 1), (0, 2), (1, 2), (2, 2)]"
      ]
     },
     "execution_count": 28,
     "metadata": {},
     "output_type": "execute_result"
    }
   ],
   "source": [
    "abg.markov.build_states(threshold=threshold, system_capacity=system_capacity, buffer_capacity=buffer_capacity)"
   ]
  },
  {
   "cell_type": "code",
   "execution_count": 45,
   "metadata": {},
   "outputs": [],
   "source": [
    "sym_Lambda = sym.symbols(\"Lambda\")\n",
    "sym_lambda_1 = sym.symbols(\"lambda_1\")\n",
    "sym_lambda_2 = sym.symbols(\"lambda_2\")\n",
    "sym_mu = sym.symbols(\"mu\")"
   ]
  },
  {
   "cell_type": "code",
   "execution_count": 46,
   "metadata": {},
   "outputs": [
    {
     "data": {
      "text/latex": [
       "$\\displaystyle \\frac{\\mu^{4}}{\\Lambda^{2} \\left(\\lambda^{A}\\right)^{2} + \\Lambda^{2} \\lambda^{A} \\mu + \\Lambda^{2} \\mu^{2} + \\Lambda \\mu^{3} + \\mu^{4}}$"
      ],
      "text/plain": [
       "                    4                   \n",
       "                   μ                    \n",
       "────────────────────────────────────────\n",
       " 2     2    2           2  2      3    4\n",
       "Λ ⋅λ__A  + Λ ⋅λ__A⋅μ + Λ ⋅μ  + Λ⋅μ  + μ "
      ]
     },
     "execution_count": 46,
     "metadata": {},
     "output_type": "execute_result"
    }
   ],
   "source": [
    "# (0,0)\n",
    "(sym.simplify(sym_pi[e]) * sym_mu ** 4) / (sym_lambda_2 ** 2 * sym_Lambda ** 2)\n",
    "\n"
   ]
  },
  {
   "cell_type": "code",
   "execution_count": 47,
   "metadata": {
    "tags": []
   },
   "outputs": [
    {
     "data": {
      "text/latex": [
       "$\\displaystyle \\frac{\\Lambda \\mu^{3}}{\\Lambda^{2} \\left(\\lambda^{A}\\right)^{2} + \\Lambda^{2} \\lambda^{A} \\mu + \\Lambda^{2} \\mu^{2} + \\Lambda \\mu^{3} + \\mu^{4}}$"
      ],
      "text/plain": [
       "                     3                  \n",
       "                  Λ⋅μ                   \n",
       "────────────────────────────────────────\n",
       " 2     2    2           2  2      3    4\n",
       "Λ ⋅λ__A  + Λ ⋅λ__A⋅μ + Λ ⋅μ  + Λ⋅μ  + μ "
      ]
     },
     "execution_count": 47,
     "metadata": {},
     "output_type": "execute_result"
    }
   ],
   "source": [
    "# (0,1)\n",
    "(sym.simplify(sym_pi[e]) * sym_mu ** 3) / (sym_lambda_2 ** 2 * sym_Lambda)"
   ]
  },
  {
   "cell_type": "code",
   "execution_count": 69,
   "metadata": {},
   "outputs": [
    {
     "data": {
      "text/latex": [
       "$\\displaystyle \\frac{\\Lambda^{2} \\mu^{2}}{\\Lambda^{2} \\left(\\lambda^{A}\\right)^{2} + \\Lambda^{2} \\lambda^{A} \\mu + \\Lambda^{2} \\mu^{2} + \\Lambda \\mu^{3} + \\mu^{4}}$"
      ],
      "text/plain": [
       "                  2  2                  \n",
       "                 Λ ⋅μ                   \n",
       "────────────────────────────────────────\n",
       " 2     2    2           2  2      3    4\n",
       "Λ ⋅λ__A  + Λ ⋅λ__A⋅μ + Λ ⋅μ  + Λ⋅μ  + μ "
      ]
     },
     "execution_count": 69,
     "metadata": {},
     "output_type": "execute_result"
    }
   ],
   "source": [
    "# (0,2)\n",
    "sym.simplify(sym_pi[c])"
   ]
  },
  {
   "cell_type": "code",
   "execution_count": 67,
   "metadata": {},
   "outputs": [
    {
     "data": {
      "text/latex": [
       "$\\displaystyle \\frac{\\Lambda^{2} \\lambda^{A} \\mu}{\\Lambda^{2} \\left(\\lambda^{A}\\right)^{2} + \\Lambda^{2} \\lambda^{A} \\mu + \\Lambda^{2} \\mu^{2} + \\Lambda \\mu^{3} + \\mu^{4}}$"
      ],
      "text/plain": [
       "                2                       \n",
       "               Λ ⋅λ__A⋅μ                \n",
       "────────────────────────────────────────\n",
       " 2     2    2           2  2      3    4\n",
       "Λ ⋅λ__A  + Λ ⋅λ__A⋅μ + Λ ⋅μ  + Λ⋅μ  + μ "
      ]
     },
     "execution_count": 67,
     "metadata": {},
     "output_type": "execute_result"
    }
   ],
   "source": [
    "# (1,2)\n",
    "sym.simplify(sym_pi[d])"
   ]
  },
  {
   "cell_type": "code",
   "execution_count": 65,
   "metadata": {},
   "outputs": [
    {
     "data": {
      "text/latex": [
       "$\\displaystyle \\frac{\\Lambda^{2} \\left(\\lambda^{A}\\right)^{2}}{\\Lambda^{2} \\left(\\lambda^{A}\\right)^{2} + \\Lambda^{2} \\lambda^{A} \\mu + \\Lambda^{2} \\mu^{2} + \\Lambda \\mu^{3} + \\mu^{4}}$"
      ],
      "text/plain": [
       "                 2     2                \n",
       "                Λ ⋅λ__A                 \n",
       "────────────────────────────────────────\n",
       " 2     2    2           2  2      3    4\n",
       "Λ ⋅λ__A  + Λ ⋅λ__A⋅μ + Λ ⋅μ  + Λ⋅μ  + μ "
      ]
     },
     "execution_count": 65,
     "metadata": {},
     "output_type": "execute_result"
    }
   ],
   "source": [
    "# (2,2)\n",
    "sym.simplify(sym_pi[e])"
   ]
  },
  {
   "cell_type": "code",
   "execution_count": null,
   "metadata": {},
   "outputs": [],
   "source": []
  },
  {
   "cell_type": "markdown",
   "metadata": {},
   "source": [
    "# Verify results"
   ]
  },
  {
   "cell_type": "code",
   "execution_count": 10,
   "metadata": {},
   "outputs": [],
   "source": [
    "num_of_servers = 1\n",
    "threshold = 1\n",
    "system_capacity = 2\n",
    "buffer_capacity = 1"
   ]
  },
  {
   "cell_type": "code",
   "execution_count": 11,
   "metadata": {},
   "outputs": [],
   "source": [
    "abg.markov.build_states(threshold=threshold, system_capacity=system_capacity, buffer_capacity=buffer_capacity)\n",
    "sym_pi = get_symbolic_pi(num_of_servers=num_of_servers, threshold=threshold, system_capacity=system_capacity, buffer_capacity=buffer_capacity)"
   ]
  },
  {
   "cell_type": "code",
   "execution_count": 12,
   "metadata": {},
   "outputs": [],
   "source": [
    "lambda_2 = 0.2\n",
    "lambda_1 = 0.1\n",
    "mu = 0.4"
   ]
  },
  {
   "cell_type": "code",
   "execution_count": 23,
   "metadata": {},
   "outputs": [
    {
     "data": {
      "text/plain": [
       "[0.402515723270440,\n",
       " 0.301886792452830,\n",
       " 0.176100628930818,\n",
       " 0.0503144654088050,\n",
       " 0.0691823899371068]"
      ]
     },
     "execution_count": 23,
     "metadata": {},
     "output_type": "execute_result"
    }
   ],
   "source": [
    "`\n",
    "[sym_pi[key].subs({sym_Lambda: lambda_2 + lambda_1, sym_lambda_1: lambda_1, sym_lambda_2: lambda_2, sym_mu: mu}) for key in sym_pi.keys()]"
   ]
  },
  {
   "cell_type": "code",
   "execution_count": 22,
   "metadata": {},
   "outputs": [
    {
     "data": {
      "text/plain": [
       "[0.4025157232704404,\n",
       " 0.30188679245283023,\n",
       " 0.17610062893081757,\n",
       " 0.050314465408805034,\n",
       " 0.06918238993710682]"
      ]
     },
     "execution_count": 22,
     "metadata": {},
     "output_type": "execute_result"
    }
   ],
   "source": [
    "all_states = abg.markov.build_states(threshold, system_capacity, buffer_capacity)\n",
    "Q = abg.markov.get_transition_matrix(\n",
    "    lambda_2, lambda_1, mu, num_of_servers, threshold, system_capacity, buffer_capacity\n",
    ")\n",
    "sol3 = abg.markov.get_steady_state_algebraically(Q, algebraic_function=np.linalg.solve)\n",
    "list(sol3)"
   ]
  },
  {
   "cell_type": "code",
   "execution_count": null,
   "metadata": {},
   "outputs": [],
   "source": []
  },
  {
   "cell_type": "markdown",
   "metadata": {},
   "source": [
    "# $\\pi$ for larger models"
   ]
  },
  {
   "cell_type": "markdown",
   "metadata": {},
   "source": [
    "# $C=1, T=3, N=4, M=1$"
   ]
  },
  {
   "cell_type": "code",
   "execution_count": 69,
   "metadata": {},
   "outputs": [],
   "source": [
    "lambda_2 = 0.2\n",
    "lambda_1 = 0.1\n",
    "mu = 0.4\n",
    "\n",
    "num_of_servers = 1\n",
    "threshold = 3\n",
    "system_capacity = 4\n",
    "buffer_capacity = 1"
   ]
  },
  {
   "cell_type": "code",
   "execution_count": 70,
   "metadata": {},
   "outputs": [
    {
     "data": {
      "text/plain": [
       "<networkx.classes.multidigraph.MultiDiGraph at 0x1fc3309da90>"
      ]
     },
     "execution_count": 70,
     "metadata": {},
     "output_type": "execute_result"
    },
    {
     "data": {
      "image/png": "[encoded data removed]",
      "image/svg+xml": [
       "<?xml version=\"1.0\" encoding=\"utf-8\" standalone=\"no\"?>\r\n",
       "<!DOCTYPE svg PUBLIC \"-//W3C//DTD SVG 1.1//EN\"\r\n",
       "  \"http://www.w3.org/Graphics/SVG/1.1/DTD/svg11.dtd\">\r\n",
       "<!-- Created with matplotlib (https://matplotlib.org/) -->\r\n",
       "<svg height=\"340.56pt\" version=\"1.1\" viewBox=\"0 0 181.8 340.56\" width=\"181.8pt\" xmlns=\"http://www.w3.org/2000/svg\" xmlns:xlink=\"http://www.w3.org/1999/xlink\">\r\n",
       " <defs>\r\n",
       "  <style type=\"text/css\">\r\n",
       "*{stroke-linecap:butt;stroke-linejoin:round;}\r\n",
       "  </style>\r\n",
       " </defs>\r\n",
       " <g id=\"figure_1\">\r\n",
       "  <g id=\"patch_1\">\r\n",
       "   <path d=\"M 0 340.56 \r\n",
       "L 181.8 340.56 \r\n",
       "L 181.8 0 \r\n",
       "L 0 0 \r\n",
       "z\r\n",
       "\" style=\"fill:none;\"/>\r\n",
       "  </g>\r\n",
       "  <g id=\"axes_1\">\r\n",
       "   <g id=\"patch_2\">\r\n",
       "    <path clip-path=\"url(#pc4a4b9e5eb)\" d=\"M 21.726446 305.05686 \r\n",
       "Q 21.726446 275.691644 21.726446 247.444462 \r\n",
       "\" style=\"fill:none;stroke:#000000;stroke-linecap:round;\"/>\r\n",
       "    <path clip-path=\"url(#pc4a4b9e5eb)\" d=\"M 19.726446 251.444462 \r\n",
       "L 21.726446 247.444462 \r\n",
       "L 23.726446 251.444462 \r\n",
       "L 19.726446 251.444462 \r\n",
       "z\r\n",
       "\" style=\"stroke:#000000;stroke-linecap:round;\"/>\r\n",
       "   </g>\r\n",
       "   <g id=\"patch_3\">\r\n",
       "    <path clip-path=\"url(#pc4a4b9e5eb)\" d=\"M 21.726446 237.66843 \r\n",
       "Q 21.726446 208.303214 21.726446 180.056032 \r\n",
       "\" style=\"fill:none;stroke:#000000;stroke-linecap:round;\"/>\r\n",
       "    <path clip-path=\"url(#pc4a4b9e5eb)\" d=\"M 19.726446 184.056032 \r\n",
       "L 21.726446 180.056032 \r\n",
       "L 23.726446 184.056032 \r\n",
       "L 19.726446 184.056032 \r\n",
       "z\r\n",
       "\" style=\"stroke:#000000;stroke-linecap:round;\"/>\r\n",
       "   </g>\r\n",
       "   <g id=\"patch_4\">\r\n",
       "    <path clip-path=\"url(#pc4a4b9e5eb)\" d=\"M 21.726446 170.28 \r\n",
       "Q 21.726446 140.914784 21.726446 112.667603 \r\n",
       "\" style=\"fill:none;stroke:#000000;stroke-linecap:round;\"/>\r\n",
       "    <path clip-path=\"url(#pc4a4b9e5eb)\" d=\"M 19.726446 116.667603 \r\n",
       "L 21.726446 112.667603 \r\n",
       "L 23.726446 116.667603 \r\n",
       "L 19.726446 116.667603 \r\n",
       "z\r\n",
       "\" style=\"stroke:#000000;stroke-linecap:round;\"/>\r\n",
       "   </g>\r\n",
       "   <g id=\"patch_5\">\r\n",
       "    <path clip-path=\"url(#pc4a4b9e5eb)\" d=\"M 21.726446 102.89157 \r\n",
       "Q 86.57032 102.89157 150.296159 102.89157 \r\n",
       "\" style=\"fill:none;stroke:#000000;stroke-linecap:round;\"/>\r\n",
       "    <path clip-path=\"url(#pc4a4b9e5eb)\" d=\"M 146.296159 100.89157 \r\n",
       "L 150.296159 102.89157 \r\n",
       "L 146.296159 104.89157 \r\n",
       "L 146.296159 100.89157 \r\n",
       "z\r\n",
       "\" style=\"stroke:#000000;stroke-linecap:round;\"/>\r\n",
       "   </g>\r\n",
       "   <g id=\"patch_6\">\r\n",
       "    <path clip-path=\"url(#pc4a4b9e5eb)\" d=\"M 21.726446 102.89157 \r\n",
       "Q 21.726446 73.526355 21.726446 45.279173 \r\n",
       "\" style=\"fill:none;stroke:#000000;stroke-linecap:round;\"/>\r\n",
       "    <path clip-path=\"url(#pc4a4b9e5eb)\" d=\"M 19.726446 49.279173 \r\n",
       "L 21.726446 45.279173 \r\n",
       "L 23.726446 49.279173 \r\n",
       "L 19.726446 49.279173 \r\n",
       "z\r\n",
       "\" style=\"stroke:#000000;stroke-linecap:round;\"/>\r\n",
       "   </g>\r\n",
       "   <g id=\"patch_7\">\r\n",
       "    <path clip-path=\"url(#pc4a4b9e5eb)\" d=\"M 160.073554 102.89157 \r\n",
       "Q 160.073554 73.526355 160.073554 45.279173 \r\n",
       "\" style=\"fill:none;stroke:#000000;stroke-linecap:round;\"/>\r\n",
       "    <path clip-path=\"url(#pc4a4b9e5eb)\" d=\"M 158.073554 49.279173 \r\n",
       "L 160.073554 45.279173 \r\n",
       "L 162.073554 49.279173 \r\n",
       "L 158.073554 49.279173 \r\n",
       "z\r\n",
       "\" style=\"stroke:#000000;stroke-linecap:round;\"/>\r\n",
       "   </g>\r\n",
       "   <g id=\"patch_8\">\r\n",
       "    <path clip-path=\"url(#pc4a4b9e5eb)\" d=\"M 21.726446 35.50314 \r\n",
       "Q 86.57032 35.50314 150.296159 35.50314 \r\n",
       "\" style=\"fill:none;stroke:#000000;stroke-linecap:round;\"/>\r\n",
       "    <path clip-path=\"url(#pc4a4b9e5eb)\" d=\"M 146.296159 33.50314 \r\n",
       "L 150.296159 35.50314 \r\n",
       "L 146.296159 37.50314 \r\n",
       "L 146.296159 33.50314 \r\n",
       "z\r\n",
       "\" style=\"stroke:#000000;stroke-linecap:round;\"/>\r\n",
       "   </g>\r\n",
       "   <g id=\"PathCollection_1\">\r\n",
       "    <defs>\r\n",
       "     <path d=\"M 0 22.36068 \r\n",
       "C 5.930122 22.36068 11.618159 20.004617 15.811388 15.811388 \r\n",
       "C 20.004617 11.618159 22.36068 5.930122 22.36068 0 \r\n",
       "C 22.36068 -5.930122 20.004617 -11.618159 15.811388 -15.811388 \r\n",
       "C 11.618159 -20.004617 5.930122 -22.36068 0 -22.36068 \r\n",
       "C -5.930122 -22.36068 -11.618159 -20.004617 -15.811388 -15.811388 \r\n",
       "C -20.004617 -11.618159 -22.36068 -5.930122 -22.36068 0 \r\n",
       "C -22.36068 5.930122 -20.004617 11.618159 -15.811388 15.811388 \r\n",
       "C -11.618159 20.004617 -5.930122 22.36068 0 22.36068 \r\n",
       "z\r\n",
       "\" id=\"mdb0c9fa45a\" style=\"stroke:#1f78b4;\"/>\r\n",
       "    </defs>\r\n",
       "    <g clip-path=\"url(#pc4a4b9e5eb)\">\r\n",
       "     <use style=\"fill:#1f78b4;stroke:#1f78b4;\" x=\"21.726446\" xlink:href=\"#mdb0c9fa45a\" y=\"305.05686\"/>\r\n",
       "    </g>\r\n",
       "   </g>\r\n",
       "   <g id=\"PathCollection_2\">\r\n",
       "    <defs>\r\n",
       "     <path d=\"M 0 22.36068 \r\n",
       "C 5.930122 22.36068 11.618159 20.004617 15.811388 15.811388 \r\n",
       "C 20.004617 11.618159 22.36068 5.930122 22.36068 0 \r\n",
       "C 22.36068 -5.930122 20.004617 -11.618159 15.811388 -15.811388 \r\n",
       "C 11.618159 -20.004617 5.930122 -22.36068 0 -22.36068 \r\n",
       "C -5.930122 -22.36068 -11.618159 -20.004617 -15.811388 -15.811388 \r\n",
       "C -20.004617 -11.618159 -22.36068 -5.930122 -22.36068 0 \r\n",
       "C -22.36068 5.930122 -20.004617 11.618159 -15.811388 15.811388 \r\n",
       "C -11.618159 20.004617 -5.930122 22.36068 0 22.36068 \r\n",
       "z\r\n",
       "\" id=\"md7058cecf0\" style=\"stroke:#ff0000;\"/>\r\n",
       "    </defs>\r\n",
       "    <g clip-path=\"url(#pc4a4b9e5eb)\">\r\n",
       "     <use style=\"fill:#ff0000;stroke:#ff0000;\" x=\"21.726446\" xlink:href=\"#md7058cecf0\" y=\"237.66843\"/>\r\n",
       "     <use style=\"fill:#ff0000;stroke:#ff0000;\" x=\"21.726446\" xlink:href=\"#md7058cecf0\" y=\"170.28\"/>\r\n",
       "     <use style=\"fill:#ff0000;stroke:#ff0000;\" x=\"21.726446\" xlink:href=\"#md7058cecf0\" y=\"102.89157\"/>\r\n",
       "     <use style=\"fill:#ff0000;stroke:#ff0000;\" x=\"160.073554\" xlink:href=\"#md7058cecf0\" y=\"102.89157\"/>\r\n",
       "     <use style=\"fill:#ff0000;stroke:#ff0000;\" x=\"21.726446\" xlink:href=\"#md7058cecf0\" y=\"35.50314\"/>\r\n",
       "     <use style=\"fill:#ff0000;stroke:#ff0000;\" x=\"160.073554\" xlink:href=\"#md7058cecf0\" y=\"35.50314\"/>\r\n",
       "    </g>\r\n",
       "   </g>\r\n",
       "   <g id=\"text_1\">\r\n",
       "    <g clip-path=\"url(#pc4a4b9e5eb)\">\r\n",
       "     <!-- (0, 0) -->\r\n",
       "     <defs>\r\n",
       "      <path d=\"M 31 75.875 \r\n",
       "Q 24.46875 64.65625 21.28125 53.65625 \r\n",
       "Q 18.109375 42.671875 18.109375 31.390625 \r\n",
       "Q 18.109375 20.125 21.3125 9.0625 \r\n",
       "Q 24.515625 -2 31 -13.1875 \r\n",
       "L 23.1875 -13.1875 \r\n",
       "Q 15.875 -1.703125 12.234375 9.375 \r\n",
       "Q 8.59375 20.453125 8.59375 31.390625 \r\n",
       "Q 8.59375 42.28125 12.203125 53.3125 \r\n",
       "Q 15.828125 64.359375 23.1875 75.875 \r\n",
       "z\r\n",
       "\" id=\"DejaVuSans-40\"/>\r\n",
       "      <path d=\"M 31.78125 66.40625 \r\n",
       "Q 24.171875 66.40625 20.328125 58.90625 \r\n",
       "Q 16.5 51.421875 16.5 36.375 \r\n",
       "Q 16.5 21.390625 20.328125 13.890625 \r\n",
       "Q 24.171875 6.390625 31.78125 6.390625 \r\n",
       "Q 39.453125 6.390625 43.28125 13.890625 \r\n",
       "Q 47.125 21.390625 47.125 36.375 \r\n",
       "Q 47.125 51.421875 43.28125 58.90625 \r\n",
       "Q 39.453125 66.40625 31.78125 66.40625 \r\n",
       "z\r\n",
       "M 31.78125 74.21875 \r\n",
       "Q 44.046875 74.21875 50.515625 64.515625 \r\n",
       "Q 56.984375 54.828125 56.984375 36.375 \r\n",
       "Q 56.984375 17.96875 50.515625 8.265625 \r\n",
       "Q 44.046875 -1.421875 31.78125 -1.421875 \r\n",
       "Q 19.53125 -1.421875 13.0625 8.265625 \r\n",
       "Q 6.59375 17.96875 6.59375 36.375 \r\n",
       "Q 6.59375 54.828125 13.0625 64.515625 \r\n",
       "Q 19.53125 74.21875 31.78125 74.21875 \r\n",
       "z\r\n",
       "\" id=\"DejaVuSans-48\"/>\r\n",
       "      <path d=\"M 11.71875 12.40625 \r\n",
       "L 22.015625 12.40625 \r\n",
       "L 22.015625 4 \r\n",
       "L 14.015625 -11.625 \r\n",
       "L 7.71875 -11.625 \r\n",
       "L 11.71875 4 \r\n",
       "z\r\n",
       "\" id=\"DejaVuSans-44\"/>\r\n",
       "      <path id=\"DejaVuSans-32\"/>\r\n",
       "      <path d=\"M 8.015625 75.875 \r\n",
       "L 15.828125 75.875 \r\n",
       "Q 23.140625 64.359375 26.78125 53.3125 \r\n",
       "Q 30.421875 42.28125 30.421875 31.390625 \r\n",
       "Q 30.421875 20.453125 26.78125 9.375 \r\n",
       "Q 23.140625 -1.703125 15.828125 -13.1875 \r\n",
       "L 8.015625 -13.1875 \r\n",
       "Q 14.5 -2 17.703125 9.0625 \r\n",
       "Q 20.90625 20.125 20.90625 31.390625 \r\n",
       "Q 20.90625 42.671875 17.703125 53.65625 \r\n",
       "Q 14.5 64.65625 8.015625 75.875 \r\n",
       "z\r\n",
       "\" id=\"DejaVuSans-41\"/>\r\n",
       "     </defs>\r\n",
       "     <g transform=\"translate(5.595821 308.36811)scale(0.12 -0.12)\">\r\n",
       "      <use xlink:href=\"#DejaVuSans-40\"/>\r\n",
       "      <use x=\"39.013672\" xlink:href=\"#DejaVuSans-48\"/>\r\n",
       "      <use x=\"102.636719\" xlink:href=\"#DejaVuSans-44\"/>\r\n",
       "      <use x=\"134.423828\" xlink:href=\"#DejaVuSans-32\"/>\r\n",
       "      <use x=\"166.210938\" xlink:href=\"#DejaVuSans-48\"/>\r\n",
       "      <use x=\"229.833984\" xlink:href=\"#DejaVuSans-41\"/>\r\n",
       "     </g>\r\n",
       "    </g>\r\n",
       "   </g>\r\n",
       "   <g id=\"text_2\">\r\n",
       "    <g clip-path=\"url(#pc4a4b9e5eb)\">\r\n",
       "     <!-- (0, 1) -->\r\n",
       "     <defs>\r\n",
       "      <path d=\"M 12.40625 8.296875 \r\n",
       "L 28.515625 8.296875 \r\n",
       "L 28.515625 63.921875 \r\n",
       "L 10.984375 60.40625 \r\n",
       "L 10.984375 69.390625 \r\n",
       "L 28.421875 72.90625 \r\n",
       "L 38.28125 72.90625 \r\n",
       "L 38.28125 8.296875 \r\n",
       "L 54.390625 8.296875 \r\n",
       "L 54.390625 0 \r\n",
       "L 12.40625 0 \r\n",
       "z\r\n",
       "\" id=\"DejaVuSans-49\"/>\r\n",
       "     </defs>\r\n",
       "     <g transform=\"translate(5.595821 240.97968)scale(0.12 -0.12)\">\r\n",
       "      <use xlink:href=\"#DejaVuSans-40\"/>\r\n",
       "      <use x=\"39.013672\" xlink:href=\"#DejaVuSans-48\"/>\r\n",
       "      <use x=\"102.636719\" xlink:href=\"#DejaVuSans-44\"/>\r\n",
       "      <use x=\"134.423828\" xlink:href=\"#DejaVuSans-32\"/>\r\n",
       "      <use x=\"166.210938\" xlink:href=\"#DejaVuSans-49\"/>\r\n",
       "      <use x=\"229.833984\" xlink:href=\"#DejaVuSans-41\"/>\r\n",
       "     </g>\r\n",
       "    </g>\r\n",
       "   </g>\r\n",
       "   <g id=\"text_3\">\r\n",
       "    <g clip-path=\"url(#pc4a4b9e5eb)\">\r\n",
       "     <!-- (0, 2) -->\r\n",
       "     <defs>\r\n",
       "      <path d=\"M 19.1875 8.296875 \r\n",
       "L 53.609375 8.296875 \r\n",
       "L 53.609375 0 \r\n",
       "L 7.328125 0 \r\n",
       "L 7.328125 8.296875 \r\n",
       "Q 12.9375 14.109375 22.625 23.890625 \r\n",
       "Q 32.328125 33.6875 34.8125 36.53125 \r\n",
       "Q 39.546875 41.84375 41.421875 45.53125 \r\n",
       "Q 43.3125 49.21875 43.3125 52.78125 \r\n",
       "Q 43.3125 58.59375 39.234375 62.25 \r\n",
       "Q 35.15625 65.921875 28.609375 65.921875 \r\n",
       "Q 23.96875 65.921875 18.8125 64.3125 \r\n",
       "Q 13.671875 62.703125 7.8125 59.421875 \r\n",
       "L 7.8125 69.390625 \r\n",
       "Q 13.765625 71.78125 18.9375 73 \r\n",
       "Q 24.125 74.21875 28.421875 74.21875 \r\n",
       "Q 39.75 74.21875 46.484375 68.546875 \r\n",
       "Q 53.21875 62.890625 53.21875 53.421875 \r\n",
       "Q 53.21875 48.921875 51.53125 44.890625 \r\n",
       "Q 49.859375 40.875 45.40625 35.40625 \r\n",
       "Q 44.1875 33.984375 37.640625 27.21875 \r\n",
       "Q 31.109375 20.453125 19.1875 8.296875 \r\n",
       "z\r\n",
       "\" id=\"DejaVuSans-50\"/>\r\n",
       "     </defs>\r\n",
       "     <g transform=\"translate(5.595821 173.59125)scale(0.12 -0.12)\">\r\n",
       "      <use xlink:href=\"#DejaVuSans-40\"/>\r\n",
       "      <use x=\"39.013672\" xlink:href=\"#DejaVuSans-48\"/>\r\n",
       "      <use x=\"102.636719\" xlink:href=\"#DejaVuSans-44\"/>\r\n",
       "      <use x=\"134.423828\" xlink:href=\"#DejaVuSans-32\"/>\r\n",
       "      <use x=\"166.210938\" xlink:href=\"#DejaVuSans-50\"/>\r\n",
       "      <use x=\"229.833984\" xlink:href=\"#DejaVuSans-41\"/>\r\n",
       "     </g>\r\n",
       "    </g>\r\n",
       "   </g>\r\n",
       "   <g id=\"text_4\">\r\n",
       "    <g clip-path=\"url(#pc4a4b9e5eb)\">\r\n",
       "     <!-- (0, 3) -->\r\n",
       "     <defs>\r\n",
       "      <path d=\"M 40.578125 39.3125 \r\n",
       "Q 47.65625 37.796875 51.625 33 \r\n",
       "Q 55.609375 28.21875 55.609375 21.1875 \r\n",
       "Q 55.609375 10.40625 48.1875 4.484375 \r\n",
       "Q 40.765625 -1.421875 27.09375 -1.421875 \r\n",
       "Q 22.515625 -1.421875 17.65625 -0.515625 \r\n",
       "Q 12.796875 0.390625 7.625 2.203125 \r\n",
       "L 7.625 11.71875 \r\n",
       "Q 11.71875 9.328125 16.59375 8.109375 \r\n",
       "Q 21.484375 6.890625 26.8125 6.890625 \r\n",
       "Q 36.078125 6.890625 40.9375 10.546875 \r\n",
       "Q 45.796875 14.203125 45.796875 21.1875 \r\n",
       "Q 45.796875 27.640625 41.28125 31.265625 \r\n",
       "Q 36.765625 34.90625 28.71875 34.90625 \r\n",
       "L 20.21875 34.90625 \r\n",
       "L 20.21875 43.015625 \r\n",
       "L 29.109375 43.015625 \r\n",
       "Q 36.375 43.015625 40.234375 45.921875 \r\n",
       "Q 44.09375 48.828125 44.09375 54.296875 \r\n",
       "Q 44.09375 59.90625 40.109375 62.90625 \r\n",
       "Q 36.140625 65.921875 28.71875 65.921875 \r\n",
       "Q 24.65625 65.921875 20.015625 65.03125 \r\n",
       "Q 15.375 64.15625 9.8125 62.3125 \r\n",
       "L 9.8125 71.09375 \r\n",
       "Q 15.4375 72.65625 20.34375 73.4375 \r\n",
       "Q 25.25 74.21875 29.59375 74.21875 \r\n",
       "Q 40.828125 74.21875 47.359375 69.109375 \r\n",
       "Q 53.90625 64.015625 53.90625 55.328125 \r\n",
       "Q 53.90625 49.265625 50.4375 45.09375 \r\n",
       "Q 46.96875 40.921875 40.578125 39.3125 \r\n",
       "z\r\n",
       "\" id=\"DejaVuSans-51\"/>\r\n",
       "     </defs>\r\n",
       "     <g transform=\"translate(5.595821 106.20282)scale(0.12 -0.12)\">\r\n",
       "      <use xlink:href=\"#DejaVuSans-40\"/>\r\n",
       "      <use x=\"39.013672\" xlink:href=\"#DejaVuSans-48\"/>\r\n",
       "      <use x=\"102.636719\" xlink:href=\"#DejaVuSans-44\"/>\r\n",
       "      <use x=\"134.423828\" xlink:href=\"#DejaVuSans-32\"/>\r\n",
       "      <use x=\"166.210938\" xlink:href=\"#DejaVuSans-51\"/>\r\n",
       "      <use x=\"229.833984\" xlink:href=\"#DejaVuSans-41\"/>\r\n",
       "     </g>\r\n",
       "    </g>\r\n",
       "   </g>\r\n",
       "   <g id=\"text_5\">\r\n",
       "    <g clip-path=\"url(#pc4a4b9e5eb)\">\r\n",
       "     <!-- (1, 3) -->\r\n",
       "     <g transform=\"translate(143.942929 106.20282)scale(0.12 -0.12)\">\r\n",
       "      <use xlink:href=\"#DejaVuSans-40\"/>\r\n",
       "      <use x=\"39.013672\" xlink:href=\"#DejaVuSans-49\"/>\r\n",
       "      <use x=\"102.636719\" xlink:href=\"#DejaVuSans-44\"/>\r\n",
       "      <use x=\"134.423828\" xlink:href=\"#DejaVuSans-32\"/>\r\n",
       "      <use x=\"166.210938\" xlink:href=\"#DejaVuSans-51\"/>\r\n",
       "      <use x=\"229.833984\" xlink:href=\"#DejaVuSans-41\"/>\r\n",
       "     </g>\r\n",
       "    </g>\r\n",
       "   </g>\r\n",
       "   <g id=\"text_6\">\r\n",
       "    <g clip-path=\"url(#pc4a4b9e5eb)\">\r\n",
       "     <!-- (0, 4) -->\r\n",
       "     <defs>\r\n",
       "      <path d=\"M 37.796875 64.3125 \r\n",
       "L 12.890625 25.390625 \r\n",
       "L 37.796875 25.390625 \r\n",
       "z\r\n",
       "M 35.203125 72.90625 \r\n",
       "L 47.609375 72.90625 \r\n",
       "L 47.609375 25.390625 \r\n",
       "L 58.015625 25.390625 \r\n",
       "L 58.015625 17.1875 \r\n",
       "L 47.609375 17.1875 \r\n",
       "L 47.609375 0 \r\n",
       "L 37.796875 0 \r\n",
       "L 37.796875 17.1875 \r\n",
       "L 4.890625 17.1875 \r\n",
       "L 4.890625 26.703125 \r\n",
       "z\r\n",
       "\" id=\"DejaVuSans-52\"/>\r\n",
       "     </defs>\r\n",
       "     <g transform=\"translate(5.595821 38.81439)scale(0.12 -0.12)\">\r\n",
       "      <use xlink:href=\"#DejaVuSans-40\"/>\r\n",
       "      <use x=\"39.013672\" xlink:href=\"#DejaVuSans-48\"/>\r\n",
       "      <use x=\"102.636719\" xlink:href=\"#DejaVuSans-44\"/>\r\n",
       "      <use x=\"134.423828\" xlink:href=\"#DejaVuSans-32\"/>\r\n",
       "      <use x=\"166.210938\" xlink:href=\"#DejaVuSans-52\"/>\r\n",
       "      <use x=\"229.833984\" xlink:href=\"#DejaVuSans-41\"/>\r\n",
       "     </g>\r\n",
       "    </g>\r\n",
       "   </g>\r\n",
       "   <g id=\"text_7\">\r\n",
       "    <g clip-path=\"url(#pc4a4b9e5eb)\">\r\n",
       "     <!-- (1, 4) -->\r\n",
       "     <g transform=\"translate(143.942929 38.81439)scale(0.12 -0.12)\">\r\n",
       "      <use xlink:href=\"#DejaVuSans-40\"/>\r\n",
       "      <use x=\"39.013672\" xlink:href=\"#DejaVuSans-49\"/>\r\n",
       "      <use x=\"102.636719\" xlink:href=\"#DejaVuSans-44\"/>\r\n",
       "      <use x=\"134.423828\" xlink:href=\"#DejaVuSans-32\"/>\r\n",
       "      <use x=\"166.210938\" xlink:href=\"#DejaVuSans-52\"/>\r\n",
       "      <use x=\"229.833984\" xlink:href=\"#DejaVuSans-41\"/>\r\n",
       "     </g>\r\n",
       "    </g>\r\n",
       "   </g>\r\n",
       "  </g>\r\n",
       " </g>\r\n",
       " <defs>\r\n",
       "  <clipPath id=\"pc4a4b9e5eb\">\r\n",
       "   <rect height=\"326.16\" width=\"167.4\" x=\"7.2\" y=\"7.2\"/>\r\n",
       "  </clipPath>\r\n",
       " </defs>\r\n",
       "</svg>\r\n"
      ],
      "text/plain": [
       "<Figure size 216x432 with 1 Axes>"
      ]
     },
     "metadata": {},
     "output_type": "display_data"
    }
   ],
   "source": [
    "abg.markov.visualise_ambulance_markov_chain(num_of_servers, threshold, system_capacity, buffer_capacity)"
   ]
  },
  {
   "cell_type": "code",
   "execution_count": 32,
   "metadata": {},
   "outputs": [
    {
     "data": {
      "text/plain": [
       "array([0.31771641, 0.23828731, 0.17871548, 0.13403661, 0.07818802,\n",
       "       0.02233944, 0.03071672])"
      ]
     },
     "execution_count": 32,
     "metadata": {},
     "output_type": "execute_result"
    }
   ],
   "source": [
    "all_states = abg.markov.build_states(threshold, system_capacity, buffer_capacity)\n",
    "Q = abg.markov.get_transition_matrix(\n",
    "    lambda_2, lambda_1, mu, num_of_servers, threshold, system_capacity, buffer_capacity\n",
    ")\n",
    "sol = abg.markov.get_steady_state_algebraically(Q, algebraic_function=np.linalg.solve)\n",
    "sol"
   ]
  },
  {
   "cell_type": "code",
   "execution_count": 33,
   "metadata": {},
   "outputs": [],
   "source": [
    "def pi_for_1_server_3_threshold_4_sys_1_par(lambda_2, lambda_1, mu, num_of_servers, threshold, system_capacity, buffer_capacity):\n",
    "    all_states = abg.markov.build_states(threshold, system_capacity, buffer_capacity)\n",
    "    Lambda = lambda_2 + lambda_1\n",
    "    pi = [0 for _ in range(len(all_states))]\n",
    "    pi[0] = (lambda_2) * (mu ** 5) + (mu ** 6)  # (0,0)\n",
    "    pi[1] = Lambda * lambda_2 * (mu ** 4) + Lambda * (mu ** 5)  # (0,1)\n",
    "    pi[2] = (Lambda ** 2) * lambda_2 * (mu ** 3) + (Lambda ** 2) * (mu ** 4)    # (0,2)\n",
    "    pi[3] = (Lambda ** 3) * lambda_2 * (mu ** 2) + (Lambda ** 3) * (mu ** 3)    # (0,3)\n",
    "    pi[4] = (Lambda ** 3) * lambda_1 * lambda_2 * mu + (Lambda ** 3) * lambda_2 * (mu ** 2) + (Lambda ** 3) * lambda_2 * lambda_2 * mu     # (1,3)\n",
    "    pi[5] = (Lambda ** 3) * lambda_1 * (mu ** 2)    # (0,4)\n",
    "    pi[6] = (Lambda ** 3) * (lambda_1 ** 2) * lambda_2 + (Lambda ** 3) * lambda_1 * (lambda_2 ** 2) + 2 * (Lambda ** 3) * lambda_1 * lambda_2 * mu    # (1,4)\n",
    "    sum_of_rates = sum(pi)\n",
    "    pi = [i/sum_of_rates for i in pi]\n",
    "    return pi\n"
   ]
  },
  {
   "cell_type": "code",
   "execution_count": 35,
   "metadata": {},
   "outputs": [],
   "source": [
    "ans = pi_for_1_server_3_threshold_4_sys_1_par(lambda_2, lambda_1, mu, num_of_servers, threshold, system_capacity, buffer_capacity)"
   ]
  },
  {
   "cell_type": "code",
   "execution_count": 36,
   "metadata": {
    "tags": []
   },
   "outputs": [
    {
     "name": "stdout",
     "output_type": "stream",
     "text": [
      "0.3177164132795532 0.3177164132795532 ---> True\n",
      "0.2382873099596649 0.23828730995966502 ---> True\n",
      "0.1787154824697487 0.1787154824697487 ---> True\n",
      "0.13403661185231155 0.13403661185231147 ---> True\n",
      "0.07818802358051506 0.07818802358051498 ---> True\n",
      "0.022339435308718594 0.022339435308718583 ---> True\n",
      "0.030716723549488064 0.030716723549487967 ---> True\n"
     ]
    }
   ],
   "source": [
    "for i in range(7):\n",
    "    print(str(ans[i]) + \" \" + str(sol[i]) + \" ---> \" + str(round(ans[i], 10) == round(sol[i], 10)))"
   ]
  },
  {
   "cell_type": "code",
   "execution_count": null,
   "metadata": {},
   "outputs": [],
   "source": []
  },
  {
   "cell_type": "markdown",
   "metadata": {},
   "source": [
    "# $C=1, T=1, N=2, M=2$"
   ]
  },
  {
   "cell_type": "code",
   "execution_count": 118,
   "metadata": {},
   "outputs": [],
   "source": [
    "lambda_2 = 1\n",
    "lambda_1 = 1\n",
    "mu = 3\n",
    "\n",
    "num_of_servers = 1\n",
    "threshold = 1\n",
    "system_capacity = 2\n",
    "buffer_capacity = 2"
   ]
  },
  {
   "cell_type": "code",
   "execution_count": 119,
   "metadata": {},
   "outputs": [
    {
     "data": {
      "text/plain": [
       "<networkx.classes.multidigraph.MultiDiGraph at 0x1fc3469f898>"
      ]
     },
     "execution_count": 119,
     "metadata": {},
     "output_type": "execute_result"
    },
    {
     "data": {
      "image/png": "[encoded data removed]",
      "image/svg+xml": [
       "<?xml version=\"1.0\" encoding=\"utf-8\" standalone=\"no\"?>\r\n",
       "<!DOCTYPE svg PUBLIC \"-//W3C//DTD SVG 1.1//EN\"\r\n",
       "  \"http://www.w3.org/Graphics/SVG/1.1/DTD/svg11.dtd\">\r\n",
       "<!-- Created with matplotlib (https://matplotlib.org/) -->\r\n",
       "<svg height=\"177.48pt\" version=\"1.1\" viewBox=\"0 0 265.5 177.48\" width=\"265.5pt\" xmlns=\"http://www.w3.org/2000/svg\" xmlns:xlink=\"http://www.w3.org/1999/xlink\">\r\n",
       " <defs>\r\n",
       "  <style type=\"text/css\">\r\n",
       "*{stroke-linecap:butt;stroke-linejoin:round;}\r\n",
       "  </style>\r\n",
       " </defs>\r\n",
       " <g id=\"figure_1\">\r\n",
       "  <g id=\"patch_1\">\r\n",
       "   <path d=\"M 0 177.48 \r\n",
       "L 265.5 177.48 \r\n",
       "L 265.5 0 \r\n",
       "L 0 0 \r\n",
       "z\r\n",
       "\" style=\"fill:none;\"/>\r\n",
       "  </g>\r\n",
       "  <g id=\"axes_1\">\r\n",
       "   <g id=\"patch_2\">\r\n",
       "    <path clip-path=\"url(#pdb6d05311f)\" d=\"M 28.989669 156.12843 \r\n",
       "Q 28.989669 126.763214 28.989669 98.516032 \r\n",
       "\" style=\"fill:none;stroke:#000000;stroke-linecap:round;\"/>\r\n",
       "    <path clip-path=\"url(#pdb6d05311f)\" d=\"M 26.989669 102.516032 \r\n",
       "L 28.989669 98.516032 \r\n",
       "L 30.989669 102.516032 \r\n",
       "L 26.989669 102.516032 \r\n",
       "z\r\n",
       "\" style=\"stroke:#000000;stroke-linecap:round;\"/>\r\n",
       "   </g>\r\n",
       "   <g id=\"patch_3\">\r\n",
       "    <path clip-path=\"url(#pdb6d05311f)\" d=\"M 28.989669 88.74 \r\n",
       "Q 76.539627 88.74 122.97155 88.74 \r\n",
       "\" style=\"fill:none;stroke:#000000;stroke-linecap:round;\"/>\r\n",
       "    <path clip-path=\"url(#pdb6d05311f)\" d=\"M 118.97155 86.74 \r\n",
       "L 122.97155 88.74 \r\n",
       "L 118.97155 90.74 \r\n",
       "L 118.97155 86.74 \r\n",
       "z\r\n",
       "\" style=\"stroke:#000000;stroke-linecap:round;\"/>\r\n",
       "   </g>\r\n",
       "   <g id=\"patch_4\">\r\n",
       "    <path clip-path=\"url(#pdb6d05311f)\" d=\"M 28.989669 88.74 \r\n",
       "Q 28.989669 59.374784 28.989669 31.127603 \r\n",
       "\" style=\"fill:none;stroke:#000000;stroke-linecap:round;\"/>\r\n",
       "    <path clip-path=\"url(#pdb6d05311f)\" d=\"M 26.989669 35.127603 \r\n",
       "L 28.989669 31.127603 \r\n",
       "L 30.989669 35.127603 \r\n",
       "L 26.989669 35.127603 \r\n",
       "z\r\n",
       "\" style=\"stroke:#000000;stroke-linecap:round;\"/>\r\n",
       "   </g>\r\n",
       "   <g id=\"patch_5\">\r\n",
       "    <path clip-path=\"url(#pdb6d05311f)\" d=\"M 132.75 88.74 \r\n",
       "Q 180.299957 88.74 226.731881 88.74 \r\n",
       "\" style=\"fill:none;stroke:#000000;stroke-linecap:round;\"/>\r\n",
       "    <path clip-path=\"url(#pdb6d05311f)\" d=\"M 222.731881 86.74 \r\n",
       "L 226.731881 88.74 \r\n",
       "L 222.731881 90.74 \r\n",
       "L 222.731881 86.74 \r\n",
       "z\r\n",
       "\" style=\"stroke:#000000;stroke-linecap:round;\"/>\r\n",
       "   </g>\r\n",
       "   <g id=\"patch_6\">\r\n",
       "    <path clip-path=\"url(#pdb6d05311f)\" d=\"M 132.75 88.74 \r\n",
       "Q 132.75 59.374784 132.75 31.127603 \r\n",
       "\" style=\"fill:none;stroke:#000000;stroke-linecap:round;\"/>\r\n",
       "    <path clip-path=\"url(#pdb6d05311f)\" d=\"M 130.75 35.127603 \r\n",
       "L 132.75 31.127603 \r\n",
       "L 134.75 35.127603 \r\n",
       "L 130.75 35.127603 \r\n",
       "z\r\n",
       "\" style=\"stroke:#000000;stroke-linecap:round;\"/>\r\n",
       "   </g>\r\n",
       "   <g id=\"patch_7\">\r\n",
       "    <path clip-path=\"url(#pdb6d05311f)\" d=\"M 28.989669 21.35157 \r\n",
       "Q 76.539627 21.35157 122.97155 21.35157 \r\n",
       "\" style=\"fill:none;stroke:#000000;stroke-linecap:round;\"/>\r\n",
       "    <path clip-path=\"url(#pdb6d05311f)\" d=\"M 118.97155 19.35157 \r\n",
       "L 122.97155 21.35157 \r\n",
       "L 118.97155 23.35157 \r\n",
       "L 118.97155 19.35157 \r\n",
       "z\r\n",
       "\" style=\"stroke:#000000;stroke-linecap:round;\"/>\r\n",
       "   </g>\r\n",
       "   <g id=\"patch_8\">\r\n",
       "    <path clip-path=\"url(#pdb6d05311f)\" d=\"M 236.510331 88.74 \r\n",
       "Q 236.510331 59.374784 236.510331 31.127603 \r\n",
       "\" style=\"fill:none;stroke:#000000;stroke-linecap:round;\"/>\r\n",
       "    <path clip-path=\"url(#pdb6d05311f)\" d=\"M 234.510331 35.127603 \r\n",
       "L 236.510331 31.127603 \r\n",
       "L 238.510331 35.127603 \r\n",
       "L 234.510331 35.127603 \r\n",
       "z\r\n",
       "\" style=\"stroke:#000000;stroke-linecap:round;\"/>\r\n",
       "   </g>\r\n",
       "   <g id=\"patch_9\">\r\n",
       "    <path clip-path=\"url(#pdb6d05311f)\" d=\"M 132.75 21.35157 \r\n",
       "Q 180.299957 21.35157 226.731881 21.35157 \r\n",
       "\" style=\"fill:none;stroke:#000000;stroke-linecap:round;\"/>\r\n",
       "    <path clip-path=\"url(#pdb6d05311f)\" d=\"M 222.731881 19.35157 \r\n",
       "L 226.731881 21.35157 \r\n",
       "L 222.731881 23.35157 \r\n",
       "L 222.731881 19.35157 \r\n",
       "z\r\n",
       "\" style=\"stroke:#000000;stroke-linecap:round;\"/>\r\n",
       "   </g>\r\n",
       "   <g id=\"PathCollection_1\">\r\n",
       "    <defs>\r\n",
       "     <path d=\"M 0 22.36068 \r\n",
       "C 5.930122 22.36068 11.618159 20.004617 15.811388 15.811388 \r\n",
       "C 20.004617 11.618159 22.36068 5.930122 22.36068 0 \r\n",
       "C 22.36068 -5.930122 20.004617 -11.618159 15.811388 -15.811388 \r\n",
       "C 11.618159 -20.004617 5.930122 -22.36068 0 -22.36068 \r\n",
       "C -5.930122 -22.36068 -11.618159 -20.004617 -15.811388 -15.811388 \r\n",
       "C -20.004617 -11.618159 -22.36068 -5.930122 -22.36068 0 \r\n",
       "C -22.36068 5.930122 -20.004617 11.618159 -15.811388 15.811388 \r\n",
       "C -11.618159 20.004617 -5.930122 22.36068 0 22.36068 \r\n",
       "z\r\n",
       "\" id=\"m9dd100bd29\" style=\"stroke:#1f78b4;\"/>\r\n",
       "    </defs>\r\n",
       "    <g clip-path=\"url(#pdb6d05311f)\">\r\n",
       "     <use style=\"fill:#1f78b4;stroke:#1f78b4;\" x=\"28.989669\" xlink:href=\"#m9dd100bd29\" y=\"156.12843\"/>\r\n",
       "    </g>\r\n",
       "   </g>\r\n",
       "   <g id=\"PathCollection_2\">\r\n",
       "    <defs>\r\n",
       "     <path d=\"M 0 22.36068 \r\n",
       "C 5.930122 22.36068 11.618159 20.004617 15.811388 15.811388 \r\n",
       "C 20.004617 11.618159 22.36068 5.930122 22.36068 0 \r\n",
       "C 22.36068 -5.930122 20.004617 -11.618159 15.811388 -15.811388 \r\n",
       "C 11.618159 -20.004617 5.930122 -22.36068 0 -22.36068 \r\n",
       "C -5.930122 -22.36068 -11.618159 -20.004617 -15.811388 -15.811388 \r\n",
       "C -20.004617 -11.618159 -22.36068 -5.930122 -22.36068 0 \r\n",
       "C -22.36068 5.930122 -20.004617 11.618159 -15.811388 15.811388 \r\n",
       "C -11.618159 20.004617 -5.930122 22.36068 0 22.36068 \r\n",
       "z\r\n",
       "\" id=\"m00cb2b548f\" style=\"stroke:#ff0000;\"/>\r\n",
       "    </defs>\r\n",
       "    <g clip-path=\"url(#pdb6d05311f)\">\r\n",
       "     <use style=\"fill:#ff0000;stroke:#ff0000;\" x=\"28.989669\" xlink:href=\"#m00cb2b548f\" y=\"88.74\"/>\r\n",
       "     <use style=\"fill:#ff0000;stroke:#ff0000;\" x=\"132.75\" xlink:href=\"#m00cb2b548f\" y=\"88.74\"/>\r\n",
       "     <use style=\"fill:#ff0000;stroke:#ff0000;\" x=\"236.510331\" xlink:href=\"#m00cb2b548f\" y=\"88.74\"/>\r\n",
       "     <use style=\"fill:#ff0000;stroke:#ff0000;\" x=\"28.989669\" xlink:href=\"#m00cb2b548f\" y=\"21.35157\"/>\r\n",
       "     <use style=\"fill:#ff0000;stroke:#ff0000;\" x=\"132.75\" xlink:href=\"#m00cb2b548f\" y=\"21.35157\"/>\r\n",
       "     <use style=\"fill:#ff0000;stroke:#ff0000;\" x=\"236.510331\" xlink:href=\"#m00cb2b548f\" y=\"21.35157\"/>\r\n",
       "    </g>\r\n",
       "   </g>\r\n",
       "   <g id=\"text_1\">\r\n",
       "    <g clip-path=\"url(#pdb6d05311f)\">\r\n",
       "     <!-- (0, 0) -->\r\n",
       "     <defs>\r\n",
       "      <path d=\"M 31 75.875 \r\n",
       "Q 24.46875 64.65625 21.28125 53.65625 \r\n",
       "Q 18.109375 42.671875 18.109375 31.390625 \r\n",
       "Q 18.109375 20.125 21.3125 9.0625 \r\n",
       "Q 24.515625 -2 31 -13.1875 \r\n",
       "L 23.1875 -13.1875 \r\n",
       "Q 15.875 -1.703125 12.234375 9.375 \r\n",
       "Q 8.59375 20.453125 8.59375 31.390625 \r\n",
       "Q 8.59375 42.28125 12.203125 53.3125 \r\n",
       "Q 15.828125 64.359375 23.1875 75.875 \r\n",
       "z\r\n",
       "\" id=\"DejaVuSans-40\"/>\r\n",
       "      <path d=\"M 31.78125 66.40625 \r\n",
       "Q 24.171875 66.40625 20.328125 58.90625 \r\n",
       "Q 16.5 51.421875 16.5 36.375 \r\n",
       "Q 16.5 21.390625 20.328125 13.890625 \r\n",
       "Q 24.171875 6.390625 31.78125 6.390625 \r\n",
       "Q 39.453125 6.390625 43.28125 13.890625 \r\n",
       "Q 47.125 21.390625 47.125 36.375 \r\n",
       "Q 47.125 51.421875 43.28125 58.90625 \r\n",
       "Q 39.453125 66.40625 31.78125 66.40625 \r\n",
       "z\r\n",
       "M 31.78125 74.21875 \r\n",
       "Q 44.046875 74.21875 50.515625 64.515625 \r\n",
       "Q 56.984375 54.828125 56.984375 36.375 \r\n",
       "Q 56.984375 17.96875 50.515625 8.265625 \r\n",
       "Q 44.046875 -1.421875 31.78125 -1.421875 \r\n",
       "Q 19.53125 -1.421875 13.0625 8.265625 \r\n",
       "Q 6.59375 17.96875 6.59375 36.375 \r\n",
       "Q 6.59375 54.828125 13.0625 64.515625 \r\n",
       "Q 19.53125 74.21875 31.78125 74.21875 \r\n",
       "z\r\n",
       "\" id=\"DejaVuSans-48\"/>\r\n",
       "      <path d=\"M 11.71875 12.40625 \r\n",
       "L 22.015625 12.40625 \r\n",
       "L 22.015625 4 \r\n",
       "L 14.015625 -11.625 \r\n",
       "L 7.71875 -11.625 \r\n",
       "L 11.71875 4 \r\n",
       "z\r\n",
       "\" id=\"DejaVuSans-44\"/>\r\n",
       "      <path id=\"DejaVuSans-32\"/>\r\n",
       "      <path d=\"M 8.015625 75.875 \r\n",
       "L 15.828125 75.875 \r\n",
       "Q 23.140625 64.359375 26.78125 53.3125 \r\n",
       "Q 30.421875 42.28125 30.421875 31.390625 \r\n",
       "Q 30.421875 20.453125 26.78125 9.375 \r\n",
       "Q 23.140625 -1.703125 15.828125 -13.1875 \r\n",
       "L 8.015625 -13.1875 \r\n",
       "Q 14.5 -2 17.703125 9.0625 \r\n",
       "Q 20.90625 20.125 20.90625 31.390625 \r\n",
       "Q 20.90625 42.671875 17.703125 53.65625 \r\n",
       "Q 14.5 64.65625 8.015625 75.875 \r\n",
       "z\r\n",
       "\" id=\"DejaVuSans-41\"/>\r\n",
       "     </defs>\r\n",
       "     <g transform=\"translate(12.859044 159.43968)scale(0.12 -0.12)\">\r\n",
       "      <use xlink:href=\"#DejaVuSans-40\"/>\r\n",
       "      <use x=\"39.013672\" xlink:href=\"#DejaVuSans-48\"/>\r\n",
       "      <use x=\"102.636719\" xlink:href=\"#DejaVuSans-44\"/>\r\n",
       "      <use x=\"134.423828\" xlink:href=\"#DejaVuSans-32\"/>\r\n",
       "      <use x=\"166.210938\" xlink:href=\"#DejaVuSans-48\"/>\r\n",
       "      <use x=\"229.833984\" xlink:href=\"#DejaVuSans-41\"/>\r\n",
       "     </g>\r\n",
       "    </g>\r\n",
       "   </g>\r\n",
       "   <g id=\"text_2\">\r\n",
       "    <g clip-path=\"url(#pdb6d05311f)\">\r\n",
       "     <!-- (0, 1) -->\r\n",
       "     <defs>\r\n",
       "      <path d=\"M 12.40625 8.296875 \r\n",
       "L 28.515625 8.296875 \r\n",
       "L 28.515625 63.921875 \r\n",
       "L 10.984375 60.40625 \r\n",
       "L 10.984375 69.390625 \r\n",
       "L 28.421875 72.90625 \r\n",
       "L 38.28125 72.90625 \r\n",
       "L 38.28125 8.296875 \r\n",
       "L 54.390625 8.296875 \r\n",
       "L 54.390625 0 \r\n",
       "L 12.40625 0 \r\n",
       "z\r\n",
       "\" id=\"DejaVuSans-49\"/>\r\n",
       "     </defs>\r\n",
       "     <g transform=\"translate(12.859044 92.05125)scale(0.12 -0.12)\">\r\n",
       "      <use xlink:href=\"#DejaVuSans-40\"/>\r\n",
       "      <use x=\"39.013672\" xlink:href=\"#DejaVuSans-48\"/>\r\n",
       "      <use x=\"102.636719\" xlink:href=\"#DejaVuSans-44\"/>\r\n",
       "      <use x=\"134.423828\" xlink:href=\"#DejaVuSans-32\"/>\r\n",
       "      <use x=\"166.210938\" xlink:href=\"#DejaVuSans-49\"/>\r\n",
       "      <use x=\"229.833984\" xlink:href=\"#DejaVuSans-41\"/>\r\n",
       "     </g>\r\n",
       "    </g>\r\n",
       "   </g>\r\n",
       "   <g id=\"text_3\">\r\n",
       "    <g clip-path=\"url(#pdb6d05311f)\">\r\n",
       "     <!-- (1, 1) -->\r\n",
       "     <g transform=\"translate(116.619375 92.05125)scale(0.12 -0.12)\">\r\n",
       "      <use xlink:href=\"#DejaVuSans-40\"/>\r\n",
       "      <use x=\"39.013672\" xlink:href=\"#DejaVuSans-49\"/>\r\n",
       "      <use x=\"102.636719\" xlink:href=\"#DejaVuSans-44\"/>\r\n",
       "      <use x=\"134.423828\" xlink:href=\"#DejaVuSans-32\"/>\r\n",
       "      <use x=\"166.210938\" xlink:href=\"#DejaVuSans-49\"/>\r\n",
       "      <use x=\"229.833984\" xlink:href=\"#DejaVuSans-41\"/>\r\n",
       "     </g>\r\n",
       "    </g>\r\n",
       "   </g>\r\n",
       "   <g id=\"text_4\">\r\n",
       "    <g clip-path=\"url(#pdb6d05311f)\">\r\n",
       "     <!-- (0, 2) -->\r\n",
       "     <defs>\r\n",
       "      <path d=\"M 19.1875 8.296875 \r\n",
       "L 53.609375 8.296875 \r\n",
       "L 53.609375 0 \r\n",
       "L 7.328125 0 \r\n",
       "L 7.328125 8.296875 \r\n",
       "Q 12.9375 14.109375 22.625 23.890625 \r\n",
       "Q 32.328125 33.6875 34.8125 36.53125 \r\n",
       "Q 39.546875 41.84375 41.421875 45.53125 \r\n",
       "Q 43.3125 49.21875 43.3125 52.78125 \r\n",
       "Q 43.3125 58.59375 39.234375 62.25 \r\n",
       "Q 35.15625 65.921875 28.609375 65.921875 \r\n",
       "Q 23.96875 65.921875 18.8125 64.3125 \r\n",
       "Q 13.671875 62.703125 7.8125 59.421875 \r\n",
       "L 7.8125 69.390625 \r\n",
       "Q 13.765625 71.78125 18.9375 73 \r\n",
       "Q 24.125 74.21875 28.421875 74.21875 \r\n",
       "Q 39.75 74.21875 46.484375 68.546875 \r\n",
       "Q 53.21875 62.890625 53.21875 53.421875 \r\n",
       "Q 53.21875 48.921875 51.53125 44.890625 \r\n",
       "Q 49.859375 40.875 45.40625 35.40625 \r\n",
       "Q 44.1875 33.984375 37.640625 27.21875 \r\n",
       "Q 31.109375 20.453125 19.1875 8.296875 \r\n",
       "z\r\n",
       "\" id=\"DejaVuSans-50\"/>\r\n",
       "     </defs>\r\n",
       "     <g transform=\"translate(12.859044 24.66282)scale(0.12 -0.12)\">\r\n",
       "      <use xlink:href=\"#DejaVuSans-40\"/>\r\n",
       "      <use x=\"39.013672\" xlink:href=\"#DejaVuSans-48\"/>\r\n",
       "      <use x=\"102.636719\" xlink:href=\"#DejaVuSans-44\"/>\r\n",
       "      <use x=\"134.423828\" xlink:href=\"#DejaVuSans-32\"/>\r\n",
       "      <use x=\"166.210938\" xlink:href=\"#DejaVuSans-50\"/>\r\n",
       "      <use x=\"229.833984\" xlink:href=\"#DejaVuSans-41\"/>\r\n",
       "     </g>\r\n",
       "    </g>\r\n",
       "   </g>\r\n",
       "   <g id=\"text_5\">\r\n",
       "    <g clip-path=\"url(#pdb6d05311f)\">\r\n",
       "     <!-- (2, 1) -->\r\n",
       "     <g transform=\"translate(220.379706 92.05125)scale(0.12 -0.12)\">\r\n",
       "      <use xlink:href=\"#DejaVuSans-40\"/>\r\n",
       "      <use x=\"39.013672\" xlink:href=\"#DejaVuSans-50\"/>\r\n",
       "      <use x=\"102.636719\" xlink:href=\"#DejaVuSans-44\"/>\r\n",
       "      <use x=\"134.423828\" xlink:href=\"#DejaVuSans-32\"/>\r\n",
       "      <use x=\"166.210938\" xlink:href=\"#DejaVuSans-49\"/>\r\n",
       "      <use x=\"229.833984\" xlink:href=\"#DejaVuSans-41\"/>\r\n",
       "     </g>\r\n",
       "    </g>\r\n",
       "   </g>\r\n",
       "   <g id=\"text_6\">\r\n",
       "    <g clip-path=\"url(#pdb6d05311f)\">\r\n",
       "     <!-- (1, 2) -->\r\n",
       "     <g transform=\"translate(116.619375 24.66282)scale(0.12 -0.12)\">\r\n",
       "      <use xlink:href=\"#DejaVuSans-40\"/>\r\n",
       "      <use x=\"39.013672\" xlink:href=\"#DejaVuSans-49\"/>\r\n",
       "      <use x=\"102.636719\" xlink:href=\"#DejaVuSans-44\"/>\r\n",
       "      <use x=\"134.423828\" xlink:href=\"#DejaVuSans-32\"/>\r\n",
       "      <use x=\"166.210938\" xlink:href=\"#DejaVuSans-50\"/>\r\n",
       "      <use x=\"229.833984\" xlink:href=\"#DejaVuSans-41\"/>\r\n",
       "     </g>\r\n",
       "    </g>\r\n",
       "   </g>\r\n",
       "   <g id=\"text_7\">\r\n",
       "    <g clip-path=\"url(#pdb6d05311f)\">\r\n",
       "     <!-- (2, 2) -->\r\n",
       "     <g transform=\"translate(220.379706 24.66282)scale(0.12 -0.12)\">\r\n",
       "      <use xlink:href=\"#DejaVuSans-40\"/>\r\n",
       "      <use x=\"39.013672\" xlink:href=\"#DejaVuSans-50\"/>\r\n",
       "      <use x=\"102.636719\" xlink:href=\"#DejaVuSans-44\"/>\r\n",
       "      <use x=\"134.423828\" xlink:href=\"#DejaVuSans-32\"/>\r\n",
       "      <use x=\"166.210938\" xlink:href=\"#DejaVuSans-50\"/>\r\n",
       "      <use x=\"229.833984\" xlink:href=\"#DejaVuSans-41\"/>\r\n",
       "     </g>\r\n",
       "    </g>\r\n",
       "   </g>\r\n",
       "  </g>\r\n",
       " </g>\r\n",
       " <defs>\r\n",
       "  <clipPath id=\"pdb6d05311f\">\r\n",
       "   <rect height=\"163.08\" width=\"251.1\" x=\"7.2\" y=\"7.2\"/>\r\n",
       "  </clipPath>\r\n",
       " </defs>\r\n",
       "</svg>\r\n"
      ],
      "text/plain": [
       "<Figure size 324x216 with 1 Axes>"
      ]
     },
     "metadata": {},
     "output_type": "display_data"
    }
   ],
   "source": [
    "abg.markov.visualise_ambulance_markov_chain(num_of_servers, threshold, system_capacity, buffer_capacity)"
   ]
  },
  {
   "cell_type": "code",
   "execution_count": 125,
   "metadata": {},
   "outputs": [
    {
     "data": {
      "text/plain": [
       "array([0.41116751, 0.27411168, 0.1142132 , 0.05329949, 0.06852792,\n",
       "       0.04568528, 0.03299492])"
      ]
     },
     "execution_count": 125,
     "metadata": {},
     "output_type": "execute_result"
    }
   ],
   "source": [
    "all_states = abg.markov.build_states(threshold, system_capacity, buffer_capacity)\n",
    "Q = abg.markov.get_transition_matrix(\n",
    "    lambda_2, lambda_1, mu, num_of_servers, threshold, system_capacity, buffer_capacity\n",
    ")\n",
    "sol = abg.markov.get_steady_state_algebraically(Q, algebraic_function=np.linalg.solve)\n",
    "sol"
   ]
  },
  {
   "cell_type": "code",
   "execution_count": 126,
   "metadata": {},
   "outputs": [
    {
     "data": {
      "text/latex": [
       "$\\displaystyle \\left[ \\left( 0, \\  0\\right), \\  \\left( 0, \\  1\\right), \\  \\left( 1, \\  1\\right), \\  \\left( 2, \\  1\\right), \\  \\left( 0, \\  2\\right), \\  \\left( 1, \\  2\\right), \\  \\left( 2, \\  2\\right)\\right]$"
      ],
      "text/plain": [
       "[(0, 0), (0, 1), (1, 1), (2, 1), (0, 2), (1, 2), (2, 2)]"
      ]
     },
     "execution_count": 126,
     "metadata": {},
     "output_type": "execute_result"
    }
   ],
   "source": [
    "all_states"
   ]
  },
  {
   "cell_type": "code",
   "execution_count": 157,
   "metadata": {},
   "outputs": [],
   "source": [
    "def pi_for_1_server_1_threshold_2_sys_2_par(lambda_2, lambda_1, mu, num_of_servers, threshold, system_capacity, buffer_capacity):\n",
    "    all_states = abg.markov.build_states(threshold, system_capacity, buffer_capacity)\n",
    "    Lambda = lambda_2 + lambda_1\n",
    "\n",
    "    pi = [0 for _ in range(len(all_states))]\n",
    "    pi[0] = (mu ** 6) + 2 * (lambda_2) * (mu ** 5) + (lambda_2 ** 2) * (mu ** 4) # (0,0)\n",
    "    pi[1] = (Lambda * mu ** 3) * (mu ** 2 + 2 * mu * lambda_2 + lambda_2 ** 2)  # (0,1)\n",
    "    pi[2] = (Lambda * lambda_2 * mu ** 2) * (lambda_2 ** 2 + lambda_2 * lambda_1 + lambda_1 * mu + mu ** 2 + 2 * lambda_2 * mu) # (1,1)\n",
    "    pi[3] = (Lambda * lambda_2 ** 2 * mu) * (lambda_2 ** 2 + 2 * lambda_1 * lambda_2 + 3 * lambda_1 * mu + mu ** 2 + 2 * lambda_2 * mu + lambda_1 ** 2) # (2,1)\n",
    "    pi[4] = (Lambda * lambda_1 * mu ** 3) * (lambda_2 + mu)  # (0,2)\n",
    "    pi[5] = (Lambda * lambda_1 * lambda_2 * mu ** 2) * (2 * mu + lambda_1 + lambda_2)   # (1,2)\n",
    "    pi[6] = (Lambda * lambda_1 * lambda_2 ** 2) * (lambda_1 ** 2 + 4 * lambda_1 * mu + 2 * lambda_1 * lambda_2 + 3 * mu ** 2 + lambda_2 ** 2 + 3 * lambda_2 * mu)    # (2,2)\n",
    "    sum_of_rates = sum(pi)\n",
    "    pi = [i/sum_of_rates for i in pi]\n",
    "    return pi\n"
   ]
  },
  {
   "cell_type": "code",
   "execution_count": 158,
   "metadata": {},
   "outputs": [],
   "source": [
    "ans = pi_for_1_server_1_threshold_2_sys_2_par(lambda_2, lambda_1, mu, num_of_servers, threshold, system_capacity, buffer_capacity)"
   ]
  },
  {
   "cell_type": "code",
   "execution_count": 159,
   "metadata": {
    "tags": []
   },
   "outputs": [
    {
     "name": "stdout",
     "output_type": "stream",
     "text": [
      "0.41116751269035534 0.4111675126903551 ---> True\n",
      "0.27411167512690354 0.27411167512690343 ---> True\n",
      "0.11421319796954314 0.11421319796954318 ---> True\n",
      "0.0532994923857868 0.05329949238578686 ---> True\n",
      "0.06852791878172589 0.06852791878172587 ---> True\n",
      "0.04568527918781726 0.04568527918781726 ---> True\n",
      "0.03299492385786802 0.032994923857868085 ---> True\n"
     ]
    }
   ],
   "source": [
    "for i in range(7):\n",
    "    print(str(ans[i]) + \" \" + str(sol[i]) + \" ---> \" + str(round(ans[i], 10) == round(sol[i], 10)))"
   ]
  },
  {
   "cell_type": "code",
   "execution_count": 160,
   "metadata": {},
   "outputs": [],
   "source": [
    "sym_pi = get_symbolic_pi(num_of_servers=num_of_servers, threshold=threshold, system_capacity=system_capacity, buffer_capacity=buffer_capacity)"
   ]
  },
  {
   "cell_type": "code",
   "execution_count": 130,
   "metadata": {},
   "outputs": [],
   "source": [
    "exp = sym.factor(sym_pi[g])"
   ]
  },
  {
   "cell_type": "code",
   "execution_count": 131,
   "metadata": {},
   "outputs": [
    {
     "data": {
      "text/latex": [
       "$\\displaystyle \\frac{\\Lambda \\left(\\lambda^{A}\\right)^{2} \\lambda^{o} \\left(\\left(\\lambda^{A}\\right)^{2} + 2 \\lambda^{A} \\lambda^{o} + 3 \\lambda^{A} \\mu + \\left(\\lambda^{o}\\right)^{2} + 4 \\lambda^{o} \\mu + 3 \\mu^{2}\\right)}{\\Lambda \\left(\\lambda^{A}\\right)^{4} \\lambda^{o} + \\Lambda \\left(\\lambda^{A}\\right)^{4} \\mu + 2 \\Lambda \\left(\\lambda^{A}\\right)^{3} \\left(\\lambda^{o}\\right)^{2} + 5 \\Lambda \\left(\\lambda^{A}\\right)^{3} \\lambda^{o} \\mu + 3 \\Lambda \\left(\\lambda^{A}\\right)^{3} \\mu^{2} + \\Lambda \\left(\\lambda^{A}\\right)^{2} \\left(\\lambda^{o}\\right)^{3} + 5 \\Lambda \\left(\\lambda^{A}\\right)^{2} \\left(\\lambda^{o}\\right)^{2} \\mu + 8 \\Lambda \\left(\\lambda^{A}\\right)^{2} \\lambda^{o} \\mu^{2} + 4 \\Lambda \\left(\\lambda^{A}\\right)^{2} \\mu^{3} + \\Lambda \\lambda^{A} \\left(\\lambda^{o}\\right)^{2} \\mu^{2} + 4 \\Lambda \\lambda^{A} \\lambda^{o} \\mu^{3} + 3 \\Lambda \\lambda^{A} \\mu^{4} + \\Lambda \\lambda^{o} \\mu^{4} + \\Lambda \\mu^{5} + \\left(\\lambda^{A}\\right)^{2} \\mu^{4} + 2 \\lambda^{A} \\mu^{5} + \\mu^{6}}$"
      ],
      "text/plain": [
       "                                                                              \n",
       "                                                                              \n",
       "──────────────────────────────────────────────────────────────────────────────\n",
       "      4              4             3     2           3                  3  2  \n",
       "Λ⋅λ__A ⋅λ__o + Λ⋅λ__A ⋅μ + 2⋅Λ⋅λ__A ⋅λ__o  + 5⋅Λ⋅λ__A ⋅λ__o⋅μ + 3⋅Λ⋅λ__A ⋅μ  +\n",
       "\n",
       "               2      ⎛    2                                2                 \n",
       "         Λ⋅λ__A ⋅λ__o⋅⎝λ__A  + 2⋅λ__A⋅λ__o + 3⋅λ__A⋅μ + λ__o  + 4⋅λ__o⋅μ + 3⋅μ\n",
       "──────────────────────────────────────────────────────────────────────────────\n",
       "       2     3           2     2             2       2           2  3         \n",
       " Λ⋅λ__A ⋅λ__o  + 5⋅Λ⋅λ__A ⋅λ__o ⋅μ + 8⋅Λ⋅λ__A ⋅λ__o⋅μ  + 4⋅Λ⋅λ__A ⋅μ  + Λ⋅λ__A\n",
       "\n",
       "2⎞                                                                            \n",
       " ⎠                                                                            \n",
       "──────────────────────────────────────────────────────────────────────────────\n",
       "     2  2                  3             4           4      5       2  4      \n",
       "⋅λ__o ⋅μ  + 4⋅Λ⋅λ__A⋅λ__o⋅μ  + 3⋅Λ⋅λ__A⋅μ  + Λ⋅λ__o⋅μ  + Λ⋅μ  + λ__A ⋅μ  + 2⋅λ\n",
       "\n",
       "           \n",
       "           \n",
       "───────────\n",
       "     5    6\n",
       "__A⋅μ  + μ "
      ]
     },
     "execution_count": 131,
     "metadata": {},
     "output_type": "execute_result"
    }
   ],
   "source": [
    "exp"
   ]
  },
  {
   "cell_type": "code",
   "execution_count": null,
   "metadata": {},
   "outputs": [],
   "source": []
  },
  {
   "cell_type": "markdown",
   "metadata": {},
   "source": [
    "# Investigating ratio relations $\\frac{\\pi_i}{\\pi_j}$"
   ]
  },
  {
   "cell_type": "code",
   "execution_count": 2,
   "metadata": {},
   "outputs": [],
   "source": [
    "sym.init_printing(use_latex='mathjax')\n",
    "def get_symbolic_pi(num_of_servers, threshold, system_capacity, buffer_capacity):\n",
    "    Q_sym = abg.markov.get_symbolic_transition_matrix(num_of_servers=num_of_servers, \n",
    "                                            threshold=threshold, \n",
    "                                            system_capacity=system_capacity,\n",
    "                                            buffer_capacity=buffer_capacity)\n",
    "    dimension =  Q_sym.shape[0]\n",
    "    if dimension > 7:\n",
    "        return \"Capacity of 6 exceeded\"\n",
    "    M_sym = sym.Matrix([Q_sym.transpose()[:-1,:], sym.ones(1,dimension)])\n",
    "    b_sym = sym.Matrix([sym.zeros(dimension - 1, 1), [1]])\n",
    "    system = M_sym.col_insert(dimension,b_sym)\n",
    "    sol = sym.solve_linear_system_LU(system, [a,b,c,d,e,f,g])\n",
    "    return sol\n",
    "\n"
   ]
  },
  {
   "cell_type": "markdown",
   "metadata": {},
   "source": [
    "## $C=1, T=2, N=2, M=2$"
   ]
  },
  {
   "cell_type": "code",
   "execution_count": 3,
   "metadata": {},
   "outputs": [
    {
     "data": {
      "text/latex": [
       "$\\displaystyle \\left[ \\left( 0, \\  0\\right), \\  \\left( 0, \\  1\\right), \\  \\left( 0, \\  2\\right), \\  \\left( 1, \\  2\\right), \\  \\left( 2, \\  2\\right)\\right]$"
      ],
      "text/plain": [
       "[(0, 0), (0, 1), (0, 2), (1, 2), (2, 2)]"
      ]
     },
     "execution_count": 3,
     "metadata": {},
     "output_type": "execute_result"
    }
   ],
   "source": [
    "num_of_servers = 1\n",
    "threshold = 2\n",
    "system_capacity = 2\n",
    "buffer_capacity = 2\n",
    "\n",
    "sym_pi_1222 = get_symbolic_pi(num_of_servers=num_of_servers, threshold=threshold, system_capacity=system_capacity, buffer_capacity=buffer_capacity)\n",
    "all_states_1222 = abg.markov.build_states(threshold=threshold, system_capacity=system_capacity, buffer_capacity=buffer_capacity)\n",
    "sym_state_probs_1222 = [0 for _ in range(len(all_states_1222))]\n",
    "all_states_1222\n"
   ]
  },
  {
   "cell_type": "code",
   "execution_count": 4,
   "metadata": {},
   "outputs": [],
   "source": [
    "sym_state_probs_1222[0] = sym.factor(sym_pi_1222[a]) # (0,0)\n",
    "sym_state_probs_1222[1] = sym.factor(sym_pi_1222[b]) # (0,1)\n",
    "sym_state_probs_1222[2] = sym.factor(sym_pi_1222[c]) # (1,1)\n",
    "sym_state_probs_1222[3] = sym.factor(sym_pi_1222[d]) # (0,2)\n",
    "sym_state_probs_1222[4] = sym.factor(sym_pi_1222[e]) # (1,2)\n"
   ]
  },
  {
   "cell_type": "code",
   "execution_count": 6,
   "metadata": {},
   "outputs": [],
   "source": [
    "sym_state_recursive_ratios_1222 = sym.zeros(buffer_capacity + 1, system_capacity + 1)\n",
    "sym_state_recursive_ratios_1222[0,0] = 1\n",
    "sym_state_recursive_ratios_1222[0,1] = sym.factor(sym_state_probs_1222[1] / sym_state_probs_1222[0])  # (0,0) -> (0,1) \n",
    "sym_state_recursive_ratios_1222[0,2] = sym.factor(sym_state_probs_1222[2] / sym_state_probs_1222[1])  # (0,1) -> (1,1)\n",
    "sym_state_recursive_ratios_1222[1,2] = sym.factor(sym_state_probs_1222[3] / sym_state_probs_1222[2])  # (0,1) -> (0,2)\n",
    "sym_state_recursive_ratios_1222[2,2] = sym.factor(sym_state_probs_1222[4] / sym_state_probs_1222[3])  # (0,2) -> (1,2)\n"
   ]
  },
  {
   "cell_type": "code",
   "execution_count": 5,
   "metadata": {},
   "outputs": [
    {
     "data": {
      "text/plain": [
       "<networkx.classes.multidigraph.MultiDiGraph at 0x13f2a4e30d0>"
      ]
     },
     "execution_count": 5,
     "metadata": {},
     "output_type": "execute_result"
    },
    {
     "data": {
      "image/png": "[encoded data removed]",
      "image/svg+xml": [
       "<?xml version=\"1.0\" encoding=\"utf-8\" standalone=\"no\"?>\r\n",
       "<!DOCTYPE svg PUBLIC \"-//W3C//DTD SVG 1.1//EN\"\r\n",
       "  \"http://www.w3.org/Graphics/SVG/1.1/DTD/svg11.dtd\">\r\n",
       "<!-- Created with matplotlib (https://matplotlib.org/) -->\r\n",
       "<svg height=\"177.48pt\" version=\"1.1\" viewBox=\"0 0 265.5 177.48\" width=\"265.5pt\" xmlns=\"http://www.w3.org/2000/svg\" xmlns:xlink=\"http://www.w3.org/1999/xlink\">\r\n",
       " <defs>\r\n",
       "  <style type=\"text/css\">\r\n",
       "*{stroke-linecap:butt;stroke-linejoin:round;}\r\n",
       "  </style>\r\n",
       " </defs>\r\n",
       " <g id=\"figure_1\">\r\n",
       "  <g id=\"patch_1\">\r\n",
       "   <path d=\"M 0 177.48 \r\n",
       "L 265.5 177.48 \r\n",
       "L 265.5 0 \r\n",
       "L 0 0 \r\n",
       "z\r\n",
       "\" style=\"fill:none;\"/>\r\n",
       "  </g>\r\n",
       "  <g id=\"axes_1\">\r\n",
       "   <g id=\"patch_2\">\r\n",
       "    <path clip-path=\"url(#p057b598daa)\" d=\"M 28.989669 153.780618 \r\n",
       "Q 28.989669 124.975391 28.989669 97.288199 \r\n",
       "\" style=\"fill:none;stroke:#000000;stroke-linecap:round;\"/>\r\n",
       "    <path clip-path=\"url(#p057b598daa)\" d=\"M 26.989669 101.288199 \r\n",
       "L 28.989669 97.288199 \r\n",
       "L 30.989669 101.288199 \r\n",
       "L 26.989669 101.288199 \r\n",
       "z\r\n",
       "\" style=\"stroke:#000000;stroke-linecap:round;\"/>\r\n",
       "   </g>\r\n",
       "   <g id=\"patch_3\">\r\n",
       "    <path clip-path=\"url(#p057b598daa)\" d=\"M 28.989669 87.510194 \r\n",
       "Q 28.989669 58.704968 28.989669 31.017775 \r\n",
       "\" style=\"fill:none;stroke:#000000;stroke-linecap:round;\"/>\r\n",
       "    <path clip-path=\"url(#p057b598daa)\" d=\"M 26.989669 35.017775 \r\n",
       "L 28.989669 31.017775 \r\n",
       "L 30.989669 35.017775 \r\n",
       "L 26.989669 35.017775 \r\n",
       "z\r\n",
       "\" style=\"stroke:#000000;stroke-linecap:round;\"/>\r\n",
       "   </g>\r\n",
       "   <g id=\"patch_4\">\r\n",
       "    <path clip-path=\"url(#p057b598daa)\" d=\"M 28.989669 21.23977 \r\n",
       "Q 76.539627 21.23977 122.97155 21.23977 \r\n",
       "\" style=\"fill:none;stroke:#000000;stroke-linecap:round;\"/>\r\n",
       "    <path clip-path=\"url(#p057b598daa)\" d=\"M 118.97155 19.23977 \r\n",
       "L 122.97155 21.23977 \r\n",
       "L 118.97155 23.23977 \r\n",
       "L 118.97155 19.23977 \r\n",
       "z\r\n",
       "\" style=\"stroke:#000000;stroke-linecap:round;\"/>\r\n",
       "   </g>\r\n",
       "   <g id=\"patch_5\">\r\n",
       "    <path clip-path=\"url(#p057b598daa)\" d=\"M 132.75 21.23977 \r\n",
       "Q 180.299957 21.23977 226.731881 21.23977 \r\n",
       "\" style=\"fill:none;stroke:#000000;stroke-linecap:round;\"/>\r\n",
       "    <path clip-path=\"url(#p057b598daa)\" d=\"M 222.731881 19.23977 \r\n",
       "L 226.731881 21.23977 \r\n",
       "L 222.731881 23.23977 \r\n",
       "L 222.731881 19.23977 \r\n",
       "z\r\n",
       "\" style=\"stroke:#000000;stroke-linecap:round;\"/>\r\n",
       "   </g>\r\n",
       "   <g id=\"PathCollection_1\">\r\n",
       "    <defs>\r\n",
       "     <path d=\"M 0 22.36068 \r\n",
       "C 5.930122 22.36068 11.618159 20.004617 15.811388 15.811388 \r\n",
       "C 20.004617 11.618159 22.36068 5.930122 22.36068 0 \r\n",
       "C 22.36068 -5.930122 20.004617 -11.618159 15.811388 -15.811388 \r\n",
       "C 11.618159 -20.004617 5.930122 -22.36068 0 -22.36068 \r\n",
       "C -5.930122 -22.36068 -11.618159 -20.004617 -15.811388 -15.811388 \r\n",
       "C -20.004617 -11.618159 -22.36068 -5.930122 -22.36068 0 \r\n",
       "C -22.36068 5.930122 -20.004617 11.618159 -15.811388 15.811388 \r\n",
       "C -11.618159 20.004617 -5.930122 22.36068 0 22.36068 \r\n",
       "z\r\n",
       "\" id=\"md092e128b4\" style=\"stroke:#1f78b4;\"/>\r\n",
       "    </defs>\r\n",
       "    <g clip-path=\"url(#p057b598daa)\">\r\n",
       "     <use style=\"fill:#1f78b4;stroke:#1f78b4;\" x=\"28.989669\" xlink:href=\"#md092e128b4\" y=\"153.780618\"/>\r\n",
       "    </g>\r\n",
       "   </g>\r\n",
       "   <g id=\"PathCollection_2\">\r\n",
       "    <defs>\r\n",
       "     <path d=\"M 0 22.36068 \r\n",
       "C 5.930122 22.36068 11.618159 20.004617 15.811388 15.811388 \r\n",
       "C 20.004617 11.618159 22.36068 5.930122 22.36068 0 \r\n",
       "C 22.36068 -5.930122 20.004617 -11.618159 15.811388 -15.811388 \r\n",
       "C 11.618159 -20.004617 5.930122 -22.36068 0 -22.36068 \r\n",
       "C -5.930122 -22.36068 -11.618159 -20.004617 -15.811388 -15.811388 \r\n",
       "C -20.004617 -11.618159 -22.36068 -5.930122 -22.36068 0 \r\n",
       "C -22.36068 5.930122 -20.004617 11.618159 -15.811388 15.811388 \r\n",
       "C -11.618159 20.004617 -5.930122 22.36068 0 22.36068 \r\n",
       "z\r\n",
       "\" id=\"mfc36c93509\" style=\"stroke:#ff0000;\"/>\r\n",
       "    </defs>\r\n",
       "    <g clip-path=\"url(#p057b598daa)\">\r\n",
       "     <use style=\"fill:#ff0000;stroke:#ff0000;\" x=\"28.989669\" xlink:href=\"#mfc36c93509\" y=\"87.510194\"/>\r\n",
       "     <use style=\"fill:#ff0000;stroke:#ff0000;\" x=\"28.989669\" xlink:href=\"#mfc36c93509\" y=\"21.23977\"/>\r\n",
       "     <use style=\"fill:#ff0000;stroke:#ff0000;\" x=\"132.75\" xlink:href=\"#mfc36c93509\" y=\"21.23977\"/>\r\n",
       "     <use style=\"fill:#ff0000;stroke:#ff0000;\" x=\"236.510331\" xlink:href=\"#mfc36c93509\" y=\"21.23977\"/>\r\n",
       "    </g>\r\n",
       "   </g>\r\n",
       "   <g id=\"text_1\">\r\n",
       "    <g clip-path=\"url(#p057b598daa)\">\r\n",
       "     <!-- (0, 0) -->\r\n",
       "     <defs>\r\n",
       "      <path d=\"M 31 75.875 \r\n",
       "Q 24.46875 64.65625 21.28125 53.65625 \r\n",
       "Q 18.109375 42.671875 18.109375 31.390625 \r\n",
       "Q 18.109375 20.125 21.3125 9.0625 \r\n",
       "Q 24.515625 -2 31 -13.1875 \r\n",
       "L 23.1875 -13.1875 \r\n",
       "Q 15.875 -1.703125 12.234375 9.375 \r\n",
       "Q 8.59375 20.453125 8.59375 31.390625 \r\n",
       "Q 8.59375 42.28125 12.203125 53.3125 \r\n",
       "Q 15.828125 64.359375 23.1875 75.875 \r\n",
       "z\r\n",
       "\" id=\"DejaVuSans-40\"/>\r\n",
       "      <path d=\"M 31.78125 66.40625 \r\n",
       "Q 24.171875 66.40625 20.328125 58.90625 \r\n",
       "Q 16.5 51.421875 16.5 36.375 \r\n",
       "Q 16.5 21.390625 20.328125 13.890625 \r\n",
       "Q 24.171875 6.390625 31.78125 6.390625 \r\n",
       "Q 39.453125 6.390625 43.28125 13.890625 \r\n",
       "Q 47.125 21.390625 47.125 36.375 \r\n",
       "Q 47.125 51.421875 43.28125 58.90625 \r\n",
       "Q 39.453125 66.40625 31.78125 66.40625 \r\n",
       "z\r\n",
       "M 31.78125 74.21875 \r\n",
       "Q 44.046875 74.21875 50.515625 64.515625 \r\n",
       "Q 56.984375 54.828125 56.984375 36.375 \r\n",
       "Q 56.984375 17.96875 50.515625 8.265625 \r\n",
       "Q 44.046875 -1.421875 31.78125 -1.421875 \r\n",
       "Q 19.53125 -1.421875 13.0625 8.265625 \r\n",
       "Q 6.59375 17.96875 6.59375 36.375 \r\n",
       "Q 6.59375 54.828125 13.0625 64.515625 \r\n",
       "Q 19.53125 74.21875 31.78125 74.21875 \r\n",
       "z\r\n",
       "\" id=\"DejaVuSans-48\"/>\r\n",
       "      <path d=\"M 11.71875 12.40625 \r\n",
       "L 22.015625 12.40625 \r\n",
       "L 22.015625 4 \r\n",
       "L 14.015625 -11.625 \r\n",
       "L 7.71875 -11.625 \r\n",
       "L 11.71875 4 \r\n",
       "z\r\n",
       "\" id=\"DejaVuSans-44\"/>\r\n",
       "      <path id=\"DejaVuSans-32\"/>\r\n",
       "      <path d=\"M 8.015625 75.875 \r\n",
       "L 15.828125 75.875 \r\n",
       "Q 23.140625 64.359375 26.78125 53.3125 \r\n",
       "Q 30.421875 42.28125 30.421875 31.390625 \r\n",
       "Q 30.421875 20.453125 26.78125 9.375 \r\n",
       "Q 23.140625 -1.703125 15.828125 -13.1875 \r\n",
       "L 8.015625 -13.1875 \r\n",
       "Q 14.5 -2 17.703125 9.0625 \r\n",
       "Q 20.90625 20.125 20.90625 31.390625 \r\n",
       "Q 20.90625 42.671875 17.703125 53.65625 \r\n",
       "Q 14.5 64.65625 8.015625 75.875 \r\n",
       "z\r\n",
       "\" id=\"DejaVuSans-41\"/>\r\n",
       "     </defs>\r\n",
       "     <g transform=\"translate(12.859044 157.091868)scale(0.12 -0.12)\">\r\n",
       "      <use xlink:href=\"#DejaVuSans-40\"/>\r\n",
       "      <use x=\"39.013672\" xlink:href=\"#DejaVuSans-48\"/>\r\n",
       "      <use x=\"102.636719\" xlink:href=\"#DejaVuSans-44\"/>\r\n",
       "      <use x=\"134.423828\" xlink:href=\"#DejaVuSans-32\"/>\r\n",
       "      <use x=\"166.210938\" xlink:href=\"#DejaVuSans-48\"/>\r\n",
       "      <use x=\"229.833984\" xlink:href=\"#DejaVuSans-41\"/>\r\n",
       "     </g>\r\n",
       "    </g>\r\n",
       "   </g>\r\n",
       "   <g id=\"text_2\">\r\n",
       "    <g clip-path=\"url(#p057b598daa)\">\r\n",
       "     <!-- (0, 1) -->\r\n",
       "     <defs>\r\n",
       "      <path d=\"M 12.40625 8.296875 \r\n",
       "L 28.515625 8.296875 \r\n",
       "L 28.515625 63.921875 \r\n",
       "L 10.984375 60.40625 \r\n",
       "L 10.984375 69.390625 \r\n",
       "L 28.421875 72.90625 \r\n",
       "L 38.28125 72.90625 \r\n",
       "L 38.28125 8.296875 \r\n",
       "L 54.390625 8.296875 \r\n",
       "L 54.390625 0 \r\n",
       "L 12.40625 0 \r\n",
       "z\r\n",
       "\" id=\"DejaVuSans-49\"/>\r\n",
       "     </defs>\r\n",
       "     <g transform=\"translate(12.859044 90.821444)scale(0.12 -0.12)\">\r\n",
       "      <use xlink:href=\"#DejaVuSans-40\"/>\r\n",
       "      <use x=\"39.013672\" xlink:href=\"#DejaVuSans-48\"/>\r\n",
       "      <use x=\"102.636719\" xlink:href=\"#DejaVuSans-44\"/>\r\n",
       "      <use x=\"134.423828\" xlink:href=\"#DejaVuSans-32\"/>\r\n",
       "      <use x=\"166.210938\" xlink:href=\"#DejaVuSans-49\"/>\r\n",
       "      <use x=\"229.833984\" xlink:href=\"#DejaVuSans-41\"/>\r\n",
       "     </g>\r\n",
       "    </g>\r\n",
       "   </g>\r\n",
       "   <g id=\"text_3\">\r\n",
       "    <g clip-path=\"url(#p057b598daa)\">\r\n",
       "     <!-- (0, 2) -->\r\n",
       "     <defs>\r\n",
       "      <path d=\"M 19.1875 8.296875 \r\n",
       "L 53.609375 8.296875 \r\n",
       "L 53.609375 0 \r\n",
       "L 7.328125 0 \r\n",
       "L 7.328125 8.296875 \r\n",
       "Q 12.9375 14.109375 22.625 23.890625 \r\n",
       "Q 32.328125 33.6875 34.8125 36.53125 \r\n",
       "Q 39.546875 41.84375 41.421875 45.53125 \r\n",
       "Q 43.3125 49.21875 43.3125 52.78125 \r\n",
       "Q 43.3125 58.59375 39.234375 62.25 \r\n",
       "Q 35.15625 65.921875 28.609375 65.921875 \r\n",
       "Q 23.96875 65.921875 18.8125 64.3125 \r\n",
       "Q 13.671875 62.703125 7.8125 59.421875 \r\n",
       "L 7.8125 69.390625 \r\n",
       "Q 13.765625 71.78125 18.9375 73 \r\n",
       "Q 24.125 74.21875 28.421875 74.21875 \r\n",
       "Q 39.75 74.21875 46.484375 68.546875 \r\n",
       "Q 53.21875 62.890625 53.21875 53.421875 \r\n",
       "Q 53.21875 48.921875 51.53125 44.890625 \r\n",
       "Q 49.859375 40.875 45.40625 35.40625 \r\n",
       "Q 44.1875 33.984375 37.640625 27.21875 \r\n",
       "Q 31.109375 20.453125 19.1875 8.296875 \r\n",
       "z\r\n",
       "\" id=\"DejaVuSans-50\"/>\r\n",
       "     </defs>\r\n",
       "     <g transform=\"translate(12.859044 24.55102)scale(0.12 -0.12)\">\r\n",
       "      <use xlink:href=\"#DejaVuSans-40\"/>\r\n",
       "      <use x=\"39.013672\" xlink:href=\"#DejaVuSans-48\"/>\r\n",
       "      <use x=\"102.636719\" xlink:href=\"#DejaVuSans-44\"/>\r\n",
       "      <use x=\"134.423828\" xlink:href=\"#DejaVuSans-32\"/>\r\n",
       "      <use x=\"166.210938\" xlink:href=\"#DejaVuSans-50\"/>\r\n",
       "      <use x=\"229.833984\" xlink:href=\"#DejaVuSans-41\"/>\r\n",
       "     </g>\r\n",
       "    </g>\r\n",
       "   </g>\r\n",
       "   <g id=\"text_4\">\r\n",
       "    <g clip-path=\"url(#p057b598daa)\">\r\n",
       "     <!-- (1, 2) -->\r\n",
       "     <g transform=\"translate(116.619375 24.55102)scale(0.12 -0.12)\">\r\n",
       "      <use xlink:href=\"#DejaVuSans-40\"/>\r\n",
       "      <use x=\"39.013672\" xlink:href=\"#DejaVuSans-49\"/>\r\n",
       "      <use x=\"102.636719\" xlink:href=\"#DejaVuSans-44\"/>\r\n",
       "      <use x=\"134.423828\" xlink:href=\"#DejaVuSans-32\"/>\r\n",
       "      <use x=\"166.210938\" xlink:href=\"#DejaVuSans-50\"/>\r\n",
       "      <use x=\"229.833984\" xlink:href=\"#DejaVuSans-41\"/>\r\n",
       "     </g>\r\n",
       "    </g>\r\n",
       "   </g>\r\n",
       "   <g id=\"text_5\">\r\n",
       "    <g clip-path=\"url(#p057b598daa)\">\r\n",
       "     <!-- (2, 2) -->\r\n",
       "     <g transform=\"translate(220.379706 24.55102)scale(0.12 -0.12)\">\r\n",
       "      <use xlink:href=\"#DejaVuSans-40\"/>\r\n",
       "      <use x=\"39.013672\" xlink:href=\"#DejaVuSans-50\"/>\r\n",
       "      <use x=\"102.636719\" xlink:href=\"#DejaVuSans-44\"/>\r\n",
       "      <use x=\"134.423828\" xlink:href=\"#DejaVuSans-32\"/>\r\n",
       "      <use x=\"166.210938\" xlink:href=\"#DejaVuSans-50\"/>\r\n",
       "      <use x=\"229.833984\" xlink:href=\"#DejaVuSans-41\"/>\r\n",
       "     </g>\r\n",
       "    </g>\r\n",
       "   </g>\r\n",
       "  </g>\r\n",
       " </g>\r\n",
       " <defs>\r\n",
       "  <clipPath id=\"p057b598daa\">\r\n",
       "   <rect height=\"163.08\" width=\"251.1\" x=\"7.2\" y=\"7.2\"/>\r\n",
       "  </clipPath>\r\n",
       " </defs>\r\n",
       "</svg>\r\n"
      ],
      "text/plain": [
       "<Figure size 324x216 with 1 Axes>"
      ]
     },
     "metadata": {},
     "output_type": "display_data"
    }
   ],
   "source": [
    "abg.markov.visualise_ambulance_markov_chain(\n",
    "    num_of_servers=num_of_servers, \n",
    "    threshold=threshold, \n",
    "    system_capacity=system_capacity, \n",
    "    buffer_capacity=buffer_capacity\n",
    ")"
   ]
  },
  {
   "cell_type": "code",
   "execution_count": 7,
   "metadata": {},
   "outputs": [
    {
     "data": {
      "text/latex": [
       "$\\displaystyle \\left[\\begin{matrix}1 & \\frac{\\Lambda}{\\mu} & \\frac{\\Lambda}{\\mu}\\\\0 & 0 & \\frac{\\lambda^{A}}{\\mu}\\\\0 & 0 & \\frac{\\lambda^{A}}{\\mu}\\end{matrix}\\right]$"
      ],
      "text/plain": [
       "⎡   Λ   Λ  ⎤\n",
       "⎢1  ─   ─  ⎥\n",
       "⎢   μ   μ  ⎥\n",
       "⎢          ⎥\n",
       "⎢      λ__A⎥\n",
       "⎢0  0  ────⎥\n",
       "⎢       μ  ⎥\n",
       "⎢          ⎥\n",
       "⎢      λ__A⎥\n",
       "⎢0  0  ────⎥\n",
       "⎣       μ  ⎦"
      ]
     },
     "execution_count": 7,
     "metadata": {},
     "output_type": "execute_result"
    }
   ],
   "source": [
    "sym_state_recursive_ratios_1222"
   ]
  },
  {
   "cell_type": "markdown",
   "metadata": {},
   "source": [
    "## $C=1, T=1, N=2, M=1$"
   ]
  },
  {
   "cell_type": "code",
   "execution_count": 8,
   "metadata": {},
   "outputs": [],
   "source": [
    "num_of_servers = 1\n",
    "threshold = 1\n",
    "system_capacity = 2\n",
    "buffer_capacity = 1\n",
    "\n",
    "all_states_1121 = abg.markov.build_states(threshold=threshold, system_capacity=system_capacity, buffer_capacity=buffer_capacity)\n",
    "Q_sym_1121 = abg.markov.get_symbolic_transition_matrix(num_of_servers, threshold, system_capacity, buffer_capacity)\n",
    "sym_pi_1121 = get_symbolic_pi(num_of_servers=num_of_servers, threshold=threshold, system_capacity=system_capacity, buffer_capacity=buffer_capacity)\n",
    "sym_state_probs_1121 = [0 for _ in range(len(all_states_1121))]"
   ]
  },
  {
   "cell_type": "code",
   "execution_count": 9,
   "metadata": {},
   "outputs": [],
   "source": [
    "sym_state_probs_1121[0] = sym.factor(sym_pi_1121[a]) # (0,0)\n",
    "sym_state_probs_1121[1] = sym.factor(sym_pi_1121[b]) # (0,1)\n",
    "sym_state_probs_1121[2] = sym.factor(sym_pi_1121[c]) # (1,1)\n",
    "sym_state_probs_1121[3] = sym.factor(sym_pi_1121[d]) # (0,2)\n",
    "sym_state_probs_1121[4] = sym.factor(sym_pi_1121[e]) # (1,2)\n"
   ]
  },
  {
   "cell_type": "code",
   "execution_count": 10,
   "metadata": {
    "tags": []
   },
   "outputs": [],
   "source": [
    "sym_state_recursive_ratios_1121 = sym.zeros(buffer_capacity + 1, system_capacity + 1)\n",
    "sym_state_recursive_ratios_1121[0,0] = 1\n",
    "sym_state_recursive_ratios_1121[0,1] = sym.factor(sym_state_probs_1121[1] / sym_state_probs_1121[0])  # (0,0) -> (0,1) \n",
    "sym_state_recursive_ratios_1121[1,1] = sym.factor(sym_state_probs_1121[2] / sym_state_probs_1121[1])  # (0,1) -> (1,1)\n",
    "sym_state_recursive_ratios_1121[0,2] = sym.factor(sym_state_probs_1121[3] / sym_state_probs_1121[1])  # (0,1) -> (0,2)\n",
    "sym_state_recursive_ratios_1121[1,2] = sym.factor(sym_state_probs_1121[4] / sym_state_probs_1121[3])  # (0,2) -> (1,2)\n",
    "\n",
    "sym_state_recursive_ratios_right_1121 = sym_state_recursive_ratios_1121.copy()\n",
    "sym_state_recursive_ratios_right_1121[1,2] = sym.factor(sym_state_probs_1121[4] / sym_state_probs_1121[2])  # (1,1) -> (1,2)\n",
    "\n",
    "sym_state_recursive_ratios_P0_1121 = sym.zeros(buffer_capacity + 1, system_capacity + 1)\n",
    "sym_state_recursive_ratios_P0_1121[0,0] = 1\n",
    "sym_state_recursive_ratios_P0_1121[0,1] = sym.factor(sym_state_probs_1121[1] / sym_state_probs_1121[0])  # (0,0) -> (0,1) \n",
    "sym_state_recursive_ratios_P0_1121[1,1] = sym.factor(sym_state_probs_1121[2] / sym_state_probs_1121[0])  # (0,0) -> (1,1)\n",
    "sym_state_recursive_ratios_P0_1121[0,2] = sym.factor(sym_state_probs_1121[3] / sym_state_probs_1121[0])  # (0,0) -> (0,2)\n",
    "sym_state_recursive_ratios_P0_1121[1,2] = sym.factor(sym_state_probs_1121[4] / sym_state_probs_1121[0])  # (0,0) -> (1,2)\n"
   ]
  },
  {
   "cell_type": "code",
   "execution_count": 11,
   "metadata": {},
   "outputs": [
    {
     "data": {
      "text/plain": [
       "<networkx.classes.multidigraph.MultiDiGraph at 0x13f2aab4160>"
      ]
     },
     "execution_count": 11,
     "metadata": {},
     "output_type": "execute_result"
    },
    {
     "data": {
      "image/png": "[encoded data removed]",
      "image/svg+xml": [
       "<?xml version=\"1.0\" encoding=\"utf-8\" standalone=\"no\"?>\r\n",
       "<!DOCTYPE svg PUBLIC \"-//W3C//DTD SVG 1.1//EN\"\r\n",
       "  \"http://www.w3.org/Graphics/SVG/1.1/DTD/svg11.dtd\">\r\n",
       "<!-- Created with matplotlib (https://matplotlib.org/) -->\r\n",
       "<svg height=\"177.48pt\" version=\"1.1\" viewBox=\"0 0 181.8 177.48\" width=\"181.8pt\" xmlns=\"http://www.w3.org/2000/svg\" xmlns:xlink=\"http://www.w3.org/1999/xlink\">\r\n",
       " <defs>\r\n",
       "  <style type=\"text/css\">\r\n",
       "*{stroke-linecap:butt;stroke-linejoin:round;}\r\n",
       "  </style>\r\n",
       " </defs>\r\n",
       " <g id=\"figure_1\">\r\n",
       "  <g id=\"patch_1\">\r\n",
       "   <path d=\"M 0 177.48 \r\n",
       "L 181.8 177.48 \r\n",
       "L 181.8 0 \r\n",
       "L 0 0 \r\n",
       "z\r\n",
       "\" style=\"fill:none;\"/>\r\n",
       "  </g>\r\n",
       "  <g id=\"axes_1\">\r\n",
       "   <g id=\"patch_2\">\r\n",
       "    <path clip-path=\"url(#pd21866778b)\" d=\"M 31.984063 153.780618 \r\n",
       "Q 31.984063 124.975391 31.984063 97.288199 \r\n",
       "\" style=\"fill:none;stroke:#000000;stroke-linecap:round;\"/>\r\n",
       "    <path clip-path=\"url(#pd21866778b)\" d=\"M 29.984063 101.288199 \r\n",
       "L 31.984063 97.288199 \r\n",
       "L 33.984063 101.288199 \r\n",
       "L 29.984063 101.288199 \r\n",
       "z\r\n",
       "\" style=\"stroke:#000000;stroke-linecap:round;\"/>\r\n",
       "   </g>\r\n",
       "   <g id=\"patch_3\">\r\n",
       "    <path clip-path=\"url(#pd21866778b)\" d=\"M 31.984063 87.510194 \r\n",
       "Q 91.943027 87.510194 150.783958 87.510194 \r\n",
       "\" style=\"fill:none;stroke:#000000;stroke-linecap:round;\"/>\r\n",
       "    <path clip-path=\"url(#pd21866778b)\" d=\"M 146.783958 85.510194 \r\n",
       "L 150.783958 87.510194 \r\n",
       "L 146.783958 89.510194 \r\n",
       "L 146.783958 85.510194 \r\n",
       "z\r\n",
       "\" style=\"stroke:#000000;stroke-linecap:round;\"/>\r\n",
       "   </g>\r\n",
       "   <g id=\"patch_4\">\r\n",
       "    <path clip-path=\"url(#pd21866778b)\" d=\"M 31.984063 87.510194 \r\n",
       "Q 31.984063 58.704968 31.984063 31.017775 \r\n",
       "\" style=\"fill:none;stroke:#000000;stroke-linecap:round;\"/>\r\n",
       "    <path clip-path=\"url(#pd21866778b)\" d=\"M 29.984063 35.017775 \r\n",
       "L 31.984063 31.017775 \r\n",
       "L 33.984063 35.017775 \r\n",
       "L 29.984063 35.017775 \r\n",
       "z\r\n",
       "\" style=\"stroke:#000000;stroke-linecap:round;\"/>\r\n",
       "   </g>\r\n",
       "   <g id=\"patch_5\">\r\n",
       "    <path clip-path=\"url(#pd21866778b)\" d=\"M 160.562012 87.510194 \r\n",
       "Q 160.562012 58.704968 160.562012 31.017775 \r\n",
       "\" style=\"fill:none;stroke:#000000;stroke-linecap:round;\"/>\r\n",
       "    <path clip-path=\"url(#pd21866778b)\" d=\"M 158.562012 35.017775 \r\n",
       "L 160.562012 31.017775 \r\n",
       "L 162.562012 35.017775 \r\n",
       "L 158.562012 35.017775 \r\n",
       "z\r\n",
       "\" style=\"stroke:#000000;stroke-linecap:round;\"/>\r\n",
       "   </g>\r\n",
       "   <g id=\"patch_6\">\r\n",
       "    <path clip-path=\"url(#pd21866778b)\" d=\"M 31.984063 21.23977 \r\n",
       "Q 91.943027 21.23977 150.783958 21.23977 \r\n",
       "\" style=\"fill:none;stroke:#000000;stroke-linecap:round;\"/>\r\n",
       "    <path clip-path=\"url(#pd21866778b)\" d=\"M 146.783958 19.23977 \r\n",
       "L 150.783958 21.23977 \r\n",
       "L 146.783958 23.23977 \r\n",
       "L 146.783958 19.23977 \r\n",
       "z\r\n",
       "\" style=\"stroke:#000000;stroke-linecap:round;\"/>\r\n",
       "   </g>\r\n",
       "   <g id=\"PathCollection_1\">\r\n",
       "    <defs>\r\n",
       "     <path d=\"M 0 22.36068 \r\n",
       "C 5.930122 22.36068 11.618159 20.004617 15.811388 15.811388 \r\n",
       "C 20.004617 11.618159 22.36068 5.930122 22.36068 0 \r\n",
       "C 22.36068 -5.930122 20.004617 -11.618159 15.811388 -15.811388 \r\n",
       "C 11.618159 -20.004617 5.930122 -22.36068 0 -22.36068 \r\n",
       "C -5.930122 -22.36068 -11.618159 -20.004617 -15.811388 -15.811388 \r\n",
       "C -20.004617 -11.618159 -22.36068 -5.930122 -22.36068 0 \r\n",
       "C -22.36068 5.930122 -20.004617 11.618159 -15.811388 15.811388 \r\n",
       "C -11.618159 20.004617 -5.930122 22.36068 0 22.36068 \r\n",
       "z\r\n",
       "\" id=\"m192982998a\" style=\"stroke:#1f78b4;\"/>\r\n",
       "    </defs>\r\n",
       "    <g clip-path=\"url(#pd21866778b)\">\r\n",
       "     <use style=\"fill:#1f78b4;stroke:#1f78b4;\" x=\"31.984063\" xlink:href=\"#m192982998a\" y=\"153.780618\"/>\r\n",
       "    </g>\r\n",
       "   </g>\r\n",
       "   <g id=\"PathCollection_2\">\r\n",
       "    <defs>\r\n",
       "     <path d=\"M 0 22.36068 \r\n",
       "C 5.930122 22.36068 11.618159 20.004617 15.811388 15.811388 \r\n",
       "C 20.004617 11.618159 22.36068 5.930122 22.36068 0 \r\n",
       "C 22.36068 -5.930122 20.004617 -11.618159 15.811388 -15.811388 \r\n",
       "C 11.618159 -20.004617 5.930122 -22.36068 0 -22.36068 \r\n",
       "C -5.930122 -22.36068 -11.618159 -20.004617 -15.811388 -15.811388 \r\n",
       "C -20.004617 -11.618159 -22.36068 -5.930122 -22.36068 0 \r\n",
       "C -22.36068 5.930122 -20.004617 11.618159 -15.811388 15.811388 \r\n",
       "C -11.618159 20.004617 -5.930122 22.36068 0 22.36068 \r\n",
       "z\r\n",
       "\" id=\"mcb8881b759\" style=\"stroke:#ff0000;\"/>\r\n",
       "    </defs>\r\n",
       "    <g clip-path=\"url(#pd21866778b)\">\r\n",
       "     <use style=\"fill:#ff0000;stroke:#ff0000;\" x=\"31.984063\" xlink:href=\"#mcb8881b759\" y=\"87.510194\"/>\r\n",
       "     <use style=\"fill:#ff0000;stroke:#ff0000;\" x=\"160.562012\" xlink:href=\"#mcb8881b759\" y=\"87.510194\"/>\r\n",
       "     <use style=\"fill:#ff0000;stroke:#ff0000;\" x=\"31.984063\" xlink:href=\"#mcb8881b759\" y=\"21.23977\"/>\r\n",
       "     <use style=\"fill:#ff0000;stroke:#ff0000;\" x=\"160.562012\" xlink:href=\"#mcb8881b759\" y=\"21.23977\"/>\r\n",
       "    </g>\r\n",
       "   </g>\r\n",
       "   <g id=\"text_1\">\r\n",
       "    <g clip-path=\"url(#pd21866778b)\">\r\n",
       "     <!-- (0, 0) -->\r\n",
       "     <defs>\r\n",
       "      <path d=\"M 31 75.875 \r\n",
       "Q 24.46875 64.65625 21.28125 53.65625 \r\n",
       "Q 18.109375 42.671875 18.109375 31.390625 \r\n",
       "Q 18.109375 20.125 21.3125 9.0625 \r\n",
       "Q 24.515625 -2 31 -13.1875 \r\n",
       "L 23.1875 -13.1875 \r\n",
       "Q 15.875 -1.703125 12.234375 9.375 \r\n",
       "Q 8.59375 20.453125 8.59375 31.390625 \r\n",
       "Q 8.59375 42.28125 12.203125 53.3125 \r\n",
       "Q 15.828125 64.359375 23.1875 75.875 \r\n",
       "z\r\n",
       "\" id=\"DejaVuSans-40\"/>\r\n",
       "      <path d=\"M 31.78125 66.40625 \r\n",
       "Q 24.171875 66.40625 20.328125 58.90625 \r\n",
       "Q 16.5 51.421875 16.5 36.375 \r\n",
       "Q 16.5 21.390625 20.328125 13.890625 \r\n",
       "Q 24.171875 6.390625 31.78125 6.390625 \r\n",
       "Q 39.453125 6.390625 43.28125 13.890625 \r\n",
       "Q 47.125 21.390625 47.125 36.375 \r\n",
       "Q 47.125 51.421875 43.28125 58.90625 \r\n",
       "Q 39.453125 66.40625 31.78125 66.40625 \r\n",
       "z\r\n",
       "M 31.78125 74.21875 \r\n",
       "Q 44.046875 74.21875 50.515625 64.515625 \r\n",
       "Q 56.984375 54.828125 56.984375 36.375 \r\n",
       "Q 56.984375 17.96875 50.515625 8.265625 \r\n",
       "Q 44.046875 -1.421875 31.78125 -1.421875 \r\n",
       "Q 19.53125 -1.421875 13.0625 8.265625 \r\n",
       "Q 6.59375 17.96875 6.59375 36.375 \r\n",
       "Q 6.59375 54.828125 13.0625 64.515625 \r\n",
       "Q 19.53125 74.21875 31.78125 74.21875 \r\n",
       "z\r\n",
       "\" id=\"DejaVuSans-48\"/>\r\n",
       "      <path d=\"M 11.71875 12.40625 \r\n",
       "L 22.015625 12.40625 \r\n",
       "L 22.015625 4 \r\n",
       "L 14.015625 -11.625 \r\n",
       "L 7.71875 -11.625 \r\n",
       "L 11.71875 4 \r\n",
       "z\r\n",
       "\" id=\"DejaVuSans-44\"/>\r\n",
       "      <path id=\"DejaVuSans-32\"/>\r\n",
       "      <path d=\"M 8.015625 75.875 \r\n",
       "L 15.828125 75.875 \r\n",
       "Q 23.140625 64.359375 26.78125 53.3125 \r\n",
       "Q 30.421875 42.28125 30.421875 31.390625 \r\n",
       "Q 30.421875 20.453125 26.78125 9.375 \r\n",
       "Q 23.140625 -1.703125 15.828125 -13.1875 \r\n",
       "L 8.015625 -13.1875 \r\n",
       "Q 14.5 -2 17.703125 9.0625 \r\n",
       "Q 20.90625 20.125 20.90625 31.390625 \r\n",
       "Q 20.90625 42.671875 17.703125 53.65625 \r\n",
       "Q 14.5 64.65625 8.015625 75.875 \r\n",
       "z\r\n",
       "\" id=\"DejaVuSans-41\"/>\r\n",
       "     </defs>\r\n",
       "     <g transform=\"translate(15.853438 157.091868)scale(0.12 -0.12)\">\r\n",
       "      <use xlink:href=\"#DejaVuSans-40\"/>\r\n",
       "      <use x=\"39.013672\" xlink:href=\"#DejaVuSans-48\"/>\r\n",
       "      <use x=\"102.636719\" xlink:href=\"#DejaVuSans-44\"/>\r\n",
       "      <use x=\"134.423828\" xlink:href=\"#DejaVuSans-32\"/>\r\n",
       "      <use x=\"166.210938\" xlink:href=\"#DejaVuSans-48\"/>\r\n",
       "      <use x=\"229.833984\" xlink:href=\"#DejaVuSans-41\"/>\r\n",
       "     </g>\r\n",
       "    </g>\r\n",
       "   </g>\r\n",
       "   <g id=\"text_2\">\r\n",
       "    <g clip-path=\"url(#pd21866778b)\">\r\n",
       "     <!-- (0, 1) -->\r\n",
       "     <defs>\r\n",
       "      <path d=\"M 12.40625 8.296875 \r\n",
       "L 28.515625 8.296875 \r\n",
       "L 28.515625 63.921875 \r\n",
       "L 10.984375 60.40625 \r\n",
       "L 10.984375 69.390625 \r\n",
       "L 28.421875 72.90625 \r\n",
       "L 38.28125 72.90625 \r\n",
       "L 38.28125 8.296875 \r\n",
       "L 54.390625 8.296875 \r\n",
       "L 54.390625 0 \r\n",
       "L 12.40625 0 \r\n",
       "z\r\n",
       "\" id=\"DejaVuSans-49\"/>\r\n",
       "     </defs>\r\n",
       "     <g transform=\"translate(15.853438 90.821444)scale(0.12 -0.12)\">\r\n",
       "      <use xlink:href=\"#DejaVuSans-40\"/>\r\n",
       "      <use x=\"39.013672\" xlink:href=\"#DejaVuSans-48\"/>\r\n",
       "      <use x=\"102.636719\" xlink:href=\"#DejaVuSans-44\"/>\r\n",
       "      <use x=\"134.423828\" xlink:href=\"#DejaVuSans-32\"/>\r\n",
       "      <use x=\"166.210938\" xlink:href=\"#DejaVuSans-49\"/>\r\n",
       "      <use x=\"229.833984\" xlink:href=\"#DejaVuSans-41\"/>\r\n",
       "     </g>\r\n",
       "    </g>\r\n",
       "   </g>\r\n",
       "   <g id=\"text_3\">\r\n",
       "    <g clip-path=\"url(#pd21866778b)\">\r\n",
       "     <!-- (1, 1) -->\r\n",
       "     <g transform=\"translate(144.431387 90.821444)scale(0.12 -0.12)\">\r\n",
       "      <use xlink:href=\"#DejaVuSans-40\"/>\r\n",
       "      <use x=\"39.013672\" xlink:href=\"#DejaVuSans-49\"/>\r\n",
       "      <use x=\"102.636719\" xlink:href=\"#DejaVuSans-44\"/>\r\n",
       "      <use x=\"134.423828\" xlink:href=\"#DejaVuSans-32\"/>\r\n",
       "      <use x=\"166.210938\" xlink:href=\"#DejaVuSans-49\"/>\r\n",
       "      <use x=\"229.833984\" xlink:href=\"#DejaVuSans-41\"/>\r\n",
       "     </g>\r\n",
       "    </g>\r\n",
       "   </g>\r\n",
       "   <g id=\"text_4\">\r\n",
       "    <g clip-path=\"url(#pd21866778b)\">\r\n",
       "     <!-- (0, 2) -->\r\n",
       "     <defs>\r\n",
       "      <path d=\"M 19.1875 8.296875 \r\n",
       "L 53.609375 8.296875 \r\n",
       "L 53.609375 0 \r\n",
       "L 7.328125 0 \r\n",
       "L 7.328125 8.296875 \r\n",
       "Q 12.9375 14.109375 22.625 23.890625 \r\n",
       "Q 32.328125 33.6875 34.8125 36.53125 \r\n",
       "Q 39.546875 41.84375 41.421875 45.53125 \r\n",
       "Q 43.3125 49.21875 43.3125 52.78125 \r\n",
       "Q 43.3125 58.59375 39.234375 62.25 \r\n",
       "Q 35.15625 65.921875 28.609375 65.921875 \r\n",
       "Q 23.96875 65.921875 18.8125 64.3125 \r\n",
       "Q 13.671875 62.703125 7.8125 59.421875 \r\n",
       "L 7.8125 69.390625 \r\n",
       "Q 13.765625 71.78125 18.9375 73 \r\n",
       "Q 24.125 74.21875 28.421875 74.21875 \r\n",
       "Q 39.75 74.21875 46.484375 68.546875 \r\n",
       "Q 53.21875 62.890625 53.21875 53.421875 \r\n",
       "Q 53.21875 48.921875 51.53125 44.890625 \r\n",
       "Q 49.859375 40.875 45.40625 35.40625 \r\n",
       "Q 44.1875 33.984375 37.640625 27.21875 \r\n",
       "Q 31.109375 20.453125 19.1875 8.296875 \r\n",
       "z\r\n",
       "\" id=\"DejaVuSans-50\"/>\r\n",
       "     </defs>\r\n",
       "     <g transform=\"translate(15.853438 24.55102)scale(0.12 -0.12)\">\r\n",
       "      <use xlink:href=\"#DejaVuSans-40\"/>\r\n",
       "      <use x=\"39.013672\" xlink:href=\"#DejaVuSans-48\"/>\r\n",
       "      <use x=\"102.636719\" xlink:href=\"#DejaVuSans-44\"/>\r\n",
       "      <use x=\"134.423828\" xlink:href=\"#DejaVuSans-32\"/>\r\n",
       "      <use x=\"166.210938\" xlink:href=\"#DejaVuSans-50\"/>\r\n",
       "      <use x=\"229.833984\" xlink:href=\"#DejaVuSans-41\"/>\r\n",
       "     </g>\r\n",
       "    </g>\r\n",
       "   </g>\r\n",
       "   <g id=\"text_5\">\r\n",
       "    <g clip-path=\"url(#pd21866778b)\">\r\n",
       "     <!-- (1, 2) -->\r\n",
       "     <g transform=\"translate(144.431387 24.55102)scale(0.12 -0.12)\">\r\n",
       "      <use xlink:href=\"#DejaVuSans-40\"/>\r\n",
       "      <use x=\"39.013672\" xlink:href=\"#DejaVuSans-49\"/>\r\n",
       "      <use x=\"102.636719\" xlink:href=\"#DejaVuSans-44\"/>\r\n",
       "      <use x=\"134.423828\" xlink:href=\"#DejaVuSans-32\"/>\r\n",
       "      <use x=\"166.210938\" xlink:href=\"#DejaVuSans-50\"/>\r\n",
       "      <use x=\"229.833984\" xlink:href=\"#DejaVuSans-41\"/>\r\n",
       "     </g>\r\n",
       "    </g>\r\n",
       "   </g>\r\n",
       "  </g>\r\n",
       " </g>\r\n",
       " <defs>\r\n",
       "  <clipPath id=\"pd21866778b\">\r\n",
       "   <rect height=\"163.08\" width=\"167.4\" x=\"7.2\" y=\"7.2\"/>\r\n",
       "  </clipPath>\r\n",
       " </defs>\r\n",
       "</svg>\r\n"
      ],
      "text/plain": [
       "<Figure size 216x216 with 1 Axes>"
      ]
     },
     "metadata": {},
     "output_type": "display_data"
    }
   ],
   "source": [
    "abg.markov.visualise_ambulance_markov_chain(\n",
    "    num_of_servers=num_of_servers, \n",
    "    threshold=threshold, \n",
    "    system_capacity=system_capacity, \n",
    "    buffer_capacity=buffer_capacity\n",
    ")"
   ]
  },
  {
   "cell_type": "code",
   "execution_count": 12,
   "metadata": {},
   "outputs": [
    {
     "data": {
      "text/latex": [
       "$\\displaystyle \\left[ \\left( 0, \\  0\\right), \\  \\left( 0, \\  1\\right), \\  \\left( 1, \\  1\\right), \\  \\left( 0, \\  2\\right), \\  \\left( 1, \\  2\\right)\\right]$"
      ],
      "text/plain": [
       "[(0, 0), (0, 1), (1, 1), (0, 2), (1, 2)]"
      ]
     },
     "execution_count": 12,
     "metadata": {},
     "output_type": "execute_result"
    }
   ],
   "source": [
    "all_states_1121"
   ]
  },
  {
   "cell_type": "code",
   "execution_count": 13,
   "metadata": {},
   "outputs": [
    {
     "data": {
      "text/latex": [
       "$\\displaystyle \\left[ \\frac{\\mu^{3} \\left(\\lambda^{A} + \\mu\\right)}{\\Lambda \\left(\\lambda^{A}\\right)^{2} \\lambda^{o} + \\Lambda \\left(\\lambda^{A}\\right)^{2} \\mu + \\Lambda \\lambda^{A} \\left(\\lambda^{o}\\right)^{2} + 3 \\Lambda \\lambda^{A} \\lambda^{o} \\mu + 2 \\Lambda \\lambda^{A} \\mu^{2} + \\Lambda \\lambda^{o} \\mu^{2} + \\Lambda \\mu^{3} + \\lambda^{A} \\mu^{3} + \\mu^{4}}, \\  \\frac{\\Lambda \\mu^{2} \\left(\\lambda^{A} + \\mu\\right)}{\\Lambda \\left(\\lambda^{A}\\right)^{2} \\lambda^{o} + \\Lambda \\left(\\lambda^{A}\\right)^{2} \\mu + \\Lambda \\lambda^{A} \\left(\\lambda^{o}\\right)^{2} + 3 \\Lambda \\lambda^{A} \\lambda^{o} \\mu + 2 \\Lambda \\lambda^{A} \\mu^{2} + \\Lambda \\lambda^{o} \\mu^{2} + \\Lambda \\mu^{3} + \\lambda^{A} \\mu^{3} + \\mu^{4}}, \\  \\frac{\\Lambda \\lambda^{A} \\mu \\left(\\lambda^{A} + \\lambda^{o} + \\mu\\right)}{\\Lambda \\left(\\lambda^{A}\\right)^{2} \\lambda^{o} + \\Lambda \\left(\\lambda^{A}\\right)^{2} \\mu + \\Lambda \\lambda^{A} \\left(\\lambda^{o}\\right)^{2} + 3 \\Lambda \\lambda^{A} \\lambda^{o} \\mu + 2 \\Lambda \\lambda^{A} \\mu^{2} + \\Lambda \\lambda^{o} \\mu^{2} + \\Lambda \\mu^{3} + \\lambda^{A} \\mu^{3} + \\mu^{4}}, \\  \\frac{\\Lambda \\lambda^{o} \\mu^{2}}{\\Lambda \\left(\\lambda^{A}\\right)^{2} \\lambda^{o} + \\Lambda \\left(\\lambda^{A}\\right)^{2} \\mu + \\Lambda \\lambda^{A} \\left(\\lambda^{o}\\right)^{2} + 3 \\Lambda \\lambda^{A} \\lambda^{o} \\mu + 2 \\Lambda \\lambda^{A} \\mu^{2} + \\Lambda \\lambda^{o} \\mu^{2} + \\Lambda \\mu^{3} + \\lambda^{A} \\mu^{3} + \\mu^{4}}, \\  \\frac{\\Lambda \\lambda^{A} \\lambda^{o} \\left(\\lambda^{A} + \\lambda^{o} + 2 \\mu\\right)}{\\Lambda \\left(\\lambda^{A}\\right)^{2} \\lambda^{o} + \\Lambda \\left(\\lambda^{A}\\right)^{2} \\mu + \\Lambda \\lambda^{A} \\left(\\lambda^{o}\\right)^{2} + 3 \\Lambda \\lambda^{A} \\lambda^{o} \\mu + 2 \\Lambda \\lambda^{A} \\mu^{2} + \\Lambda \\lambda^{o} \\mu^{2} + \\Lambda \\mu^{3} + \\lambda^{A} \\mu^{3} + \\mu^{4}}\\right]$"
      ],
      "text/plain": [
       "⎡                                               3                             \n",
       "⎢                                              μ ⋅(λ__A + μ)                  \n",
       "⎢─────────────────────────────────────────────────────────────────────────────\n",
       "⎢      2              2                2                               2      \n",
       "⎣Λ⋅λ__A ⋅λ__o + Λ⋅λ__A ⋅μ + Λ⋅λ__A⋅λ__o  + 3⋅Λ⋅λ__A⋅λ__o⋅μ + 2⋅Λ⋅λ__A⋅μ  + Λ⋅λ\n",
       "\n",
       "                                                                              \n",
       "                                                                           Λ⋅μ\n",
       "────────────────────────────, ────────────────────────────────────────────────\n",
       "     2      3         3    4        2              2                2         \n",
       "__o⋅μ  + Λ⋅μ  + λ__A⋅μ  + μ   Λ⋅λ__A ⋅λ__o + Λ⋅λ__A ⋅μ + Λ⋅λ__A⋅λ__o  + 3⋅Λ⋅λ_\n",
       "\n",
       "2                                                                             \n",
       " ⋅(λ__A + μ)                                                                  \n",
       "─────────────────────────────────────────────────────────, ───────────────────\n",
       "                      2           2      3         3    4        2            \n",
       "_A⋅λ__o⋅μ + 2⋅Λ⋅λ__A⋅μ  + Λ⋅λ__o⋅μ  + Λ⋅μ  + λ__A⋅μ  + μ   Λ⋅λ__A ⋅λ__o + Λ⋅λ_\n",
       "\n",
       "                                                                              \n",
       "                     Λ⋅λ__A⋅μ⋅(λ__A + λ__o + μ)                               \n",
       "──────────────────────────────────────────────────────────────────────────────\n",
       "  2                2                               2           2      3       \n",
       "_A ⋅μ + Λ⋅λ__A⋅λ__o  + 3⋅Λ⋅λ__A⋅λ__o⋅μ + 2⋅Λ⋅λ__A⋅μ  + Λ⋅λ__o⋅μ  + Λ⋅μ  + λ__A\n",
       "\n",
       "                                                                  2           \n",
       "                                                          Λ⋅λ__o⋅μ            \n",
       "────────, ────────────────────────────────────────────────────────────────────\n",
       "  3    4        2              2                2                             \n",
       "⋅μ  + μ   Λ⋅λ__A ⋅λ__o + Λ⋅λ__A ⋅μ + Λ⋅λ__A⋅λ__o  + 3⋅Λ⋅λ__A⋅λ__o⋅μ + 2⋅Λ⋅λ__A\n",
       "\n",
       "                                                                              \n",
       "                                                                            Λ⋅\n",
       "─────────────────────────────────────, ───────────────────────────────────────\n",
       "  2           2      3         3    4        2              2                2\n",
       "⋅μ  + Λ⋅λ__o⋅μ  + Λ⋅μ  + λ__A⋅μ  + μ   Λ⋅λ__A ⋅λ__o + Λ⋅λ__A ⋅μ + Λ⋅λ__A⋅λ__o \n",
       "\n",
       "                                                                  ⎤\n",
       "λ__A⋅λ__o⋅(λ__A + λ__o + 2⋅μ)                                     ⎥\n",
       "──────────────────────────────────────────────────────────────────⎥\n",
       "                               2           2      3         3    4⎥\n",
       " + 3⋅Λ⋅λ__A⋅λ__o⋅μ + 2⋅Λ⋅λ__A⋅μ  + Λ⋅λ__o⋅μ  + Λ⋅μ  + λ__A⋅μ  + μ ⎦"
      ]
     },
     "execution_count": 13,
     "metadata": {},
     "output_type": "execute_result"
    }
   ],
   "source": [
    "sym_state_probs_1121"
   ]
  },
  {
   "cell_type": "code",
   "execution_count": 14,
   "metadata": {},
   "outputs": [
    {
     "data": {
      "text/latex": [
       "$\\displaystyle \\left[\\begin{matrix}- \\Lambda & \\Lambda & 0 & 0 & 0\\\\\\mu & - \\lambda^{A} - \\lambda^{o} - \\mu & \\lambda^{A} & \\lambda^{o} & 0\\\\0 & \\mu & - \\lambda^{o} - \\mu & 0 & \\lambda^{o}\\\\0 & \\mu & 0 & - \\lambda^{A} - \\mu & \\lambda^{A}\\\\0 & 0 & \\mu & 0 & - \\mu\\end{matrix}\\right]$"
      ],
      "text/plain": [
       "⎡-Λ         Λ              0          0       0  ⎤\n",
       "⎢                                                ⎥\n",
       "⎢μ   -λ__A - λ__o - μ    λ__A       λ__o      0  ⎥\n",
       "⎢                                                ⎥\n",
       "⎢0          μ          -λ__o - μ      0      λ__o⎥\n",
       "⎢                                                ⎥\n",
       "⎢0          μ              0      -λ__A - μ  λ__A⎥\n",
       "⎢                                                ⎥\n",
       "⎣0          0              μ          0       -μ ⎦"
      ]
     },
     "execution_count": 14,
     "metadata": {},
     "output_type": "execute_result"
    }
   ],
   "source": [
    "Q_sym_1121"
   ]
  },
  {
   "cell_type": "code",
   "execution_count": 15,
   "metadata": {},
   "outputs": [
    {
     "data": {
      "text/latex": [
       "$\\displaystyle \\left( \\left[\\begin{matrix}1 & \\frac{\\Lambda}{\\mu} & \\frac{\\lambda^{o}}{\\lambda^{A} + \\mu}\\\\0 & \\frac{\\lambda^{A} \\left(\\lambda^{A} + \\lambda^{o} + \\mu\\right)}{\\mu \\left(\\lambda^{A} + \\mu\\right)} & \\frac{\\lambda^{A} \\left(\\lambda^{A} + \\lambda^{o} + 2 \\mu\\right)}{\\mu^{2}}\\end{matrix}\\right], \\  \\left[\\begin{matrix}1 & \\frac{\\Lambda}{\\mu} & \\frac{\\lambda^{o}}{\\lambda^{A} + \\mu}\\\\0 & \\frac{\\lambda^{A} \\left(\\lambda^{A} + \\lambda^{o} + \\mu\\right)}{\\mu \\left(\\lambda^{A} + \\mu\\right)} & \\frac{\\lambda^{o} \\left(\\lambda^{A} + \\lambda^{o} + 2 \\mu\\right)}{\\mu \\left(\\lambda^{A} + \\lambda^{o} + \\mu\\right)}\\end{matrix}\\right]\\right)$"
      ],
      "text/plain": [
       "⎛⎡             Λ                       λ__o          ⎤                        \n",
       "⎜⎢1            ─                     ────────        ⎥  ⎡             Λ       \n",
       "⎜⎢             μ                     λ__A + μ        ⎥  ⎢1            ─       \n",
       "⎜⎢                                                   ⎥  ⎢             μ       \n",
       "⎜⎢   λ__A⋅(λ__A + λ__o + μ)  λ__A⋅(λ__A + λ__o + 2⋅μ)⎥, ⎢                     \n",
       "⎜⎢0  ──────────────────────  ────────────────────────⎥  ⎢   λ__A⋅(λ__A + λ__o \n",
       "⎜⎢        μ⋅(λ__A + μ)                   2           ⎥  ⎢0  ──────────────────\n",
       "⎝⎣                                      μ            ⎦  ⎣        μ⋅(λ__A + μ) \n",
       "\n",
       "                               ⎞\n",
       "                λ__o          ⎤⎟\n",
       "              ────────        ⎥⎟\n",
       "              λ__A + μ        ⎥⎟\n",
       "                              ⎥⎟\n",
       "+ μ)  λ__o⋅(λ__A + λ__o + 2⋅μ)⎥⎟\n",
       "────  ────────────────────────⎥⎟\n",
       "        μ⋅(λ__A + λ__o + μ)   ⎦⎠"
      ]
     },
     "execution_count": 15,
     "metadata": {},
     "output_type": "execute_result"
    }
   ],
   "source": [
    "sym_state_recursive_ratios_1121, sym_state_recursive_ratios_right_1121"
   ]
  },
  {
   "cell_type": "code",
   "execution_count": 16,
   "metadata": {},
   "outputs": [
    {
     "data": {
      "text/latex": [
       "$\\displaystyle \\left( \\mu^{3} \\left(\\lambda^{A} + \\mu\\right), \\  \\left[\\begin{matrix}1 & \\frac{\\Lambda}{\\mu} & \\frac{\\Lambda \\lambda^{o}}{\\mu \\left(\\lambda^{A} + \\mu\\right)}\\\\0 & \\frac{\\Lambda \\lambda^{A} \\left(\\lambda^{A} + \\lambda^{o} + \\mu\\right)}{\\mu^{2} \\left(\\lambda^{A} + \\mu\\right)} & \\frac{\\Lambda \\lambda^{A} \\lambda^{o} \\left(\\lambda^{A} + \\lambda^{o} + 2 \\mu\\right)}{\\mu^{3} \\left(\\lambda^{A} + \\mu\\right)}\\end{matrix}\\right]\\right)$"
      ],
      "text/plain": [
       "⎛               ⎡              Λ                          Λ⋅λ__o             ⎤\n",
       "⎜               ⎢1             ─                       ────────────          ⎥\n",
       "⎜               ⎢              μ                       μ⋅(λ__A + μ)          ⎥\n",
       "⎜ 3             ⎢                                                            ⎥\n",
       "⎜μ ⋅(λ__A + μ), ⎢   Λ⋅λ__A⋅(λ__A + λ__o + μ)  Λ⋅λ__A⋅λ__o⋅(λ__A + λ__o + 2⋅μ)⎥\n",
       "⎜               ⎢0  ────────────────────────  ───────────────────────────────⎥\n",
       "⎜               ⎢         2                             3                    ⎥\n",
       "⎝               ⎣        μ ⋅(λ__A + μ)                 μ ⋅(λ__A + μ)         ⎦\n",
       "\n",
       "⎞\n",
       "⎟\n",
       "⎟\n",
       "⎟\n",
       "⎟\n",
       "⎟\n",
       "⎟\n",
       "⎠"
      ]
     },
     "execution_count": 16,
     "metadata": {},
     "output_type": "execute_result"
    }
   ],
   "source": [
    "sym.fraction(sym_state_probs_1121[0])[0], sym_state_recursive_ratios_P0_1121\n"
   ]
  },
  {
   "cell_type": "code",
   "execution_count": null,
   "metadata": {},
   "outputs": [],
   "source": []
  },
  {
   "cell_type": "markdown",
   "metadata": {},
   "source": [
    "## $C=1, T=1, N=2, M=2$"
   ]
  },
  {
   "cell_type": "code",
   "execution_count": 17,
   "metadata": {},
   "outputs": [],
   "source": [
    "num_of_servers = 1\n",
    "threshold = 1\n",
    "system_capacity = 2\n",
    "buffer_capacity = 2\n",
    "\n",
    "all_states_1122 = abg.markov.build_states(threshold=threshold, system_capacity=system_capacity, buffer_capacity=buffer_capacity)\n",
    "Q_sym_1122 = abg.markov.get_symbolic_transition_matrix(num_of_servers, threshold, system_capacity, buffer_capacity)\n",
    "sym_pi_1122 = get_symbolic_pi(num_of_servers=num_of_servers, threshold=threshold, system_capacity=system_capacity, buffer_capacity=buffer_capacity)\n",
    "sym_state_probs_1122 = [0 for _ in range(len(all_states_1122))]"
   ]
  },
  {
   "cell_type": "code",
   "execution_count": 18,
   "metadata": {},
   "outputs": [],
   "source": [
    "sym_Lambda = sym.symbols(\"Lambda\")\n",
    "sym_lambda_1 = sym.symbols(\"lambda_1\")\n",
    "sym_lambda_2 = sym.symbols(\"lambda_2\")\n",
    "sym_mu = sym.symbols(\"mu\")"
   ]
  },
  {
   "cell_type": "code",
   "execution_count": 19,
   "metadata": {},
   "outputs": [],
   "source": [
    "sym_state_probs_1122[0] = (sym_mu ** 6) + 2 * (sym_lambda_2) * (sym_mu ** 5) + (sym_lambda_2 ** 2) * (sym_mu ** 4) # (0,0)\n",
    "sym_state_probs_1122[1] = (sym_Lambda * sym_mu ** 3) * (sym_mu ** 2 + 2 * sym_mu * sym_lambda_2 + sym_lambda_2 ** 2)  # (0,1)\n",
    "sym_state_probs_1122[2] = (sym_Lambda * sym_lambda_2 * sym_mu ** 2) * (sym_lambda_2 ** 2 + sym_lambda_2 * sym_lambda_1 + sym_lambda_1 * sym_mu + sym_mu ** 2 + 2 * sym_lambda_2 * sym_mu) # (1,1)\n",
    "sym_state_probs_1122[3] = (sym_Lambda * sym_lambda_2 ** 2 * sym_mu) * (sym_lambda_2 ** 2 + 2 * sym_lambda_1 * sym_lambda_2 + 3 * sym_lambda_1 * sym_mu + sym_mu ** 2 + 2 * sym_lambda_2 * sym_mu + sym_lambda_1 ** 2) # (2,1)\n",
    "sym_state_probs_1122[4] = (sym_Lambda * sym_lambda_1 * sym_mu ** 3) * (sym_lambda_2 + sym_mu)  # (0,2)\n",
    "sym_state_probs_1122[5] = (sym_Lambda * sym_lambda_1 * sym_lambda_2 * sym_mu ** 2) * (2 * sym_mu + sym_lambda_1 + sym_lambda_2)   # (1,2)\n",
    "sym_state_probs_1122[6] = (sym_Lambda * sym_lambda_1 * sym_lambda_2 ** 2) * (sym_lambda_1 ** 2 + 4 * sym_lambda_1 * sym_mu + 2 * sym_lambda_1 * sym_lambda_2 + 3 * sym_mu ** 2 + sym_lambda_2 ** 2 + 3 * sym_lambda_2 * sym_mu)    # (2,2)"
   ]
  },
  {
   "cell_type": "code",
   "execution_count": 20,
   "metadata": {},
   "outputs": [],
   "source": [
    "sym_state_recursive_ratios_1122 = sym.zeros(buffer_capacity + 1, system_capacity + 1)\n",
    "sym_state_recursive_ratios_1122[0,0] = 1\n",
    "sym_state_recursive_ratios_1122[0,1] = sym.factor(sym_state_probs_1122[1] / sym_state_probs_1122[0])  # (0,0) -> (0,1) \n",
    "sym_state_recursive_ratios_1122[1,1] = sym.factor(sym_state_probs_1122[2] / sym_state_probs_1122[1])  # (0,1) -> (1,1)\n",
    "sym_state_recursive_ratios_1122[2,1] = sym.factor(sym_state_probs_1122[3] / sym_state_probs_1122[2])  # (1,1) -> (2,1)\n",
    "\n",
    "sym_state_recursive_ratios_1122[0,2] = sym.factor(sym_state_probs_1122[4] / sym_state_probs_1122[1])  # (0,1) -> (0,2)\n",
    "sym_state_recursive_ratios_1122[1,2] = sym.factor(sym_state_probs_1122[5] / sym_state_probs_1122[4])  # (0,2) -> (1,2)\n",
    "sym_state_recursive_ratios_1122[2,2] = sym.factor(sym_state_probs_1122[6] / sym_state_probs_1122[5])  # (1,2) -> (2,2)\n",
    "\n",
    "sym_state_recursive_ratios_right_1122 = sym_state_recursive_ratios_1122.copy()\n",
    "sym_state_recursive_ratios_right_1122[1,2] = sym.factor(sym_state_probs_1122[5] / sym_state_probs_1122[2])  # (1,1) -> (1,2)\n",
    "sym_state_recursive_ratios_right_1122[2,2] = sym.factor(sym_state_probs_1122[6] / sym_state_probs_1122[3])  # (2,1) -> (2,2)\n",
    "\n",
    "sym_state_recursive_ratios_P0_1122 = sym.zeros(buffer_capacity + 1, system_capacity + 1)\n",
    "sym_state_recursive_ratios_P0_1122[0,0] = 1\n",
    "sym_state_recursive_ratios_P0_1122[0,1] = sym.factor(sym_state_probs_1122[1] / sym_state_probs_1122[0])  # (0,0) -> (0,1) \n",
    "sym_state_recursive_ratios_P0_1122[1,1] = sym.factor(sym_state_probs_1122[2] / sym_state_probs_1122[0])  # (0,0) -> (1,1)\n",
    "sym_state_recursive_ratios_P0_1122[2,1] = sym.factor(sym_state_probs_1122[3] / sym_state_probs_1122[0])  # (0,0) -> (2,1)\n",
    "\n",
    "sym_state_recursive_ratios_P0_1122[0,2] = sym.factor(sym_state_probs_1122[4] / sym_state_probs_1122[0])  # (0,0) -> (0,2)\n",
    "sym_state_recursive_ratios_P0_1122[1,2] = sym.factor(sym_state_probs_1122[5] / sym_state_probs_1122[0])  # (0,0) -> (1,2)\n",
    "sym_state_recursive_ratios_P0_1122[2,2] = sym.factor(sym_state_probs_1122[6] / sym_state_probs_1122[0])  # (0,0) -> (2,2)\n"
   ]
  },
  {
   "cell_type": "code",
   "execution_count": 21,
   "metadata": {},
   "outputs": [
    {
     "data": {
      "text/plain": [
       "<networkx.classes.multidigraph.MultiDiGraph at 0x13f2a8dbf10>"
      ]
     },
     "execution_count": 21,
     "metadata": {},
     "output_type": "execute_result"
    },
    {
     "data": {
      "image/png": "[encoded data removed]",
      "image/svg+xml": [
       "<?xml version=\"1.0\" encoding=\"utf-8\" standalone=\"no\"?>\r\n",
       "<!DOCTYPE svg PUBLIC \"-//W3C//DTD SVG 1.1//EN\"\r\n",
       "  \"http://www.w3.org/Graphics/SVG/1.1/DTD/svg11.dtd\">\r\n",
       "<!-- Created with matplotlib (https://matplotlib.org/) -->\r\n",
       "<svg height=\"177.48pt\" version=\"1.1\" viewBox=\"0 0 265.5 177.48\" width=\"265.5pt\" xmlns=\"http://www.w3.org/2000/svg\" xmlns:xlink=\"http://www.w3.org/1999/xlink\">\r\n",
       " <defs>\r\n",
       "  <style type=\"text/css\">\r\n",
       "*{stroke-linecap:butt;stroke-linejoin:round;}\r\n",
       "  </style>\r\n",
       " </defs>\r\n",
       " <g id=\"figure_1\">\r\n",
       "  <g id=\"patch_1\">\r\n",
       "   <path d=\"M 0 177.48 \r\n",
       "L 265.5 177.48 \r\n",
       "L 265.5 0 \r\n",
       "L 0 0 \r\n",
       "z\r\n",
       "\" style=\"fill:none;\"/>\r\n",
       "  </g>\r\n",
       "  <g id=\"axes_1\">\r\n",
       "   <g id=\"patch_2\">\r\n",
       "    <path clip-path=\"url(#p7c59076659)\" d=\"M 28.989669 153.780618 \r\n",
       "Q 28.989669 124.975391 28.989669 97.288199 \r\n",
       "\" style=\"fill:none;stroke:#000000;stroke-linecap:round;\"/>\r\n",
       "    <path clip-path=\"url(#p7c59076659)\" d=\"M 26.989669 101.288199 \r\n",
       "L 28.989669 97.288199 \r\n",
       "L 30.989669 101.288199 \r\n",
       "L 26.989669 101.288199 \r\n",
       "z\r\n",
       "\" style=\"stroke:#000000;stroke-linecap:round;\"/>\r\n",
       "   </g>\r\n",
       "   <g id=\"patch_3\">\r\n",
       "    <path clip-path=\"url(#p7c59076659)\" d=\"M 28.989669 87.510194 \r\n",
       "Q 76.539627 87.510194 122.97155 87.510194 \r\n",
       "\" style=\"fill:none;stroke:#000000;stroke-linecap:round;\"/>\r\n",
       "    <path clip-path=\"url(#p7c59076659)\" d=\"M 118.97155 85.510194 \r\n",
       "L 122.97155 87.510194 \r\n",
       "L 118.97155 89.510194 \r\n",
       "L 118.97155 85.510194 \r\n",
       "z\r\n",
       "\" style=\"stroke:#000000;stroke-linecap:round;\"/>\r\n",
       "   </g>\r\n",
       "   <g id=\"patch_4\">\r\n",
       "    <path clip-path=\"url(#p7c59076659)\" d=\"M 28.989669 87.510194 \r\n",
       "Q 28.989669 58.704968 28.989669 31.017775 \r\n",
       "\" style=\"fill:none;stroke:#000000;stroke-linecap:round;\"/>\r\n",
       "    <path clip-path=\"url(#p7c59076659)\" d=\"M 26.989669 35.017775 \r\n",
       "L 28.989669 31.017775 \r\n",
       "L 30.989669 35.017775 \r\n",
       "L 26.989669 35.017775 \r\n",
       "z\r\n",
       "\" style=\"stroke:#000000;stroke-linecap:round;\"/>\r\n",
       "   </g>\r\n",
       "   <g id=\"patch_5\">\r\n",
       "    <path clip-path=\"url(#p7c59076659)\" d=\"M 132.75 87.510194 \r\n",
       "Q 180.299957 87.510194 226.731881 87.510194 \r\n",
       "\" style=\"fill:none;stroke:#000000;stroke-linecap:round;\"/>\r\n",
       "    <path clip-path=\"url(#p7c59076659)\" d=\"M 222.731881 85.510194 \r\n",
       "L 226.731881 87.510194 \r\n",
       "L 222.731881 89.510194 \r\n",
       "L 222.731881 85.510194 \r\n",
       "z\r\n",
       "\" style=\"stroke:#000000;stroke-linecap:round;\"/>\r\n",
       "   </g>\r\n",
       "   <g id=\"patch_6\">\r\n",
       "    <path clip-path=\"url(#p7c59076659)\" d=\"M 132.75 87.510194 \r\n",
       "Q 132.75 58.704968 132.75 31.017775 \r\n",
       "\" style=\"fill:none;stroke:#000000;stroke-linecap:round;\"/>\r\n",
       "    <path clip-path=\"url(#p7c59076659)\" d=\"M 130.75 35.017775 \r\n",
       "L 132.75 31.017775 \r\n",
       "L 134.75 35.017775 \r\n",
       "L 130.75 35.017775 \r\n",
       "z\r\n",
       "\" style=\"stroke:#000000;stroke-linecap:round;\"/>\r\n",
       "   </g>\r\n",
       "   <g id=\"patch_7\">\r\n",
       "    <path clip-path=\"url(#p7c59076659)\" d=\"M 28.989669 21.23977 \r\n",
       "Q 76.539627 21.23977 122.97155 21.23977 \r\n",
       "\" style=\"fill:none;stroke:#000000;stroke-linecap:round;\"/>\r\n",
       "    <path clip-path=\"url(#p7c59076659)\" d=\"M 118.97155 19.23977 \r\n",
       "L 122.97155 21.23977 \r\n",
       "L 118.97155 23.23977 \r\n",
       "L 118.97155 19.23977 \r\n",
       "z\r\n",
       "\" style=\"stroke:#000000;stroke-linecap:round;\"/>\r\n",
       "   </g>\r\n",
       "   <g id=\"patch_8\">\r\n",
       "    <path clip-path=\"url(#p7c59076659)\" d=\"M 236.510331 87.510194 \r\n",
       "Q 236.510331 58.704968 236.510331 31.017775 \r\n",
       "\" style=\"fill:none;stroke:#000000;stroke-linecap:round;\"/>\r\n",
       "    <path clip-path=\"url(#p7c59076659)\" d=\"M 234.510331 35.017775 \r\n",
       "L 236.510331 31.017775 \r\n",
       "L 238.510331 35.017775 \r\n",
       "L 234.510331 35.017775 \r\n",
       "z\r\n",
       "\" style=\"stroke:#000000;stroke-linecap:round;\"/>\r\n",
       "   </g>\r\n",
       "   <g id=\"patch_9\">\r\n",
       "    <path clip-path=\"url(#p7c59076659)\" d=\"M 132.75 21.23977 \r\n",
       "Q 180.299957 21.23977 226.731881 21.23977 \r\n",
       "\" style=\"fill:none;stroke:#000000;stroke-linecap:round;\"/>\r\n",
       "    <path clip-path=\"url(#p7c59076659)\" d=\"M 222.731881 19.23977 \r\n",
       "L 226.731881 21.23977 \r\n",
       "L 222.731881 23.23977 \r\n",
       "L 222.731881 19.23977 \r\n",
       "z\r\n",
       "\" style=\"stroke:#000000;stroke-linecap:round;\"/>\r\n",
       "   </g>\r\n",
       "   <g id=\"PathCollection_1\">\r\n",
       "    <defs>\r\n",
       "     <path d=\"M 0 22.36068 \r\n",
       "C 5.930122 22.36068 11.618159 20.004617 15.811388 15.811388 \r\n",
       "C 20.004617 11.618159 22.36068 5.930122 22.36068 0 \r\n",
       "C 22.36068 -5.930122 20.004617 -11.618159 15.811388 -15.811388 \r\n",
       "C 11.618159 -20.004617 5.930122 -22.36068 0 -22.36068 \r\n",
       "C -5.930122 -22.36068 -11.618159 -20.004617 -15.811388 -15.811388 \r\n",
       "C -20.004617 -11.618159 -22.36068 -5.930122 -22.36068 0 \r\n",
       "C -22.36068 5.930122 -20.004617 11.618159 -15.811388 15.811388 \r\n",
       "C -11.618159 20.004617 -5.930122 22.36068 0 22.36068 \r\n",
       "z\r\n",
       "\" id=\"ma1c2f53b4a\" style=\"stroke:#1f78b4;\"/>\r\n",
       "    </defs>\r\n",
       "    <g clip-path=\"url(#p7c59076659)\">\r\n",
       "     <use style=\"fill:#1f78b4;stroke:#1f78b4;\" x=\"28.989669\" xlink:href=\"#ma1c2f53b4a\" y=\"153.780618\"/>\r\n",
       "    </g>\r\n",
       "   </g>\r\n",
       "   <g id=\"PathCollection_2\">\r\n",
       "    <defs>\r\n",
       "     <path d=\"M 0 22.36068 \r\n",
       "C 5.930122 22.36068 11.618159 20.004617 15.811388 15.811388 \r\n",
       "C 20.004617 11.618159 22.36068 5.930122 22.36068 0 \r\n",
       "C 22.36068 -5.930122 20.004617 -11.618159 15.811388 -15.811388 \r\n",
       "C 11.618159 -20.004617 5.930122 -22.36068 0 -22.36068 \r\n",
       "C -5.930122 -22.36068 -11.618159 -20.004617 -15.811388 -15.811388 \r\n",
       "C -20.004617 -11.618159 -22.36068 -5.930122 -22.36068 0 \r\n",
       "C -22.36068 5.930122 -20.004617 11.618159 -15.811388 15.811388 \r\n",
       "C -11.618159 20.004617 -5.930122 22.36068 0 22.36068 \r\n",
       "z\r\n",
       "\" id=\"m84b1cc6113\" style=\"stroke:#ff0000;\"/>\r\n",
       "    </defs>\r\n",
       "    <g clip-path=\"url(#p7c59076659)\">\r\n",
       "     <use style=\"fill:#ff0000;stroke:#ff0000;\" x=\"28.989669\" xlink:href=\"#m84b1cc6113\" y=\"87.510194\"/>\r\n",
       "     <use style=\"fill:#ff0000;stroke:#ff0000;\" x=\"132.75\" xlink:href=\"#m84b1cc6113\" y=\"87.510194\"/>\r\n",
       "     <use style=\"fill:#ff0000;stroke:#ff0000;\" x=\"236.510331\" xlink:href=\"#m84b1cc6113\" y=\"87.510194\"/>\r\n",
       "     <use style=\"fill:#ff0000;stroke:#ff0000;\" x=\"28.989669\" xlink:href=\"#m84b1cc6113\" y=\"21.23977\"/>\r\n",
       "     <use style=\"fill:#ff0000;stroke:#ff0000;\" x=\"132.75\" xlink:href=\"#m84b1cc6113\" y=\"21.23977\"/>\r\n",
       "     <use style=\"fill:#ff0000;stroke:#ff0000;\" x=\"236.510331\" xlink:href=\"#m84b1cc6113\" y=\"21.23977\"/>\r\n",
       "    </g>\r\n",
       "   </g>\r\n",
       "   <g id=\"text_1\">\r\n",
       "    <g clip-path=\"url(#p7c59076659)\">\r\n",
       "     <!-- (0, 0) -->\r\n",
       "     <defs>\r\n",
       "      <path d=\"M 31 75.875 \r\n",
       "Q 24.46875 64.65625 21.28125 53.65625 \r\n",
       "Q 18.109375 42.671875 18.109375 31.390625 \r\n",
       "Q 18.109375 20.125 21.3125 9.0625 \r\n",
       "Q 24.515625 -2 31 -13.1875 \r\n",
       "L 23.1875 -13.1875 \r\n",
       "Q 15.875 -1.703125 12.234375 9.375 \r\n",
       "Q 8.59375 20.453125 8.59375 31.390625 \r\n",
       "Q 8.59375 42.28125 12.203125 53.3125 \r\n",
       "Q 15.828125 64.359375 23.1875 75.875 \r\n",
       "z\r\n",
       "\" id=\"DejaVuSans-40\"/>\r\n",
       "      <path d=\"M 31.78125 66.40625 \r\n",
       "Q 24.171875 66.40625 20.328125 58.90625 \r\n",
       "Q 16.5 51.421875 16.5 36.375 \r\n",
       "Q 16.5 21.390625 20.328125 13.890625 \r\n",
       "Q 24.171875 6.390625 31.78125 6.390625 \r\n",
       "Q 39.453125 6.390625 43.28125 13.890625 \r\n",
       "Q 47.125 21.390625 47.125 36.375 \r\n",
       "Q 47.125 51.421875 43.28125 58.90625 \r\n",
       "Q 39.453125 66.40625 31.78125 66.40625 \r\n",
       "z\r\n",
       "M 31.78125 74.21875 \r\n",
       "Q 44.046875 74.21875 50.515625 64.515625 \r\n",
       "Q 56.984375 54.828125 56.984375 36.375 \r\n",
       "Q 56.984375 17.96875 50.515625 8.265625 \r\n",
       "Q 44.046875 -1.421875 31.78125 -1.421875 \r\n",
       "Q 19.53125 -1.421875 13.0625 8.265625 \r\n",
       "Q 6.59375 17.96875 6.59375 36.375 \r\n",
       "Q 6.59375 54.828125 13.0625 64.515625 \r\n",
       "Q 19.53125 74.21875 31.78125 74.21875 \r\n",
       "z\r\n",
       "\" id=\"DejaVuSans-48\"/>\r\n",
       "      <path d=\"M 11.71875 12.40625 \r\n",
       "L 22.015625 12.40625 \r\n",
       "L 22.015625 4 \r\n",
       "L 14.015625 -11.625 \r\n",
       "L 7.71875 -11.625 \r\n",
       "L 11.71875 4 \r\n",
       "z\r\n",
       "\" id=\"DejaVuSans-44\"/>\r\n",
       "      <path id=\"DejaVuSans-32\"/>\r\n",
       "      <path d=\"M 8.015625 75.875 \r\n",
       "L 15.828125 75.875 \r\n",
       "Q 23.140625 64.359375 26.78125 53.3125 \r\n",
       "Q 30.421875 42.28125 30.421875 31.390625 \r\n",
       "Q 30.421875 20.453125 26.78125 9.375 \r\n",
       "Q 23.140625 -1.703125 15.828125 -13.1875 \r\n",
       "L 8.015625 -13.1875 \r\n",
       "Q 14.5 -2 17.703125 9.0625 \r\n",
       "Q 20.90625 20.125 20.90625 31.390625 \r\n",
       "Q 20.90625 42.671875 17.703125 53.65625 \r\n",
       "Q 14.5 64.65625 8.015625 75.875 \r\n",
       "z\r\n",
       "\" id=\"DejaVuSans-41\"/>\r\n",
       "     </defs>\r\n",
       "     <g transform=\"translate(12.859044 157.091868)scale(0.12 -0.12)\">\r\n",
       "      <use xlink:href=\"#DejaVuSans-40\"/>\r\n",
       "      <use x=\"39.013672\" xlink:href=\"#DejaVuSans-48\"/>\r\n",
       "      <use x=\"102.636719\" xlink:href=\"#DejaVuSans-44\"/>\r\n",
       "      <use x=\"134.423828\" xlink:href=\"#DejaVuSans-32\"/>\r\n",
       "      <use x=\"166.210938\" xlink:href=\"#DejaVuSans-48\"/>\r\n",
       "      <use x=\"229.833984\" xlink:href=\"#DejaVuSans-41\"/>\r\n",
       "     </g>\r\n",
       "    </g>\r\n",
       "   </g>\r\n",
       "   <g id=\"text_2\">\r\n",
       "    <g clip-path=\"url(#p7c59076659)\">\r\n",
       "     <!-- (0, 1) -->\r\n",
       "     <defs>\r\n",
       "      <path d=\"M 12.40625 8.296875 \r\n",
       "L 28.515625 8.296875 \r\n",
       "L 28.515625 63.921875 \r\n",
       "L 10.984375 60.40625 \r\n",
       "L 10.984375 69.390625 \r\n",
       "L 28.421875 72.90625 \r\n",
       "L 38.28125 72.90625 \r\n",
       "L 38.28125 8.296875 \r\n",
       "L 54.390625 8.296875 \r\n",
       "L 54.390625 0 \r\n",
       "L 12.40625 0 \r\n",
       "z\r\n",
       "\" id=\"DejaVuSans-49\"/>\r\n",
       "     </defs>\r\n",
       "     <g transform=\"translate(12.859044 90.821444)scale(0.12 -0.12)\">\r\n",
       "      <use xlink:href=\"#DejaVuSans-40\"/>\r\n",
       "      <use x=\"39.013672\" xlink:href=\"#DejaVuSans-48\"/>\r\n",
       "      <use x=\"102.636719\" xlink:href=\"#DejaVuSans-44\"/>\r\n",
       "      <use x=\"134.423828\" xlink:href=\"#DejaVuSans-32\"/>\r\n",
       "      <use x=\"166.210938\" xlink:href=\"#DejaVuSans-49\"/>\r\n",
       "      <use x=\"229.833984\" xlink:href=\"#DejaVuSans-41\"/>\r\n",
       "     </g>\r\n",
       "    </g>\r\n",
       "   </g>\r\n",
       "   <g id=\"text_3\">\r\n",
       "    <g clip-path=\"url(#p7c59076659)\">\r\n",
       "     <!-- (1, 1) -->\r\n",
       "     <g transform=\"translate(116.619375 90.821444)scale(0.12 -0.12)\">\r\n",
       "      <use xlink:href=\"#DejaVuSans-40\"/>\r\n",
       "      <use x=\"39.013672\" xlink:href=\"#DejaVuSans-49\"/>\r\n",
       "      <use x=\"102.636719\" xlink:href=\"#DejaVuSans-44\"/>\r\n",
       "      <use x=\"134.423828\" xlink:href=\"#DejaVuSans-32\"/>\r\n",
       "      <use x=\"166.210938\" xlink:href=\"#DejaVuSans-49\"/>\r\n",
       "      <use x=\"229.833984\" xlink:href=\"#DejaVuSans-41\"/>\r\n",
       "     </g>\r\n",
       "    </g>\r\n",
       "   </g>\r\n",
       "   <g id=\"text_4\">\r\n",
       "    <g clip-path=\"url(#p7c59076659)\">\r\n",
       "     <!-- (0, 2) -->\r\n",
       "     <defs>\r\n",
       "      <path d=\"M 19.1875 8.296875 \r\n",
       "L 53.609375 8.296875 \r\n",
       "L 53.609375 0 \r\n",
       "L 7.328125 0 \r\n",
       "L 7.328125 8.296875 \r\n",
       "Q 12.9375 14.109375 22.625 23.890625 \r\n",
       "Q 32.328125 33.6875 34.8125 36.53125 \r\n",
       "Q 39.546875 41.84375 41.421875 45.53125 \r\n",
       "Q 43.3125 49.21875 43.3125 52.78125 \r\n",
       "Q 43.3125 58.59375 39.234375 62.25 \r\n",
       "Q 35.15625 65.921875 28.609375 65.921875 \r\n",
       "Q 23.96875 65.921875 18.8125 64.3125 \r\n",
       "Q 13.671875 62.703125 7.8125 59.421875 \r\n",
       "L 7.8125 69.390625 \r\n",
       "Q 13.765625 71.78125 18.9375 73 \r\n",
       "Q 24.125 74.21875 28.421875 74.21875 \r\n",
       "Q 39.75 74.21875 46.484375 68.546875 \r\n",
       "Q 53.21875 62.890625 53.21875 53.421875 \r\n",
       "Q 53.21875 48.921875 51.53125 44.890625 \r\n",
       "Q 49.859375 40.875 45.40625 35.40625 \r\n",
       "Q 44.1875 33.984375 37.640625 27.21875 \r\n",
       "Q 31.109375 20.453125 19.1875 8.296875 \r\n",
       "z\r\n",
       "\" id=\"DejaVuSans-50\"/>\r\n",
       "     </defs>\r\n",
       "     <g transform=\"translate(12.859044 24.55102)scale(0.12 -0.12)\">\r\n",
       "      <use xlink:href=\"#DejaVuSans-40\"/>\r\n",
       "      <use x=\"39.013672\" xlink:href=\"#DejaVuSans-48\"/>\r\n",
       "      <use x=\"102.636719\" xlink:href=\"#DejaVuSans-44\"/>\r\n",
       "      <use x=\"134.423828\" xlink:href=\"#DejaVuSans-32\"/>\r\n",
       "      <use x=\"166.210938\" xlink:href=\"#DejaVuSans-50\"/>\r\n",
       "      <use x=\"229.833984\" xlink:href=\"#DejaVuSans-41\"/>\r\n",
       "     </g>\r\n",
       "    </g>\r\n",
       "   </g>\r\n",
       "   <g id=\"text_5\">\r\n",
       "    <g clip-path=\"url(#p7c59076659)\">\r\n",
       "     <!-- (2, 1) -->\r\n",
       "     <g transform=\"translate(220.379706 90.821444)scale(0.12 -0.12)\">\r\n",
       "      <use xlink:href=\"#DejaVuSans-40\"/>\r\n",
       "      <use x=\"39.013672\" xlink:href=\"#DejaVuSans-50\"/>\r\n",
       "      <use x=\"102.636719\" xlink:href=\"#DejaVuSans-44\"/>\r\n",
       "      <use x=\"134.423828\" xlink:href=\"#DejaVuSans-32\"/>\r\n",
       "      <use x=\"166.210938\" xlink:href=\"#DejaVuSans-49\"/>\r\n",
       "      <use x=\"229.833984\" xlink:href=\"#DejaVuSans-41\"/>\r\n",
       "     </g>\r\n",
       "    </g>\r\n",
       "   </g>\r\n",
       "   <g id=\"text_6\">\r\n",
       "    <g clip-path=\"url(#p7c59076659)\">\r\n",
       "     <!-- (1, 2) -->\r\n",
       "     <g transform=\"translate(116.619375 24.55102)scale(0.12 -0.12)\">\r\n",
       "      <use xlink:href=\"#DejaVuSans-40\"/>\r\n",
       "      <use x=\"39.013672\" xlink:href=\"#DejaVuSans-49\"/>\r\n",
       "      <use x=\"102.636719\" xlink:href=\"#DejaVuSans-44\"/>\r\n",
       "      <use x=\"134.423828\" xlink:href=\"#DejaVuSans-32\"/>\r\n",
       "      <use x=\"166.210938\" xlink:href=\"#DejaVuSans-50\"/>\r\n",
       "      <use x=\"229.833984\" xlink:href=\"#DejaVuSans-41\"/>\r\n",
       "     </g>\r\n",
       "    </g>\r\n",
       "   </g>\r\n",
       "   <g id=\"text_7\">\r\n",
       "    <g clip-path=\"url(#p7c59076659)\">\r\n",
       "     <!-- (2, 2) -->\r\n",
       "     <g transform=\"translate(220.379706 24.55102)scale(0.12 -0.12)\">\r\n",
       "      <use xlink:href=\"#DejaVuSans-40\"/>\r\n",
       "      <use x=\"39.013672\" xlink:href=\"#DejaVuSans-50\"/>\r\n",
       "      <use x=\"102.636719\" xlink:href=\"#DejaVuSans-44\"/>\r\n",
       "      <use x=\"134.423828\" xlink:href=\"#DejaVuSans-32\"/>\r\n",
       "      <use x=\"166.210938\" xlink:href=\"#DejaVuSans-50\"/>\r\n",
       "      <use x=\"229.833984\" xlink:href=\"#DejaVuSans-41\"/>\r\n",
       "     </g>\r\n",
       "    </g>\r\n",
       "   </g>\r\n",
       "  </g>\r\n",
       " </g>\r\n",
       " <defs>\r\n",
       "  <clipPath id=\"p7c59076659\">\r\n",
       "   <rect height=\"163.08\" width=\"251.1\" x=\"7.2\" y=\"7.2\"/>\r\n",
       "  </clipPath>\r\n",
       " </defs>\r\n",
       "</svg>\r\n"
      ],
      "text/plain": [
       "<Figure size 324x216 with 1 Axes>"
      ]
     },
     "metadata": {},
     "output_type": "display_data"
    }
   ],
   "source": [
    "abg.markov.visualise_ambulance_markov_chain(\n",
    "    num_of_servers=num_of_servers, \n",
    "    threshold=threshold, \n",
    "    system_capacity=system_capacity, \n",
    "    buffer_capacity=buffer_capacity\n",
    ")"
   ]
  },
  {
   "cell_type": "code",
   "execution_count": 22,
   "metadata": {},
   "outputs": [
    {
     "data": {
      "text/latex": [
       "$\\displaystyle \\left[ \\left( 0, \\  0\\right), \\  \\left( 0, \\  1\\right), \\  \\left( 1, \\  1\\right), \\  \\left( 2, \\  1\\right), \\  \\left( 0, \\  2\\right), \\  \\left( 1, \\  2\\right), \\  \\left( 2, \\  2\\right)\\right]$"
      ],
      "text/plain": [
       "[(0, 0), (0, 1), (1, 1), (2, 1), (0, 2), (1, 2), (2, 2)]"
      ]
     },
     "execution_count": 22,
     "metadata": {},
     "output_type": "execute_result"
    }
   ],
   "source": [
    "all_states_1122"
   ]
  },
  {
   "cell_type": "code",
   "execution_count": 23,
   "metadata": {},
   "outputs": [
    {
     "data": {
      "text/latex": [
       "$\\displaystyle \\left[\\begin{matrix}- \\Lambda & \\Lambda & 0 & 0 & 0 & 0 & 0\\\\\\mu & - \\lambda^{A} - \\lambda^{o} - \\mu & \\lambda^{A} & 0 & \\lambda^{o} & 0 & 0\\\\0 & \\mu & - \\lambda^{A} - \\lambda^{o} - \\mu & \\lambda^{A} & 0 & \\lambda^{o} & 0\\\\0 & 0 & \\mu & - \\lambda^{o} - \\mu & 0 & 0 & \\lambda^{o}\\\\0 & \\mu & 0 & 0 & - \\lambda^{A} - \\mu & \\lambda^{A} & 0\\\\0 & 0 & \\mu & 0 & 0 & - \\lambda^{A} - \\mu & \\lambda^{A}\\\\0 & 0 & 0 & \\mu & 0 & 0 & - \\mu\\end{matrix}\\right]$"
      ],
      "text/plain": [
       "⎡-Λ         Λ                 0              0          0          0       0  \n",
       "⎢                                                                             \n",
       "⎢μ   -λ__A - λ__o - μ        λ__A            0        λ__o         0       0  \n",
       "⎢                                                                             \n",
       "⎢0          μ          -λ__A - λ__o - μ    λ__A         0        λ__o      0  \n",
       "⎢                                                                             \n",
       "⎢0          0                 μ          -λ__o - μ      0          0      λ__o\n",
       "⎢                                                                             \n",
       "⎢0          μ                 0              0      -λ__A - μ    λ__A      0  \n",
       "⎢                                                                             \n",
       "⎢0          0                 μ              0          0      -λ__A - μ  λ__A\n",
       "⎢                                                                             \n",
       "⎣0          0                 0              μ          0          0       -μ \n",
       "\n",
       "⎤\n",
       "⎥\n",
       "⎥\n",
       "⎥\n",
       "⎥\n",
       "⎥\n",
       "⎥\n",
       "⎥\n",
       "⎥\n",
       "⎥\n",
       "⎥\n",
       "⎥\n",
       "⎦"
      ]
     },
     "execution_count": 23,
     "metadata": {},
     "output_type": "execute_result"
    }
   ],
   "source": [
    "Q_sym_1122"
   ]
  },
  {
   "cell_type": "code",
   "execution_count": 24,
   "metadata": {},
   "outputs": [
    {
     "data": {
      "text/latex": [
       "$\\displaystyle \\left( \\left[\\begin{matrix}1 & \\frac{\\Lambda}{\\mu} & \\frac{\\lambda^{o}}{\\lambda^{A} + \\mu}\\\\0 & \\frac{\\lambda^{A} \\left(\\lambda^{A} + \\lambda^{o} + \\mu\\right)}{\\mu \\left(\\lambda^{A} + \\mu\\right)} & \\frac{\\lambda^{A} \\left(\\lambda^{A} + \\lambda^{o} + 2 \\mu\\right)}{\\mu \\left(\\lambda^{A} + \\mu\\right)}\\\\0 & \\frac{\\lambda^{A} \\left(\\left(\\lambda^{A}\\right)^{2} + 2 \\lambda^{A} \\lambda^{o} + 2 \\lambda^{A} \\mu + \\left(\\lambda^{o}\\right)^{2} + 3 \\lambda^{o} \\mu + \\mu^{2}\\right)}{\\mu \\left(\\lambda^{A} + \\mu\\right) \\left(\\lambda^{A} + \\lambda^{o} + \\mu\\right)} & \\frac{\\lambda^{A} \\left(\\left(\\lambda^{A}\\right)^{2} + 2 \\lambda^{A} \\lambda^{o} + 3 \\lambda^{A} \\mu + \\left(\\lambda^{o}\\right)^{2} + 4 \\lambda^{o} \\mu + 3 \\mu^{2}\\right)}{\\mu^{2} \\left(\\lambda^{A} + \\lambda^{o} + 2 \\mu\\right)}\\end{matrix}\\right], \\  \\left[\\begin{matrix}1 & \\frac{\\Lambda}{\\mu} & \\frac{\\lambda^{o}}{\\lambda^{A} + \\mu}\\\\0 & \\frac{\\lambda^{A} \\left(\\lambda^{A} + \\lambda^{o} + \\mu\\right)}{\\mu \\left(\\lambda^{A} + \\mu\\right)} & \\frac{\\lambda^{o} \\left(\\lambda^{A} + \\lambda^{o} + 2 \\mu\\right)}{\\left(\\lambda^{A} + \\mu\\right) \\left(\\lambda^{A} + \\lambda^{o} + \\mu\\right)}\\\\0 & \\frac{\\lambda^{A} \\left(\\left(\\lambda^{A}\\right)^{2} + 2 \\lambda^{A} \\lambda^{o} + 2 \\lambda^{A} \\mu + \\left(\\lambda^{o}\\right)^{2} + 3 \\lambda^{o} \\mu + \\mu^{2}\\right)}{\\mu \\left(\\lambda^{A} + \\mu\\right) \\left(\\lambda^{A} + \\lambda^{o} + \\mu\\right)} & \\frac{\\lambda^{o} \\left(\\left(\\lambda^{A}\\right)^{2} + 2 \\lambda^{A} \\lambda^{o} + 3 \\lambda^{A} \\mu + \\left(\\lambda^{o}\\right)^{2} + 4 \\lambda^{o} \\mu + 3 \\mu^{2}\\right)}{\\mu \\left(\\left(\\lambda^{A}\\right)^{2} + 2 \\lambda^{A} \\lambda^{o} + 2 \\lambda^{A} \\mu + \\left(\\lambda^{o}\\right)^{2} + 3 \\lambda^{o} \\mu + \\mu^{2}\\right)}\\end{matrix}\\right]\\right)$"
      ],
      "text/plain": [
       "⎛⎡                                 Λ                                          \n",
       "⎜⎢1                                ─                                          \n",
       "⎜⎢                                 μ                                          \n",
       "⎜⎢                                                                            \n",
       "⎜⎢                      λ__A⋅(λ__A + λ__o + μ)                                \n",
       "⎜⎢0                     ──────────────────────                                \n",
       "⎜⎢                           μ⋅(λ__A + μ)                                     \n",
       "⎜⎢                                                                            \n",
       "⎜⎢        ⎛    2                                2               2⎞       ⎛    \n",
       "⎜⎢   λ__A⋅⎝λ__A  + 2⋅λ__A⋅λ__o + 2⋅λ__A⋅μ + λ__o  + 3⋅λ__o⋅μ + μ ⎠  λ__A⋅⎝λ__A\n",
       "⎜⎢0  ─────────────────────────────────────────────────────────────  ──────────\n",
       "⎜⎢                   μ⋅(λ__A + μ)⋅(λ__A + λ__o + μ)                           \n",
       "⎝⎣                                                                            \n",
       "\n",
       "                   λ__o                              ⎤  ⎡                     \n",
       "                 ────────                            ⎥  ⎢1                    \n",
       "                 λ__A + μ                            ⎥  ⎢                     \n",
       "                                                     ⎥  ⎢                     \n",
       "         λ__A⋅(λ__A + λ__o + 2⋅μ)                    ⎥  ⎢                     \n",
       "         ────────────────────────                    ⎥  ⎢0                    \n",
       "               μ⋅(λ__A + μ)                          ⎥, ⎢                     \n",
       "                                                     ⎥  ⎢                     \n",
       "2                                2                 2⎞⎥  ⎢        ⎛    2       \n",
       "  + 2⋅λ__A⋅λ__o + 3⋅λ__A⋅μ + λ__o  + 4⋅λ__o⋅μ + 3⋅μ ⎠⎥  ⎢   λ__A⋅⎝λ__A  + 2⋅λ_\n",
       "─────────────────────────────────────────────────────⎥  ⎢0  ──────────────────\n",
       "            2                                        ⎥  ⎢                   μ⋅\n",
       "           μ ⋅(λ__A + λ__o + 2⋅μ)                    ⎦  ⎣                     \n",
       "\n",
       "            Λ                                                             λ__o\n",
       "            ─                                                           ──────\n",
       "            μ                                                           λ__A +\n",
       "                                                                              \n",
       " λ__A⋅(λ__A + λ__o + μ)                                         λ__o⋅(λ__A + λ\n",
       " ──────────────────────                                       ────────────────\n",
       "      μ⋅(λ__A + μ)                                            (λ__A + μ)⋅(λ__A\n",
       "                                                                              \n",
       "                         2               2⎞       ⎛    2                      \n",
       "_A⋅λ__o + 2⋅λ__A⋅μ + λ__o  + 3⋅λ__o⋅μ + μ ⎠  λ__o⋅⎝λ__A  + 2⋅λ__A⋅λ__o + 3⋅λ__\n",
       "───────────────────────────────────────────  ─────────────────────────────────\n",
       "(λ__A + μ)⋅(λ__A + λ__o + μ)                      ⎛    2                      \n",
       "                                                μ⋅⎝λ__A  + 2⋅λ__A⋅λ__o + 2⋅λ__\n",
       "\n",
       "                              ⎤⎞\n",
       "──                            ⎥⎟\n",
       " μ                            ⎥⎟\n",
       "                              ⎥⎟\n",
       "__o + 2⋅μ)                    ⎥⎟\n",
       "────────────                  ⎥⎟\n",
       " + λ__o + μ)                  ⎥⎟\n",
       "                              ⎥⎟\n",
       "          2                 2⎞⎥⎟\n",
       "A⋅μ + λ__o  + 4⋅λ__o⋅μ + 3⋅μ ⎠⎥⎟\n",
       "──────────────────────────────⎥⎟\n",
       "          2               2⎞  ⎥⎟\n",
       "A⋅μ + λ__o  + 3⋅λ__o⋅μ + μ ⎠  ⎦⎠"
      ]
     },
     "execution_count": 24,
     "metadata": {},
     "output_type": "execute_result"
    }
   ],
   "source": [
    "sym_state_recursive_ratios_1122, sym_state_recursive_ratios_right_1122"
   ]
  },
  {
   "cell_type": "code",
   "execution_count": 25,
   "metadata": {},
   "outputs": [
    {
     "data": {
      "text/latex": [
       "$\\displaystyle \\left( \\left(\\lambda^{A}\\right)^{2} \\mu^{4} + 2 \\lambda^{A} \\mu^{5} + \\mu^{6}, \\  \\left[\\begin{matrix}1 & \\frac{\\Lambda}{\\mu} & \\frac{\\Lambda \\lambda^{o}}{\\mu \\left(\\lambda^{A} + \\mu\\right)}\\\\0 & \\frac{\\Lambda \\lambda^{A} \\left(\\lambda^{A} + \\lambda^{o} + \\mu\\right)}{\\mu^{2} \\left(\\lambda^{A} + \\mu\\right)} & \\frac{\\Lambda \\lambda^{A} \\lambda^{o} \\left(\\lambda^{A} + \\lambda^{o} + 2 \\mu\\right)}{\\mu^{2} \\left(\\lambda^{A} + \\mu\\right)^{2}}\\\\0 & \\frac{\\Lambda \\left(\\lambda^{A}\\right)^{2} \\left(\\left(\\lambda^{A}\\right)^{2} + 2 \\lambda^{A} \\lambda^{o} + 2 \\lambda^{A} \\mu + \\left(\\lambda^{o}\\right)^{2} + 3 \\lambda^{o} \\mu + \\mu^{2}\\right)}{\\mu^{3} \\left(\\lambda^{A} + \\mu\\right)^{2}} & \\frac{\\Lambda \\left(\\lambda^{A}\\right)^{2} \\lambda^{o} \\left(\\left(\\lambda^{A}\\right)^{2} + 2 \\lambda^{A} \\lambda^{o} + 3 \\lambda^{A} \\mu + \\left(\\lambda^{o}\\right)^{2} + 4 \\lambda^{o} \\mu + 3 \\mu^{2}\\right)}{\\mu^{4} \\left(\\lambda^{A} + \\mu\\right)^{2}}\\end{matrix}\\right]\\right)$"
      ],
      "text/plain": [
       "⎛                           ⎡                                  Λ              \n",
       "⎜                           ⎢1                                 ─              \n",
       "⎜                           ⎢                                  μ              \n",
       "⎜                           ⎢                                                 \n",
       "⎜                           ⎢                       Λ⋅λ__A⋅(λ__A + λ__o + μ)  \n",
       "⎜                           ⎢0                      ────────────────────────  \n",
       "⎜    2  4           5    6  ⎢                             2                   \n",
       "⎜λ__A ⋅μ  + 2⋅λ__A⋅μ  + μ , ⎢                            μ ⋅(λ__A + μ)        \n",
       "⎜                           ⎢                                                 \n",
       "⎜                           ⎢         2 ⎛    2                                \n",
       "⎜                           ⎢   Λ⋅λ__A ⋅⎝λ__A  + 2⋅λ__A⋅λ__o + 2⋅λ__A⋅μ + λ__o\n",
       "⎜                           ⎢0  ──────────────────────────────────────────────\n",
       "⎜                           ⎢                             3           2       \n",
       "⎝                           ⎣                            μ ⋅(λ__A + μ)        \n",
       "\n",
       "                                                    Λ⋅λ__o                    \n",
       "                                                 ────────────                 \n",
       "                                                 μ⋅(λ__A + μ)                 \n",
       "                                                                              \n",
       "                                        Λ⋅λ__A⋅λ__o⋅(λ__A + λ__o + 2⋅μ)       \n",
       "                                        ───────────────────────────────       \n",
       "                                                  2           2               \n",
       "                                                 μ ⋅(λ__A + μ)                \n",
       "                                                                              \n",
       "2               2⎞        2      ⎛    2                                2      \n",
       "  + 3⋅λ__o⋅μ + μ ⎠  Λ⋅λ__A ⋅λ__o⋅⎝λ__A  + 2⋅λ__A⋅λ__o + 3⋅λ__A⋅μ + λ__o  + 4⋅λ\n",
       "──────────────────  ──────────────────────────────────────────────────────────\n",
       "                                                  4           2               \n",
       "                                                 μ ⋅(λ__A + μ)                \n",
       "\n",
       "             ⎤⎞\n",
       "             ⎥⎟\n",
       "             ⎥⎟\n",
       "             ⎥⎟\n",
       "             ⎥⎟\n",
       "             ⎥⎟\n",
       "             ⎥⎟\n",
       "             ⎥⎟\n",
       "             ⎥⎟\n",
       "           2⎞⎥⎟\n",
       "__o⋅μ + 3⋅μ ⎠⎥⎟\n",
       "─────────────⎥⎟\n",
       "             ⎥⎟\n",
       "             ⎦⎠"
      ]
     },
     "execution_count": 25,
     "metadata": {},
     "output_type": "execute_result"
    }
   ],
   "source": [
    "sym_state_probs_1122[0], sym_state_recursive_ratios_P0_1122"
   ]
  },
  {
   "cell_type": "code",
   "execution_count": null,
   "metadata": {},
   "outputs": [],
   "source": []
  },
  {
   "cell_type": "markdown",
   "metadata": {},
   "source": [
    "## $C=1, T=3, N=4, M=1$"
   ]
  },
  {
   "cell_type": "code",
   "execution_count": 26,
   "metadata": {},
   "outputs": [],
   "source": [
    "num_of_servers = 1\n",
    "threshold = 3\n",
    "system_capacity = 4\n",
    "buffer_capacity = 1\n",
    "\n",
    "all_states_1341 = abg.markov.build_states(threshold=threshold, system_capacity=system_capacity, buffer_capacity=buffer_capacity)\n",
    "Q_sym_1341 = abg.markov.get_symbolic_transition_matrix(num_of_servers, threshold, system_capacity, buffer_capacity)\n",
    "sym_pi_1341 = get_symbolic_pi(num_of_servers=num_of_servers, threshold=threshold, system_capacity=system_capacity, buffer_capacity=buffer_capacity)\n",
    "sym_state_probs_1341 = [0 for _ in range(len(all_states_1341))]"
   ]
  },
  {
   "cell_type": "code",
   "execution_count": 27,
   "metadata": {},
   "outputs": [],
   "source": [
    "sym_Lambda = sym.symbols(\"Lambda\")\n",
    "sym_lambda_1 = sym.symbols(\"lambda_1\")\n",
    "sym_lambda_2 = sym.symbols(\"lambda_2\")\n",
    "sym_mu = sym.symbols(\"mu\")"
   ]
  },
  {
   "cell_type": "code",
   "execution_count": 28,
   "metadata": {},
   "outputs": [],
   "source": [
    "sym_state_probs_1341[0] = (sym_lambda_2) * (sym_mu ** 5) + (sym_mu ** 6)  # (0,0)\n",
    "sym_state_probs_1341[1] = sym_Lambda * sym_lambda_2 * (sym_mu ** 4) + sym_Lambda * (sym_mu ** 5)  # (0,1)\n",
    "sym_state_probs_1341[2] = (sym_Lambda ** 2) * sym_lambda_2 * (sym_mu ** 3) + (sym_Lambda ** 2) * (sym_mu ** 4)    # (0,2)\n",
    "sym_state_probs_1341[3] = (sym_Lambda ** 3) * sym_lambda_2 * (sym_mu ** 2) + (sym_Lambda ** 3) * (sym_mu ** 3)    # (0,3)\n",
    "sym_state_probs_1341[4] = (sym_Lambda ** 3) * sym_lambda_1 * sym_lambda_2 * sym_mu + (sym_Lambda ** 3) * sym_lambda_2 * (sym_mu ** 2) + (sym_Lambda ** 3) * sym_lambda_2 * sym_lambda_2 * sym_mu     # (1,3)\n",
    "sym_state_probs_1341[5] = (sym_Lambda ** 3) * sym_lambda_1 * (sym_mu ** 2)    # (0,4)\n",
    "sym_state_probs_1341[6] = (sym_Lambda ** 3) * (sym_lambda_1 ** 2) * sym_lambda_2 + (sym_Lambda ** 3) * sym_lambda_1 * (sym_lambda_2 ** 2) + 2 * (sym_Lambda ** 3) * sym_lambda_1 * sym_lambda_2 * sym_mu    # (1,4)"
   ]
  },
  {
   "cell_type": "code",
   "execution_count": 29,
   "metadata": {},
   "outputs": [],
   "source": [
    "sym_state_recursive_ratios_1341 = sym.zeros(buffer_capacity + 1, system_capacity + 1)\n",
    "sym_state_recursive_ratios_1341[0,0] = 1\n",
    "sym_state_recursive_ratios_1341[0,1] = sym.factor(sym_state_probs_1341[1] / sym_state_probs_1341[0])  # (0,0) -> (0,1) \n",
    "sym_state_recursive_ratios_1341[0,2] = sym.factor(sym_state_probs_1341[2] / sym_state_probs_1341[1])  # (0,1) -> (0,2)\n",
    "sym_state_recursive_ratios_1341[0,3] = sym.factor(sym_state_probs_1341[3] / sym_state_probs_1341[2])  # (0,2) -> (0,3)\n",
    "sym_state_recursive_ratios_1341[0,4] = sym.factor(sym_state_probs_1341[5] / sym_state_probs_1341[3])  # (0,3) -> (0,4)\n",
    "\n",
    "sym_state_recursive_ratios_1341[1,3] = sym.factor(sym_state_probs_1341[4] / sym_state_probs_1341[3])  # (0,3) -> (1,3)\n",
    "sym_state_recursive_ratios_1341[1,4] = sym.factor(sym_state_probs_1341[6] / sym_state_probs_1341[5])  # (0,4) -> (1,4)\n",
    "\n",
    "sym_state_recursive_ratios_right_1341 = sym_state_recursive_ratios_1341.copy()\n",
    "sym_state_recursive_ratios_right_1341[1,4] = sym.factor(sym_state_probs_1341[6] / sym_state_probs_1341[4])  # (1,3) -> (1,4)\n",
    "\n",
    "sym_state_recursive_ratios_P0_1341 = sym.zeros(buffer_capacity + 1, system_capacity + 1)\n",
    "sym_state_recursive_ratios_P0_1341[0,0] = 1\n",
    "sym_state_recursive_ratios_P0_1341[0,1] = sym.factor(sym_state_probs_1341[1] / sym_state_probs_1341[0])  # (0,0) -> (0,1) \n",
    "sym_state_recursive_ratios_P0_1341[0,2] = sym.factor(sym_state_probs_1341[2] / sym_state_probs_1341[0])  # (0,0) -> (0,2)\n",
    "sym_state_recursive_ratios_P0_1341[0,3] = sym.factor(sym_state_probs_1341[3] / sym_state_probs_1341[0])  # (0,0) -> (0,3)\n",
    "\n",
    "sym_state_recursive_ratios_P0_1341[1,3] = sym.factor(sym_state_probs_1341[4] / sym_state_probs_1341[0])  # (0,0) -> (1,3)\n",
    "sym_state_recursive_ratios_P0_1341[0,4] = sym.factor(sym_state_probs_1341[5] / sym_state_probs_1341[0])  # (0,0) -> (0,4)\n",
    "sym_state_recursive_ratios_P0_1341[1,4] = sym.factor(sym_state_probs_1341[6] / sym_state_probs_1341[0])  # (0,0) -> (1,4)\n"
   ]
  },
  {
   "cell_type": "code",
   "execution_count": 30,
   "metadata": {},
   "outputs": [
    {
     "data": {
      "text/plain": [
       "<networkx.classes.multidigraph.MultiDiGraph at 0x13f2ab28970>"
      ]
     },
     "execution_count": 30,
     "metadata": {},
     "output_type": "execute_result"
    },
    {
     "data": {
      "image/png": "[encoded data removed]",
      "image/svg+xml": [
       "<?xml version=\"1.0\" encoding=\"utf-8\" standalone=\"no\"?>\r\n",
       "<!DOCTYPE svg PUBLIC \"-//W3C//DTD SVG 1.1//EN\"\r\n",
       "  \"http://www.w3.org/Graphics/SVG/1.1/DTD/svg11.dtd\">\r\n",
       "<!-- Created with matplotlib (https://matplotlib.org/) -->\r\n",
       "<svg height=\"340.56pt\" version=\"1.1\" viewBox=\"0 0 181.8 340.56\" width=\"181.8pt\" xmlns=\"http://www.w3.org/2000/svg\" xmlns:xlink=\"http://www.w3.org/1999/xlink\">\r\n",
       " <defs>\r\n",
       "  <style type=\"text/css\">\r\n",
       "*{stroke-linecap:butt;stroke-linejoin:round;}\r\n",
       "  </style>\r\n",
       " </defs>\r\n",
       " <g id=\"figure_1\">\r\n",
       "  <g id=\"patch_1\">\r\n",
       "   <path d=\"M 0 340.56 \r\n",
       "L 181.8 340.56 \r\n",
       "L 181.8 0 \r\n",
       "L 0 0 \r\n",
       "z\r\n",
       "\" style=\"fill:none;\"/>\r\n",
       "  </g>\r\n",
       "  <g id=\"axes_1\">\r\n",
       "   <g id=\"patch_2\">\r\n",
       "    <path clip-path=\"url(#p16992610fa)\" d=\"M 31.984063 305.05686 \r\n",
       "Q 31.984063 275.691644 31.984063 247.444462 \r\n",
       "\" style=\"fill:none;stroke:#000000;stroke-linecap:round;\"/>\r\n",
       "    <path clip-path=\"url(#p16992610fa)\" d=\"M 29.984063 251.444462 \r\n",
       "L 31.984063 247.444462 \r\n",
       "L 33.984063 251.444462 \r\n",
       "L 29.984063 251.444462 \r\n",
       "z\r\n",
       "\" style=\"stroke:#000000;stroke-linecap:round;\"/>\r\n",
       "   </g>\r\n",
       "   <g id=\"patch_3\">\r\n",
       "    <path clip-path=\"url(#p16992610fa)\" d=\"M 31.984063 237.66843 \r\n",
       "Q 31.984063 208.303214 31.984063 180.056032 \r\n",
       "\" style=\"fill:none;stroke:#000000;stroke-linecap:round;\"/>\r\n",
       "    <path clip-path=\"url(#p16992610fa)\" d=\"M 29.984063 184.056032 \r\n",
       "L 31.984063 180.056032 \r\n",
       "L 33.984063 184.056032 \r\n",
       "L 29.984063 184.056032 \r\n",
       "z\r\n",
       "\" style=\"stroke:#000000;stroke-linecap:round;\"/>\r\n",
       "   </g>\r\n",
       "   <g id=\"patch_4\">\r\n",
       "    <path clip-path=\"url(#p16992610fa)\" d=\"M 31.984063 170.28 \r\n",
       "Q 31.984063 140.914784 31.984063 112.667603 \r\n",
       "\" style=\"fill:none;stroke:#000000;stroke-linecap:round;\"/>\r\n",
       "    <path clip-path=\"url(#p16992610fa)\" d=\"M 29.984063 116.667603 \r\n",
       "L 31.984063 112.667603 \r\n",
       "L 33.984063 116.667603 \r\n",
       "L 29.984063 116.667603 \r\n",
       "z\r\n",
       "\" style=\"stroke:#000000;stroke-linecap:round;\"/>\r\n",
       "   </g>\r\n",
       "   <g id=\"patch_5\">\r\n",
       "    <path clip-path=\"url(#p16992610fa)\" d=\"M 31.984063 102.89157 \r\n",
       "Q 91.943027 102.89157 150.783958 102.89157 \r\n",
       "\" style=\"fill:none;stroke:#000000;stroke-linecap:round;\"/>\r\n",
       "    <path clip-path=\"url(#p16992610fa)\" d=\"M 146.783958 100.89157 \r\n",
       "L 150.783958 102.89157 \r\n",
       "L 146.783958 104.89157 \r\n",
       "L 146.783958 100.89157 \r\n",
       "z\r\n",
       "\" style=\"stroke:#000000;stroke-linecap:round;\"/>\r\n",
       "   </g>\r\n",
       "   <g id=\"patch_6\">\r\n",
       "    <path clip-path=\"url(#p16992610fa)\" d=\"M 31.984063 102.89157 \r\n",
       "Q 31.984063 73.526355 31.984063 45.279173 \r\n",
       "\" style=\"fill:none;stroke:#000000;stroke-linecap:round;\"/>\r\n",
       "    <path clip-path=\"url(#p16992610fa)\" d=\"M 29.984063 49.279173 \r\n",
       "L 31.984063 45.279173 \r\n",
       "L 33.984063 49.279173 \r\n",
       "L 29.984063 49.279173 \r\n",
       "z\r\n",
       "\" style=\"stroke:#000000;stroke-linecap:round;\"/>\r\n",
       "   </g>\r\n",
       "   <g id=\"patch_7\">\r\n",
       "    <path clip-path=\"url(#p16992610fa)\" d=\"M 160.562012 102.89157 \r\n",
       "Q 160.562012 73.526355 160.562012 45.279173 \r\n",
       "\" style=\"fill:none;stroke:#000000;stroke-linecap:round;\"/>\r\n",
       "    <path clip-path=\"url(#p16992610fa)\" d=\"M 158.562012 49.279173 \r\n",
       "L 160.562012 45.279173 \r\n",
       "L 162.562012 49.279173 \r\n",
       "L 158.562012 49.279173 \r\n",
       "z\r\n",
       "\" style=\"stroke:#000000;stroke-linecap:round;\"/>\r\n",
       "   </g>\r\n",
       "   <g id=\"patch_8\">\r\n",
       "    <path clip-path=\"url(#p16992610fa)\" d=\"M 31.984063 35.50314 \r\n",
       "Q 91.943027 35.50314 150.783958 35.50314 \r\n",
       "\" style=\"fill:none;stroke:#000000;stroke-linecap:round;\"/>\r\n",
       "    <path clip-path=\"url(#p16992610fa)\" d=\"M 146.783958 33.50314 \r\n",
       "L 150.783958 35.50314 \r\n",
       "L 146.783958 37.50314 \r\n",
       "L 146.783958 33.50314 \r\n",
       "z\r\n",
       "\" style=\"stroke:#000000;stroke-linecap:round;\"/>\r\n",
       "   </g>\r\n",
       "   <g id=\"PathCollection_1\">\r\n",
       "    <defs>\r\n",
       "     <path d=\"M 0 22.36068 \r\n",
       "C 5.930122 22.36068 11.618159 20.004617 15.811388 15.811388 \r\n",
       "C 20.004617 11.618159 22.36068 5.930122 22.36068 0 \r\n",
       "C 22.36068 -5.930122 20.004617 -11.618159 15.811388 -15.811388 \r\n",
       "C 11.618159 -20.004617 5.930122 -22.36068 0 -22.36068 \r\n",
       "C -5.930122 -22.36068 -11.618159 -20.004617 -15.811388 -15.811388 \r\n",
       "C -20.004617 -11.618159 -22.36068 -5.930122 -22.36068 0 \r\n",
       "C -22.36068 5.930122 -20.004617 11.618159 -15.811388 15.811388 \r\n",
       "C -11.618159 20.004617 -5.930122 22.36068 0 22.36068 \r\n",
       "z\r\n",
       "\" id=\"m6f7ecfda11\" style=\"stroke:#1f78b4;\"/>\r\n",
       "    </defs>\r\n",
       "    <g clip-path=\"url(#p16992610fa)\">\r\n",
       "     <use style=\"fill:#1f78b4;stroke:#1f78b4;\" x=\"31.984063\" xlink:href=\"#m6f7ecfda11\" y=\"305.05686\"/>\r\n",
       "    </g>\r\n",
       "   </g>\r\n",
       "   <g id=\"PathCollection_2\">\r\n",
       "    <defs>\r\n",
       "     <path d=\"M 0 22.36068 \r\n",
       "C 5.930122 22.36068 11.618159 20.004617 15.811388 15.811388 \r\n",
       "C 20.004617 11.618159 22.36068 5.930122 22.36068 0 \r\n",
       "C 22.36068 -5.930122 20.004617 -11.618159 15.811388 -15.811388 \r\n",
       "C 11.618159 -20.004617 5.930122 -22.36068 0 -22.36068 \r\n",
       "C -5.930122 -22.36068 -11.618159 -20.004617 -15.811388 -15.811388 \r\n",
       "C -20.004617 -11.618159 -22.36068 -5.930122 -22.36068 0 \r\n",
       "C -22.36068 5.930122 -20.004617 11.618159 -15.811388 15.811388 \r\n",
       "C -11.618159 20.004617 -5.930122 22.36068 0 22.36068 \r\n",
       "z\r\n",
       "\" id=\"m39cfd0c9a1\" style=\"stroke:#ff0000;\"/>\r\n",
       "    </defs>\r\n",
       "    <g clip-path=\"url(#p16992610fa)\">\r\n",
       "     <use style=\"fill:#ff0000;stroke:#ff0000;\" x=\"31.984063\" xlink:href=\"#m39cfd0c9a1\" y=\"237.66843\"/>\r\n",
       "     <use style=\"fill:#ff0000;stroke:#ff0000;\" x=\"31.984063\" xlink:href=\"#m39cfd0c9a1\" y=\"170.28\"/>\r\n",
       "     <use style=\"fill:#ff0000;stroke:#ff0000;\" x=\"31.984063\" xlink:href=\"#m39cfd0c9a1\" y=\"102.89157\"/>\r\n",
       "     <use style=\"fill:#ff0000;stroke:#ff0000;\" x=\"160.562012\" xlink:href=\"#m39cfd0c9a1\" y=\"102.89157\"/>\r\n",
       "     <use style=\"fill:#ff0000;stroke:#ff0000;\" x=\"31.984063\" xlink:href=\"#m39cfd0c9a1\" y=\"35.50314\"/>\r\n",
       "     <use style=\"fill:#ff0000;stroke:#ff0000;\" x=\"160.562012\" xlink:href=\"#m39cfd0c9a1\" y=\"35.50314\"/>\r\n",
       "    </g>\r\n",
       "   </g>\r\n",
       "   <g id=\"text_1\">\r\n",
       "    <g clip-path=\"url(#p16992610fa)\">\r\n",
       "     <!-- (0, 0) -->\r\n",
       "     <defs>\r\n",
       "      <path d=\"M 31 75.875 \r\n",
       "Q 24.46875 64.65625 21.28125 53.65625 \r\n",
       "Q 18.109375 42.671875 18.109375 31.390625 \r\n",
       "Q 18.109375 20.125 21.3125 9.0625 \r\n",
       "Q 24.515625 -2 31 -13.1875 \r\n",
       "L 23.1875 -13.1875 \r\n",
       "Q 15.875 -1.703125 12.234375 9.375 \r\n",
       "Q 8.59375 20.453125 8.59375 31.390625 \r\n",
       "Q 8.59375 42.28125 12.203125 53.3125 \r\n",
       "Q 15.828125 64.359375 23.1875 75.875 \r\n",
       "z\r\n",
       "\" id=\"DejaVuSans-40\"/>\r\n",
       "      <path d=\"M 31.78125 66.40625 \r\n",
       "Q 24.171875 66.40625 20.328125 58.90625 \r\n",
       "Q 16.5 51.421875 16.5 36.375 \r\n",
       "Q 16.5 21.390625 20.328125 13.890625 \r\n",
       "Q 24.171875 6.390625 31.78125 6.390625 \r\n",
       "Q 39.453125 6.390625 43.28125 13.890625 \r\n",
       "Q 47.125 21.390625 47.125 36.375 \r\n",
       "Q 47.125 51.421875 43.28125 58.90625 \r\n",
       "Q 39.453125 66.40625 31.78125 66.40625 \r\n",
       "z\r\n",
       "M 31.78125 74.21875 \r\n",
       "Q 44.046875 74.21875 50.515625 64.515625 \r\n",
       "Q 56.984375 54.828125 56.984375 36.375 \r\n",
       "Q 56.984375 17.96875 50.515625 8.265625 \r\n",
       "Q 44.046875 -1.421875 31.78125 -1.421875 \r\n",
       "Q 19.53125 -1.421875 13.0625 8.265625 \r\n",
       "Q 6.59375 17.96875 6.59375 36.375 \r\n",
       "Q 6.59375 54.828125 13.0625 64.515625 \r\n",
       "Q 19.53125 74.21875 31.78125 74.21875 \r\n",
       "z\r\n",
       "\" id=\"DejaVuSans-48\"/>\r\n",
       "      <path d=\"M 11.71875 12.40625 \r\n",
       "L 22.015625 12.40625 \r\n",
       "L 22.015625 4 \r\n",
       "L 14.015625 -11.625 \r\n",
       "L 7.71875 -11.625 \r\n",
       "L 11.71875 4 \r\n",
       "z\r\n",
       "\" id=\"DejaVuSans-44\"/>\r\n",
       "      <path id=\"DejaVuSans-32\"/>\r\n",
       "      <path d=\"M 8.015625 75.875 \r\n",
       "L 15.828125 75.875 \r\n",
       "Q 23.140625 64.359375 26.78125 53.3125 \r\n",
       "Q 30.421875 42.28125 30.421875 31.390625 \r\n",
       "Q 30.421875 20.453125 26.78125 9.375 \r\n",
       "Q 23.140625 -1.703125 15.828125 -13.1875 \r\n",
       "L 8.015625 -13.1875 \r\n",
       "Q 14.5 -2 17.703125 9.0625 \r\n",
       "Q 20.90625 20.125 20.90625 31.390625 \r\n",
       "Q 20.90625 42.671875 17.703125 53.65625 \r\n",
       "Q 14.5 64.65625 8.015625 75.875 \r\n",
       "z\r\n",
       "\" id=\"DejaVuSans-41\"/>\r\n",
       "     </defs>\r\n",
       "     <g transform=\"translate(15.853438 308.36811)scale(0.12 -0.12)\">\r\n",
       "      <use xlink:href=\"#DejaVuSans-40\"/>\r\n",
       "      <use x=\"39.013672\" xlink:href=\"#DejaVuSans-48\"/>\r\n",
       "      <use x=\"102.636719\" xlink:href=\"#DejaVuSans-44\"/>\r\n",
       "      <use x=\"134.423828\" xlink:href=\"#DejaVuSans-32\"/>\r\n",
       "      <use x=\"166.210938\" xlink:href=\"#DejaVuSans-48\"/>\r\n",
       "      <use x=\"229.833984\" xlink:href=\"#DejaVuSans-41\"/>\r\n",
       "     </g>\r\n",
       "    </g>\r\n",
       "   </g>\r\n",
       "   <g id=\"text_2\">\r\n",
       "    <g clip-path=\"url(#p16992610fa)\">\r\n",
       "     <!-- (0, 1) -->\r\n",
       "     <defs>\r\n",
       "      <path d=\"M 12.40625 8.296875 \r\n",
       "L 28.515625 8.296875 \r\n",
       "L 28.515625 63.921875 \r\n",
       "L 10.984375 60.40625 \r\n",
       "L 10.984375 69.390625 \r\n",
       "L 28.421875 72.90625 \r\n",
       "L 38.28125 72.90625 \r\n",
       "L 38.28125 8.296875 \r\n",
       "L 54.390625 8.296875 \r\n",
       "L 54.390625 0 \r\n",
       "L 12.40625 0 \r\n",
       "z\r\n",
       "\" id=\"DejaVuSans-49\"/>\r\n",
       "     </defs>\r\n",
       "     <g transform=\"translate(15.853438 240.97968)scale(0.12 -0.12)\">\r\n",
       "      <use xlink:href=\"#DejaVuSans-40\"/>\r\n",
       "      <use x=\"39.013672\" xlink:href=\"#DejaVuSans-48\"/>\r\n",
       "      <use x=\"102.636719\" xlink:href=\"#DejaVuSans-44\"/>\r\n",
       "      <use x=\"134.423828\" xlink:href=\"#DejaVuSans-32\"/>\r\n",
       "      <use x=\"166.210938\" xlink:href=\"#DejaVuSans-49\"/>\r\n",
       "      <use x=\"229.833984\" xlink:href=\"#DejaVuSans-41\"/>\r\n",
       "     </g>\r\n",
       "    </g>\r\n",
       "   </g>\r\n",
       "   <g id=\"text_3\">\r\n",
       "    <g clip-path=\"url(#p16992610fa)\">\r\n",
       "     <!-- (0, 2) -->\r\n",
       "     <defs>\r\n",
       "      <path d=\"M 19.1875 8.296875 \r\n",
       "L 53.609375 8.296875 \r\n",
       "L 53.609375 0 \r\n",
       "L 7.328125 0 \r\n",
       "L 7.328125 8.296875 \r\n",
       "Q 12.9375 14.109375 22.625 23.890625 \r\n",
       "Q 32.328125 33.6875 34.8125 36.53125 \r\n",
       "Q 39.546875 41.84375 41.421875 45.53125 \r\n",
       "Q 43.3125 49.21875 43.3125 52.78125 \r\n",
       "Q 43.3125 58.59375 39.234375 62.25 \r\n",
       "Q 35.15625 65.921875 28.609375 65.921875 \r\n",
       "Q 23.96875 65.921875 18.8125 64.3125 \r\n",
       "Q 13.671875 62.703125 7.8125 59.421875 \r\n",
       "L 7.8125 69.390625 \r\n",
       "Q 13.765625 71.78125 18.9375 73 \r\n",
       "Q 24.125 74.21875 28.421875 74.21875 \r\n",
       "Q 39.75 74.21875 46.484375 68.546875 \r\n",
       "Q 53.21875 62.890625 53.21875 53.421875 \r\n",
       "Q 53.21875 48.921875 51.53125 44.890625 \r\n",
       "Q 49.859375 40.875 45.40625 35.40625 \r\n",
       "Q 44.1875 33.984375 37.640625 27.21875 \r\n",
       "Q 31.109375 20.453125 19.1875 8.296875 \r\n",
       "z\r\n",
       "\" id=\"DejaVuSans-50\"/>\r\n",
       "     </defs>\r\n",
       "     <g transform=\"translate(15.853438 173.59125)scale(0.12 -0.12)\">\r\n",
       "      <use xlink:href=\"#DejaVuSans-40\"/>\r\n",
       "      <use x=\"39.013672\" xlink:href=\"#DejaVuSans-48\"/>\r\n",
       "      <use x=\"102.636719\" xlink:href=\"#DejaVuSans-44\"/>\r\n",
       "      <use x=\"134.423828\" xlink:href=\"#DejaVuSans-32\"/>\r\n",
       "      <use x=\"166.210938\" xlink:href=\"#DejaVuSans-50\"/>\r\n",
       "      <use x=\"229.833984\" xlink:href=\"#DejaVuSans-41\"/>\r\n",
       "     </g>\r\n",
       "    </g>\r\n",
       "   </g>\r\n",
       "   <g id=\"text_4\">\r\n",
       "    <g clip-path=\"url(#p16992610fa)\">\r\n",
       "     <!-- (0, 3) -->\r\n",
       "     <defs>\r\n",
       "      <path d=\"M 40.578125 39.3125 \r\n",
       "Q 47.65625 37.796875 51.625 33 \r\n",
       "Q 55.609375 28.21875 55.609375 21.1875 \r\n",
       "Q 55.609375 10.40625 48.1875 4.484375 \r\n",
       "Q 40.765625 -1.421875 27.09375 -1.421875 \r\n",
       "Q 22.515625 -1.421875 17.65625 -0.515625 \r\n",
       "Q 12.796875 0.390625 7.625 2.203125 \r\n",
       "L 7.625 11.71875 \r\n",
       "Q 11.71875 9.328125 16.59375 8.109375 \r\n",
       "Q 21.484375 6.890625 26.8125 6.890625 \r\n",
       "Q 36.078125 6.890625 40.9375 10.546875 \r\n",
       "Q 45.796875 14.203125 45.796875 21.1875 \r\n",
       "Q 45.796875 27.640625 41.28125 31.265625 \r\n",
       "Q 36.765625 34.90625 28.71875 34.90625 \r\n",
       "L 20.21875 34.90625 \r\n",
       "L 20.21875 43.015625 \r\n",
       "L 29.109375 43.015625 \r\n",
       "Q 36.375 43.015625 40.234375 45.921875 \r\n",
       "Q 44.09375 48.828125 44.09375 54.296875 \r\n",
       "Q 44.09375 59.90625 40.109375 62.90625 \r\n",
       "Q 36.140625 65.921875 28.71875 65.921875 \r\n",
       "Q 24.65625 65.921875 20.015625 65.03125 \r\n",
       "Q 15.375 64.15625 9.8125 62.3125 \r\n",
       "L 9.8125 71.09375 \r\n",
       "Q 15.4375 72.65625 20.34375 73.4375 \r\n",
       "Q 25.25 74.21875 29.59375 74.21875 \r\n",
       "Q 40.828125 74.21875 47.359375 69.109375 \r\n",
       "Q 53.90625 64.015625 53.90625 55.328125 \r\n",
       "Q 53.90625 49.265625 50.4375 45.09375 \r\n",
       "Q 46.96875 40.921875 40.578125 39.3125 \r\n",
       "z\r\n",
       "\" id=\"DejaVuSans-51\"/>\r\n",
       "     </defs>\r\n",
       "     <g transform=\"translate(15.853438 106.20282)scale(0.12 -0.12)\">\r\n",
       "      <use xlink:href=\"#DejaVuSans-40\"/>\r\n",
       "      <use x=\"39.013672\" xlink:href=\"#DejaVuSans-48\"/>\r\n",
       "      <use x=\"102.636719\" xlink:href=\"#DejaVuSans-44\"/>\r\n",
       "      <use x=\"134.423828\" xlink:href=\"#DejaVuSans-32\"/>\r\n",
       "      <use x=\"166.210938\" xlink:href=\"#DejaVuSans-51\"/>\r\n",
       "      <use x=\"229.833984\" xlink:href=\"#DejaVuSans-41\"/>\r\n",
       "     </g>\r\n",
       "    </g>\r\n",
       "   </g>\r\n",
       "   <g id=\"text_5\">\r\n",
       "    <g clip-path=\"url(#p16992610fa)\">\r\n",
       "     <!-- (1, 3) -->\r\n",
       "     <g transform=\"translate(144.431387 106.20282)scale(0.12 -0.12)\">\r\n",
       "      <use xlink:href=\"#DejaVuSans-40\"/>\r\n",
       "      <use x=\"39.013672\" xlink:href=\"#DejaVuSans-49\"/>\r\n",
       "      <use x=\"102.636719\" xlink:href=\"#DejaVuSans-44\"/>\r\n",
       "      <use x=\"134.423828\" xlink:href=\"#DejaVuSans-32\"/>\r\n",
       "      <use x=\"166.210938\" xlink:href=\"#DejaVuSans-51\"/>\r\n",
       "      <use x=\"229.833984\" xlink:href=\"#DejaVuSans-41\"/>\r\n",
       "     </g>\r\n",
       "    </g>\r\n",
       "   </g>\r\n",
       "   <g id=\"text_6\">\r\n",
       "    <g clip-path=\"url(#p16992610fa)\">\r\n",
       "     <!-- (0, 4) -->\r\n",
       "     <defs>\r\n",
       "      <path d=\"M 37.796875 64.3125 \r\n",
       "L 12.890625 25.390625 \r\n",
       "L 37.796875 25.390625 \r\n",
       "z\r\n",
       "M 35.203125 72.90625 \r\n",
       "L 47.609375 72.90625 \r\n",
       "L 47.609375 25.390625 \r\n",
       "L 58.015625 25.390625 \r\n",
       "L 58.015625 17.1875 \r\n",
       "L 47.609375 17.1875 \r\n",
       "L 47.609375 0 \r\n",
       "L 37.796875 0 \r\n",
       "L 37.796875 17.1875 \r\n",
       "L 4.890625 17.1875 \r\n",
       "L 4.890625 26.703125 \r\n",
       "z\r\n",
       "\" id=\"DejaVuSans-52\"/>\r\n",
       "     </defs>\r\n",
       "     <g transform=\"translate(15.853438 38.81439)scale(0.12 -0.12)\">\r\n",
       "      <use xlink:href=\"#DejaVuSans-40\"/>\r\n",
       "      <use x=\"39.013672\" xlink:href=\"#DejaVuSans-48\"/>\r\n",
       "      <use x=\"102.636719\" xlink:href=\"#DejaVuSans-44\"/>\r\n",
       "      <use x=\"134.423828\" xlink:href=\"#DejaVuSans-32\"/>\r\n",
       "      <use x=\"166.210938\" xlink:href=\"#DejaVuSans-52\"/>\r\n",
       "      <use x=\"229.833984\" xlink:href=\"#DejaVuSans-41\"/>\r\n",
       "     </g>\r\n",
       "    </g>\r\n",
       "   </g>\r\n",
       "   <g id=\"text_7\">\r\n",
       "    <g clip-path=\"url(#p16992610fa)\">\r\n",
       "     <!-- (1, 4) -->\r\n",
       "     <g transform=\"translate(144.431387 38.81439)scale(0.12 -0.12)\">\r\n",
       "      <use xlink:href=\"#DejaVuSans-40\"/>\r\n",
       "      <use x=\"39.013672\" xlink:href=\"#DejaVuSans-49\"/>\r\n",
       "      <use x=\"102.636719\" xlink:href=\"#DejaVuSans-44\"/>\r\n",
       "      <use x=\"134.423828\" xlink:href=\"#DejaVuSans-32\"/>\r\n",
       "      <use x=\"166.210938\" xlink:href=\"#DejaVuSans-52\"/>\r\n",
       "      <use x=\"229.833984\" xlink:href=\"#DejaVuSans-41\"/>\r\n",
       "     </g>\r\n",
       "    </g>\r\n",
       "   </g>\r\n",
       "  </g>\r\n",
       " </g>\r\n",
       " <defs>\r\n",
       "  <clipPath id=\"p16992610fa\">\r\n",
       "   <rect height=\"326.16\" width=\"167.4\" x=\"7.2\" y=\"7.2\"/>\r\n",
       "  </clipPath>\r\n",
       " </defs>\r\n",
       "</svg>\r\n"
      ],
      "text/plain": [
       "<Figure size 216x432 with 1 Axes>"
      ]
     },
     "metadata": {},
     "output_type": "display_data"
    }
   ],
   "source": [
    "abg.markov.visualise_ambulance_markov_chain(\n",
    "    num_of_servers=num_of_servers, \n",
    "    threshold=threshold, \n",
    "    system_capacity=system_capacity, \n",
    "    buffer_capacity=buffer_capacity\n",
    ")"
   ]
  },
  {
   "cell_type": "code",
   "execution_count": 31,
   "metadata": {},
   "outputs": [
    {
     "data": {
      "text/latex": [
       "$\\displaystyle \\left[ \\left( 0, \\  0\\right), \\  \\left( 0, \\  1\\right), \\  \\left( 0, \\  2\\right), \\  \\left( 0, \\  3\\right), \\  \\left( 1, \\  3\\right), \\  \\left( 0, \\  4\\right), \\  \\left( 1, \\  4\\right)\\right]$"
      ],
      "text/plain": [
       "[(0, 0), (0, 1), (0, 2), (0, 3), (1, 3), (0, 4), (1, 4)]"
      ]
     },
     "execution_count": 31,
     "metadata": {},
     "output_type": "execute_result"
    }
   ],
   "source": [
    "all_states_1341"
   ]
  },
  {
   "cell_type": "code",
   "execution_count": 32,
   "metadata": {},
   "outputs": [
    {
     "data": {
      "text/latex": [
       "$\\displaystyle \\left[\\begin{matrix}- \\Lambda & \\Lambda & 0 & 0 & 0 & 0 & 0\\\\\\mu & - \\Lambda - \\mu & \\Lambda & 0 & 0 & 0 & 0\\\\0 & \\mu & - \\Lambda - \\mu & \\Lambda & 0 & 0 & 0\\\\0 & 0 & \\mu & - \\lambda^{A} - \\lambda^{o} - \\mu & \\lambda^{A} & \\lambda^{o} & 0\\\\0 & 0 & 0 & \\mu & - \\lambda^{o} - \\mu & 0 & \\lambda^{o}\\\\0 & 0 & 0 & \\mu & 0 & - \\lambda^{A} - \\mu & \\lambda^{A}\\\\0 & 0 & 0 & 0 & \\mu & 0 & - \\mu\\end{matrix}\\right]$"
      ],
      "text/plain": [
       "⎡-Λ    Λ       0            0              0          0       0  ⎤\n",
       "⎢                                                                ⎥\n",
       "⎢μ   -Λ - μ    Λ            0              0          0       0  ⎥\n",
       "⎢                                                                ⎥\n",
       "⎢0     μ     -Λ - μ         Λ              0          0       0  ⎥\n",
       "⎢                                                                ⎥\n",
       "⎢0     0       μ     -λ__A - λ__o - μ    λ__A       λ__o      0  ⎥\n",
       "⎢                                                                ⎥\n",
       "⎢0     0       0            μ          -λ__o - μ      0      λ__o⎥\n",
       "⎢                                                                ⎥\n",
       "⎢0     0       0            μ              0      -λ__A - μ  λ__A⎥\n",
       "⎢                                                                ⎥\n",
       "⎣0     0       0            0              μ          0       -μ ⎦"
      ]
     },
     "execution_count": 32,
     "metadata": {},
     "output_type": "execute_result"
    }
   ],
   "source": [
    "Q_sym_1341"
   ]
  },
  {
   "cell_type": "code",
   "execution_count": 33,
   "metadata": {},
   "outputs": [
    {
     "data": {
      "text/latex": [
       "$\\displaystyle \\left( \\left[\\begin{matrix}1 & \\frac{\\Lambda}{\\mu} & \\frac{\\Lambda}{\\mu} & \\frac{\\Lambda}{\\mu} & \\frac{\\lambda^{o}}{\\lambda^{A} + \\mu}\\\\0 & 0 & 0 & \\frac{\\lambda^{A} \\left(\\lambda^{A} + \\lambda^{o} + \\mu\\right)}{\\mu \\left(\\lambda^{A} + \\mu\\right)} & \\frac{\\lambda^{A} \\left(\\lambda^{A} + \\lambda^{o} + 2 \\mu\\right)}{\\mu^{2}}\\end{matrix}\\right], \\  \\left[\\begin{matrix}1 & \\frac{\\Lambda}{\\mu} & \\frac{\\Lambda}{\\mu} & \\frac{\\Lambda}{\\mu} & \\frac{\\lambda^{o}}{\\lambda^{A} + \\mu}\\\\0 & 0 & 0 & \\frac{\\lambda^{A} \\left(\\lambda^{A} + \\lambda^{o} + \\mu\\right)}{\\mu \\left(\\lambda^{A} + \\mu\\right)} & \\frac{\\lambda^{o} \\left(\\lambda^{A} + \\lambda^{o} + 2 \\mu\\right)}{\\mu \\left(\\lambda^{A} + \\lambda^{o} + \\mu\\right)}\\end{matrix}\\right]\\right)$"
      ],
      "text/plain": [
       "⎛⎡   Λ  Λ            Λ                       λ__o          ⎤                  \n",
       "⎜⎢1  ─  ─            ─                     ────────        ⎥  ⎡   Λ  Λ        \n",
       "⎜⎢   μ  μ            μ                     λ__A + μ        ⎥  ⎢1  ─  ─        \n",
       "⎜⎢                                                         ⎥  ⎢   μ  μ        \n",
       "⎜⎢         λ__A⋅(λ__A + λ__o + μ)  λ__A⋅(λ__A + λ__o + 2⋅μ)⎥, ⎢               \n",
       "⎜⎢0  0  0  ──────────────────────  ────────────────────────⎥  ⎢         λ__A⋅(\n",
       "⎜⎢              μ⋅(λ__A + μ)                   2           ⎥  ⎢0  0  0  ──────\n",
       "⎝⎣                                            μ            ⎦  ⎣              μ\n",
       "\n",
       "                                           ⎞\n",
       "    Λ                       λ__o          ⎤⎟\n",
       "    ─                     ────────        ⎥⎟\n",
       "    μ                     λ__A + μ        ⎥⎟\n",
       "                                          ⎥⎟\n",
       "λ__A + λ__o + μ)  λ__o⋅(λ__A + λ__o + 2⋅μ)⎥⎟\n",
       "────────────────  ────────────────────────⎥⎟\n",
       "⋅(λ__A + μ)         μ⋅(λ__A + λ__o + μ)   ⎦⎠"
      ]
     },
     "execution_count": 33,
     "metadata": {},
     "output_type": "execute_result"
    }
   ],
   "source": [
    "sym_state_recursive_ratios_1341, sym_state_recursive_ratios_right_1341"
   ]
  },
  {
   "cell_type": "code",
   "execution_count": 34,
   "metadata": {},
   "outputs": [
    {
     "data": {
      "text/latex": [
       "$\\displaystyle \\left[\\begin{matrix}1 & \\frac{\\Lambda}{\\mu} & \\frac{\\Lambda^{2}}{\\mu^{2}} & \\frac{\\Lambda^{3}}{\\mu^{3}} & \\frac{\\Lambda^{3} \\lambda^{o}}{\\mu^{3} \\left(\\lambda^{A} + \\mu\\right)}\\\\0 & 0 & 0 & \\frac{\\Lambda^{3} \\lambda^{A} \\left(\\lambda^{A} + \\lambda^{o} + \\mu\\right)}{\\mu^{4} \\left(\\lambda^{A} + \\mu\\right)} & \\frac{\\Lambda^{3} \\lambda^{A} \\lambda^{o} \\left(\\lambda^{A} + \\lambda^{o} + 2 \\mu\\right)}{\\mu^{5} \\left(\\lambda^{A} + \\mu\\right)}\\end{matrix}\\right]$"
      ],
      "text/plain": [
       "⎡       2              3                           3                  ⎤\n",
       "⎢   Λ  Λ              Λ                           Λ ⋅λ__o             ⎥\n",
       "⎢1  ─  ──             ──                       ─────────────          ⎥\n",
       "⎢   μ   2              3                        3                     ⎥\n",
       "⎢      μ              μ                        μ ⋅(λ__A + μ)          ⎥\n",
       "⎢                                                                     ⎥\n",
       "⎢           3                          3                              ⎥\n",
       "⎢          Λ ⋅λ__A⋅(λ__A + λ__o + μ)  Λ ⋅λ__A⋅λ__o⋅(λ__A + λ__o + 2⋅μ)⎥\n",
       "⎢0  0  0   ─────────────────────────  ────────────────────────────────⎥\n",
       "⎢                 4                             5                     ⎥\n",
       "⎣                μ ⋅(λ__A + μ)                 μ ⋅(λ__A + μ)          ⎦"
      ]
     },
     "execution_count": 34,
     "metadata": {},
     "output_type": "execute_result"
    }
   ],
   "source": [
    "sym_state_recursive_ratios_P0_1341"
   ]
  },
  {
   "cell_type": "code",
   "execution_count": null,
   "metadata": {},
   "outputs": [],
   "source": []
  },
  {
   "cell_type": "code",
   "execution_count": null,
   "metadata": {},
   "outputs": [],
   "source": []
  },
  {
   "cell_type": "markdown",
   "metadata": {},
   "source": [
    "# $C=1, T=1, N=3, M=1$"
   ]
  },
  {
   "cell_type": "code",
   "execution_count": 35,
   "metadata": {},
   "outputs": [],
   "source": [
    "num_of_servers = 1\n",
    "threshold = 1\n",
    "system_capacity = 3\n",
    "buffer_capacity = 1\n",
    "\n",
    "all_states_1131 = abg.markov.build_states(threshold=threshold, system_capacity=system_capacity, buffer_capacity=buffer_capacity)\n",
    "Q_sym_1131 = abg.markov.get_symbolic_transition_matrix(num_of_servers, threshold, system_capacity, buffer_capacity)\n",
    "sym_pi_1131 = get_symbolic_pi(num_of_servers=num_of_servers, threshold=threshold, system_capacity=system_capacity, buffer_capacity=buffer_capacity)\n",
    "sym_state_probs_1131 = [0 for _ in range(len(all_states_1131))]"
   ]
  },
  {
   "cell_type": "code",
   "execution_count": 36,
   "metadata": {},
   "outputs": [],
   "source": [
    "sym_Lambda = sym.symbols(\"Lambda\")\n",
    "sym_lambda_1 = sym.symbols(\"lambda_1\")\n",
    "sym_lambda_2 = sym.symbols(\"lambda_2\")\n",
    "sym_mu = sym.symbols(\"mu\")"
   ]
  },
  {
   "cell_type": "code",
   "execution_count": 37,
   "metadata": {},
   "outputs": [],
   "source": [
    "# (0,0)\n",
    "sym_state_probs_1131[0] = (sym_mu ** 6) + 2 * (sym_lambda_2 * (sym_mu ** 5)) + ((sym_lambda_2 ** 2) * (sym_mu ** 4)) + (sym_lambda_1 * sym_lambda_2 * (sym_mu ** 4))\n",
    "# (0,1)\n",
    "sym_state_probs_1131[1] = sym_state_probs_1131[0] * sym_Lambda / sym_mu \n",
    "# (1,1)\n",
    "sym_state_probs_1131[2] = (sym_Lambda * (sym_lambda_1 ** 2) * sym_lambda_2 * (sym_mu ** 2)) + (sym_Lambda * sym_lambda_2 * sym_lambda_1 * (sym_mu ** 3)) + 2 * (sym_Lambda * sym_lambda_1 * (sym_lambda_2 ** 2) * (sym_mu ** 2)) + 2 * (sym_Lambda * (sym_lambda_2 ** 2) * (sym_mu ** 3)) + (sym_Lambda * (sym_lambda_2 ** 3) * (sym_mu ** 2)) + (sym_Lambda * sym_lambda_2 * (sym_mu ** 4)) \n",
    "# (0,2)\n",
    "sym_state_probs_1131[3] = sym_Lambda * sym_lambda_1 * sym_mu ** 3 * (sym_lambda_2 + sym_mu)\n",
    "# (1,2)\n",
    "sym_state_probs_1131[4] = (sym_Lambda * sym_lambda_2 * sym_lambda_1 * sym_mu) * ((sym_lambda_2 ** 2) + 2 * sym_lambda_2 * sym_lambda_1 + 3 * sym_lambda_2 * sym_mu + (sym_lambda_1 ** 2) + 2 * sym_lambda_1 * sym_mu + 2 * (sym_mu ** 2)) \n",
    "# (0,3)\n",
    "sym_state_probs_1131[5] = sym_Lambda * (sym_lambda_1 ** 2) * (sym_mu ** 3) \n",
    "# (1,3)\n",
    "sym_state_probs_1131[6] = (sym_Lambda * sym_lambda_2 * (sym_lambda_1 ** 2)) * ((sym_lambda_2 ** 2) + 2 * sym_lambda_2 * sym_lambda_1 + 3 * sym_lambda_2 * sym_mu + (sym_lambda_1 ** 2) + 2 * sym_lambda_1 * sym_mu + 3 * (sym_mu ** 2))\n",
    "\n",
    "denominator = sym_Lambda*sym_lambda_2**3*sym_lambda_1**2 + sym_Lambda*sym_lambda_2**3*sym_lambda_1*sym_mu + sym_Lambda*sym_lambda_2**3*sym_mu**2 + 2*sym_Lambda*sym_lambda_2**2*sym_lambda_1**3 + 5*sym_Lambda*sym_lambda_2**2*sym_lambda_1**2*sym_mu + 5*sym_Lambda*sym_lambda_2**2*sym_lambda_1*sym_mu**2 + 3*sym_Lambda*sym_lambda_2**2*sym_mu**3 + sym_Lambda*sym_lambda_2*sym_lambda_1**4 + 3*sym_Lambda*sym_lambda_2*sym_lambda_1**3*sym_mu + 6*sym_Lambda*sym_lambda_2*sym_lambda_1**2*sym_mu**2 + 5*sym_Lambda*sym_lambda_2*sym_lambda_1*sym_mu**3 + 3*sym_Lambda*sym_lambda_2*sym_mu**4 + sym_Lambda*sym_lambda_1**2*sym_mu**3 + sym_Lambda*sym_lambda_1*sym_mu**4 + sym_Lambda*sym_mu**5 + sym_lambda_2**2*sym_mu**4 + sym_lambda_2*sym_lambda_1*sym_mu**4 + 2*sym_lambda_2*sym_mu**5 + sym_mu**6\n",
    "\n",
    "sym_state_probs_1131 = [i/denominator for i in sym_state_probs_1131]\n",
    "\n"
   ]
  },
  {
   "cell_type": "code",
   "execution_count": 38,
   "metadata": {},
   "outputs": [],
   "source": [
    "sym_state_recursive_ratios_1131 = sym.zeros(buffer_capacity + 1, system_capacity + 1)\n",
    "sym_state_recursive_ratios_1131[0,0] = 1\n",
    "sym_state_recursive_ratios_1131[0,1] = sym.factor(sym_state_probs_1131[1] / sym_state_probs_1131[0])  # (0,0) -> (0,1) \n",
    "sym_state_recursive_ratios_1131[1,1] = sym.factor(sym_state_probs_1131[2] / sym_state_probs_1131[1])  # (0,1) -> (1,1)\n",
    "sym_state_recursive_ratios_1131[0,2] = sym.factor(sym_state_probs_1131[3] / sym_state_probs_1131[1])  # (0,1) -> (0,2)\n",
    "sym_state_recursive_ratios_1131[1,2] = sym.factor(sym_state_probs_1131[4] / sym_state_probs_1131[3])  # (0,2) -> (1,2)\n",
    "sym_state_recursive_ratios_1131[0,3] = sym.factor(sym_state_probs_1131[5] / sym_state_probs_1131[3])  # (0,2) -> (0,3)\n",
    "sym_state_recursive_ratios_1131[1,3] = sym.factor(sym_state_probs_1131[6] / sym_state_probs_1131[5])  # (0,3) -> (1,3)\n",
    "\n",
    "sym_state_recursive_ratios_right_1131 = sym_state_recursive_ratios_1131.copy()\n",
    "sym_state_recursive_ratios_right_1131[1,2] = sym.factor(sym_state_probs_1131[4] / sym_state_probs_1131[2])  # (1,1) -> (1,2)\n",
    "sym_state_recursive_ratios_right_1131[1,3] = sym.factor(sym_state_probs_1131[6] / sym_state_probs_1131[4])  # (1,2) -> (1,3)\n",
    "\n",
    "sym_state_recursive_ratios_P0_1131 = sym.zeros(buffer_capacity + 1, system_capacity + 1)\n",
    "sym_state_recursive_ratios_P0_1131[0,0] = 1\n",
    "sym_state_recursive_ratios_P0_1131[0,1] = sym.factor(sym_state_probs_1131[1] / sym_state_probs_1131[0])  # (0,0) -> (0,1) \n",
    "sym_state_recursive_ratios_P0_1131[1,1] = sym.factor(sym_state_probs_1131[2] / sym_state_probs_1131[0])  # (0,0) -> (1,1)\n",
    "sym_state_recursive_ratios_P0_1131[0,2] = sym.factor(sym_state_probs_1131[3] / sym_state_probs_1131[0])  # (0,0) -> (0,2)\n",
    "sym_state_recursive_ratios_P0_1131[1,2] = sym.factor(sym_state_probs_1131[4] / sym_state_probs_1131[0])  # (0,0) -> (1,2)\n",
    "sym_state_recursive_ratios_P0_1131[0,3] = sym.factor(sym_state_probs_1131[5] / sym_state_probs_1131[0])  # (0,0) -> (0,3)\n",
    "sym_state_recursive_ratios_P0_1131[1,3] = sym.factor(sym_state_probs_1131[6] / sym_state_probs_1131[0])  # (0,0) -> (1,3)\n"
   ]
  },
  {
   "cell_type": "code",
   "execution_count": 39,
   "metadata": {},
   "outputs": [
    {
     "data": {
      "text/plain": [
       "<networkx.classes.multidigraph.MultiDiGraph at 0x13f2a9aeaf0>"
      ]
     },
     "execution_count": 39,
     "metadata": {},
     "output_type": "execute_result"
    },
    {
     "data": {
      "image/png": "[encoded data removed]",
      "image/svg+xml": [
       "<?xml version=\"1.0\" encoding=\"utf-8\" standalone=\"no\"?>\r\n",
       "<!DOCTYPE svg PUBLIC \"-//W3C//DTD SVG 1.1//EN\"\r\n",
       "  \"http://www.w3.org/Graphics/SVG/1.1/DTD/svg11.dtd\">\r\n",
       "<!-- Created with matplotlib (https://matplotlib.org/) -->\r\n",
       "<svg height=\"259.02pt\" version=\"1.1\" viewBox=\"0 0 181.8 259.02\" width=\"181.8pt\" xmlns=\"http://www.w3.org/2000/svg\" xmlns:xlink=\"http://www.w3.org/1999/xlink\">\r\n",
       " <defs>\r\n",
       "  <style type=\"text/css\">\r\n",
       "*{stroke-linecap:butt;stroke-linejoin:round;}\r\n",
       "  </style>\r\n",
       " </defs>\r\n",
       " <g id=\"figure_1\">\r\n",
       "  <g id=\"patch_1\">\r\n",
       "   <path d=\"M 0 259.02 \r\n",
       "L 181.8 259.02 \r\n",
       "L 181.8 0 \r\n",
       "L 0 0 \r\n",
       "z\r\n",
       "\" style=\"fill:none;\"/>\r\n",
       "  </g>\r\n",
       "  <g id=\"axes_1\">\r\n",
       "   <g id=\"patch_2\">\r\n",
       "    <path clip-path=\"url(#p5f9b971322)\" d=\"M 31.984063 230.592645 \r\n",
       "Q 31.984063 201.227429 31.984063 172.980247 \r\n",
       "\" style=\"fill:none;stroke:#000000;stroke-linecap:round;\"/>\r\n",
       "    <path clip-path=\"url(#p5f9b971322)\" d=\"M 29.984063 176.980247 \r\n",
       "L 31.984063 172.980247 \r\n",
       "L 33.984063 176.980247 \r\n",
       "L 29.984063 176.980247 \r\n",
       "z\r\n",
       "\" style=\"stroke:#000000;stroke-linecap:round;\"/>\r\n",
       "   </g>\r\n",
       "   <g id=\"patch_3\">\r\n",
       "    <path clip-path=\"url(#p5f9b971322)\" d=\"M 31.984063 163.204215 \r\n",
       "Q 91.943027 163.204215 150.783958 163.204215 \r\n",
       "\" style=\"fill:none;stroke:#000000;stroke-linecap:round;\"/>\r\n",
       "    <path clip-path=\"url(#p5f9b971322)\" d=\"M 146.783958 161.204215 \r\n",
       "L 150.783958 163.204215 \r\n",
       "L 146.783958 165.204215 \r\n",
       "L 146.783958 161.204215 \r\n",
       "z\r\n",
       "\" style=\"stroke:#000000;stroke-linecap:round;\"/>\r\n",
       "   </g>\r\n",
       "   <g id=\"patch_4\">\r\n",
       "    <path clip-path=\"url(#p5f9b971322)\" d=\"M 31.984063 163.204215 \r\n",
       "Q 31.984063 133.838999 31.984063 105.591817 \r\n",
       "\" style=\"fill:none;stroke:#000000;stroke-linecap:round;\"/>\r\n",
       "    <path clip-path=\"url(#p5f9b971322)\" d=\"M 29.984063 109.591817 \r\n",
       "L 31.984063 105.591817 \r\n",
       "L 33.984063 109.591817 \r\n",
       "L 29.984063 109.591817 \r\n",
       "z\r\n",
       "\" style=\"stroke:#000000;stroke-linecap:round;\"/>\r\n",
       "   </g>\r\n",
       "   <g id=\"patch_5\">\r\n",
       "    <path clip-path=\"url(#p5f9b971322)\" d=\"M 160.562012 163.204215 \r\n",
       "Q 160.562012 133.838999 160.562012 105.591817 \r\n",
       "\" style=\"fill:none;stroke:#000000;stroke-linecap:round;\"/>\r\n",
       "    <path clip-path=\"url(#p5f9b971322)\" d=\"M 158.562012 109.591817 \r\n",
       "L 160.562012 105.591817 \r\n",
       "L 162.562012 109.591817 \r\n",
       "L 158.562012 109.591817 \r\n",
       "z\r\n",
       "\" style=\"stroke:#000000;stroke-linecap:round;\"/>\r\n",
       "   </g>\r\n",
       "   <g id=\"patch_6\">\r\n",
       "    <path clip-path=\"url(#p5f9b971322)\" d=\"M 31.984063 95.815785 \r\n",
       "Q 91.943027 95.815785 150.783958 95.815785 \r\n",
       "\" style=\"fill:none;stroke:#000000;stroke-linecap:round;\"/>\r\n",
       "    <path clip-path=\"url(#p5f9b971322)\" d=\"M 146.783958 93.815785 \r\n",
       "L 150.783958 95.815785 \r\n",
       "L 146.783958 97.815785 \r\n",
       "L 146.783958 93.815785 \r\n",
       "z\r\n",
       "\" style=\"stroke:#000000;stroke-linecap:round;\"/>\r\n",
       "   </g>\r\n",
       "   <g id=\"patch_7\">\r\n",
       "    <path clip-path=\"url(#p5f9b971322)\" d=\"M 31.984063 95.815785 \r\n",
       "Q 31.984063 66.450569 31.984063 38.203388 \r\n",
       "\" style=\"fill:none;stroke:#000000;stroke-linecap:round;\"/>\r\n",
       "    <path clip-path=\"url(#p5f9b971322)\" d=\"M 29.984063 42.203388 \r\n",
       "L 31.984063 38.203388 \r\n",
       "L 33.984063 42.203388 \r\n",
       "L 29.984063 42.203388 \r\n",
       "z\r\n",
       "\" style=\"stroke:#000000;stroke-linecap:round;\"/>\r\n",
       "   </g>\r\n",
       "   <g id=\"patch_8\">\r\n",
       "    <path clip-path=\"url(#p5f9b971322)\" d=\"M 160.562012 95.815785 \r\n",
       "Q 160.562012 66.450569 160.562012 38.203388 \r\n",
       "\" style=\"fill:none;stroke:#000000;stroke-linecap:round;\"/>\r\n",
       "    <path clip-path=\"url(#p5f9b971322)\" d=\"M 158.562012 42.203388 \r\n",
       "L 160.562012 38.203388 \r\n",
       "L 162.562012 42.203388 \r\n",
       "L 158.562012 42.203388 \r\n",
       "z\r\n",
       "\" style=\"stroke:#000000;stroke-linecap:round;\"/>\r\n",
       "   </g>\r\n",
       "   <g id=\"patch_9\">\r\n",
       "    <path clip-path=\"url(#p5f9b971322)\" d=\"M 31.984063 28.427355 \r\n",
       "Q 91.943027 28.427355 150.783958 28.427355 \r\n",
       "\" style=\"fill:none;stroke:#000000;stroke-linecap:round;\"/>\r\n",
       "    <path clip-path=\"url(#p5f9b971322)\" d=\"M 146.783958 26.427355 \r\n",
       "L 150.783958 28.427355 \r\n",
       "L 146.783958 30.427355 \r\n",
       "L 146.783958 26.427355 \r\n",
       "z\r\n",
       "\" style=\"stroke:#000000;stroke-linecap:round;\"/>\r\n",
       "   </g>\r\n",
       "   <g id=\"PathCollection_1\">\r\n",
       "    <defs>\r\n",
       "     <path d=\"M 0 22.36068 \r\n",
       "C 5.930122 22.36068 11.618159 20.004617 15.811388 15.811388 \r\n",
       "C 20.004617 11.618159 22.36068 5.930122 22.36068 0 \r\n",
       "C 22.36068 -5.930122 20.004617 -11.618159 15.811388 -15.811388 \r\n",
       "C 11.618159 -20.004617 5.930122 -22.36068 0 -22.36068 \r\n",
       "C -5.930122 -22.36068 -11.618159 -20.004617 -15.811388 -15.811388 \r\n",
       "C -20.004617 -11.618159 -22.36068 -5.930122 -22.36068 0 \r\n",
       "C -22.36068 5.930122 -20.004617 11.618159 -15.811388 15.811388 \r\n",
       "C -11.618159 20.004617 -5.930122 22.36068 0 22.36068 \r\n",
       "z\r\n",
       "\" id=\"m44bc4a3041\" style=\"stroke:#1f78b4;\"/>\r\n",
       "    </defs>\r\n",
       "    <g clip-path=\"url(#p5f9b971322)\">\r\n",
       "     <use style=\"fill:#1f78b4;stroke:#1f78b4;\" x=\"31.984063\" xlink:href=\"#m44bc4a3041\" y=\"230.592645\"/>\r\n",
       "    </g>\r\n",
       "   </g>\r\n",
       "   <g id=\"PathCollection_2\">\r\n",
       "    <defs>\r\n",
       "     <path d=\"M 0 22.36068 \r\n",
       "C 5.930122 22.36068 11.618159 20.004617 15.811388 15.811388 \r\n",
       "C 20.004617 11.618159 22.36068 5.930122 22.36068 0 \r\n",
       "C 22.36068 -5.930122 20.004617 -11.618159 15.811388 -15.811388 \r\n",
       "C 11.618159 -20.004617 5.930122 -22.36068 0 -22.36068 \r\n",
       "C -5.930122 -22.36068 -11.618159 -20.004617 -15.811388 -15.811388 \r\n",
       "C -20.004617 -11.618159 -22.36068 -5.930122 -22.36068 0 \r\n",
       "C -22.36068 5.930122 -20.004617 11.618159 -15.811388 15.811388 \r\n",
       "C -11.618159 20.004617 -5.930122 22.36068 0 22.36068 \r\n",
       "z\r\n",
       "\" id=\"m999475bbce\" style=\"stroke:#ff0000;\"/>\r\n",
       "    </defs>\r\n",
       "    <g clip-path=\"url(#p5f9b971322)\">\r\n",
       "     <use style=\"fill:#ff0000;stroke:#ff0000;\" x=\"31.984063\" xlink:href=\"#m999475bbce\" y=\"163.204215\"/>\r\n",
       "     <use style=\"fill:#ff0000;stroke:#ff0000;\" x=\"160.562012\" xlink:href=\"#m999475bbce\" y=\"163.204215\"/>\r\n",
       "     <use style=\"fill:#ff0000;stroke:#ff0000;\" x=\"31.984063\" xlink:href=\"#m999475bbce\" y=\"95.815785\"/>\r\n",
       "     <use style=\"fill:#ff0000;stroke:#ff0000;\" x=\"160.562012\" xlink:href=\"#m999475bbce\" y=\"95.815785\"/>\r\n",
       "     <use style=\"fill:#ff0000;stroke:#ff0000;\" x=\"31.984063\" xlink:href=\"#m999475bbce\" y=\"28.427355\"/>\r\n",
       "     <use style=\"fill:#ff0000;stroke:#ff0000;\" x=\"160.562012\" xlink:href=\"#m999475bbce\" y=\"28.427355\"/>\r\n",
       "    </g>\r\n",
       "   </g>\r\n",
       "   <g id=\"text_1\">\r\n",
       "    <g clip-path=\"url(#p5f9b971322)\">\r\n",
       "     <!-- (0, 0) -->\r\n",
       "     <defs>\r\n",
       "      <path d=\"M 31 75.875 \r\n",
       "Q 24.46875 64.65625 21.28125 53.65625 \r\n",
       "Q 18.109375 42.671875 18.109375 31.390625 \r\n",
       "Q 18.109375 20.125 21.3125 9.0625 \r\n",
       "Q 24.515625 -2 31 -13.1875 \r\n",
       "L 23.1875 -13.1875 \r\n",
       "Q 15.875 -1.703125 12.234375 9.375 \r\n",
       "Q 8.59375 20.453125 8.59375 31.390625 \r\n",
       "Q 8.59375 42.28125 12.203125 53.3125 \r\n",
       "Q 15.828125 64.359375 23.1875 75.875 \r\n",
       "z\r\n",
       "\" id=\"DejaVuSans-40\"/>\r\n",
       "      <path d=\"M 31.78125 66.40625 \r\n",
       "Q 24.171875 66.40625 20.328125 58.90625 \r\n",
       "Q 16.5 51.421875 16.5 36.375 \r\n",
       "Q 16.5 21.390625 20.328125 13.890625 \r\n",
       "Q 24.171875 6.390625 31.78125 6.390625 \r\n",
       "Q 39.453125 6.390625 43.28125 13.890625 \r\n",
       "Q 47.125 21.390625 47.125 36.375 \r\n",
       "Q 47.125 51.421875 43.28125 58.90625 \r\n",
       "Q 39.453125 66.40625 31.78125 66.40625 \r\n",
       "z\r\n",
       "M 31.78125 74.21875 \r\n",
       "Q 44.046875 74.21875 50.515625 64.515625 \r\n",
       "Q 56.984375 54.828125 56.984375 36.375 \r\n",
       "Q 56.984375 17.96875 50.515625 8.265625 \r\n",
       "Q 44.046875 -1.421875 31.78125 -1.421875 \r\n",
       "Q 19.53125 -1.421875 13.0625 8.265625 \r\n",
       "Q 6.59375 17.96875 6.59375 36.375 \r\n",
       "Q 6.59375 54.828125 13.0625 64.515625 \r\n",
       "Q 19.53125 74.21875 31.78125 74.21875 \r\n",
       "z\r\n",
       "\" id=\"DejaVuSans-48\"/>\r\n",
       "      <path d=\"M 11.71875 12.40625 \r\n",
       "L 22.015625 12.40625 \r\n",
       "L 22.015625 4 \r\n",
       "L 14.015625 -11.625 \r\n",
       "L 7.71875 -11.625 \r\n",
       "L 11.71875 4 \r\n",
       "z\r\n",
       "\" id=\"DejaVuSans-44\"/>\r\n",
       "      <path id=\"DejaVuSans-32\"/>\r\n",
       "      <path d=\"M 8.015625 75.875 \r\n",
       "L 15.828125 75.875 \r\n",
       "Q 23.140625 64.359375 26.78125 53.3125 \r\n",
       "Q 30.421875 42.28125 30.421875 31.390625 \r\n",
       "Q 30.421875 20.453125 26.78125 9.375 \r\n",
       "Q 23.140625 -1.703125 15.828125 -13.1875 \r\n",
       "L 8.015625 -13.1875 \r\n",
       "Q 14.5 -2 17.703125 9.0625 \r\n",
       "Q 20.90625 20.125 20.90625 31.390625 \r\n",
       "Q 20.90625 42.671875 17.703125 53.65625 \r\n",
       "Q 14.5 64.65625 8.015625 75.875 \r\n",
       "z\r\n",
       "\" id=\"DejaVuSans-41\"/>\r\n",
       "     </defs>\r\n",
       "     <g transform=\"translate(15.853438 233.903895)scale(0.12 -0.12)\">\r\n",
       "      <use xlink:href=\"#DejaVuSans-40\"/>\r\n",
       "      <use x=\"39.013672\" xlink:href=\"#DejaVuSans-48\"/>\r\n",
       "      <use x=\"102.636719\" xlink:href=\"#DejaVuSans-44\"/>\r\n",
       "      <use x=\"134.423828\" xlink:href=\"#DejaVuSans-32\"/>\r\n",
       "      <use x=\"166.210938\" xlink:href=\"#DejaVuSans-48\"/>\r\n",
       "      <use x=\"229.833984\" xlink:href=\"#DejaVuSans-41\"/>\r\n",
       "     </g>\r\n",
       "    </g>\r\n",
       "   </g>\r\n",
       "   <g id=\"text_2\">\r\n",
       "    <g clip-path=\"url(#p5f9b971322)\">\r\n",
       "     <!-- (0, 1) -->\r\n",
       "     <defs>\r\n",
       "      <path d=\"M 12.40625 8.296875 \r\n",
       "L 28.515625 8.296875 \r\n",
       "L 28.515625 63.921875 \r\n",
       "L 10.984375 60.40625 \r\n",
       "L 10.984375 69.390625 \r\n",
       "L 28.421875 72.90625 \r\n",
       "L 38.28125 72.90625 \r\n",
       "L 38.28125 8.296875 \r\n",
       "L 54.390625 8.296875 \r\n",
       "L 54.390625 0 \r\n",
       "L 12.40625 0 \r\n",
       "z\r\n",
       "\" id=\"DejaVuSans-49\"/>\r\n",
       "     </defs>\r\n",
       "     <g transform=\"translate(15.853438 166.515465)scale(0.12 -0.12)\">\r\n",
       "      <use xlink:href=\"#DejaVuSans-40\"/>\r\n",
       "      <use x=\"39.013672\" xlink:href=\"#DejaVuSans-48\"/>\r\n",
       "      <use x=\"102.636719\" xlink:href=\"#DejaVuSans-44\"/>\r\n",
       "      <use x=\"134.423828\" xlink:href=\"#DejaVuSans-32\"/>\r\n",
       "      <use x=\"166.210938\" xlink:href=\"#DejaVuSans-49\"/>\r\n",
       "      <use x=\"229.833984\" xlink:href=\"#DejaVuSans-41\"/>\r\n",
       "     </g>\r\n",
       "    </g>\r\n",
       "   </g>\r\n",
       "   <g id=\"text_3\">\r\n",
       "    <g clip-path=\"url(#p5f9b971322)\">\r\n",
       "     <!-- (1, 1) -->\r\n",
       "     <g transform=\"translate(144.431387 166.515465)scale(0.12 -0.12)\">\r\n",
       "      <use xlink:href=\"#DejaVuSans-40\"/>\r\n",
       "      <use x=\"39.013672\" xlink:href=\"#DejaVuSans-49\"/>\r\n",
       "      <use x=\"102.636719\" xlink:href=\"#DejaVuSans-44\"/>\r\n",
       "      <use x=\"134.423828\" xlink:href=\"#DejaVuSans-32\"/>\r\n",
       "      <use x=\"166.210938\" xlink:href=\"#DejaVuSans-49\"/>\r\n",
       "      <use x=\"229.833984\" xlink:href=\"#DejaVuSans-41\"/>\r\n",
       "     </g>\r\n",
       "    </g>\r\n",
       "   </g>\r\n",
       "   <g id=\"text_4\">\r\n",
       "    <g clip-path=\"url(#p5f9b971322)\">\r\n",
       "     <!-- (0, 2) -->\r\n",
       "     <defs>\r\n",
       "      <path d=\"M 19.1875 8.296875 \r\n",
       "L 53.609375 8.296875 \r\n",
       "L 53.609375 0 \r\n",
       "L 7.328125 0 \r\n",
       "L 7.328125 8.296875 \r\n",
       "Q 12.9375 14.109375 22.625 23.890625 \r\n",
       "Q 32.328125 33.6875 34.8125 36.53125 \r\n",
       "Q 39.546875 41.84375 41.421875 45.53125 \r\n",
       "Q 43.3125 49.21875 43.3125 52.78125 \r\n",
       "Q 43.3125 58.59375 39.234375 62.25 \r\n",
       "Q 35.15625 65.921875 28.609375 65.921875 \r\n",
       "Q 23.96875 65.921875 18.8125 64.3125 \r\n",
       "Q 13.671875 62.703125 7.8125 59.421875 \r\n",
       "L 7.8125 69.390625 \r\n",
       "Q 13.765625 71.78125 18.9375 73 \r\n",
       "Q 24.125 74.21875 28.421875 74.21875 \r\n",
       "Q 39.75 74.21875 46.484375 68.546875 \r\n",
       "Q 53.21875 62.890625 53.21875 53.421875 \r\n",
       "Q 53.21875 48.921875 51.53125 44.890625 \r\n",
       "Q 49.859375 40.875 45.40625 35.40625 \r\n",
       "Q 44.1875 33.984375 37.640625 27.21875 \r\n",
       "Q 31.109375 20.453125 19.1875 8.296875 \r\n",
       "z\r\n",
       "\" id=\"DejaVuSans-50\"/>\r\n",
       "     </defs>\r\n",
       "     <g transform=\"translate(15.853438 99.127035)scale(0.12 -0.12)\">\r\n",
       "      <use xlink:href=\"#DejaVuSans-40\"/>\r\n",
       "      <use x=\"39.013672\" xlink:href=\"#DejaVuSans-48\"/>\r\n",
       "      <use x=\"102.636719\" xlink:href=\"#DejaVuSans-44\"/>\r\n",
       "      <use x=\"134.423828\" xlink:href=\"#DejaVuSans-32\"/>\r\n",
       "      <use x=\"166.210938\" xlink:href=\"#DejaVuSans-50\"/>\r\n",
       "      <use x=\"229.833984\" xlink:href=\"#DejaVuSans-41\"/>\r\n",
       "     </g>\r\n",
       "    </g>\r\n",
       "   </g>\r\n",
       "   <g id=\"text_5\">\r\n",
       "    <g clip-path=\"url(#p5f9b971322)\">\r\n",
       "     <!-- (1, 2) -->\r\n",
       "     <g transform=\"translate(144.431387 99.127035)scale(0.12 -0.12)\">\r\n",
       "      <use xlink:href=\"#DejaVuSans-40\"/>\r\n",
       "      <use x=\"39.013672\" xlink:href=\"#DejaVuSans-49\"/>\r\n",
       "      <use x=\"102.636719\" xlink:href=\"#DejaVuSans-44\"/>\r\n",
       "      <use x=\"134.423828\" xlink:href=\"#DejaVuSans-32\"/>\r\n",
       "      <use x=\"166.210938\" xlink:href=\"#DejaVuSans-50\"/>\r\n",
       "      <use x=\"229.833984\" xlink:href=\"#DejaVuSans-41\"/>\r\n",
       "     </g>\r\n",
       "    </g>\r\n",
       "   </g>\r\n",
       "   <g id=\"text_6\">\r\n",
       "    <g clip-path=\"url(#p5f9b971322)\">\r\n",
       "     <!-- (0, 3) -->\r\n",
       "     <defs>\r\n",
       "      <path d=\"M 40.578125 39.3125 \r\n",
       "Q 47.65625 37.796875 51.625 33 \r\n",
       "Q 55.609375 28.21875 55.609375 21.1875 \r\n",
       "Q 55.609375 10.40625 48.1875 4.484375 \r\n",
       "Q 40.765625 -1.421875 27.09375 -1.421875 \r\n",
       "Q 22.515625 -1.421875 17.65625 -0.515625 \r\n",
       "Q 12.796875 0.390625 7.625 2.203125 \r\n",
       "L 7.625 11.71875 \r\n",
       "Q 11.71875 9.328125 16.59375 8.109375 \r\n",
       "Q 21.484375 6.890625 26.8125 6.890625 \r\n",
       "Q 36.078125 6.890625 40.9375 10.546875 \r\n",
       "Q 45.796875 14.203125 45.796875 21.1875 \r\n",
       "Q 45.796875 27.640625 41.28125 31.265625 \r\n",
       "Q 36.765625 34.90625 28.71875 34.90625 \r\n",
       "L 20.21875 34.90625 \r\n",
       "L 20.21875 43.015625 \r\n",
       "L 29.109375 43.015625 \r\n",
       "Q 36.375 43.015625 40.234375 45.921875 \r\n",
       "Q 44.09375 48.828125 44.09375 54.296875 \r\n",
       "Q 44.09375 59.90625 40.109375 62.90625 \r\n",
       "Q 36.140625 65.921875 28.71875 65.921875 \r\n",
       "Q 24.65625 65.921875 20.015625 65.03125 \r\n",
       "Q 15.375 64.15625 9.8125 62.3125 \r\n",
       "L 9.8125 71.09375 \r\n",
       "Q 15.4375 72.65625 20.34375 73.4375 \r\n",
       "Q 25.25 74.21875 29.59375 74.21875 \r\n",
       "Q 40.828125 74.21875 47.359375 69.109375 \r\n",
       "Q 53.90625 64.015625 53.90625 55.328125 \r\n",
       "Q 53.90625 49.265625 50.4375 45.09375 \r\n",
       "Q 46.96875 40.921875 40.578125 39.3125 \r\n",
       "z\r\n",
       "\" id=\"DejaVuSans-51\"/>\r\n",
       "     </defs>\r\n",
       "     <g transform=\"translate(15.853438 31.738605)scale(0.12 -0.12)\">\r\n",
       "      <use xlink:href=\"#DejaVuSans-40\"/>\r\n",
       "      <use x=\"39.013672\" xlink:href=\"#DejaVuSans-48\"/>\r\n",
       "      <use x=\"102.636719\" xlink:href=\"#DejaVuSans-44\"/>\r\n",
       "      <use x=\"134.423828\" xlink:href=\"#DejaVuSans-32\"/>\r\n",
       "      <use x=\"166.210938\" xlink:href=\"#DejaVuSans-51\"/>\r\n",
       "      <use x=\"229.833984\" xlink:href=\"#DejaVuSans-41\"/>\r\n",
       "     </g>\r\n",
       "    </g>\r\n",
       "   </g>\r\n",
       "   <g id=\"text_7\">\r\n",
       "    <g clip-path=\"url(#p5f9b971322)\">\r\n",
       "     <!-- (1, 3) -->\r\n",
       "     <g transform=\"translate(144.431387 31.738605)scale(0.12 -0.12)\">\r\n",
       "      <use xlink:href=\"#DejaVuSans-40\"/>\r\n",
       "      <use x=\"39.013672\" xlink:href=\"#DejaVuSans-49\"/>\r\n",
       "      <use x=\"102.636719\" xlink:href=\"#DejaVuSans-44\"/>\r\n",
       "      <use x=\"134.423828\" xlink:href=\"#DejaVuSans-32\"/>\r\n",
       "      <use x=\"166.210938\" xlink:href=\"#DejaVuSans-51\"/>\r\n",
       "      <use x=\"229.833984\" xlink:href=\"#DejaVuSans-41\"/>\r\n",
       "     </g>\r\n",
       "    </g>\r\n",
       "   </g>\r\n",
       "  </g>\r\n",
       " </g>\r\n",
       " <defs>\r\n",
       "  <clipPath id=\"p5f9b971322\">\r\n",
       "   <rect height=\"244.62\" width=\"167.4\" x=\"7.2\" y=\"7.2\"/>\r\n",
       "  </clipPath>\r\n",
       " </defs>\r\n",
       "</svg>\r\n"
      ],
      "text/plain": [
       "<Figure size 216x324 with 1 Axes>"
      ]
     },
     "metadata": {},
     "output_type": "display_data"
    }
   ],
   "source": [
    "abg.markov.visualise_ambulance_markov_chain(\n",
    "    num_of_servers=num_of_servers, \n",
    "    threshold=threshold, \n",
    "    system_capacity=system_capacity, \n",
    "    buffer_capacity=buffer_capacity\n",
    ")"
   ]
  },
  {
   "cell_type": "code",
   "execution_count": 40,
   "metadata": {},
   "outputs": [
    {
     "data": {
      "text/latex": [
       "$\\displaystyle \\left[ \\left( 0, \\  0\\right), \\  \\left( 0, \\  1\\right), \\  \\left( 1, \\  1\\right), \\  \\left( 0, \\  2\\right), \\  \\left( 1, \\  2\\right), \\  \\left( 0, \\  3\\right), \\  \\left( 1, \\  3\\right)\\right]$"
      ],
      "text/plain": [
       "[(0, 0), (0, 1), (1, 1), (0, 2), (1, 2), (0, 3), (1, 3)]"
      ]
     },
     "execution_count": 40,
     "metadata": {},
     "output_type": "execute_result"
    }
   ],
   "source": [
    "all_states_1131"
   ]
  },
  {
   "cell_type": "code",
   "execution_count": 41,
   "metadata": {},
   "outputs": [
    {
     "data": {
      "text/latex": [
       "$\\displaystyle \\left[\\begin{matrix}- \\Lambda & \\Lambda & 0 & 0 & 0 & 0 & 0\\\\\\mu & - \\lambda^{A} - \\lambda^{o} - \\mu & \\lambda^{A} & \\lambda^{o} & 0 & 0 & 0\\\\0 & \\mu & - \\lambda^{o} - \\mu & 0 & \\lambda^{o} & 0 & 0\\\\0 & \\mu & 0 & - \\lambda^{A} - \\lambda^{o} - \\mu & \\lambda^{A} & \\lambda^{o} & 0\\\\0 & 0 & \\mu & 0 & - \\lambda^{o} - \\mu & 0 & \\lambda^{o}\\\\0 & 0 & 0 & \\mu & 0 & - \\lambda^{A} - \\mu & \\lambda^{A}\\\\0 & 0 & 0 & 0 & \\mu & 0 & - \\mu\\end{matrix}\\right]$"
      ],
      "text/plain": [
       "⎡-Λ         Λ              0             0              0          0       0  \n",
       "⎢                                                                             \n",
       "⎢μ   -λ__A - λ__o - μ    λ__A           λ__o            0          0       0  \n",
       "⎢                                                                             \n",
       "⎢0          μ          -λ__o - μ         0            λ__o         0       0  \n",
       "⎢                                                                             \n",
       "⎢0          μ              0      -λ__A - λ__o - μ    λ__A       λ__o      0  \n",
       "⎢                                                                             \n",
       "⎢0          0              μ             0          -λ__o - μ      0      λ__o\n",
       "⎢                                                                             \n",
       "⎢0          0              0             μ              0      -λ__A - μ  λ__A\n",
       "⎢                                                                             \n",
       "⎣0          0              0             0              μ          0       -μ \n",
       "\n",
       "⎤\n",
       "⎥\n",
       "⎥\n",
       "⎥\n",
       "⎥\n",
       "⎥\n",
       "⎥\n",
       "⎥\n",
       "⎥\n",
       "⎥\n",
       "⎥\n",
       "⎥\n",
       "⎦"
      ]
     },
     "execution_count": 41,
     "metadata": {},
     "output_type": "execute_result"
    }
   ],
   "source": [
    "Q_sym_1131"
   ]
  },
  {
   "cell_type": "code",
   "execution_count": 42,
   "metadata": {},
   "outputs": [
    {
     "data": {
      "text/latex": [
       "$\\displaystyle \\left( \\left[\\begin{matrix}1 & \\frac{\\Lambda}{\\mu} & \\frac{\\lambda^{o} \\left(\\lambda^{A} + \\mu\\right)}{\\left(\\lambda^{A}\\right)^{2} + \\lambda^{A} \\lambda^{o} + 2 \\lambda^{A} \\mu + \\mu^{2}} & \\frac{\\lambda^{o}}{\\lambda^{A} + \\mu}\\\\0 & \\frac{\\lambda^{A} \\left(\\left(\\lambda^{A}\\right)^{2} + 2 \\lambda^{A} \\lambda^{o} + 2 \\lambda^{A} \\mu + \\left(\\lambda^{o}\\right)^{2} + \\lambda^{o} \\mu + \\mu^{2}\\right)}{\\mu \\left(\\left(\\lambda^{A}\\right)^{2} + \\lambda^{A} \\lambda^{o} + 2 \\lambda^{A} \\mu + \\mu^{2}\\right)} & \\frac{\\lambda^{A} \\left(\\left(\\lambda^{A}\\right)^{2} + 2 \\lambda^{A} \\lambda^{o} + 3 \\lambda^{A} \\mu + \\left(\\lambda^{o}\\right)^{2} + 2 \\lambda^{o} \\mu + 2 \\mu^{2}\\right)}{\\mu^{2} \\left(\\lambda^{A} + \\mu\\right)} & \\frac{\\lambda^{A} \\left(\\left(\\lambda^{A}\\right)^{2} + 2 \\lambda^{A} \\lambda^{o} + 3 \\lambda^{A} \\mu + \\left(\\lambda^{o}\\right)^{2} + 2 \\lambda^{o} \\mu + 3 \\mu^{2}\\right)}{\\mu^{3}}\\end{matrix}\\right], \\  \\left[\\begin{matrix}1 & \\frac{\\Lambda}{\\mu} & \\frac{\\lambda^{o} \\left(\\lambda^{A} + \\mu\\right)}{\\left(\\lambda^{A}\\right)^{2} + \\lambda^{A} \\lambda^{o} + 2 \\lambda^{A} \\mu + \\mu^{2}} & \\frac{\\lambda^{o}}{\\lambda^{A} + \\mu}\\\\0 & \\frac{\\lambda^{A} \\left(\\left(\\lambda^{A}\\right)^{2} + 2 \\lambda^{A} \\lambda^{o} + 2 \\lambda^{A} \\mu + \\left(\\lambda^{o}\\right)^{2} + \\lambda^{o} \\mu + \\mu^{2}\\right)}{\\mu \\left(\\left(\\lambda^{A}\\right)^{2} + \\lambda^{A} \\lambda^{o} + 2 \\lambda^{A} \\mu + \\mu^{2}\\right)} & \\frac{\\lambda^{o} \\left(\\left(\\lambda^{A}\\right)^{2} + 2 \\lambda^{A} \\lambda^{o} + 3 \\lambda^{A} \\mu + \\left(\\lambda^{o}\\right)^{2} + 2 \\lambda^{o} \\mu + 2 \\mu^{2}\\right)}{\\mu \\left(\\left(\\lambda^{A}\\right)^{2} + 2 \\lambda^{A} \\lambda^{o} + 2 \\lambda^{A} \\mu + \\left(\\lambda^{o}\\right)^{2} + \\lambda^{o} \\mu + \\mu^{2}\\right)} & \\frac{\\lambda^{o} \\left(\\left(\\lambda^{A}\\right)^{2} + 2 \\lambda^{A} \\lambda^{o} + 3 \\lambda^{A} \\mu + \\left(\\lambda^{o}\\right)^{2} + 2 \\lambda^{o} \\mu + 3 \\mu^{2}\\right)}{\\mu \\left(\\left(\\lambda^{A}\\right)^{2} + 2 \\lambda^{A} \\lambda^{o} + 3 \\lambda^{A} \\mu + \\left(\\lambda^{o}\\right)^{2} + 2 \\lambda^{o} \\mu + 2 \\mu^{2}\\right)}\\end{matrix}\\right]\\right)$"
      ],
      "text/plain": [
       "⎛⎡                                Λ                                           \n",
       "⎜⎢1                               ─                                           \n",
       "⎜⎢                                μ                                           \n",
       "⎜⎢                                                                            \n",
       "⎜⎢                                                                            \n",
       "⎜⎢        ⎛    2                                2             2⎞       ⎛    2 \n",
       "⎜⎢   λ__A⋅⎝λ__A  + 2⋅λ__A⋅λ__o + 2⋅λ__A⋅μ + λ__o  + λ__o⋅μ + μ ⎠  λ__A⋅⎝λ__A  \n",
       "⎜⎢0  ───────────────────────────────────────────────────────────  ────────────\n",
       "⎜⎢                ⎛    2                           2⎞                         \n",
       "⎝⎣              μ⋅⎝λ__A  + λ__A⋅λ__o + 2⋅λ__A⋅μ + μ ⎠                         \n",
       "\n",
       "            λ__o⋅(λ__A + μ)                                                   \n",
       "   ─────────────────────────────────                                          \n",
       "       2                           2                                          \n",
       "   λ__A  + λ__A⋅λ__o + 2⋅λ__A⋅μ + μ                                           \n",
       "                                                                              \n",
       "                               2                 2⎞       ⎛    2              \n",
       "+ 2⋅λ__A⋅λ__o + 3⋅λ__A⋅μ + λ__o  + 2⋅λ__o⋅μ + 2⋅μ ⎠  λ__A⋅⎝λ__A  + 2⋅λ__A⋅λ__o\n",
       "───────────────────────────────────────────────────  ─────────────────────────\n",
       "              2                                                               \n",
       "             μ ⋅(λ__A + μ)                                                    \n",
       "\n",
       "    λ__o                              ⎤  ⎡                                Λ   \n",
       "  ────────                            ⎥  ⎢1                               ─   \n",
       "  λ__A + μ                            ⎥  ⎢                                μ   \n",
       "                                      ⎥  ⎢                                    \n",
       "                                      ⎥  ⎢                                    \n",
       "                  2                 2⎞⎥, ⎢        ⎛    2                      \n",
       " + 3⋅λ__A⋅μ + λ__o  + 2⋅λ__o⋅μ + 3⋅μ ⎠⎥  ⎢   λ__A⋅⎝λ__A  + 2⋅λ__A⋅λ__o + 2⋅λ__\n",
       "──────────────────────────────────────⎥  ⎢0  ─────────────────────────────────\n",
       "       3                              ⎥  ⎢                ⎛    2              \n",
       "      μ                               ⎦  ⎣              μ⋅⎝λ__A  + λ__A⋅λ__o +\n",
       "\n",
       "                                                    λ__o⋅(λ__A + μ)           \n",
       "                                           ─────────────────────────────────  \n",
       "                                               2                           2  \n",
       "                                           λ__A  + λ__A⋅λ__o + 2⋅λ__A⋅μ + μ   \n",
       "                                                                              \n",
       "          2             2⎞       ⎛    2                                2      \n",
       "A⋅μ + λ__o  + λ__o⋅μ + μ ⎠  λ__o⋅⎝λ__A  + 2⋅λ__A⋅λ__o + 3⋅λ__A⋅μ + λ__o  + 2⋅λ\n",
       "──────────────────────────  ──────────────────────────────────────────────────\n",
       "             2⎞                   ⎛    2                                2     \n",
       " 2⋅λ__A⋅μ + μ ⎠                 μ⋅⎝λ__A  + 2⋅λ__A⋅λ__o + 2⋅λ__A⋅μ + λ__o  + λ_\n",
       "\n",
       "                                            λ__o                              \n",
       "                                          ────────                            \n",
       "                                          λ__A + μ                            \n",
       "                                                                              \n",
       "                                                                              \n",
       "           2⎞       ⎛    2                                2                 2⎞\n",
       "__o⋅μ + 2⋅μ ⎠  λ__o⋅⎝λ__A  + 2⋅λ__A⋅λ__o + 3⋅λ__A⋅μ + λ__o  + 2⋅λ__o⋅μ + 3⋅μ ⎠\n",
       "─────────────  ───────────────────────────────────────────────────────────────\n",
       "        2⎞         ⎛    2                                2                 2⎞ \n",
       "_o⋅μ + μ ⎠       μ⋅⎝λ__A  + 2⋅λ__A⋅λ__o + 3⋅λ__A⋅μ + λ__o  + 2⋅λ__o⋅μ + 2⋅μ ⎠ \n",
       "\n",
       "⎤⎞\n",
       "⎥⎟\n",
       "⎥⎟\n",
       "⎥⎟\n",
       "⎥⎟\n",
       "⎥⎟\n",
       "⎥⎟\n",
       "⎥⎟\n",
       "⎥⎟\n",
       "⎦⎠"
      ]
     },
     "execution_count": 42,
     "metadata": {},
     "output_type": "execute_result"
    }
   ],
   "source": [
    "sym_state_recursive_ratios_1131, sym_state_recursive_ratios_right_1131"
   ]
  },
  {
   "cell_type": "code",
   "execution_count": 43,
   "metadata": {},
   "outputs": [
    {
     "data": {
      "text/latex": [
       "$\\displaystyle \\left[\\begin{matrix}1 & \\frac{\\Lambda}{\\mu} & \\frac{\\Lambda \\lambda^{o} \\left(\\lambda^{A} + \\mu\\right)}{\\mu \\left(\\left(\\lambda^{A}\\right)^{2} + \\lambda^{A} \\lambda^{o} + 2 \\lambda^{A} \\mu + \\mu^{2}\\right)} & \\frac{\\Lambda \\left(\\lambda^{o}\\right)^{2}}{\\mu \\left(\\left(\\lambda^{A}\\right)^{2} + \\lambda^{A} \\lambda^{o} + 2 \\lambda^{A} \\mu + \\mu^{2}\\right)}\\\\0 & \\frac{\\Lambda \\lambda^{A} \\left(\\left(\\lambda^{A}\\right)^{2} + 2 \\lambda^{A} \\lambda^{o} + 2 \\lambda^{A} \\mu + \\left(\\lambda^{o}\\right)^{2} + \\lambda^{o} \\mu + \\mu^{2}\\right)}{\\mu^{2} \\left(\\left(\\lambda^{A}\\right)^{2} + \\lambda^{A} \\lambda^{o} + 2 \\lambda^{A} \\mu + \\mu^{2}\\right)} & \\frac{\\Lambda \\lambda^{A} \\lambda^{o} \\left(\\left(\\lambda^{A}\\right)^{2} + 2 \\lambda^{A} \\lambda^{o} + 3 \\lambda^{A} \\mu + \\left(\\lambda^{o}\\right)^{2} + 2 \\lambda^{o} \\mu + 2 \\mu^{2}\\right)}{\\mu^{3} \\left(\\left(\\lambda^{A}\\right)^{2} + \\lambda^{A} \\lambda^{o} + 2 \\lambda^{A} \\mu + \\mu^{2}\\right)} & \\frac{\\Lambda \\lambda^{A} \\left(\\lambda^{o}\\right)^{2} \\left(\\left(\\lambda^{A}\\right)^{2} + 2 \\lambda^{A} \\lambda^{o} + 3 \\lambda^{A} \\mu + \\left(\\lambda^{o}\\right)^{2} + 2 \\lambda^{o} \\mu + 3 \\mu^{2}\\right)}{\\mu^{4} \\left(\\left(\\lambda^{A}\\right)^{2} + \\lambda^{A} \\lambda^{o} + 2 \\lambda^{A} \\mu + \\mu^{2}\\right)}\\end{matrix}\\right]$"
      ],
      "text/plain": [
       "⎡                                                                             \n",
       "⎢                                 Λ                                           \n",
       "⎢1                                ─                                           \n",
       "⎢                                 μ                                           \n",
       "⎢                                                                             \n",
       "⎢                                                                             \n",
       "⎢          ⎛    2                                2             2⎞             \n",
       "⎢   Λ⋅λ__A⋅⎝λ__A  + 2⋅λ__A⋅λ__o + 2⋅λ__A⋅μ + λ__o  + λ__o⋅μ + μ ⎠  Λ⋅λ__A⋅λ__o\n",
       "⎢0  ─────────────────────────────────────────────────────────────  ───────────\n",
       "⎢                2 ⎛    2                           2⎞                        \n",
       "⎣               μ ⋅⎝λ__A  + λ__A⋅λ__o + 2⋅λ__A⋅μ + μ ⎠                        \n",
       "\n",
       "                                                                              \n",
       "               Λ⋅λ__o⋅(λ__A + μ)                                              \n",
       "     ─────────────────────────────────────                                    \n",
       "       ⎛    2                           2⎞                                    \n",
       "     μ⋅⎝λ__A  + λ__A⋅λ__o + 2⋅λ__A⋅μ + μ ⎠                                    \n",
       "                                                                              \n",
       " ⎛    2                                2                 2⎞             2 ⎛   \n",
       "⋅⎝λ__A  + 2⋅λ__A⋅λ__o + 3⋅λ__A⋅μ + λ__o  + 2⋅λ__o⋅μ + 2⋅μ ⎠  Λ⋅λ__A⋅λ__o ⋅⎝λ__\n",
       "───────────────────────────────────────────────────────────  ─────────────────\n",
       "      3 ⎛    2                           2⎞                                   \n",
       "     μ ⋅⎝λ__A  + λ__A⋅λ__o + 2⋅λ__A⋅μ + μ ⎠                                   \n",
       "\n",
       "                     2                                ⎤\n",
       "               Λ⋅λ__o                                 ⎥\n",
       "─────────────────────────────────────                 ⎥\n",
       "  ⎛    2                           2⎞                 ⎥\n",
       "μ⋅⎝λ__A  + λ__A⋅λ__o + 2⋅λ__A⋅μ + μ ⎠                 ⎥\n",
       "                                                      ⎥\n",
       " 2                                2                 2⎞⎥\n",
       "A  + 2⋅λ__A⋅λ__o + 3⋅λ__A⋅μ + λ__o  + 2⋅λ__o⋅μ + 3⋅μ ⎠⎥\n",
       "──────────────────────────────────────────────────────⎥\n",
       " 4 ⎛    2                           2⎞                ⎥\n",
       "μ ⋅⎝λ__A  + λ__A⋅λ__o + 2⋅λ__A⋅μ + μ ⎠                ⎦"
      ]
     },
     "execution_count": 43,
     "metadata": {},
     "output_type": "execute_result"
    }
   ],
   "source": [
    "sym_state_recursive_ratios_P0_1131"
   ]
  },
  {
   "cell_type": "code",
   "execution_count": null,
   "metadata": {},
   "outputs": [],
   "source": []
  },
  {
   "cell_type": "code",
   "execution_count": null,
   "metadata": {},
   "outputs": [],
   "source": []
  },
  {
   "cell_type": "markdown",
   "metadata": {},
   "source": [
    "## $C=1, T=1, N=3, M=2$"
   ]
  },
  {
   "cell_type": "code",
   "execution_count": 2,
   "metadata": {},
   "outputs": [],
   "source": [
    "num_of_servers = 1\n",
    "threshold = 1\n",
    "system_capacity = 3\n",
    "buffer_capacity = 2"
   ]
  },
  {
   "cell_type": "code",
   "execution_count": 3,
   "metadata": {},
   "outputs": [
    {
     "data": {
      "text/plain": [
       "<networkx.classes.multidigraph.MultiDiGraph at 0x1ab5db0e220>"
      ]
     },
     "execution_count": 3,
     "metadata": {},
     "output_type": "execute_result"
    },
    {
     "data": {
      "image/png": "[encoded data removed]",
      "image/svg+xml": [
       "<?xml version=\"1.0\" encoding=\"utf-8\" standalone=\"no\"?>\r\n",
       "<!DOCTYPE svg PUBLIC \"-//W3C//DTD SVG 1.1//EN\"\r\n",
       "  \"http://www.w3.org/Graphics/SVG/1.1/DTD/svg11.dtd\">\r\n",
       "<!-- Created with matplotlib (https://matplotlib.org/) -->\r\n",
       "<svg height=\"259.02pt\" version=\"1.1\" viewBox=\"0 0 265.5 259.02\" width=\"265.5pt\" xmlns=\"http://www.w3.org/2000/svg\" xmlns:xlink=\"http://www.w3.org/1999/xlink\">\r\n",
       " <defs>\r\n",
       "  <style type=\"text/css\">\r\n",
       "*{stroke-linecap:butt;stroke-linejoin:round;}\r\n",
       "  </style>\r\n",
       " </defs>\r\n",
       " <g id=\"figure_1\">\r\n",
       "  <g id=\"patch_1\">\r\n",
       "   <path d=\"M 0 259.02 \r\n",
       "L 265.5 259.02 \r\n",
       "L 265.5 0 \r\n",
       "L 0 0 \r\n",
       "z\r\n",
       "\" style=\"fill:none;\"/>\r\n",
       "  </g>\r\n",
       "  <g id=\"axes_1\">\r\n",
       "   <g id=\"patch_2\">\r\n",
       "    <path clip-path=\"url(#p1eefa3dde0)\" d=\"M 28.989669 230.592645 \r\n",
       "Q 28.989669 201.227429 28.989669 172.980247 \r\n",
       "\" style=\"fill:none;stroke:#000000;stroke-linecap:round;\"/>\r\n",
       "    <path clip-path=\"url(#p1eefa3dde0)\" d=\"M 26.989669 176.980247 \r\n",
       "L 28.989669 172.980247 \r\n",
       "L 30.989669 176.980247 \r\n",
       "L 26.989669 176.980247 \r\n",
       "z\r\n",
       "\" style=\"stroke:#000000;stroke-linecap:round;\"/>\r\n",
       "   </g>\r\n",
       "   <g id=\"patch_3\">\r\n",
       "    <path clip-path=\"url(#p1eefa3dde0)\" d=\"M 28.989669 163.204215 \r\n",
       "Q 76.539627 163.204215 122.97155 163.204215 \r\n",
       "\" style=\"fill:none;stroke:#000000;stroke-linecap:round;\"/>\r\n",
       "    <path clip-path=\"url(#p1eefa3dde0)\" d=\"M 118.97155 161.204215 \r\n",
       "L 122.97155 163.204215 \r\n",
       "L 118.97155 165.204215 \r\n",
       "L 118.97155 161.204215 \r\n",
       "z\r\n",
       "\" style=\"stroke:#000000;stroke-linecap:round;\"/>\r\n",
       "   </g>\r\n",
       "   <g id=\"patch_4\">\r\n",
       "    <path clip-path=\"url(#p1eefa3dde0)\" d=\"M 28.989669 163.204215 \r\n",
       "Q 28.989669 133.838999 28.989669 105.591817 \r\n",
       "\" style=\"fill:none;stroke:#000000;stroke-linecap:round;\"/>\r\n",
       "    <path clip-path=\"url(#p1eefa3dde0)\" d=\"M 26.989669 109.591817 \r\n",
       "L 28.989669 105.591817 \r\n",
       "L 30.989669 109.591817 \r\n",
       "L 26.989669 109.591817 \r\n",
       "z\r\n",
       "\" style=\"stroke:#000000;stroke-linecap:round;\"/>\r\n",
       "   </g>\r\n",
       "   <g id=\"patch_5\">\r\n",
       "    <path clip-path=\"url(#p1eefa3dde0)\" d=\"M 132.75 163.204215 \r\n",
       "Q 180.299957 163.204215 226.731881 163.204215 \r\n",
       "\" style=\"fill:none;stroke:#000000;stroke-linecap:round;\"/>\r\n",
       "    <path clip-path=\"url(#p1eefa3dde0)\" d=\"M 222.731881 161.204215 \r\n",
       "L 226.731881 163.204215 \r\n",
       "L 222.731881 165.204215 \r\n",
       "L 222.731881 161.204215 \r\n",
       "z\r\n",
       "\" style=\"stroke:#000000;stroke-linecap:round;\"/>\r\n",
       "   </g>\r\n",
       "   <g id=\"patch_6\">\r\n",
       "    <path clip-path=\"url(#p1eefa3dde0)\" d=\"M 132.75 163.204215 \r\n",
       "Q 132.75 133.838999 132.75 105.591817 \r\n",
       "\" style=\"fill:none;stroke:#000000;stroke-linecap:round;\"/>\r\n",
       "    <path clip-path=\"url(#p1eefa3dde0)\" d=\"M 130.75 109.591817 \r\n",
       "L 132.75 105.591817 \r\n",
       "L 134.75 109.591817 \r\n",
       "L 130.75 109.591817 \r\n",
       "z\r\n",
       "\" style=\"stroke:#000000;stroke-linecap:round;\"/>\r\n",
       "   </g>\r\n",
       "   <g id=\"patch_7\">\r\n",
       "    <path clip-path=\"url(#p1eefa3dde0)\" d=\"M 28.989669 95.815785 \r\n",
       "Q 76.539627 95.815785 122.97155 95.815785 \r\n",
       "\" style=\"fill:none;stroke:#000000;stroke-linecap:round;\"/>\r\n",
       "    <path clip-path=\"url(#p1eefa3dde0)\" d=\"M 118.97155 93.815785 \r\n",
       "L 122.97155 95.815785 \r\n",
       "L 118.97155 97.815785 \r\n",
       "L 118.97155 93.815785 \r\n",
       "z\r\n",
       "\" style=\"stroke:#000000;stroke-linecap:round;\"/>\r\n",
       "   </g>\r\n",
       "   <g id=\"patch_8\">\r\n",
       "    <path clip-path=\"url(#p1eefa3dde0)\" d=\"M 28.989669 95.815785 \r\n",
       "Q 28.989669 66.450569 28.989669 38.203388 \r\n",
       "\" style=\"fill:none;stroke:#000000;stroke-linecap:round;\"/>\r\n",
       "    <path clip-path=\"url(#p1eefa3dde0)\" d=\"M 26.989669 42.203388 \r\n",
       "L 28.989669 38.203388 \r\n",
       "L 30.989669 42.203388 \r\n",
       "L 26.989669 42.203388 \r\n",
       "z\r\n",
       "\" style=\"stroke:#000000;stroke-linecap:round;\"/>\r\n",
       "   </g>\r\n",
       "   <g id=\"patch_9\">\r\n",
       "    <path clip-path=\"url(#p1eefa3dde0)\" d=\"M 236.510331 163.204215 \r\n",
       "Q 236.510331 133.838999 236.510331 105.591817 \r\n",
       "\" style=\"fill:none;stroke:#000000;stroke-linecap:round;\"/>\r\n",
       "    <path clip-path=\"url(#p1eefa3dde0)\" d=\"M 234.510331 109.591817 \r\n",
       "L 236.510331 105.591817 \r\n",
       "L 238.510331 109.591817 \r\n",
       "L 234.510331 109.591817 \r\n",
       "z\r\n",
       "\" style=\"stroke:#000000;stroke-linecap:round;\"/>\r\n",
       "   </g>\r\n",
       "   <g id=\"patch_10\">\r\n",
       "    <path clip-path=\"url(#p1eefa3dde0)\" d=\"M 132.75 95.815785 \r\n",
       "Q 180.299957 95.815785 226.731881 95.815785 \r\n",
       "\" style=\"fill:none;stroke:#000000;stroke-linecap:round;\"/>\r\n",
       "    <path clip-path=\"url(#p1eefa3dde0)\" d=\"M 222.731881 93.815785 \r\n",
       "L 226.731881 95.815785 \r\n",
       "L 222.731881 97.815785 \r\n",
       "L 222.731881 93.815785 \r\n",
       "z\r\n",
       "\" style=\"stroke:#000000;stroke-linecap:round;\"/>\r\n",
       "   </g>\r\n",
       "   <g id=\"patch_11\">\r\n",
       "    <path clip-path=\"url(#p1eefa3dde0)\" d=\"M 132.75 95.815785 \r\n",
       "Q 132.75 66.450569 132.75 38.203388 \r\n",
       "\" style=\"fill:none;stroke:#000000;stroke-linecap:round;\"/>\r\n",
       "    <path clip-path=\"url(#p1eefa3dde0)\" d=\"M 130.75 42.203388 \r\n",
       "L 132.75 38.203388 \r\n",
       "L 134.75 42.203388 \r\n",
       "L 130.75 42.203388 \r\n",
       "z\r\n",
       "\" style=\"stroke:#000000;stroke-linecap:round;\"/>\r\n",
       "   </g>\r\n",
       "   <g id=\"patch_12\">\r\n",
       "    <path clip-path=\"url(#p1eefa3dde0)\" d=\"M 236.510331 95.815785 \r\n",
       "Q 236.510331 66.450569 236.510331 38.203388 \r\n",
       "\" style=\"fill:none;stroke:#000000;stroke-linecap:round;\"/>\r\n",
       "    <path clip-path=\"url(#p1eefa3dde0)\" d=\"M 234.510331 42.203388 \r\n",
       "L 236.510331 38.203388 \r\n",
       "L 238.510331 42.203388 \r\n",
       "L 234.510331 42.203388 \r\n",
       "z\r\n",
       "\" style=\"stroke:#000000;stroke-linecap:round;\"/>\r\n",
       "   </g>\r\n",
       "   <g id=\"patch_13\">\r\n",
       "    <path clip-path=\"url(#p1eefa3dde0)\" d=\"M 28.989669 28.427355 \r\n",
       "Q 76.539627 28.427355 122.97155 28.427355 \r\n",
       "\" style=\"fill:none;stroke:#000000;stroke-linecap:round;\"/>\r\n",
       "    <path clip-path=\"url(#p1eefa3dde0)\" d=\"M 118.97155 26.427355 \r\n",
       "L 122.97155 28.427355 \r\n",
       "L 118.97155 30.427355 \r\n",
       "L 118.97155 26.427355 \r\n",
       "z\r\n",
       "\" style=\"stroke:#000000;stroke-linecap:round;\"/>\r\n",
       "   </g>\r\n",
       "   <g id=\"patch_14\">\r\n",
       "    <path clip-path=\"url(#p1eefa3dde0)\" d=\"M 132.75 28.427355 \r\n",
       "Q 180.299957 28.427355 226.731881 28.427355 \r\n",
       "\" style=\"fill:none;stroke:#000000;stroke-linecap:round;\"/>\r\n",
       "    <path clip-path=\"url(#p1eefa3dde0)\" d=\"M 222.731881 26.427355 \r\n",
       "L 226.731881 28.427355 \r\n",
       "L 222.731881 30.427355 \r\n",
       "L 222.731881 26.427355 \r\n",
       "z\r\n",
       "\" style=\"stroke:#000000;stroke-linecap:round;\"/>\r\n",
       "   </g>\r\n",
       "   <g id=\"PathCollection_1\">\r\n",
       "    <defs>\r\n",
       "     <path d=\"M 0 22.36068 \r\n",
       "C 5.930122 22.36068 11.618159 20.004617 15.811388 15.811388 \r\n",
       "C 20.004617 11.618159 22.36068 5.930122 22.36068 0 \r\n",
       "C 22.36068 -5.930122 20.004617 -11.618159 15.811388 -15.811388 \r\n",
       "C 11.618159 -20.004617 5.930122 -22.36068 0 -22.36068 \r\n",
       "C -5.930122 -22.36068 -11.618159 -20.004617 -15.811388 -15.811388 \r\n",
       "C -20.004617 -11.618159 -22.36068 -5.930122 -22.36068 0 \r\n",
       "C -22.36068 5.930122 -20.004617 11.618159 -15.811388 15.811388 \r\n",
       "C -11.618159 20.004617 -5.930122 22.36068 0 22.36068 \r\n",
       "z\r\n",
       "\" id=\"me105bd8bda\" style=\"stroke:#1f78b4;\"/>\r\n",
       "    </defs>\r\n",
       "    <g clip-path=\"url(#p1eefa3dde0)\">\r\n",
       "     <use style=\"fill:#1f78b4;stroke:#1f78b4;\" x=\"28.989669\" xlink:href=\"#me105bd8bda\" y=\"230.592645\"/>\r\n",
       "    </g>\r\n",
       "   </g>\r\n",
       "   <g id=\"PathCollection_2\">\r\n",
       "    <defs>\r\n",
       "     <path d=\"M 0 22.36068 \r\n",
       "C 5.930122 22.36068 11.618159 20.004617 15.811388 15.811388 \r\n",
       "C 20.004617 11.618159 22.36068 5.930122 22.36068 0 \r\n",
       "C 22.36068 -5.930122 20.004617 -11.618159 15.811388 -15.811388 \r\n",
       "C 11.618159 -20.004617 5.930122 -22.36068 0 -22.36068 \r\n",
       "C -5.930122 -22.36068 -11.618159 -20.004617 -15.811388 -15.811388 \r\n",
       "C -20.004617 -11.618159 -22.36068 -5.930122 -22.36068 0 \r\n",
       "C -22.36068 5.930122 -20.004617 11.618159 -15.811388 15.811388 \r\n",
       "C -11.618159 20.004617 -5.930122 22.36068 0 22.36068 \r\n",
       "z\r\n",
       "\" id=\"m6e47c1340c\" style=\"stroke:#ff0000;\"/>\r\n",
       "    </defs>\r\n",
       "    <g clip-path=\"url(#p1eefa3dde0)\">\r\n",
       "     <use style=\"fill:#ff0000;stroke:#ff0000;\" x=\"28.989669\" xlink:href=\"#m6e47c1340c\" y=\"163.204215\"/>\r\n",
       "     <use style=\"fill:#ff0000;stroke:#ff0000;\" x=\"132.75\" xlink:href=\"#m6e47c1340c\" y=\"163.204215\"/>\r\n",
       "     <use style=\"fill:#ff0000;stroke:#ff0000;\" x=\"236.510331\" xlink:href=\"#m6e47c1340c\" y=\"163.204215\"/>\r\n",
       "     <use style=\"fill:#ff0000;stroke:#ff0000;\" x=\"28.989669\" xlink:href=\"#m6e47c1340c\" y=\"95.815785\"/>\r\n",
       "     <use style=\"fill:#ff0000;stroke:#ff0000;\" x=\"132.75\" xlink:href=\"#m6e47c1340c\" y=\"95.815785\"/>\r\n",
       "     <use style=\"fill:#ff0000;stroke:#ff0000;\" x=\"236.510331\" xlink:href=\"#m6e47c1340c\" y=\"95.815785\"/>\r\n",
       "     <use style=\"fill:#ff0000;stroke:#ff0000;\" x=\"28.989669\" xlink:href=\"#m6e47c1340c\" y=\"28.427355\"/>\r\n",
       "     <use style=\"fill:#ff0000;stroke:#ff0000;\" x=\"132.75\" xlink:href=\"#m6e47c1340c\" y=\"28.427355\"/>\r\n",
       "     <use style=\"fill:#ff0000;stroke:#ff0000;\" x=\"236.510331\" xlink:href=\"#m6e47c1340c\" y=\"28.427355\"/>\r\n",
       "    </g>\r\n",
       "   </g>\r\n",
       "   <g id=\"text_1\">\r\n",
       "    <g clip-path=\"url(#p1eefa3dde0)\">\r\n",
       "     <!-- (0, 0) -->\r\n",
       "     <defs>\r\n",
       "      <path d=\"M 31 75.875 \r\n",
       "Q 24.46875 64.65625 21.28125 53.65625 \r\n",
       "Q 18.109375 42.671875 18.109375 31.390625 \r\n",
       "Q 18.109375 20.125 21.3125 9.0625 \r\n",
       "Q 24.515625 -2 31 -13.1875 \r\n",
       "L 23.1875 -13.1875 \r\n",
       "Q 15.875 -1.703125 12.234375 9.375 \r\n",
       "Q 8.59375 20.453125 8.59375 31.390625 \r\n",
       "Q 8.59375 42.28125 12.203125 53.3125 \r\n",
       "Q 15.828125 64.359375 23.1875 75.875 \r\n",
       "z\r\n",
       "\" id=\"DejaVuSans-40\"/>\r\n",
       "      <path d=\"M 31.78125 66.40625 \r\n",
       "Q 24.171875 66.40625 20.328125 58.90625 \r\n",
       "Q 16.5 51.421875 16.5 36.375 \r\n",
       "Q 16.5 21.390625 20.328125 13.890625 \r\n",
       "Q 24.171875 6.390625 31.78125 6.390625 \r\n",
       "Q 39.453125 6.390625 43.28125 13.890625 \r\n",
       "Q 47.125 21.390625 47.125 36.375 \r\n",
       "Q 47.125 51.421875 43.28125 58.90625 \r\n",
       "Q 39.453125 66.40625 31.78125 66.40625 \r\n",
       "z\r\n",
       "M 31.78125 74.21875 \r\n",
       "Q 44.046875 74.21875 50.515625 64.515625 \r\n",
       "Q 56.984375 54.828125 56.984375 36.375 \r\n",
       "Q 56.984375 17.96875 50.515625 8.265625 \r\n",
       "Q 44.046875 -1.421875 31.78125 -1.421875 \r\n",
       "Q 19.53125 -1.421875 13.0625 8.265625 \r\n",
       "Q 6.59375 17.96875 6.59375 36.375 \r\n",
       "Q 6.59375 54.828125 13.0625 64.515625 \r\n",
       "Q 19.53125 74.21875 31.78125 74.21875 \r\n",
       "z\r\n",
       "\" id=\"DejaVuSans-48\"/>\r\n",
       "      <path d=\"M 11.71875 12.40625 \r\n",
       "L 22.015625 12.40625 \r\n",
       "L 22.015625 4 \r\n",
       "L 14.015625 -11.625 \r\n",
       "L 7.71875 -11.625 \r\n",
       "L 11.71875 4 \r\n",
       "z\r\n",
       "\" id=\"DejaVuSans-44\"/>\r\n",
       "      <path id=\"DejaVuSans-32\"/>\r\n",
       "      <path d=\"M 8.015625 75.875 \r\n",
       "L 15.828125 75.875 \r\n",
       "Q 23.140625 64.359375 26.78125 53.3125 \r\n",
       "Q 30.421875 42.28125 30.421875 31.390625 \r\n",
       "Q 30.421875 20.453125 26.78125 9.375 \r\n",
       "Q 23.140625 -1.703125 15.828125 -13.1875 \r\n",
       "L 8.015625 -13.1875 \r\n",
       "Q 14.5 -2 17.703125 9.0625 \r\n",
       "Q 20.90625 20.125 20.90625 31.390625 \r\n",
       "Q 20.90625 42.671875 17.703125 53.65625 \r\n",
       "Q 14.5 64.65625 8.015625 75.875 \r\n",
       "z\r\n",
       "\" id=\"DejaVuSans-41\"/>\r\n",
       "     </defs>\r\n",
       "     <g transform=\"translate(12.859044 233.903895)scale(0.12 -0.12)\">\r\n",
       "      <use xlink:href=\"#DejaVuSans-40\"/>\r\n",
       "      <use x=\"39.013672\" xlink:href=\"#DejaVuSans-48\"/>\r\n",
       "      <use x=\"102.636719\" xlink:href=\"#DejaVuSans-44\"/>\r\n",
       "      <use x=\"134.423828\" xlink:href=\"#DejaVuSans-32\"/>\r\n",
       "      <use x=\"166.210938\" xlink:href=\"#DejaVuSans-48\"/>\r\n",
       "      <use x=\"229.833984\" xlink:href=\"#DejaVuSans-41\"/>\r\n",
       "     </g>\r\n",
       "    </g>\r\n",
       "   </g>\r\n",
       "   <g id=\"text_2\">\r\n",
       "    <g clip-path=\"url(#p1eefa3dde0)\">\r\n",
       "     <!-- (0, 1) -->\r\n",
       "     <defs>\r\n",
       "      <path d=\"M 12.40625 8.296875 \r\n",
       "L 28.515625 8.296875 \r\n",
       "L 28.515625 63.921875 \r\n",
       "L 10.984375 60.40625 \r\n",
       "L 10.984375 69.390625 \r\n",
       "L 28.421875 72.90625 \r\n",
       "L 38.28125 72.90625 \r\n",
       "L 38.28125 8.296875 \r\n",
       "L 54.390625 8.296875 \r\n",
       "L 54.390625 0 \r\n",
       "L 12.40625 0 \r\n",
       "z\r\n",
       "\" id=\"DejaVuSans-49\"/>\r\n",
       "     </defs>\r\n",
       "     <g transform=\"translate(12.859044 166.515465)scale(0.12 -0.12)\">\r\n",
       "      <use xlink:href=\"#DejaVuSans-40\"/>\r\n",
       "      <use x=\"39.013672\" xlink:href=\"#DejaVuSans-48\"/>\r\n",
       "      <use x=\"102.636719\" xlink:href=\"#DejaVuSans-44\"/>\r\n",
       "      <use x=\"134.423828\" xlink:href=\"#DejaVuSans-32\"/>\r\n",
       "      <use x=\"166.210938\" xlink:href=\"#DejaVuSans-49\"/>\r\n",
       "      <use x=\"229.833984\" xlink:href=\"#DejaVuSans-41\"/>\r\n",
       "     </g>\r\n",
       "    </g>\r\n",
       "   </g>\r\n",
       "   <g id=\"text_3\">\r\n",
       "    <g clip-path=\"url(#p1eefa3dde0)\">\r\n",
       "     <!-- (1, 1) -->\r\n",
       "     <g transform=\"translate(116.619375 166.515465)scale(0.12 -0.12)\">\r\n",
       "      <use xlink:href=\"#DejaVuSans-40\"/>\r\n",
       "      <use x=\"39.013672\" xlink:href=\"#DejaVuSans-49\"/>\r\n",
       "      <use x=\"102.636719\" xlink:href=\"#DejaVuSans-44\"/>\r\n",
       "      <use x=\"134.423828\" xlink:href=\"#DejaVuSans-32\"/>\r\n",
       "      <use x=\"166.210938\" xlink:href=\"#DejaVuSans-49\"/>\r\n",
       "      <use x=\"229.833984\" xlink:href=\"#DejaVuSans-41\"/>\r\n",
       "     </g>\r\n",
       "    </g>\r\n",
       "   </g>\r\n",
       "   <g id=\"text_4\">\r\n",
       "    <g clip-path=\"url(#p1eefa3dde0)\">\r\n",
       "     <!-- (0, 2) -->\r\n",
       "     <defs>\r\n",
       "      <path d=\"M 19.1875 8.296875 \r\n",
       "L 53.609375 8.296875 \r\n",
       "L 53.609375 0 \r\n",
       "L 7.328125 0 \r\n",
       "L 7.328125 8.296875 \r\n",
       "Q 12.9375 14.109375 22.625 23.890625 \r\n",
       "Q 32.328125 33.6875 34.8125 36.53125 \r\n",
       "Q 39.546875 41.84375 41.421875 45.53125 \r\n",
       "Q 43.3125 49.21875 43.3125 52.78125 \r\n",
       "Q 43.3125 58.59375 39.234375 62.25 \r\n",
       "Q 35.15625 65.921875 28.609375 65.921875 \r\n",
       "Q 23.96875 65.921875 18.8125 64.3125 \r\n",
       "Q 13.671875 62.703125 7.8125 59.421875 \r\n",
       "L 7.8125 69.390625 \r\n",
       "Q 13.765625 71.78125 18.9375 73 \r\n",
       "Q 24.125 74.21875 28.421875 74.21875 \r\n",
       "Q 39.75 74.21875 46.484375 68.546875 \r\n",
       "Q 53.21875 62.890625 53.21875 53.421875 \r\n",
       "Q 53.21875 48.921875 51.53125 44.890625 \r\n",
       "Q 49.859375 40.875 45.40625 35.40625 \r\n",
       "Q 44.1875 33.984375 37.640625 27.21875 \r\n",
       "Q 31.109375 20.453125 19.1875 8.296875 \r\n",
       "z\r\n",
       "\" id=\"DejaVuSans-50\"/>\r\n",
       "     </defs>\r\n",
       "     <g transform=\"translate(12.859044 99.127035)scale(0.12 -0.12)\">\r\n",
       "      <use xlink:href=\"#DejaVuSans-40\"/>\r\n",
       "      <use x=\"39.013672\" xlink:href=\"#DejaVuSans-48\"/>\r\n",
       "      <use x=\"102.636719\" xlink:href=\"#DejaVuSans-44\"/>\r\n",
       "      <use x=\"134.423828\" xlink:href=\"#DejaVuSans-32\"/>\r\n",
       "      <use x=\"166.210938\" xlink:href=\"#DejaVuSans-50\"/>\r\n",
       "      <use x=\"229.833984\" xlink:href=\"#DejaVuSans-41\"/>\r\n",
       "     </g>\r\n",
       "    </g>\r\n",
       "   </g>\r\n",
       "   <g id=\"text_5\">\r\n",
       "    <g clip-path=\"url(#p1eefa3dde0)\">\r\n",
       "     <!-- (2, 1) -->\r\n",
       "     <g transform=\"translate(220.379706 166.515465)scale(0.12 -0.12)\">\r\n",
       "      <use xlink:href=\"#DejaVuSans-40\"/>\r\n",
       "      <use x=\"39.013672\" xlink:href=\"#DejaVuSans-50\"/>\r\n",
       "      <use x=\"102.636719\" xlink:href=\"#DejaVuSans-44\"/>\r\n",
       "      <use x=\"134.423828\" xlink:href=\"#DejaVuSans-32\"/>\r\n",
       "      <use x=\"166.210938\" xlink:href=\"#DejaVuSans-49\"/>\r\n",
       "      <use x=\"229.833984\" xlink:href=\"#DejaVuSans-41\"/>\r\n",
       "     </g>\r\n",
       "    </g>\r\n",
       "   </g>\r\n",
       "   <g id=\"text_6\">\r\n",
       "    <g clip-path=\"url(#p1eefa3dde0)\">\r\n",
       "     <!-- (1, 2) -->\r\n",
       "     <g transform=\"translate(116.619375 99.127035)scale(0.12 -0.12)\">\r\n",
       "      <use xlink:href=\"#DejaVuSans-40\"/>\r\n",
       "      <use x=\"39.013672\" xlink:href=\"#DejaVuSans-49\"/>\r\n",
       "      <use x=\"102.636719\" xlink:href=\"#DejaVuSans-44\"/>\r\n",
       "      <use x=\"134.423828\" xlink:href=\"#DejaVuSans-32\"/>\r\n",
       "      <use x=\"166.210938\" xlink:href=\"#DejaVuSans-50\"/>\r\n",
       "      <use x=\"229.833984\" xlink:href=\"#DejaVuSans-41\"/>\r\n",
       "     </g>\r\n",
       "    </g>\r\n",
       "   </g>\r\n",
       "   <g id=\"text_7\">\r\n",
       "    <g clip-path=\"url(#p1eefa3dde0)\">\r\n",
       "     <!-- (2, 2) -->\r\n",
       "     <g transform=\"translate(220.379706 99.127035)scale(0.12 -0.12)\">\r\n",
       "      <use xlink:href=\"#DejaVuSans-40\"/>\r\n",
       "      <use x=\"39.013672\" xlink:href=\"#DejaVuSans-50\"/>\r\n",
       "      <use x=\"102.636719\" xlink:href=\"#DejaVuSans-44\"/>\r\n",
       "      <use x=\"134.423828\" xlink:href=\"#DejaVuSans-32\"/>\r\n",
       "      <use x=\"166.210938\" xlink:href=\"#DejaVuSans-50\"/>\r\n",
       "      <use x=\"229.833984\" xlink:href=\"#DejaVuSans-41\"/>\r\n",
       "     </g>\r\n",
       "    </g>\r\n",
       "   </g>\r\n",
       "   <g id=\"text_8\">\r\n",
       "    <g clip-path=\"url(#p1eefa3dde0)\">\r\n",
       "     <!-- (0, 3) -->\r\n",
       "     <defs>\r\n",
       "      <path d=\"M 40.578125 39.3125 \r\n",
       "Q 47.65625 37.796875 51.625 33 \r\n",
       "Q 55.609375 28.21875 55.609375 21.1875 \r\n",
       "Q 55.609375 10.40625 48.1875 4.484375 \r\n",
       "Q 40.765625 -1.421875 27.09375 -1.421875 \r\n",
       "Q 22.515625 -1.421875 17.65625 -0.515625 \r\n",
       "Q 12.796875 0.390625 7.625 2.203125 \r\n",
       "L 7.625 11.71875 \r\n",
       "Q 11.71875 9.328125 16.59375 8.109375 \r\n",
       "Q 21.484375 6.890625 26.8125 6.890625 \r\n",
       "Q 36.078125 6.890625 40.9375 10.546875 \r\n",
       "Q 45.796875 14.203125 45.796875 21.1875 \r\n",
       "Q 45.796875 27.640625 41.28125 31.265625 \r\n",
       "Q 36.765625 34.90625 28.71875 34.90625 \r\n",
       "L 20.21875 34.90625 \r\n",
       "L 20.21875 43.015625 \r\n",
       "L 29.109375 43.015625 \r\n",
       "Q 36.375 43.015625 40.234375 45.921875 \r\n",
       "Q 44.09375 48.828125 44.09375 54.296875 \r\n",
       "Q 44.09375 59.90625 40.109375 62.90625 \r\n",
       "Q 36.140625 65.921875 28.71875 65.921875 \r\n",
       "Q 24.65625 65.921875 20.015625 65.03125 \r\n",
       "Q 15.375 64.15625 9.8125 62.3125 \r\n",
       "L 9.8125 71.09375 \r\n",
       "Q 15.4375 72.65625 20.34375 73.4375 \r\n",
       "Q 25.25 74.21875 29.59375 74.21875 \r\n",
       "Q 40.828125 74.21875 47.359375 69.109375 \r\n",
       "Q 53.90625 64.015625 53.90625 55.328125 \r\n",
       "Q 53.90625 49.265625 50.4375 45.09375 \r\n",
       "Q 46.96875 40.921875 40.578125 39.3125 \r\n",
       "z\r\n",
       "\" id=\"DejaVuSans-51\"/>\r\n",
       "     </defs>\r\n",
       "     <g transform=\"translate(12.859044 31.738605)scale(0.12 -0.12)\">\r\n",
       "      <use xlink:href=\"#DejaVuSans-40\"/>\r\n",
       "      <use x=\"39.013672\" xlink:href=\"#DejaVuSans-48\"/>\r\n",
       "      <use x=\"102.636719\" xlink:href=\"#DejaVuSans-44\"/>\r\n",
       "      <use x=\"134.423828\" xlink:href=\"#DejaVuSans-32\"/>\r\n",
       "      <use x=\"166.210938\" xlink:href=\"#DejaVuSans-51\"/>\r\n",
       "      <use x=\"229.833984\" xlink:href=\"#DejaVuSans-41\"/>\r\n",
       "     </g>\r\n",
       "    </g>\r\n",
       "   </g>\r\n",
       "   <g id=\"text_9\">\r\n",
       "    <g clip-path=\"url(#p1eefa3dde0)\">\r\n",
       "     <!-- (1, 3) -->\r\n",
       "     <g transform=\"translate(116.619375 31.738605)scale(0.12 -0.12)\">\r\n",
       "      <use xlink:href=\"#DejaVuSans-40\"/>\r\n",
       "      <use x=\"39.013672\" xlink:href=\"#DejaVuSans-49\"/>\r\n",
       "      <use x=\"102.636719\" xlink:href=\"#DejaVuSans-44\"/>\r\n",
       "      <use x=\"134.423828\" xlink:href=\"#DejaVuSans-32\"/>\r\n",
       "      <use x=\"166.210938\" xlink:href=\"#DejaVuSans-51\"/>\r\n",
       "      <use x=\"229.833984\" xlink:href=\"#DejaVuSans-41\"/>\r\n",
       "     </g>\r\n",
       "    </g>\r\n",
       "   </g>\r\n",
       "   <g id=\"text_10\">\r\n",
       "    <g clip-path=\"url(#p1eefa3dde0)\">\r\n",
       "     <!-- (2, 3) -->\r\n",
       "     <g transform=\"translate(220.379706 31.738605)scale(0.12 -0.12)\">\r\n",
       "      <use xlink:href=\"#DejaVuSans-40\"/>\r\n",
       "      <use x=\"39.013672\" xlink:href=\"#DejaVuSans-50\"/>\r\n",
       "      <use x=\"102.636719\" xlink:href=\"#DejaVuSans-44\"/>\r\n",
       "      <use x=\"134.423828\" xlink:href=\"#DejaVuSans-32\"/>\r\n",
       "      <use x=\"166.210938\" xlink:href=\"#DejaVuSans-51\"/>\r\n",
       "      <use x=\"229.833984\" xlink:href=\"#DejaVuSans-41\"/>\r\n",
       "     </g>\r\n",
       "    </g>\r\n",
       "   </g>\r\n",
       "  </g>\r\n",
       " </g>\r\n",
       " <defs>\r\n",
       "  <clipPath id=\"p1eefa3dde0\">\r\n",
       "   <rect height=\"244.62\" width=\"251.1\" x=\"7.2\" y=\"7.2\"/>\r\n",
       "  </clipPath>\r\n",
       " </defs>\r\n",
       "</svg>\r\n"
      ],
      "text/plain": [
       "<Figure size 324x324 with 1 Axes>"
      ]
     },
     "metadata": {},
     "output_type": "display_data"
    }
   ],
   "source": [
    "abg.markov.visualise_ambulance_markov_chain(num_of_servers=1, threshold=1, system_capacity=3, buffer_capacity=2)"
   ]
  },
  {
   "cell_type": "code",
   "execution_count": 4,
   "metadata": {},
   "outputs": [],
   "source": [
    "all_states_1132 = abg.markov.build_states(threshold=threshold, system_capacity=system_capacity, buffer_capacity=buffer_capacity)\n",
    "Q_sym_1132 = abg.markov.get_symbolic_transition_matrix(num_of_servers, threshold, system_capacity, buffer_capacity)\n",
    "\n",
    "p00, p01, p11, p21, p02, p12, p22, p03, p13, p23 = sym.symbols('p00, p01, p11, p21, p02, p12, p22, p03, p13, p23')\n",
    "pi_1132 = sym.Matrix([p00, p01, p11, p21, p02, p12, p22, p03, p13, p23])\n",
    "dimension_1132 = Q_sym_1132.shape[0]\n",
    "\n",
    "M_sym_1132 = sym.Matrix([Q_sym_1132.transpose()[:-1,:], sym.ones(1,dimension_1132)])\n",
    "sym_diff_equations_1132 = (M_sym_1132 @ pi_1132)\n",
    "\n",
    "b_sym_1132 = sym.Matrix([sym.zeros(dimension_1132 - 1, 1), [1]])"
   ]
  },
  {
   "cell_type": "code",
   "execution_count": 6,
   "metadata": {},
   "outputs": [],
   "source": [
    "eq0_1132 = sym.Eq(sym_diff_equations_1132[0],b_sym_1132[0])\n",
    "eq1_1132 = sym.Eq(sym_diff_equations_1132[1],b_sym_1132[1])\n",
    "eq2_1132 = sym.Eq(sym_diff_equations_1132[2],b_sym_1132[2])\n",
    "eq3_1132 = sym.Eq(sym_diff_equations_1132[3],b_sym_1132[3])\n",
    "eq4_1132 = sym.Eq(sym_diff_equations_1132[4],b_sym_1132[4])\n",
    "eq5_1132 = sym.Eq(sym_diff_equations_1132[5],b_sym_1132[5])\n",
    "eq6_1132 = sym.Eq(sym_diff_equations_1132[6],b_sym_1132[6])\n",
    "eq7_1132 = sym.Eq(sym_diff_equations_1132[7],b_sym_1132[7])\n",
    "eq8_1132 = sym.Eq(sym_diff_equations_1132[8],b_sym_1132[8])\n",
    "eq9_1132 = sym.Eq(sym_diff_equations_1132[9],b_sym_1132[9])"
   ]
  },
  {
   "cell_type": "code",
   "execution_count": 7,
   "metadata": {},
   "outputs": [],
   "source": [
    "sym_state_probs_1132 = sym.solve([eq0_1132,eq1_1132,eq2_1132,eq3_1132,eq4_1132,eq5_1132,eq6_1132,eq7_1132,eq8_1132,eq9_1132],(p00,p01,p11,p21,p02,p12,p22,p03,p13,p23))"
   ]
  },
  {
   "cell_type": "code",
   "execution_count": 8,
   "metadata": {},
   "outputs": [],
   "source": [
    "sym_state_recursive_ratios_1132 = sym.zeros(buffer_capacity + 1, system_capacity + 1)\n",
    "sym_state_recursive_ratios_1132[0,0] = 1\n",
    "sym_state_recursive_ratios_1132[0,1] = sym.factor(sym_state_probs_1132[p01] / sym_state_probs_1132[p00])  # (0,0) -> (0,1) \n",
    "sym_state_recursive_ratios_1132[1,1] = sym.factor(sym_state_probs_1132[p11] / sym_state_probs_1132[p01])  # (0,1) -> (1,1)\n",
    "sym_state_recursive_ratios_1132[2,1] = sym.factor(sym_state_probs_1132[p21] / sym_state_probs_1132[p11])  # (1,1) -> (2,1)\n",
    "sym_state_recursive_ratios_1132[0,2] = sym.factor(sym_state_probs_1132[p02] / sym_state_probs_1132[p01])  # (0,1) -> (0,2)\n",
    "sym_state_recursive_ratios_1132[1,2] = sym.factor(sym_state_probs_1132[p12] / sym_state_probs_1132[p02])  # (0,2) -> (1,2)\n",
    "sym_state_recursive_ratios_1132[2,2] = sym.factor(sym_state_probs_1132[p22] / sym_state_probs_1132[p12])  # (1,2) -> (2,2)\n",
    "sym_state_recursive_ratios_1132[0,3] = sym.factor(sym_state_probs_1132[p03] / sym_state_probs_1132[p02])  # (0,2) -> (0,3)\n",
    "sym_state_recursive_ratios_1132[1,3] = sym.factor(sym_state_probs_1132[p13] / sym_state_probs_1132[p03])  # (0,3) -> (1,3)\n",
    "sym_state_recursive_ratios_1132[2,3] = sym.factor(sym_state_probs_1132[p23] / sym_state_probs_1132[p13])  # (1,3) -> (2,3)\n",
    "\n",
    "sym_state_recursive_ratios_right_1132 = sym_state_recursive_ratios_1132.copy()\n",
    "sym_state_recursive_ratios_right_1132[1,2] = sym.factor(sym_state_probs_1132[p12] / sym_state_probs_1132[p11])  # (1,1) -> (1,2)\n",
    "sym_state_recursive_ratios_right_1132[1,3] = sym.factor(sym_state_probs_1132[p13] / sym_state_probs_1132[p12])  # (1,2) -> (1,3)\n",
    "sym_state_recursive_ratios_right_1132[2,2] = sym.factor(sym_state_probs_1132[p22] / sym_state_probs_1132[p21])  # (2,1) -> (2,2)\n",
    "sym_state_recursive_ratios_right_1132[2,3] = sym.factor(sym_state_probs_1132[p23] / sym_state_probs_1132[p22])  # (2,2) -> (2,3)\n",
    "\n",
    "sym_state_recursive_ratios_P0_1132 = sym.zeros(buffer_capacity + 1, system_capacity + 1)\n",
    "sym_state_recursive_ratios_P0_1132[0,0] = 1\n",
    "sym_state_recursive_ratios_P0_1132[0,1] = sym.factor(sym_state_probs_1132[p01] / sym_state_probs_1132[p00])  # (0,0) -> (0,1) \n",
    "sym_state_recursive_ratios_P0_1132[1,1] = sym.factor(sym_state_probs_1132[p11] / sym_state_probs_1132[p00])  # (0,0) -> (1,1)\n",
    "sym_state_recursive_ratios_P0_1132[2,1] = sym.factor(sym_state_probs_1132[p21] / sym_state_probs_1132[p00])  # (0,0) -> (2,1)\n",
    "sym_state_recursive_ratios_P0_1132[0,2] = sym.factor(sym_state_probs_1132[p02] / sym_state_probs_1132[p00])  # (0,0) -> (0,2)\n",
    "sym_state_recursive_ratios_P0_1132[1,2] = sym.factor(sym_state_probs_1132[p12] / sym_state_probs_1132[p00])  # (0,0) -> (1,2)\n",
    "sym_state_recursive_ratios_P0_1132[2,2] = sym.factor(sym_state_probs_1132[p22] / sym_state_probs_1132[p00])  # (0,0) -> (2,2)\n",
    "sym_state_recursive_ratios_P0_1132[0,3] = sym.factor(sym_state_probs_1132[p03] / sym_state_probs_1132[p00])  # (0,0) -> (0,3)\n",
    "sym_state_recursive_ratios_P0_1132[1,3] = sym.factor(sym_state_probs_1132[p13] / sym_state_probs_1132[p00])  # (0,0) -> (1,3)\n",
    "sym_state_recursive_ratios_P0_1132[2,3] = sym.factor(sym_state_probs_1132[p23] / sym_state_probs_1132[p00])  # (0,0) -> (2,3)"
   ]
  },
  {
   "cell_type": "code",
   "execution_count": 9,
   "metadata": {},
   "outputs": [
    {
     "data": {
      "text/latex": [
       "$\\displaystyle \\left[\\begin{matrix}1 & \\frac{\\Lambda}{\\mu} & \\frac{\\lambda^{o} \\left(\\lambda^{A} + \\mu\\right)}{\\left(\\lambda^{A}\\right)^{2} + \\lambda^{A} \\lambda^{o} + 2 \\lambda^{A} \\mu + \\mu^{2}} & \\frac{\\lambda^{o}}{\\lambda^{A} + \\mu}\\\\0 & \\frac{\\lambda^{A} \\left(\\left(\\lambda^{A}\\right)^{2} + 2 \\lambda^{A} \\lambda^{o} + 2 \\lambda^{A} \\mu + \\left(\\lambda^{o}\\right)^{2} + \\lambda^{o} \\mu + \\mu^{2}\\right)}{\\mu \\left(\\left(\\lambda^{A}\\right)^{2} + \\lambda^{A} \\lambda^{o} + 2 \\lambda^{A} \\mu + \\mu^{2}\\right)} & \\frac{\\lambda^{A} \\left(\\left(\\lambda^{A}\\right)^{3} + 2 \\left(\\lambda^{A}\\right)^{2} \\lambda^{o} + 4 \\left(\\lambda^{A}\\right)^{2} \\mu + \\lambda^{A} \\left(\\lambda^{o}\\right)^{2} + 3 \\lambda^{A} \\lambda^{o} \\mu + 5 \\lambda^{A} \\mu^{2} + \\left(\\lambda^{o}\\right)^{2} \\mu + 2 \\lambda^{o} \\mu^{2} + 2 \\mu^{3}\\right)}{\\mu \\left(\\lambda^{A} + \\mu\\right) \\left(\\left(\\lambda^{A}\\right)^{2} + \\lambda^{A} \\lambda^{o} + 2 \\lambda^{A} \\mu + \\mu^{2}\\right)} & \\frac{\\lambda^{A} \\left(\\left(\\lambda^{A}\\right)^{2} + 2 \\lambda^{A} \\lambda^{o} + 4 \\lambda^{A} \\mu + \\left(\\lambda^{o}\\right)^{2} + 2 \\lambda^{o} \\mu + 3 \\mu^{2}\\right)}{\\mu \\left(\\left(\\lambda^{A}\\right)^{2} + \\lambda^{A} \\lambda^{o} + 2 \\lambda^{A} \\mu + \\mu^{2}\\right)}\\\\0 & \\frac{\\lambda^{A} \\left(\\left(\\lambda^{A}\\right)^{4} + 4 \\left(\\lambda^{A}\\right)^{3} \\lambda^{o} + 4 \\left(\\lambda^{A}\\right)^{3} \\mu + 6 \\left(\\lambda^{A}\\right)^{2} \\left(\\lambda^{o}\\right)^{2} + 11 \\left(\\lambda^{A}\\right)^{2} \\lambda^{o} \\mu + 6 \\left(\\lambda^{A}\\right)^{2} \\mu^{2} + 4 \\lambda^{A} \\left(\\lambda^{o}\\right)^{3} + 10 \\lambda^{A} \\left(\\lambda^{o}\\right)^{2} \\mu + 10 \\lambda^{A} \\lambda^{o} \\mu^{2} + 4 \\lambda^{A} \\mu^{3} + \\left(\\lambda^{o}\\right)^{4} + 3 \\left(\\lambda^{o}\\right)^{3} \\mu + 6 \\left(\\lambda^{o}\\right)^{2} \\mu^{2} + 3 \\lambda^{o} \\mu^{3} + \\mu^{4}\\right)}{\\mu \\left(\\left(\\lambda^{A}\\right)^{2} + \\lambda^{A} \\lambda^{o} + 2 \\lambda^{A} \\mu + \\mu^{2}\\right) \\left(\\left(\\lambda^{A}\\right)^{2} + 2 \\lambda^{A} \\lambda^{o} + 2 \\lambda^{A} \\mu + \\left(\\lambda^{o}\\right)^{2} + \\lambda^{o} \\mu + \\mu^{2}\\right)} & \\frac{\\lambda^{A} \\left(\\left(\\lambda^{A}\\right)^{4} + 4 \\left(\\lambda^{A}\\right)^{3} \\lambda^{o} + 5 \\left(\\lambda^{A}\\right)^{3} \\mu + 6 \\left(\\lambda^{A}\\right)^{2} \\left(\\lambda^{o}\\right)^{2} + 14 \\left(\\lambda^{A}\\right)^{2} \\lambda^{o} \\mu + 10 \\left(\\lambda^{A}\\right)^{2} \\mu^{2} + 4 \\lambda^{A} \\left(\\lambda^{o}\\right)^{3} + 13 \\lambda^{A} \\left(\\lambda^{o}\\right)^{2} \\mu + 17 \\lambda^{A} \\lambda^{o} \\mu^{2} + 9 \\lambda^{A} \\mu^{3} + \\left(\\lambda^{o}\\right)^{4} + 4 \\left(\\lambda^{o}\\right)^{3} \\mu + 9 \\left(\\lambda^{o}\\right)^{2} \\mu^{2} + 8 \\lambda^{o} \\mu^{3} + 3 \\mu^{4}\\right)}{\\mu^{2} \\left(\\left(\\lambda^{A}\\right)^{3} + 2 \\left(\\lambda^{A}\\right)^{2} \\lambda^{o} + 4 \\left(\\lambda^{A}\\right)^{2} \\mu + \\lambda^{A} \\left(\\lambda^{o}\\right)^{2} + 3 \\lambda^{A} \\lambda^{o} \\mu + 5 \\lambda^{A} \\mu^{2} + \\left(\\lambda^{o}\\right)^{2} \\mu + 2 \\lambda^{o} \\mu^{2} + 2 \\mu^{3}\\right)} & \\frac{\\lambda^{A} \\left(\\left(\\lambda^{A}\\right)^{4} + 4 \\left(\\lambda^{A}\\right)^{3} \\lambda^{o} + 5 \\left(\\lambda^{A}\\right)^{3} \\mu + 6 \\left(\\lambda^{A}\\right)^{2} \\left(\\lambda^{o}\\right)^{2} + 14 \\left(\\lambda^{A}\\right)^{2} \\lambda^{o} \\mu + 11 \\left(\\lambda^{A}\\right)^{2} \\mu^{2} + 4 \\lambda^{A} \\left(\\lambda^{o}\\right)^{3} + 13 \\lambda^{A} \\left(\\lambda^{o}\\right)^{2} \\mu + 19 \\lambda^{A} \\lambda^{o} \\mu^{2} + 13 \\lambda^{A} \\mu^{3} + \\left(\\lambda^{o}\\right)^{4} + 4 \\left(\\lambda^{o}\\right)^{3} \\mu + 10 \\left(\\lambda^{o}\\right)^{2} \\mu^{2} + 10 \\lambda^{o} \\mu^{3} + 6 \\mu^{4}\\right)}{\\mu^{3} \\left(\\left(\\lambda^{A}\\right)^{2} + 2 \\lambda^{A} \\lambda^{o} + 4 \\lambda^{A} \\mu + \\left(\\lambda^{o}\\right)^{2} + 2 \\lambda^{o} \\mu + 3 \\mu^{2}\\right)}\\end{matrix}\\right]$"
      ],
      "text/plain": [
       "Matrix([\n",
       "[1,                                                                                                                                                                                                                                                                                                                                                                                                                                                                                        Lambda/mu,                                                                                                                                                                                                                                                                                                                                                                                                                                              lambda_1*(lambda_2 + mu)/(lambda_2**2 + lambda_2*lambda_1 + 2*lambda_2*mu + mu**2),                                                                                                                                                                                                                                                                                                                                                                                                                            lambda_1/(lambda_2 + mu)],\n",
       "[0,                                                                                                                                                                                                                                                                                                                                  lambda_2*(lambda_2**2 + 2*lambda_2*lambda_1 + 2*lambda_2*mu + lambda_1**2 + lambda_1*mu + mu**2)/(mu*(lambda_2**2 + lambda_2*lambda_1 + 2*lambda_2*mu + mu**2)),                                                                                                                                                                                                                                                              lambda_2*(lambda_2**3 + 2*lambda_2**2*lambda_1 + 4*lambda_2**2*mu + lambda_2*lambda_1**2 + 3*lambda_2*lambda_1*mu + 5*lambda_2*mu**2 + lambda_1**2*mu + 2*lambda_1*mu**2 + 2*mu**3)/(mu*(lambda_2 + mu)*(lambda_2**2 + lambda_2*lambda_1 + 2*lambda_2*mu + mu**2)),                                                                                                                                                                                                                                                                                 lambda_2*(lambda_2**2 + 2*lambda_2*lambda_1 + 4*lambda_2*mu + lambda_1**2 + 2*lambda_1*mu + 3*mu**2)/(mu*(lambda_2**2 + lambda_2*lambda_1 + 2*lambda_2*mu + mu**2))],\n",
       "[0, lambda_2*(lambda_2**4 + 4*lambda_2**3*lambda_1 + 4*lambda_2**3*mu + 6*lambda_2**2*lambda_1**2 + 11*lambda_2**2*lambda_1*mu + 6*lambda_2**2*mu**2 + 4*lambda_2*lambda_1**3 + 10*lambda_2*lambda_1**2*mu + 10*lambda_2*lambda_1*mu**2 + 4*lambda_2*mu**3 + lambda_1**4 + 3*lambda_1**3*mu + 6*lambda_1**2*mu**2 + 3*lambda_1*mu**3 + mu**4)/(mu*(lambda_2**2 + lambda_2*lambda_1 + 2*lambda_2*mu + mu**2)*(lambda_2**2 + 2*lambda_2*lambda_1 + 2*lambda_2*mu + lambda_1**2 + lambda_1*mu + mu**2)), lambda_2*(lambda_2**4 + 4*lambda_2**3*lambda_1 + 5*lambda_2**3*mu + 6*lambda_2**2*lambda_1**2 + 14*lambda_2**2*lambda_1*mu + 10*lambda_2**2*mu**2 + 4*lambda_2*lambda_1**3 + 13*lambda_2*lambda_1**2*mu + 17*lambda_2*lambda_1*mu**2 + 9*lambda_2*mu**3 + lambda_1**4 + 4*lambda_1**3*mu + 9*lambda_1**2*mu**2 + 8*lambda_1*mu**3 + 3*mu**4)/(mu**2*(lambda_2**3 + 2*lambda_2**2*lambda_1 + 4*lambda_2**2*mu + lambda_2*lambda_1**2 + 3*lambda_2*lambda_1*mu + 5*lambda_2*mu**2 + lambda_1**2*mu + 2*lambda_1*mu**2 + 2*mu**3)), lambda_2*(lambda_2**4 + 4*lambda_2**3*lambda_1 + 5*lambda_2**3*mu + 6*lambda_2**2*lambda_1**2 + 14*lambda_2**2*lambda_1*mu + 11*lambda_2**2*mu**2 + 4*lambda_2*lambda_1**3 + 13*lambda_2*lambda_1**2*mu + 19*lambda_2*lambda_1*mu**2 + 13*lambda_2*mu**3 + lambda_1**4 + 4*lambda_1**3*mu + 10*lambda_1**2*mu**2 + 10*lambda_1*mu**3 + 6*mu**4)/(mu**3*(lambda_2**2 + 2*lambda_2*lambda_1 + 4*lambda_2*mu + lambda_1**2 + 2*lambda_1*mu + 3*mu**2))]])"
      ]
     },
     "execution_count": 9,
     "metadata": {},
     "output_type": "execute_result"
    }
   ],
   "source": [
    "sym_state_recursive_ratios_1132"
   ]
  },
  {
   "cell_type": "code",
   "execution_count": 10,
   "metadata": {},
   "outputs": [
    {
     "data": {
      "text/latex": [
       "$\\displaystyle \\left[\\begin{matrix}1 & \\frac{\\Lambda}{\\mu} & \\frac{\\lambda^{o} \\left(\\lambda^{A} + \\mu\\right)}{\\left(\\lambda^{A}\\right)^{2} + \\lambda^{A} \\lambda^{o} + 2 \\lambda^{A} \\mu + \\mu^{2}} & \\frac{\\lambda^{o}}{\\lambda^{A} + \\mu}\\\\0 & \\frac{\\lambda^{A} \\left(\\left(\\lambda^{A}\\right)^{2} + 2 \\lambda^{A} \\lambda^{o} + 2 \\lambda^{A} \\mu + \\left(\\lambda^{o}\\right)^{2} + \\lambda^{o} \\mu + \\mu^{2}\\right)}{\\mu \\left(\\left(\\lambda^{A}\\right)^{2} + \\lambda^{A} \\lambda^{o} + 2 \\lambda^{A} \\mu + \\mu^{2}\\right)} & \\frac{\\lambda^{o} \\left(\\left(\\lambda^{A}\\right)^{3} + 2 \\left(\\lambda^{A}\\right)^{2} \\lambda^{o} + 4 \\left(\\lambda^{A}\\right)^{2} \\mu + \\lambda^{A} \\left(\\lambda^{o}\\right)^{2} + 3 \\lambda^{A} \\lambda^{o} \\mu + 5 \\lambda^{A} \\mu^{2} + \\left(\\lambda^{o}\\right)^{2} \\mu + 2 \\lambda^{o} \\mu^{2} + 2 \\mu^{3}\\right)}{\\left(\\left(\\lambda^{A}\\right)^{2} + \\lambda^{A} \\lambda^{o} + 2 \\lambda^{A} \\mu + \\mu^{2}\\right) \\left(\\left(\\lambda^{A}\\right)^{2} + 2 \\lambda^{A} \\lambda^{o} + 2 \\lambda^{A} \\mu + \\left(\\lambda^{o}\\right)^{2} + \\lambda^{o} \\mu + \\mu^{2}\\right)} & \\frac{\\lambda^{o} \\left(\\left(\\lambda^{A}\\right)^{2} + 2 \\lambda^{A} \\lambda^{o} + 4 \\lambda^{A} \\mu + \\left(\\lambda^{o}\\right)^{2} + 2 \\lambda^{o} \\mu + 3 \\mu^{2}\\right)}{\\left(\\lambda^{A}\\right)^{3} + 2 \\left(\\lambda^{A}\\right)^{2} \\lambda^{o} + 4 \\left(\\lambda^{A}\\right)^{2} \\mu + \\lambda^{A} \\left(\\lambda^{o}\\right)^{2} + 3 \\lambda^{A} \\lambda^{o} \\mu + 5 \\lambda^{A} \\mu^{2} + \\left(\\lambda^{o}\\right)^{2} \\mu + 2 \\lambda^{o} \\mu^{2} + 2 \\mu^{3}}\\\\0 & \\frac{\\lambda^{A} \\left(\\left(\\lambda^{A}\\right)^{4} + 4 \\left(\\lambda^{A}\\right)^{3} \\lambda^{o} + 4 \\left(\\lambda^{A}\\right)^{3} \\mu + 6 \\left(\\lambda^{A}\\right)^{2} \\left(\\lambda^{o}\\right)^{2} + 11 \\left(\\lambda^{A}\\right)^{2} \\lambda^{o} \\mu + 6 \\left(\\lambda^{A}\\right)^{2} \\mu^{2} + 4 \\lambda^{A} \\left(\\lambda^{o}\\right)^{3} + 10 \\lambda^{A} \\left(\\lambda^{o}\\right)^{2} \\mu + 10 \\lambda^{A} \\lambda^{o} \\mu^{2} + 4 \\lambda^{A} \\mu^{3} + \\left(\\lambda^{o}\\right)^{4} + 3 \\left(\\lambda^{o}\\right)^{3} \\mu + 6 \\left(\\lambda^{o}\\right)^{2} \\mu^{2} + 3 \\lambda^{o} \\mu^{3} + \\mu^{4}\\right)}{\\mu \\left(\\left(\\lambda^{A}\\right)^{2} + \\lambda^{A} \\lambda^{o} + 2 \\lambda^{A} \\mu + \\mu^{2}\\right) \\left(\\left(\\lambda^{A}\\right)^{2} + 2 \\lambda^{A} \\lambda^{o} + 2 \\lambda^{A} \\mu + \\left(\\lambda^{o}\\right)^{2} + \\lambda^{o} \\mu + \\mu^{2}\\right)} & \\frac{\\lambda^{o} \\left(\\left(\\lambda^{A}\\right)^{4} + 4 \\left(\\lambda^{A}\\right)^{3} \\lambda^{o} + 5 \\left(\\lambda^{A}\\right)^{3} \\mu + 6 \\left(\\lambda^{A}\\right)^{2} \\left(\\lambda^{o}\\right)^{2} + 14 \\left(\\lambda^{A}\\right)^{2} \\lambda^{o} \\mu + 10 \\left(\\lambda^{A}\\right)^{2} \\mu^{2} + 4 \\lambda^{A} \\left(\\lambda^{o}\\right)^{3} + 13 \\lambda^{A} \\left(\\lambda^{o}\\right)^{2} \\mu + 17 \\lambda^{A} \\lambda^{o} \\mu^{2} + 9 \\lambda^{A} \\mu^{3} + \\left(\\lambda^{o}\\right)^{4} + 4 \\left(\\lambda^{o}\\right)^{3} \\mu + 9 \\left(\\lambda^{o}\\right)^{2} \\mu^{2} + 8 \\lambda^{o} \\mu^{3} + 3 \\mu^{4}\\right)}{\\mu \\left(\\left(\\lambda^{A}\\right)^{4} + 4 \\left(\\lambda^{A}\\right)^{3} \\lambda^{o} + 4 \\left(\\lambda^{A}\\right)^{3} \\mu + 6 \\left(\\lambda^{A}\\right)^{2} \\left(\\lambda^{o}\\right)^{2} + 11 \\left(\\lambda^{A}\\right)^{2} \\lambda^{o} \\mu + 6 \\left(\\lambda^{A}\\right)^{2} \\mu^{2} + 4 \\lambda^{A} \\left(\\lambda^{o}\\right)^{3} + 10 \\lambda^{A} \\left(\\lambda^{o}\\right)^{2} \\mu + 10 \\lambda^{A} \\lambda^{o} \\mu^{2} + 4 \\lambda^{A} \\mu^{3} + \\left(\\lambda^{o}\\right)^{4} + 3 \\left(\\lambda^{o}\\right)^{3} \\mu + 6 \\left(\\lambda^{o}\\right)^{2} \\mu^{2} + 3 \\lambda^{o} \\mu^{3} + \\mu^{4}\\right)} & \\frac{\\lambda^{o} \\left(\\left(\\lambda^{A}\\right)^{4} + 4 \\left(\\lambda^{A}\\right)^{3} \\lambda^{o} + 5 \\left(\\lambda^{A}\\right)^{3} \\mu + 6 \\left(\\lambda^{A}\\right)^{2} \\left(\\lambda^{o}\\right)^{2} + 14 \\left(\\lambda^{A}\\right)^{2} \\lambda^{o} \\mu + 11 \\left(\\lambda^{A}\\right)^{2} \\mu^{2} + 4 \\lambda^{A} \\left(\\lambda^{o}\\right)^{3} + 13 \\lambda^{A} \\left(\\lambda^{o}\\right)^{2} \\mu + 19 \\lambda^{A} \\lambda^{o} \\mu^{2} + 13 \\lambda^{A} \\mu^{3} + \\left(\\lambda^{o}\\right)^{4} + 4 \\left(\\lambda^{o}\\right)^{3} \\mu + 10 \\left(\\lambda^{o}\\right)^{2} \\mu^{2} + 10 \\lambda^{o} \\mu^{3} + 6 \\mu^{4}\\right)}{\\mu \\left(\\left(\\lambda^{A}\\right)^{4} + 4 \\left(\\lambda^{A}\\right)^{3} \\lambda^{o} + 5 \\left(\\lambda^{A}\\right)^{3} \\mu + 6 \\left(\\lambda^{A}\\right)^{2} \\left(\\lambda^{o}\\right)^{2} + 14 \\left(\\lambda^{A}\\right)^{2} \\lambda^{o} \\mu + 10 \\left(\\lambda^{A}\\right)^{2} \\mu^{2} + 4 \\lambda^{A} \\left(\\lambda^{o}\\right)^{3} + 13 \\lambda^{A} \\left(\\lambda^{o}\\right)^{2} \\mu + 17 \\lambda^{A} \\lambda^{o} \\mu^{2} + 9 \\lambda^{A} \\mu^{3} + \\left(\\lambda^{o}\\right)^{4} + 4 \\left(\\lambda^{o}\\right)^{3} \\mu + 9 \\left(\\lambda^{o}\\right)^{2} \\mu^{2} + 8 \\lambda^{o} \\mu^{3} + 3 \\mu^{4}\\right)}\\end{matrix}\\right]$"
      ],
      "text/plain": [
       "Matrix([\n",
       "[1,                                                                                                                                                                                                                                                                                                                                                                                                                                                                                        Lambda/mu,                                                                                                                                                                                                                                                                                                                                                                                                                                                                                                                                                                                                 lambda_1*(lambda_2 + mu)/(lambda_2**2 + lambda_2*lambda_1 + 2*lambda_2*mu + mu**2),                                                                                                                                                                                                                                                                                                                                                                                                                                                                                                                                                                                                                                                                 lambda_1/(lambda_2 + mu)],\n",
       "[0,                                                                                                                                                                                                                                                                                                                                  lambda_2*(lambda_2**2 + 2*lambda_2*lambda_1 + 2*lambda_2*mu + lambda_1**2 + lambda_1*mu + mu**2)/(mu*(lambda_2**2 + lambda_2*lambda_1 + 2*lambda_2*mu + mu**2)),                                                                                                                                                                                                                                                                                                                                            lambda_1*(lambda_2**3 + 2*lambda_2**2*lambda_1 + 4*lambda_2**2*mu + lambda_2*lambda_1**2 + 3*lambda_2*lambda_1*mu + 5*lambda_2*mu**2 + lambda_1**2*mu + 2*lambda_1*mu**2 + 2*mu**3)/((lambda_2**2 + lambda_2*lambda_1 + 2*lambda_2*mu + mu**2)*(lambda_2**2 + 2*lambda_2*lambda_1 + 2*lambda_2*mu + lambda_1**2 + lambda_1*mu + mu**2)),                                                                                                                                                                                                                                                                                                                                                                                                          lambda_1*(lambda_2**2 + 2*lambda_2*lambda_1 + 4*lambda_2*mu + lambda_1**2 + 2*lambda_1*mu + 3*mu**2)/(lambda_2**3 + 2*lambda_2**2*lambda_1 + 4*lambda_2**2*mu + lambda_2*lambda_1**2 + 3*lambda_2*lambda_1*mu + 5*lambda_2*mu**2 + lambda_1**2*mu + 2*lambda_1*mu**2 + 2*mu**3)],\n",
       "[0, lambda_2*(lambda_2**4 + 4*lambda_2**3*lambda_1 + 4*lambda_2**3*mu + 6*lambda_2**2*lambda_1**2 + 11*lambda_2**2*lambda_1*mu + 6*lambda_2**2*mu**2 + 4*lambda_2*lambda_1**3 + 10*lambda_2*lambda_1**2*mu + 10*lambda_2*lambda_1*mu**2 + 4*lambda_2*mu**3 + lambda_1**4 + 3*lambda_1**3*mu + 6*lambda_1**2*mu**2 + 3*lambda_1*mu**3 + mu**4)/(mu*(lambda_2**2 + lambda_2*lambda_1 + 2*lambda_2*mu + mu**2)*(lambda_2**2 + 2*lambda_2*lambda_1 + 2*lambda_2*mu + lambda_1**2 + lambda_1*mu + mu**2)), lambda_1*(lambda_2**4 + 4*lambda_2**3*lambda_1 + 5*lambda_2**3*mu + 6*lambda_2**2*lambda_1**2 + 14*lambda_2**2*lambda_1*mu + 10*lambda_2**2*mu**2 + 4*lambda_2*lambda_1**3 + 13*lambda_2*lambda_1**2*mu + 17*lambda_2*lambda_1*mu**2 + 9*lambda_2*mu**3 + lambda_1**4 + 4*lambda_1**3*mu + 9*lambda_1**2*mu**2 + 8*lambda_1*mu**3 + 3*mu**4)/(mu*(lambda_2**4 + 4*lambda_2**3*lambda_1 + 4*lambda_2**3*mu + 6*lambda_2**2*lambda_1**2 + 11*lambda_2**2*lambda_1*mu + 6*lambda_2**2*mu**2 + 4*lambda_2*lambda_1**3 + 10*lambda_2*lambda_1**2*mu + 10*lambda_2*lambda_1*mu**2 + 4*lambda_2*mu**3 + lambda_1**4 + 3*lambda_1**3*mu + 6*lambda_1**2*mu**2 + 3*lambda_1*mu**3 + mu**4)), lambda_1*(lambda_2**4 + 4*lambda_2**3*lambda_1 + 5*lambda_2**3*mu + 6*lambda_2**2*lambda_1**2 + 14*lambda_2**2*lambda_1*mu + 11*lambda_2**2*mu**2 + 4*lambda_2*lambda_1**3 + 13*lambda_2*lambda_1**2*mu + 19*lambda_2*lambda_1*mu**2 + 13*lambda_2*mu**3 + lambda_1**4 + 4*lambda_1**3*mu + 10*lambda_1**2*mu**2 + 10*lambda_1*mu**3 + 6*mu**4)/(mu*(lambda_2**4 + 4*lambda_2**3*lambda_1 + 5*lambda_2**3*mu + 6*lambda_2**2*lambda_1**2 + 14*lambda_2**2*lambda_1*mu + 10*lambda_2**2*mu**2 + 4*lambda_2*lambda_1**3 + 13*lambda_2*lambda_1**2*mu + 17*lambda_2*lambda_1*mu**2 + 9*lambda_2*mu**3 + lambda_1**4 + 4*lambda_1**3*mu + 9*lambda_1**2*mu**2 + 8*lambda_1*mu**3 + 3*mu**4))]])"
      ]
     },
     "execution_count": 10,
     "metadata": {},
     "output_type": "execute_result"
    }
   ],
   "source": [
    "sym_state_recursive_ratios_right_1132"
   ]
  },
  {
   "cell_type": "code",
   "execution_count": 11,
   "metadata": {},
   "outputs": [
    {
     "data": {
      "text/latex": [
       "$\\displaystyle \\left[\\begin{matrix}1 & \\frac{\\Lambda}{\\mu} & \\frac{\\Lambda \\lambda^{o} \\left(\\lambda^{A} + \\mu\\right)}{\\mu \\left(\\left(\\lambda^{A}\\right)^{2} + \\lambda^{A} \\lambda^{o} + 2 \\lambda^{A} \\mu + \\mu^{2}\\right)} & \\frac{\\Lambda \\left(\\lambda^{o}\\right)^{2}}{\\mu \\left(\\left(\\lambda^{A}\\right)^{2} + \\lambda^{A} \\lambda^{o} + 2 \\lambda^{A} \\mu + \\mu^{2}\\right)}\\\\0 & \\frac{\\Lambda \\lambda^{A} \\left(\\left(\\lambda^{A}\\right)^{2} + 2 \\lambda^{A} \\lambda^{o} + 2 \\lambda^{A} \\mu + \\left(\\lambda^{o}\\right)^{2} + \\lambda^{o} \\mu + \\mu^{2}\\right)}{\\mu^{2} \\left(\\left(\\lambda^{A}\\right)^{2} + \\lambda^{A} \\lambda^{o} + 2 \\lambda^{A} \\mu + \\mu^{2}\\right)} & \\frac{\\Lambda \\lambda^{A} \\lambda^{o} \\left(\\left(\\lambda^{A}\\right)^{3} + 2 \\left(\\lambda^{A}\\right)^{2} \\lambda^{o} + 4 \\left(\\lambda^{A}\\right)^{2} \\mu + \\lambda^{A} \\left(\\lambda^{o}\\right)^{2} + 3 \\lambda^{A} \\lambda^{o} \\mu + 5 \\lambda^{A} \\mu^{2} + \\left(\\lambda^{o}\\right)^{2} \\mu + 2 \\lambda^{o} \\mu^{2} + 2 \\mu^{3}\\right)}{\\mu^{2} \\left(\\left(\\lambda^{A}\\right)^{2} + \\lambda^{A} \\lambda^{o} + 2 \\lambda^{A} \\mu + \\mu^{2}\\right)^{2}} & \\frac{\\Lambda \\lambda^{A} \\left(\\lambda^{o}\\right)^{2} \\left(\\left(\\lambda^{A}\\right)^{2} + 2 \\lambda^{A} \\lambda^{o} + 4 \\lambda^{A} \\mu + \\left(\\lambda^{o}\\right)^{2} + 2 \\lambda^{o} \\mu + 3 \\mu^{2}\\right)}{\\mu^{2} \\left(\\left(\\lambda^{A}\\right)^{2} + \\lambda^{A} \\lambda^{o} + 2 \\lambda^{A} \\mu + \\mu^{2}\\right)^{2}}\\\\0 & \\frac{\\Lambda \\left(\\lambda^{A}\\right)^{2} \\left(\\left(\\lambda^{A}\\right)^{4} + 4 \\left(\\lambda^{A}\\right)^{3} \\lambda^{o} + 4 \\left(\\lambda^{A}\\right)^{3} \\mu + 6 \\left(\\lambda^{A}\\right)^{2} \\left(\\lambda^{o}\\right)^{2} + 11 \\left(\\lambda^{A}\\right)^{2} \\lambda^{o} \\mu + 6 \\left(\\lambda^{A}\\right)^{2} \\mu^{2} + 4 \\lambda^{A} \\left(\\lambda^{o}\\right)^{3} + 10 \\lambda^{A} \\left(\\lambda^{o}\\right)^{2} \\mu + 10 \\lambda^{A} \\lambda^{o} \\mu^{2} + 4 \\lambda^{A} \\mu^{3} + \\left(\\lambda^{o}\\right)^{4} + 3 \\left(\\lambda^{o}\\right)^{3} \\mu + 6 \\left(\\lambda^{o}\\right)^{2} \\mu^{2} + 3 \\lambda^{o} \\mu^{3} + \\mu^{4}\\right)}{\\mu^{3} \\left(\\left(\\lambda^{A}\\right)^{2} + \\lambda^{A} \\lambda^{o} + 2 \\lambda^{A} \\mu + \\mu^{2}\\right)^{2}} & \\frac{\\Lambda \\left(\\lambda^{A}\\right)^{2} \\lambda^{o} \\left(\\left(\\lambda^{A}\\right)^{4} + 4 \\left(\\lambda^{A}\\right)^{3} \\lambda^{o} + 5 \\left(\\lambda^{A}\\right)^{3} \\mu + 6 \\left(\\lambda^{A}\\right)^{2} \\left(\\lambda^{o}\\right)^{2} + 14 \\left(\\lambda^{A}\\right)^{2} \\lambda^{o} \\mu + 10 \\left(\\lambda^{A}\\right)^{2} \\mu^{2} + 4 \\lambda^{A} \\left(\\lambda^{o}\\right)^{3} + 13 \\lambda^{A} \\left(\\lambda^{o}\\right)^{2} \\mu + 17 \\lambda^{A} \\lambda^{o} \\mu^{2} + 9 \\lambda^{A} \\mu^{3} + \\left(\\lambda^{o}\\right)^{4} + 4 \\left(\\lambda^{o}\\right)^{3} \\mu + 9 \\left(\\lambda^{o}\\right)^{2} \\mu^{2} + 8 \\lambda^{o} \\mu^{3} + 3 \\mu^{4}\\right)}{\\mu^{4} \\left(\\left(\\lambda^{A}\\right)^{2} + \\lambda^{A} \\lambda^{o} + 2 \\lambda^{A} \\mu + \\mu^{2}\\right)^{2}} & \\frac{\\Lambda \\left(\\lambda^{A}\\right)^{2} \\left(\\lambda^{o}\\right)^{2} \\left(\\left(\\lambda^{A}\\right)^{4} + 4 \\left(\\lambda^{A}\\right)^{3} \\lambda^{o} + 5 \\left(\\lambda^{A}\\right)^{3} \\mu + 6 \\left(\\lambda^{A}\\right)^{2} \\left(\\lambda^{o}\\right)^{2} + 14 \\left(\\lambda^{A}\\right)^{2} \\lambda^{o} \\mu + 11 \\left(\\lambda^{A}\\right)^{2} \\mu^{2} + 4 \\lambda^{A} \\left(\\lambda^{o}\\right)^{3} + 13 \\lambda^{A} \\left(\\lambda^{o}\\right)^{2} \\mu + 19 \\lambda^{A} \\lambda^{o} \\mu^{2} + 13 \\lambda^{A} \\mu^{3} + \\left(\\lambda^{o}\\right)^{4} + 4 \\left(\\lambda^{o}\\right)^{3} \\mu + 10 \\left(\\lambda^{o}\\right)^{2} \\mu^{2} + 10 \\lambda^{o} \\mu^{3} + 6 \\mu^{4}\\right)}{\\mu^{5} \\left(\\left(\\lambda^{A}\\right)^{2} + \\lambda^{A} \\lambda^{o} + 2 \\lambda^{A} \\mu + \\mu^{2}\\right)^{2}}\\end{matrix}\\right]$"
      ],
      "text/plain": [
       "Matrix([\n",
       "[1,                                                                                                                                                                                                                                                                                                                                                                                                                Lambda/mu,                                                                                                                                                                                                                                                                                                                                       Lambda*lambda_1*(lambda_2 + mu)/(mu*(lambda_2**2 + lambda_2*lambda_1 + 2*lambda_2*mu + mu**2)),                                                                                                                                                                                                                                                                                                                                                          Lambda*lambda_1**2/(mu*(lambda_2**2 + lambda_2*lambda_1 + 2*lambda_2*mu + mu**2))],\n",
       "[0,                                                                                                                                                                                                                                                Lambda*lambda_2*(lambda_2**2 + 2*lambda_2*lambda_1 + 2*lambda_2*mu + lambda_1**2 + lambda_1*mu + mu**2)/(mu**2*(lambda_2**2 + lambda_2*lambda_1 + 2*lambda_2*mu + mu**2)),                                                                                                                                                             Lambda*lambda_2*lambda_1*(lambda_2**3 + 2*lambda_2**2*lambda_1 + 4*lambda_2**2*mu + lambda_2*lambda_1**2 + 3*lambda_2*lambda_1*mu + 5*lambda_2*mu**2 + lambda_1**2*mu + 2*lambda_1*mu**2 + 2*mu**3)/(mu**2*(lambda_2**2 + lambda_2*lambda_1 + 2*lambda_2*mu + mu**2)**2),                                                                                                                                                                                                                                               Lambda*lambda_2*lambda_1**2*(lambda_2**2 + 2*lambda_2*lambda_1 + 4*lambda_2*mu + lambda_1**2 + 2*lambda_1*mu + 3*mu**2)/(mu**2*(lambda_2**2 + lambda_2*lambda_1 + 2*lambda_2*mu + mu**2)**2)],\n",
       "[0, Lambda*lambda_2**2*(lambda_2**4 + 4*lambda_2**3*lambda_1 + 4*lambda_2**3*mu + 6*lambda_2**2*lambda_1**2 + 11*lambda_2**2*lambda_1*mu + 6*lambda_2**2*mu**2 + 4*lambda_2*lambda_1**3 + 10*lambda_2*lambda_1**2*mu + 10*lambda_2*lambda_1*mu**2 + 4*lambda_2*mu**3 + lambda_1**4 + 3*lambda_1**3*mu + 6*lambda_1**2*mu**2 + 3*lambda_1*mu**3 + mu**4)/(mu**3*(lambda_2**2 + lambda_2*lambda_1 + 2*lambda_2*mu + mu**2)**2), Lambda*lambda_2**2*lambda_1*(lambda_2**4 + 4*lambda_2**3*lambda_1 + 5*lambda_2**3*mu + 6*lambda_2**2*lambda_1**2 + 14*lambda_2**2*lambda_1*mu + 10*lambda_2**2*mu**2 + 4*lambda_2*lambda_1**3 + 13*lambda_2*lambda_1**2*mu + 17*lambda_2*lambda_1*mu**2 + 9*lambda_2*mu**3 + lambda_1**4 + 4*lambda_1**3*mu + 9*lambda_1**2*mu**2 + 8*lambda_1*mu**3 + 3*mu**4)/(mu**4*(lambda_2**2 + lambda_2*lambda_1 + 2*lambda_2*mu + mu**2)**2), Lambda*lambda_2**2*lambda_1**2*(lambda_2**4 + 4*lambda_2**3*lambda_1 + 5*lambda_2**3*mu + 6*lambda_2**2*lambda_1**2 + 14*lambda_2**2*lambda_1*mu + 11*lambda_2**2*mu**2 + 4*lambda_2*lambda_1**3 + 13*lambda_2*lambda_1**2*mu + 19*lambda_2*lambda_1*mu**2 + 13*lambda_2*mu**3 + lambda_1**4 + 4*lambda_1**3*mu + 10*lambda_1**2*mu**2 + 10*lambda_1*mu**3 + 6*mu**4)/(mu**5*(lambda_2**2 + lambda_2*lambda_1 + 2*lambda_2*mu + mu**2)**2)]])"
      ]
     },
     "execution_count": 11,
     "metadata": {},
     "output_type": "execute_result"
    }
   ],
   "source": [
    "sym_state_recursive_ratios_P0_1132"
   ]
  },
  {
   "cell_type": "code",
   "execution_count": null,
   "metadata": {},
   "outputs": [],
   "source": []
  },
  {
   "cell_type": "code",
   "execution_count": null,
   "metadata": {},
   "outputs": [],
   "source": []
  },
  {
   "cell_type": "markdown",
   "metadata": {},
   "source": [
    "## $C=1, T=1, N=4, M=1$"
   ]
  },
  {
   "cell_type": "code",
   "execution_count": 2,
   "metadata": {},
   "outputs": [],
   "source": [
    "num_of_servers = 1\n",
    "threshold = 1\n",
    "system_capacity = 4\n",
    "buffer_capacity = 1"
   ]
  },
  {
   "cell_type": "code",
   "execution_count": 3,
   "metadata": {},
   "outputs": [
    {
     "data": {
      "text/plain": [
       "<networkx.classes.multidigraph.MultiDiGraph at 0x15ddf808910>"
      ]
     },
     "execution_count": 3,
     "metadata": {},
     "output_type": "execute_result"
    },
    {
     "data": {
      "image/png": "[encoded data removed]",
      "image/svg+xml": [
       "<?xml version=\"1.0\" encoding=\"utf-8\" standalone=\"no\"?>\r\n",
       "<!DOCTYPE svg PUBLIC \"-//W3C//DTD SVG 1.1//EN\"\r\n",
       "  \"http://www.w3.org/Graphics/SVG/1.1/DTD/svg11.dtd\">\r\n",
       "<!-- Created with matplotlib (https://matplotlib.org/) -->\r\n",
       "<svg height=\"340.56pt\" version=\"1.1\" viewBox=\"0 0 181.8 340.56\" width=\"181.8pt\" xmlns=\"http://www.w3.org/2000/svg\" xmlns:xlink=\"http://www.w3.org/1999/xlink\">\r\n",
       " <defs>\r\n",
       "  <style type=\"text/css\">\r\n",
       "*{stroke-linecap:butt;stroke-linejoin:round;}\r\n",
       "  </style>\r\n",
       " </defs>\r\n",
       " <g id=\"figure_1\">\r\n",
       "  <g id=\"patch_1\">\r\n",
       "   <path d=\"M 0 340.56 \r\n",
       "L 181.8 340.56 \r\n",
       "L 181.8 0 \r\n",
       "L 0 0 \r\n",
       "z\r\n",
       "\" style=\"fill:none;\"/>\r\n",
       "  </g>\r\n",
       "  <g id=\"axes_1\">\r\n",
       "   <g id=\"patch_2\">\r\n",
       "    <path clip-path=\"url(#p0dd7d55b50)\" d=\"M 31.984063 305.05686 \r\n",
       "Q 31.984063 275.691644 31.984063 247.444462 \r\n",
       "\" style=\"fill:none;stroke:#000000;stroke-linecap:round;\"/>\r\n",
       "    <path clip-path=\"url(#p0dd7d55b50)\" d=\"M 29.984063 251.444462 \r\n",
       "L 31.984063 247.444462 \r\n",
       "L 33.984063 251.444462 \r\n",
       "L 29.984063 251.444462 \r\n",
       "z\r\n",
       "\" style=\"stroke:#000000;stroke-linecap:round;\"/>\r\n",
       "   </g>\r\n",
       "   <g id=\"patch_3\">\r\n",
       "    <path clip-path=\"url(#p0dd7d55b50)\" d=\"M 31.984063 237.66843 \r\n",
       "Q 91.943027 237.66843 150.783958 237.66843 \r\n",
       "\" style=\"fill:none;stroke:#000000;stroke-linecap:round;\"/>\r\n",
       "    <path clip-path=\"url(#p0dd7d55b50)\" d=\"M 146.783958 235.66843 \r\n",
       "L 150.783958 237.66843 \r\n",
       "L 146.783958 239.66843 \r\n",
       "L 146.783958 235.66843 \r\n",
       "z\r\n",
       "\" style=\"stroke:#000000;stroke-linecap:round;\"/>\r\n",
       "   </g>\r\n",
       "   <g id=\"patch_4\">\r\n",
       "    <path clip-path=\"url(#p0dd7d55b50)\" d=\"M 31.984063 237.66843 \r\n",
       "Q 31.984063 208.303214 31.984063 180.056032 \r\n",
       "\" style=\"fill:none;stroke:#000000;stroke-linecap:round;\"/>\r\n",
       "    <path clip-path=\"url(#p0dd7d55b50)\" d=\"M 29.984063 184.056032 \r\n",
       "L 31.984063 180.056032 \r\n",
       "L 33.984063 184.056032 \r\n",
       "L 29.984063 184.056032 \r\n",
       "z\r\n",
       "\" style=\"stroke:#000000;stroke-linecap:round;\"/>\r\n",
       "   </g>\r\n",
       "   <g id=\"patch_5\">\r\n",
       "    <path clip-path=\"url(#p0dd7d55b50)\" d=\"M 160.562012 237.66843 \r\n",
       "Q 160.562012 208.303214 160.562012 180.056032 \r\n",
       "\" style=\"fill:none;stroke:#000000;stroke-linecap:round;\"/>\r\n",
       "    <path clip-path=\"url(#p0dd7d55b50)\" d=\"M 158.562012 184.056032 \r\n",
       "L 160.562012 180.056032 \r\n",
       "L 162.562012 184.056032 \r\n",
       "L 158.562012 184.056032 \r\n",
       "z\r\n",
       "\" style=\"stroke:#000000;stroke-linecap:round;\"/>\r\n",
       "   </g>\r\n",
       "   <g id=\"patch_6\">\r\n",
       "    <path clip-path=\"url(#p0dd7d55b50)\" d=\"M 31.984063 170.28 \r\n",
       "Q 91.943027 170.28 150.783958 170.28 \r\n",
       "\" style=\"fill:none;stroke:#000000;stroke-linecap:round;\"/>\r\n",
       "    <path clip-path=\"url(#p0dd7d55b50)\" d=\"M 146.783958 168.28 \r\n",
       "L 150.783958 170.28 \r\n",
       "L 146.783958 172.28 \r\n",
       "L 146.783958 168.28 \r\n",
       "z\r\n",
       "\" style=\"stroke:#000000;stroke-linecap:round;\"/>\r\n",
       "   </g>\r\n",
       "   <g id=\"patch_7\">\r\n",
       "    <path clip-path=\"url(#p0dd7d55b50)\" d=\"M 31.984063 170.28 \r\n",
       "Q 31.984063 140.914784 31.984063 112.667603 \r\n",
       "\" style=\"fill:none;stroke:#000000;stroke-linecap:round;\"/>\r\n",
       "    <path clip-path=\"url(#p0dd7d55b50)\" d=\"M 29.984063 116.667603 \r\n",
       "L 31.984063 112.667603 \r\n",
       "L 33.984063 116.667603 \r\n",
       "L 29.984063 116.667603 \r\n",
       "z\r\n",
       "\" style=\"stroke:#000000;stroke-linecap:round;\"/>\r\n",
       "   </g>\r\n",
       "   <g id=\"patch_8\">\r\n",
       "    <path clip-path=\"url(#p0dd7d55b50)\" d=\"M 160.562012 170.28 \r\n",
       "Q 160.562012 140.914784 160.562012 112.667603 \r\n",
       "\" style=\"fill:none;stroke:#000000;stroke-linecap:round;\"/>\r\n",
       "    <path clip-path=\"url(#p0dd7d55b50)\" d=\"M 158.562012 116.667603 \r\n",
       "L 160.562012 112.667603 \r\n",
       "L 162.562012 116.667603 \r\n",
       "L 158.562012 116.667603 \r\n",
       "z\r\n",
       "\" style=\"stroke:#000000;stroke-linecap:round;\"/>\r\n",
       "   </g>\r\n",
       "   <g id=\"patch_9\">\r\n",
       "    <path clip-path=\"url(#p0dd7d55b50)\" d=\"M 31.984063 102.89157 \r\n",
       "Q 91.943027 102.89157 150.783958 102.89157 \r\n",
       "\" style=\"fill:none;stroke:#000000;stroke-linecap:round;\"/>\r\n",
       "    <path clip-path=\"url(#p0dd7d55b50)\" d=\"M 146.783958 100.89157 \r\n",
       "L 150.783958 102.89157 \r\n",
       "L 146.783958 104.89157 \r\n",
       "L 146.783958 100.89157 \r\n",
       "z\r\n",
       "\" style=\"stroke:#000000;stroke-linecap:round;\"/>\r\n",
       "   </g>\r\n",
       "   <g id=\"patch_10\">\r\n",
       "    <path clip-path=\"url(#p0dd7d55b50)\" d=\"M 31.984063 102.89157 \r\n",
       "Q 31.984063 73.526355 31.984063 45.279173 \r\n",
       "\" style=\"fill:none;stroke:#000000;stroke-linecap:round;\"/>\r\n",
       "    <path clip-path=\"url(#p0dd7d55b50)\" d=\"M 29.984063 49.279173 \r\n",
       "L 31.984063 45.279173 \r\n",
       "L 33.984063 49.279173 \r\n",
       "L 29.984063 49.279173 \r\n",
       "z\r\n",
       "\" style=\"stroke:#000000;stroke-linecap:round;\"/>\r\n",
       "   </g>\r\n",
       "   <g id=\"patch_11\">\r\n",
       "    <path clip-path=\"url(#p0dd7d55b50)\" d=\"M 160.562012 102.89157 \r\n",
       "Q 160.562012 73.526355 160.562012 45.279173 \r\n",
       "\" style=\"fill:none;stroke:#000000;stroke-linecap:round;\"/>\r\n",
       "    <path clip-path=\"url(#p0dd7d55b50)\" d=\"M 158.562012 49.279173 \r\n",
       "L 160.562012 45.279173 \r\n",
       "L 162.562012 49.279173 \r\n",
       "L 158.562012 49.279173 \r\n",
       "z\r\n",
       "\" style=\"stroke:#000000;stroke-linecap:round;\"/>\r\n",
       "   </g>\r\n",
       "   <g id=\"patch_12\">\r\n",
       "    <path clip-path=\"url(#p0dd7d55b50)\" d=\"M 31.984063 35.50314 \r\n",
       "Q 91.943027 35.50314 150.783958 35.50314 \r\n",
       "\" style=\"fill:none;stroke:#000000;stroke-linecap:round;\"/>\r\n",
       "    <path clip-path=\"url(#p0dd7d55b50)\" d=\"M 146.783958 33.50314 \r\n",
       "L 150.783958 35.50314 \r\n",
       "L 146.783958 37.50314 \r\n",
       "L 146.783958 33.50314 \r\n",
       "z\r\n",
       "\" style=\"stroke:#000000;stroke-linecap:round;\"/>\r\n",
       "   </g>\r\n",
       "   <g id=\"PathCollection_1\">\r\n",
       "    <defs>\r\n",
       "     <path d=\"M 0 22.36068 \r\n",
       "C 5.930122 22.36068 11.618159 20.004617 15.811388 15.811388 \r\n",
       "C 20.004617 11.618159 22.36068 5.930122 22.36068 0 \r\n",
       "C 22.36068 -5.930122 20.004617 -11.618159 15.811388 -15.811388 \r\n",
       "C 11.618159 -20.004617 5.930122 -22.36068 0 -22.36068 \r\n",
       "C -5.930122 -22.36068 -11.618159 -20.004617 -15.811388 -15.811388 \r\n",
       "C -20.004617 -11.618159 -22.36068 -5.930122 -22.36068 0 \r\n",
       "C -22.36068 5.930122 -20.004617 11.618159 -15.811388 15.811388 \r\n",
       "C -11.618159 20.004617 -5.930122 22.36068 0 22.36068 \r\n",
       "z\r\n",
       "\" id=\"md80dfb4049\" style=\"stroke:#1f78b4;\"/>\r\n",
       "    </defs>\r\n",
       "    <g clip-path=\"url(#p0dd7d55b50)\">\r\n",
       "     <use style=\"fill:#1f78b4;stroke:#1f78b4;\" x=\"31.984063\" xlink:href=\"#md80dfb4049\" y=\"305.05686\"/>\r\n",
       "    </g>\r\n",
       "   </g>\r\n",
       "   <g id=\"PathCollection_2\">\r\n",
       "    <defs>\r\n",
       "     <path d=\"M 0 22.36068 \r\n",
       "C 5.930122 22.36068 11.618159 20.004617 15.811388 15.811388 \r\n",
       "C 20.004617 11.618159 22.36068 5.930122 22.36068 0 \r\n",
       "C 22.36068 -5.930122 20.004617 -11.618159 15.811388 -15.811388 \r\n",
       "C 11.618159 -20.004617 5.930122 -22.36068 0 -22.36068 \r\n",
       "C -5.930122 -22.36068 -11.618159 -20.004617 -15.811388 -15.811388 \r\n",
       "C -20.004617 -11.618159 -22.36068 -5.930122 -22.36068 0 \r\n",
       "C -22.36068 5.930122 -20.004617 11.618159 -15.811388 15.811388 \r\n",
       "C -11.618159 20.004617 -5.930122 22.36068 0 22.36068 \r\n",
       "z\r\n",
       "\" id=\"m4d88318f10\" style=\"stroke:#ff0000;\"/>\r\n",
       "    </defs>\r\n",
       "    <g clip-path=\"url(#p0dd7d55b50)\">\r\n",
       "     <use style=\"fill:#ff0000;stroke:#ff0000;\" x=\"31.984063\" xlink:href=\"#m4d88318f10\" y=\"237.66843\"/>\r\n",
       "     <use style=\"fill:#ff0000;stroke:#ff0000;\" x=\"160.562012\" xlink:href=\"#m4d88318f10\" y=\"237.66843\"/>\r\n",
       "     <use style=\"fill:#ff0000;stroke:#ff0000;\" x=\"31.984063\" xlink:href=\"#m4d88318f10\" y=\"170.28\"/>\r\n",
       "     <use style=\"fill:#ff0000;stroke:#ff0000;\" x=\"160.562012\" xlink:href=\"#m4d88318f10\" y=\"170.28\"/>\r\n",
       "     <use style=\"fill:#ff0000;stroke:#ff0000;\" x=\"31.984063\" xlink:href=\"#m4d88318f10\" y=\"102.89157\"/>\r\n",
       "     <use style=\"fill:#ff0000;stroke:#ff0000;\" x=\"160.562012\" xlink:href=\"#m4d88318f10\" y=\"102.89157\"/>\r\n",
       "     <use style=\"fill:#ff0000;stroke:#ff0000;\" x=\"31.984063\" xlink:href=\"#m4d88318f10\" y=\"35.50314\"/>\r\n",
       "     <use style=\"fill:#ff0000;stroke:#ff0000;\" x=\"160.562012\" xlink:href=\"#m4d88318f10\" y=\"35.50314\"/>\r\n",
       "    </g>\r\n",
       "   </g>\r\n",
       "   <g id=\"text_1\">\r\n",
       "    <g clip-path=\"url(#p0dd7d55b50)\">\r\n",
       "     <!-- (0, 0) -->\r\n",
       "     <defs>\r\n",
       "      <path d=\"M 31 75.875 \r\n",
       "Q 24.46875 64.65625 21.28125 53.65625 \r\n",
       "Q 18.109375 42.671875 18.109375 31.390625 \r\n",
       "Q 18.109375 20.125 21.3125 9.0625 \r\n",
       "Q 24.515625 -2 31 -13.1875 \r\n",
       "L 23.1875 -13.1875 \r\n",
       "Q 15.875 -1.703125 12.234375 9.375 \r\n",
       "Q 8.59375 20.453125 8.59375 31.390625 \r\n",
       "Q 8.59375 42.28125 12.203125 53.3125 \r\n",
       "Q 15.828125 64.359375 23.1875 75.875 \r\n",
       "z\r\n",
       "\" id=\"DejaVuSans-40\"/>\r\n",
       "      <path d=\"M 31.78125 66.40625 \r\n",
       "Q 24.171875 66.40625 20.328125 58.90625 \r\n",
       "Q 16.5 51.421875 16.5 36.375 \r\n",
       "Q 16.5 21.390625 20.328125 13.890625 \r\n",
       "Q 24.171875 6.390625 31.78125 6.390625 \r\n",
       "Q 39.453125 6.390625 43.28125 13.890625 \r\n",
       "Q 47.125 21.390625 47.125 36.375 \r\n",
       "Q 47.125 51.421875 43.28125 58.90625 \r\n",
       "Q 39.453125 66.40625 31.78125 66.40625 \r\n",
       "z\r\n",
       "M 31.78125 74.21875 \r\n",
       "Q 44.046875 74.21875 50.515625 64.515625 \r\n",
       "Q 56.984375 54.828125 56.984375 36.375 \r\n",
       "Q 56.984375 17.96875 50.515625 8.265625 \r\n",
       "Q 44.046875 -1.421875 31.78125 -1.421875 \r\n",
       "Q 19.53125 -1.421875 13.0625 8.265625 \r\n",
       "Q 6.59375 17.96875 6.59375 36.375 \r\n",
       "Q 6.59375 54.828125 13.0625 64.515625 \r\n",
       "Q 19.53125 74.21875 31.78125 74.21875 \r\n",
       "z\r\n",
       "\" id=\"DejaVuSans-48\"/>\r\n",
       "      <path d=\"M 11.71875 12.40625 \r\n",
       "L 22.015625 12.40625 \r\n",
       "L 22.015625 4 \r\n",
       "L 14.015625 -11.625 \r\n",
       "L 7.71875 -11.625 \r\n",
       "L 11.71875 4 \r\n",
       "z\r\n",
       "\" id=\"DejaVuSans-44\"/>\r\n",
       "      <path id=\"DejaVuSans-32\"/>\r\n",
       "      <path d=\"M 8.015625 75.875 \r\n",
       "L 15.828125 75.875 \r\n",
       "Q 23.140625 64.359375 26.78125 53.3125 \r\n",
       "Q 30.421875 42.28125 30.421875 31.390625 \r\n",
       "Q 30.421875 20.453125 26.78125 9.375 \r\n",
       "Q 23.140625 -1.703125 15.828125 -13.1875 \r\n",
       "L 8.015625 -13.1875 \r\n",
       "Q 14.5 -2 17.703125 9.0625 \r\n",
       "Q 20.90625 20.125 20.90625 31.390625 \r\n",
       "Q 20.90625 42.671875 17.703125 53.65625 \r\n",
       "Q 14.5 64.65625 8.015625 75.875 \r\n",
       "z\r\n",
       "\" id=\"DejaVuSans-41\"/>\r\n",
       "     </defs>\r\n",
       "     <g transform=\"translate(15.853438 308.36811)scale(0.12 -0.12)\">\r\n",
       "      <use xlink:href=\"#DejaVuSans-40\"/>\r\n",
       "      <use x=\"39.013672\" xlink:href=\"#DejaVuSans-48\"/>\r\n",
       "      <use x=\"102.636719\" xlink:href=\"#DejaVuSans-44\"/>\r\n",
       "      <use x=\"134.423828\" xlink:href=\"#DejaVuSans-32\"/>\r\n",
       "      <use x=\"166.210938\" xlink:href=\"#DejaVuSans-48\"/>\r\n",
       "      <use x=\"229.833984\" xlink:href=\"#DejaVuSans-41\"/>\r\n",
       "     </g>\r\n",
       "    </g>\r\n",
       "   </g>\r\n",
       "   <g id=\"text_2\">\r\n",
       "    <g clip-path=\"url(#p0dd7d55b50)\">\r\n",
       "     <!-- (0, 1) -->\r\n",
       "     <defs>\r\n",
       "      <path d=\"M 12.40625 8.296875 \r\n",
       "L 28.515625 8.296875 \r\n",
       "L 28.515625 63.921875 \r\n",
       "L 10.984375 60.40625 \r\n",
       "L 10.984375 69.390625 \r\n",
       "L 28.421875 72.90625 \r\n",
       "L 38.28125 72.90625 \r\n",
       "L 38.28125 8.296875 \r\n",
       "L 54.390625 8.296875 \r\n",
       "L 54.390625 0 \r\n",
       "L 12.40625 0 \r\n",
       "z\r\n",
       "\" id=\"DejaVuSans-49\"/>\r\n",
       "     </defs>\r\n",
       "     <g transform=\"translate(15.853438 240.97968)scale(0.12 -0.12)\">\r\n",
       "      <use xlink:href=\"#DejaVuSans-40\"/>\r\n",
       "      <use x=\"39.013672\" xlink:href=\"#DejaVuSans-48\"/>\r\n",
       "      <use x=\"102.636719\" xlink:href=\"#DejaVuSans-44\"/>\r\n",
       "      <use x=\"134.423828\" xlink:href=\"#DejaVuSans-32\"/>\r\n",
       "      <use x=\"166.210938\" xlink:href=\"#DejaVuSans-49\"/>\r\n",
       "      <use x=\"229.833984\" xlink:href=\"#DejaVuSans-41\"/>\r\n",
       "     </g>\r\n",
       "    </g>\r\n",
       "   </g>\r\n",
       "   <g id=\"text_3\">\r\n",
       "    <g clip-path=\"url(#p0dd7d55b50)\">\r\n",
       "     <!-- (1, 1) -->\r\n",
       "     <g transform=\"translate(144.431387 240.97968)scale(0.12 -0.12)\">\r\n",
       "      <use xlink:href=\"#DejaVuSans-40\"/>\r\n",
       "      <use x=\"39.013672\" xlink:href=\"#DejaVuSans-49\"/>\r\n",
       "      <use x=\"102.636719\" xlink:href=\"#DejaVuSans-44\"/>\r\n",
       "      <use x=\"134.423828\" xlink:href=\"#DejaVuSans-32\"/>\r\n",
       "      <use x=\"166.210938\" xlink:href=\"#DejaVuSans-49\"/>\r\n",
       "      <use x=\"229.833984\" xlink:href=\"#DejaVuSans-41\"/>\r\n",
       "     </g>\r\n",
       "    </g>\r\n",
       "   </g>\r\n",
       "   <g id=\"text_4\">\r\n",
       "    <g clip-path=\"url(#p0dd7d55b50)\">\r\n",
       "     <!-- (0, 2) -->\r\n",
       "     <defs>\r\n",
       "      <path d=\"M 19.1875 8.296875 \r\n",
       "L 53.609375 8.296875 \r\n",
       "L 53.609375 0 \r\n",
       "L 7.328125 0 \r\n",
       "L 7.328125 8.296875 \r\n",
       "Q 12.9375 14.109375 22.625 23.890625 \r\n",
       "Q 32.328125 33.6875 34.8125 36.53125 \r\n",
       "Q 39.546875 41.84375 41.421875 45.53125 \r\n",
       "Q 43.3125 49.21875 43.3125 52.78125 \r\n",
       "Q 43.3125 58.59375 39.234375 62.25 \r\n",
       "Q 35.15625 65.921875 28.609375 65.921875 \r\n",
       "Q 23.96875 65.921875 18.8125 64.3125 \r\n",
       "Q 13.671875 62.703125 7.8125 59.421875 \r\n",
       "L 7.8125 69.390625 \r\n",
       "Q 13.765625 71.78125 18.9375 73 \r\n",
       "Q 24.125 74.21875 28.421875 74.21875 \r\n",
       "Q 39.75 74.21875 46.484375 68.546875 \r\n",
       "Q 53.21875 62.890625 53.21875 53.421875 \r\n",
       "Q 53.21875 48.921875 51.53125 44.890625 \r\n",
       "Q 49.859375 40.875 45.40625 35.40625 \r\n",
       "Q 44.1875 33.984375 37.640625 27.21875 \r\n",
       "Q 31.109375 20.453125 19.1875 8.296875 \r\n",
       "z\r\n",
       "\" id=\"DejaVuSans-50\"/>\r\n",
       "     </defs>\r\n",
       "     <g transform=\"translate(15.853438 173.59125)scale(0.12 -0.12)\">\r\n",
       "      <use xlink:href=\"#DejaVuSans-40\"/>\r\n",
       "      <use x=\"39.013672\" xlink:href=\"#DejaVuSans-48\"/>\r\n",
       "      <use x=\"102.636719\" xlink:href=\"#DejaVuSans-44\"/>\r\n",
       "      <use x=\"134.423828\" xlink:href=\"#DejaVuSans-32\"/>\r\n",
       "      <use x=\"166.210938\" xlink:href=\"#DejaVuSans-50\"/>\r\n",
       "      <use x=\"229.833984\" xlink:href=\"#DejaVuSans-41\"/>\r\n",
       "     </g>\r\n",
       "    </g>\r\n",
       "   </g>\r\n",
       "   <g id=\"text_5\">\r\n",
       "    <g clip-path=\"url(#p0dd7d55b50)\">\r\n",
       "     <!-- (1, 2) -->\r\n",
       "     <g transform=\"translate(144.431387 173.59125)scale(0.12 -0.12)\">\r\n",
       "      <use xlink:href=\"#DejaVuSans-40\"/>\r\n",
       "      <use x=\"39.013672\" xlink:href=\"#DejaVuSans-49\"/>\r\n",
       "      <use x=\"102.636719\" xlink:href=\"#DejaVuSans-44\"/>\r\n",
       "      <use x=\"134.423828\" xlink:href=\"#DejaVuSans-32\"/>\r\n",
       "      <use x=\"166.210938\" xlink:href=\"#DejaVuSans-50\"/>\r\n",
       "      <use x=\"229.833984\" xlink:href=\"#DejaVuSans-41\"/>\r\n",
       "     </g>\r\n",
       "    </g>\r\n",
       "   </g>\r\n",
       "   <g id=\"text_6\">\r\n",
       "    <g clip-path=\"url(#p0dd7d55b50)\">\r\n",
       "     <!-- (0, 3) -->\r\n",
       "     <defs>\r\n",
       "      <path d=\"M 40.578125 39.3125 \r\n",
       "Q 47.65625 37.796875 51.625 33 \r\n",
       "Q 55.609375 28.21875 55.609375 21.1875 \r\n",
       "Q 55.609375 10.40625 48.1875 4.484375 \r\n",
       "Q 40.765625 -1.421875 27.09375 -1.421875 \r\n",
       "Q 22.515625 -1.421875 17.65625 -0.515625 \r\n",
       "Q 12.796875 0.390625 7.625 2.203125 \r\n",
       "L 7.625 11.71875 \r\n",
       "Q 11.71875 9.328125 16.59375 8.109375 \r\n",
       "Q 21.484375 6.890625 26.8125 6.890625 \r\n",
       "Q 36.078125 6.890625 40.9375 10.546875 \r\n",
       "Q 45.796875 14.203125 45.796875 21.1875 \r\n",
       "Q 45.796875 27.640625 41.28125 31.265625 \r\n",
       "Q 36.765625 34.90625 28.71875 34.90625 \r\n",
       "L 20.21875 34.90625 \r\n",
       "L 20.21875 43.015625 \r\n",
       "L 29.109375 43.015625 \r\n",
       "Q 36.375 43.015625 40.234375 45.921875 \r\n",
       "Q 44.09375 48.828125 44.09375 54.296875 \r\n",
       "Q 44.09375 59.90625 40.109375 62.90625 \r\n",
       "Q 36.140625 65.921875 28.71875 65.921875 \r\n",
       "Q 24.65625 65.921875 20.015625 65.03125 \r\n",
       "Q 15.375 64.15625 9.8125 62.3125 \r\n",
       "L 9.8125 71.09375 \r\n",
       "Q 15.4375 72.65625 20.34375 73.4375 \r\n",
       "Q 25.25 74.21875 29.59375 74.21875 \r\n",
       "Q 40.828125 74.21875 47.359375 69.109375 \r\n",
       "Q 53.90625 64.015625 53.90625 55.328125 \r\n",
       "Q 53.90625 49.265625 50.4375 45.09375 \r\n",
       "Q 46.96875 40.921875 40.578125 39.3125 \r\n",
       "z\r\n",
       "\" id=\"DejaVuSans-51\"/>\r\n",
       "     </defs>\r\n",
       "     <g transform=\"translate(15.853438 106.20282)scale(0.12 -0.12)\">\r\n",
       "      <use xlink:href=\"#DejaVuSans-40\"/>\r\n",
       "      <use x=\"39.013672\" xlink:href=\"#DejaVuSans-48\"/>\r\n",
       "      <use x=\"102.636719\" xlink:href=\"#DejaVuSans-44\"/>\r\n",
       "      <use x=\"134.423828\" xlink:href=\"#DejaVuSans-32\"/>\r\n",
       "      <use x=\"166.210938\" xlink:href=\"#DejaVuSans-51\"/>\r\n",
       "      <use x=\"229.833984\" xlink:href=\"#DejaVuSans-41\"/>\r\n",
       "     </g>\r\n",
       "    </g>\r\n",
       "   </g>\r\n",
       "   <g id=\"text_7\">\r\n",
       "    <g clip-path=\"url(#p0dd7d55b50)\">\r\n",
       "     <!-- (1, 3) -->\r\n",
       "     <g transform=\"translate(144.431387 106.20282)scale(0.12 -0.12)\">\r\n",
       "      <use xlink:href=\"#DejaVuSans-40\"/>\r\n",
       "      <use x=\"39.013672\" xlink:href=\"#DejaVuSans-49\"/>\r\n",
       "      <use x=\"102.636719\" xlink:href=\"#DejaVuSans-44\"/>\r\n",
       "      <use x=\"134.423828\" xlink:href=\"#DejaVuSans-32\"/>\r\n",
       "      <use x=\"166.210938\" xlink:href=\"#DejaVuSans-51\"/>\r\n",
       "      <use x=\"229.833984\" xlink:href=\"#DejaVuSans-41\"/>\r\n",
       "     </g>\r\n",
       "    </g>\r\n",
       "   </g>\r\n",
       "   <g id=\"text_8\">\r\n",
       "    <g clip-path=\"url(#p0dd7d55b50)\">\r\n",
       "     <!-- (0, 4) -->\r\n",
       "     <defs>\r\n",
       "      <path d=\"M 37.796875 64.3125 \r\n",
       "L 12.890625 25.390625 \r\n",
       "L 37.796875 25.390625 \r\n",
       "z\r\n",
       "M 35.203125 72.90625 \r\n",
       "L 47.609375 72.90625 \r\n",
       "L 47.609375 25.390625 \r\n",
       "L 58.015625 25.390625 \r\n",
       "L 58.015625 17.1875 \r\n",
       "L 47.609375 17.1875 \r\n",
       "L 47.609375 0 \r\n",
       "L 37.796875 0 \r\n",
       "L 37.796875 17.1875 \r\n",
       "L 4.890625 17.1875 \r\n",
       "L 4.890625 26.703125 \r\n",
       "z\r\n",
       "\" id=\"DejaVuSans-52\"/>\r\n",
       "     </defs>\r\n",
       "     <g transform=\"translate(15.853438 38.81439)scale(0.12 -0.12)\">\r\n",
       "      <use xlink:href=\"#DejaVuSans-40\"/>\r\n",
       "      <use x=\"39.013672\" xlink:href=\"#DejaVuSans-48\"/>\r\n",
       "      <use x=\"102.636719\" xlink:href=\"#DejaVuSans-44\"/>\r\n",
       "      <use x=\"134.423828\" xlink:href=\"#DejaVuSans-32\"/>\r\n",
       "      <use x=\"166.210938\" xlink:href=\"#DejaVuSans-52\"/>\r\n",
       "      <use x=\"229.833984\" xlink:href=\"#DejaVuSans-41\"/>\r\n",
       "     </g>\r\n",
       "    </g>\r\n",
       "   </g>\r\n",
       "   <g id=\"text_9\">\r\n",
       "    <g clip-path=\"url(#p0dd7d55b50)\">\r\n",
       "     <!-- (1, 4) -->\r\n",
       "     <g transform=\"translate(144.431387 38.81439)scale(0.12 -0.12)\">\r\n",
       "      <use xlink:href=\"#DejaVuSans-40\"/>\r\n",
       "      <use x=\"39.013672\" xlink:href=\"#DejaVuSans-49\"/>\r\n",
       "      <use x=\"102.636719\" xlink:href=\"#DejaVuSans-44\"/>\r\n",
       "      <use x=\"134.423828\" xlink:href=\"#DejaVuSans-32\"/>\r\n",
       "      <use x=\"166.210938\" xlink:href=\"#DejaVuSans-52\"/>\r\n",
       "      <use x=\"229.833984\" xlink:href=\"#DejaVuSans-41\"/>\r\n",
       "     </g>\r\n",
       "    </g>\r\n",
       "   </g>\r\n",
       "  </g>\r\n",
       " </g>\r\n",
       " <defs>\r\n",
       "  <clipPath id=\"p0dd7d55b50\">\r\n",
       "   <rect height=\"326.16\" width=\"167.4\" x=\"7.2\" y=\"7.2\"/>\r\n",
       "  </clipPath>\r\n",
       " </defs>\r\n",
       "</svg>\r\n"
      ],
      "text/plain": [
       "<Figure size 216x432 with 1 Axes>"
      ]
     },
     "metadata": {},
     "output_type": "display_data"
    }
   ],
   "source": [
    "abg.markov.visualise_ambulance_markov_chain(num_of_servers=1, threshold=1, system_capacity=4, buffer_capacity=1)"
   ]
  },
  {
   "cell_type": "code",
   "execution_count": 4,
   "metadata": {},
   "outputs": [],
   "source": [
    "all_states_1141 = abg.markov.build_states(threshold=threshold, system_capacity=system_capacity, buffer_capacity=buffer_capacity)\n",
    "Q_sym_1141 = abg.markov.get_symbolic_transition_matrix(num_of_servers, threshold, system_capacity, buffer_capacity)\n",
    "\n",
    "p00, p01, p11, p02, p12, p03, p13, p04, p14 = sym.symbols('p00, p01, p11, p02, p12, p03, p13, p04, p14')\n",
    "pi_1141 = sym.Matrix([p00, p01, p11, p02, p12, p03, p13, p04, p14])\n",
    "dimension_1141 = Q_sym_1141.shape[0]\n",
    "\n",
    "M_sym_1141 = sym.Matrix([Q_sym_1141.transpose()[:-1,:], sym.ones(1,dimension_1141)])\n",
    "sym_diff_equations_1141 = (M_sym_1141 @ pi_1141)\n",
    "\n",
    "b_sym_1141 = sym.Matrix([sym.zeros(dimension_1141 - 1, 1), [1]])"
   ]
  },
  {
   "cell_type": "code",
   "execution_count": 22,
   "metadata": {},
   "outputs": [],
   "source": [
    "eq0_1141 = sym.Eq(sym_diff_equations_1141[0],b_sym_1141[0])\n",
    "eq1_1141 = sym.Eq(sym_diff_equations_1141[1],b_sym_1141[1])\n",
    "eq2_1141 = sym.Eq(sym_diff_equations_1141[2],b_sym_1141[2])\n",
    "eq3_1141 = sym.Eq(sym_diff_equations_1141[3],b_sym_1141[3])\n",
    "eq4_1141 = sym.Eq(sym_diff_equations_1141[4],b_sym_1141[4])\n",
    "eq5_1141 = sym.Eq(sym_diff_equations_1141[5],b_sym_1141[5])\n",
    "eq6_1141 = sym.Eq(sym_diff_equations_1141[6],b_sym_1141[6])\n",
    "eq7_1141 = sym.Eq(sym_diff_equations_1141[7],b_sym_1141[7])\n",
    "eq8_1141 = sym.Eq(sym_diff_equations_1141[8],b_sym_1141[8])"
   ]
  },
  {
   "cell_type": "code",
   "execution_count": 23,
   "metadata": {},
   "outputs": [],
   "source": [
    "sym_state_probs_1141 = sym.solve([eq0_1141,eq1_1141,eq2_1141,eq3_1141,eq4_1141,eq5_1141,eq6_1141,eq7_1141,eq8_1141],(p00, p01, p11, p02, p12, p03, p13, p04, p14))"
   ]
  },
  {
   "cell_type": "code",
   "execution_count": 29,
   "metadata": {},
   "outputs": [],
   "source": [
    "sym_state_recursive_ratios_1141 = sym.zeros(buffer_capacity + 1, system_capacity + 1)\n",
    "sym_state_recursive_ratios_1141[0,0] = 1\n",
    "sym_state_recursive_ratios_1141[0,1] = sym.factor(sym_state_probs_1141[p01] / sym_state_probs_1141[p00])  # (0,0) -> (0,1) \n",
    "sym_state_recursive_ratios_1141[1,1] = sym.factor(sym_state_probs_1141[p11] / sym_state_probs_1141[p01])  # (0,1) -> (1,1)\n",
    "sym_state_recursive_ratios_1141[0,2] = sym.factor(sym_state_probs_1141[p02] / sym_state_probs_1141[p01])  # (0,1) -> (0,2)\n",
    "sym_state_recursive_ratios_1141[1,2] = sym.factor(sym_state_probs_1141[p12] / sym_state_probs_1141[p02])  # (0,2) -> (1,2)\n",
    "sym_state_recursive_ratios_1141[0,3] = sym.factor(sym_state_probs_1141[p03] / sym_state_probs_1141[p02])  # (0,2) -> (0,3)\n",
    "sym_state_recursive_ratios_1141[1,3] = sym.factor(sym_state_probs_1141[p13] / sym_state_probs_1141[p03])  # (0,3) -> (1,3)\n",
    "sym_state_recursive_ratios_1141[0,4] = sym.factor(sym_state_probs_1141[p04] / sym_state_probs_1141[p03])  # (0,3) -> (0,4)\n",
    "sym_state_recursive_ratios_1141[1,4] = sym.factor(sym_state_probs_1141[p14] / sym_state_probs_1141[p04])  # (0,4) -> (1,4)\n",
    "\n",
    "sym_state_recursive_ratios_right_1141 = sym_state_recursive_ratios_1141.copy()\n",
    "sym_state_recursive_ratios_right_1141[1,2] = sym.factor(sym_state_probs_1141[p12] / sym_state_probs_1141[p11])  # (1,1) -> (1,2)\n",
    "sym_state_recursive_ratios_right_1141[1,3] = sym.factor(sym_state_probs_1141[p13] / sym_state_probs_1141[p12])  # (1,2) -> (1,3)\n",
    "sym_state_recursive_ratios_right_1141[1,4] = sym.factor(sym_state_probs_1141[p14] / sym_state_probs_1141[p13])  # (1,3) -> (1,4)\n",
    "\n",
    "sym_state_recursive_ratios_P0_1141 = sym.zeros(buffer_capacity + 1, system_capacity + 1)\n",
    "sym_state_recursive_ratios_P0_1141[0,0] = 1\n",
    "sym_state_recursive_ratios_P0_1141[0,1] = sym.factor(sym_state_probs_1141[p01] / sym_state_probs_1141[p00])  # (0,0) -> (0,1) \n",
    "sym_state_recursive_ratios_P0_1141[1,1] = sym.factor(sym_state_probs_1141[p11] / sym_state_probs_1141[p00])  # (0,0) -> (1,1)\n",
    "sym_state_recursive_ratios_P0_1141[0,2] = sym.factor(sym_state_probs_1141[p02] / sym_state_probs_1141[p00])  # (0,0) -> (0,2)\n",
    "sym_state_recursive_ratios_P0_1141[1,2] = sym.factor(sym_state_probs_1141[p12] / sym_state_probs_1141[p00])  # (0,0) -> (1,2)\n",
    "sym_state_recursive_ratios_P0_1141[0,3] = sym.factor(sym_state_probs_1141[p03] / sym_state_probs_1141[p00])  # (0,0) -> (0,3)\n",
    "sym_state_recursive_ratios_P0_1141[1,3] = sym.factor(sym_state_probs_1141[p13] / sym_state_probs_1141[p00])  # (0,0) -> (1,3)\n",
    "sym_state_recursive_ratios_P0_1141[0,4] = sym.factor(sym_state_probs_1141[p04] / sym_state_probs_1141[p00])  # (0,0) -> (0,4)\n",
    "sym_state_recursive_ratios_P0_1141[1,4] = sym.factor(sym_state_probs_1141[p14] / sym_state_probs_1141[p00])  # (0,0) -> (1,4)\n"
   ]
  },
  {
   "cell_type": "code",
   "execution_count": 30,
   "metadata": {},
   "outputs": [
    {
     "data": {
      "text/latex": [
       "$\\displaystyle \\left[\\begin{matrix}1 & \\frac{\\Lambda}{\\mu} & \\frac{\\lambda^{o} \\left(\\left(\\lambda^{A}\\right)^{2} + \\lambda^{A} \\lambda^{o} + 2 \\lambda^{A} \\mu + \\mu^{2}\\right)}{\\left(\\lambda^{A}\\right)^{3} + 2 \\left(\\lambda^{A}\\right)^{2} \\lambda^{o} + 3 \\left(\\lambda^{A}\\right)^{2} \\mu + \\lambda^{A} \\left(\\lambda^{o}\\right)^{2} + 2 \\lambda^{A} \\lambda^{o} \\mu + 3 \\lambda^{A} \\mu^{2} + \\mu^{3}} & \\frac{\\lambda^{o} \\left(\\lambda^{A} + \\mu\\right)}{\\left(\\lambda^{A}\\right)^{2} + \\lambda^{A} \\lambda^{o} + 2 \\lambda^{A} \\mu + \\mu^{2}} & \\frac{\\lambda^{o}}{\\lambda^{A} + \\mu}\\\\0 & \\frac{\\lambda^{A} \\left(\\lambda^{A} + \\lambda^{o} + \\mu\\right) \\left(\\left(\\lambda^{A}\\right)^{2} + 2 \\lambda^{A} \\lambda^{o} + 2 \\lambda^{A} \\mu + \\left(\\lambda^{o}\\right)^{2} + \\mu^{2}\\right)}{\\mu \\left(\\left(\\lambda^{A}\\right)^{3} + 2 \\left(\\lambda^{A}\\right)^{2} \\lambda^{o} + 3 \\left(\\lambda^{A}\\right)^{2} \\mu + \\lambda^{A} \\left(\\lambda^{o}\\right)^{2} + 2 \\lambda^{A} \\lambda^{o} \\mu + 3 \\lambda^{A} \\mu^{2} + \\mu^{3}\\right)} & \\frac{\\lambda^{A} \\left(\\left(\\lambda^{A}\\right)^{3} + 3 \\left(\\lambda^{A}\\right)^{2} \\lambda^{o} + 4 \\left(\\lambda^{A}\\right)^{2} \\mu + 3 \\lambda^{A} \\left(\\lambda^{o}\\right)^{2} + 6 \\lambda^{A} \\lambda^{o} \\mu + 5 \\lambda^{A} \\mu^{2} + \\left(\\lambda^{o}\\right)^{3} + 2 \\left(\\lambda^{o}\\right)^{2} \\mu + 2 \\lambda^{o} \\mu^{2} + 2 \\mu^{3}\\right)}{\\mu^{2} \\left(\\left(\\lambda^{A}\\right)^{2} + \\lambda^{A} \\lambda^{o} + 2 \\lambda^{A} \\mu + \\mu^{2}\\right)} & \\frac{\\lambda^{A} \\left(\\left(\\lambda^{A}\\right)^{3} + 3 \\left(\\lambda^{A}\\right)^{2} \\lambda^{o} + 4 \\left(\\lambda^{A}\\right)^{2} \\mu + 3 \\lambda^{A} \\left(\\lambda^{o}\\right)^{2} + 6 \\lambda^{A} \\lambda^{o} \\mu + 6 \\lambda^{A} \\mu^{2} + \\left(\\lambda^{o}\\right)^{3} + 2 \\left(\\lambda^{o}\\right)^{2} \\mu + 3 \\lambda^{o} \\mu^{2} + 3 \\mu^{3}\\right)}{\\mu^{3} \\left(\\lambda^{A} + \\mu\\right)} & \\frac{\\lambda^{A} \\left(\\left(\\lambda^{A}\\right)^{3} + 3 \\left(\\lambda^{A}\\right)^{2} \\lambda^{o} + 4 \\left(\\lambda^{A}\\right)^{2} \\mu + 3 \\lambda^{A} \\left(\\lambda^{o}\\right)^{2} + 6 \\lambda^{A} \\lambda^{o} \\mu + 6 \\lambda^{A} \\mu^{2} + \\left(\\lambda^{o}\\right)^{3} + 2 \\left(\\lambda^{o}\\right)^{2} \\mu + 3 \\lambda^{o} \\mu^{2} + 4 \\mu^{3}\\right)}{\\mu^{4}}\\end{matrix}\\right]$"
      ],
      "text/plain": [
       "Matrix([\n",
       "[1,                                                                                                                                                                                                                                               Lambda/mu,                                                                 lambda_1*(lambda_2**2 + lambda_2*lambda_1 + 2*lambda_2*mu + mu**2)/(lambda_2**3 + 2*lambda_2**2*lambda_1 + 3*lambda_2**2*mu + lambda_2*lambda_1**2 + 2*lambda_2*lambda_1*mu + 3*lambda_2*mu**2 + mu**3),                                                                                                                                            lambda_1*(lambda_2 + mu)/(lambda_2**2 + lambda_2*lambda_1 + 2*lambda_2*mu + mu**2),                                                                                                                                                                                    lambda_1/(lambda_2 + mu)],\n",
       "[0, lambda_2*(lambda_2 + lambda_1 + mu)*(lambda_2**2 + 2*lambda_2*lambda_1 + 2*lambda_2*mu + lambda_1**2 + mu**2)/(mu*(lambda_2**3 + 2*lambda_2**2*lambda_1 + 3*lambda_2**2*mu + lambda_2*lambda_1**2 + 2*lambda_2*lambda_1*mu + 3*lambda_2*mu**2 + mu**3)), lambda_2*(lambda_2**3 + 3*lambda_2**2*lambda_1 + 4*lambda_2**2*mu + 3*lambda_2*lambda_1**2 + 6*lambda_2*lambda_1*mu + 5*lambda_2*mu**2 + lambda_1**3 + 2*lambda_1**2*mu + 2*lambda_1*mu**2 + 2*mu**3)/(mu**2*(lambda_2**2 + lambda_2*lambda_1 + 2*lambda_2*mu + mu**2)), lambda_2*(lambda_2**3 + 3*lambda_2**2*lambda_1 + 4*lambda_2**2*mu + 3*lambda_2*lambda_1**2 + 6*lambda_2*lambda_1*mu + 6*lambda_2*mu**2 + lambda_1**3 + 2*lambda_1**2*mu + 3*lambda_1*mu**2 + 3*mu**3)/(mu**3*(lambda_2 + mu)), lambda_2*(lambda_2**3 + 3*lambda_2**2*lambda_1 + 4*lambda_2**2*mu + 3*lambda_2*lambda_1**2 + 6*lambda_2*lambda_1*mu + 6*lambda_2*mu**2 + lambda_1**3 + 2*lambda_1**2*mu + 3*lambda_1*mu**2 + 4*mu**3)/mu**4]])"
      ]
     },
     "execution_count": 30,
     "metadata": {},
     "output_type": "execute_result"
    }
   ],
   "source": [
    "sym_state_recursive_ratios_1141"
   ]
  },
  {
   "cell_type": "code",
   "execution_count": 31,
   "metadata": {},
   "outputs": [
    {
     "data": {
      "text/latex": [
       "$\\displaystyle \\left[\\begin{matrix}1 & \\frac{\\Lambda}{\\mu} & \\frac{\\lambda^{o} \\left(\\left(\\lambda^{A}\\right)^{2} + \\lambda^{A} \\lambda^{o} + 2 \\lambda^{A} \\mu + \\mu^{2}\\right)}{\\left(\\lambda^{A}\\right)^{3} + 2 \\left(\\lambda^{A}\\right)^{2} \\lambda^{o} + 3 \\left(\\lambda^{A}\\right)^{2} \\mu + \\lambda^{A} \\left(\\lambda^{o}\\right)^{2} + 2 \\lambda^{A} \\lambda^{o} \\mu + 3 \\lambda^{A} \\mu^{2} + \\mu^{3}} & \\frac{\\lambda^{o} \\left(\\lambda^{A} + \\mu\\right)}{\\left(\\lambda^{A}\\right)^{2} + \\lambda^{A} \\lambda^{o} + 2 \\lambda^{A} \\mu + \\mu^{2}} & \\frac{\\lambda^{o}}{\\lambda^{A} + \\mu}\\\\0 & \\frac{\\lambda^{A} \\left(\\lambda^{A} + \\lambda^{o} + \\mu\\right) \\left(\\left(\\lambda^{A}\\right)^{2} + 2 \\lambda^{A} \\lambda^{o} + 2 \\lambda^{A} \\mu + \\left(\\lambda^{o}\\right)^{2} + \\mu^{2}\\right)}{\\mu \\left(\\left(\\lambda^{A}\\right)^{3} + 2 \\left(\\lambda^{A}\\right)^{2} \\lambda^{o} + 3 \\left(\\lambda^{A}\\right)^{2} \\mu + \\lambda^{A} \\left(\\lambda^{o}\\right)^{2} + 2 \\lambda^{A} \\lambda^{o} \\mu + 3 \\lambda^{A} \\mu^{2} + \\mu^{3}\\right)} & \\frac{\\lambda^{o} \\left(\\left(\\lambda^{A}\\right)^{3} + 3 \\left(\\lambda^{A}\\right)^{2} \\lambda^{o} + 4 \\left(\\lambda^{A}\\right)^{2} \\mu + 3 \\lambda^{A} \\left(\\lambda^{o}\\right)^{2} + 6 \\lambda^{A} \\lambda^{o} \\mu + 5 \\lambda^{A} \\mu^{2} + \\left(\\lambda^{o}\\right)^{3} + 2 \\left(\\lambda^{o}\\right)^{2} \\mu + 2 \\lambda^{o} \\mu^{2} + 2 \\mu^{3}\\right)}{\\mu \\left(\\lambda^{A} + \\lambda^{o} + \\mu\\right) \\left(\\left(\\lambda^{A}\\right)^{2} + 2 \\lambda^{A} \\lambda^{o} + 2 \\lambda^{A} \\mu + \\left(\\lambda^{o}\\right)^{2} + \\mu^{2}\\right)} & \\frac{\\lambda^{o} \\left(\\left(\\lambda^{A}\\right)^{3} + 3 \\left(\\lambda^{A}\\right)^{2} \\lambda^{o} + 4 \\left(\\lambda^{A}\\right)^{2} \\mu + 3 \\lambda^{A} \\left(\\lambda^{o}\\right)^{2} + 6 \\lambda^{A} \\lambda^{o} \\mu + 6 \\lambda^{A} \\mu^{2} + \\left(\\lambda^{o}\\right)^{3} + 2 \\left(\\lambda^{o}\\right)^{2} \\mu + 3 \\lambda^{o} \\mu^{2} + 3 \\mu^{3}\\right)}{\\mu \\left(\\left(\\lambda^{A}\\right)^{3} + 3 \\left(\\lambda^{A}\\right)^{2} \\lambda^{o} + 4 \\left(\\lambda^{A}\\right)^{2} \\mu + 3 \\lambda^{A} \\left(\\lambda^{o}\\right)^{2} + 6 \\lambda^{A} \\lambda^{o} \\mu + 5 \\lambda^{A} \\mu^{2} + \\left(\\lambda^{o}\\right)^{3} + 2 \\left(\\lambda^{o}\\right)^{2} \\mu + 2 \\lambda^{o} \\mu^{2} + 2 \\mu^{3}\\right)} & \\frac{\\lambda^{o} \\left(\\left(\\lambda^{A}\\right)^{3} + 3 \\left(\\lambda^{A}\\right)^{2} \\lambda^{o} + 4 \\left(\\lambda^{A}\\right)^{2} \\mu + 3 \\lambda^{A} \\left(\\lambda^{o}\\right)^{2} + 6 \\lambda^{A} \\lambda^{o} \\mu + 6 \\lambda^{A} \\mu^{2} + \\left(\\lambda^{o}\\right)^{3} + 2 \\left(\\lambda^{o}\\right)^{2} \\mu + 3 \\lambda^{o} \\mu^{2} + 4 \\mu^{3}\\right)}{\\mu \\left(\\left(\\lambda^{A}\\right)^{3} + 3 \\left(\\lambda^{A}\\right)^{2} \\lambda^{o} + 4 \\left(\\lambda^{A}\\right)^{2} \\mu + 3 \\lambda^{A} \\left(\\lambda^{o}\\right)^{2} + 6 \\lambda^{A} \\lambda^{o} \\mu + 6 \\lambda^{A} \\mu^{2} + \\left(\\lambda^{o}\\right)^{3} + 2 \\left(\\lambda^{o}\\right)^{2} \\mu + 3 \\lambda^{o} \\mu^{2} + 3 \\mu^{3}\\right)}\\end{matrix}\\right]$"
      ],
      "text/plain": [
       "Matrix([\n",
       "[1,                                                                                                                                                                                                                                               Lambda/mu,                                                                                                         lambda_1*(lambda_2**2 + lambda_2*lambda_1 + 2*lambda_2*mu + mu**2)/(lambda_2**3 + 2*lambda_2**2*lambda_1 + 3*lambda_2**2*mu + lambda_2*lambda_1**2 + 2*lambda_2*lambda_1*mu + 3*lambda_2*mu**2 + mu**3),                                                                                                                                                                                                                                                                                                                      lambda_1*(lambda_2 + mu)/(lambda_2**2 + lambda_2*lambda_1 + 2*lambda_2*mu + mu**2),                                                                                                                                                                                                                                                                                                                                                                                lambda_1/(lambda_2 + mu)],\n",
       "[0, lambda_2*(lambda_2 + lambda_1 + mu)*(lambda_2**2 + 2*lambda_2*lambda_1 + 2*lambda_2*mu + lambda_1**2 + mu**2)/(mu*(lambda_2**3 + 2*lambda_2**2*lambda_1 + 3*lambda_2**2*mu + lambda_2*lambda_1**2 + 2*lambda_2*lambda_1*mu + 3*lambda_2*mu**2 + mu**3)), lambda_1*(lambda_2**3 + 3*lambda_2**2*lambda_1 + 4*lambda_2**2*mu + 3*lambda_2*lambda_1**2 + 6*lambda_2*lambda_1*mu + 5*lambda_2*mu**2 + lambda_1**3 + 2*lambda_1**2*mu + 2*lambda_1*mu**2 + 2*mu**3)/(mu*(lambda_2 + lambda_1 + mu)*(lambda_2**2 + 2*lambda_2*lambda_1 + 2*lambda_2*mu + lambda_1**2 + mu**2)), lambda_1*(lambda_2**3 + 3*lambda_2**2*lambda_1 + 4*lambda_2**2*mu + 3*lambda_2*lambda_1**2 + 6*lambda_2*lambda_1*mu + 6*lambda_2*mu**2 + lambda_1**3 + 2*lambda_1**2*mu + 3*lambda_1*mu**2 + 3*mu**3)/(mu*(lambda_2**3 + 3*lambda_2**2*lambda_1 + 4*lambda_2**2*mu + 3*lambda_2*lambda_1**2 + 6*lambda_2*lambda_1*mu + 5*lambda_2*mu**2 + lambda_1**3 + 2*lambda_1**2*mu + 2*lambda_1*mu**2 + 2*mu**3)), lambda_1*(lambda_2**3 + 3*lambda_2**2*lambda_1 + 4*lambda_2**2*mu + 3*lambda_2*lambda_1**2 + 6*lambda_2*lambda_1*mu + 6*lambda_2*mu**2 + lambda_1**3 + 2*lambda_1**2*mu + 3*lambda_1*mu**2 + 4*mu**3)/(mu*(lambda_2**3 + 3*lambda_2**2*lambda_1 + 4*lambda_2**2*mu + 3*lambda_2*lambda_1**2 + 6*lambda_2*lambda_1*mu + 6*lambda_2*mu**2 + lambda_1**3 + 2*lambda_1**2*mu + 3*lambda_1*mu**2 + 3*mu**3))]])"
      ]
     },
     "execution_count": 31,
     "metadata": {},
     "output_type": "execute_result"
    }
   ],
   "source": [
    "sym_state_recursive_ratios_right_1141"
   ]
  },
  {
   "cell_type": "code",
   "execution_count": 32,
   "metadata": {},
   "outputs": [
    {
     "data": {
      "text/latex": [
       "$\\displaystyle \\left[\\begin{matrix}1 & \\frac{\\Lambda}{\\mu} & \\frac{\\Lambda \\lambda^{o} \\left(\\left(\\lambda^{A}\\right)^{2} + \\lambda^{A} \\lambda^{o} + 2 \\lambda^{A} \\mu + \\mu^{2}\\right)}{\\mu \\left(\\left(\\lambda^{A}\\right)^{3} + 2 \\left(\\lambda^{A}\\right)^{2} \\lambda^{o} + 3 \\left(\\lambda^{A}\\right)^{2} \\mu + \\lambda^{A} \\left(\\lambda^{o}\\right)^{2} + 2 \\lambda^{A} \\lambda^{o} \\mu + 3 \\lambda^{A} \\mu^{2} + \\mu^{3}\\right)} & \\frac{\\Lambda \\left(\\lambda^{o}\\right)^{2} \\left(\\lambda^{A} + \\mu\\right)}{\\mu \\left(\\left(\\lambda^{A}\\right)^{3} + 2 \\left(\\lambda^{A}\\right)^{2} \\lambda^{o} + 3 \\left(\\lambda^{A}\\right)^{2} \\mu + \\lambda^{A} \\left(\\lambda^{o}\\right)^{2} + 2 \\lambda^{A} \\lambda^{o} \\mu + 3 \\lambda^{A} \\mu^{2} + \\mu^{3}\\right)} & \\frac{\\Lambda \\left(\\lambda^{o}\\right)^{3}}{\\mu \\left(\\left(\\lambda^{A}\\right)^{3} + 2 \\left(\\lambda^{A}\\right)^{2} \\lambda^{o} + 3 \\left(\\lambda^{A}\\right)^{2} \\mu + \\lambda^{A} \\left(\\lambda^{o}\\right)^{2} + 2 \\lambda^{A} \\lambda^{o} \\mu + 3 \\lambda^{A} \\mu^{2} + \\mu^{3}\\right)}\\\\0 & \\frac{\\Lambda \\lambda^{A} \\left(\\lambda^{A} + \\lambda^{o} + \\mu\\right) \\left(\\left(\\lambda^{A}\\right)^{2} + 2 \\lambda^{A} \\lambda^{o} + 2 \\lambda^{A} \\mu + \\left(\\lambda^{o}\\right)^{2} + \\mu^{2}\\right)}{\\mu^{2} \\left(\\left(\\lambda^{A}\\right)^{3} + 2 \\left(\\lambda^{A}\\right)^{2} \\lambda^{o} + 3 \\left(\\lambda^{A}\\right)^{2} \\mu + \\lambda^{A} \\left(\\lambda^{o}\\right)^{2} + 2 \\lambda^{A} \\lambda^{o} \\mu + 3 \\lambda^{A} \\mu^{2} + \\mu^{3}\\right)} & \\frac{\\Lambda \\lambda^{A} \\lambda^{o} \\left(\\left(\\lambda^{A}\\right)^{3} + 3 \\left(\\lambda^{A}\\right)^{2} \\lambda^{o} + 4 \\left(\\lambda^{A}\\right)^{2} \\mu + 3 \\lambda^{A} \\left(\\lambda^{o}\\right)^{2} + 6 \\lambda^{A} \\lambda^{o} \\mu + 5 \\lambda^{A} \\mu^{2} + \\left(\\lambda^{o}\\right)^{3} + 2 \\left(\\lambda^{o}\\right)^{2} \\mu + 2 \\lambda^{o} \\mu^{2} + 2 \\mu^{3}\\right)}{\\mu^{3} \\left(\\left(\\lambda^{A}\\right)^{3} + 2 \\left(\\lambda^{A}\\right)^{2} \\lambda^{o} + 3 \\left(\\lambda^{A}\\right)^{2} \\mu + \\lambda^{A} \\left(\\lambda^{o}\\right)^{2} + 2 \\lambda^{A} \\lambda^{o} \\mu + 3 \\lambda^{A} \\mu^{2} + \\mu^{3}\\right)} & \\frac{\\Lambda \\lambda^{A} \\left(\\lambda^{o}\\right)^{2} \\left(\\left(\\lambda^{A}\\right)^{3} + 3 \\left(\\lambda^{A}\\right)^{2} \\lambda^{o} + 4 \\left(\\lambda^{A}\\right)^{2} \\mu + 3 \\lambda^{A} \\left(\\lambda^{o}\\right)^{2} + 6 \\lambda^{A} \\lambda^{o} \\mu + 6 \\lambda^{A} \\mu^{2} + \\left(\\lambda^{o}\\right)^{3} + 2 \\left(\\lambda^{o}\\right)^{2} \\mu + 3 \\lambda^{o} \\mu^{2} + 3 \\mu^{3}\\right)}{\\mu^{4} \\left(\\left(\\lambda^{A}\\right)^{3} + 2 \\left(\\lambda^{A}\\right)^{2} \\lambda^{o} + 3 \\left(\\lambda^{A}\\right)^{2} \\mu + \\lambda^{A} \\left(\\lambda^{o}\\right)^{2} + 2 \\lambda^{A} \\lambda^{o} \\mu + 3 \\lambda^{A} \\mu^{2} + \\mu^{3}\\right)} & \\frac{\\Lambda \\lambda^{A} \\left(\\lambda^{o}\\right)^{3} \\left(\\left(\\lambda^{A}\\right)^{3} + 3 \\left(\\lambda^{A}\\right)^{2} \\lambda^{o} + 4 \\left(\\lambda^{A}\\right)^{2} \\mu + 3 \\lambda^{A} \\left(\\lambda^{o}\\right)^{2} + 6 \\lambda^{A} \\lambda^{o} \\mu + 6 \\lambda^{A} \\mu^{2} + \\left(\\lambda^{o}\\right)^{3} + 2 \\left(\\lambda^{o}\\right)^{2} \\mu + 3 \\lambda^{o} \\mu^{2} + 4 \\mu^{3}\\right)}{\\mu^{5} \\left(\\left(\\lambda^{A}\\right)^{3} + 2 \\left(\\lambda^{A}\\right)^{2} \\lambda^{o} + 3 \\left(\\lambda^{A}\\right)^{2} \\mu + \\lambda^{A} \\left(\\lambda^{o}\\right)^{2} + 2 \\lambda^{A} \\lambda^{o} \\mu + 3 \\lambda^{A} \\mu^{2} + \\mu^{3}\\right)}\\end{matrix}\\right]$"
      ],
      "text/plain": [
       "Matrix([\n",
       "[1,                                                                                                                                                                                                                                                         Lambda/mu,                                                                                                                                                Lambda*lambda_1*(lambda_2**2 + lambda_2*lambda_1 + 2*lambda_2*mu + mu**2)/(mu*(lambda_2**3 + 2*lambda_2**2*lambda_1 + 3*lambda_2**2*mu + lambda_2*lambda_1**2 + 2*lambda_2*lambda_1*mu + 3*lambda_2*mu**2 + mu**3)),                                                                                                                                                                                          Lambda*lambda_1**2*(lambda_2 + mu)/(mu*(lambda_2**3 + 2*lambda_2**2*lambda_1 + 3*lambda_2**2*mu + lambda_2*lambda_1**2 + 2*lambda_2*lambda_1*mu + 3*lambda_2*mu**2 + mu**3)),                                                                                                                                                                                                          Lambda*lambda_1**3/(mu*(lambda_2**3 + 2*lambda_2**2*lambda_1 + 3*lambda_2**2*mu + lambda_2*lambda_1**2 + 2*lambda_2*lambda_1*mu + 3*lambda_2*mu**2 + mu**3))],\n",
       "[0, Lambda*lambda_2*(lambda_2 + lambda_1 + mu)*(lambda_2**2 + 2*lambda_2*lambda_1 + 2*lambda_2*mu + lambda_1**2 + mu**2)/(mu**2*(lambda_2**3 + 2*lambda_2**2*lambda_1 + 3*lambda_2**2*mu + lambda_2*lambda_1**2 + 2*lambda_2*lambda_1*mu + 3*lambda_2*mu**2 + mu**3)), Lambda*lambda_2*lambda_1*(lambda_2**3 + 3*lambda_2**2*lambda_1 + 4*lambda_2**2*mu + 3*lambda_2*lambda_1**2 + 6*lambda_2*lambda_1*mu + 5*lambda_2*mu**2 + lambda_1**3 + 2*lambda_1**2*mu + 2*lambda_1*mu**2 + 2*mu**3)/(mu**3*(lambda_2**3 + 2*lambda_2**2*lambda_1 + 3*lambda_2**2*mu + lambda_2*lambda_1**2 + 2*lambda_2*lambda_1*mu + 3*lambda_2*mu**2 + mu**3)), Lambda*lambda_2*lambda_1**2*(lambda_2**3 + 3*lambda_2**2*lambda_1 + 4*lambda_2**2*mu + 3*lambda_2*lambda_1**2 + 6*lambda_2*lambda_1*mu + 6*lambda_2*mu**2 + lambda_1**3 + 2*lambda_1**2*mu + 3*lambda_1*mu**2 + 3*mu**3)/(mu**4*(lambda_2**3 + 2*lambda_2**2*lambda_1 + 3*lambda_2**2*mu + lambda_2*lambda_1**2 + 2*lambda_2*lambda_1*mu + 3*lambda_2*mu**2 + mu**3)), Lambda*lambda_2*lambda_1**3*(lambda_2**3 + 3*lambda_2**2*lambda_1 + 4*lambda_2**2*mu + 3*lambda_2*lambda_1**2 + 6*lambda_2*lambda_1*mu + 6*lambda_2*mu**2 + lambda_1**3 + 2*lambda_1**2*mu + 3*lambda_1*mu**2 + 4*mu**3)/(mu**5*(lambda_2**3 + 2*lambda_2**2*lambda_1 + 3*lambda_2**2*mu + lambda_2*lambda_1**2 + 2*lambda_2*lambda_1*mu + 3*lambda_2*mu**2 + mu**3))]])"
      ]
     },
     "execution_count": 32,
     "metadata": {},
     "output_type": "execute_result"
    }
   ],
   "source": [
    "sym_state_recursive_ratios_P0_1141"
   ]
  },
  {
   "cell_type": "code",
   "execution_count": null,
   "metadata": {},
   "outputs": [],
   "source": []
  },
  {
   "cell_type": "markdown",
   "metadata": {},
   "source": [
    "## $C=1, T=1, N=4, M=2$"
   ]
  },
  {
   "cell_type": "code",
   "execution_count": 4,
   "metadata": {},
   "outputs": [],
   "source": [
    "num_of_servers = 1\n",
    "threshold = 1\n",
    "system_capacity = 4\n",
    "buffer_capacity = 2"
   ]
  },
  {
   "cell_type": "code",
   "execution_count": 5,
   "metadata": {},
   "outputs": [
    {
     "data": {
      "text/plain": [
       "<networkx.classes.multidigraph.MultiDiGraph at 0x1ad67509048>"
      ]
     },
     "execution_count": 5,
     "metadata": {},
     "output_type": "execute_result"
    },
    {
     "data": {
      "image/png": "[encoded data removed]",
      "text/plain": [
       "<Figure size 324x432 with 1 Axes>"
      ]
     },
     "metadata": {},
     "output_type": "display_data"
    }
   ],
   "source": [
    "abg.markov.visualise_ambulance_markov_chain(num_of_servers=num_of_servers, threshold=threshold, system_capacity=system_capacity, buffer_capacity=buffer_capacity)"
   ]
  },
  {
   "cell_type": "code",
   "execution_count": 6,
   "metadata": {},
   "outputs": [],
   "source": [
    "all_states_1142 = abg.markov.build_states(threshold=threshold, system_capacity=system_capacity, buffer_capacity=buffer_capacity)\n",
    "Q_sym_1142 = abg.markov.get_symbolic_transition_matrix(num_of_servers=num_of_servers, threshold=threshold, system_capacity=system_capacity, buffer_capacity=buffer_capacity)\n",
    "\n",
    "p00, p01, p11, p21, p02, p12, p22, p03, p13, p23, p04, p14, p24 = sym.symbols('p00, p01, p11, p21, p02, p12, p22, p03, p13, p23, p04, p14, p24')\n",
    "pi_1142 = sym.Matrix([p00, p01, p11, p21, p02, p12, p22, p03, p13, p23, p04, p14, p24])\n",
    "dimension_1142 = Q_sym_1142.shape[0]\n",
    "\n",
    "M_sym_1142 = sym.Matrix([Q_sym_1142.transpose()[:-1,:], sym.ones(1,dimension_1142)])\n",
    "sym_diff_equations_1142 = (M_sym_1142 @ pi_1142)\n",
    "\n",
    "b_sym_1142 = sym.Matrix([sym.zeros(dimension_1142 - 1, 1), [1]])"
   ]
  },
  {
   "cell_type": "code",
   "execution_count": 7,
   "metadata": {},
   "outputs": [],
   "source": [
    "eq0_1142 = sym.Eq(sym_diff_equations_1142[0],b_sym_1142[0])\n",
    "eq1_1142 = sym.Eq(sym_diff_equations_1142[1],b_sym_1142[1])\n",
    "eq2_1142 = sym.Eq(sym_diff_equations_1142[2],b_sym_1142[2])\n",
    "eq3_1142 = sym.Eq(sym_diff_equations_1142[3],b_sym_1142[3])\n",
    "eq4_1142 = sym.Eq(sym_diff_equations_1142[4],b_sym_1142[4])\n",
    "eq5_1142 = sym.Eq(sym_diff_equations_1142[5],b_sym_1142[5])\n",
    "eq6_1142 = sym.Eq(sym_diff_equations_1142[6],b_sym_1142[6])\n",
    "eq7_1142 = sym.Eq(sym_diff_equations_1142[7],b_sym_1142[7])\n",
    "eq8_1142 = sym.Eq(sym_diff_equations_1142[8],b_sym_1142[8])\n",
    "eq9_1142 = sym.Eq(sym_diff_equations_1142[9],b_sym_1142[9])\n",
    "eq10_1142 = sym.Eq(sym_diff_equations_1142[10],b_sym_1142[10])\n",
    "eq11_1142 = sym.Eq(sym_diff_equations_1142[11],b_sym_1142[11])\n",
    "eq12_1142 = sym.Eq(sym_diff_equations_1142[12],b_sym_1142[12])"
   ]
  },
  {
   "cell_type": "code",
   "execution_count": 8,
   "metadata": {},
   "outputs": [],
   "source": [
    "sym_state_probs_1142 = sym.solve([eq0_1142,eq1_1142,eq2_1142,eq3_1142,eq4_1142,eq5_1142,eq6_1142,eq7_1142,eq8_1142,eq9_1142,eq10_1142,eq11_1142,eq12_1142],(p00, p01, p11, p21, p02, p12, p22, p03, p13, p23, p04, p14, p24))"
   ]
  },
  {
   "cell_type": "code",
   "execution_count": 16,
   "metadata": {},
   "outputs": [],
   "source": [
    "sym_state_recursive_ratios_1142 = sym.zeros(buffer_capacity + 1, system_capacity + 1)\n",
    "sym_state_recursive_ratios_1142[0,0] = 1\n",
    "sym_state_recursive_ratios_1142[0,1] = sym.factor(sym_state_probs_1142[p01] / sym_state_probs_1142[p00])  # (0,0) -> (0,1) \n",
    "sym_state_recursive_ratios_1142[1,1] = sym.factor(sym_state_probs_1142[p11] / sym_state_probs_1142[p01])  # (0,1) -> (1,1)\n",
    "sym_state_recursive_ratios_1142[2,1] = sym.factor(sym_state_probs_1142[p21] / sym_state_probs_1142[p11])  # (1,1) -> (2,1)\n",
    "sym_state_recursive_ratios_1142[0,2] = sym.factor(sym_state_probs_1142[p02] / sym_state_probs_1142[p01])  # (0,1) -> (0,2)\n",
    "sym_state_recursive_ratios_1142[1,2] = sym.factor(sym_state_probs_1142[p12] / sym_state_probs_1142[p02])  # (0,2) -> (1,2)\n",
    "sym_state_recursive_ratios_1142[2,2] = sym.factor(sym_state_probs_1142[p22] / sym_state_probs_1142[p12])  # (1,2) -> (2,2)\n",
    "sym_state_recursive_ratios_1142[0,3] = sym.factor(sym_state_probs_1142[p03] / sym_state_probs_1142[p02])  # (0,2) -> (0,3)\n",
    "sym_state_recursive_ratios_1142[1,3] = sym.factor(sym_state_probs_1142[p13] / sym_state_probs_1142[p03])  # (0,3) -> (1,3)\n",
    "sym_state_recursive_ratios_1142[2,3] = sym.factor(sym_state_probs_1142[p23] / sym_state_probs_1142[p13])  # (1,3) -> (2,3)\n",
    "sym_state_recursive_ratios_1142[0,4] = sym.factor(sym_state_probs_1142[p04] / sym_state_probs_1142[p03])  # (0,3) -> (0,4)\n",
    "sym_state_recursive_ratios_1142[1,4] = sym.factor(sym_state_probs_1142[p14] / sym_state_probs_1142[p04])  # (0,4) -> (1,4)\n",
    "sym_state_recursive_ratios_1142[2,4] = sym.factor(sym_state_probs_1142[p24] / sym_state_probs_1142[p14])  # (1,4) -> (2,4)\n",
    "\n",
    "sym_state_recursive_ratios_right_1142 = sym_state_recursive_ratios_1142.copy()\n",
    "sym_state_recursive_ratios_right_1142[1,2] = sym.factor(sym_state_probs_1142[p12] / sym_state_probs_1142[p11])  # (1,1) -> (1,2)\n",
    "sym_state_recursive_ratios_right_1142[1,3] = sym.factor(sym_state_probs_1142[p13] / sym_state_probs_1142[p12])  # (1,2) -> (1,3)\n",
    "sym_state_recursive_ratios_right_1142[1,4] = sym.factor(sym_state_probs_1142[p14] / sym_state_probs_1142[p13])  # (1,3) -> (1,4)\n",
    "sym_state_recursive_ratios_right_1142[2,2] = sym.factor(sym_state_probs_1142[p22] / sym_state_probs_1142[p21])  # (2,1) -> (2,2)\n",
    "sym_state_recursive_ratios_right_1142[2,3] = sym.factor(sym_state_probs_1142[p23] / sym_state_probs_1142[p22])  # (2,2) -> (2,3)\n",
    "sym_state_recursive_ratios_right_1142[2,4] = sym.factor(sym_state_probs_1142[p24] / sym_state_probs_1142[p23])  # (2,3) -> (2,4)\n",
    "\n",
    "sym_state_recursive_ratios_P0_1142 = sym.zeros(buffer_capacity + 1, system_capacity + 1)\n",
    "sym_state_recursive_ratios_P0_1142[0,0] = 1\n",
    "sym_state_recursive_ratios_P0_1142[0,1] = sym.factor(sym_state_probs_1142[p01] / sym_state_probs_1142[p00])  # (0,0) -> (0,1) \n",
    "sym_state_recursive_ratios_P0_1142[1,1] = sym.factor(sym_state_probs_1142[p11] / sym_state_probs_1142[p00])  # (0,0) -> (1,1)\n",
    "sym_state_recursive_ratios_P0_1142[2,1] = sym.factor(sym_state_probs_1142[p21] / sym_state_probs_1142[p00])  # (0,0) -> (2,1)\n",
    "\n",
    "sym_state_recursive_ratios_P0_1142[0,2] = sym.factor(sym_state_probs_1142[p02] / sym_state_probs_1142[p00])  # (0,0) -> (0,2)\n",
    "sym_state_recursive_ratios_P0_1142[1,2] = sym.factor(sym_state_probs_1142[p12] / sym_state_probs_1142[p00])  # (0,0) -> (1,2)\n",
    "sym_state_recursive_ratios_P0_1142[2,2] = sym.factor(sym_state_probs_1142[p22] / sym_state_probs_1142[p00])  # (0,0) -> (2,2)\n",
    "\n",
    "sym_state_recursive_ratios_P0_1142[0,3] = sym.factor(sym_state_probs_1142[p03] / sym_state_probs_1142[p00])  # (0,0) -> (0,3)\n",
    "sym_state_recursive_ratios_P0_1142[1,3] = sym.factor(sym_state_probs_1142[p13] / sym_state_probs_1142[p00])  # (0,0) -> (1,3)\n",
    "sym_state_recursive_ratios_P0_1142[2,3] = sym.factor(sym_state_probs_1142[p23] / sym_state_probs_1142[p00])  # (0,0) -> (2,3)\n",
    "\n",
    "sym_state_recursive_ratios_P0_1142[0,4] = sym.factor(sym_state_probs_1142[p04] / sym_state_probs_1142[p00])  # (0,0) -> (0,4)\n",
    "sym_state_recursive_ratios_P0_1142[1,4] = sym.factor(sym_state_probs_1142[p14] / sym_state_probs_1142[p00])  # (0,0) -> (1,4)\n",
    "sym_state_recursive_ratios_P0_1142[2,4] = sym.factor(sym_state_probs_1142[p24] / sym_state_probs_1142[p00])  # (0,0) -> (2,4)\n"
   ]
  },
  {
   "cell_type": "code",
   "execution_count": 17,
   "metadata": {},
   "outputs": [
    {
     "data": {
      "text/latex": [
       "$\\displaystyle \\left[\\begin{matrix}1 & \\frac{\\Lambda}{\\mu} & \\frac{\\lambda^{o} \\left(\\left(\\lambda^{A}\\right)^{2} + \\lambda^{A} \\lambda^{o} + 2 \\lambda^{A} \\mu + \\mu^{2}\\right)}{\\left(\\lambda^{A}\\right)^{3} + 2 \\left(\\lambda^{A}\\right)^{2} \\lambda^{o} + 3 \\left(\\lambda^{A}\\right)^{2} \\mu + \\lambda^{A} \\left(\\lambda^{o}\\right)^{2} + 2 \\lambda^{A} \\lambda^{o} \\mu + 3 \\lambda^{A} \\mu^{2} + \\mu^{3}} & \\frac{\\lambda^{o} \\left(\\lambda^{A} + \\mu\\right)}{\\left(\\lambda^{A}\\right)^{2} + \\lambda^{A} \\lambda^{o} + 2 \\lambda^{A} \\mu + \\mu^{2}} & \\frac{\\lambda^{o}}{\\lambda^{A} + \\mu}\\\\0 & \\frac{\\lambda^{A} \\left(\\lambda^{A} + \\lambda^{o} + \\mu\\right) \\left(\\left(\\lambda^{A}\\right)^{2} + 2 \\lambda^{A} \\lambda^{o} + 2 \\lambda^{A} \\mu + \\left(\\lambda^{o}\\right)^{2} + \\mu^{2}\\right)}{\\mu \\left(\\left(\\lambda^{A}\\right)^{3} + 2 \\left(\\lambda^{A}\\right)^{2} \\lambda^{o} + 3 \\left(\\lambda^{A}\\right)^{2} \\mu + \\lambda^{A} \\left(\\lambda^{o}\\right)^{2} + 2 \\lambda^{A} \\lambda^{o} \\mu + 3 \\lambda^{A} \\mu^{2} + \\mu^{3}\\right)} & \\frac{\\lambda^{A} \\left(\\left(\\lambda^{A}\\right)^{5} + 4 \\left(\\lambda^{A}\\right)^{4} \\lambda^{o} + 6 \\left(\\lambda^{A}\\right)^{4} \\mu + 6 \\left(\\lambda^{A}\\right)^{3} \\left(\\lambda^{o}\\right)^{2} + 15 \\left(\\lambda^{A}\\right)^{3} \\lambda^{o} \\mu + 14 \\left(\\lambda^{A}\\right)^{3} \\mu^{2} + 4 \\left(\\lambda^{A}\\right)^{2} \\left(\\lambda^{o}\\right)^{3} + 12 \\left(\\lambda^{A}\\right)^{2} \\left(\\lambda^{o}\\right)^{2} \\mu + 20 \\left(\\lambda^{A}\\right)^{2} \\lambda^{o} \\mu^{2} + 16 \\left(\\lambda^{A}\\right)^{2} \\mu^{3} + \\lambda^{A} \\left(\\lambda^{o}\\right)^{4} + 3 \\lambda^{A} \\left(\\lambda^{o}\\right)^{3} \\mu + 6 \\lambda^{A} \\left(\\lambda^{o}\\right)^{2} \\mu^{2} + 11 \\lambda^{A} \\lambda^{o} \\mu^{3} + 9 \\lambda^{A} \\mu^{4} + \\left(\\lambda^{o}\\right)^{3} \\mu^{2} + 2 \\left(\\lambda^{o}\\right)^{2} \\mu^{3} + 2 \\lambda^{o} \\mu^{4} + 2 \\mu^{5}\\right)}{\\mu \\left(\\left(\\lambda^{A}\\right)^{2} + \\lambda^{A} \\lambda^{o} + 2 \\lambda^{A} \\mu + \\mu^{2}\\right) \\left(\\left(\\lambda^{A}\\right)^{3} + 2 \\left(\\lambda^{A}\\right)^{2} \\lambda^{o} + 3 \\left(\\lambda^{A}\\right)^{2} \\mu + \\lambda^{A} \\left(\\lambda^{o}\\right)^{2} + 2 \\lambda^{A} \\lambda^{o} \\mu + 3 \\lambda^{A} \\mu^{2} + \\mu^{3}\\right)} & \\frac{\\lambda^{A} \\left(\\left(\\lambda^{A}\\right)^{4} + 3 \\left(\\lambda^{A}\\right)^{3} \\lambda^{o} + 6 \\left(\\lambda^{A}\\right)^{3} \\mu + 3 \\left(\\lambda^{A}\\right)^{2} \\left(\\lambda^{o}\\right)^{2} + 9 \\left(\\lambda^{A}\\right)^{2} \\lambda^{o} \\mu + 12 \\left(\\lambda^{A}\\right)^{2} \\mu^{2} + \\lambda^{A} \\left(\\lambda^{o}\\right)^{3} + 4 \\lambda^{A} \\left(\\lambda^{o}\\right)^{2} \\mu + 9 \\lambda^{A} \\lambda^{o} \\mu^{2} + 10 \\lambda^{A} \\mu^{3} + \\left(\\lambda^{o}\\right)^{3} \\mu + 2 \\left(\\lambda^{o}\\right)^{2} \\mu^{2} + 3 \\lambda^{o} \\mu^{3} + 3 \\mu^{4}\\right)}{\\mu \\left(\\lambda^{A} + \\mu\\right) \\left(\\left(\\lambda^{A}\\right)^{3} + 2 \\left(\\lambda^{A}\\right)^{2} \\lambda^{o} + 3 \\left(\\lambda^{A}\\right)^{2} \\mu + \\lambda^{A} \\left(\\lambda^{o}\\right)^{2} + 2 \\lambda^{A} \\lambda^{o} \\mu + 3 \\lambda^{A} \\mu^{2} + \\mu^{3}\\right)} & \\frac{\\lambda^{A} \\left(\\left(\\lambda^{A}\\right)^{3} + 3 \\left(\\lambda^{A}\\right)^{2} \\lambda^{o} + 6 \\left(\\lambda^{A}\\right)^{2} \\mu + 3 \\lambda^{A} \\left(\\lambda^{o}\\right)^{2} + 8 \\lambda^{A} \\lambda^{o} \\mu + 9 \\lambda^{A} \\mu^{2} + \\left(\\lambda^{o}\\right)^{3} + 2 \\left(\\lambda^{o}\\right)^{2} \\mu + 3 \\lambda^{o} \\mu^{2} + 4 \\mu^{3}\\right)}{\\mu \\left(\\left(\\lambda^{A}\\right)^{3} + 2 \\left(\\lambda^{A}\\right)^{2} \\lambda^{o} + 3 \\left(\\lambda^{A}\\right)^{2} \\mu + \\lambda^{A} \\left(\\lambda^{o}\\right)^{2} + 2 \\lambda^{A} \\lambda^{o} \\mu + 3 \\lambda^{A} \\mu^{2} + \\mu^{3}\\right)}\\\\0 & \\frac{\\lambda^{A} \\left(\\left(\\lambda^{A}\\right)^{6} + 6 \\left(\\lambda^{A}\\right)^{5} \\lambda^{o} + 6 \\left(\\lambda^{A}\\right)^{5} \\mu + 15 \\left(\\lambda^{A}\\right)^{4} \\left(\\lambda^{o}\\right)^{2} + 27 \\left(\\lambda^{A}\\right)^{4} \\lambda^{o} \\mu + 15 \\left(\\lambda^{A}\\right)^{4} \\mu^{2} + 20 \\left(\\lambda^{A}\\right)^{3} \\left(\\lambda^{o}\\right)^{3} + 48 \\left(\\lambda^{A}\\right)^{3} \\left(\\lambda^{o}\\right)^{2} \\mu + 48 \\left(\\lambda^{A}\\right)^{3} \\lambda^{o} \\mu^{2} + 20 \\left(\\lambda^{A}\\right)^{3} \\mu^{3} + 15 \\left(\\lambda^{A}\\right)^{2} \\left(\\lambda^{o}\\right)^{4} + 42 \\left(\\lambda^{A}\\right)^{2} \\left(\\lambda^{o}\\right)^{3} \\mu + 57 \\left(\\lambda^{A}\\right)^{2} \\left(\\lambda^{o}\\right)^{2} \\mu^{2} + 42 \\left(\\lambda^{A}\\right)^{2} \\lambda^{o} \\mu^{3} + 15 \\left(\\lambda^{A}\\right)^{2} \\mu^{4} + 6 \\lambda^{A} \\left(\\lambda^{o}\\right)^{5} + 18 \\lambda^{A} \\left(\\lambda^{o}\\right)^{4} \\mu + 30 \\lambda^{A} \\left(\\lambda^{o}\\right)^{3} \\mu^{2} + 30 \\lambda^{A} \\left(\\lambda^{o}\\right)^{2} \\mu^{3} + 18 \\lambda^{A} \\lambda^{o} \\mu^{4} + 6 \\lambda^{A} \\mu^{5} + \\left(\\lambda^{o}\\right)^{6} + 3 \\left(\\lambda^{o}\\right)^{5} \\mu + 6 \\left(\\lambda^{o}\\right)^{4} \\mu^{2} + 10 \\left(\\lambda^{o}\\right)^{3} \\mu^{3} + 6 \\left(\\lambda^{o}\\right)^{2} \\mu^{4} + 3 \\lambda^{o} \\mu^{5} + \\mu^{6}\\right)}{\\mu \\left(\\lambda^{A} + \\lambda^{o} + \\mu\\right) \\left(\\left(\\lambda^{A}\\right)^{2} + 2 \\lambda^{A} \\lambda^{o} + 2 \\lambda^{A} \\mu + \\left(\\lambda^{o}\\right)^{2} + \\mu^{2}\\right) \\left(\\left(\\lambda^{A}\\right)^{3} + 2 \\left(\\lambda^{A}\\right)^{2} \\lambda^{o} + 3 \\left(\\lambda^{A}\\right)^{2} \\mu + \\lambda^{A} \\left(\\lambda^{o}\\right)^{2} + 2 \\lambda^{A} \\lambda^{o} \\mu + 3 \\lambda^{A} \\mu^{2} + \\mu^{3}\\right)} & \\frac{\\lambda^{A} \\left(\\left(\\lambda^{A}\\right)^{6} + 6 \\left(\\lambda^{A}\\right)^{5} \\lambda^{o} + 7 \\left(\\lambda^{A}\\right)^{5} \\mu + 15 \\left(\\lambda^{A}\\right)^{4} \\left(\\lambda^{o}\\right)^{2} + 32 \\left(\\lambda^{A}\\right)^{4} \\lambda^{o} \\mu + 21 \\left(\\lambda^{A}\\right)^{4} \\mu^{2} + 20 \\left(\\lambda^{A}\\right)^{3} \\left(\\lambda^{o}\\right)^{3} + 58 \\left(\\lambda^{A}\\right)^{3} \\left(\\lambda^{o}\\right)^{2} \\mu + 69 \\left(\\lambda^{A}\\right)^{3} \\lambda^{o} \\mu^{2} + 34 \\left(\\lambda^{A}\\right)^{3} \\mu^{3} + 15 \\left(\\lambda^{A}\\right)^{2} \\left(\\lambda^{o}\\right)^{4} + 52 \\left(\\lambda^{A}\\right)^{2} \\left(\\lambda^{o}\\right)^{3} \\mu + 84 \\left(\\lambda^{A}\\right)^{2} \\left(\\lambda^{o}\\right)^{2} \\mu^{2} + 74 \\left(\\lambda^{A}\\right)^{2} \\lambda^{o} \\mu^{3} + 31 \\left(\\lambda^{A}\\right)^{2} \\mu^{4} + 6 \\lambda^{A} \\left(\\lambda^{o}\\right)^{5} + 23 \\lambda^{A} \\left(\\lambda^{o}\\right)^{4} \\mu + 45 \\lambda^{A} \\left(\\lambda^{o}\\right)^{3} \\mu^{2} + 54 \\lambda^{A} \\left(\\lambda^{o}\\right)^{2} \\mu^{3} + 39 \\lambda^{A} \\lambda^{o} \\mu^{4} + 15 \\lambda^{A} \\mu^{5} + \\left(\\lambda^{o}\\right)^{6} + 4 \\left(\\lambda^{o}\\right)^{5} \\mu + 9 \\left(\\lambda^{o}\\right)^{4} \\mu^{2} + 16 \\left(\\lambda^{o}\\right)^{3} \\mu^{3} + 15 \\left(\\lambda^{o}\\right)^{2} \\mu^{4} + 8 \\lambda^{o} \\mu^{5} + 3 \\mu^{6}\\right)}{\\mu^{2} \\left(\\left(\\lambda^{A}\\right)^{5} + 4 \\left(\\lambda^{A}\\right)^{4} \\lambda^{o} + 6 \\left(\\lambda^{A}\\right)^{4} \\mu + 6 \\left(\\lambda^{A}\\right)^{3} \\left(\\lambda^{o}\\right)^{2} + 15 \\left(\\lambda^{A}\\right)^{3} \\lambda^{o} \\mu + 14 \\left(\\lambda^{A}\\right)^{3} \\mu^{2} + 4 \\left(\\lambda^{A}\\right)^{2} \\left(\\lambda^{o}\\right)^{3} + 12 \\left(\\lambda^{A}\\right)^{2} \\left(\\lambda^{o}\\right)^{2} \\mu + 20 \\left(\\lambda^{A}\\right)^{2} \\lambda^{o} \\mu^{2} + 16 \\left(\\lambda^{A}\\right)^{2} \\mu^{3} + \\lambda^{A} \\left(\\lambda^{o}\\right)^{4} + 3 \\lambda^{A} \\left(\\lambda^{o}\\right)^{3} \\mu + 6 \\lambda^{A} \\left(\\lambda^{o}\\right)^{2} \\mu^{2} + 11 \\lambda^{A} \\lambda^{o} \\mu^{3} + 9 \\lambda^{A} \\mu^{4} + \\left(\\lambda^{o}\\right)^{3} \\mu^{2} + 2 \\left(\\lambda^{o}\\right)^{2} \\mu^{3} + 2 \\lambda^{o} \\mu^{4} + 2 \\mu^{5}\\right)} & \\frac{\\lambda^{A} \\left(\\left(\\lambda^{A}\\right)^{6} + 6 \\left(\\lambda^{A}\\right)^{5} \\lambda^{o} + 7 \\left(\\lambda^{A}\\right)^{5} \\mu + 15 \\left(\\lambda^{A}\\right)^{4} \\left(\\lambda^{o}\\right)^{2} + 32 \\left(\\lambda^{A}\\right)^{4} \\lambda^{o} \\mu + 22 \\left(\\lambda^{A}\\right)^{4} \\mu^{2} + 20 \\left(\\lambda^{A}\\right)^{3} \\left(\\lambda^{o}\\right)^{3} + 58 \\left(\\lambda^{A}\\right)^{3} \\left(\\lambda^{o}\\right)^{2} \\mu + 73 \\left(\\lambda^{A}\\right)^{3} \\lambda^{o} \\mu^{2} + 40 \\left(\\lambda^{A}\\right)^{3} \\mu^{3} + 15 \\left(\\lambda^{A}\\right)^{2} \\left(\\lambda^{o}\\right)^{4} + 52 \\left(\\lambda^{A}\\right)^{2} \\left(\\lambda^{o}\\right)^{3} \\mu + 90 \\left(\\lambda^{A}\\right)^{2} \\left(\\lambda^{o}\\right)^{2} \\mu^{2} + 89 \\left(\\lambda^{A}\\right)^{2} \\lambda^{o} \\mu^{3} + 43 \\left(\\lambda^{A}\\right)^{2} \\mu^{4} + 6 \\lambda^{A} \\left(\\lambda^{o}\\right)^{5} + 23 \\lambda^{A} \\left(\\lambda^{o}\\right)^{4} \\mu + 49 \\lambda^{A} \\left(\\lambda^{o}\\right)^{3} \\mu^{2} + 66 \\lambda^{A} \\left(\\lambda^{o}\\right)^{2} \\mu^{3} + 57 \\lambda^{A} \\lambda^{o} \\mu^{4} + 25 \\lambda^{A} \\mu^{5} + \\left(\\lambda^{o}\\right)^{6} + 4 \\left(\\lambda^{o}\\right)^{5} \\mu + 10 \\left(\\lambda^{o}\\right)^{4} \\mu^{2} + 19 \\left(\\lambda^{o}\\right)^{3} \\mu^{3} + 20 \\left(\\lambda^{o}\\right)^{2} \\mu^{4} + 15 \\lambda^{o} \\mu^{5} + 6 \\mu^{6}\\right)}{\\mu^{3} \\left(\\left(\\lambda^{A}\\right)^{4} + 3 \\left(\\lambda^{A}\\right)^{3} \\lambda^{o} + 6 \\left(\\lambda^{A}\\right)^{3} \\mu + 3 \\left(\\lambda^{A}\\right)^{2} \\left(\\lambda^{o}\\right)^{2} + 9 \\left(\\lambda^{A}\\right)^{2} \\lambda^{o} \\mu + 12 \\left(\\lambda^{A}\\right)^{2} \\mu^{2} + \\lambda^{A} \\left(\\lambda^{o}\\right)^{3} + 4 \\lambda^{A} \\left(\\lambda^{o}\\right)^{2} \\mu + 9 \\lambda^{A} \\lambda^{o} \\mu^{2} + 10 \\lambda^{A} \\mu^{3} + \\left(\\lambda^{o}\\right)^{3} \\mu + 2 \\left(\\lambda^{o}\\right)^{2} \\mu^{2} + 3 \\lambda^{o} \\mu^{3} + 3 \\mu^{4}\\right)} & \\frac{\\lambda^{A} \\left(\\left(\\lambda^{A}\\right)^{6} + 6 \\left(\\lambda^{A}\\right)^{5} \\lambda^{o} + 7 \\left(\\lambda^{A}\\right)^{5} \\mu + 15 \\left(\\lambda^{A}\\right)^{4} \\left(\\lambda^{o}\\right)^{2} + 32 \\left(\\lambda^{A}\\right)^{4} \\lambda^{o} \\mu + 22 \\left(\\lambda^{A}\\right)^{4} \\mu^{2} + 20 \\left(\\lambda^{A}\\right)^{3} \\left(\\lambda^{o}\\right)^{3} + 58 \\left(\\lambda^{A}\\right)^{3} \\left(\\lambda^{o}\\right)^{2} \\mu + 73 \\left(\\lambda^{A}\\right)^{3} \\lambda^{o} \\mu^{2} + 41 \\left(\\lambda^{A}\\right)^{3} \\mu^{3} + 15 \\left(\\lambda^{A}\\right)^{2} \\left(\\lambda^{o}\\right)^{4} + 52 \\left(\\lambda^{A}\\right)^{2} \\left(\\lambda^{o}\\right)^{3} \\mu + 90 \\left(\\lambda^{A}\\right)^{2} \\left(\\lambda^{o}\\right)^{2} \\mu^{2} + 92 \\left(\\lambda^{A}\\right)^{2} \\lambda^{o} \\mu^{3} + 49 \\left(\\lambda^{A}\\right)^{2} \\mu^{4} + 6 \\lambda^{A} \\left(\\lambda^{o}\\right)^{5} + 23 \\lambda^{A} \\left(\\lambda^{o}\\right)^{4} \\mu + 49 \\lambda^{A} \\left(\\lambda^{o}\\right)^{3} \\mu^{2} + 69 \\lambda^{A} \\left(\\lambda^{o}\\right)^{2} \\mu^{3} + 65 \\lambda^{A} \\lambda^{o} \\mu^{4} + 34 \\lambda^{A} \\mu^{5} + \\left(\\lambda^{o}\\right)^{6} + 4 \\left(\\lambda^{o}\\right)^{5} \\mu + 10 \\left(\\lambda^{o}\\right)^{4} \\mu^{2} + 20 \\left(\\lambda^{o}\\right)^{3} \\mu^{3} + 22 \\left(\\lambda^{o}\\right)^{2} \\mu^{4} + 18 \\lambda^{o} \\mu^{5} + 10 \\mu^{6}\\right)}{\\mu^{4} \\left(\\left(\\lambda^{A}\\right)^{3} + 3 \\left(\\lambda^{A}\\right)^{2} \\lambda^{o} + 6 \\left(\\lambda^{A}\\right)^{2} \\mu + 3 \\lambda^{A} \\left(\\lambda^{o}\\right)^{2} + 8 \\lambda^{A} \\lambda^{o} \\mu + 9 \\lambda^{A} \\mu^{2} + \\left(\\lambda^{o}\\right)^{3} + 2 \\left(\\lambda^{o}\\right)^{2} \\mu + 3 \\lambda^{o} \\mu^{2} + 4 \\mu^{3}\\right)}\\end{matrix}\\right]$"
      ],
      "text/plain": [
       "Matrix([\n",
       "[1,                                                                                                                                                                                                                                                                                                                                                                                                                                                                                                                                                                                                                                                                                                                                                                                                                                                                                                                                                                          Lambda/mu,                                                                                                                                                                                                                                                                                                                                                                                                                                                                                                                                                                                                                                                                                                                                                                                                                                                                                                                                                                                                               lambda_1*(lambda_2**2 + lambda_2*lambda_1 + 2*lambda_2*mu + mu**2)/(lambda_2**3 + 2*lambda_2**2*lambda_1 + 3*lambda_2**2*mu + lambda_2*lambda_1**2 + 2*lambda_2*lambda_1*mu + 3*lambda_2*mu**2 + mu**3),                                                                                                                                                                                                                                                                                                                                                                                                                                                                                                                                                                                                                                                                                                                                                                                                                                                                                                                                                                                lambda_1*(lambda_2 + mu)/(lambda_2**2 + lambda_2*lambda_1 + 2*lambda_2*mu + mu**2),                                                                                                                                                                                                                                                                                                                                                                                                                                                                                                                                                                                                                                                                                                                                                                                                                                                                                                                        lambda_1/(lambda_2 + mu)],\n",
       "[0,                                                                                                                                                                                                                                                                                                                                                                                                                                                                                                                                                                                                                                                                                                                            lambda_2*(lambda_2 + lambda_1 + mu)*(lambda_2**2 + 2*lambda_2*lambda_1 + 2*lambda_2*mu + lambda_1**2 + mu**2)/(mu*(lambda_2**3 + 2*lambda_2**2*lambda_1 + 3*lambda_2**2*mu + lambda_2*lambda_1**2 + 2*lambda_2*lambda_1*mu + 3*lambda_2*mu**2 + mu**3)),                                                                                                                                                                                                                                                                                                                                                                                                                                                                                                                                    lambda_2*(lambda_2**5 + 4*lambda_2**4*lambda_1 + 6*lambda_2**4*mu + 6*lambda_2**3*lambda_1**2 + 15*lambda_2**3*lambda_1*mu + 14*lambda_2**3*mu**2 + 4*lambda_2**2*lambda_1**3 + 12*lambda_2**2*lambda_1**2*mu + 20*lambda_2**2*lambda_1*mu**2 + 16*lambda_2**2*mu**3 + lambda_2*lambda_1**4 + 3*lambda_2*lambda_1**3*mu + 6*lambda_2*lambda_1**2*mu**2 + 11*lambda_2*lambda_1*mu**3 + 9*lambda_2*mu**4 + lambda_1**3*mu**2 + 2*lambda_1**2*mu**3 + 2*lambda_1*mu**4 + 2*mu**5)/(mu*(lambda_2**2 + lambda_2*lambda_1 + 2*lambda_2*mu + mu**2)*(lambda_2**3 + 2*lambda_2**2*lambda_1 + 3*lambda_2**2*mu + lambda_2*lambda_1**2 + 2*lambda_2*lambda_1*mu + 3*lambda_2*mu**2 + mu**3)),                                                                                                                                                                                                                                                                                                                                                                                                                                                                                                                                                                                lambda_2*(lambda_2**4 + 3*lambda_2**3*lambda_1 + 6*lambda_2**3*mu + 3*lambda_2**2*lambda_1**2 + 9*lambda_2**2*lambda_1*mu + 12*lambda_2**2*mu**2 + lambda_2*lambda_1**3 + 4*lambda_2*lambda_1**2*mu + 9*lambda_2*lambda_1*mu**2 + 10*lambda_2*mu**3 + lambda_1**3*mu + 2*lambda_1**2*mu**2 + 3*lambda_1*mu**3 + 3*mu**4)/(mu*(lambda_2 + mu)*(lambda_2**3 + 2*lambda_2**2*lambda_1 + 3*lambda_2**2*mu + lambda_2*lambda_1**2 + 2*lambda_2*lambda_1*mu + 3*lambda_2*mu**2 + mu**3)),                                                                                                                                                                                                                                                                                                                                                                                                                                                                                                                                                                                                 lambda_2*(lambda_2**3 + 3*lambda_2**2*lambda_1 + 6*lambda_2**2*mu + 3*lambda_2*lambda_1**2 + 8*lambda_2*lambda_1*mu + 9*lambda_2*mu**2 + lambda_1**3 + 2*lambda_1**2*mu + 3*lambda_1*mu**2 + 4*mu**3)/(mu*(lambda_2**3 + 2*lambda_2**2*lambda_1 + 3*lambda_2**2*mu + lambda_2*lambda_1**2 + 2*lambda_2*lambda_1*mu + 3*lambda_2*mu**2 + mu**3))],\n",
       "[0, lambda_2*(lambda_2**6 + 6*lambda_2**5*lambda_1 + 6*lambda_2**5*mu + 15*lambda_2**4*lambda_1**2 + 27*lambda_2**4*lambda_1*mu + 15*lambda_2**4*mu**2 + 20*lambda_2**3*lambda_1**3 + 48*lambda_2**3*lambda_1**2*mu + 48*lambda_2**3*lambda_1*mu**2 + 20*lambda_2**3*mu**3 + 15*lambda_2**2*lambda_1**4 + 42*lambda_2**2*lambda_1**3*mu + 57*lambda_2**2*lambda_1**2*mu**2 + 42*lambda_2**2*lambda_1*mu**3 + 15*lambda_2**2*mu**4 + 6*lambda_2*lambda_1**5 + 18*lambda_2*lambda_1**4*mu + 30*lambda_2*lambda_1**3*mu**2 + 30*lambda_2*lambda_1**2*mu**3 + 18*lambda_2*lambda_1*mu**4 + 6*lambda_2*mu**5 + lambda_1**6 + 3*lambda_1**5*mu + 6*lambda_1**4*mu**2 + 10*lambda_1**3*mu**3 + 6*lambda_1**2*mu**4 + 3*lambda_1*mu**5 + mu**6)/(mu*(lambda_2 + lambda_1 + mu)*(lambda_2**2 + 2*lambda_2*lambda_1 + 2*lambda_2*mu + lambda_1**2 + mu**2)*(lambda_2**3 + 2*lambda_2**2*lambda_1 + 3*lambda_2**2*mu + lambda_2*lambda_1**2 + 2*lambda_2*lambda_1*mu + 3*lambda_2*mu**2 + mu**3)), lambda_2*(lambda_2**6 + 6*lambda_2**5*lambda_1 + 7*lambda_2**5*mu + 15*lambda_2**4*lambda_1**2 + 32*lambda_2**4*lambda_1*mu + 21*lambda_2**4*mu**2 + 20*lambda_2**3*lambda_1**3 + 58*lambda_2**3*lambda_1**2*mu + 69*lambda_2**3*lambda_1*mu**2 + 34*lambda_2**3*mu**3 + 15*lambda_2**2*lambda_1**4 + 52*lambda_2**2*lambda_1**3*mu + 84*lambda_2**2*lambda_1**2*mu**2 + 74*lambda_2**2*lambda_1*mu**3 + 31*lambda_2**2*mu**4 + 6*lambda_2*lambda_1**5 + 23*lambda_2*lambda_1**4*mu + 45*lambda_2*lambda_1**3*mu**2 + 54*lambda_2*lambda_1**2*mu**3 + 39*lambda_2*lambda_1*mu**4 + 15*lambda_2*mu**5 + lambda_1**6 + 4*lambda_1**5*mu + 9*lambda_1**4*mu**2 + 16*lambda_1**3*mu**3 + 15*lambda_1**2*mu**4 + 8*lambda_1*mu**5 + 3*mu**6)/(mu**2*(lambda_2**5 + 4*lambda_2**4*lambda_1 + 6*lambda_2**4*mu + 6*lambda_2**3*lambda_1**2 + 15*lambda_2**3*lambda_1*mu + 14*lambda_2**3*mu**2 + 4*lambda_2**2*lambda_1**3 + 12*lambda_2**2*lambda_1**2*mu + 20*lambda_2**2*lambda_1*mu**2 + 16*lambda_2**2*mu**3 + lambda_2*lambda_1**4 + 3*lambda_2*lambda_1**3*mu + 6*lambda_2*lambda_1**2*mu**2 + 11*lambda_2*lambda_1*mu**3 + 9*lambda_2*mu**4 + lambda_1**3*mu**2 + 2*lambda_1**2*mu**3 + 2*lambda_1*mu**4 + 2*mu**5)), lambda_2*(lambda_2**6 + 6*lambda_2**5*lambda_1 + 7*lambda_2**5*mu + 15*lambda_2**4*lambda_1**2 + 32*lambda_2**4*lambda_1*mu + 22*lambda_2**4*mu**2 + 20*lambda_2**3*lambda_1**3 + 58*lambda_2**3*lambda_1**2*mu + 73*lambda_2**3*lambda_1*mu**2 + 40*lambda_2**3*mu**3 + 15*lambda_2**2*lambda_1**4 + 52*lambda_2**2*lambda_1**3*mu + 90*lambda_2**2*lambda_1**2*mu**2 + 89*lambda_2**2*lambda_1*mu**3 + 43*lambda_2**2*mu**4 + 6*lambda_2*lambda_1**5 + 23*lambda_2*lambda_1**4*mu + 49*lambda_2*lambda_1**3*mu**2 + 66*lambda_2*lambda_1**2*mu**3 + 57*lambda_2*lambda_1*mu**4 + 25*lambda_2*mu**5 + lambda_1**6 + 4*lambda_1**5*mu + 10*lambda_1**4*mu**2 + 19*lambda_1**3*mu**3 + 20*lambda_1**2*mu**4 + 15*lambda_1*mu**5 + 6*mu**6)/(mu**3*(lambda_2**4 + 3*lambda_2**3*lambda_1 + 6*lambda_2**3*mu + 3*lambda_2**2*lambda_1**2 + 9*lambda_2**2*lambda_1*mu + 12*lambda_2**2*mu**2 + lambda_2*lambda_1**3 + 4*lambda_2*lambda_1**2*mu + 9*lambda_2*lambda_1*mu**2 + 10*lambda_2*mu**3 + lambda_1**3*mu + 2*lambda_1**2*mu**2 + 3*lambda_1*mu**3 + 3*mu**4)), lambda_2*(lambda_2**6 + 6*lambda_2**5*lambda_1 + 7*lambda_2**5*mu + 15*lambda_2**4*lambda_1**2 + 32*lambda_2**4*lambda_1*mu + 22*lambda_2**4*mu**2 + 20*lambda_2**3*lambda_1**3 + 58*lambda_2**3*lambda_1**2*mu + 73*lambda_2**3*lambda_1*mu**2 + 41*lambda_2**3*mu**3 + 15*lambda_2**2*lambda_1**4 + 52*lambda_2**2*lambda_1**3*mu + 90*lambda_2**2*lambda_1**2*mu**2 + 92*lambda_2**2*lambda_1*mu**3 + 49*lambda_2**2*mu**4 + 6*lambda_2*lambda_1**5 + 23*lambda_2*lambda_1**4*mu + 49*lambda_2*lambda_1**3*mu**2 + 69*lambda_2*lambda_1**2*mu**3 + 65*lambda_2*lambda_1*mu**4 + 34*lambda_2*mu**5 + lambda_1**6 + 4*lambda_1**5*mu + 10*lambda_1**4*mu**2 + 20*lambda_1**3*mu**3 + 22*lambda_1**2*mu**4 + 18*lambda_1*mu**5 + 10*mu**6)/(mu**4*(lambda_2**3 + 3*lambda_2**2*lambda_1 + 6*lambda_2**2*mu + 3*lambda_2*lambda_1**2 + 8*lambda_2*lambda_1*mu + 9*lambda_2*mu**2 + lambda_1**3 + 2*lambda_1**2*mu + 3*lambda_1*mu**2 + 4*mu**3))]])"
      ]
     },
     "execution_count": 17,
     "metadata": {},
     "output_type": "execute_result"
    }
   ],
   "source": [
    "sym_state_recursive_ratios_1142"
   ]
  },
  {
   "cell_type": "code",
   "execution_count": 18,
   "metadata": {},
   "outputs": [
    {
     "data": {
      "text/latex": [
       "$\\displaystyle \\left[\\begin{matrix}1 & \\frac{\\Lambda}{\\mu} & \\frac{\\lambda^{o} \\left(\\left(\\lambda^{A}\\right)^{2} + \\lambda^{A} \\lambda^{o} + 2 \\lambda^{A} \\mu + \\mu^{2}\\right)}{\\left(\\lambda^{A}\\right)^{3} + 2 \\left(\\lambda^{A}\\right)^{2} \\lambda^{o} + 3 \\left(\\lambda^{A}\\right)^{2} \\mu + \\lambda^{A} \\left(\\lambda^{o}\\right)^{2} + 2 \\lambda^{A} \\lambda^{o} \\mu + 3 \\lambda^{A} \\mu^{2} + \\mu^{3}} & \\frac{\\lambda^{o} \\left(\\lambda^{A} + \\mu\\right)}{\\left(\\lambda^{A}\\right)^{2} + \\lambda^{A} \\lambda^{o} + 2 \\lambda^{A} \\mu + \\mu^{2}} & \\frac{\\lambda^{o}}{\\lambda^{A} + \\mu}\\\\0 & \\frac{\\lambda^{A} \\left(\\lambda^{A} + \\lambda^{o} + \\mu\\right) \\left(\\left(\\lambda^{A}\\right)^{2} + 2 \\lambda^{A} \\lambda^{o} + 2 \\lambda^{A} \\mu + \\left(\\lambda^{o}\\right)^{2} + \\mu^{2}\\right)}{\\mu \\left(\\left(\\lambda^{A}\\right)^{3} + 2 \\left(\\lambda^{A}\\right)^{2} \\lambda^{o} + 3 \\left(\\lambda^{A}\\right)^{2} \\mu + \\lambda^{A} \\left(\\lambda^{o}\\right)^{2} + 2 \\lambda^{A} \\lambda^{o} \\mu + 3 \\lambda^{A} \\mu^{2} + \\mu^{3}\\right)} & \\frac{\\lambda^{o} \\left(\\left(\\lambda^{A}\\right)^{5} + 4 \\left(\\lambda^{A}\\right)^{4} \\lambda^{o} + 6 \\left(\\lambda^{A}\\right)^{4} \\mu + 6 \\left(\\lambda^{A}\\right)^{3} \\left(\\lambda^{o}\\right)^{2} + 15 \\left(\\lambda^{A}\\right)^{3} \\lambda^{o} \\mu + 14 \\left(\\lambda^{A}\\right)^{3} \\mu^{2} + 4 \\left(\\lambda^{A}\\right)^{2} \\left(\\lambda^{o}\\right)^{3} + 12 \\left(\\lambda^{A}\\right)^{2} \\left(\\lambda^{o}\\right)^{2} \\mu + 20 \\left(\\lambda^{A}\\right)^{2} \\lambda^{o} \\mu^{2} + 16 \\left(\\lambda^{A}\\right)^{2} \\mu^{3} + \\lambda^{A} \\left(\\lambda^{o}\\right)^{4} + 3 \\lambda^{A} \\left(\\lambda^{o}\\right)^{3} \\mu + 6 \\lambda^{A} \\left(\\lambda^{o}\\right)^{2} \\mu^{2} + 11 \\lambda^{A} \\lambda^{o} \\mu^{3} + 9 \\lambda^{A} \\mu^{4} + \\left(\\lambda^{o}\\right)^{3} \\mu^{2} + 2 \\left(\\lambda^{o}\\right)^{2} \\mu^{3} + 2 \\lambda^{o} \\mu^{4} + 2 \\mu^{5}\\right)}{\\left(\\lambda^{A} + \\lambda^{o} + \\mu\\right) \\left(\\left(\\lambda^{A}\\right)^{2} + 2 \\lambda^{A} \\lambda^{o} + 2 \\lambda^{A} \\mu + \\left(\\lambda^{o}\\right)^{2} + \\mu^{2}\\right) \\left(\\left(\\lambda^{A}\\right)^{3} + 2 \\left(\\lambda^{A}\\right)^{2} \\lambda^{o} + 3 \\left(\\lambda^{A}\\right)^{2} \\mu + \\lambda^{A} \\left(\\lambda^{o}\\right)^{2} + 2 \\lambda^{A} \\lambda^{o} \\mu + 3 \\lambda^{A} \\mu^{2} + \\mu^{3}\\right)} & \\frac{\\lambda^{o} \\left(\\left(\\lambda^{A}\\right)^{4} + 3 \\left(\\lambda^{A}\\right)^{3} \\lambda^{o} + 6 \\left(\\lambda^{A}\\right)^{3} \\mu + 3 \\left(\\lambda^{A}\\right)^{2} \\left(\\lambda^{o}\\right)^{2} + 9 \\left(\\lambda^{A}\\right)^{2} \\lambda^{o} \\mu + 12 \\left(\\lambda^{A}\\right)^{2} \\mu^{2} + \\lambda^{A} \\left(\\lambda^{o}\\right)^{3} + 4 \\lambda^{A} \\left(\\lambda^{o}\\right)^{2} \\mu + 9 \\lambda^{A} \\lambda^{o} \\mu^{2} + 10 \\lambda^{A} \\mu^{3} + \\left(\\lambda^{o}\\right)^{3} \\mu + 2 \\left(\\lambda^{o}\\right)^{2} \\mu^{2} + 3 \\lambda^{o} \\mu^{3} + 3 \\mu^{4}\\right)}{\\left(\\lambda^{A}\\right)^{5} + 4 \\left(\\lambda^{A}\\right)^{4} \\lambda^{o} + 6 \\left(\\lambda^{A}\\right)^{4} \\mu + 6 \\left(\\lambda^{A}\\right)^{3} \\left(\\lambda^{o}\\right)^{2} + 15 \\left(\\lambda^{A}\\right)^{3} \\lambda^{o} \\mu + 14 \\left(\\lambda^{A}\\right)^{3} \\mu^{2} + 4 \\left(\\lambda^{A}\\right)^{2} \\left(\\lambda^{o}\\right)^{3} + 12 \\left(\\lambda^{A}\\right)^{2} \\left(\\lambda^{o}\\right)^{2} \\mu + 20 \\left(\\lambda^{A}\\right)^{2} \\lambda^{o} \\mu^{2} + 16 \\left(\\lambda^{A}\\right)^{2} \\mu^{3} + \\lambda^{A} \\left(\\lambda^{o}\\right)^{4} + 3 \\lambda^{A} \\left(\\lambda^{o}\\right)^{3} \\mu + 6 \\lambda^{A} \\left(\\lambda^{o}\\right)^{2} \\mu^{2} + 11 \\lambda^{A} \\lambda^{o} \\mu^{3} + 9 \\lambda^{A} \\mu^{4} + \\left(\\lambda^{o}\\right)^{3} \\mu^{2} + 2 \\left(\\lambda^{o}\\right)^{2} \\mu^{3} + 2 \\lambda^{o} \\mu^{4} + 2 \\mu^{5}} & \\frac{\\lambda^{o} \\left(\\left(\\lambda^{A}\\right)^{3} + 3 \\left(\\lambda^{A}\\right)^{2} \\lambda^{o} + 6 \\left(\\lambda^{A}\\right)^{2} \\mu + 3 \\lambda^{A} \\left(\\lambda^{o}\\right)^{2} + 8 \\lambda^{A} \\lambda^{o} \\mu + 9 \\lambda^{A} \\mu^{2} + \\left(\\lambda^{o}\\right)^{3} + 2 \\left(\\lambda^{o}\\right)^{2} \\mu + 3 \\lambda^{o} \\mu^{2} + 4 \\mu^{3}\\right)}{\\left(\\lambda^{A}\\right)^{4} + 3 \\left(\\lambda^{A}\\right)^{3} \\lambda^{o} + 6 \\left(\\lambda^{A}\\right)^{3} \\mu + 3 \\left(\\lambda^{A}\\right)^{2} \\left(\\lambda^{o}\\right)^{2} + 9 \\left(\\lambda^{A}\\right)^{2} \\lambda^{o} \\mu + 12 \\left(\\lambda^{A}\\right)^{2} \\mu^{2} + \\lambda^{A} \\left(\\lambda^{o}\\right)^{3} + 4 \\lambda^{A} \\left(\\lambda^{o}\\right)^{2} \\mu + 9 \\lambda^{A} \\lambda^{o} \\mu^{2} + 10 \\lambda^{A} \\mu^{3} + \\left(\\lambda^{o}\\right)^{3} \\mu + 2 \\left(\\lambda^{o}\\right)^{2} \\mu^{2} + 3 \\lambda^{o} \\mu^{3} + 3 \\mu^{4}}\\\\0 & \\frac{\\lambda^{A} \\left(\\left(\\lambda^{A}\\right)^{6} + 6 \\left(\\lambda^{A}\\right)^{5} \\lambda^{o} + 6 \\left(\\lambda^{A}\\right)^{5} \\mu + 15 \\left(\\lambda^{A}\\right)^{4} \\left(\\lambda^{o}\\right)^{2} + 27 \\left(\\lambda^{A}\\right)^{4} \\lambda^{o} \\mu + 15 \\left(\\lambda^{A}\\right)^{4} \\mu^{2} + 20 \\left(\\lambda^{A}\\right)^{3} \\left(\\lambda^{o}\\right)^{3} + 48 \\left(\\lambda^{A}\\right)^{3} \\left(\\lambda^{o}\\right)^{2} \\mu + 48 \\left(\\lambda^{A}\\right)^{3} \\lambda^{o} \\mu^{2} + 20 \\left(\\lambda^{A}\\right)^{3} \\mu^{3} + 15 \\left(\\lambda^{A}\\right)^{2} \\left(\\lambda^{o}\\right)^{4} + 42 \\left(\\lambda^{A}\\right)^{2} \\left(\\lambda^{o}\\right)^{3} \\mu + 57 \\left(\\lambda^{A}\\right)^{2} \\left(\\lambda^{o}\\right)^{2} \\mu^{2} + 42 \\left(\\lambda^{A}\\right)^{2} \\lambda^{o} \\mu^{3} + 15 \\left(\\lambda^{A}\\right)^{2} \\mu^{4} + 6 \\lambda^{A} \\left(\\lambda^{o}\\right)^{5} + 18 \\lambda^{A} \\left(\\lambda^{o}\\right)^{4} \\mu + 30 \\lambda^{A} \\left(\\lambda^{o}\\right)^{3} \\mu^{2} + 30 \\lambda^{A} \\left(\\lambda^{o}\\right)^{2} \\mu^{3} + 18 \\lambda^{A} \\lambda^{o} \\mu^{4} + 6 \\lambda^{A} \\mu^{5} + \\left(\\lambda^{o}\\right)^{6} + 3 \\left(\\lambda^{o}\\right)^{5} \\mu + 6 \\left(\\lambda^{o}\\right)^{4} \\mu^{2} + 10 \\left(\\lambda^{o}\\right)^{3} \\mu^{3} + 6 \\left(\\lambda^{o}\\right)^{2} \\mu^{4} + 3 \\lambda^{o} \\mu^{5} + \\mu^{6}\\right)}{\\mu \\left(\\lambda^{A} + \\lambda^{o} + \\mu\\right) \\left(\\left(\\lambda^{A}\\right)^{2} + 2 \\lambda^{A} \\lambda^{o} + 2 \\lambda^{A} \\mu + \\left(\\lambda^{o}\\right)^{2} + \\mu^{2}\\right) \\left(\\left(\\lambda^{A}\\right)^{3} + 2 \\left(\\lambda^{A}\\right)^{2} \\lambda^{o} + 3 \\left(\\lambda^{A}\\right)^{2} \\mu + \\lambda^{A} \\left(\\lambda^{o}\\right)^{2} + 2 \\lambda^{A} \\lambda^{o} \\mu + 3 \\lambda^{A} \\mu^{2} + \\mu^{3}\\right)} & \\frac{\\lambda^{o} \\left(\\left(\\lambda^{A}\\right)^{6} + 6 \\left(\\lambda^{A}\\right)^{5} \\lambda^{o} + 7 \\left(\\lambda^{A}\\right)^{5} \\mu + 15 \\left(\\lambda^{A}\\right)^{4} \\left(\\lambda^{o}\\right)^{2} + 32 \\left(\\lambda^{A}\\right)^{4} \\lambda^{o} \\mu + 21 \\left(\\lambda^{A}\\right)^{4} \\mu^{2} + 20 \\left(\\lambda^{A}\\right)^{3} \\left(\\lambda^{o}\\right)^{3} + 58 \\left(\\lambda^{A}\\right)^{3} \\left(\\lambda^{o}\\right)^{2} \\mu + 69 \\left(\\lambda^{A}\\right)^{3} \\lambda^{o} \\mu^{2} + 34 \\left(\\lambda^{A}\\right)^{3} \\mu^{3} + 15 \\left(\\lambda^{A}\\right)^{2} \\left(\\lambda^{o}\\right)^{4} + 52 \\left(\\lambda^{A}\\right)^{2} \\left(\\lambda^{o}\\right)^{3} \\mu + 84 \\left(\\lambda^{A}\\right)^{2} \\left(\\lambda^{o}\\right)^{2} \\mu^{2} + 74 \\left(\\lambda^{A}\\right)^{2} \\lambda^{o} \\mu^{3} + 31 \\left(\\lambda^{A}\\right)^{2} \\mu^{4} + 6 \\lambda^{A} \\left(\\lambda^{o}\\right)^{5} + 23 \\lambda^{A} \\left(\\lambda^{o}\\right)^{4} \\mu + 45 \\lambda^{A} \\left(\\lambda^{o}\\right)^{3} \\mu^{2} + 54 \\lambda^{A} \\left(\\lambda^{o}\\right)^{2} \\mu^{3} + 39 \\lambda^{A} \\lambda^{o} \\mu^{4} + 15 \\lambda^{A} \\mu^{5} + \\left(\\lambda^{o}\\right)^{6} + 4 \\left(\\lambda^{o}\\right)^{5} \\mu + 9 \\left(\\lambda^{o}\\right)^{4} \\mu^{2} + 16 \\left(\\lambda^{o}\\right)^{3} \\mu^{3} + 15 \\left(\\lambda^{o}\\right)^{2} \\mu^{4} + 8 \\lambda^{o} \\mu^{5} + 3 \\mu^{6}\\right)}{\\mu \\left(\\left(\\lambda^{A}\\right)^{6} + 6 \\left(\\lambda^{A}\\right)^{5} \\lambda^{o} + 6 \\left(\\lambda^{A}\\right)^{5} \\mu + 15 \\left(\\lambda^{A}\\right)^{4} \\left(\\lambda^{o}\\right)^{2} + 27 \\left(\\lambda^{A}\\right)^{4} \\lambda^{o} \\mu + 15 \\left(\\lambda^{A}\\right)^{4} \\mu^{2} + 20 \\left(\\lambda^{A}\\right)^{3} \\left(\\lambda^{o}\\right)^{3} + 48 \\left(\\lambda^{A}\\right)^{3} \\left(\\lambda^{o}\\right)^{2} \\mu + 48 \\left(\\lambda^{A}\\right)^{3} \\lambda^{o} \\mu^{2} + 20 \\left(\\lambda^{A}\\right)^{3} \\mu^{3} + 15 \\left(\\lambda^{A}\\right)^{2} \\left(\\lambda^{o}\\right)^{4} + 42 \\left(\\lambda^{A}\\right)^{2} \\left(\\lambda^{o}\\right)^{3} \\mu + 57 \\left(\\lambda^{A}\\right)^{2} \\left(\\lambda^{o}\\right)^{2} \\mu^{2} + 42 \\left(\\lambda^{A}\\right)^{2} \\lambda^{o} \\mu^{3} + 15 \\left(\\lambda^{A}\\right)^{2} \\mu^{4} + 6 \\lambda^{A} \\left(\\lambda^{o}\\right)^{5} + 18 \\lambda^{A} \\left(\\lambda^{o}\\right)^{4} \\mu + 30 \\lambda^{A} \\left(\\lambda^{o}\\right)^{3} \\mu^{2} + 30 \\lambda^{A} \\left(\\lambda^{o}\\right)^{2} \\mu^{3} + 18 \\lambda^{A} \\lambda^{o} \\mu^{4} + 6 \\lambda^{A} \\mu^{5} + \\left(\\lambda^{o}\\right)^{6} + 3 \\left(\\lambda^{o}\\right)^{5} \\mu + 6 \\left(\\lambda^{o}\\right)^{4} \\mu^{2} + 10 \\left(\\lambda^{o}\\right)^{3} \\mu^{3} + 6 \\left(\\lambda^{o}\\right)^{2} \\mu^{4} + 3 \\lambda^{o} \\mu^{5} + \\mu^{6}\\right)} & \\frac{\\lambda^{o} \\left(\\left(\\lambda^{A}\\right)^{6} + 6 \\left(\\lambda^{A}\\right)^{5} \\lambda^{o} + 7 \\left(\\lambda^{A}\\right)^{5} \\mu + 15 \\left(\\lambda^{A}\\right)^{4} \\left(\\lambda^{o}\\right)^{2} + 32 \\left(\\lambda^{A}\\right)^{4} \\lambda^{o} \\mu + 22 \\left(\\lambda^{A}\\right)^{4} \\mu^{2} + 20 \\left(\\lambda^{A}\\right)^{3} \\left(\\lambda^{o}\\right)^{3} + 58 \\left(\\lambda^{A}\\right)^{3} \\left(\\lambda^{o}\\right)^{2} \\mu + 73 \\left(\\lambda^{A}\\right)^{3} \\lambda^{o} \\mu^{2} + 40 \\left(\\lambda^{A}\\right)^{3} \\mu^{3} + 15 \\left(\\lambda^{A}\\right)^{2} \\left(\\lambda^{o}\\right)^{4} + 52 \\left(\\lambda^{A}\\right)^{2} \\left(\\lambda^{o}\\right)^{3} \\mu + 90 \\left(\\lambda^{A}\\right)^{2} \\left(\\lambda^{o}\\right)^{2} \\mu^{2} + 89 \\left(\\lambda^{A}\\right)^{2} \\lambda^{o} \\mu^{3} + 43 \\left(\\lambda^{A}\\right)^{2} \\mu^{4} + 6 \\lambda^{A} \\left(\\lambda^{o}\\right)^{5} + 23 \\lambda^{A} \\left(\\lambda^{o}\\right)^{4} \\mu + 49 \\lambda^{A} \\left(\\lambda^{o}\\right)^{3} \\mu^{2} + 66 \\lambda^{A} \\left(\\lambda^{o}\\right)^{2} \\mu^{3} + 57 \\lambda^{A} \\lambda^{o} \\mu^{4} + 25 \\lambda^{A} \\mu^{5} + \\left(\\lambda^{o}\\right)^{6} + 4 \\left(\\lambda^{o}\\right)^{5} \\mu + 10 \\left(\\lambda^{o}\\right)^{4} \\mu^{2} + 19 \\left(\\lambda^{o}\\right)^{3} \\mu^{3} + 20 \\left(\\lambda^{o}\\right)^{2} \\mu^{4} + 15 \\lambda^{o} \\mu^{5} + 6 \\mu^{6}\\right)}{\\mu \\left(\\left(\\lambda^{A}\\right)^{6} + 6 \\left(\\lambda^{A}\\right)^{5} \\lambda^{o} + 7 \\left(\\lambda^{A}\\right)^{5} \\mu + 15 \\left(\\lambda^{A}\\right)^{4} \\left(\\lambda^{o}\\right)^{2} + 32 \\left(\\lambda^{A}\\right)^{4} \\lambda^{o} \\mu + 21 \\left(\\lambda^{A}\\right)^{4} \\mu^{2} + 20 \\left(\\lambda^{A}\\right)^{3} \\left(\\lambda^{o}\\right)^{3} + 58 \\left(\\lambda^{A}\\right)^{3} \\left(\\lambda^{o}\\right)^{2} \\mu + 69 \\left(\\lambda^{A}\\right)^{3} \\lambda^{o} \\mu^{2} + 34 \\left(\\lambda^{A}\\right)^{3} \\mu^{3} + 15 \\left(\\lambda^{A}\\right)^{2} \\left(\\lambda^{o}\\right)^{4} + 52 \\left(\\lambda^{A}\\right)^{2} \\left(\\lambda^{o}\\right)^{3} \\mu + 84 \\left(\\lambda^{A}\\right)^{2} \\left(\\lambda^{o}\\right)^{2} \\mu^{2} + 74 \\left(\\lambda^{A}\\right)^{2} \\lambda^{o} \\mu^{3} + 31 \\left(\\lambda^{A}\\right)^{2} \\mu^{4} + 6 \\lambda^{A} \\left(\\lambda^{o}\\right)^{5} + 23 \\lambda^{A} \\left(\\lambda^{o}\\right)^{4} \\mu + 45 \\lambda^{A} \\left(\\lambda^{o}\\right)^{3} \\mu^{2} + 54 \\lambda^{A} \\left(\\lambda^{o}\\right)^{2} \\mu^{3} + 39 \\lambda^{A} \\lambda^{o} \\mu^{4} + 15 \\lambda^{A} \\mu^{5} + \\left(\\lambda^{o}\\right)^{6} + 4 \\left(\\lambda^{o}\\right)^{5} \\mu + 9 \\left(\\lambda^{o}\\right)^{4} \\mu^{2} + 16 \\left(\\lambda^{o}\\right)^{3} \\mu^{3} + 15 \\left(\\lambda^{o}\\right)^{2} \\mu^{4} + 8 \\lambda^{o} \\mu^{5} + 3 \\mu^{6}\\right)} & \\frac{\\lambda^{o} \\left(\\left(\\lambda^{A}\\right)^{6} + 6 \\left(\\lambda^{A}\\right)^{5} \\lambda^{o} + 7 \\left(\\lambda^{A}\\right)^{5} \\mu + 15 \\left(\\lambda^{A}\\right)^{4} \\left(\\lambda^{o}\\right)^{2} + 32 \\left(\\lambda^{A}\\right)^{4} \\lambda^{o} \\mu + 22 \\left(\\lambda^{A}\\right)^{4} \\mu^{2} + 20 \\left(\\lambda^{A}\\right)^{3} \\left(\\lambda^{o}\\right)^{3} + 58 \\left(\\lambda^{A}\\right)^{3} \\left(\\lambda^{o}\\right)^{2} \\mu + 73 \\left(\\lambda^{A}\\right)^{3} \\lambda^{o} \\mu^{2} + 41 \\left(\\lambda^{A}\\right)^{3} \\mu^{3} + 15 \\left(\\lambda^{A}\\right)^{2} \\left(\\lambda^{o}\\right)^{4} + 52 \\left(\\lambda^{A}\\right)^{2} \\left(\\lambda^{o}\\right)^{3} \\mu + 90 \\left(\\lambda^{A}\\right)^{2} \\left(\\lambda^{o}\\right)^{2} \\mu^{2} + 92 \\left(\\lambda^{A}\\right)^{2} \\lambda^{o} \\mu^{3} + 49 \\left(\\lambda^{A}\\right)^{2} \\mu^{4} + 6 \\lambda^{A} \\left(\\lambda^{o}\\right)^{5} + 23 \\lambda^{A} \\left(\\lambda^{o}\\right)^{4} \\mu + 49 \\lambda^{A} \\left(\\lambda^{o}\\right)^{3} \\mu^{2} + 69 \\lambda^{A} \\left(\\lambda^{o}\\right)^{2} \\mu^{3} + 65 \\lambda^{A} \\lambda^{o} \\mu^{4} + 34 \\lambda^{A} \\mu^{5} + \\left(\\lambda^{o}\\right)^{6} + 4 \\left(\\lambda^{o}\\right)^{5} \\mu + 10 \\left(\\lambda^{o}\\right)^{4} \\mu^{2} + 20 \\left(\\lambda^{o}\\right)^{3} \\mu^{3} + 22 \\left(\\lambda^{o}\\right)^{2} \\mu^{4} + 18 \\lambda^{o} \\mu^{5} + 10 \\mu^{6}\\right)}{\\mu \\left(\\left(\\lambda^{A}\\right)^{6} + 6 \\left(\\lambda^{A}\\right)^{5} \\lambda^{o} + 7 \\left(\\lambda^{A}\\right)^{5} \\mu + 15 \\left(\\lambda^{A}\\right)^{4} \\left(\\lambda^{o}\\right)^{2} + 32 \\left(\\lambda^{A}\\right)^{4} \\lambda^{o} \\mu + 22 \\left(\\lambda^{A}\\right)^{4} \\mu^{2} + 20 \\left(\\lambda^{A}\\right)^{3} \\left(\\lambda^{o}\\right)^{3} + 58 \\left(\\lambda^{A}\\right)^{3} \\left(\\lambda^{o}\\right)^{2} \\mu + 73 \\left(\\lambda^{A}\\right)^{3} \\lambda^{o} \\mu^{2} + 40 \\left(\\lambda^{A}\\right)^{3} \\mu^{3} + 15 \\left(\\lambda^{A}\\right)^{2} \\left(\\lambda^{o}\\right)^{4} + 52 \\left(\\lambda^{A}\\right)^{2} \\left(\\lambda^{o}\\right)^{3} \\mu + 90 \\left(\\lambda^{A}\\right)^{2} \\left(\\lambda^{o}\\right)^{2} \\mu^{2} + 89 \\left(\\lambda^{A}\\right)^{2} \\lambda^{o} \\mu^{3} + 43 \\left(\\lambda^{A}\\right)^{2} \\mu^{4} + 6 \\lambda^{A} \\left(\\lambda^{o}\\right)^{5} + 23 \\lambda^{A} \\left(\\lambda^{o}\\right)^{4} \\mu + 49 \\lambda^{A} \\left(\\lambda^{o}\\right)^{3} \\mu^{2} + 66 \\lambda^{A} \\left(\\lambda^{o}\\right)^{2} \\mu^{3} + 57 \\lambda^{A} \\lambda^{o} \\mu^{4} + 25 \\lambda^{A} \\mu^{5} + \\left(\\lambda^{o}\\right)^{6} + 4 \\left(\\lambda^{o}\\right)^{5} \\mu + 10 \\left(\\lambda^{o}\\right)^{4} \\mu^{2} + 19 \\left(\\lambda^{o}\\right)^{3} \\mu^{3} + 20 \\left(\\lambda^{o}\\right)^{2} \\mu^{4} + 15 \\lambda^{o} \\mu^{5} + 6 \\mu^{6}\\right)}\\end{matrix}\\right]$"
      ],
      "text/plain": [
       "Matrix([\n",
       "[1,                                                                                                                                                                                                                                                                                                                                                                                                                                                                                                                                                                                                                                                                                                                                                                                                                                                                                                                                                                          Lambda/mu,                                                                                                                                                                                                                                                                                                                                                                                                                                                                                                                                                                                                                                                                                                                                                                                                                                                                                                                                                                                                                                                                                                                                                                                                                                                                 lambda_1*(lambda_2**2 + lambda_2*lambda_1 + 2*lambda_2*mu + mu**2)/(lambda_2**3 + 2*lambda_2**2*lambda_1 + 3*lambda_2**2*mu + lambda_2*lambda_1**2 + 2*lambda_2*lambda_1*mu + 3*lambda_2*mu**2 + mu**3),                                                                                                                                                                                                                                                                                                                                                                                                                                                                                                                                                                                                                                                                                                                                                                                                                                                                                                                                                                                                                                                                                                                                                                                                                                                                                                                                                                                            lambda_1*(lambda_2 + mu)/(lambda_2**2 + lambda_2*lambda_1 + 2*lambda_2*mu + mu**2),                                                                                                                                                                                                                                                                                                                                                                                                                                                                                                                                                                                                                                                                                                                                                                                                                                                                                                                                                                                                                                                                                                                                                                                                                                                                                                                                                                                                                                                         lambda_1/(lambda_2 + mu)],\n",
       "[0,                                                                                                                                                                                                                                                                                                                                                                                                                                                                                                                                                                                                                                                                                                                            lambda_2*(lambda_2 + lambda_1 + mu)*(lambda_2**2 + 2*lambda_2*lambda_1 + 2*lambda_2*mu + lambda_1**2 + mu**2)/(mu*(lambda_2**3 + 2*lambda_2**2*lambda_1 + 3*lambda_2**2*mu + lambda_2*lambda_1**2 + 2*lambda_2*lambda_1*mu + 3*lambda_2*mu**2 + mu**3)),                                                                                                                                                                                                                                                                                                                                                                                                                                                                                                                                                                                                                                                                                                                                              lambda_1*(lambda_2**5 + 4*lambda_2**4*lambda_1 + 6*lambda_2**4*mu + 6*lambda_2**3*lambda_1**2 + 15*lambda_2**3*lambda_1*mu + 14*lambda_2**3*mu**2 + 4*lambda_2**2*lambda_1**3 + 12*lambda_2**2*lambda_1**2*mu + 20*lambda_2**2*lambda_1*mu**2 + 16*lambda_2**2*mu**3 + lambda_2*lambda_1**4 + 3*lambda_2*lambda_1**3*mu + 6*lambda_2*lambda_1**2*mu**2 + 11*lambda_2*lambda_1*mu**3 + 9*lambda_2*mu**4 + lambda_1**3*mu**2 + 2*lambda_1**2*mu**3 + 2*lambda_1*mu**4 + 2*mu**5)/((lambda_2 + lambda_1 + mu)*(lambda_2**2 + 2*lambda_2*lambda_1 + 2*lambda_2*mu + lambda_1**2 + mu**2)*(lambda_2**3 + 2*lambda_2**2*lambda_1 + 3*lambda_2**2*mu + lambda_2*lambda_1**2 + 2*lambda_2*lambda_1*mu + 3*lambda_2*mu**2 + mu**3)),                                                                                                                                                                                                                                                                                                                                                                                                                                                                                                                                                                                                                                                                                lambda_1*(lambda_2**4 + 3*lambda_2**3*lambda_1 + 6*lambda_2**3*mu + 3*lambda_2**2*lambda_1**2 + 9*lambda_2**2*lambda_1*mu + 12*lambda_2**2*mu**2 + lambda_2*lambda_1**3 + 4*lambda_2*lambda_1**2*mu + 9*lambda_2*lambda_1*mu**2 + 10*lambda_2*mu**3 + lambda_1**3*mu + 2*lambda_1**2*mu**2 + 3*lambda_1*mu**3 + 3*mu**4)/(lambda_2**5 + 4*lambda_2**4*lambda_1 + 6*lambda_2**4*mu + 6*lambda_2**3*lambda_1**2 + 15*lambda_2**3*lambda_1*mu + 14*lambda_2**3*mu**2 + 4*lambda_2**2*lambda_1**3 + 12*lambda_2**2*lambda_1**2*mu + 20*lambda_2**2*lambda_1*mu**2 + 16*lambda_2**2*mu**3 + lambda_2*lambda_1**4 + 3*lambda_2*lambda_1**3*mu + 6*lambda_2*lambda_1**2*mu**2 + 11*lambda_2*lambda_1*mu**3 + 9*lambda_2*mu**4 + lambda_1**3*mu**2 + 2*lambda_1**2*mu**3 + 2*lambda_1*mu**4 + 2*mu**5),                                                                                                                                                                                                                                                                                                                                                                                                                                                                                                                                                                                                                                                                                                                                                                                                                                                                                                                                                            lambda_1*(lambda_2**3 + 3*lambda_2**2*lambda_1 + 6*lambda_2**2*mu + 3*lambda_2*lambda_1**2 + 8*lambda_2*lambda_1*mu + 9*lambda_2*mu**2 + lambda_1**3 + 2*lambda_1**2*mu + 3*lambda_1*mu**2 + 4*mu**3)/(lambda_2**4 + 3*lambda_2**3*lambda_1 + 6*lambda_2**3*mu + 3*lambda_2**2*lambda_1**2 + 9*lambda_2**2*lambda_1*mu + 12*lambda_2**2*mu**2 + lambda_2*lambda_1**3 + 4*lambda_2*lambda_1**2*mu + 9*lambda_2*lambda_1*mu**2 + 10*lambda_2*mu**3 + lambda_1**3*mu + 2*lambda_1**2*mu**2 + 3*lambda_1*mu**3 + 3*mu**4)],\n",
       "[0, lambda_2*(lambda_2**6 + 6*lambda_2**5*lambda_1 + 6*lambda_2**5*mu + 15*lambda_2**4*lambda_1**2 + 27*lambda_2**4*lambda_1*mu + 15*lambda_2**4*mu**2 + 20*lambda_2**3*lambda_1**3 + 48*lambda_2**3*lambda_1**2*mu + 48*lambda_2**3*lambda_1*mu**2 + 20*lambda_2**3*mu**3 + 15*lambda_2**2*lambda_1**4 + 42*lambda_2**2*lambda_1**3*mu + 57*lambda_2**2*lambda_1**2*mu**2 + 42*lambda_2**2*lambda_1*mu**3 + 15*lambda_2**2*mu**4 + 6*lambda_2*lambda_1**5 + 18*lambda_2*lambda_1**4*mu + 30*lambda_2*lambda_1**3*mu**2 + 30*lambda_2*lambda_1**2*mu**3 + 18*lambda_2*lambda_1*mu**4 + 6*lambda_2*mu**5 + lambda_1**6 + 3*lambda_1**5*mu + 6*lambda_1**4*mu**2 + 10*lambda_1**3*mu**3 + 6*lambda_1**2*mu**4 + 3*lambda_1*mu**5 + mu**6)/(mu*(lambda_2 + lambda_1 + mu)*(lambda_2**2 + 2*lambda_2*lambda_1 + 2*lambda_2*mu + lambda_1**2 + mu**2)*(lambda_2**3 + 2*lambda_2**2*lambda_1 + 3*lambda_2**2*mu + lambda_2*lambda_1**2 + 2*lambda_2*lambda_1*mu + 3*lambda_2*mu**2 + mu**3)), lambda_1*(lambda_2**6 + 6*lambda_2**5*lambda_1 + 7*lambda_2**5*mu + 15*lambda_2**4*lambda_1**2 + 32*lambda_2**4*lambda_1*mu + 21*lambda_2**4*mu**2 + 20*lambda_2**3*lambda_1**3 + 58*lambda_2**3*lambda_1**2*mu + 69*lambda_2**3*lambda_1*mu**2 + 34*lambda_2**3*mu**3 + 15*lambda_2**2*lambda_1**4 + 52*lambda_2**2*lambda_1**3*mu + 84*lambda_2**2*lambda_1**2*mu**2 + 74*lambda_2**2*lambda_1*mu**3 + 31*lambda_2**2*mu**4 + 6*lambda_2*lambda_1**5 + 23*lambda_2*lambda_1**4*mu + 45*lambda_2*lambda_1**3*mu**2 + 54*lambda_2*lambda_1**2*mu**3 + 39*lambda_2*lambda_1*mu**4 + 15*lambda_2*mu**5 + lambda_1**6 + 4*lambda_1**5*mu + 9*lambda_1**4*mu**2 + 16*lambda_1**3*mu**3 + 15*lambda_1**2*mu**4 + 8*lambda_1*mu**5 + 3*mu**6)/(mu*(lambda_2**6 + 6*lambda_2**5*lambda_1 + 6*lambda_2**5*mu + 15*lambda_2**4*lambda_1**2 + 27*lambda_2**4*lambda_1*mu + 15*lambda_2**4*mu**2 + 20*lambda_2**3*lambda_1**3 + 48*lambda_2**3*lambda_1**2*mu + 48*lambda_2**3*lambda_1*mu**2 + 20*lambda_2**3*mu**3 + 15*lambda_2**2*lambda_1**4 + 42*lambda_2**2*lambda_1**3*mu + 57*lambda_2**2*lambda_1**2*mu**2 + 42*lambda_2**2*lambda_1*mu**3 + 15*lambda_2**2*mu**4 + 6*lambda_2*lambda_1**5 + 18*lambda_2*lambda_1**4*mu + 30*lambda_2*lambda_1**3*mu**2 + 30*lambda_2*lambda_1**2*mu**3 + 18*lambda_2*lambda_1*mu**4 + 6*lambda_2*mu**5 + lambda_1**6 + 3*lambda_1**5*mu + 6*lambda_1**4*mu**2 + 10*lambda_1**3*mu**3 + 6*lambda_1**2*mu**4 + 3*lambda_1*mu**5 + mu**6)), lambda_1*(lambda_2**6 + 6*lambda_2**5*lambda_1 + 7*lambda_2**5*mu + 15*lambda_2**4*lambda_1**2 + 32*lambda_2**4*lambda_1*mu + 22*lambda_2**4*mu**2 + 20*lambda_2**3*lambda_1**3 + 58*lambda_2**3*lambda_1**2*mu + 73*lambda_2**3*lambda_1*mu**2 + 40*lambda_2**3*mu**3 + 15*lambda_2**2*lambda_1**4 + 52*lambda_2**2*lambda_1**3*mu + 90*lambda_2**2*lambda_1**2*mu**2 + 89*lambda_2**2*lambda_1*mu**3 + 43*lambda_2**2*mu**4 + 6*lambda_2*lambda_1**5 + 23*lambda_2*lambda_1**4*mu + 49*lambda_2*lambda_1**3*mu**2 + 66*lambda_2*lambda_1**2*mu**3 + 57*lambda_2*lambda_1*mu**4 + 25*lambda_2*mu**5 + lambda_1**6 + 4*lambda_1**5*mu + 10*lambda_1**4*mu**2 + 19*lambda_1**3*mu**3 + 20*lambda_1**2*mu**4 + 15*lambda_1*mu**5 + 6*mu**6)/(mu*(lambda_2**6 + 6*lambda_2**5*lambda_1 + 7*lambda_2**5*mu + 15*lambda_2**4*lambda_1**2 + 32*lambda_2**4*lambda_1*mu + 21*lambda_2**4*mu**2 + 20*lambda_2**3*lambda_1**3 + 58*lambda_2**3*lambda_1**2*mu + 69*lambda_2**3*lambda_1*mu**2 + 34*lambda_2**3*mu**3 + 15*lambda_2**2*lambda_1**4 + 52*lambda_2**2*lambda_1**3*mu + 84*lambda_2**2*lambda_1**2*mu**2 + 74*lambda_2**2*lambda_1*mu**3 + 31*lambda_2**2*mu**4 + 6*lambda_2*lambda_1**5 + 23*lambda_2*lambda_1**4*mu + 45*lambda_2*lambda_1**3*mu**2 + 54*lambda_2*lambda_1**2*mu**3 + 39*lambda_2*lambda_1*mu**4 + 15*lambda_2*mu**5 + lambda_1**6 + 4*lambda_1**5*mu + 9*lambda_1**4*mu**2 + 16*lambda_1**3*mu**3 + 15*lambda_1**2*mu**4 + 8*lambda_1*mu**5 + 3*mu**6)), lambda_1*(lambda_2**6 + 6*lambda_2**5*lambda_1 + 7*lambda_2**5*mu + 15*lambda_2**4*lambda_1**2 + 32*lambda_2**4*lambda_1*mu + 22*lambda_2**4*mu**2 + 20*lambda_2**3*lambda_1**3 + 58*lambda_2**3*lambda_1**2*mu + 73*lambda_2**3*lambda_1*mu**2 + 41*lambda_2**3*mu**3 + 15*lambda_2**2*lambda_1**4 + 52*lambda_2**2*lambda_1**3*mu + 90*lambda_2**2*lambda_1**2*mu**2 + 92*lambda_2**2*lambda_1*mu**3 + 49*lambda_2**2*mu**4 + 6*lambda_2*lambda_1**5 + 23*lambda_2*lambda_1**4*mu + 49*lambda_2*lambda_1**3*mu**2 + 69*lambda_2*lambda_1**2*mu**3 + 65*lambda_2*lambda_1*mu**4 + 34*lambda_2*mu**5 + lambda_1**6 + 4*lambda_1**5*mu + 10*lambda_1**4*mu**2 + 20*lambda_1**3*mu**3 + 22*lambda_1**2*mu**4 + 18*lambda_1*mu**5 + 10*mu**6)/(mu*(lambda_2**6 + 6*lambda_2**5*lambda_1 + 7*lambda_2**5*mu + 15*lambda_2**4*lambda_1**2 + 32*lambda_2**4*lambda_1*mu + 22*lambda_2**4*mu**2 + 20*lambda_2**3*lambda_1**3 + 58*lambda_2**3*lambda_1**2*mu + 73*lambda_2**3*lambda_1*mu**2 + 40*lambda_2**3*mu**3 + 15*lambda_2**2*lambda_1**4 + 52*lambda_2**2*lambda_1**3*mu + 90*lambda_2**2*lambda_1**2*mu**2 + 89*lambda_2**2*lambda_1*mu**3 + 43*lambda_2**2*mu**4 + 6*lambda_2*lambda_1**5 + 23*lambda_2*lambda_1**4*mu + 49*lambda_2*lambda_1**3*mu**2 + 66*lambda_2*lambda_1**2*mu**3 + 57*lambda_2*lambda_1*mu**4 + 25*lambda_2*mu**5 + lambda_1**6 + 4*lambda_1**5*mu + 10*lambda_1**4*mu**2 + 19*lambda_1**3*mu**3 + 20*lambda_1**2*mu**4 + 15*lambda_1*mu**5 + 6*mu**6))]])"
      ]
     },
     "execution_count": 18,
     "metadata": {},
     "output_type": "execute_result"
    }
   ],
   "source": [
    "sym_state_recursive_ratios_right_1142"
   ]
  },
  {
   "cell_type": "code",
   "execution_count": 19,
   "metadata": {},
   "outputs": [
    {
     "data": {
      "text/latex": [
       "$\\displaystyle \\left[\\begin{matrix}1 & \\frac{\\Lambda}{\\mu} & \\frac{\\Lambda \\lambda^{o} \\left(\\left(\\lambda^{A}\\right)^{2} + \\lambda^{A} \\lambda^{o} + 2 \\lambda^{A} \\mu + \\mu^{2}\\right)}{\\mu \\left(\\left(\\lambda^{A}\\right)^{3} + 2 \\left(\\lambda^{A}\\right)^{2} \\lambda^{o} + 3 \\left(\\lambda^{A}\\right)^{2} \\mu + \\lambda^{A} \\left(\\lambda^{o}\\right)^{2} + 2 \\lambda^{A} \\lambda^{o} \\mu + 3 \\lambda^{A} \\mu^{2} + \\mu^{3}\\right)} & \\frac{\\Lambda \\left(\\lambda^{o}\\right)^{2} \\left(\\lambda^{A} + \\mu\\right)}{\\mu \\left(\\left(\\lambda^{A}\\right)^{3} + 2 \\left(\\lambda^{A}\\right)^{2} \\lambda^{o} + 3 \\left(\\lambda^{A}\\right)^{2} \\mu + \\lambda^{A} \\left(\\lambda^{o}\\right)^{2} + 2 \\lambda^{A} \\lambda^{o} \\mu + 3 \\lambda^{A} \\mu^{2} + \\mu^{3}\\right)} & \\frac{\\Lambda \\left(\\lambda^{o}\\right)^{3}}{\\mu \\left(\\left(\\lambda^{A}\\right)^{3} + 2 \\left(\\lambda^{A}\\right)^{2} \\lambda^{o} + 3 \\left(\\lambda^{A}\\right)^{2} \\mu + \\lambda^{A} \\left(\\lambda^{o}\\right)^{2} + 2 \\lambda^{A} \\lambda^{o} \\mu + 3 \\lambda^{A} \\mu^{2} + \\mu^{3}\\right)}\\\\0 & \\frac{\\Lambda \\lambda^{A} \\left(\\lambda^{A} + \\lambda^{o} + \\mu\\right) \\left(\\left(\\lambda^{A}\\right)^{2} + 2 \\lambda^{A} \\lambda^{o} + 2 \\lambda^{A} \\mu + \\left(\\lambda^{o}\\right)^{2} + \\mu^{2}\\right)}{\\mu^{2} \\left(\\left(\\lambda^{A}\\right)^{3} + 2 \\left(\\lambda^{A}\\right)^{2} \\lambda^{o} + 3 \\left(\\lambda^{A}\\right)^{2} \\mu + \\lambda^{A} \\left(\\lambda^{o}\\right)^{2} + 2 \\lambda^{A} \\lambda^{o} \\mu + 3 \\lambda^{A} \\mu^{2} + \\mu^{3}\\right)} & \\frac{\\Lambda \\lambda^{A} \\lambda^{o} \\left(\\left(\\lambda^{A}\\right)^{5} + 4 \\left(\\lambda^{A}\\right)^{4} \\lambda^{o} + 6 \\left(\\lambda^{A}\\right)^{4} \\mu + 6 \\left(\\lambda^{A}\\right)^{3} \\left(\\lambda^{o}\\right)^{2} + 15 \\left(\\lambda^{A}\\right)^{3} \\lambda^{o} \\mu + 14 \\left(\\lambda^{A}\\right)^{3} \\mu^{2} + 4 \\left(\\lambda^{A}\\right)^{2} \\left(\\lambda^{o}\\right)^{3} + 12 \\left(\\lambda^{A}\\right)^{2} \\left(\\lambda^{o}\\right)^{2} \\mu + 20 \\left(\\lambda^{A}\\right)^{2} \\lambda^{o} \\mu^{2} + 16 \\left(\\lambda^{A}\\right)^{2} \\mu^{3} + \\lambda^{A} \\left(\\lambda^{o}\\right)^{4} + 3 \\lambda^{A} \\left(\\lambda^{o}\\right)^{3} \\mu + 6 \\lambda^{A} \\left(\\lambda^{o}\\right)^{2} \\mu^{2} + 11 \\lambda^{A} \\lambda^{o} \\mu^{3} + 9 \\lambda^{A} \\mu^{4} + \\left(\\lambda^{o}\\right)^{3} \\mu^{2} + 2 \\left(\\lambda^{o}\\right)^{2} \\mu^{3} + 2 \\lambda^{o} \\mu^{4} + 2 \\mu^{5}\\right)}{\\mu^{2} \\left(\\left(\\lambda^{A}\\right)^{3} + 2 \\left(\\lambda^{A}\\right)^{2} \\lambda^{o} + 3 \\left(\\lambda^{A}\\right)^{2} \\mu + \\lambda^{A} \\left(\\lambda^{o}\\right)^{2} + 2 \\lambda^{A} \\lambda^{o} \\mu + 3 \\lambda^{A} \\mu^{2} + \\mu^{3}\\right)^{2}} & \\frac{\\Lambda \\lambda^{A} \\left(\\lambda^{o}\\right)^{2} \\left(\\left(\\lambda^{A}\\right)^{4} + 3 \\left(\\lambda^{A}\\right)^{3} \\lambda^{o} + 6 \\left(\\lambda^{A}\\right)^{3} \\mu + 3 \\left(\\lambda^{A}\\right)^{2} \\left(\\lambda^{o}\\right)^{2} + 9 \\left(\\lambda^{A}\\right)^{2} \\lambda^{o} \\mu + 12 \\left(\\lambda^{A}\\right)^{2} \\mu^{2} + \\lambda^{A} \\left(\\lambda^{o}\\right)^{3} + 4 \\lambda^{A} \\left(\\lambda^{o}\\right)^{2} \\mu + 9 \\lambda^{A} \\lambda^{o} \\mu^{2} + 10 \\lambda^{A} \\mu^{3} + \\left(\\lambda^{o}\\right)^{3} \\mu + 2 \\left(\\lambda^{o}\\right)^{2} \\mu^{2} + 3 \\lambda^{o} \\mu^{3} + 3 \\mu^{4}\\right)}{\\mu^{2} \\left(\\left(\\lambda^{A}\\right)^{3} + 2 \\left(\\lambda^{A}\\right)^{2} \\lambda^{o} + 3 \\left(\\lambda^{A}\\right)^{2} \\mu + \\lambda^{A} \\left(\\lambda^{o}\\right)^{2} + 2 \\lambda^{A} \\lambda^{o} \\mu + 3 \\lambda^{A} \\mu^{2} + \\mu^{3}\\right)^{2}} & \\frac{\\Lambda \\lambda^{A} \\left(\\lambda^{o}\\right)^{3} \\left(\\left(\\lambda^{A}\\right)^{3} + 3 \\left(\\lambda^{A}\\right)^{2} \\lambda^{o} + 6 \\left(\\lambda^{A}\\right)^{2} \\mu + 3 \\lambda^{A} \\left(\\lambda^{o}\\right)^{2} + 8 \\lambda^{A} \\lambda^{o} \\mu + 9 \\lambda^{A} \\mu^{2} + \\left(\\lambda^{o}\\right)^{3} + 2 \\left(\\lambda^{o}\\right)^{2} \\mu + 3 \\lambda^{o} \\mu^{2} + 4 \\mu^{3}\\right)}{\\mu^{2} \\left(\\left(\\lambda^{A}\\right)^{3} + 2 \\left(\\lambda^{A}\\right)^{2} \\lambda^{o} + 3 \\left(\\lambda^{A}\\right)^{2} \\mu + \\lambda^{A} \\left(\\lambda^{o}\\right)^{2} + 2 \\lambda^{A} \\lambda^{o} \\mu + 3 \\lambda^{A} \\mu^{2} + \\mu^{3}\\right)^{2}}\\\\0 & \\frac{\\Lambda \\left(\\lambda^{A}\\right)^{2} \\left(\\left(\\lambda^{A}\\right)^{6} + 6 \\left(\\lambda^{A}\\right)^{5} \\lambda^{o} + 6 \\left(\\lambda^{A}\\right)^{5} \\mu + 15 \\left(\\lambda^{A}\\right)^{4} \\left(\\lambda^{o}\\right)^{2} + 27 \\left(\\lambda^{A}\\right)^{4} \\lambda^{o} \\mu + 15 \\left(\\lambda^{A}\\right)^{4} \\mu^{2} + 20 \\left(\\lambda^{A}\\right)^{3} \\left(\\lambda^{o}\\right)^{3} + 48 \\left(\\lambda^{A}\\right)^{3} \\left(\\lambda^{o}\\right)^{2} \\mu + 48 \\left(\\lambda^{A}\\right)^{3} \\lambda^{o} \\mu^{2} + 20 \\left(\\lambda^{A}\\right)^{3} \\mu^{3} + 15 \\left(\\lambda^{A}\\right)^{2} \\left(\\lambda^{o}\\right)^{4} + 42 \\left(\\lambda^{A}\\right)^{2} \\left(\\lambda^{o}\\right)^{3} \\mu + 57 \\left(\\lambda^{A}\\right)^{2} \\left(\\lambda^{o}\\right)^{2} \\mu^{2} + 42 \\left(\\lambda^{A}\\right)^{2} \\lambda^{o} \\mu^{3} + 15 \\left(\\lambda^{A}\\right)^{2} \\mu^{4} + 6 \\lambda^{A} \\left(\\lambda^{o}\\right)^{5} + 18 \\lambda^{A} \\left(\\lambda^{o}\\right)^{4} \\mu + 30 \\lambda^{A} \\left(\\lambda^{o}\\right)^{3} \\mu^{2} + 30 \\lambda^{A} \\left(\\lambda^{o}\\right)^{2} \\mu^{3} + 18 \\lambda^{A} \\lambda^{o} \\mu^{4} + 6 \\lambda^{A} \\mu^{5} + \\left(\\lambda^{o}\\right)^{6} + 3 \\left(\\lambda^{o}\\right)^{5} \\mu + 6 \\left(\\lambda^{o}\\right)^{4} \\mu^{2} + 10 \\left(\\lambda^{o}\\right)^{3} \\mu^{3} + 6 \\left(\\lambda^{o}\\right)^{2} \\mu^{4} + 3 \\lambda^{o} \\mu^{5} + \\mu^{6}\\right)}{\\mu^{3} \\left(\\left(\\lambda^{A}\\right)^{3} + 2 \\left(\\lambda^{A}\\right)^{2} \\lambda^{o} + 3 \\left(\\lambda^{A}\\right)^{2} \\mu + \\lambda^{A} \\left(\\lambda^{o}\\right)^{2} + 2 \\lambda^{A} \\lambda^{o} \\mu + 3 \\lambda^{A} \\mu^{2} + \\mu^{3}\\right)^{2}} & \\frac{\\Lambda \\left(\\lambda^{A}\\right)^{2} \\lambda^{o} \\left(\\left(\\lambda^{A}\\right)^{6} + 6 \\left(\\lambda^{A}\\right)^{5} \\lambda^{o} + 7 \\left(\\lambda^{A}\\right)^{5} \\mu + 15 \\left(\\lambda^{A}\\right)^{4} \\left(\\lambda^{o}\\right)^{2} + 32 \\left(\\lambda^{A}\\right)^{4} \\lambda^{o} \\mu + 21 \\left(\\lambda^{A}\\right)^{4} \\mu^{2} + 20 \\left(\\lambda^{A}\\right)^{3} \\left(\\lambda^{o}\\right)^{3} + 58 \\left(\\lambda^{A}\\right)^{3} \\left(\\lambda^{o}\\right)^{2} \\mu + 69 \\left(\\lambda^{A}\\right)^{3} \\lambda^{o} \\mu^{2} + 34 \\left(\\lambda^{A}\\right)^{3} \\mu^{3} + 15 \\left(\\lambda^{A}\\right)^{2} \\left(\\lambda^{o}\\right)^{4} + 52 \\left(\\lambda^{A}\\right)^{2} \\left(\\lambda^{o}\\right)^{3} \\mu + 84 \\left(\\lambda^{A}\\right)^{2} \\left(\\lambda^{o}\\right)^{2} \\mu^{2} + 74 \\left(\\lambda^{A}\\right)^{2} \\lambda^{o} \\mu^{3} + 31 \\left(\\lambda^{A}\\right)^{2} \\mu^{4} + 6 \\lambda^{A} \\left(\\lambda^{o}\\right)^{5} + 23 \\lambda^{A} \\left(\\lambda^{o}\\right)^{4} \\mu + 45 \\lambda^{A} \\left(\\lambda^{o}\\right)^{3} \\mu^{2} + 54 \\lambda^{A} \\left(\\lambda^{o}\\right)^{2} \\mu^{3} + 39 \\lambda^{A} \\lambda^{o} \\mu^{4} + 15 \\lambda^{A} \\mu^{5} + \\left(\\lambda^{o}\\right)^{6} + 4 \\left(\\lambda^{o}\\right)^{5} \\mu + 9 \\left(\\lambda^{o}\\right)^{4} \\mu^{2} + 16 \\left(\\lambda^{o}\\right)^{3} \\mu^{3} + 15 \\left(\\lambda^{o}\\right)^{2} \\mu^{4} + 8 \\lambda^{o} \\mu^{5} + 3 \\mu^{6}\\right)}{\\mu^{4} \\left(\\left(\\lambda^{A}\\right)^{3} + 2 \\left(\\lambda^{A}\\right)^{2} \\lambda^{o} + 3 \\left(\\lambda^{A}\\right)^{2} \\mu + \\lambda^{A} \\left(\\lambda^{o}\\right)^{2} + 2 \\lambda^{A} \\lambda^{o} \\mu + 3 \\lambda^{A} \\mu^{2} + \\mu^{3}\\right)^{2}} & \\frac{\\Lambda \\left(\\lambda^{A}\\right)^{2} \\left(\\lambda^{o}\\right)^{2} \\left(\\left(\\lambda^{A}\\right)^{6} + 6 \\left(\\lambda^{A}\\right)^{5} \\lambda^{o} + 7 \\left(\\lambda^{A}\\right)^{5} \\mu + 15 \\left(\\lambda^{A}\\right)^{4} \\left(\\lambda^{o}\\right)^{2} + 32 \\left(\\lambda^{A}\\right)^{4} \\lambda^{o} \\mu + 22 \\left(\\lambda^{A}\\right)^{4} \\mu^{2} + 20 \\left(\\lambda^{A}\\right)^{3} \\left(\\lambda^{o}\\right)^{3} + 58 \\left(\\lambda^{A}\\right)^{3} \\left(\\lambda^{o}\\right)^{2} \\mu + 73 \\left(\\lambda^{A}\\right)^{3} \\lambda^{o} \\mu^{2} + 40 \\left(\\lambda^{A}\\right)^{3} \\mu^{3} + 15 \\left(\\lambda^{A}\\right)^{2} \\left(\\lambda^{o}\\right)^{4} + 52 \\left(\\lambda^{A}\\right)^{2} \\left(\\lambda^{o}\\right)^{3} \\mu + 90 \\left(\\lambda^{A}\\right)^{2} \\left(\\lambda^{o}\\right)^{2} \\mu^{2} + 89 \\left(\\lambda^{A}\\right)^{2} \\lambda^{o} \\mu^{3} + 43 \\left(\\lambda^{A}\\right)^{2} \\mu^{4} + 6 \\lambda^{A} \\left(\\lambda^{o}\\right)^{5} + 23 \\lambda^{A} \\left(\\lambda^{o}\\right)^{4} \\mu + 49 \\lambda^{A} \\left(\\lambda^{o}\\right)^{3} \\mu^{2} + 66 \\lambda^{A} \\left(\\lambda^{o}\\right)^{2} \\mu^{3} + 57 \\lambda^{A} \\lambda^{o} \\mu^{4} + 25 \\lambda^{A} \\mu^{5} + \\left(\\lambda^{o}\\right)^{6} + 4 \\left(\\lambda^{o}\\right)^{5} \\mu + 10 \\left(\\lambda^{o}\\right)^{4} \\mu^{2} + 19 \\left(\\lambda^{o}\\right)^{3} \\mu^{3} + 20 \\left(\\lambda^{o}\\right)^{2} \\mu^{4} + 15 \\lambda^{o} \\mu^{5} + 6 \\mu^{6}\\right)}{\\mu^{5} \\left(\\left(\\lambda^{A}\\right)^{3} + 2 \\left(\\lambda^{A}\\right)^{2} \\lambda^{o} + 3 \\left(\\lambda^{A}\\right)^{2} \\mu + \\lambda^{A} \\left(\\lambda^{o}\\right)^{2} + 2 \\lambda^{A} \\lambda^{o} \\mu + 3 \\lambda^{A} \\mu^{2} + \\mu^{3}\\right)^{2}} & \\frac{\\Lambda \\left(\\lambda^{A}\\right)^{2} \\left(\\lambda^{o}\\right)^{3} \\left(\\left(\\lambda^{A}\\right)^{6} + 6 \\left(\\lambda^{A}\\right)^{5} \\lambda^{o} + 7 \\left(\\lambda^{A}\\right)^{5} \\mu + 15 \\left(\\lambda^{A}\\right)^{4} \\left(\\lambda^{o}\\right)^{2} + 32 \\left(\\lambda^{A}\\right)^{4} \\lambda^{o} \\mu + 22 \\left(\\lambda^{A}\\right)^{4} \\mu^{2} + 20 \\left(\\lambda^{A}\\right)^{3} \\left(\\lambda^{o}\\right)^{3} + 58 \\left(\\lambda^{A}\\right)^{3} \\left(\\lambda^{o}\\right)^{2} \\mu + 73 \\left(\\lambda^{A}\\right)^{3} \\lambda^{o} \\mu^{2} + 41 \\left(\\lambda^{A}\\right)^{3} \\mu^{3} + 15 \\left(\\lambda^{A}\\right)^{2} \\left(\\lambda^{o}\\right)^{4} + 52 \\left(\\lambda^{A}\\right)^{2} \\left(\\lambda^{o}\\right)^{3} \\mu + 90 \\left(\\lambda^{A}\\right)^{2} \\left(\\lambda^{o}\\right)^{2} \\mu^{2} + 92 \\left(\\lambda^{A}\\right)^{2} \\lambda^{o} \\mu^{3} + 49 \\left(\\lambda^{A}\\right)^{2} \\mu^{4} + 6 \\lambda^{A} \\left(\\lambda^{o}\\right)^{5} + 23 \\lambda^{A} \\left(\\lambda^{o}\\right)^{4} \\mu + 49 \\lambda^{A} \\left(\\lambda^{o}\\right)^{3} \\mu^{2} + 69 \\lambda^{A} \\left(\\lambda^{o}\\right)^{2} \\mu^{3} + 65 \\lambda^{A} \\lambda^{o} \\mu^{4} + 34 \\lambda^{A} \\mu^{5} + \\left(\\lambda^{o}\\right)^{6} + 4 \\left(\\lambda^{o}\\right)^{5} \\mu + 10 \\left(\\lambda^{o}\\right)^{4} \\mu^{2} + 20 \\left(\\lambda^{o}\\right)^{3} \\mu^{3} + 22 \\left(\\lambda^{o}\\right)^{2} \\mu^{4} + 18 \\lambda^{o} \\mu^{5} + 10 \\mu^{6}\\right)}{\\mu^{6} \\left(\\left(\\lambda^{A}\\right)^{3} + 2 \\left(\\lambda^{A}\\right)^{2} \\lambda^{o} + 3 \\left(\\lambda^{A}\\right)^{2} \\mu + \\lambda^{A} \\left(\\lambda^{o}\\right)^{2} + 2 \\lambda^{A} \\lambda^{o} \\mu + 3 \\lambda^{A} \\mu^{2} + \\mu^{3}\\right)^{2}}\\end{matrix}\\right]$"
      ],
      "text/plain": [
       "Matrix([\n",
       "[1,                                                                                                                                                                                                                                                                                                                                                                                                                                                                                                                                                                                                                                                                                                                                                                                                                                                                                     Lambda/mu,                                                                                                                                                                                                                                                                                                                                                                                                                                                                                                                                                                                                                                                                                        Lambda*lambda_1*(lambda_2**2 + lambda_2*lambda_1 + 2*lambda_2*mu + mu**2)/(mu*(lambda_2**3 + 2*lambda_2**2*lambda_1 + 3*lambda_2**2*mu + lambda_2*lambda_1**2 + 2*lambda_2*lambda_1*mu + 3*lambda_2*mu**2 + mu**3)),                                                                                                                                                                                                                                                                                                                                                                                                                                                                                                                                                                                                                                                                                                                                    Lambda*lambda_1**2*(lambda_2 + mu)/(mu*(lambda_2**3 + 2*lambda_2**2*lambda_1 + 3*lambda_2**2*mu + lambda_2*lambda_1**2 + 2*lambda_2*lambda_1*mu + 3*lambda_2*mu**2 + mu**3)),                                                                                                                                                                                                                                                                                                                                                                                                                                                                                                                                                                                                                                                                                                                                                     Lambda*lambda_1**3/(mu*(lambda_2**3 + 2*lambda_2**2*lambda_1 + 3*lambda_2**2*mu + lambda_2*lambda_1**2 + 2*lambda_2*lambda_1*mu + 3*lambda_2*mu**2 + mu**3))],\n",
       "[0,                                                                                                                                                                                                                                                                                                                                                                                                                                                                                                                                                                                                                             Lambda*lambda_2*(lambda_2 + lambda_1 + mu)*(lambda_2**2 + 2*lambda_2*lambda_1 + 2*lambda_2*mu + lambda_1**2 + mu**2)/(mu**2*(lambda_2**3 + 2*lambda_2**2*lambda_1 + 3*lambda_2**2*mu + lambda_2*lambda_1**2 + 2*lambda_2*lambda_1*mu + 3*lambda_2*mu**2 + mu**3)),                                                                                                                                                                                                                                                             Lambda*lambda_2*lambda_1*(lambda_2**5 + 4*lambda_2**4*lambda_1 + 6*lambda_2**4*mu + 6*lambda_2**3*lambda_1**2 + 15*lambda_2**3*lambda_1*mu + 14*lambda_2**3*mu**2 + 4*lambda_2**2*lambda_1**3 + 12*lambda_2**2*lambda_1**2*mu + 20*lambda_2**2*lambda_1*mu**2 + 16*lambda_2**2*mu**3 + lambda_2*lambda_1**4 + 3*lambda_2*lambda_1**3*mu + 6*lambda_2*lambda_1**2*mu**2 + 11*lambda_2*lambda_1*mu**3 + 9*lambda_2*mu**4 + lambda_1**3*mu**2 + 2*lambda_1**2*mu**3 + 2*lambda_1*mu**4 + 2*mu**5)/(mu**2*(lambda_2**3 + 2*lambda_2**2*lambda_1 + 3*lambda_2**2*mu + lambda_2*lambda_1**2 + 2*lambda_2*lambda_1*mu + 3*lambda_2*mu**2 + mu**3)**2),                                                                                                                                                                                                                                                                                                                                                                                                                     Lambda*lambda_2*lambda_1**2*(lambda_2**4 + 3*lambda_2**3*lambda_1 + 6*lambda_2**3*mu + 3*lambda_2**2*lambda_1**2 + 9*lambda_2**2*lambda_1*mu + 12*lambda_2**2*mu**2 + lambda_2*lambda_1**3 + 4*lambda_2*lambda_1**2*mu + 9*lambda_2*lambda_1*mu**2 + 10*lambda_2*mu**3 + lambda_1**3*mu + 2*lambda_1**2*mu**2 + 3*lambda_1*mu**3 + 3*mu**4)/(mu**2*(lambda_2**3 + 2*lambda_2**2*lambda_1 + 3*lambda_2**2*mu + lambda_2*lambda_1**2 + 2*lambda_2*lambda_1*mu + 3*lambda_2*mu**2 + mu**3)**2),                                                                                                                                                                                                                                                                                                                                                                                                                                                                                                                                         Lambda*lambda_2*lambda_1**3*(lambda_2**3 + 3*lambda_2**2*lambda_1 + 6*lambda_2**2*mu + 3*lambda_2*lambda_1**2 + 8*lambda_2*lambda_1*mu + 9*lambda_2*mu**2 + lambda_1**3 + 2*lambda_1**2*mu + 3*lambda_1*mu**2 + 4*mu**3)/(mu**2*(lambda_2**3 + 2*lambda_2**2*lambda_1 + 3*lambda_2**2*mu + lambda_2*lambda_1**2 + 2*lambda_2*lambda_1*mu + 3*lambda_2*mu**2 + mu**3)**2)],\n",
       "[0, Lambda*lambda_2**2*(lambda_2**6 + 6*lambda_2**5*lambda_1 + 6*lambda_2**5*mu + 15*lambda_2**4*lambda_1**2 + 27*lambda_2**4*lambda_1*mu + 15*lambda_2**4*mu**2 + 20*lambda_2**3*lambda_1**3 + 48*lambda_2**3*lambda_1**2*mu + 48*lambda_2**3*lambda_1*mu**2 + 20*lambda_2**3*mu**3 + 15*lambda_2**2*lambda_1**4 + 42*lambda_2**2*lambda_1**3*mu + 57*lambda_2**2*lambda_1**2*mu**2 + 42*lambda_2**2*lambda_1*mu**3 + 15*lambda_2**2*mu**4 + 6*lambda_2*lambda_1**5 + 18*lambda_2*lambda_1**4*mu + 30*lambda_2*lambda_1**3*mu**2 + 30*lambda_2*lambda_1**2*mu**3 + 18*lambda_2*lambda_1*mu**4 + 6*lambda_2*mu**5 + lambda_1**6 + 3*lambda_1**5*mu + 6*lambda_1**4*mu**2 + 10*lambda_1**3*mu**3 + 6*lambda_1**2*mu**4 + 3*lambda_1*mu**5 + mu**6)/(mu**3*(lambda_2**3 + 2*lambda_2**2*lambda_1 + 3*lambda_2**2*mu + lambda_2*lambda_1**2 + 2*lambda_2*lambda_1*mu + 3*lambda_2*mu**2 + mu**3)**2), Lambda*lambda_2**2*lambda_1*(lambda_2**6 + 6*lambda_2**5*lambda_1 + 7*lambda_2**5*mu + 15*lambda_2**4*lambda_1**2 + 32*lambda_2**4*lambda_1*mu + 21*lambda_2**4*mu**2 + 20*lambda_2**3*lambda_1**3 + 58*lambda_2**3*lambda_1**2*mu + 69*lambda_2**3*lambda_1*mu**2 + 34*lambda_2**3*mu**3 + 15*lambda_2**2*lambda_1**4 + 52*lambda_2**2*lambda_1**3*mu + 84*lambda_2**2*lambda_1**2*mu**2 + 74*lambda_2**2*lambda_1*mu**3 + 31*lambda_2**2*mu**4 + 6*lambda_2*lambda_1**5 + 23*lambda_2*lambda_1**4*mu + 45*lambda_2*lambda_1**3*mu**2 + 54*lambda_2*lambda_1**2*mu**3 + 39*lambda_2*lambda_1*mu**4 + 15*lambda_2*mu**5 + lambda_1**6 + 4*lambda_1**5*mu + 9*lambda_1**4*mu**2 + 16*lambda_1**3*mu**3 + 15*lambda_1**2*mu**4 + 8*lambda_1*mu**5 + 3*mu**6)/(mu**4*(lambda_2**3 + 2*lambda_2**2*lambda_1 + 3*lambda_2**2*mu + lambda_2*lambda_1**2 + 2*lambda_2*lambda_1*mu + 3*lambda_2*mu**2 + mu**3)**2), Lambda*lambda_2**2*lambda_1**2*(lambda_2**6 + 6*lambda_2**5*lambda_1 + 7*lambda_2**5*mu + 15*lambda_2**4*lambda_1**2 + 32*lambda_2**4*lambda_1*mu + 22*lambda_2**4*mu**2 + 20*lambda_2**3*lambda_1**3 + 58*lambda_2**3*lambda_1**2*mu + 73*lambda_2**3*lambda_1*mu**2 + 40*lambda_2**3*mu**3 + 15*lambda_2**2*lambda_1**4 + 52*lambda_2**2*lambda_1**3*mu + 90*lambda_2**2*lambda_1**2*mu**2 + 89*lambda_2**2*lambda_1*mu**3 + 43*lambda_2**2*mu**4 + 6*lambda_2*lambda_1**5 + 23*lambda_2*lambda_1**4*mu + 49*lambda_2*lambda_1**3*mu**2 + 66*lambda_2*lambda_1**2*mu**3 + 57*lambda_2*lambda_1*mu**4 + 25*lambda_2*mu**5 + lambda_1**6 + 4*lambda_1**5*mu + 10*lambda_1**4*mu**2 + 19*lambda_1**3*mu**3 + 20*lambda_1**2*mu**4 + 15*lambda_1*mu**5 + 6*mu**6)/(mu**5*(lambda_2**3 + 2*lambda_2**2*lambda_1 + 3*lambda_2**2*mu + lambda_2*lambda_1**2 + 2*lambda_2*lambda_1*mu + 3*lambda_2*mu**2 + mu**3)**2), Lambda*lambda_2**2*lambda_1**3*(lambda_2**6 + 6*lambda_2**5*lambda_1 + 7*lambda_2**5*mu + 15*lambda_2**4*lambda_1**2 + 32*lambda_2**4*lambda_1*mu + 22*lambda_2**4*mu**2 + 20*lambda_2**3*lambda_1**3 + 58*lambda_2**3*lambda_1**2*mu + 73*lambda_2**3*lambda_1*mu**2 + 41*lambda_2**3*mu**3 + 15*lambda_2**2*lambda_1**4 + 52*lambda_2**2*lambda_1**3*mu + 90*lambda_2**2*lambda_1**2*mu**2 + 92*lambda_2**2*lambda_1*mu**3 + 49*lambda_2**2*mu**4 + 6*lambda_2*lambda_1**5 + 23*lambda_2*lambda_1**4*mu + 49*lambda_2*lambda_1**3*mu**2 + 69*lambda_2*lambda_1**2*mu**3 + 65*lambda_2*lambda_1*mu**4 + 34*lambda_2*mu**5 + lambda_1**6 + 4*lambda_1**5*mu + 10*lambda_1**4*mu**2 + 20*lambda_1**3*mu**3 + 22*lambda_1**2*mu**4 + 18*lambda_1*mu**5 + 10*mu**6)/(mu**6*(lambda_2**3 + 2*lambda_2**2*lambda_1 + 3*lambda_2**2*mu + lambda_2*lambda_1**2 + 2*lambda_2*lambda_1*mu + 3*lambda_2*mu**2 + mu**3)**2)]])"
      ]
     },
     "execution_count": 19,
     "metadata": {},
     "output_type": "execute_result"
    }
   ],
   "source": [
    "sym_state_recursive_ratios_P0_1142"
   ]
  },
  {
   "cell_type": "code",
   "execution_count": null,
   "metadata": {},
   "outputs": [],
   "source": []
  },
  {
   "cell_type": "code",
   "execution_count": null,
   "metadata": {},
   "outputs": [],
   "source": []
  },
  {
   "cell_type": "markdown",
   "metadata": {},
   "source": [
    "# Recursive Ratios"
   ]
  },
  {
   "cell_type": "markdown",
   "metadata": {},
   "source": [
    "## $C=1, T=2, N=2, M=2$"
   ]
  },
  {
   "cell_type": "code",
   "execution_count": 2,
   "metadata": {},
   "outputs": [
    {
     "output_type": "execute_result",
     "data": {
      "text/plain": "<networkx.classes.multidigraph.MultiDiGraph at 0x27473033100>"
     },
     "metadata": {},
     "execution_count": 2
    },
    {
     "output_type": "display_data",
     "data": {
      "text/plain": "<Figure size 324x216 with 1 Axes>",
      "image/svg+xml": "<?xml version=\"1.0\" encoding=\"utf-8\" standalone=\"no\"?>\r\n<!DOCTYPE svg PUBLIC \"-//W3C//DTD SVG 1.1//EN\"\r\n  \"http://www.w3.org/Graphics/SVG/1.1/DTD/svg11.dtd\">\r\n<!-- Created with matplotlib (https://matplotlib.org/) -->\r\n<svg height=\"177.48pt\" version=\"1.1\" viewBox=\"0 0 265.5 177.48\" width=\"265.5pt\" xmlns=\"http://www.w3.org/2000/svg\" xmlns:xlink=\"http://www.w3.org/1999/xlink\">\r\n <defs>\r\n  <style type=\"text/css\">\r\n*{stroke-linecap:butt;stroke-linejoin:round;}\r\n  </style>\r\n </defs>\r\n <g id=\"figure_1\">\r\n  <g id=\"patch_1\">\r\n   <path d=\"M 0 177.48 \r\nL 265.5 177.48 \r\nL 265.5 0 \r\nL 0 0 \r\nz\r\n\" style=\"fill:none;\"/>\r\n  </g>\r\n  <g id=\"axes_1\">\r\n   <g id=\"patch_2\">\r\n    <path clip-path=\"url(#p24674fbdc7)\" d=\"M 28.989669 153.780618 \r\nQ 28.989669 124.975391 28.989669 97.288199 \r\n\" style=\"fill:none;stroke:#000000;stroke-linecap:round;\"/>\r\n    <path clip-path=\"url(#p24674fbdc7)\" d=\"M 26.989669 101.288199 \r\nL 28.989669 97.288199 \r\nL 30.989669 101.288199 \r\nL 26.989669 101.288199 \r\nz\r\n\" style=\"stroke:#000000;stroke-linecap:round;\"/>\r\n   </g>\r\n   <g id=\"patch_3\">\r\n    <path clip-path=\"url(#p24674fbdc7)\" d=\"M 28.989669 87.510194 \r\nQ 28.989669 58.704968 28.989669 31.017775 \r\n\" style=\"fill:none;stroke:#000000;stroke-linecap:round;\"/>\r\n    <path clip-path=\"url(#p24674fbdc7)\" d=\"M 26.989669 35.017775 \r\nL 28.989669 31.017775 \r\nL 30.989669 35.017775 \r\nL 26.989669 35.017775 \r\nz\r\n\" style=\"stroke:#000000;stroke-linecap:round;\"/>\r\n   </g>\r\n   <g id=\"patch_4\">\r\n    <path clip-path=\"url(#p24674fbdc7)\" d=\"M 28.989669 21.23977 \r\nQ 76.539627 21.23977 122.97155 21.23977 \r\n\" style=\"fill:none;stroke:#000000;stroke-linecap:round;\"/>\r\n    <path clip-path=\"url(#p24674fbdc7)\" d=\"M 118.97155 19.23977 \r\nL 122.97155 21.23977 \r\nL 118.97155 23.23977 \r\nL 118.97155 19.23977 \r\nz\r\n\" style=\"stroke:#000000;stroke-linecap:round;\"/>\r\n   </g>\r\n   <g id=\"patch_5\">\r\n    <path clip-path=\"url(#p24674fbdc7)\" d=\"M 132.75 21.23977 \r\nQ 180.299957 21.23977 226.731881 21.23977 \r\n\" style=\"fill:none;stroke:#000000;stroke-linecap:round;\"/>\r\n    <path clip-path=\"url(#p24674fbdc7)\" d=\"M 222.731881 19.23977 \r\nL 226.731881 21.23977 \r\nL 222.731881 23.23977 \r\nL 222.731881 19.23977 \r\nz\r\n\" style=\"stroke:#000000;stroke-linecap:round;\"/>\r\n   </g>\r\n   <g id=\"PathCollection_1\">\r\n    <defs>\r\n     <path d=\"M 0 22.36068 \r\nC 5.930122 22.36068 11.618159 20.004617 15.811388 15.811388 \r\nC 20.004617 11.618159 22.36068 5.930122 22.36068 0 \r\nC 22.36068 -5.930122 20.004617 -11.618159 15.811388 -15.811388 \r\nC 11.618159 -20.004617 5.930122 -22.36068 0 -22.36068 \r\nC -5.930122 -22.36068 -11.618159 -20.004617 -15.811388 -15.811388 \r\nC -20.004617 -11.618159 -22.36068 -5.930122 -22.36068 0 \r\nC -22.36068 5.930122 -20.004617 11.618159 -15.811388 15.811388 \r\nC -11.618159 20.004617 -5.930122 22.36068 0 22.36068 \r\nz\r\n\" id=\"m9a5e894511\" style=\"stroke:#1f78b4;\"/>\r\n    </defs>\r\n    <g clip-path=\"url(#p24674fbdc7)\">\r\n     <use style=\"fill:#1f78b4;stroke:#1f78b4;\" x=\"28.989669\" xlink:href=\"#m9a5e894511\" y=\"153.780618\"/>\r\n    </g>\r\n   </g>\r\n   <g id=\"PathCollection_2\">\r\n    <defs>\r\n     <path d=\"M 0 22.36068 \r\nC 5.930122 22.36068 11.618159 20.004617 15.811388 15.811388 \r\nC 20.004617 11.618159 22.36068 5.930122 22.36068 0 \r\nC 22.36068 -5.930122 20.004617 -11.618159 15.811388 -15.811388 \r\nC 11.618159 -20.004617 5.930122 -22.36068 0 -22.36068 \r\nC -5.930122 -22.36068 -11.618159 -20.004617 -15.811388 -15.811388 \r\nC -20.004617 -11.618159 -22.36068 -5.930122 -22.36068 0 \r\nC -22.36068 5.930122 -20.004617 11.618159 -15.811388 15.811388 \r\nC -11.618159 20.004617 -5.930122 22.36068 0 22.36068 \r\nz\r\n\" id=\"m06c4524474\" style=\"stroke:#ff0000;\"/>\r\n    </defs>\r\n    <g clip-path=\"url(#p24674fbdc7)\">\r\n     <use style=\"fill:#ff0000;stroke:#ff0000;\" x=\"28.989669\" xlink:href=\"#m06c4524474\" y=\"87.510194\"/>\r\n     <use style=\"fill:#ff0000;stroke:#ff0000;\" x=\"28.989669\" xlink:href=\"#m06c4524474\" y=\"21.23977\"/>\r\n     <use style=\"fill:#ff0000;stroke:#ff0000;\" x=\"132.75\" xlink:href=\"#m06c4524474\" y=\"21.23977\"/>\r\n     <use style=\"fill:#ff0000;stroke:#ff0000;\" x=\"236.510331\" xlink:href=\"#m06c4524474\" y=\"21.23977\"/>\r\n    </g>\r\n   </g>\r\n   <g id=\"text_1\">\r\n    <g clip-path=\"url(#p24674fbdc7)\">\r\n     <!-- (0, 0) -->\r\n     <defs>\r\n      <path d=\"M 31 75.875 \r\nQ 24.46875 64.65625 21.28125 53.65625 \r\nQ 18.109375 42.671875 18.109375 31.390625 \r\nQ 18.109375 20.125 21.3125 9.0625 \r\nQ 24.515625 -2 31 -13.1875 \r\nL 23.1875 -13.1875 \r\nQ 15.875 -1.703125 12.234375 9.375 \r\nQ 8.59375 20.453125 8.59375 31.390625 \r\nQ 8.59375 42.28125 12.203125 53.3125 \r\nQ 15.828125 64.359375 23.1875 75.875 \r\nz\r\n\" id=\"DejaVuSans-40\"/>\r\n      <path d=\"M 31.78125 66.40625 \r\nQ 24.171875 66.40625 20.328125 58.90625 \r\nQ 16.5 51.421875 16.5 36.375 \r\nQ 16.5 21.390625 20.328125 13.890625 \r\nQ 24.171875 6.390625 31.78125 6.390625 \r\nQ 39.453125 6.390625 43.28125 13.890625 \r\nQ 47.125 21.390625 47.125 36.375 \r\nQ 47.125 51.421875 43.28125 58.90625 \r\nQ 39.453125 66.40625 31.78125 66.40625 \r\nz\r\nM 31.78125 74.21875 \r\nQ 44.046875 74.21875 50.515625 64.515625 \r\nQ 56.984375 54.828125 56.984375 36.375 \r\nQ 56.984375 17.96875 50.515625 8.265625 \r\nQ 44.046875 -1.421875 31.78125 -1.421875 \r\nQ 19.53125 -1.421875 13.0625 8.265625 \r\nQ 6.59375 17.96875 6.59375 36.375 \r\nQ 6.59375 54.828125 13.0625 64.515625 \r\nQ 19.53125 74.21875 31.78125 74.21875 \r\nz\r\n\" id=\"DejaVuSans-48\"/>\r\n      <path d=\"M 11.71875 12.40625 \r\nL 22.015625 12.40625 \r\nL 22.015625 4 \r\nL 14.015625 -11.625 \r\nL 7.71875 -11.625 \r\nL 11.71875 4 \r\nz\r\n\" id=\"DejaVuSans-44\"/>\r\n      <path id=\"DejaVuSans-32\"/>\r\n      <path d=\"M 8.015625 75.875 \r\nL 15.828125 75.875 \r\nQ 23.140625 64.359375 26.78125 53.3125 \r\nQ 30.421875 42.28125 30.421875 31.390625 \r\nQ 30.421875 20.453125 26.78125 9.375 \r\nQ 23.140625 -1.703125 15.828125 -13.1875 \r\nL 8.015625 -13.1875 \r\nQ 14.5 -2 17.703125 9.0625 \r\nQ 20.90625 20.125 20.90625 31.390625 \r\nQ 20.90625 42.671875 17.703125 53.65625 \r\nQ 14.5 64.65625 8.015625 75.875 \r\nz\r\n\" id=\"DejaVuSans-41\"/>\r\n     </defs>\r\n     <g transform=\"translate(12.859044 157.091868)scale(0.12 -0.12)\">\r\n      <use xlink:href=\"#DejaVuSans-40\"/>\r\n      <use x=\"39.013672\" xlink:href=\"#DejaVuSans-48\"/>\r\n      <use x=\"102.636719\" xlink:href=\"#DejaVuSans-44\"/>\r\n      <use x=\"134.423828\" xlink:href=\"#DejaVuSans-32\"/>\r\n      <use x=\"166.210938\" xlink:href=\"#DejaVuSans-48\"/>\r\n      <use x=\"229.833984\" xlink:href=\"#DejaVuSans-41\"/>\r\n     </g>\r\n    </g>\r\n   </g>\r\n   <g id=\"text_2\">\r\n    <g clip-path=\"url(#p24674fbdc7)\">\r\n     <!-- (0, 1) -->\r\n     <defs>\r\n      <path d=\"M 12.40625 8.296875 \r\nL 28.515625 8.296875 \r\nL 28.515625 63.921875 \r\nL 10.984375 60.40625 \r\nL 10.984375 69.390625 \r\nL 28.421875 72.90625 \r\nL 38.28125 72.90625 \r\nL 38.28125 8.296875 \r\nL 54.390625 8.296875 \r\nL 54.390625 0 \r\nL 12.40625 0 \r\nz\r\n\" id=\"DejaVuSans-49\"/>\r\n     </defs>\r\n     <g transform=\"translate(12.859044 90.821444)scale(0.12 -0.12)\">\r\n      <use xlink:href=\"#DejaVuSans-40\"/>\r\n      <use x=\"39.013672\" xlink:href=\"#DejaVuSans-48\"/>\r\n      <use x=\"102.636719\" xlink:href=\"#DejaVuSans-44\"/>\r\n      <use x=\"134.423828\" xlink:href=\"#DejaVuSans-32\"/>\r\n      <use x=\"166.210938\" xlink:href=\"#DejaVuSans-49\"/>\r\n      <use x=\"229.833984\" xlink:href=\"#DejaVuSans-41\"/>\r\n     </g>\r\n    </g>\r\n   </g>\r\n   <g id=\"text_3\">\r\n    <g clip-path=\"url(#p24674fbdc7)\">\r\n     <!-- (0, 2) -->\r\n     <defs>\r\n      <path d=\"M 19.1875 8.296875 \r\nL 53.609375 8.296875 \r\nL 53.609375 0 \r\nL 7.328125 0 \r\nL 7.328125 8.296875 \r\nQ 12.9375 14.109375 22.625 23.890625 \r\nQ 32.328125 33.6875 34.8125 36.53125 \r\nQ 39.546875 41.84375 41.421875 45.53125 \r\nQ 43.3125 49.21875 43.3125 52.78125 \r\nQ 43.3125 58.59375 39.234375 62.25 \r\nQ 35.15625 65.921875 28.609375 65.921875 \r\nQ 23.96875 65.921875 18.8125 64.3125 \r\nQ 13.671875 62.703125 7.8125 59.421875 \r\nL 7.8125 69.390625 \r\nQ 13.765625 71.78125 18.9375 73 \r\nQ 24.125 74.21875 28.421875 74.21875 \r\nQ 39.75 74.21875 46.484375 68.546875 \r\nQ 53.21875 62.890625 53.21875 53.421875 \r\nQ 53.21875 48.921875 51.53125 44.890625 \r\nQ 49.859375 40.875 45.40625 35.40625 \r\nQ 44.1875 33.984375 37.640625 27.21875 \r\nQ 31.109375 20.453125 19.1875 8.296875 \r\nz\r\n\" id=\"DejaVuSans-50\"/>\r\n     </defs>\r\n     <g transform=\"translate(12.859044 24.55102)scale(0.12 -0.12)\">\r\n      <use xlink:href=\"#DejaVuSans-40\"/>\r\n      <use x=\"39.013672\" xlink:href=\"#DejaVuSans-48\"/>\r\n      <use x=\"102.636719\" xlink:href=\"#DejaVuSans-44\"/>\r\n      <use x=\"134.423828\" xlink:href=\"#DejaVuSans-32\"/>\r\n      <use x=\"166.210938\" xlink:href=\"#DejaVuSans-50\"/>\r\n      <use x=\"229.833984\" xlink:href=\"#DejaVuSans-41\"/>\r\n     </g>\r\n    </g>\r\n   </g>\r\n   <g id=\"text_4\">\r\n    <g clip-path=\"url(#p24674fbdc7)\">\r\n     <!-- (1, 2) -->\r\n     <g transform=\"translate(116.619375 24.55102)scale(0.12 -0.12)\">\r\n      <use xlink:href=\"#DejaVuSans-40\"/>\r\n      <use x=\"39.013672\" xlink:href=\"#DejaVuSans-49\"/>\r\n      <use x=\"102.636719\" xlink:href=\"#DejaVuSans-44\"/>\r\n      <use x=\"134.423828\" xlink:href=\"#DejaVuSans-32\"/>\r\n      <use x=\"166.210938\" xlink:href=\"#DejaVuSans-50\"/>\r\n      <use x=\"229.833984\" xlink:href=\"#DejaVuSans-41\"/>\r\n     </g>\r\n    </g>\r\n   </g>\r\n   <g id=\"text_5\">\r\n    <g clip-path=\"url(#p24674fbdc7)\">\r\n     <!-- (2, 2) -->\r\n     <g transform=\"translate(220.379706 24.55102)scale(0.12 -0.12)\">\r\n      <use xlink:href=\"#DejaVuSans-40\"/>\r\n      <use x=\"39.013672\" xlink:href=\"#DejaVuSans-50\"/>\r\n      <use x=\"102.636719\" xlink:href=\"#DejaVuSans-44\"/>\r\n      <use x=\"134.423828\" xlink:href=\"#DejaVuSans-32\"/>\r\n      <use x=\"166.210938\" xlink:href=\"#DejaVuSans-50\"/>\r\n      <use x=\"229.833984\" xlink:href=\"#DejaVuSans-41\"/>\r\n     </g>\r\n    </g>\r\n   </g>\r\n  </g>\r\n </g>\r\n <defs>\r\n  <clipPath id=\"p24674fbdc7\">\r\n   <rect height=\"163.08\" width=\"251.1\" x=\"7.2\" y=\"7.2\"/>\r\n  </clipPath>\r\n </defs>\r\n</svg>\r\n",
      "image/png": "[encoded data removed]"
     },
     "metadata": {}
    }
   ],
   "source": [
    "abg.markov.visualise_ambulance_markov_chain(num_of_servers=1, threshold=2, system_capacity=2, buffer_capacity=2)"
   ]
  },
  {
   "cell_type": "code",
   "execution_count": 44,
   "metadata": {},
   "outputs": [
    {
     "data": {
      "text/latex": [
       "$\\displaystyle \\left[\\begin{matrix}1 & \\frac{\\Lambda}{\\mu} & \\frac{\\Lambda}{\\mu}\\\\0 & 0 & \\frac{\\lambda^{A}}{\\mu}\\\\0 & 0 & \\frac{\\lambda^{A}}{\\mu}\\end{matrix}\\right]$"
      ],
      "text/plain": [
       "⎡   Λ   Λ  ⎤\n",
       "⎢1  ─   ─  ⎥\n",
       "⎢   μ   μ  ⎥\n",
       "⎢          ⎥\n",
       "⎢      λ__A⎥\n",
       "⎢0  0  ────⎥\n",
       "⎢       μ  ⎥\n",
       "⎢          ⎥\n",
       "⎢      λ__A⎥\n",
       "⎢0  0  ────⎥\n",
       "⎣       μ  ⎦"
      ]
     },
     "execution_count": 44,
     "metadata": {},
     "output_type": "execute_result"
    }
   ],
   "source": [
    "sym_state_recursive_ratios_1222"
   ]
  },
  {
   "cell_type": "markdown",
   "metadata": {},
   "source": [
    "## $C=1, T=1, N=2, M=1$"
   ]
  },
  {
   "cell_type": "code",
   "execution_count": 3,
   "metadata": {},
   "outputs": [
    {
     "output_type": "execute_result",
     "data": {
      "text/plain": "<networkx.classes.multidigraph.MultiDiGraph at 0x2747348c040>"
     },
     "metadata": {},
     "execution_count": 3
    },
    {
     "output_type": "display_data",
     "data": {
      "text/plain": "<Figure size 216x216 with 1 Axes>",
      "image/svg+xml": "<?xml version=\"1.0\" encoding=\"utf-8\" standalone=\"no\"?>\r\n<!DOCTYPE svg PUBLIC \"-//W3C//DTD SVG 1.1//EN\"\r\n  \"http://www.w3.org/Graphics/SVG/1.1/DTD/svg11.dtd\">\r\n<!-- Created with matplotlib (https://matplotlib.org/) -->\r\n<svg height=\"177.48pt\" version=\"1.1\" viewBox=\"0 0 181.8 177.48\" width=\"181.8pt\" xmlns=\"http://www.w3.org/2000/svg\" xmlns:xlink=\"http://www.w3.org/1999/xlink\">\r\n <defs>\r\n  <style type=\"text/css\">\r\n*{stroke-linecap:butt;stroke-linejoin:round;}\r\n  </style>\r\n </defs>\r\n <g id=\"figure_1\">\r\n  <g id=\"patch_1\">\r\n   <path d=\"M 0 177.48 \r\nL 181.8 177.48 \r\nL 181.8 0 \r\nL 0 0 \r\nz\r\n\" style=\"fill:none;\"/>\r\n  </g>\r\n  <g id=\"axes_1\">\r\n   <g id=\"patch_2\">\r\n    <path clip-path=\"url(#pa0ce5778c0)\" d=\"M 31.984063 153.780618 \r\nQ 31.984063 124.975391 31.984063 97.288199 \r\n\" style=\"fill:none;stroke:#000000;stroke-linecap:round;\"/>\r\n    <path clip-path=\"url(#pa0ce5778c0)\" d=\"M 29.984063 101.288199 \r\nL 31.984063 97.288199 \r\nL 33.984063 101.288199 \r\nL 29.984063 101.288199 \r\nz\r\n\" style=\"stroke:#000000;stroke-linecap:round;\"/>\r\n   </g>\r\n   <g id=\"patch_3\">\r\n    <path clip-path=\"url(#pa0ce5778c0)\" d=\"M 31.984063 87.510194 \r\nQ 91.943027 87.510194 150.783958 87.510194 \r\n\" style=\"fill:none;stroke:#000000;stroke-linecap:round;\"/>\r\n    <path clip-path=\"url(#pa0ce5778c0)\" d=\"M 146.783958 85.510194 \r\nL 150.783958 87.510194 \r\nL 146.783958 89.510194 \r\nL 146.783958 85.510194 \r\nz\r\n\" style=\"stroke:#000000;stroke-linecap:round;\"/>\r\n   </g>\r\n   <g id=\"patch_4\">\r\n    <path clip-path=\"url(#pa0ce5778c0)\" d=\"M 31.984063 87.510194 \r\nQ 31.984063 58.704968 31.984063 31.017775 \r\n\" style=\"fill:none;stroke:#000000;stroke-linecap:round;\"/>\r\n    <path clip-path=\"url(#pa0ce5778c0)\" d=\"M 29.984063 35.017775 \r\nL 31.984063 31.017775 \r\nL 33.984063 35.017775 \r\nL 29.984063 35.017775 \r\nz\r\n\" style=\"stroke:#000000;stroke-linecap:round;\"/>\r\n   </g>\r\n   <g id=\"patch_5\">\r\n    <path clip-path=\"url(#pa0ce5778c0)\" d=\"M 160.562012 87.510194 \r\nQ 160.562012 58.704968 160.562012 31.017775 \r\n\" style=\"fill:none;stroke:#000000;stroke-linecap:round;\"/>\r\n    <path clip-path=\"url(#pa0ce5778c0)\" d=\"M 158.562012 35.017775 \r\nL 160.562012 31.017775 \r\nL 162.562012 35.017775 \r\nL 158.562012 35.017775 \r\nz\r\n\" style=\"stroke:#000000;stroke-linecap:round;\"/>\r\n   </g>\r\n   <g id=\"patch_6\">\r\n    <path clip-path=\"url(#pa0ce5778c0)\" d=\"M 31.984063 21.23977 \r\nQ 91.943027 21.23977 150.783958 21.23977 \r\n\" style=\"fill:none;stroke:#000000;stroke-linecap:round;\"/>\r\n    <path clip-path=\"url(#pa0ce5778c0)\" d=\"M 146.783958 19.23977 \r\nL 150.783958 21.23977 \r\nL 146.783958 23.23977 \r\nL 146.783958 19.23977 \r\nz\r\n\" style=\"stroke:#000000;stroke-linecap:round;\"/>\r\n   </g>\r\n   <g id=\"PathCollection_1\">\r\n    <defs>\r\n     <path d=\"M 0 22.36068 \r\nC 5.930122 22.36068 11.618159 20.004617 15.811388 15.811388 \r\nC 20.004617 11.618159 22.36068 5.930122 22.36068 0 \r\nC 22.36068 -5.930122 20.004617 -11.618159 15.811388 -15.811388 \r\nC 11.618159 -20.004617 5.930122 -22.36068 0 -22.36068 \r\nC -5.930122 -22.36068 -11.618159 -20.004617 -15.811388 -15.811388 \r\nC -20.004617 -11.618159 -22.36068 -5.930122 -22.36068 0 \r\nC -22.36068 5.930122 -20.004617 11.618159 -15.811388 15.811388 \r\nC -11.618159 20.004617 -5.930122 22.36068 0 22.36068 \r\nz\r\n\" id=\"md584e2b22d\" style=\"stroke:#1f78b4;\"/>\r\n    </defs>\r\n    <g clip-path=\"url(#pa0ce5778c0)\">\r\n     <use style=\"fill:#1f78b4;stroke:#1f78b4;\" x=\"31.984063\" xlink:href=\"#md584e2b22d\" y=\"153.780618\"/>\r\n    </g>\r\n   </g>\r\n   <g id=\"PathCollection_2\">\r\n    <defs>\r\n     <path d=\"M 0 22.36068 \r\nC 5.930122 22.36068 11.618159 20.004617 15.811388 15.811388 \r\nC 20.004617 11.618159 22.36068 5.930122 22.36068 0 \r\nC 22.36068 -5.930122 20.004617 -11.618159 15.811388 -15.811388 \r\nC 11.618159 -20.004617 5.930122 -22.36068 0 -22.36068 \r\nC -5.930122 -22.36068 -11.618159 -20.004617 -15.811388 -15.811388 \r\nC -20.004617 -11.618159 -22.36068 -5.930122 -22.36068 0 \r\nC -22.36068 5.930122 -20.004617 11.618159 -15.811388 15.811388 \r\nC -11.618159 20.004617 -5.930122 22.36068 0 22.36068 \r\nz\r\n\" id=\"m072e7828ca\" style=\"stroke:#ff0000;\"/>\r\n    </defs>\r\n    <g clip-path=\"url(#pa0ce5778c0)\">\r\n     <use style=\"fill:#ff0000;stroke:#ff0000;\" x=\"31.984063\" xlink:href=\"#m072e7828ca\" y=\"87.510194\"/>\r\n     <use style=\"fill:#ff0000;stroke:#ff0000;\" x=\"160.562012\" xlink:href=\"#m072e7828ca\" y=\"87.510194\"/>\r\n     <use style=\"fill:#ff0000;stroke:#ff0000;\" x=\"31.984063\" xlink:href=\"#m072e7828ca\" y=\"21.23977\"/>\r\n     <use style=\"fill:#ff0000;stroke:#ff0000;\" x=\"160.562012\" xlink:href=\"#m072e7828ca\" y=\"21.23977\"/>\r\n    </g>\r\n   </g>\r\n   <g id=\"text_1\">\r\n    <g clip-path=\"url(#pa0ce5778c0)\">\r\n     <!-- (0, 0) -->\r\n     <defs>\r\n      <path d=\"M 31 75.875 \r\nQ 24.46875 64.65625 21.28125 53.65625 \r\nQ 18.109375 42.671875 18.109375 31.390625 \r\nQ 18.109375 20.125 21.3125 9.0625 \r\nQ 24.515625 -2 31 -13.1875 \r\nL 23.1875 -13.1875 \r\nQ 15.875 -1.703125 12.234375 9.375 \r\nQ 8.59375 20.453125 8.59375 31.390625 \r\nQ 8.59375 42.28125 12.203125 53.3125 \r\nQ 15.828125 64.359375 23.1875 75.875 \r\nz\r\n\" id=\"DejaVuSans-40\"/>\r\n      <path d=\"M 31.78125 66.40625 \r\nQ 24.171875 66.40625 20.328125 58.90625 \r\nQ 16.5 51.421875 16.5 36.375 \r\nQ 16.5 21.390625 20.328125 13.890625 \r\nQ 24.171875 6.390625 31.78125 6.390625 \r\nQ 39.453125 6.390625 43.28125 13.890625 \r\nQ 47.125 21.390625 47.125 36.375 \r\nQ 47.125 51.421875 43.28125 58.90625 \r\nQ 39.453125 66.40625 31.78125 66.40625 \r\nz\r\nM 31.78125 74.21875 \r\nQ 44.046875 74.21875 50.515625 64.515625 \r\nQ 56.984375 54.828125 56.984375 36.375 \r\nQ 56.984375 17.96875 50.515625 8.265625 \r\nQ 44.046875 -1.421875 31.78125 -1.421875 \r\nQ 19.53125 -1.421875 13.0625 8.265625 \r\nQ 6.59375 17.96875 6.59375 36.375 \r\nQ 6.59375 54.828125 13.0625 64.515625 \r\nQ 19.53125 74.21875 31.78125 74.21875 \r\nz\r\n\" id=\"DejaVuSans-48\"/>\r\n      <path d=\"M 11.71875 12.40625 \r\nL 22.015625 12.40625 \r\nL 22.015625 4 \r\nL 14.015625 -11.625 \r\nL 7.71875 -11.625 \r\nL 11.71875 4 \r\nz\r\n\" id=\"DejaVuSans-44\"/>\r\n      <path id=\"DejaVuSans-32\"/>\r\n      <path d=\"M 8.015625 75.875 \r\nL 15.828125 75.875 \r\nQ 23.140625 64.359375 26.78125 53.3125 \r\nQ 30.421875 42.28125 30.421875 31.390625 \r\nQ 30.421875 20.453125 26.78125 9.375 \r\nQ 23.140625 -1.703125 15.828125 -13.1875 \r\nL 8.015625 -13.1875 \r\nQ 14.5 -2 17.703125 9.0625 \r\nQ 20.90625 20.125 20.90625 31.390625 \r\nQ 20.90625 42.671875 17.703125 53.65625 \r\nQ 14.5 64.65625 8.015625 75.875 \r\nz\r\n\" id=\"DejaVuSans-41\"/>\r\n     </defs>\r\n     <g transform=\"translate(15.853438 157.091868)scale(0.12 -0.12)\">\r\n      <use xlink:href=\"#DejaVuSans-40\"/>\r\n      <use x=\"39.013672\" xlink:href=\"#DejaVuSans-48\"/>\r\n      <use x=\"102.636719\" xlink:href=\"#DejaVuSans-44\"/>\r\n      <use x=\"134.423828\" xlink:href=\"#DejaVuSans-32\"/>\r\n      <use x=\"166.210938\" xlink:href=\"#DejaVuSans-48\"/>\r\n      <use x=\"229.833984\" xlink:href=\"#DejaVuSans-41\"/>\r\n     </g>\r\n    </g>\r\n   </g>\r\n   <g id=\"text_2\">\r\n    <g clip-path=\"url(#pa0ce5778c0)\">\r\n     <!-- (0, 1) -->\r\n     <defs>\r\n      <path d=\"M 12.40625 8.296875 \r\nL 28.515625 8.296875 \r\nL 28.515625 63.921875 \r\nL 10.984375 60.40625 \r\nL 10.984375 69.390625 \r\nL 28.421875 72.90625 \r\nL 38.28125 72.90625 \r\nL 38.28125 8.296875 \r\nL 54.390625 8.296875 \r\nL 54.390625 0 \r\nL 12.40625 0 \r\nz\r\n\" id=\"DejaVuSans-49\"/>\r\n     </defs>\r\n     <g transform=\"translate(15.853438 90.821444)scale(0.12 -0.12)\">\r\n      <use xlink:href=\"#DejaVuSans-40\"/>\r\n      <use x=\"39.013672\" xlink:href=\"#DejaVuSans-48\"/>\r\n      <use x=\"102.636719\" xlink:href=\"#DejaVuSans-44\"/>\r\n      <use x=\"134.423828\" xlink:href=\"#DejaVuSans-32\"/>\r\n      <use x=\"166.210938\" xlink:href=\"#DejaVuSans-49\"/>\r\n      <use x=\"229.833984\" xlink:href=\"#DejaVuSans-41\"/>\r\n     </g>\r\n    </g>\r\n   </g>\r\n   <g id=\"text_3\">\r\n    <g clip-path=\"url(#pa0ce5778c0)\">\r\n     <!-- (1, 1) -->\r\n     <g transform=\"translate(144.431387 90.821444)scale(0.12 -0.12)\">\r\n      <use xlink:href=\"#DejaVuSans-40\"/>\r\n      <use x=\"39.013672\" xlink:href=\"#DejaVuSans-49\"/>\r\n      <use x=\"102.636719\" xlink:href=\"#DejaVuSans-44\"/>\r\n      <use x=\"134.423828\" xlink:href=\"#DejaVuSans-32\"/>\r\n      <use x=\"166.210938\" xlink:href=\"#DejaVuSans-49\"/>\r\n      <use x=\"229.833984\" xlink:href=\"#DejaVuSans-41\"/>\r\n     </g>\r\n    </g>\r\n   </g>\r\n   <g id=\"text_4\">\r\n    <g clip-path=\"url(#pa0ce5778c0)\">\r\n     <!-- (0, 2) -->\r\n     <defs>\r\n      <path d=\"M 19.1875 8.296875 \r\nL 53.609375 8.296875 \r\nL 53.609375 0 \r\nL 7.328125 0 \r\nL 7.328125 8.296875 \r\nQ 12.9375 14.109375 22.625 23.890625 \r\nQ 32.328125 33.6875 34.8125 36.53125 \r\nQ 39.546875 41.84375 41.421875 45.53125 \r\nQ 43.3125 49.21875 43.3125 52.78125 \r\nQ 43.3125 58.59375 39.234375 62.25 \r\nQ 35.15625 65.921875 28.609375 65.921875 \r\nQ 23.96875 65.921875 18.8125 64.3125 \r\nQ 13.671875 62.703125 7.8125 59.421875 \r\nL 7.8125 69.390625 \r\nQ 13.765625 71.78125 18.9375 73 \r\nQ 24.125 74.21875 28.421875 74.21875 \r\nQ 39.75 74.21875 46.484375 68.546875 \r\nQ 53.21875 62.890625 53.21875 53.421875 \r\nQ 53.21875 48.921875 51.53125 44.890625 \r\nQ 49.859375 40.875 45.40625 35.40625 \r\nQ 44.1875 33.984375 37.640625 27.21875 \r\nQ 31.109375 20.453125 19.1875 8.296875 \r\nz\r\n\" id=\"DejaVuSans-50\"/>\r\n     </defs>\r\n     <g transform=\"translate(15.853438 24.55102)scale(0.12 -0.12)\">\r\n      <use xlink:href=\"#DejaVuSans-40\"/>\r\n      <use x=\"39.013672\" xlink:href=\"#DejaVuSans-48\"/>\r\n      <use x=\"102.636719\" xlink:href=\"#DejaVuSans-44\"/>\r\n      <use x=\"134.423828\" xlink:href=\"#DejaVuSans-32\"/>\r\n      <use x=\"166.210938\" xlink:href=\"#DejaVuSans-50\"/>\r\n      <use x=\"229.833984\" xlink:href=\"#DejaVuSans-41\"/>\r\n     </g>\r\n    </g>\r\n   </g>\r\n   <g id=\"text_5\">\r\n    <g clip-path=\"url(#pa0ce5778c0)\">\r\n     <!-- (1, 2) -->\r\n     <g transform=\"translate(144.431387 24.55102)scale(0.12 -0.12)\">\r\n      <use xlink:href=\"#DejaVuSans-40\"/>\r\n      <use x=\"39.013672\" xlink:href=\"#DejaVuSans-49\"/>\r\n      <use x=\"102.636719\" xlink:href=\"#DejaVuSans-44\"/>\r\n      <use x=\"134.423828\" xlink:href=\"#DejaVuSans-32\"/>\r\n      <use x=\"166.210938\" xlink:href=\"#DejaVuSans-50\"/>\r\n      <use x=\"229.833984\" xlink:href=\"#DejaVuSans-41\"/>\r\n     </g>\r\n    </g>\r\n   </g>\r\n  </g>\r\n </g>\r\n <defs>\r\n  <clipPath id=\"pa0ce5778c0\">\r\n   <rect height=\"163.08\" width=\"167.4\" x=\"7.2\" y=\"7.2\"/>\r\n  </clipPath>\r\n </defs>\r\n</svg>\r\n",
      "image/png": "[encoded data removed]"
     },
     "metadata": {}
    }
   ],
   "source": [
    "abg.markov.visualise_ambulance_markov_chain(num_of_servers=1, threshold=1, system_capacity=2, buffer_capacity=1)"
   ]
  },
  {
   "cell_type": "code",
   "execution_count": 45,
   "metadata": {},
   "outputs": [
    {
     "data": {
      "text/latex": [
       "$\\displaystyle \\left( \\left[\\begin{matrix}1 & \\frac{\\Lambda}{\\mu} & \\frac{\\lambda^{o}}{\\lambda^{A} + \\mu}\\\\0 & \\frac{\\lambda^{A} \\left(\\lambda^{A} + \\lambda^{o} + \\mu\\right)}{\\mu \\left(\\lambda^{A} + \\mu\\right)} & \\frac{\\lambda^{A} \\left(\\lambda^{A} + \\lambda^{o} + 2 \\mu\\right)}{\\mu^{2}}\\end{matrix}\\right], \\  \\left[\\begin{matrix}1 & \\frac{\\Lambda}{\\mu} & \\frac{\\lambda^{o}}{\\lambda^{A} + \\mu}\\\\0 & \\frac{\\lambda^{A} \\left(\\lambda^{A} + \\lambda^{o} + \\mu\\right)}{\\mu \\left(\\lambda^{A} + \\mu\\right)} & \\frac{\\lambda^{o} \\left(\\lambda^{A} + \\lambda^{o} + 2 \\mu\\right)}{\\mu \\left(\\lambda^{A} + \\lambda^{o} + \\mu\\right)}\\end{matrix}\\right]\\right)$"
      ],
      "text/plain": [
       "⎛⎡             Λ                       λ__o          ⎤                        \n",
       "⎜⎢1            ─                     ────────        ⎥  ⎡             Λ       \n",
       "⎜⎢             μ                     λ__A + μ        ⎥  ⎢1            ─       \n",
       "⎜⎢                                                   ⎥  ⎢             μ       \n",
       "⎜⎢   λ__A⋅(λ__A + λ__o + μ)  λ__A⋅(λ__A + λ__o + 2⋅μ)⎥, ⎢                     \n",
       "⎜⎢0  ──────────────────────  ────────────────────────⎥  ⎢   λ__A⋅(λ__A + λ__o \n",
       "⎜⎢        μ⋅(λ__A + μ)                   2           ⎥  ⎢0  ──────────────────\n",
       "⎝⎣                                      μ            ⎦  ⎣        μ⋅(λ__A + μ) \n",
       "\n",
       "                               ⎞\n",
       "                λ__o          ⎤⎟\n",
       "              ────────        ⎥⎟\n",
       "              λ__A + μ        ⎥⎟\n",
       "                              ⎥⎟\n",
       "+ μ)  λ__o⋅(λ__A + λ__o + 2⋅μ)⎥⎟\n",
       "────  ────────────────────────⎥⎟\n",
       "        μ⋅(λ__A + λ__o + μ)   ⎦⎠"
      ]
     },
     "execution_count": 45,
     "metadata": {},
     "output_type": "execute_result"
    }
   ],
   "source": [
    "sym_state_recursive_ratios_1121, sym_state_recursive_ratios_right_1121"
   ]
  },
  {
   "cell_type": "markdown",
   "metadata": {},
   "source": [
    "## $C=1, T=3, N=4, M=1$"
   ]
  },
  {
   "cell_type": "code",
   "execution_count": 4,
   "metadata": {},
   "outputs": [
    {
     "output_type": "execute_result",
     "data": {
      "text/plain": "<networkx.classes.multidigraph.MultiDiGraph at 0x2747319ce80>"
     },
     "metadata": {},
     "execution_count": 4
    },
    {
     "output_type": "display_data",
     "data": {
      "text/plain": "<Figure size 216x432 with 1 Axes>",
      "image/svg+xml": "<?xml version=\"1.0\" encoding=\"utf-8\" standalone=\"no\"?>\r\n<!DOCTYPE svg PUBLIC \"-//W3C//DTD SVG 1.1//EN\"\r\n  \"http://www.w3.org/Graphics/SVG/1.1/DTD/svg11.dtd\">\r\n<!-- Created with matplotlib (https://matplotlib.org/) -->\r\n<svg height=\"340.56pt\" version=\"1.1\" viewBox=\"0 0 181.8 340.56\" width=\"181.8pt\" xmlns=\"http://www.w3.org/2000/svg\" xmlns:xlink=\"http://www.w3.org/1999/xlink\">\r\n <defs>\r\n  <style type=\"text/css\">\r\n*{stroke-linecap:butt;stroke-linejoin:round;}\r\n  </style>\r\n </defs>\r\n <g id=\"figure_1\">\r\n  <g id=\"patch_1\">\r\n   <path d=\"M 0 340.56 \r\nL 181.8 340.56 \r\nL 181.8 0 \r\nL 0 0 \r\nz\r\n\" style=\"fill:none;\"/>\r\n  </g>\r\n  <g id=\"axes_1\">\r\n   <g id=\"patch_2\">\r\n    <path clip-path=\"url(#p07504e3a94)\" d=\"M 31.984063 305.05686 \r\nQ 31.984063 275.691644 31.984063 247.444462 \r\n\" style=\"fill:none;stroke:#000000;stroke-linecap:round;\"/>\r\n    <path clip-path=\"url(#p07504e3a94)\" d=\"M 29.984063 251.444462 \r\nL 31.984063 247.444462 \r\nL 33.984063 251.444462 \r\nL 29.984063 251.444462 \r\nz\r\n\" style=\"stroke:#000000;stroke-linecap:round;\"/>\r\n   </g>\r\n   <g id=\"patch_3\">\r\n    <path clip-path=\"url(#p07504e3a94)\" d=\"M 31.984063 237.66843 \r\nQ 31.984063 208.303214 31.984063 180.056032 \r\n\" style=\"fill:none;stroke:#000000;stroke-linecap:round;\"/>\r\n    <path clip-path=\"url(#p07504e3a94)\" d=\"M 29.984063 184.056032 \r\nL 31.984063 180.056032 \r\nL 33.984063 184.056032 \r\nL 29.984063 184.056032 \r\nz\r\n\" style=\"stroke:#000000;stroke-linecap:round;\"/>\r\n   </g>\r\n   <g id=\"patch_4\">\r\n    <path clip-path=\"url(#p07504e3a94)\" d=\"M 31.984063 170.28 \r\nQ 31.984063 140.914784 31.984063 112.667603 \r\n\" style=\"fill:none;stroke:#000000;stroke-linecap:round;\"/>\r\n    <path clip-path=\"url(#p07504e3a94)\" d=\"M 29.984063 116.667603 \r\nL 31.984063 112.667603 \r\nL 33.984063 116.667603 \r\nL 29.984063 116.667603 \r\nz\r\n\" style=\"stroke:#000000;stroke-linecap:round;\"/>\r\n   </g>\r\n   <g id=\"patch_5\">\r\n    <path clip-path=\"url(#p07504e3a94)\" d=\"M 31.984063 102.89157 \r\nQ 91.943027 102.89157 150.783958 102.89157 \r\n\" style=\"fill:none;stroke:#000000;stroke-linecap:round;\"/>\r\n    <path clip-path=\"url(#p07504e3a94)\" d=\"M 146.783958 100.89157 \r\nL 150.783958 102.89157 \r\nL 146.783958 104.89157 \r\nL 146.783958 100.89157 \r\nz\r\n\" style=\"stroke:#000000;stroke-linecap:round;\"/>\r\n   </g>\r\n   <g id=\"patch_6\">\r\n    <path clip-path=\"url(#p07504e3a94)\" d=\"M 31.984063 102.89157 \r\nQ 31.984063 73.526355 31.984063 45.279173 \r\n\" style=\"fill:none;stroke:#000000;stroke-linecap:round;\"/>\r\n    <path clip-path=\"url(#p07504e3a94)\" d=\"M 29.984063 49.279173 \r\nL 31.984063 45.279173 \r\nL 33.984063 49.279173 \r\nL 29.984063 49.279173 \r\nz\r\n\" style=\"stroke:#000000;stroke-linecap:round;\"/>\r\n   </g>\r\n   <g id=\"patch_7\">\r\n    <path clip-path=\"url(#p07504e3a94)\" d=\"M 160.562012 102.89157 \r\nQ 160.562012 73.526355 160.562012 45.279173 \r\n\" style=\"fill:none;stroke:#000000;stroke-linecap:round;\"/>\r\n    <path clip-path=\"url(#p07504e3a94)\" d=\"M 158.562012 49.279173 \r\nL 160.562012 45.279173 \r\nL 162.562012 49.279173 \r\nL 158.562012 49.279173 \r\nz\r\n\" style=\"stroke:#000000;stroke-linecap:round;\"/>\r\n   </g>\r\n   <g id=\"patch_8\">\r\n    <path clip-path=\"url(#p07504e3a94)\" d=\"M 31.984063 35.50314 \r\nQ 91.943027 35.50314 150.783958 35.50314 \r\n\" style=\"fill:none;stroke:#000000;stroke-linecap:round;\"/>\r\n    <path clip-path=\"url(#p07504e3a94)\" d=\"M 146.783958 33.50314 \r\nL 150.783958 35.50314 \r\nL 146.783958 37.50314 \r\nL 146.783958 33.50314 \r\nz\r\n\" style=\"stroke:#000000;stroke-linecap:round;\"/>\r\n   </g>\r\n   <g id=\"PathCollection_1\">\r\n    <defs>\r\n     <path d=\"M 0 22.36068 \r\nC 5.930122 22.36068 11.618159 20.004617 15.811388 15.811388 \r\nC 20.004617 11.618159 22.36068 5.930122 22.36068 0 \r\nC 22.36068 -5.930122 20.004617 -11.618159 15.811388 -15.811388 \r\nC 11.618159 -20.004617 5.930122 -22.36068 0 -22.36068 \r\nC -5.930122 -22.36068 -11.618159 -20.004617 -15.811388 -15.811388 \r\nC -20.004617 -11.618159 -22.36068 -5.930122 -22.36068 0 \r\nC -22.36068 5.930122 -20.004617 11.618159 -15.811388 15.811388 \r\nC -11.618159 20.004617 -5.930122 22.36068 0 22.36068 \r\nz\r\n\" id=\"mc7356ffa24\" style=\"stroke:#1f78b4;\"/>\r\n    </defs>\r\n    <g clip-path=\"url(#p07504e3a94)\">\r\n     <use style=\"fill:#1f78b4;stroke:#1f78b4;\" x=\"31.984063\" xlink:href=\"#mc7356ffa24\" y=\"305.05686\"/>\r\n    </g>\r\n   </g>\r\n   <g id=\"PathCollection_2\">\r\n    <defs>\r\n     <path d=\"M 0 22.36068 \r\nC 5.930122 22.36068 11.618159 20.004617 15.811388 15.811388 \r\nC 20.004617 11.618159 22.36068 5.930122 22.36068 0 \r\nC 22.36068 -5.930122 20.004617 -11.618159 15.811388 -15.811388 \r\nC 11.618159 -20.004617 5.930122 -22.36068 0 -22.36068 \r\nC -5.930122 -22.36068 -11.618159 -20.004617 -15.811388 -15.811388 \r\nC -20.004617 -11.618159 -22.36068 -5.930122 -22.36068 0 \r\nC -22.36068 5.930122 -20.004617 11.618159 -15.811388 15.811388 \r\nC -11.618159 20.004617 -5.930122 22.36068 0 22.36068 \r\nz\r\n\" id=\"m201a3f5176\" style=\"stroke:#ff0000;\"/>\r\n    </defs>\r\n    <g clip-path=\"url(#p07504e3a94)\">\r\n     <use style=\"fill:#ff0000;stroke:#ff0000;\" x=\"31.984063\" xlink:href=\"#m201a3f5176\" y=\"237.66843\"/>\r\n     <use style=\"fill:#ff0000;stroke:#ff0000;\" x=\"31.984063\" xlink:href=\"#m201a3f5176\" y=\"170.28\"/>\r\n     <use style=\"fill:#ff0000;stroke:#ff0000;\" x=\"31.984063\" xlink:href=\"#m201a3f5176\" y=\"102.89157\"/>\r\n     <use style=\"fill:#ff0000;stroke:#ff0000;\" x=\"160.562012\" xlink:href=\"#m201a3f5176\" y=\"102.89157\"/>\r\n     <use style=\"fill:#ff0000;stroke:#ff0000;\" x=\"31.984063\" xlink:href=\"#m201a3f5176\" y=\"35.50314\"/>\r\n     <use style=\"fill:#ff0000;stroke:#ff0000;\" x=\"160.562012\" xlink:href=\"#m201a3f5176\" y=\"35.50314\"/>\r\n    </g>\r\n   </g>\r\n   <g id=\"text_1\">\r\n    <g clip-path=\"url(#p07504e3a94)\">\r\n     <!-- (0, 0) -->\r\n     <defs>\r\n      <path d=\"M 31 75.875 \r\nQ 24.46875 64.65625 21.28125 53.65625 \r\nQ 18.109375 42.671875 18.109375 31.390625 \r\nQ 18.109375 20.125 21.3125 9.0625 \r\nQ 24.515625 -2 31 -13.1875 \r\nL 23.1875 -13.1875 \r\nQ 15.875 -1.703125 12.234375 9.375 \r\nQ 8.59375 20.453125 8.59375 31.390625 \r\nQ 8.59375 42.28125 12.203125 53.3125 \r\nQ 15.828125 64.359375 23.1875 75.875 \r\nz\r\n\" id=\"DejaVuSans-40\"/>\r\n      <path d=\"M 31.78125 66.40625 \r\nQ 24.171875 66.40625 20.328125 58.90625 \r\nQ 16.5 51.421875 16.5 36.375 \r\nQ 16.5 21.390625 20.328125 13.890625 \r\nQ 24.171875 6.390625 31.78125 6.390625 \r\nQ 39.453125 6.390625 43.28125 13.890625 \r\nQ 47.125 21.390625 47.125 36.375 \r\nQ 47.125 51.421875 43.28125 58.90625 \r\nQ 39.453125 66.40625 31.78125 66.40625 \r\nz\r\nM 31.78125 74.21875 \r\nQ 44.046875 74.21875 50.515625 64.515625 \r\nQ 56.984375 54.828125 56.984375 36.375 \r\nQ 56.984375 17.96875 50.515625 8.265625 \r\nQ 44.046875 -1.421875 31.78125 -1.421875 \r\nQ 19.53125 -1.421875 13.0625 8.265625 \r\nQ 6.59375 17.96875 6.59375 36.375 \r\nQ 6.59375 54.828125 13.0625 64.515625 \r\nQ 19.53125 74.21875 31.78125 74.21875 \r\nz\r\n\" id=\"DejaVuSans-48\"/>\r\n      <path d=\"M 11.71875 12.40625 \r\nL 22.015625 12.40625 \r\nL 22.015625 4 \r\nL 14.015625 -11.625 \r\nL 7.71875 -11.625 \r\nL 11.71875 4 \r\nz\r\n\" id=\"DejaVuSans-44\"/>\r\n      <path id=\"DejaVuSans-32\"/>\r\n      <path d=\"M 8.015625 75.875 \r\nL 15.828125 75.875 \r\nQ 23.140625 64.359375 26.78125 53.3125 \r\nQ 30.421875 42.28125 30.421875 31.390625 \r\nQ 30.421875 20.453125 26.78125 9.375 \r\nQ 23.140625 -1.703125 15.828125 -13.1875 \r\nL 8.015625 -13.1875 \r\nQ 14.5 -2 17.703125 9.0625 \r\nQ 20.90625 20.125 20.90625 31.390625 \r\nQ 20.90625 42.671875 17.703125 53.65625 \r\nQ 14.5 64.65625 8.015625 75.875 \r\nz\r\n\" id=\"DejaVuSans-41\"/>\r\n     </defs>\r\n     <g transform=\"translate(15.853438 308.36811)scale(0.12 -0.12)\">\r\n      <use xlink:href=\"#DejaVuSans-40\"/>\r\n      <use x=\"39.013672\" xlink:href=\"#DejaVuSans-48\"/>\r\n      <use x=\"102.636719\" xlink:href=\"#DejaVuSans-44\"/>\r\n      <use x=\"134.423828\" xlink:href=\"#DejaVuSans-32\"/>\r\n      <use x=\"166.210938\" xlink:href=\"#DejaVuSans-48\"/>\r\n      <use x=\"229.833984\" xlink:href=\"#DejaVuSans-41\"/>\r\n     </g>\r\n    </g>\r\n   </g>\r\n   <g id=\"text_2\">\r\n    <g clip-path=\"url(#p07504e3a94)\">\r\n     <!-- (0, 1) -->\r\n     <defs>\r\n      <path d=\"M 12.40625 8.296875 \r\nL 28.515625 8.296875 \r\nL 28.515625 63.921875 \r\nL 10.984375 60.40625 \r\nL 10.984375 69.390625 \r\nL 28.421875 72.90625 \r\nL 38.28125 72.90625 \r\nL 38.28125 8.296875 \r\nL 54.390625 8.296875 \r\nL 54.390625 0 \r\nL 12.40625 0 \r\nz\r\n\" id=\"DejaVuSans-49\"/>\r\n     </defs>\r\n     <g transform=\"translate(15.853438 240.97968)scale(0.12 -0.12)\">\r\n      <use xlink:href=\"#DejaVuSans-40\"/>\r\n      <use x=\"39.013672\" xlink:href=\"#DejaVuSans-48\"/>\r\n      <use x=\"102.636719\" xlink:href=\"#DejaVuSans-44\"/>\r\n      <use x=\"134.423828\" xlink:href=\"#DejaVuSans-32\"/>\r\n      <use x=\"166.210938\" xlink:href=\"#DejaVuSans-49\"/>\r\n      <use x=\"229.833984\" xlink:href=\"#DejaVuSans-41\"/>\r\n     </g>\r\n    </g>\r\n   </g>\r\n   <g id=\"text_3\">\r\n    <g clip-path=\"url(#p07504e3a94)\">\r\n     <!-- (0, 2) -->\r\n     <defs>\r\n      <path d=\"M 19.1875 8.296875 \r\nL 53.609375 8.296875 \r\nL 53.609375 0 \r\nL 7.328125 0 \r\nL 7.328125 8.296875 \r\nQ 12.9375 14.109375 22.625 23.890625 \r\nQ 32.328125 33.6875 34.8125 36.53125 \r\nQ 39.546875 41.84375 41.421875 45.53125 \r\nQ 43.3125 49.21875 43.3125 52.78125 \r\nQ 43.3125 58.59375 39.234375 62.25 \r\nQ 35.15625 65.921875 28.609375 65.921875 \r\nQ 23.96875 65.921875 18.8125 64.3125 \r\nQ 13.671875 62.703125 7.8125 59.421875 \r\nL 7.8125 69.390625 \r\nQ 13.765625 71.78125 18.9375 73 \r\nQ 24.125 74.21875 28.421875 74.21875 \r\nQ 39.75 74.21875 46.484375 68.546875 \r\nQ 53.21875 62.890625 53.21875 53.421875 \r\nQ 53.21875 48.921875 51.53125 44.890625 \r\nQ 49.859375 40.875 45.40625 35.40625 \r\nQ 44.1875 33.984375 37.640625 27.21875 \r\nQ 31.109375 20.453125 19.1875 8.296875 \r\nz\r\n\" id=\"DejaVuSans-50\"/>\r\n     </defs>\r\n     <g transform=\"translate(15.853438 173.59125)scale(0.12 -0.12)\">\r\n      <use xlink:href=\"#DejaVuSans-40\"/>\r\n      <use x=\"39.013672\" xlink:href=\"#DejaVuSans-48\"/>\r\n      <use x=\"102.636719\" xlink:href=\"#DejaVuSans-44\"/>\r\n      <use x=\"134.423828\" xlink:href=\"#DejaVuSans-32\"/>\r\n      <use x=\"166.210938\" xlink:href=\"#DejaVuSans-50\"/>\r\n      <use x=\"229.833984\" xlink:href=\"#DejaVuSans-41\"/>\r\n     </g>\r\n    </g>\r\n   </g>\r\n   <g id=\"text_4\">\r\n    <g clip-path=\"url(#p07504e3a94)\">\r\n     <!-- (0, 3) -->\r\n     <defs>\r\n      <path d=\"M 40.578125 39.3125 \r\nQ 47.65625 37.796875 51.625 33 \r\nQ 55.609375 28.21875 55.609375 21.1875 \r\nQ 55.609375 10.40625 48.1875 4.484375 \r\nQ 40.765625 -1.421875 27.09375 -1.421875 \r\nQ 22.515625 -1.421875 17.65625 -0.515625 \r\nQ 12.796875 0.390625 7.625 2.203125 \r\nL 7.625 11.71875 \r\nQ 11.71875 9.328125 16.59375 8.109375 \r\nQ 21.484375 6.890625 26.8125 6.890625 \r\nQ 36.078125 6.890625 40.9375 10.546875 \r\nQ 45.796875 14.203125 45.796875 21.1875 \r\nQ 45.796875 27.640625 41.28125 31.265625 \r\nQ 36.765625 34.90625 28.71875 34.90625 \r\nL 20.21875 34.90625 \r\nL 20.21875 43.015625 \r\nL 29.109375 43.015625 \r\nQ 36.375 43.015625 40.234375 45.921875 \r\nQ 44.09375 48.828125 44.09375 54.296875 \r\nQ 44.09375 59.90625 40.109375 62.90625 \r\nQ 36.140625 65.921875 28.71875 65.921875 \r\nQ 24.65625 65.921875 20.015625 65.03125 \r\nQ 15.375 64.15625 9.8125 62.3125 \r\nL 9.8125 71.09375 \r\nQ 15.4375 72.65625 20.34375 73.4375 \r\nQ 25.25 74.21875 29.59375 74.21875 \r\nQ 40.828125 74.21875 47.359375 69.109375 \r\nQ 53.90625 64.015625 53.90625 55.328125 \r\nQ 53.90625 49.265625 50.4375 45.09375 \r\nQ 46.96875 40.921875 40.578125 39.3125 \r\nz\r\n\" id=\"DejaVuSans-51\"/>\r\n     </defs>\r\n     <g transform=\"translate(15.853438 106.20282)scale(0.12 -0.12)\">\r\n      <use xlink:href=\"#DejaVuSans-40\"/>\r\n      <use x=\"39.013672\" xlink:href=\"#DejaVuSans-48\"/>\r\n      <use x=\"102.636719\" xlink:href=\"#DejaVuSans-44\"/>\r\n      <use x=\"134.423828\" xlink:href=\"#DejaVuSans-32\"/>\r\n      <use x=\"166.210938\" xlink:href=\"#DejaVuSans-51\"/>\r\n      <use x=\"229.833984\" xlink:href=\"#DejaVuSans-41\"/>\r\n     </g>\r\n    </g>\r\n   </g>\r\n   <g id=\"text_5\">\r\n    <g clip-path=\"url(#p07504e3a94)\">\r\n     <!-- (1, 3) -->\r\n     <g transform=\"translate(144.431387 106.20282)scale(0.12 -0.12)\">\r\n      <use xlink:href=\"#DejaVuSans-40\"/>\r\n      <use x=\"39.013672\" xlink:href=\"#DejaVuSans-49\"/>\r\n      <use x=\"102.636719\" xlink:href=\"#DejaVuSans-44\"/>\r\n      <use x=\"134.423828\" xlink:href=\"#DejaVuSans-32\"/>\r\n      <use x=\"166.210938\" xlink:href=\"#DejaVuSans-51\"/>\r\n      <use x=\"229.833984\" xlink:href=\"#DejaVuSans-41\"/>\r\n     </g>\r\n    </g>\r\n   </g>\r\n   <g id=\"text_6\">\r\n    <g clip-path=\"url(#p07504e3a94)\">\r\n     <!-- (0, 4) -->\r\n     <defs>\r\n      <path d=\"M 37.796875 64.3125 \r\nL 12.890625 25.390625 \r\nL 37.796875 25.390625 \r\nz\r\nM 35.203125 72.90625 \r\nL 47.609375 72.90625 \r\nL 47.609375 25.390625 \r\nL 58.015625 25.390625 \r\nL 58.015625 17.1875 \r\nL 47.609375 17.1875 \r\nL 47.609375 0 \r\nL 37.796875 0 \r\nL 37.796875 17.1875 \r\nL 4.890625 17.1875 \r\nL 4.890625 26.703125 \r\nz\r\n\" id=\"DejaVuSans-52\"/>\r\n     </defs>\r\n     <g transform=\"translate(15.853438 38.81439)scale(0.12 -0.12)\">\r\n      <use xlink:href=\"#DejaVuSans-40\"/>\r\n      <use x=\"39.013672\" xlink:href=\"#DejaVuSans-48\"/>\r\n      <use x=\"102.636719\" xlink:href=\"#DejaVuSans-44\"/>\r\n      <use x=\"134.423828\" xlink:href=\"#DejaVuSans-32\"/>\r\n      <use x=\"166.210938\" xlink:href=\"#DejaVuSans-52\"/>\r\n      <use x=\"229.833984\" xlink:href=\"#DejaVuSans-41\"/>\r\n     </g>\r\n    </g>\r\n   </g>\r\n   <g id=\"text_7\">\r\n    <g clip-path=\"url(#p07504e3a94)\">\r\n     <!-- (1, 4) -->\r\n     <g transform=\"translate(144.431387 38.81439)scale(0.12 -0.12)\">\r\n      <use xlink:href=\"#DejaVuSans-40\"/>\r\n      <use x=\"39.013672\" xlink:href=\"#DejaVuSans-49\"/>\r\n      <use x=\"102.636719\" xlink:href=\"#DejaVuSans-44\"/>\r\n      <use x=\"134.423828\" xlink:href=\"#DejaVuSans-32\"/>\r\n      <use x=\"166.210938\" xlink:href=\"#DejaVuSans-52\"/>\r\n      <use x=\"229.833984\" xlink:href=\"#DejaVuSans-41\"/>\r\n     </g>\r\n    </g>\r\n   </g>\r\n  </g>\r\n </g>\r\n <defs>\r\n  <clipPath id=\"p07504e3a94\">\r\n   <rect height=\"326.16\" width=\"167.4\" x=\"7.2\" y=\"7.2\"/>\r\n  </clipPath>\r\n </defs>\r\n</svg>\r\n",
      "image/png": "[encoded data removed]"
     },
     "metadata": {}
    }
   ],
   "source": [
    "abg.markov.visualise_ambulance_markov_chain(num_of_servers=1, threshold=3, system_capacity=4, buffer_capacity=1)"
   ]
  },
  {
   "cell_type": "code",
   "execution_count": 46,
   "metadata": {},
   "outputs": [
    {
     "data": {
      "text/latex": [
       "$\\displaystyle \\left( \\left[\\begin{matrix}1 & \\frac{\\Lambda}{\\mu} & \\frac{\\Lambda}{\\mu} & \\frac{\\Lambda}{\\mu} & \\frac{\\lambda^{o}}{\\lambda^{A} + \\mu}\\\\0 & 0 & 0 & \\frac{\\lambda^{A} \\left(\\lambda^{A} + \\lambda^{o} + \\mu\\right)}{\\mu \\left(\\lambda^{A} + \\mu\\right)} & \\frac{\\lambda^{A} \\left(\\lambda^{A} + \\lambda^{o} + 2 \\mu\\right)}{\\mu^{2}}\\end{matrix}\\right], \\  \\left[\\begin{matrix}1 & \\frac{\\Lambda}{\\mu} & \\frac{\\Lambda}{\\mu} & \\frac{\\Lambda}{\\mu} & \\frac{\\lambda^{o}}{\\lambda^{A} + \\mu}\\\\0 & 0 & 0 & \\frac{\\lambda^{A} \\left(\\lambda^{A} + \\lambda^{o} + \\mu\\right)}{\\mu \\left(\\lambda^{A} + \\mu\\right)} & \\frac{\\lambda^{o} \\left(\\lambda^{A} + \\lambda^{o} + 2 \\mu\\right)}{\\mu \\left(\\lambda^{A} + \\lambda^{o} + \\mu\\right)}\\end{matrix}\\right]\\right)$"
      ],
      "text/plain": [
       "⎛⎡   Λ  Λ            Λ                       λ__o          ⎤                  \n",
       "⎜⎢1  ─  ─            ─                     ────────        ⎥  ⎡   Λ  Λ        \n",
       "⎜⎢   μ  μ            μ                     λ__A + μ        ⎥  ⎢1  ─  ─        \n",
       "⎜⎢                                                         ⎥  ⎢   μ  μ        \n",
       "⎜⎢         λ__A⋅(λ__A + λ__o + μ)  λ__A⋅(λ__A + λ__o + 2⋅μ)⎥, ⎢               \n",
       "⎜⎢0  0  0  ──────────────────────  ────────────────────────⎥  ⎢         λ__A⋅(\n",
       "⎜⎢              μ⋅(λ__A + μ)                   2           ⎥  ⎢0  0  0  ──────\n",
       "⎝⎣                                            μ            ⎦  ⎣              μ\n",
       "\n",
       "                                           ⎞\n",
       "    Λ                       λ__o          ⎤⎟\n",
       "    ─                     ────────        ⎥⎟\n",
       "    μ                     λ__A + μ        ⎥⎟\n",
       "                                          ⎥⎟\n",
       "λ__A + λ__o + μ)  λ__o⋅(λ__A + λ__o + 2⋅μ)⎥⎟\n",
       "────────────────  ────────────────────────⎥⎟\n",
       "⋅(λ__A + μ)         μ⋅(λ__A + λ__o + μ)   ⎦⎠"
      ]
     },
     "execution_count": 46,
     "metadata": {},
     "output_type": "execute_result"
    }
   ],
   "source": [
    "sym_state_recursive_ratios_1341, sym_state_recursive_ratios_right_1341"
   ]
  },
  {
   "cell_type": "markdown",
   "metadata": {},
   "source": [
    "## $C=1, T=1, N=2, M=2$"
   ]
  },
  {
   "cell_type": "code",
   "execution_count": 5,
   "metadata": {},
   "outputs": [
    {
     "output_type": "execute_result",
     "data": {
      "text/plain": "<networkx.classes.multidigraph.MultiDiGraph at 0x274739b2310>"
     },
     "metadata": {},
     "execution_count": 5
    },
    {
     "output_type": "display_data",
     "data": {
      "text/plain": "<Figure size 324x216 with 1 Axes>",
      "image/svg+xml": "<?xml version=\"1.0\" encoding=\"utf-8\" standalone=\"no\"?>\r\n<!DOCTYPE svg PUBLIC \"-//W3C//DTD SVG 1.1//EN\"\r\n  \"http://www.w3.org/Graphics/SVG/1.1/DTD/svg11.dtd\">\r\n<!-- Created with matplotlib (https://matplotlib.org/) -->\r\n<svg height=\"177.48pt\" version=\"1.1\" viewBox=\"0 0 265.5 177.48\" width=\"265.5pt\" xmlns=\"http://www.w3.org/2000/svg\" xmlns:xlink=\"http://www.w3.org/1999/xlink\">\r\n <defs>\r\n  <style type=\"text/css\">\r\n*{stroke-linecap:butt;stroke-linejoin:round;}\r\n  </style>\r\n </defs>\r\n <g id=\"figure_1\">\r\n  <g id=\"patch_1\">\r\n   <path d=\"M 0 177.48 \r\nL 265.5 177.48 \r\nL 265.5 0 \r\nL 0 0 \r\nz\r\n\" style=\"fill:none;\"/>\r\n  </g>\r\n  <g id=\"axes_1\">\r\n   <g id=\"patch_2\">\r\n    <path clip-path=\"url(#p2bf559f742)\" d=\"M 28.989669 153.780618 \r\nQ 28.989669 124.975391 28.989669 97.288199 \r\n\" style=\"fill:none;stroke:#000000;stroke-linecap:round;\"/>\r\n    <path clip-path=\"url(#p2bf559f742)\" d=\"M 26.989669 101.288199 \r\nL 28.989669 97.288199 \r\nL 30.989669 101.288199 \r\nL 26.989669 101.288199 \r\nz\r\n\" style=\"stroke:#000000;stroke-linecap:round;\"/>\r\n   </g>\r\n   <g id=\"patch_3\">\r\n    <path clip-path=\"url(#p2bf559f742)\" d=\"M 28.989669 87.510194 \r\nQ 76.539627 87.510194 122.97155 87.510194 \r\n\" style=\"fill:none;stroke:#000000;stroke-linecap:round;\"/>\r\n    <path clip-path=\"url(#p2bf559f742)\" d=\"M 118.97155 85.510194 \r\nL 122.97155 87.510194 \r\nL 118.97155 89.510194 \r\nL 118.97155 85.510194 \r\nz\r\n\" style=\"stroke:#000000;stroke-linecap:round;\"/>\r\n   </g>\r\n   <g id=\"patch_4\">\r\n    <path clip-path=\"url(#p2bf559f742)\" d=\"M 28.989669 87.510194 \r\nQ 28.989669 58.704968 28.989669 31.017775 \r\n\" style=\"fill:none;stroke:#000000;stroke-linecap:round;\"/>\r\n    <path clip-path=\"url(#p2bf559f742)\" d=\"M 26.989669 35.017775 \r\nL 28.989669 31.017775 \r\nL 30.989669 35.017775 \r\nL 26.989669 35.017775 \r\nz\r\n\" style=\"stroke:#000000;stroke-linecap:round;\"/>\r\n   </g>\r\n   <g id=\"patch_5\">\r\n    <path clip-path=\"url(#p2bf559f742)\" d=\"M 132.75 87.510194 \r\nQ 180.299957 87.510194 226.731881 87.510194 \r\n\" style=\"fill:none;stroke:#000000;stroke-linecap:round;\"/>\r\n    <path clip-path=\"url(#p2bf559f742)\" d=\"M 222.731881 85.510194 \r\nL 226.731881 87.510194 \r\nL 222.731881 89.510194 \r\nL 222.731881 85.510194 \r\nz\r\n\" style=\"stroke:#000000;stroke-linecap:round;\"/>\r\n   </g>\r\n   <g id=\"patch_6\">\r\n    <path clip-path=\"url(#p2bf559f742)\" d=\"M 132.75 87.510194 \r\nQ 132.75 58.704968 132.75 31.017775 \r\n\" style=\"fill:none;stroke:#000000;stroke-linecap:round;\"/>\r\n    <path clip-path=\"url(#p2bf559f742)\" d=\"M 130.75 35.017775 \r\nL 132.75 31.017775 \r\nL 134.75 35.017775 \r\nL 130.75 35.017775 \r\nz\r\n\" style=\"stroke:#000000;stroke-linecap:round;\"/>\r\n   </g>\r\n   <g id=\"patch_7\">\r\n    <path clip-path=\"url(#p2bf559f742)\" d=\"M 28.989669 21.23977 \r\nQ 76.539627 21.23977 122.97155 21.23977 \r\n\" style=\"fill:none;stroke:#000000;stroke-linecap:round;\"/>\r\n    <path clip-path=\"url(#p2bf559f742)\" d=\"M 118.97155 19.23977 \r\nL 122.97155 21.23977 \r\nL 118.97155 23.23977 \r\nL 118.97155 19.23977 \r\nz\r\n\" style=\"stroke:#000000;stroke-linecap:round;\"/>\r\n   </g>\r\n   <g id=\"patch_8\">\r\n    <path clip-path=\"url(#p2bf559f742)\" d=\"M 236.510331 87.510194 \r\nQ 236.510331 58.704968 236.510331 31.017775 \r\n\" style=\"fill:none;stroke:#000000;stroke-linecap:round;\"/>\r\n    <path clip-path=\"url(#p2bf559f742)\" d=\"M 234.510331 35.017775 \r\nL 236.510331 31.017775 \r\nL 238.510331 35.017775 \r\nL 234.510331 35.017775 \r\nz\r\n\" style=\"stroke:#000000;stroke-linecap:round;\"/>\r\n   </g>\r\n   <g id=\"patch_9\">\r\n    <path clip-path=\"url(#p2bf559f742)\" d=\"M 132.75 21.23977 \r\nQ 180.299957 21.23977 226.731881 21.23977 \r\n\" style=\"fill:none;stroke:#000000;stroke-linecap:round;\"/>\r\n    <path clip-path=\"url(#p2bf559f742)\" d=\"M 222.731881 19.23977 \r\nL 226.731881 21.23977 \r\nL 222.731881 23.23977 \r\nL 222.731881 19.23977 \r\nz\r\n\" style=\"stroke:#000000;stroke-linecap:round;\"/>\r\n   </g>\r\n   <g id=\"PathCollection_1\">\r\n    <defs>\r\n     <path d=\"M 0 22.36068 \r\nC 5.930122 22.36068 11.618159 20.004617 15.811388 15.811388 \r\nC 20.004617 11.618159 22.36068 5.930122 22.36068 0 \r\nC 22.36068 -5.930122 20.004617 -11.618159 15.811388 -15.811388 \r\nC 11.618159 -20.004617 5.930122 -22.36068 0 -22.36068 \r\nC -5.930122 -22.36068 -11.618159 -20.004617 -15.811388 -15.811388 \r\nC -20.004617 -11.618159 -22.36068 -5.930122 -22.36068 0 \r\nC -22.36068 5.930122 -20.004617 11.618159 -15.811388 15.811388 \r\nC -11.618159 20.004617 -5.930122 22.36068 0 22.36068 \r\nz\r\n\" id=\"m4cb9f700bc\" style=\"stroke:#1f78b4;\"/>\r\n    </defs>\r\n    <g clip-path=\"url(#p2bf559f742)\">\r\n     <use style=\"fill:#1f78b4;stroke:#1f78b4;\" x=\"28.989669\" xlink:href=\"#m4cb9f700bc\" y=\"153.780618\"/>\r\n    </g>\r\n   </g>\r\n   <g id=\"PathCollection_2\">\r\n    <defs>\r\n     <path d=\"M 0 22.36068 \r\nC 5.930122 22.36068 11.618159 20.004617 15.811388 15.811388 \r\nC 20.004617 11.618159 22.36068 5.930122 22.36068 0 \r\nC 22.36068 -5.930122 20.004617 -11.618159 15.811388 -15.811388 \r\nC 11.618159 -20.004617 5.930122 -22.36068 0 -22.36068 \r\nC -5.930122 -22.36068 -11.618159 -20.004617 -15.811388 -15.811388 \r\nC -20.004617 -11.618159 -22.36068 -5.930122 -22.36068 0 \r\nC -22.36068 5.930122 -20.004617 11.618159 -15.811388 15.811388 \r\nC -11.618159 20.004617 -5.930122 22.36068 0 22.36068 \r\nz\r\n\" id=\"m2bd2782d07\" style=\"stroke:#ff0000;\"/>\r\n    </defs>\r\n    <g clip-path=\"url(#p2bf559f742)\">\r\n     <use style=\"fill:#ff0000;stroke:#ff0000;\" x=\"28.989669\" xlink:href=\"#m2bd2782d07\" y=\"87.510194\"/>\r\n     <use style=\"fill:#ff0000;stroke:#ff0000;\" x=\"132.75\" xlink:href=\"#m2bd2782d07\" y=\"87.510194\"/>\r\n     <use style=\"fill:#ff0000;stroke:#ff0000;\" x=\"236.510331\" xlink:href=\"#m2bd2782d07\" y=\"87.510194\"/>\r\n     <use style=\"fill:#ff0000;stroke:#ff0000;\" x=\"28.989669\" xlink:href=\"#m2bd2782d07\" y=\"21.23977\"/>\r\n     <use style=\"fill:#ff0000;stroke:#ff0000;\" x=\"132.75\" xlink:href=\"#m2bd2782d07\" y=\"21.23977\"/>\r\n     <use style=\"fill:#ff0000;stroke:#ff0000;\" x=\"236.510331\" xlink:href=\"#m2bd2782d07\" y=\"21.23977\"/>\r\n    </g>\r\n   </g>\r\n   <g id=\"text_1\">\r\n    <g clip-path=\"url(#p2bf559f742)\">\r\n     <!-- (0, 0) -->\r\n     <defs>\r\n      <path d=\"M 31 75.875 \r\nQ 24.46875 64.65625 21.28125 53.65625 \r\nQ 18.109375 42.671875 18.109375 31.390625 \r\nQ 18.109375 20.125 21.3125 9.0625 \r\nQ 24.515625 -2 31 -13.1875 \r\nL 23.1875 -13.1875 \r\nQ 15.875 -1.703125 12.234375 9.375 \r\nQ 8.59375 20.453125 8.59375 31.390625 \r\nQ 8.59375 42.28125 12.203125 53.3125 \r\nQ 15.828125 64.359375 23.1875 75.875 \r\nz\r\n\" id=\"DejaVuSans-40\"/>\r\n      <path d=\"M 31.78125 66.40625 \r\nQ 24.171875 66.40625 20.328125 58.90625 \r\nQ 16.5 51.421875 16.5 36.375 \r\nQ 16.5 21.390625 20.328125 13.890625 \r\nQ 24.171875 6.390625 31.78125 6.390625 \r\nQ 39.453125 6.390625 43.28125 13.890625 \r\nQ 47.125 21.390625 47.125 36.375 \r\nQ 47.125 51.421875 43.28125 58.90625 \r\nQ 39.453125 66.40625 31.78125 66.40625 \r\nz\r\nM 31.78125 74.21875 \r\nQ 44.046875 74.21875 50.515625 64.515625 \r\nQ 56.984375 54.828125 56.984375 36.375 \r\nQ 56.984375 17.96875 50.515625 8.265625 \r\nQ 44.046875 -1.421875 31.78125 -1.421875 \r\nQ 19.53125 -1.421875 13.0625 8.265625 \r\nQ 6.59375 17.96875 6.59375 36.375 \r\nQ 6.59375 54.828125 13.0625 64.515625 \r\nQ 19.53125 74.21875 31.78125 74.21875 \r\nz\r\n\" id=\"DejaVuSans-48\"/>\r\n      <path d=\"M 11.71875 12.40625 \r\nL 22.015625 12.40625 \r\nL 22.015625 4 \r\nL 14.015625 -11.625 \r\nL 7.71875 -11.625 \r\nL 11.71875 4 \r\nz\r\n\" id=\"DejaVuSans-44\"/>\r\n      <path id=\"DejaVuSans-32\"/>\r\n      <path d=\"M 8.015625 75.875 \r\nL 15.828125 75.875 \r\nQ 23.140625 64.359375 26.78125 53.3125 \r\nQ 30.421875 42.28125 30.421875 31.390625 \r\nQ 30.421875 20.453125 26.78125 9.375 \r\nQ 23.140625 -1.703125 15.828125 -13.1875 \r\nL 8.015625 -13.1875 \r\nQ 14.5 -2 17.703125 9.0625 \r\nQ 20.90625 20.125 20.90625 31.390625 \r\nQ 20.90625 42.671875 17.703125 53.65625 \r\nQ 14.5 64.65625 8.015625 75.875 \r\nz\r\n\" id=\"DejaVuSans-41\"/>\r\n     </defs>\r\n     <g transform=\"translate(12.859044 157.091868)scale(0.12 -0.12)\">\r\n      <use xlink:href=\"#DejaVuSans-40\"/>\r\n      <use x=\"39.013672\" xlink:href=\"#DejaVuSans-48\"/>\r\n      <use x=\"102.636719\" xlink:href=\"#DejaVuSans-44\"/>\r\n      <use x=\"134.423828\" xlink:href=\"#DejaVuSans-32\"/>\r\n      <use x=\"166.210938\" xlink:href=\"#DejaVuSans-48\"/>\r\n      <use x=\"229.833984\" xlink:href=\"#DejaVuSans-41\"/>\r\n     </g>\r\n    </g>\r\n   </g>\r\n   <g id=\"text_2\">\r\n    <g clip-path=\"url(#p2bf559f742)\">\r\n     <!-- (0, 1) -->\r\n     <defs>\r\n      <path d=\"M 12.40625 8.296875 \r\nL 28.515625 8.296875 \r\nL 28.515625 63.921875 \r\nL 10.984375 60.40625 \r\nL 10.984375 69.390625 \r\nL 28.421875 72.90625 \r\nL 38.28125 72.90625 \r\nL 38.28125 8.296875 \r\nL 54.390625 8.296875 \r\nL 54.390625 0 \r\nL 12.40625 0 \r\nz\r\n\" id=\"DejaVuSans-49\"/>\r\n     </defs>\r\n     <g transform=\"translate(12.859044 90.821444)scale(0.12 -0.12)\">\r\n      <use xlink:href=\"#DejaVuSans-40\"/>\r\n      <use x=\"39.013672\" xlink:href=\"#DejaVuSans-48\"/>\r\n      <use x=\"102.636719\" xlink:href=\"#DejaVuSans-44\"/>\r\n      <use x=\"134.423828\" xlink:href=\"#DejaVuSans-32\"/>\r\n      <use x=\"166.210938\" xlink:href=\"#DejaVuSans-49\"/>\r\n      <use x=\"229.833984\" xlink:href=\"#DejaVuSans-41\"/>\r\n     </g>\r\n    </g>\r\n   </g>\r\n   <g id=\"text_3\">\r\n    <g clip-path=\"url(#p2bf559f742)\">\r\n     <!-- (1, 1) -->\r\n     <g transform=\"translate(116.619375 90.821444)scale(0.12 -0.12)\">\r\n      <use xlink:href=\"#DejaVuSans-40\"/>\r\n      <use x=\"39.013672\" xlink:href=\"#DejaVuSans-49\"/>\r\n      <use x=\"102.636719\" xlink:href=\"#DejaVuSans-44\"/>\r\n      <use x=\"134.423828\" xlink:href=\"#DejaVuSans-32\"/>\r\n      <use x=\"166.210938\" xlink:href=\"#DejaVuSans-49\"/>\r\n      <use x=\"229.833984\" xlink:href=\"#DejaVuSans-41\"/>\r\n     </g>\r\n    </g>\r\n   </g>\r\n   <g id=\"text_4\">\r\n    <g clip-path=\"url(#p2bf559f742)\">\r\n     <!-- (0, 2) -->\r\n     <defs>\r\n      <path d=\"M 19.1875 8.296875 \r\nL 53.609375 8.296875 \r\nL 53.609375 0 \r\nL 7.328125 0 \r\nL 7.328125 8.296875 \r\nQ 12.9375 14.109375 22.625 23.890625 \r\nQ 32.328125 33.6875 34.8125 36.53125 \r\nQ 39.546875 41.84375 41.421875 45.53125 \r\nQ 43.3125 49.21875 43.3125 52.78125 \r\nQ 43.3125 58.59375 39.234375 62.25 \r\nQ 35.15625 65.921875 28.609375 65.921875 \r\nQ 23.96875 65.921875 18.8125 64.3125 \r\nQ 13.671875 62.703125 7.8125 59.421875 \r\nL 7.8125 69.390625 \r\nQ 13.765625 71.78125 18.9375 73 \r\nQ 24.125 74.21875 28.421875 74.21875 \r\nQ 39.75 74.21875 46.484375 68.546875 \r\nQ 53.21875 62.890625 53.21875 53.421875 \r\nQ 53.21875 48.921875 51.53125 44.890625 \r\nQ 49.859375 40.875 45.40625 35.40625 \r\nQ 44.1875 33.984375 37.640625 27.21875 \r\nQ 31.109375 20.453125 19.1875 8.296875 \r\nz\r\n\" id=\"DejaVuSans-50\"/>\r\n     </defs>\r\n     <g transform=\"translate(12.859044 24.55102)scale(0.12 -0.12)\">\r\n      <use xlink:href=\"#DejaVuSans-40\"/>\r\n      <use x=\"39.013672\" xlink:href=\"#DejaVuSans-48\"/>\r\n      <use x=\"102.636719\" xlink:href=\"#DejaVuSans-44\"/>\r\n      <use x=\"134.423828\" xlink:href=\"#DejaVuSans-32\"/>\r\n      <use x=\"166.210938\" xlink:href=\"#DejaVuSans-50\"/>\r\n      <use x=\"229.833984\" xlink:href=\"#DejaVuSans-41\"/>\r\n     </g>\r\n    </g>\r\n   </g>\r\n   <g id=\"text_5\">\r\n    <g clip-path=\"url(#p2bf559f742)\">\r\n     <!-- (2, 1) -->\r\n     <g transform=\"translate(220.379706 90.821444)scale(0.12 -0.12)\">\r\n      <use xlink:href=\"#DejaVuSans-40\"/>\r\n      <use x=\"39.013672\" xlink:href=\"#DejaVuSans-50\"/>\r\n      <use x=\"102.636719\" xlink:href=\"#DejaVuSans-44\"/>\r\n      <use x=\"134.423828\" xlink:href=\"#DejaVuSans-32\"/>\r\n      <use x=\"166.210938\" xlink:href=\"#DejaVuSans-49\"/>\r\n      <use x=\"229.833984\" xlink:href=\"#DejaVuSans-41\"/>\r\n     </g>\r\n    </g>\r\n   </g>\r\n   <g id=\"text_6\">\r\n    <g clip-path=\"url(#p2bf559f742)\">\r\n     <!-- (1, 2) -->\r\n     <g transform=\"translate(116.619375 24.55102)scale(0.12 -0.12)\">\r\n      <use xlink:href=\"#DejaVuSans-40\"/>\r\n      <use x=\"39.013672\" xlink:href=\"#DejaVuSans-49\"/>\r\n      <use x=\"102.636719\" xlink:href=\"#DejaVuSans-44\"/>\r\n      <use x=\"134.423828\" xlink:href=\"#DejaVuSans-32\"/>\r\n      <use x=\"166.210938\" xlink:href=\"#DejaVuSans-50\"/>\r\n      <use x=\"229.833984\" xlink:href=\"#DejaVuSans-41\"/>\r\n     </g>\r\n    </g>\r\n   </g>\r\n   <g id=\"text_7\">\r\n    <g clip-path=\"url(#p2bf559f742)\">\r\n     <!-- (2, 2) -->\r\n     <g transform=\"translate(220.379706 24.55102)scale(0.12 -0.12)\">\r\n      <use xlink:href=\"#DejaVuSans-40\"/>\r\n      <use x=\"39.013672\" xlink:href=\"#DejaVuSans-50\"/>\r\n      <use x=\"102.636719\" xlink:href=\"#DejaVuSans-44\"/>\r\n      <use x=\"134.423828\" xlink:href=\"#DejaVuSans-32\"/>\r\n      <use x=\"166.210938\" xlink:href=\"#DejaVuSans-50\"/>\r\n      <use x=\"229.833984\" xlink:href=\"#DejaVuSans-41\"/>\r\n     </g>\r\n    </g>\r\n   </g>\r\n  </g>\r\n </g>\r\n <defs>\r\n  <clipPath id=\"p2bf559f742\">\r\n   <rect height=\"163.08\" width=\"251.1\" x=\"7.2\" y=\"7.2\"/>\r\n  </clipPath>\r\n </defs>\r\n</svg>\r\n",
      "image/png": "[encoded data removed]"
     },
     "metadata": {}
    }
   ],
   "source": [
    "abg.markov.visualise_ambulance_markov_chain(num_of_servers=1, threshold=1, system_capacity=2, buffer_capacity=2)"
   ]
  },
  {
   "cell_type": "code",
   "execution_count": 47,
   "metadata": {},
   "outputs": [
    {
     "data": {
      "text/latex": [
       "$\\displaystyle \\left( \\left[\\begin{matrix}1 & \\frac{\\Lambda}{\\mu} & \\frac{\\lambda^{o}}{\\lambda^{A} + \\mu}\\\\0 & \\frac{\\lambda^{A} \\left(\\lambda^{A} + \\lambda^{o} + \\mu\\right)}{\\mu \\left(\\lambda^{A} + \\mu\\right)} & \\frac{\\lambda^{A} \\left(\\lambda^{A} + \\lambda^{o} + 2 \\mu\\right)}{\\mu \\left(\\lambda^{A} + \\mu\\right)}\\\\0 & \\frac{\\lambda^{A} \\left(\\left(\\lambda^{A}\\right)^{2} + 2 \\lambda^{A} \\lambda^{o} + 2 \\lambda^{A} \\mu + \\left(\\lambda^{o}\\right)^{2} + 3 \\lambda^{o} \\mu + \\mu^{2}\\right)}{\\mu \\left(\\lambda^{A} + \\mu\\right) \\left(\\lambda^{A} + \\lambda^{o} + \\mu\\right)} & \\frac{\\lambda^{A} \\left(\\left(\\lambda^{A}\\right)^{2} + 2 \\lambda^{A} \\lambda^{o} + 3 \\lambda^{A} \\mu + \\left(\\lambda^{o}\\right)^{2} + 4 \\lambda^{o} \\mu + 3 \\mu^{2}\\right)}{\\mu^{2} \\left(\\lambda^{A} + \\lambda^{o} + 2 \\mu\\right)}\\end{matrix}\\right], \\  \\left[\\begin{matrix}1 & \\frac{\\Lambda}{\\mu} & \\frac{\\lambda^{o}}{\\lambda^{A} + \\mu}\\\\0 & \\frac{\\lambda^{A} \\left(\\lambda^{A} + \\lambda^{o} + \\mu\\right)}{\\mu \\left(\\lambda^{A} + \\mu\\right)} & \\frac{\\lambda^{o} \\left(\\lambda^{A} + \\lambda^{o} + 2 \\mu\\right)}{\\left(\\lambda^{A} + \\mu\\right) \\left(\\lambda^{A} + \\lambda^{o} + \\mu\\right)}\\\\0 & \\frac{\\lambda^{A} \\left(\\left(\\lambda^{A}\\right)^{2} + 2 \\lambda^{A} \\lambda^{o} + 2 \\lambda^{A} \\mu + \\left(\\lambda^{o}\\right)^{2} + 3 \\lambda^{o} \\mu + \\mu^{2}\\right)}{\\mu \\left(\\lambda^{A} + \\mu\\right) \\left(\\lambda^{A} + \\lambda^{o} + \\mu\\right)} & \\frac{\\lambda^{o} \\left(\\left(\\lambda^{A}\\right)^{2} + 2 \\lambda^{A} \\lambda^{o} + 3 \\lambda^{A} \\mu + \\left(\\lambda^{o}\\right)^{2} + 4 \\lambda^{o} \\mu + 3 \\mu^{2}\\right)}{\\mu \\left(\\left(\\lambda^{A}\\right)^{2} + 2 \\lambda^{A} \\lambda^{o} + 2 \\lambda^{A} \\mu + \\left(\\lambda^{o}\\right)^{2} + 3 \\lambda^{o} \\mu + \\mu^{2}\\right)}\\end{matrix}\\right]\\right)$"
      ],
      "text/plain": [
       "⎛⎡                                 Λ                                          \n",
       "⎜⎢1                                ─                                          \n",
       "⎜⎢                                 μ                                          \n",
       "⎜⎢                                                                            \n",
       "⎜⎢                      λ__A⋅(λ__A + λ__o + μ)                                \n",
       "⎜⎢0                     ──────────────────────                                \n",
       "⎜⎢                           μ⋅(λ__A + μ)                                     \n",
       "⎜⎢                                                                            \n",
       "⎜⎢        ⎛    2                                2               2⎞       ⎛    \n",
       "⎜⎢   λ__A⋅⎝λ__A  + 2⋅λ__A⋅λ__o + 2⋅λ__A⋅μ + λ__o  + 3⋅λ__o⋅μ + μ ⎠  λ__A⋅⎝λ__A\n",
       "⎜⎢0  ─────────────────────────────────────────────────────────────  ──────────\n",
       "⎜⎢                   μ⋅(λ__A + μ)⋅(λ__A + λ__o + μ)                           \n",
       "⎝⎣                                                                            \n",
       "\n",
       "                   λ__o                              ⎤  ⎡                     \n",
       "                 ────────                            ⎥  ⎢1                    \n",
       "                 λ__A + μ                            ⎥  ⎢                     \n",
       "                                                     ⎥  ⎢                     \n",
       "         λ__A⋅(λ__A + λ__o + 2⋅μ)                    ⎥  ⎢                     \n",
       "         ────────────────────────                    ⎥  ⎢0                    \n",
       "               μ⋅(λ__A + μ)                          ⎥, ⎢                     \n",
       "                                                     ⎥  ⎢                     \n",
       "2                                2                 2⎞⎥  ⎢        ⎛    2       \n",
       "  + 2⋅λ__A⋅λ__o + 3⋅λ__A⋅μ + λ__o  + 4⋅λ__o⋅μ + 3⋅μ ⎠⎥  ⎢   λ__A⋅⎝λ__A  + 2⋅λ_\n",
       "─────────────────────────────────────────────────────⎥  ⎢0  ──────────────────\n",
       "            2                                        ⎥  ⎢                   μ⋅\n",
       "           μ ⋅(λ__A + λ__o + 2⋅μ)                    ⎦  ⎣                     \n",
       "\n",
       "            Λ                                                             λ__o\n",
       "            ─                                                           ──────\n",
       "            μ                                                           λ__A +\n",
       "                                                                              \n",
       " λ__A⋅(λ__A + λ__o + μ)                                         λ__o⋅(λ__A + λ\n",
       " ──────────────────────                                       ────────────────\n",
       "      μ⋅(λ__A + μ)                                            (λ__A + μ)⋅(λ__A\n",
       "                                                                              \n",
       "                         2               2⎞       ⎛    2                      \n",
       "_A⋅λ__o + 2⋅λ__A⋅μ + λ__o  + 3⋅λ__o⋅μ + μ ⎠  λ__o⋅⎝λ__A  + 2⋅λ__A⋅λ__o + 3⋅λ__\n",
       "───────────────────────────────────────────  ─────────────────────────────────\n",
       "(λ__A + μ)⋅(λ__A + λ__o + μ)                      ⎛    2                      \n",
       "                                                μ⋅⎝λ__A  + 2⋅λ__A⋅λ__o + 2⋅λ__\n",
       "\n",
       "                              ⎤⎞\n",
       "──                            ⎥⎟\n",
       " μ                            ⎥⎟\n",
       "                              ⎥⎟\n",
       "__o + 2⋅μ)                    ⎥⎟\n",
       "────────────                  ⎥⎟\n",
       " + λ__o + μ)                  ⎥⎟\n",
       "                              ⎥⎟\n",
       "          2                 2⎞⎥⎟\n",
       "A⋅μ + λ__o  + 4⋅λ__o⋅μ + 3⋅μ ⎠⎥⎟\n",
       "──────────────────────────────⎥⎟\n",
       "          2               2⎞  ⎥⎟\n",
       "A⋅μ + λ__o  + 3⋅λ__o⋅μ + μ ⎠  ⎦⎠"
      ]
     },
     "execution_count": 47,
     "metadata": {},
     "output_type": "execute_result"
    }
   ],
   "source": [
    "sym_state_recursive_ratios_1122, sym_state_recursive_ratios_right_1122"
   ]
  },
  {
   "cell_type": "markdown",
   "metadata": {},
   "source": [
    "## $C=1, T=1, N=3, M=1$"
   ]
  },
  {
   "cell_type": "code",
   "execution_count": 15,
   "metadata": {},
   "outputs": [
    {
     "output_type": "execute_result",
     "data": {
      "text/plain": "<networkx.classes.multidigraph.MultiDiGraph at 0x27474d878b0>"
     },
     "metadata": {},
     "execution_count": 15
    },
    {
     "output_type": "display_data",
     "data": {
      "text/plain": "<Figure size 216x324 with 1 Axes>",
      "image/svg+xml": "<?xml version=\"1.0\" encoding=\"utf-8\" standalone=\"no\"?>\r\n<!DOCTYPE svg PUBLIC \"-//W3C//DTD SVG 1.1//EN\"\r\n  \"http://www.w3.org/Graphics/SVG/1.1/DTD/svg11.dtd\">\r\n<!-- Created with matplotlib (https://matplotlib.org/) -->\r\n<svg height=\"259.02pt\" version=\"1.1\" viewBox=\"0 0 181.8 259.02\" width=\"181.8pt\" xmlns=\"http://www.w3.org/2000/svg\" xmlns:xlink=\"http://www.w3.org/1999/xlink\">\r\n <defs>\r\n  <style type=\"text/css\">\r\n*{stroke-linecap:butt;stroke-linejoin:round;}\r\n  </style>\r\n </defs>\r\n <g id=\"figure_1\">\r\n  <g id=\"patch_1\">\r\n   <path d=\"M 0 259.02 \r\nL 181.8 259.02 \r\nL 181.8 0 \r\nL 0 0 \r\nz\r\n\" style=\"fill:none;\"/>\r\n  </g>\r\n  <g id=\"axes_1\">\r\n   <g id=\"patch_2\">\r\n    <path clip-path=\"url(#p55bcaeda85)\" d=\"M 31.984063 230.592645 \r\nQ 31.984063 201.227429 31.984063 172.980247 \r\n\" style=\"fill:none;stroke:#000000;stroke-linecap:round;\"/>\r\n    <path clip-path=\"url(#p55bcaeda85)\" d=\"M 29.984063 176.980247 \r\nL 31.984063 172.980247 \r\nL 33.984063 176.980247 \r\nL 29.984063 176.980247 \r\nz\r\n\" style=\"stroke:#000000;stroke-linecap:round;\"/>\r\n   </g>\r\n   <g id=\"patch_3\">\r\n    <path clip-path=\"url(#p55bcaeda85)\" d=\"M 31.984063 163.204215 \r\nQ 91.943027 163.204215 150.783958 163.204215 \r\n\" style=\"fill:none;stroke:#000000;stroke-linecap:round;\"/>\r\n    <path clip-path=\"url(#p55bcaeda85)\" d=\"M 146.783958 161.204215 \r\nL 150.783958 163.204215 \r\nL 146.783958 165.204215 \r\nL 146.783958 161.204215 \r\nz\r\n\" style=\"stroke:#000000;stroke-linecap:round;\"/>\r\n   </g>\r\n   <g id=\"patch_4\">\r\n    <path clip-path=\"url(#p55bcaeda85)\" d=\"M 31.984063 163.204215 \r\nQ 31.984063 133.838999 31.984063 105.591817 \r\n\" style=\"fill:none;stroke:#000000;stroke-linecap:round;\"/>\r\n    <path clip-path=\"url(#p55bcaeda85)\" d=\"M 29.984063 109.591817 \r\nL 31.984063 105.591817 \r\nL 33.984063 109.591817 \r\nL 29.984063 109.591817 \r\nz\r\n\" style=\"stroke:#000000;stroke-linecap:round;\"/>\r\n   </g>\r\n   <g id=\"patch_5\">\r\n    <path clip-path=\"url(#p55bcaeda85)\" d=\"M 160.562012 163.204215 \r\nQ 160.562012 133.838999 160.562012 105.591817 \r\n\" style=\"fill:none;stroke:#000000;stroke-linecap:round;\"/>\r\n    <path clip-path=\"url(#p55bcaeda85)\" d=\"M 158.562012 109.591817 \r\nL 160.562012 105.591817 \r\nL 162.562012 109.591817 \r\nL 158.562012 109.591817 \r\nz\r\n\" style=\"stroke:#000000;stroke-linecap:round;\"/>\r\n   </g>\r\n   <g id=\"patch_6\">\r\n    <path clip-path=\"url(#p55bcaeda85)\" d=\"M 31.984063 95.815785 \r\nQ 91.943027 95.815785 150.783958 95.815785 \r\n\" style=\"fill:none;stroke:#000000;stroke-linecap:round;\"/>\r\n    <path clip-path=\"url(#p55bcaeda85)\" d=\"M 146.783958 93.815785 \r\nL 150.783958 95.815785 \r\nL 146.783958 97.815785 \r\nL 146.783958 93.815785 \r\nz\r\n\" style=\"stroke:#000000;stroke-linecap:round;\"/>\r\n   </g>\r\n   <g id=\"patch_7\">\r\n    <path clip-path=\"url(#p55bcaeda85)\" d=\"M 31.984063 95.815785 \r\nQ 31.984063 66.450569 31.984063 38.203388 \r\n\" style=\"fill:none;stroke:#000000;stroke-linecap:round;\"/>\r\n    <path clip-path=\"url(#p55bcaeda85)\" d=\"M 29.984063 42.203388 \r\nL 31.984063 38.203388 \r\nL 33.984063 42.203388 \r\nL 29.984063 42.203388 \r\nz\r\n\" style=\"stroke:#000000;stroke-linecap:round;\"/>\r\n   </g>\r\n   <g id=\"patch_8\">\r\n    <path clip-path=\"url(#p55bcaeda85)\" d=\"M 160.562012 95.815785 \r\nQ 160.562012 66.450569 160.562012 38.203388 \r\n\" style=\"fill:none;stroke:#000000;stroke-linecap:round;\"/>\r\n    <path clip-path=\"url(#p55bcaeda85)\" d=\"M 158.562012 42.203388 \r\nL 160.562012 38.203388 \r\nL 162.562012 42.203388 \r\nL 158.562012 42.203388 \r\nz\r\n\" style=\"stroke:#000000;stroke-linecap:round;\"/>\r\n   </g>\r\n   <g id=\"patch_9\">\r\n    <path clip-path=\"url(#p55bcaeda85)\" d=\"M 31.984063 28.427355 \r\nQ 91.943027 28.427355 150.783958 28.427355 \r\n\" style=\"fill:none;stroke:#000000;stroke-linecap:round;\"/>\r\n    <path clip-path=\"url(#p55bcaeda85)\" d=\"M 146.783958 26.427355 \r\nL 150.783958 28.427355 \r\nL 146.783958 30.427355 \r\nL 146.783958 26.427355 \r\nz\r\n\" style=\"stroke:#000000;stroke-linecap:round;\"/>\r\n   </g>\r\n   <g id=\"PathCollection_1\">\r\n    <defs>\r\n     <path d=\"M 0 22.36068 \r\nC 5.930122 22.36068 11.618159 20.004617 15.811388 15.811388 \r\nC 20.004617 11.618159 22.36068 5.930122 22.36068 0 \r\nC 22.36068 -5.930122 20.004617 -11.618159 15.811388 -15.811388 \r\nC 11.618159 -20.004617 5.930122 -22.36068 0 -22.36068 \r\nC -5.930122 -22.36068 -11.618159 -20.004617 -15.811388 -15.811388 \r\nC -20.004617 -11.618159 -22.36068 -5.930122 -22.36068 0 \r\nC -22.36068 5.930122 -20.004617 11.618159 -15.811388 15.811388 \r\nC -11.618159 20.004617 -5.930122 22.36068 0 22.36068 \r\nz\r\n\" id=\"mc139a520a1\" style=\"stroke:#1f78b4;\"/>\r\n    </defs>\r\n    <g clip-path=\"url(#p55bcaeda85)\">\r\n     <use style=\"fill:#1f78b4;stroke:#1f78b4;\" x=\"31.984063\" xlink:href=\"#mc139a520a1\" y=\"230.592645\"/>\r\n    </g>\r\n   </g>\r\n   <g id=\"PathCollection_2\">\r\n    <defs>\r\n     <path d=\"M 0 22.36068 \r\nC 5.930122 22.36068 11.618159 20.004617 15.811388 15.811388 \r\nC 20.004617 11.618159 22.36068 5.930122 22.36068 0 \r\nC 22.36068 -5.930122 20.004617 -11.618159 15.811388 -15.811388 \r\nC 11.618159 -20.004617 5.930122 -22.36068 0 -22.36068 \r\nC -5.930122 -22.36068 -11.618159 -20.004617 -15.811388 -15.811388 \r\nC -20.004617 -11.618159 -22.36068 -5.930122 -22.36068 0 \r\nC -22.36068 5.930122 -20.004617 11.618159 -15.811388 15.811388 \r\nC -11.618159 20.004617 -5.930122 22.36068 0 22.36068 \r\nz\r\n\" id=\"m3ee6dfa7b5\" style=\"stroke:#ff0000;\"/>\r\n    </defs>\r\n    <g clip-path=\"url(#p55bcaeda85)\">\r\n     <use style=\"fill:#ff0000;stroke:#ff0000;\" x=\"31.984063\" xlink:href=\"#m3ee6dfa7b5\" y=\"163.204215\"/>\r\n     <use style=\"fill:#ff0000;stroke:#ff0000;\" x=\"160.562012\" xlink:href=\"#m3ee6dfa7b5\" y=\"163.204215\"/>\r\n     <use style=\"fill:#ff0000;stroke:#ff0000;\" x=\"31.984063\" xlink:href=\"#m3ee6dfa7b5\" y=\"95.815785\"/>\r\n     <use style=\"fill:#ff0000;stroke:#ff0000;\" x=\"160.562012\" xlink:href=\"#m3ee6dfa7b5\" y=\"95.815785\"/>\r\n     <use style=\"fill:#ff0000;stroke:#ff0000;\" x=\"31.984063\" xlink:href=\"#m3ee6dfa7b5\" y=\"28.427355\"/>\r\n     <use style=\"fill:#ff0000;stroke:#ff0000;\" x=\"160.562012\" xlink:href=\"#m3ee6dfa7b5\" y=\"28.427355\"/>\r\n    </g>\r\n   </g>\r\n   <g id=\"text_1\">\r\n    <g clip-path=\"url(#p55bcaeda85)\">\r\n     <!-- (0, 0) -->\r\n     <defs>\r\n      <path d=\"M 31 75.875 \r\nQ 24.46875 64.65625 21.28125 53.65625 \r\nQ 18.109375 42.671875 18.109375 31.390625 \r\nQ 18.109375 20.125 21.3125 9.0625 \r\nQ 24.515625 -2 31 -13.1875 \r\nL 23.1875 -13.1875 \r\nQ 15.875 -1.703125 12.234375 9.375 \r\nQ 8.59375 20.453125 8.59375 31.390625 \r\nQ 8.59375 42.28125 12.203125 53.3125 \r\nQ 15.828125 64.359375 23.1875 75.875 \r\nz\r\n\" id=\"DejaVuSans-40\"/>\r\n      <path d=\"M 31.78125 66.40625 \r\nQ 24.171875 66.40625 20.328125 58.90625 \r\nQ 16.5 51.421875 16.5 36.375 \r\nQ 16.5 21.390625 20.328125 13.890625 \r\nQ 24.171875 6.390625 31.78125 6.390625 \r\nQ 39.453125 6.390625 43.28125 13.890625 \r\nQ 47.125 21.390625 47.125 36.375 \r\nQ 47.125 51.421875 43.28125 58.90625 \r\nQ 39.453125 66.40625 31.78125 66.40625 \r\nz\r\nM 31.78125 74.21875 \r\nQ 44.046875 74.21875 50.515625 64.515625 \r\nQ 56.984375 54.828125 56.984375 36.375 \r\nQ 56.984375 17.96875 50.515625 8.265625 \r\nQ 44.046875 -1.421875 31.78125 -1.421875 \r\nQ 19.53125 -1.421875 13.0625 8.265625 \r\nQ 6.59375 17.96875 6.59375 36.375 \r\nQ 6.59375 54.828125 13.0625 64.515625 \r\nQ 19.53125 74.21875 31.78125 74.21875 \r\nz\r\n\" id=\"DejaVuSans-48\"/>\r\n      <path d=\"M 11.71875 12.40625 \r\nL 22.015625 12.40625 \r\nL 22.015625 4 \r\nL 14.015625 -11.625 \r\nL 7.71875 -11.625 \r\nL 11.71875 4 \r\nz\r\n\" id=\"DejaVuSans-44\"/>\r\n      <path id=\"DejaVuSans-32\"/>\r\n      <path d=\"M 8.015625 75.875 \r\nL 15.828125 75.875 \r\nQ 23.140625 64.359375 26.78125 53.3125 \r\nQ 30.421875 42.28125 30.421875 31.390625 \r\nQ 30.421875 20.453125 26.78125 9.375 \r\nQ 23.140625 -1.703125 15.828125 -13.1875 \r\nL 8.015625 -13.1875 \r\nQ 14.5 -2 17.703125 9.0625 \r\nQ 20.90625 20.125 20.90625 31.390625 \r\nQ 20.90625 42.671875 17.703125 53.65625 \r\nQ 14.5 64.65625 8.015625 75.875 \r\nz\r\n\" id=\"DejaVuSans-41\"/>\r\n     </defs>\r\n     <g transform=\"translate(15.853438 233.903895)scale(0.12 -0.12)\">\r\n      <use xlink:href=\"#DejaVuSans-40\"/>\r\n      <use x=\"39.013672\" xlink:href=\"#DejaVuSans-48\"/>\r\n      <use x=\"102.636719\" xlink:href=\"#DejaVuSans-44\"/>\r\n      <use x=\"134.423828\" xlink:href=\"#DejaVuSans-32\"/>\r\n      <use x=\"166.210938\" xlink:href=\"#DejaVuSans-48\"/>\r\n      <use x=\"229.833984\" xlink:href=\"#DejaVuSans-41\"/>\r\n     </g>\r\n    </g>\r\n   </g>\r\n   <g id=\"text_2\">\r\n    <g clip-path=\"url(#p55bcaeda85)\">\r\n     <!-- (0, 1) -->\r\n     <defs>\r\n      <path d=\"M 12.40625 8.296875 \r\nL 28.515625 8.296875 \r\nL 28.515625 63.921875 \r\nL 10.984375 60.40625 \r\nL 10.984375 69.390625 \r\nL 28.421875 72.90625 \r\nL 38.28125 72.90625 \r\nL 38.28125 8.296875 \r\nL 54.390625 8.296875 \r\nL 54.390625 0 \r\nL 12.40625 0 \r\nz\r\n\" id=\"DejaVuSans-49\"/>\r\n     </defs>\r\n     <g transform=\"translate(15.853438 166.515465)scale(0.12 -0.12)\">\r\n      <use xlink:href=\"#DejaVuSans-40\"/>\r\n      <use x=\"39.013672\" xlink:href=\"#DejaVuSans-48\"/>\r\n      <use x=\"102.636719\" xlink:href=\"#DejaVuSans-44\"/>\r\n      <use x=\"134.423828\" xlink:href=\"#DejaVuSans-32\"/>\r\n      <use x=\"166.210938\" xlink:href=\"#DejaVuSans-49\"/>\r\n      <use x=\"229.833984\" xlink:href=\"#DejaVuSans-41\"/>\r\n     </g>\r\n    </g>\r\n   </g>\r\n   <g id=\"text_3\">\r\n    <g clip-path=\"url(#p55bcaeda85)\">\r\n     <!-- (1, 1) -->\r\n     <g transform=\"translate(144.431387 166.515465)scale(0.12 -0.12)\">\r\n      <use xlink:href=\"#DejaVuSans-40\"/>\r\n      <use x=\"39.013672\" xlink:href=\"#DejaVuSans-49\"/>\r\n      <use x=\"102.636719\" xlink:href=\"#DejaVuSans-44\"/>\r\n      <use x=\"134.423828\" xlink:href=\"#DejaVuSans-32\"/>\r\n      <use x=\"166.210938\" xlink:href=\"#DejaVuSans-49\"/>\r\n      <use x=\"229.833984\" xlink:href=\"#DejaVuSans-41\"/>\r\n     </g>\r\n    </g>\r\n   </g>\r\n   <g id=\"text_4\">\r\n    <g clip-path=\"url(#p55bcaeda85)\">\r\n     <!-- (0, 2) -->\r\n     <defs>\r\n      <path d=\"M 19.1875 8.296875 \r\nL 53.609375 8.296875 \r\nL 53.609375 0 \r\nL 7.328125 0 \r\nL 7.328125 8.296875 \r\nQ 12.9375 14.109375 22.625 23.890625 \r\nQ 32.328125 33.6875 34.8125 36.53125 \r\nQ 39.546875 41.84375 41.421875 45.53125 \r\nQ 43.3125 49.21875 43.3125 52.78125 \r\nQ 43.3125 58.59375 39.234375 62.25 \r\nQ 35.15625 65.921875 28.609375 65.921875 \r\nQ 23.96875 65.921875 18.8125 64.3125 \r\nQ 13.671875 62.703125 7.8125 59.421875 \r\nL 7.8125 69.390625 \r\nQ 13.765625 71.78125 18.9375 73 \r\nQ 24.125 74.21875 28.421875 74.21875 \r\nQ 39.75 74.21875 46.484375 68.546875 \r\nQ 53.21875 62.890625 53.21875 53.421875 \r\nQ 53.21875 48.921875 51.53125 44.890625 \r\nQ 49.859375 40.875 45.40625 35.40625 \r\nQ 44.1875 33.984375 37.640625 27.21875 \r\nQ 31.109375 20.453125 19.1875 8.296875 \r\nz\r\n\" id=\"DejaVuSans-50\"/>\r\n     </defs>\r\n     <g transform=\"translate(15.853438 99.127035)scale(0.12 -0.12)\">\r\n      <use xlink:href=\"#DejaVuSans-40\"/>\r\n      <use x=\"39.013672\" xlink:href=\"#DejaVuSans-48\"/>\r\n      <use x=\"102.636719\" xlink:href=\"#DejaVuSans-44\"/>\r\n      <use x=\"134.423828\" xlink:href=\"#DejaVuSans-32\"/>\r\n      <use x=\"166.210938\" xlink:href=\"#DejaVuSans-50\"/>\r\n      <use x=\"229.833984\" xlink:href=\"#DejaVuSans-41\"/>\r\n     </g>\r\n    </g>\r\n   </g>\r\n   <g id=\"text_5\">\r\n    <g clip-path=\"url(#p55bcaeda85)\">\r\n     <!-- (1, 2) -->\r\n     <g transform=\"translate(144.431387 99.127035)scale(0.12 -0.12)\">\r\n      <use xlink:href=\"#DejaVuSans-40\"/>\r\n      <use x=\"39.013672\" xlink:href=\"#DejaVuSans-49\"/>\r\n      <use x=\"102.636719\" xlink:href=\"#DejaVuSans-44\"/>\r\n      <use x=\"134.423828\" xlink:href=\"#DejaVuSans-32\"/>\r\n      <use x=\"166.210938\" xlink:href=\"#DejaVuSans-50\"/>\r\n      <use x=\"229.833984\" xlink:href=\"#DejaVuSans-41\"/>\r\n     </g>\r\n    </g>\r\n   </g>\r\n   <g id=\"text_6\">\r\n    <g clip-path=\"url(#p55bcaeda85)\">\r\n     <!-- (0, 3) -->\r\n     <defs>\r\n      <path d=\"M 40.578125 39.3125 \r\nQ 47.65625 37.796875 51.625 33 \r\nQ 55.609375 28.21875 55.609375 21.1875 \r\nQ 55.609375 10.40625 48.1875 4.484375 \r\nQ 40.765625 -1.421875 27.09375 -1.421875 \r\nQ 22.515625 -1.421875 17.65625 -0.515625 \r\nQ 12.796875 0.390625 7.625 2.203125 \r\nL 7.625 11.71875 \r\nQ 11.71875 9.328125 16.59375 8.109375 \r\nQ 21.484375 6.890625 26.8125 6.890625 \r\nQ 36.078125 6.890625 40.9375 10.546875 \r\nQ 45.796875 14.203125 45.796875 21.1875 \r\nQ 45.796875 27.640625 41.28125 31.265625 \r\nQ 36.765625 34.90625 28.71875 34.90625 \r\nL 20.21875 34.90625 \r\nL 20.21875 43.015625 \r\nL 29.109375 43.015625 \r\nQ 36.375 43.015625 40.234375 45.921875 \r\nQ 44.09375 48.828125 44.09375 54.296875 \r\nQ 44.09375 59.90625 40.109375 62.90625 \r\nQ 36.140625 65.921875 28.71875 65.921875 \r\nQ 24.65625 65.921875 20.015625 65.03125 \r\nQ 15.375 64.15625 9.8125 62.3125 \r\nL 9.8125 71.09375 \r\nQ 15.4375 72.65625 20.34375 73.4375 \r\nQ 25.25 74.21875 29.59375 74.21875 \r\nQ 40.828125 74.21875 47.359375 69.109375 \r\nQ 53.90625 64.015625 53.90625 55.328125 \r\nQ 53.90625 49.265625 50.4375 45.09375 \r\nQ 46.96875 40.921875 40.578125 39.3125 \r\nz\r\n\" id=\"DejaVuSans-51\"/>\r\n     </defs>\r\n     <g transform=\"translate(15.853438 31.738605)scale(0.12 -0.12)\">\r\n      <use xlink:href=\"#DejaVuSans-40\"/>\r\n      <use x=\"39.013672\" xlink:href=\"#DejaVuSans-48\"/>\r\n      <use x=\"102.636719\" xlink:href=\"#DejaVuSans-44\"/>\r\n      <use x=\"134.423828\" xlink:href=\"#DejaVuSans-32\"/>\r\n      <use x=\"166.210938\" xlink:href=\"#DejaVuSans-51\"/>\r\n      <use x=\"229.833984\" xlink:href=\"#DejaVuSans-41\"/>\r\n     </g>\r\n    </g>\r\n   </g>\r\n   <g id=\"text_7\">\r\n    <g clip-path=\"url(#p55bcaeda85)\">\r\n     <!-- (1, 3) -->\r\n     <g transform=\"translate(144.431387 31.738605)scale(0.12 -0.12)\">\r\n      <use xlink:href=\"#DejaVuSans-40\"/>\r\n      <use x=\"39.013672\" xlink:href=\"#DejaVuSans-49\"/>\r\n      <use x=\"102.636719\" xlink:href=\"#DejaVuSans-44\"/>\r\n      <use x=\"134.423828\" xlink:href=\"#DejaVuSans-32\"/>\r\n      <use x=\"166.210938\" xlink:href=\"#DejaVuSans-51\"/>\r\n      <use x=\"229.833984\" xlink:href=\"#DejaVuSans-41\"/>\r\n     </g>\r\n    </g>\r\n   </g>\r\n  </g>\r\n </g>\r\n <defs>\r\n  <clipPath id=\"p55bcaeda85\">\r\n   <rect height=\"244.62\" width=\"167.4\" x=\"7.2\" y=\"7.2\"/>\r\n  </clipPath>\r\n </defs>\r\n</svg>\r\n",
      "image/png": "[encoded data removed]"
     },
     "metadata": {}
    }
   ],
   "source": [
    "abg.markov.visualise_ambulance_markov_chain(num_of_servers=1, threshold=1, system_capacity=3, buffer_capacity=1)"
   ]
  },
  {
   "cell_type": "code",
   "execution_count": 48,
   "metadata": {},
   "outputs": [
    {
     "data": {
      "text/latex": [
       "$\\displaystyle \\left[\\begin{matrix}1 & \\frac{\\Lambda}{\\mu} & \\frac{\\lambda^{o} \\left(\\lambda^{A} + \\mu\\right)}{\\left(\\lambda^{A}\\right)^{2} + \\lambda^{A} \\lambda^{o} + 2 \\lambda^{A} \\mu + \\mu^{2}} & \\frac{\\lambda^{o}}{\\lambda^{A} + \\mu}\\\\0 & \\frac{\\lambda^{A} \\left(\\left(\\lambda^{A}\\right)^{2} + 2 \\lambda^{A} \\lambda^{o} + 2 \\lambda^{A} \\mu + \\left(\\lambda^{o}\\right)^{2} + \\lambda^{o} \\mu + \\mu^{2}\\right)}{\\mu \\left(\\left(\\lambda^{A}\\right)^{2} + \\lambda^{A} \\lambda^{o} + 2 \\lambda^{A} \\mu + \\mu^{2}\\right)} & \\frac{\\lambda^{A} \\left(\\left(\\lambda^{A}\\right)^{2} + 2 \\lambda^{A} \\lambda^{o} + 3 \\lambda^{A} \\mu + \\left(\\lambda^{o}\\right)^{2} + 2 \\lambda^{o} \\mu + 2 \\mu^{2}\\right)}{\\mu^{2} \\left(\\lambda^{A} + \\mu\\right)} & \\frac{\\lambda^{A} \\left(\\left(\\lambda^{A}\\right)^{2} + 2 \\lambda^{A} \\lambda^{o} + 3 \\lambda^{A} \\mu + \\left(\\lambda^{o}\\right)^{2} + 2 \\lambda^{o} \\mu + 3 \\mu^{2}\\right)}{\\mu^{3}}\\end{matrix}\\right]$"
      ],
      "text/plain": [
       "⎡                                Λ                                            \n",
       "⎢1                               ─                                            \n",
       "⎢                                μ                                            \n",
       "⎢                                                                             \n",
       "⎢                                                                             \n",
       "⎢        ⎛    2                                2             2⎞       ⎛    2  \n",
       "⎢   λ__A⋅⎝λ__A  + 2⋅λ__A⋅λ__o + 2⋅λ__A⋅μ + λ__o  + λ__o⋅μ + μ ⎠  λ__A⋅⎝λ__A  +\n",
       "⎢0  ───────────────────────────────────────────────────────────  ─────────────\n",
       "⎢                ⎛    2                           2⎞                          \n",
       "⎣              μ⋅⎝λ__A  + λ__A⋅λ__o + 2⋅λ__A⋅μ + μ ⎠                          \n",
       "\n",
       "           λ__o⋅(λ__A + μ)                                                    \n",
       "  ─────────────────────────────────                                           \n",
       "      2                           2                                           \n",
       "  λ__A  + λ__A⋅λ__o + 2⋅λ__A⋅μ + μ                                            \n",
       "                                                                              \n",
       "                              2                 2⎞       ⎛    2               \n",
       " 2⋅λ__A⋅λ__o + 3⋅λ__A⋅μ + λ__o  + 2⋅λ__o⋅μ + 2⋅μ ⎠  λ__A⋅⎝λ__A  + 2⋅λ__A⋅λ__o \n",
       "──────────────────────────────────────────────────  ──────────────────────────\n",
       "             2                                                                \n",
       "            μ ⋅(λ__A + μ)                                                     \n",
       "\n",
       "   λ__o                              ⎤\n",
       " ────────                            ⎥\n",
       " λ__A + μ                            ⎥\n",
       "                                     ⎥\n",
       "                                     ⎥\n",
       "                 2                 2⎞⎥\n",
       "+ 3⋅λ__A⋅μ + λ__o  + 2⋅λ__o⋅μ + 3⋅μ ⎠⎥\n",
       "─────────────────────────────────────⎥\n",
       "      3                              ⎥\n",
       "     μ                               ⎦"
      ]
     },
     "execution_count": 48,
     "metadata": {},
     "output_type": "execute_result"
    }
   ],
   "source": [
    "sym_state_recursive_ratios_1131"
   ]
  },
  {
   "cell_type": "code",
   "execution_count": 49,
   "metadata": {},
   "outputs": [
    {
     "data": {
      "text/latex": [
       "$\\displaystyle \\left[\\begin{matrix}1 & \\frac{\\Lambda}{\\mu} & \\frac{\\lambda^{o} \\left(\\lambda^{A} + \\mu\\right)}{\\left(\\lambda^{A}\\right)^{2} + \\lambda^{A} \\lambda^{o} + 2 \\lambda^{A} \\mu + \\mu^{2}} & \\frac{\\lambda^{o}}{\\lambda^{A} + \\mu}\\\\0 & \\frac{\\lambda^{A} \\left(\\left(\\lambda^{A}\\right)^{2} + 2 \\lambda^{A} \\lambda^{o} + 2 \\lambda^{A} \\mu + \\left(\\lambda^{o}\\right)^{2} + \\lambda^{o} \\mu + \\mu^{2}\\right)}{\\mu \\left(\\left(\\lambda^{A}\\right)^{2} + \\lambda^{A} \\lambda^{o} + 2 \\lambda^{A} \\mu + \\mu^{2}\\right)} & \\frac{\\lambda^{o} \\left(\\left(\\lambda^{A}\\right)^{2} + 2 \\lambda^{A} \\lambda^{o} + 3 \\lambda^{A} \\mu + \\left(\\lambda^{o}\\right)^{2} + 2 \\lambda^{o} \\mu + 2 \\mu^{2}\\right)}{\\mu \\left(\\left(\\lambda^{A}\\right)^{2} + 2 \\lambda^{A} \\lambda^{o} + 2 \\lambda^{A} \\mu + \\left(\\lambda^{o}\\right)^{2} + \\lambda^{o} \\mu + \\mu^{2}\\right)} & \\frac{\\lambda^{o} \\left(\\left(\\lambda^{A}\\right)^{2} + 2 \\lambda^{A} \\lambda^{o} + 3 \\lambda^{A} \\mu + \\left(\\lambda^{o}\\right)^{2} + 2 \\lambda^{o} \\mu + 3 \\mu^{2}\\right)}{\\mu \\left(\\left(\\lambda^{A}\\right)^{2} + 2 \\lambda^{A} \\lambda^{o} + 3 \\lambda^{A} \\mu + \\left(\\lambda^{o}\\right)^{2} + 2 \\lambda^{o} \\mu + 2 \\mu^{2}\\right)}\\end{matrix}\\right]$"
      ],
      "text/plain": [
       "⎡                                Λ                                            \n",
       "⎢1                               ─                                            \n",
       "⎢                                μ                                            \n",
       "⎢                                                                             \n",
       "⎢                                                                             \n",
       "⎢        ⎛    2                                2             2⎞       ⎛    2  \n",
       "⎢   λ__A⋅⎝λ__A  + 2⋅λ__A⋅λ__o + 2⋅λ__A⋅μ + λ__o  + λ__o⋅μ + μ ⎠  λ__o⋅⎝λ__A  +\n",
       "⎢0  ───────────────────────────────────────────────────────────  ─────────────\n",
       "⎢                ⎛    2                           2⎞                   ⎛    2 \n",
       "⎣              μ⋅⎝λ__A  + λ__A⋅λ__o + 2⋅λ__A⋅μ + μ ⎠                 μ⋅⎝λ__A  \n",
       "\n",
       "           λ__o⋅(λ__A + μ)                                                    \n",
       "  ─────────────────────────────────                                           \n",
       "      2                           2                                           \n",
       "  λ__A  + λ__A⋅λ__o + 2⋅λ__A⋅μ + μ                                            \n",
       "                                                                              \n",
       "                              2                 2⎞       ⎛    2               \n",
       " 2⋅λ__A⋅λ__o + 3⋅λ__A⋅μ + λ__o  + 2⋅λ__o⋅μ + 2⋅μ ⎠  λ__o⋅⎝λ__A  + 2⋅λ__A⋅λ__o \n",
       "──────────────────────────────────────────────────  ──────────────────────────\n",
       "                               2             2⎞         ⎛    2                \n",
       "+ 2⋅λ__A⋅λ__o + 2⋅λ__A⋅μ + λ__o  + λ__o⋅μ + μ ⎠       μ⋅⎝λ__A  + 2⋅λ__A⋅λ__o +\n",
       "\n",
       "   λ__o                              ⎤\n",
       " ────────                            ⎥\n",
       " λ__A + μ                            ⎥\n",
       "                                     ⎥\n",
       "                                     ⎥\n",
       "                 2                 2⎞⎥\n",
       "+ 3⋅λ__A⋅μ + λ__o  + 2⋅λ__o⋅μ + 3⋅μ ⎠⎥\n",
       "─────────────────────────────────────⎥\n",
       "                2                 2⎞ ⎥\n",
       " 3⋅λ__A⋅μ + λ__o  + 2⋅λ__o⋅μ + 2⋅μ ⎠ ⎦"
      ]
     },
     "execution_count": 49,
     "metadata": {},
     "output_type": "execute_result"
    }
   ],
   "source": [
    "sym_state_recursive_ratios_right_1131"
   ]
  },
  {
   "cell_type": "markdown",
   "metadata": {},
   "source": [
    "## $C=1, T=1, N=3, M=2$"
   ]
  },
  {
   "cell_type": "code",
   "execution_count": 17,
   "metadata": {},
   "outputs": [
    {
     "output_type": "execute_result",
     "data": {
      "text/plain": "<networkx.classes.multidigraph.MultiDiGraph at 0x27473d2e190>"
     },
     "metadata": {},
     "execution_count": 17
    },
    {
     "output_type": "display_data",
     "data": {
      "text/plain": "<Figure size 324x324 with 1 Axes>",
      "image/svg+xml": "<?xml version=\"1.0\" encoding=\"utf-8\" standalone=\"no\"?>\r\n<!DOCTYPE svg PUBLIC \"-//W3C//DTD SVG 1.1//EN\"\r\n  \"http://www.w3.org/Graphics/SVG/1.1/DTD/svg11.dtd\">\r\n<!-- Created with matplotlib (https://matplotlib.org/) -->\r\n<svg height=\"259.02pt\" version=\"1.1\" viewBox=\"0 0 265.5 259.02\" width=\"265.5pt\" xmlns=\"http://www.w3.org/2000/svg\" xmlns:xlink=\"http://www.w3.org/1999/xlink\">\r\n <defs>\r\n  <style type=\"text/css\">\r\n*{stroke-linecap:butt;stroke-linejoin:round;}\r\n  </style>\r\n </defs>\r\n <g id=\"figure_1\">\r\n  <g id=\"patch_1\">\r\n   <path d=\"M 0 259.02 \r\nL 265.5 259.02 \r\nL 265.5 0 \r\nL 0 0 \r\nz\r\n\" style=\"fill:none;\"/>\r\n  </g>\r\n  <g id=\"axes_1\">\r\n   <g id=\"patch_2\">\r\n    <path clip-path=\"url(#p25c0ccac4e)\" d=\"M 28.989669 230.592645 \r\nQ 28.989669 201.227429 28.989669 172.980247 \r\n\" style=\"fill:none;stroke:#000000;stroke-linecap:round;\"/>\r\n    <path clip-path=\"url(#p25c0ccac4e)\" d=\"M 26.989669 176.980247 \r\nL 28.989669 172.980247 \r\nL 30.989669 176.980247 \r\nL 26.989669 176.980247 \r\nz\r\n\" style=\"stroke:#000000;stroke-linecap:round;\"/>\r\n   </g>\r\n   <g id=\"patch_3\">\r\n    <path clip-path=\"url(#p25c0ccac4e)\" d=\"M 28.989669 163.204215 \r\nQ 76.539627 163.204215 122.97155 163.204215 \r\n\" style=\"fill:none;stroke:#000000;stroke-linecap:round;\"/>\r\n    <path clip-path=\"url(#p25c0ccac4e)\" d=\"M 118.97155 161.204215 \r\nL 122.97155 163.204215 \r\nL 118.97155 165.204215 \r\nL 118.97155 161.204215 \r\nz\r\n\" style=\"stroke:#000000;stroke-linecap:round;\"/>\r\n   </g>\r\n   <g id=\"patch_4\">\r\n    <path clip-path=\"url(#p25c0ccac4e)\" d=\"M 28.989669 163.204215 \r\nQ 28.989669 133.838999 28.989669 105.591817 \r\n\" style=\"fill:none;stroke:#000000;stroke-linecap:round;\"/>\r\n    <path clip-path=\"url(#p25c0ccac4e)\" d=\"M 26.989669 109.591817 \r\nL 28.989669 105.591817 \r\nL 30.989669 109.591817 \r\nL 26.989669 109.591817 \r\nz\r\n\" style=\"stroke:#000000;stroke-linecap:round;\"/>\r\n   </g>\r\n   <g id=\"patch_5\">\r\n    <path clip-path=\"url(#p25c0ccac4e)\" d=\"M 132.75 163.204215 \r\nQ 180.299957 163.204215 226.731881 163.204215 \r\n\" style=\"fill:none;stroke:#000000;stroke-linecap:round;\"/>\r\n    <path clip-path=\"url(#p25c0ccac4e)\" d=\"M 222.731881 161.204215 \r\nL 226.731881 163.204215 \r\nL 222.731881 165.204215 \r\nL 222.731881 161.204215 \r\nz\r\n\" style=\"stroke:#000000;stroke-linecap:round;\"/>\r\n   </g>\r\n   <g id=\"patch_6\">\r\n    <path clip-path=\"url(#p25c0ccac4e)\" d=\"M 132.75 163.204215 \r\nQ 132.75 133.838999 132.75 105.591817 \r\n\" style=\"fill:none;stroke:#000000;stroke-linecap:round;\"/>\r\n    <path clip-path=\"url(#p25c0ccac4e)\" d=\"M 130.75 109.591817 \r\nL 132.75 105.591817 \r\nL 134.75 109.591817 \r\nL 130.75 109.591817 \r\nz\r\n\" style=\"stroke:#000000;stroke-linecap:round;\"/>\r\n   </g>\r\n   <g id=\"patch_7\">\r\n    <path clip-path=\"url(#p25c0ccac4e)\" d=\"M 28.989669 95.815785 \r\nQ 76.539627 95.815785 122.97155 95.815785 \r\n\" style=\"fill:none;stroke:#000000;stroke-linecap:round;\"/>\r\n    <path clip-path=\"url(#p25c0ccac4e)\" d=\"M 118.97155 93.815785 \r\nL 122.97155 95.815785 \r\nL 118.97155 97.815785 \r\nL 118.97155 93.815785 \r\nz\r\n\" style=\"stroke:#000000;stroke-linecap:round;\"/>\r\n   </g>\r\n   <g id=\"patch_8\">\r\n    <path clip-path=\"url(#p25c0ccac4e)\" d=\"M 28.989669 95.815785 \r\nQ 28.989669 66.450569 28.989669 38.203388 \r\n\" style=\"fill:none;stroke:#000000;stroke-linecap:round;\"/>\r\n    <path clip-path=\"url(#p25c0ccac4e)\" d=\"M 26.989669 42.203388 \r\nL 28.989669 38.203388 \r\nL 30.989669 42.203388 \r\nL 26.989669 42.203388 \r\nz\r\n\" style=\"stroke:#000000;stroke-linecap:round;\"/>\r\n   </g>\r\n   <g id=\"patch_9\">\r\n    <path clip-path=\"url(#p25c0ccac4e)\" d=\"M 236.510331 163.204215 \r\nQ 236.510331 133.838999 236.510331 105.591817 \r\n\" style=\"fill:none;stroke:#000000;stroke-linecap:round;\"/>\r\n    <path clip-path=\"url(#p25c0ccac4e)\" d=\"M 234.510331 109.591817 \r\nL 236.510331 105.591817 \r\nL 238.510331 109.591817 \r\nL 234.510331 109.591817 \r\nz\r\n\" style=\"stroke:#000000;stroke-linecap:round;\"/>\r\n   </g>\r\n   <g id=\"patch_10\">\r\n    <path clip-path=\"url(#p25c0ccac4e)\" d=\"M 132.75 95.815785 \r\nQ 180.299957 95.815785 226.731881 95.815785 \r\n\" style=\"fill:none;stroke:#000000;stroke-linecap:round;\"/>\r\n    <path clip-path=\"url(#p25c0ccac4e)\" d=\"M 222.731881 93.815785 \r\nL 226.731881 95.815785 \r\nL 222.731881 97.815785 \r\nL 222.731881 93.815785 \r\nz\r\n\" style=\"stroke:#000000;stroke-linecap:round;\"/>\r\n   </g>\r\n   <g id=\"patch_11\">\r\n    <path clip-path=\"url(#p25c0ccac4e)\" d=\"M 132.75 95.815785 \r\nQ 132.75 66.450569 132.75 38.203388 \r\n\" style=\"fill:none;stroke:#000000;stroke-linecap:round;\"/>\r\n    <path clip-path=\"url(#p25c0ccac4e)\" d=\"M 130.75 42.203388 \r\nL 132.75 38.203388 \r\nL 134.75 42.203388 \r\nL 130.75 42.203388 \r\nz\r\n\" style=\"stroke:#000000;stroke-linecap:round;\"/>\r\n   </g>\r\n   <g id=\"patch_12\">\r\n    <path clip-path=\"url(#p25c0ccac4e)\" d=\"M 236.510331 95.815785 \r\nQ 236.510331 66.450569 236.510331 38.203388 \r\n\" style=\"fill:none;stroke:#000000;stroke-linecap:round;\"/>\r\n    <path clip-path=\"url(#p25c0ccac4e)\" d=\"M 234.510331 42.203388 \r\nL 236.510331 38.203388 \r\nL 238.510331 42.203388 \r\nL 234.510331 42.203388 \r\nz\r\n\" style=\"stroke:#000000;stroke-linecap:round;\"/>\r\n   </g>\r\n   <g id=\"patch_13\">\r\n    <path clip-path=\"url(#p25c0ccac4e)\" d=\"M 28.989669 28.427355 \r\nQ 76.539627 28.427355 122.97155 28.427355 \r\n\" style=\"fill:none;stroke:#000000;stroke-linecap:round;\"/>\r\n    <path clip-path=\"url(#p25c0ccac4e)\" d=\"M 118.97155 26.427355 \r\nL 122.97155 28.427355 \r\nL 118.97155 30.427355 \r\nL 118.97155 26.427355 \r\nz\r\n\" style=\"stroke:#000000;stroke-linecap:round;\"/>\r\n   </g>\r\n   <g id=\"patch_14\">\r\n    <path clip-path=\"url(#p25c0ccac4e)\" d=\"M 132.75 28.427355 \r\nQ 180.299957 28.427355 226.731881 28.427355 \r\n\" style=\"fill:none;stroke:#000000;stroke-linecap:round;\"/>\r\n    <path clip-path=\"url(#p25c0ccac4e)\" d=\"M 222.731881 26.427355 \r\nL 226.731881 28.427355 \r\nL 222.731881 30.427355 \r\nL 222.731881 26.427355 \r\nz\r\n\" style=\"stroke:#000000;stroke-linecap:round;\"/>\r\n   </g>\r\n   <g id=\"PathCollection_1\">\r\n    <defs>\r\n     <path d=\"M 0 22.36068 \r\nC 5.930122 22.36068 11.618159 20.004617 15.811388 15.811388 \r\nC 20.004617 11.618159 22.36068 5.930122 22.36068 0 \r\nC 22.36068 -5.930122 20.004617 -11.618159 15.811388 -15.811388 \r\nC 11.618159 -20.004617 5.930122 -22.36068 0 -22.36068 \r\nC -5.930122 -22.36068 -11.618159 -20.004617 -15.811388 -15.811388 \r\nC -20.004617 -11.618159 -22.36068 -5.930122 -22.36068 0 \r\nC -22.36068 5.930122 -20.004617 11.618159 -15.811388 15.811388 \r\nC -11.618159 20.004617 -5.930122 22.36068 0 22.36068 \r\nz\r\n\" id=\"ma9c8dc49be\" style=\"stroke:#1f78b4;\"/>\r\n    </defs>\r\n    <g clip-path=\"url(#p25c0ccac4e)\">\r\n     <use style=\"fill:#1f78b4;stroke:#1f78b4;\" x=\"28.989669\" xlink:href=\"#ma9c8dc49be\" y=\"230.592645\"/>\r\n    </g>\r\n   </g>\r\n   <g id=\"PathCollection_2\">\r\n    <defs>\r\n     <path d=\"M 0 22.36068 \r\nC 5.930122 22.36068 11.618159 20.004617 15.811388 15.811388 \r\nC 20.004617 11.618159 22.36068 5.930122 22.36068 0 \r\nC 22.36068 -5.930122 20.004617 -11.618159 15.811388 -15.811388 \r\nC 11.618159 -20.004617 5.930122 -22.36068 0 -22.36068 \r\nC -5.930122 -22.36068 -11.618159 -20.004617 -15.811388 -15.811388 \r\nC -20.004617 -11.618159 -22.36068 -5.930122 -22.36068 0 \r\nC -22.36068 5.930122 -20.004617 11.618159 -15.811388 15.811388 \r\nC -11.618159 20.004617 -5.930122 22.36068 0 22.36068 \r\nz\r\n\" id=\"m45d17c1e65\" style=\"stroke:#ff0000;\"/>\r\n    </defs>\r\n    <g clip-path=\"url(#p25c0ccac4e)\">\r\n     <use style=\"fill:#ff0000;stroke:#ff0000;\" x=\"28.989669\" xlink:href=\"#m45d17c1e65\" y=\"163.204215\"/>\r\n     <use style=\"fill:#ff0000;stroke:#ff0000;\" x=\"132.75\" xlink:href=\"#m45d17c1e65\" y=\"163.204215\"/>\r\n     <use style=\"fill:#ff0000;stroke:#ff0000;\" x=\"236.510331\" xlink:href=\"#m45d17c1e65\" y=\"163.204215\"/>\r\n     <use style=\"fill:#ff0000;stroke:#ff0000;\" x=\"28.989669\" xlink:href=\"#m45d17c1e65\" y=\"95.815785\"/>\r\n     <use style=\"fill:#ff0000;stroke:#ff0000;\" x=\"132.75\" xlink:href=\"#m45d17c1e65\" y=\"95.815785\"/>\r\n     <use style=\"fill:#ff0000;stroke:#ff0000;\" x=\"236.510331\" xlink:href=\"#m45d17c1e65\" y=\"95.815785\"/>\r\n     <use style=\"fill:#ff0000;stroke:#ff0000;\" x=\"28.989669\" xlink:href=\"#m45d17c1e65\" y=\"28.427355\"/>\r\n     <use style=\"fill:#ff0000;stroke:#ff0000;\" x=\"132.75\" xlink:href=\"#m45d17c1e65\" y=\"28.427355\"/>\r\n     <use style=\"fill:#ff0000;stroke:#ff0000;\" x=\"236.510331\" xlink:href=\"#m45d17c1e65\" y=\"28.427355\"/>\r\n    </g>\r\n   </g>\r\n   <g id=\"text_1\">\r\n    <g clip-path=\"url(#p25c0ccac4e)\">\r\n     <!-- (0, 0) -->\r\n     <defs>\r\n      <path d=\"M 31 75.875 \r\nQ 24.46875 64.65625 21.28125 53.65625 \r\nQ 18.109375 42.671875 18.109375 31.390625 \r\nQ 18.109375 20.125 21.3125 9.0625 \r\nQ 24.515625 -2 31 -13.1875 \r\nL 23.1875 -13.1875 \r\nQ 15.875 -1.703125 12.234375 9.375 \r\nQ 8.59375 20.453125 8.59375 31.390625 \r\nQ 8.59375 42.28125 12.203125 53.3125 \r\nQ 15.828125 64.359375 23.1875 75.875 \r\nz\r\n\" id=\"DejaVuSans-40\"/>\r\n      <path d=\"M 31.78125 66.40625 \r\nQ 24.171875 66.40625 20.328125 58.90625 \r\nQ 16.5 51.421875 16.5 36.375 \r\nQ 16.5 21.390625 20.328125 13.890625 \r\nQ 24.171875 6.390625 31.78125 6.390625 \r\nQ 39.453125 6.390625 43.28125 13.890625 \r\nQ 47.125 21.390625 47.125 36.375 \r\nQ 47.125 51.421875 43.28125 58.90625 \r\nQ 39.453125 66.40625 31.78125 66.40625 \r\nz\r\nM 31.78125 74.21875 \r\nQ 44.046875 74.21875 50.515625 64.515625 \r\nQ 56.984375 54.828125 56.984375 36.375 \r\nQ 56.984375 17.96875 50.515625 8.265625 \r\nQ 44.046875 -1.421875 31.78125 -1.421875 \r\nQ 19.53125 -1.421875 13.0625 8.265625 \r\nQ 6.59375 17.96875 6.59375 36.375 \r\nQ 6.59375 54.828125 13.0625 64.515625 \r\nQ 19.53125 74.21875 31.78125 74.21875 \r\nz\r\n\" id=\"DejaVuSans-48\"/>\r\n      <path d=\"M 11.71875 12.40625 \r\nL 22.015625 12.40625 \r\nL 22.015625 4 \r\nL 14.015625 -11.625 \r\nL 7.71875 -11.625 \r\nL 11.71875 4 \r\nz\r\n\" id=\"DejaVuSans-44\"/>\r\n      <path id=\"DejaVuSans-32\"/>\r\n      <path d=\"M 8.015625 75.875 \r\nL 15.828125 75.875 \r\nQ 23.140625 64.359375 26.78125 53.3125 \r\nQ 30.421875 42.28125 30.421875 31.390625 \r\nQ 30.421875 20.453125 26.78125 9.375 \r\nQ 23.140625 -1.703125 15.828125 -13.1875 \r\nL 8.015625 -13.1875 \r\nQ 14.5 -2 17.703125 9.0625 \r\nQ 20.90625 20.125 20.90625 31.390625 \r\nQ 20.90625 42.671875 17.703125 53.65625 \r\nQ 14.5 64.65625 8.015625 75.875 \r\nz\r\n\" id=\"DejaVuSans-41\"/>\r\n     </defs>\r\n     <g transform=\"translate(12.859044 233.903895)scale(0.12 -0.12)\">\r\n      <use xlink:href=\"#DejaVuSans-40\"/>\r\n      <use x=\"39.013672\" xlink:href=\"#DejaVuSans-48\"/>\r\n      <use x=\"102.636719\" xlink:href=\"#DejaVuSans-44\"/>\r\n      <use x=\"134.423828\" xlink:href=\"#DejaVuSans-32\"/>\r\n      <use x=\"166.210938\" xlink:href=\"#DejaVuSans-48\"/>\r\n      <use x=\"229.833984\" xlink:href=\"#DejaVuSans-41\"/>\r\n     </g>\r\n    </g>\r\n   </g>\r\n   <g id=\"text_2\">\r\n    <g clip-path=\"url(#p25c0ccac4e)\">\r\n     <!-- (0, 1) -->\r\n     <defs>\r\n      <path d=\"M 12.40625 8.296875 \r\nL 28.515625 8.296875 \r\nL 28.515625 63.921875 \r\nL 10.984375 60.40625 \r\nL 10.984375 69.390625 \r\nL 28.421875 72.90625 \r\nL 38.28125 72.90625 \r\nL 38.28125 8.296875 \r\nL 54.390625 8.296875 \r\nL 54.390625 0 \r\nL 12.40625 0 \r\nz\r\n\" id=\"DejaVuSans-49\"/>\r\n     </defs>\r\n     <g transform=\"translate(12.859044 166.515465)scale(0.12 -0.12)\">\r\n      <use xlink:href=\"#DejaVuSans-40\"/>\r\n      <use x=\"39.013672\" xlink:href=\"#DejaVuSans-48\"/>\r\n      <use x=\"102.636719\" xlink:href=\"#DejaVuSans-44\"/>\r\n      <use x=\"134.423828\" xlink:href=\"#DejaVuSans-32\"/>\r\n      <use x=\"166.210938\" xlink:href=\"#DejaVuSans-49\"/>\r\n      <use x=\"229.833984\" xlink:href=\"#DejaVuSans-41\"/>\r\n     </g>\r\n    </g>\r\n   </g>\r\n   <g id=\"text_3\">\r\n    <g clip-path=\"url(#p25c0ccac4e)\">\r\n     <!-- (1, 1) -->\r\n     <g transform=\"translate(116.619375 166.515465)scale(0.12 -0.12)\">\r\n      <use xlink:href=\"#DejaVuSans-40\"/>\r\n      <use x=\"39.013672\" xlink:href=\"#DejaVuSans-49\"/>\r\n      <use x=\"102.636719\" xlink:href=\"#DejaVuSans-44\"/>\r\n      <use x=\"134.423828\" xlink:href=\"#DejaVuSans-32\"/>\r\n      <use x=\"166.210938\" xlink:href=\"#DejaVuSans-49\"/>\r\n      <use x=\"229.833984\" xlink:href=\"#DejaVuSans-41\"/>\r\n     </g>\r\n    </g>\r\n   </g>\r\n   <g id=\"text_4\">\r\n    <g clip-path=\"url(#p25c0ccac4e)\">\r\n     <!-- (0, 2) -->\r\n     <defs>\r\n      <path d=\"M 19.1875 8.296875 \r\nL 53.609375 8.296875 \r\nL 53.609375 0 \r\nL 7.328125 0 \r\nL 7.328125 8.296875 \r\nQ 12.9375 14.109375 22.625 23.890625 \r\nQ 32.328125 33.6875 34.8125 36.53125 \r\nQ 39.546875 41.84375 41.421875 45.53125 \r\nQ 43.3125 49.21875 43.3125 52.78125 \r\nQ 43.3125 58.59375 39.234375 62.25 \r\nQ 35.15625 65.921875 28.609375 65.921875 \r\nQ 23.96875 65.921875 18.8125 64.3125 \r\nQ 13.671875 62.703125 7.8125 59.421875 \r\nL 7.8125 69.390625 \r\nQ 13.765625 71.78125 18.9375 73 \r\nQ 24.125 74.21875 28.421875 74.21875 \r\nQ 39.75 74.21875 46.484375 68.546875 \r\nQ 53.21875 62.890625 53.21875 53.421875 \r\nQ 53.21875 48.921875 51.53125 44.890625 \r\nQ 49.859375 40.875 45.40625 35.40625 \r\nQ 44.1875 33.984375 37.640625 27.21875 \r\nQ 31.109375 20.453125 19.1875 8.296875 \r\nz\r\n\" id=\"DejaVuSans-50\"/>\r\n     </defs>\r\n     <g transform=\"translate(12.859044 99.127035)scale(0.12 -0.12)\">\r\n      <use xlink:href=\"#DejaVuSans-40\"/>\r\n      <use x=\"39.013672\" xlink:href=\"#DejaVuSans-48\"/>\r\n      <use x=\"102.636719\" xlink:href=\"#DejaVuSans-44\"/>\r\n      <use x=\"134.423828\" xlink:href=\"#DejaVuSans-32\"/>\r\n      <use x=\"166.210938\" xlink:href=\"#DejaVuSans-50\"/>\r\n      <use x=\"229.833984\" xlink:href=\"#DejaVuSans-41\"/>\r\n     </g>\r\n    </g>\r\n   </g>\r\n   <g id=\"text_5\">\r\n    <g clip-path=\"url(#p25c0ccac4e)\">\r\n     <!-- (2, 1) -->\r\n     <g transform=\"translate(220.379706 166.515465)scale(0.12 -0.12)\">\r\n      <use xlink:href=\"#DejaVuSans-40\"/>\r\n      <use x=\"39.013672\" xlink:href=\"#DejaVuSans-50\"/>\r\n      <use x=\"102.636719\" xlink:href=\"#DejaVuSans-44\"/>\r\n      <use x=\"134.423828\" xlink:href=\"#DejaVuSans-32\"/>\r\n      <use x=\"166.210938\" xlink:href=\"#DejaVuSans-49\"/>\r\n      <use x=\"229.833984\" xlink:href=\"#DejaVuSans-41\"/>\r\n     </g>\r\n    </g>\r\n   </g>\r\n   <g id=\"text_6\">\r\n    <g clip-path=\"url(#p25c0ccac4e)\">\r\n     <!-- (1, 2) -->\r\n     <g transform=\"translate(116.619375 99.127035)scale(0.12 -0.12)\">\r\n      <use xlink:href=\"#DejaVuSans-40\"/>\r\n      <use x=\"39.013672\" xlink:href=\"#DejaVuSans-49\"/>\r\n      <use x=\"102.636719\" xlink:href=\"#DejaVuSans-44\"/>\r\n      <use x=\"134.423828\" xlink:href=\"#DejaVuSans-32\"/>\r\n      <use x=\"166.210938\" xlink:href=\"#DejaVuSans-50\"/>\r\n      <use x=\"229.833984\" xlink:href=\"#DejaVuSans-41\"/>\r\n     </g>\r\n    </g>\r\n   </g>\r\n   <g id=\"text_7\">\r\n    <g clip-path=\"url(#p25c0ccac4e)\">\r\n     <!-- (2, 2) -->\r\n     <g transform=\"translate(220.379706 99.127035)scale(0.12 -0.12)\">\r\n      <use xlink:href=\"#DejaVuSans-40\"/>\r\n      <use x=\"39.013672\" xlink:href=\"#DejaVuSans-50\"/>\r\n      <use x=\"102.636719\" xlink:href=\"#DejaVuSans-44\"/>\r\n      <use x=\"134.423828\" xlink:href=\"#DejaVuSans-32\"/>\r\n      <use x=\"166.210938\" xlink:href=\"#DejaVuSans-50\"/>\r\n      <use x=\"229.833984\" xlink:href=\"#DejaVuSans-41\"/>\r\n     </g>\r\n    </g>\r\n   </g>\r\n   <g id=\"text_8\">\r\n    <g clip-path=\"url(#p25c0ccac4e)\">\r\n     <!-- (0, 3) -->\r\n     <defs>\r\n      <path d=\"M 40.578125 39.3125 \r\nQ 47.65625 37.796875 51.625 33 \r\nQ 55.609375 28.21875 55.609375 21.1875 \r\nQ 55.609375 10.40625 48.1875 4.484375 \r\nQ 40.765625 -1.421875 27.09375 -1.421875 \r\nQ 22.515625 -1.421875 17.65625 -0.515625 \r\nQ 12.796875 0.390625 7.625 2.203125 \r\nL 7.625 11.71875 \r\nQ 11.71875 9.328125 16.59375 8.109375 \r\nQ 21.484375 6.890625 26.8125 6.890625 \r\nQ 36.078125 6.890625 40.9375 10.546875 \r\nQ 45.796875 14.203125 45.796875 21.1875 \r\nQ 45.796875 27.640625 41.28125 31.265625 \r\nQ 36.765625 34.90625 28.71875 34.90625 \r\nL 20.21875 34.90625 \r\nL 20.21875 43.015625 \r\nL 29.109375 43.015625 \r\nQ 36.375 43.015625 40.234375 45.921875 \r\nQ 44.09375 48.828125 44.09375 54.296875 \r\nQ 44.09375 59.90625 40.109375 62.90625 \r\nQ 36.140625 65.921875 28.71875 65.921875 \r\nQ 24.65625 65.921875 20.015625 65.03125 \r\nQ 15.375 64.15625 9.8125 62.3125 \r\nL 9.8125 71.09375 \r\nQ 15.4375 72.65625 20.34375 73.4375 \r\nQ 25.25 74.21875 29.59375 74.21875 \r\nQ 40.828125 74.21875 47.359375 69.109375 \r\nQ 53.90625 64.015625 53.90625 55.328125 \r\nQ 53.90625 49.265625 50.4375 45.09375 \r\nQ 46.96875 40.921875 40.578125 39.3125 \r\nz\r\n\" id=\"DejaVuSans-51\"/>\r\n     </defs>\r\n     <g transform=\"translate(12.859044 31.738605)scale(0.12 -0.12)\">\r\n      <use xlink:href=\"#DejaVuSans-40\"/>\r\n      <use x=\"39.013672\" xlink:href=\"#DejaVuSans-48\"/>\r\n      <use x=\"102.636719\" xlink:href=\"#DejaVuSans-44\"/>\r\n      <use x=\"134.423828\" xlink:href=\"#DejaVuSans-32\"/>\r\n      <use x=\"166.210938\" xlink:href=\"#DejaVuSans-51\"/>\r\n      <use x=\"229.833984\" xlink:href=\"#DejaVuSans-41\"/>\r\n     </g>\r\n    </g>\r\n   </g>\r\n   <g id=\"text_9\">\r\n    <g clip-path=\"url(#p25c0ccac4e)\">\r\n     <!-- (1, 3) -->\r\n     <g transform=\"translate(116.619375 31.738605)scale(0.12 -0.12)\">\r\n      <use xlink:href=\"#DejaVuSans-40\"/>\r\n      <use x=\"39.013672\" xlink:href=\"#DejaVuSans-49\"/>\r\n      <use x=\"102.636719\" xlink:href=\"#DejaVuSans-44\"/>\r\n      <use x=\"134.423828\" xlink:href=\"#DejaVuSans-32\"/>\r\n      <use x=\"166.210938\" xlink:href=\"#DejaVuSans-51\"/>\r\n      <use x=\"229.833984\" xlink:href=\"#DejaVuSans-41\"/>\r\n     </g>\r\n    </g>\r\n   </g>\r\n   <g id=\"text_10\">\r\n    <g clip-path=\"url(#p25c0ccac4e)\">\r\n     <!-- (2, 3) -->\r\n     <g transform=\"translate(220.379706 31.738605)scale(0.12 -0.12)\">\r\n      <use xlink:href=\"#DejaVuSans-40\"/>\r\n      <use x=\"39.013672\" xlink:href=\"#DejaVuSans-50\"/>\r\n      <use x=\"102.636719\" xlink:href=\"#DejaVuSans-44\"/>\r\n      <use x=\"134.423828\" xlink:href=\"#DejaVuSans-32\"/>\r\n      <use x=\"166.210938\" xlink:href=\"#DejaVuSans-51\"/>\r\n      <use x=\"229.833984\" xlink:href=\"#DejaVuSans-41\"/>\r\n     </g>\r\n    </g>\r\n   </g>\r\n  </g>\r\n </g>\r\n <defs>\r\n  <clipPath id=\"p25c0ccac4e\">\r\n   <rect height=\"244.62\" width=\"251.1\" x=\"7.2\" y=\"7.2\"/>\r\n  </clipPath>\r\n </defs>\r\n</svg>\r\n",
      "image/png": "[encoded data removed]"
     },
     "metadata": {}
    }
   ],
   "source": [
    "abg.markov.visualise_ambulance_markov_chain(num_of_servers=1, threshold=1, system_capacity=3, buffer_capacity=2)"
   ]
  },
  {
   "cell_type": "code",
   "execution_count": 12,
   "metadata": {},
   "outputs": [
    {
     "data": {
      "text/latex": [
       "$\\displaystyle \\left[\\begin{matrix}1 & \\frac{\\Lambda}{\\mu} & \\frac{\\lambda^{o} \\left(\\lambda^{A} + \\mu\\right)}{\\left(\\lambda^{A}\\right)^{2} + \\lambda^{A} \\lambda^{o} + 2 \\lambda^{A} \\mu + \\mu^{2}} & \\frac{\\lambda^{o}}{\\lambda^{A} + \\mu}\\\\0 & \\frac{\\lambda^{A} \\left(\\left(\\lambda^{A}\\right)^{2} + 2 \\lambda^{A} \\lambda^{o} + 2 \\lambda^{A} \\mu + \\left(\\lambda^{o}\\right)^{2} + \\lambda^{o} \\mu + \\mu^{2}\\right)}{\\mu \\left(\\left(\\lambda^{A}\\right)^{2} + \\lambda^{A} \\lambda^{o} + 2 \\lambda^{A} \\mu + \\mu^{2}\\right)} & \\frac{\\lambda^{A} \\left(\\left(\\lambda^{A}\\right)^{3} + 2 \\left(\\lambda^{A}\\right)^{2} \\lambda^{o} + 4 \\left(\\lambda^{A}\\right)^{2} \\mu + \\lambda^{A} \\left(\\lambda^{o}\\right)^{2} + 3 \\lambda^{A} \\lambda^{o} \\mu + 5 \\lambda^{A} \\mu^{2} + \\left(\\lambda^{o}\\right)^{2} \\mu + 2 \\lambda^{o} \\mu^{2} + 2 \\mu^{3}\\right)}{\\mu \\left(\\lambda^{A} + \\mu\\right) \\left(\\left(\\lambda^{A}\\right)^{2} + \\lambda^{A} \\lambda^{o} + 2 \\lambda^{A} \\mu + \\mu^{2}\\right)} & \\frac{\\lambda^{A} \\left(\\left(\\lambda^{A}\\right)^{2} + 2 \\lambda^{A} \\lambda^{o} + 4 \\lambda^{A} \\mu + \\left(\\lambda^{o}\\right)^{2} + 2 \\lambda^{o} \\mu + 3 \\mu^{2}\\right)}{\\mu \\left(\\left(\\lambda^{A}\\right)^{2} + \\lambda^{A} \\lambda^{o} + 2 \\lambda^{A} \\mu + \\mu^{2}\\right)}\\\\0 & \\frac{\\lambda^{A} \\left(\\left(\\lambda^{A}\\right)^{4} + 4 \\left(\\lambda^{A}\\right)^{3} \\lambda^{o} + 4 \\left(\\lambda^{A}\\right)^{3} \\mu + 6 \\left(\\lambda^{A}\\right)^{2} \\left(\\lambda^{o}\\right)^{2} + 11 \\left(\\lambda^{A}\\right)^{2} \\lambda^{o} \\mu + 6 \\left(\\lambda^{A}\\right)^{2} \\mu^{2} + 4 \\lambda^{A} \\left(\\lambda^{o}\\right)^{3} + 10 \\lambda^{A} \\left(\\lambda^{o}\\right)^{2} \\mu + 10 \\lambda^{A} \\lambda^{o} \\mu^{2} + 4 \\lambda^{A} \\mu^{3} + \\left(\\lambda^{o}\\right)^{4} + 3 \\left(\\lambda^{o}\\right)^{3} \\mu + 6 \\left(\\lambda^{o}\\right)^{2} \\mu^{2} + 3 \\lambda^{o} \\mu^{3} + \\mu^{4}\\right)}{\\mu \\left(\\left(\\lambda^{A}\\right)^{2} + \\lambda^{A} \\lambda^{o} + 2 \\lambda^{A} \\mu + \\mu^{2}\\right) \\left(\\left(\\lambda^{A}\\right)^{2} + 2 \\lambda^{A} \\lambda^{o} + 2 \\lambda^{A} \\mu + \\left(\\lambda^{o}\\right)^{2} + \\lambda^{o} \\mu + \\mu^{2}\\right)} & \\frac{\\lambda^{A} \\left(\\left(\\lambda^{A}\\right)^{4} + 4 \\left(\\lambda^{A}\\right)^{3} \\lambda^{o} + 5 \\left(\\lambda^{A}\\right)^{3} \\mu + 6 \\left(\\lambda^{A}\\right)^{2} \\left(\\lambda^{o}\\right)^{2} + 14 \\left(\\lambda^{A}\\right)^{2} \\lambda^{o} \\mu + 10 \\left(\\lambda^{A}\\right)^{2} \\mu^{2} + 4 \\lambda^{A} \\left(\\lambda^{o}\\right)^{3} + 13 \\lambda^{A} \\left(\\lambda^{o}\\right)^{2} \\mu + 17 \\lambda^{A} \\lambda^{o} \\mu^{2} + 9 \\lambda^{A} \\mu^{3} + \\left(\\lambda^{o}\\right)^{4} + 4 \\left(\\lambda^{o}\\right)^{3} \\mu + 9 \\left(\\lambda^{o}\\right)^{2} \\mu^{2} + 8 \\lambda^{o} \\mu^{3} + 3 \\mu^{4}\\right)}{\\mu^{2} \\left(\\left(\\lambda^{A}\\right)^{3} + 2 \\left(\\lambda^{A}\\right)^{2} \\lambda^{o} + 4 \\left(\\lambda^{A}\\right)^{2} \\mu + \\lambda^{A} \\left(\\lambda^{o}\\right)^{2} + 3 \\lambda^{A} \\lambda^{o} \\mu + 5 \\lambda^{A} \\mu^{2} + \\left(\\lambda^{o}\\right)^{2} \\mu + 2 \\lambda^{o} \\mu^{2} + 2 \\mu^{3}\\right)} & \\frac{\\lambda^{A} \\left(\\left(\\lambda^{A}\\right)^{4} + 4 \\left(\\lambda^{A}\\right)^{3} \\lambda^{o} + 5 \\left(\\lambda^{A}\\right)^{3} \\mu + 6 \\left(\\lambda^{A}\\right)^{2} \\left(\\lambda^{o}\\right)^{2} + 14 \\left(\\lambda^{A}\\right)^{2} \\lambda^{o} \\mu + 11 \\left(\\lambda^{A}\\right)^{2} \\mu^{2} + 4 \\lambda^{A} \\left(\\lambda^{o}\\right)^{3} + 13 \\lambda^{A} \\left(\\lambda^{o}\\right)^{2} \\mu + 19 \\lambda^{A} \\lambda^{o} \\mu^{2} + 13 \\lambda^{A} \\mu^{3} + \\left(\\lambda^{o}\\right)^{4} + 4 \\left(\\lambda^{o}\\right)^{3} \\mu + 10 \\left(\\lambda^{o}\\right)^{2} \\mu^{2} + 10 \\lambda^{o} \\mu^{3} + 6 \\mu^{4}\\right)}{\\mu^{3} \\left(\\left(\\lambda^{A}\\right)^{2} + 2 \\lambda^{A} \\lambda^{o} + 4 \\lambda^{A} \\mu + \\left(\\lambda^{o}\\right)^{2} + 2 \\lambda^{o} \\mu + 3 \\mu^{2}\\right)}\\end{matrix}\\right]$"
      ],
      "text/plain": [
       "Matrix([\n",
       "[1,                                                                                                                                                                                                                                                                                                                                                                                                                                                                                        Lambda/mu,                                                                                                                                                                                                                                                                                                                                                                                                                                              lambda_1*(lambda_2 + mu)/(lambda_2**2 + lambda_2*lambda_1 + 2*lambda_2*mu + mu**2),                                                                                                                                                                                                                                                                                                                                                                                                                            lambda_1/(lambda_2 + mu)],\n",
       "[0,                                                                                                                                                                                                                                                                                                                                  lambda_2*(lambda_2**2 + 2*lambda_2*lambda_1 + 2*lambda_2*mu + lambda_1**2 + lambda_1*mu + mu**2)/(mu*(lambda_2**2 + lambda_2*lambda_1 + 2*lambda_2*mu + mu**2)),                                                                                                                                                                                                                                                              lambda_2*(lambda_2**3 + 2*lambda_2**2*lambda_1 + 4*lambda_2**2*mu + lambda_2*lambda_1**2 + 3*lambda_2*lambda_1*mu + 5*lambda_2*mu**2 + lambda_1**2*mu + 2*lambda_1*mu**2 + 2*mu**3)/(mu*(lambda_2 + mu)*(lambda_2**2 + lambda_2*lambda_1 + 2*lambda_2*mu + mu**2)),                                                                                                                                                                                                                                                                                 lambda_2*(lambda_2**2 + 2*lambda_2*lambda_1 + 4*lambda_2*mu + lambda_1**2 + 2*lambda_1*mu + 3*mu**2)/(mu*(lambda_2**2 + lambda_2*lambda_1 + 2*lambda_2*mu + mu**2))],\n",
       "[0, lambda_2*(lambda_2**4 + 4*lambda_2**3*lambda_1 + 4*lambda_2**3*mu + 6*lambda_2**2*lambda_1**2 + 11*lambda_2**2*lambda_1*mu + 6*lambda_2**2*mu**2 + 4*lambda_2*lambda_1**3 + 10*lambda_2*lambda_1**2*mu + 10*lambda_2*lambda_1*mu**2 + 4*lambda_2*mu**3 + lambda_1**4 + 3*lambda_1**3*mu + 6*lambda_1**2*mu**2 + 3*lambda_1*mu**3 + mu**4)/(mu*(lambda_2**2 + lambda_2*lambda_1 + 2*lambda_2*mu + mu**2)*(lambda_2**2 + 2*lambda_2*lambda_1 + 2*lambda_2*mu + lambda_1**2 + lambda_1*mu + mu**2)), lambda_2*(lambda_2**4 + 4*lambda_2**3*lambda_1 + 5*lambda_2**3*mu + 6*lambda_2**2*lambda_1**2 + 14*lambda_2**2*lambda_1*mu + 10*lambda_2**2*mu**2 + 4*lambda_2*lambda_1**3 + 13*lambda_2*lambda_1**2*mu + 17*lambda_2*lambda_1*mu**2 + 9*lambda_2*mu**3 + lambda_1**4 + 4*lambda_1**3*mu + 9*lambda_1**2*mu**2 + 8*lambda_1*mu**3 + 3*mu**4)/(mu**2*(lambda_2**3 + 2*lambda_2**2*lambda_1 + 4*lambda_2**2*mu + lambda_2*lambda_1**2 + 3*lambda_2*lambda_1*mu + 5*lambda_2*mu**2 + lambda_1**2*mu + 2*lambda_1*mu**2 + 2*mu**3)), lambda_2*(lambda_2**4 + 4*lambda_2**3*lambda_1 + 5*lambda_2**3*mu + 6*lambda_2**2*lambda_1**2 + 14*lambda_2**2*lambda_1*mu + 11*lambda_2**2*mu**2 + 4*lambda_2*lambda_1**3 + 13*lambda_2*lambda_1**2*mu + 19*lambda_2*lambda_1*mu**2 + 13*lambda_2*mu**3 + lambda_1**4 + 4*lambda_1**3*mu + 10*lambda_1**2*mu**2 + 10*lambda_1*mu**3 + 6*mu**4)/(mu**3*(lambda_2**2 + 2*lambda_2*lambda_1 + 4*lambda_2*mu + lambda_1**2 + 2*lambda_1*mu + 3*mu**2))]])"
      ]
     },
     "execution_count": 12,
     "metadata": {},
     "output_type": "execute_result"
    }
   ],
   "source": [
    "sym_state_recursive_ratios_1132"
   ]
  },
  {
   "cell_type": "code",
   "execution_count": 13,
   "metadata": {},
   "outputs": [
    {
     "data": {
      "text/latex": [
       "$\\displaystyle \\left[\\begin{matrix}1 & \\frac{\\Lambda}{\\mu} & \\frac{\\lambda^{o} \\left(\\lambda^{A} + \\mu\\right)}{\\left(\\lambda^{A}\\right)^{2} + \\lambda^{A} \\lambda^{o} + 2 \\lambda^{A} \\mu + \\mu^{2}} & \\frac{\\lambda^{o}}{\\lambda^{A} + \\mu}\\\\0 & \\frac{\\lambda^{A} \\left(\\left(\\lambda^{A}\\right)^{2} + 2 \\lambda^{A} \\lambda^{o} + 2 \\lambda^{A} \\mu + \\left(\\lambda^{o}\\right)^{2} + \\lambda^{o} \\mu + \\mu^{2}\\right)}{\\mu \\left(\\left(\\lambda^{A}\\right)^{2} + \\lambda^{A} \\lambda^{o} + 2 \\lambda^{A} \\mu + \\mu^{2}\\right)} & \\frac{\\lambda^{o} \\left(\\left(\\lambda^{A}\\right)^{3} + 2 \\left(\\lambda^{A}\\right)^{2} \\lambda^{o} + 4 \\left(\\lambda^{A}\\right)^{2} \\mu + \\lambda^{A} \\left(\\lambda^{o}\\right)^{2} + 3 \\lambda^{A} \\lambda^{o} \\mu + 5 \\lambda^{A} \\mu^{2} + \\left(\\lambda^{o}\\right)^{2} \\mu + 2 \\lambda^{o} \\mu^{2} + 2 \\mu^{3}\\right)}{\\left(\\left(\\lambda^{A}\\right)^{2} + \\lambda^{A} \\lambda^{o} + 2 \\lambda^{A} \\mu + \\mu^{2}\\right) \\left(\\left(\\lambda^{A}\\right)^{2} + 2 \\lambda^{A} \\lambda^{o} + 2 \\lambda^{A} \\mu + \\left(\\lambda^{o}\\right)^{2} + \\lambda^{o} \\mu + \\mu^{2}\\right)} & \\frac{\\lambda^{o} \\left(\\left(\\lambda^{A}\\right)^{2} + 2 \\lambda^{A} \\lambda^{o} + 4 \\lambda^{A} \\mu + \\left(\\lambda^{o}\\right)^{2} + 2 \\lambda^{o} \\mu + 3 \\mu^{2}\\right)}{\\left(\\lambda^{A}\\right)^{3} + 2 \\left(\\lambda^{A}\\right)^{2} \\lambda^{o} + 4 \\left(\\lambda^{A}\\right)^{2} \\mu + \\lambda^{A} \\left(\\lambda^{o}\\right)^{2} + 3 \\lambda^{A} \\lambda^{o} \\mu + 5 \\lambda^{A} \\mu^{2} + \\left(\\lambda^{o}\\right)^{2} \\mu + 2 \\lambda^{o} \\mu^{2} + 2 \\mu^{3}}\\\\0 & \\frac{\\lambda^{A} \\left(\\left(\\lambda^{A}\\right)^{4} + 4 \\left(\\lambda^{A}\\right)^{3} \\lambda^{o} + 4 \\left(\\lambda^{A}\\right)^{3} \\mu + 6 \\left(\\lambda^{A}\\right)^{2} \\left(\\lambda^{o}\\right)^{2} + 11 \\left(\\lambda^{A}\\right)^{2} \\lambda^{o} \\mu + 6 \\left(\\lambda^{A}\\right)^{2} \\mu^{2} + 4 \\lambda^{A} \\left(\\lambda^{o}\\right)^{3} + 10 \\lambda^{A} \\left(\\lambda^{o}\\right)^{2} \\mu + 10 \\lambda^{A} \\lambda^{o} \\mu^{2} + 4 \\lambda^{A} \\mu^{3} + \\left(\\lambda^{o}\\right)^{4} + 3 \\left(\\lambda^{o}\\right)^{3} \\mu + 6 \\left(\\lambda^{o}\\right)^{2} \\mu^{2} + 3 \\lambda^{o} \\mu^{3} + \\mu^{4}\\right)}{\\mu \\left(\\left(\\lambda^{A}\\right)^{2} + \\lambda^{A} \\lambda^{o} + 2 \\lambda^{A} \\mu + \\mu^{2}\\right) \\left(\\left(\\lambda^{A}\\right)^{2} + 2 \\lambda^{A} \\lambda^{o} + 2 \\lambda^{A} \\mu + \\left(\\lambda^{o}\\right)^{2} + \\lambda^{o} \\mu + \\mu^{2}\\right)} & \\frac{\\lambda^{o} \\left(\\left(\\lambda^{A}\\right)^{4} + 4 \\left(\\lambda^{A}\\right)^{3} \\lambda^{o} + 5 \\left(\\lambda^{A}\\right)^{3} \\mu + 6 \\left(\\lambda^{A}\\right)^{2} \\left(\\lambda^{o}\\right)^{2} + 14 \\left(\\lambda^{A}\\right)^{2} \\lambda^{o} \\mu + 10 \\left(\\lambda^{A}\\right)^{2} \\mu^{2} + 4 \\lambda^{A} \\left(\\lambda^{o}\\right)^{3} + 13 \\lambda^{A} \\left(\\lambda^{o}\\right)^{2} \\mu + 17 \\lambda^{A} \\lambda^{o} \\mu^{2} + 9 \\lambda^{A} \\mu^{3} + \\left(\\lambda^{o}\\right)^{4} + 4 \\left(\\lambda^{o}\\right)^{3} \\mu + 9 \\left(\\lambda^{o}\\right)^{2} \\mu^{2} + 8 \\lambda^{o} \\mu^{3} + 3 \\mu^{4}\\right)}{\\mu \\left(\\left(\\lambda^{A}\\right)^{4} + 4 \\left(\\lambda^{A}\\right)^{3} \\lambda^{o} + 4 \\left(\\lambda^{A}\\right)^{3} \\mu + 6 \\left(\\lambda^{A}\\right)^{2} \\left(\\lambda^{o}\\right)^{2} + 11 \\left(\\lambda^{A}\\right)^{2} \\lambda^{o} \\mu + 6 \\left(\\lambda^{A}\\right)^{2} \\mu^{2} + 4 \\lambda^{A} \\left(\\lambda^{o}\\right)^{3} + 10 \\lambda^{A} \\left(\\lambda^{o}\\right)^{2} \\mu + 10 \\lambda^{A} \\lambda^{o} \\mu^{2} + 4 \\lambda^{A} \\mu^{3} + \\left(\\lambda^{o}\\right)^{4} + 3 \\left(\\lambda^{o}\\right)^{3} \\mu + 6 \\left(\\lambda^{o}\\right)^{2} \\mu^{2} + 3 \\lambda^{o} \\mu^{3} + \\mu^{4}\\right)} & \\frac{\\lambda^{o} \\left(\\left(\\lambda^{A}\\right)^{4} + 4 \\left(\\lambda^{A}\\right)^{3} \\lambda^{o} + 5 \\left(\\lambda^{A}\\right)^{3} \\mu + 6 \\left(\\lambda^{A}\\right)^{2} \\left(\\lambda^{o}\\right)^{2} + 14 \\left(\\lambda^{A}\\right)^{2} \\lambda^{o} \\mu + 11 \\left(\\lambda^{A}\\right)^{2} \\mu^{2} + 4 \\lambda^{A} \\left(\\lambda^{o}\\right)^{3} + 13 \\lambda^{A} \\left(\\lambda^{o}\\right)^{2} \\mu + 19 \\lambda^{A} \\lambda^{o} \\mu^{2} + 13 \\lambda^{A} \\mu^{3} + \\left(\\lambda^{o}\\right)^{4} + 4 \\left(\\lambda^{o}\\right)^{3} \\mu + 10 \\left(\\lambda^{o}\\right)^{2} \\mu^{2} + 10 \\lambda^{o} \\mu^{3} + 6 \\mu^{4}\\right)}{\\mu \\left(\\left(\\lambda^{A}\\right)^{4} + 4 \\left(\\lambda^{A}\\right)^{3} \\lambda^{o} + 5 \\left(\\lambda^{A}\\right)^{3} \\mu + 6 \\left(\\lambda^{A}\\right)^{2} \\left(\\lambda^{o}\\right)^{2} + 14 \\left(\\lambda^{A}\\right)^{2} \\lambda^{o} \\mu + 10 \\left(\\lambda^{A}\\right)^{2} \\mu^{2} + 4 \\lambda^{A} \\left(\\lambda^{o}\\right)^{3} + 13 \\lambda^{A} \\left(\\lambda^{o}\\right)^{2} \\mu + 17 \\lambda^{A} \\lambda^{o} \\mu^{2} + 9 \\lambda^{A} \\mu^{3} + \\left(\\lambda^{o}\\right)^{4} + 4 \\left(\\lambda^{o}\\right)^{3} \\mu + 9 \\left(\\lambda^{o}\\right)^{2} \\mu^{2} + 8 \\lambda^{o} \\mu^{3} + 3 \\mu^{4}\\right)}\\end{matrix}\\right]$"
      ],
      "text/plain": [
       "Matrix([\n",
       "[1,                                                                                                                                                                                                                                                                                                                                                                                                                                                                                        Lambda/mu,                                                                                                                                                                                                                                                                                                                                                                                                                                                                                                                                                                                                 lambda_1*(lambda_2 + mu)/(lambda_2**2 + lambda_2*lambda_1 + 2*lambda_2*mu + mu**2),                                                                                                                                                                                                                                                                                                                                                                                                                                                                                                                                                                                                                                                                 lambda_1/(lambda_2 + mu)],\n",
       "[0,                                                                                                                                                                                                                                                                                                                                  lambda_2*(lambda_2**2 + 2*lambda_2*lambda_1 + 2*lambda_2*mu + lambda_1**2 + lambda_1*mu + mu**2)/(mu*(lambda_2**2 + lambda_2*lambda_1 + 2*lambda_2*mu + mu**2)),                                                                                                                                                                                                                                                                                                                                            lambda_1*(lambda_2**3 + 2*lambda_2**2*lambda_1 + 4*lambda_2**2*mu + lambda_2*lambda_1**2 + 3*lambda_2*lambda_1*mu + 5*lambda_2*mu**2 + lambda_1**2*mu + 2*lambda_1*mu**2 + 2*mu**3)/((lambda_2**2 + lambda_2*lambda_1 + 2*lambda_2*mu + mu**2)*(lambda_2**2 + 2*lambda_2*lambda_1 + 2*lambda_2*mu + lambda_1**2 + lambda_1*mu + mu**2)),                                                                                                                                                                                                                                                                                                                                                                                                          lambda_1*(lambda_2**2 + 2*lambda_2*lambda_1 + 4*lambda_2*mu + lambda_1**2 + 2*lambda_1*mu + 3*mu**2)/(lambda_2**3 + 2*lambda_2**2*lambda_1 + 4*lambda_2**2*mu + lambda_2*lambda_1**2 + 3*lambda_2*lambda_1*mu + 5*lambda_2*mu**2 + lambda_1**2*mu + 2*lambda_1*mu**2 + 2*mu**3)],\n",
       "[0, lambda_2*(lambda_2**4 + 4*lambda_2**3*lambda_1 + 4*lambda_2**3*mu + 6*lambda_2**2*lambda_1**2 + 11*lambda_2**2*lambda_1*mu + 6*lambda_2**2*mu**2 + 4*lambda_2*lambda_1**3 + 10*lambda_2*lambda_1**2*mu + 10*lambda_2*lambda_1*mu**2 + 4*lambda_2*mu**3 + lambda_1**4 + 3*lambda_1**3*mu + 6*lambda_1**2*mu**2 + 3*lambda_1*mu**3 + mu**4)/(mu*(lambda_2**2 + lambda_2*lambda_1 + 2*lambda_2*mu + mu**2)*(lambda_2**2 + 2*lambda_2*lambda_1 + 2*lambda_2*mu + lambda_1**2 + lambda_1*mu + mu**2)), lambda_1*(lambda_2**4 + 4*lambda_2**3*lambda_1 + 5*lambda_2**3*mu + 6*lambda_2**2*lambda_1**2 + 14*lambda_2**2*lambda_1*mu + 10*lambda_2**2*mu**2 + 4*lambda_2*lambda_1**3 + 13*lambda_2*lambda_1**2*mu + 17*lambda_2*lambda_1*mu**2 + 9*lambda_2*mu**3 + lambda_1**4 + 4*lambda_1**3*mu + 9*lambda_1**2*mu**2 + 8*lambda_1*mu**3 + 3*mu**4)/(mu*(lambda_2**4 + 4*lambda_2**3*lambda_1 + 4*lambda_2**3*mu + 6*lambda_2**2*lambda_1**2 + 11*lambda_2**2*lambda_1*mu + 6*lambda_2**2*mu**2 + 4*lambda_2*lambda_1**3 + 10*lambda_2*lambda_1**2*mu + 10*lambda_2*lambda_1*mu**2 + 4*lambda_2*mu**3 + lambda_1**4 + 3*lambda_1**3*mu + 6*lambda_1**2*mu**2 + 3*lambda_1*mu**3 + mu**4)), lambda_1*(lambda_2**4 + 4*lambda_2**3*lambda_1 + 5*lambda_2**3*mu + 6*lambda_2**2*lambda_1**2 + 14*lambda_2**2*lambda_1*mu + 11*lambda_2**2*mu**2 + 4*lambda_2*lambda_1**3 + 13*lambda_2*lambda_1**2*mu + 19*lambda_2*lambda_1*mu**2 + 13*lambda_2*mu**3 + lambda_1**4 + 4*lambda_1**3*mu + 10*lambda_1**2*mu**2 + 10*lambda_1*mu**3 + 6*mu**4)/(mu*(lambda_2**4 + 4*lambda_2**3*lambda_1 + 5*lambda_2**3*mu + 6*lambda_2**2*lambda_1**2 + 14*lambda_2**2*lambda_1*mu + 10*lambda_2**2*mu**2 + 4*lambda_2*lambda_1**3 + 13*lambda_2*lambda_1**2*mu + 17*lambda_2*lambda_1*mu**2 + 9*lambda_2*mu**3 + lambda_1**4 + 4*lambda_1**3*mu + 9*lambda_1**2*mu**2 + 8*lambda_1*mu**3 + 3*mu**4))]])"
      ]
     },
     "execution_count": 13,
     "metadata": {},
     "output_type": "execute_result"
    }
   ],
   "source": [
    "sym_state_recursive_ratios_right_1132"
   ]
  },
  {
   "cell_type": "markdown",
   "metadata": {},
   "source": [
    "## $C=1, T=1, N=4, M=1$"
   ]
  },
  {
   "cell_type": "code",
   "execution_count": 18,
   "metadata": {},
   "outputs": [
    {
     "output_type": "execute_result",
     "data": {
      "text/plain": "<networkx.classes.multidigraph.MultiDiGraph at 0x274733357c0>"
     },
     "metadata": {},
     "execution_count": 18
    },
    {
     "output_type": "display_data",
     "data": {
      "text/plain": "<Figure size 216x432 with 1 Axes>",
      "image/svg+xml": "<?xml version=\"1.0\" encoding=\"utf-8\" standalone=\"no\"?>\r\n<!DOCTYPE svg PUBLIC \"-//W3C//DTD SVG 1.1//EN\"\r\n  \"http://www.w3.org/Graphics/SVG/1.1/DTD/svg11.dtd\">\r\n<!-- Created with matplotlib (https://matplotlib.org/) -->\r\n<svg height=\"340.56pt\" version=\"1.1\" viewBox=\"0 0 181.8 340.56\" width=\"181.8pt\" xmlns=\"http://www.w3.org/2000/svg\" xmlns:xlink=\"http://www.w3.org/1999/xlink\">\r\n <defs>\r\n  <style type=\"text/css\">\r\n*{stroke-linecap:butt;stroke-linejoin:round;}\r\n  </style>\r\n </defs>\r\n <g id=\"figure_1\">\r\n  <g id=\"patch_1\">\r\n   <path d=\"M 0 340.56 \r\nL 181.8 340.56 \r\nL 181.8 0 \r\nL 0 0 \r\nz\r\n\" style=\"fill:none;\"/>\r\n  </g>\r\n  <g id=\"axes_1\">\r\n   <g id=\"patch_2\">\r\n    <path clip-path=\"url(#p26e02b8ceb)\" d=\"M 31.984063 305.05686 \r\nQ 31.984063 275.691644 31.984063 247.444462 \r\n\" style=\"fill:none;stroke:#000000;stroke-linecap:round;\"/>\r\n    <path clip-path=\"url(#p26e02b8ceb)\" d=\"M 29.984063 251.444462 \r\nL 31.984063 247.444462 \r\nL 33.984063 251.444462 \r\nL 29.984063 251.444462 \r\nz\r\n\" style=\"stroke:#000000;stroke-linecap:round;\"/>\r\n   </g>\r\n   <g id=\"patch_3\">\r\n    <path clip-path=\"url(#p26e02b8ceb)\" d=\"M 31.984063 237.66843 \r\nQ 91.943027 237.66843 150.783958 237.66843 \r\n\" style=\"fill:none;stroke:#000000;stroke-linecap:round;\"/>\r\n    <path clip-path=\"url(#p26e02b8ceb)\" d=\"M 146.783958 235.66843 \r\nL 150.783958 237.66843 \r\nL 146.783958 239.66843 \r\nL 146.783958 235.66843 \r\nz\r\n\" style=\"stroke:#000000;stroke-linecap:round;\"/>\r\n   </g>\r\n   <g id=\"patch_4\">\r\n    <path clip-path=\"url(#p26e02b8ceb)\" d=\"M 31.984063 237.66843 \r\nQ 31.984063 208.303214 31.984063 180.056032 \r\n\" style=\"fill:none;stroke:#000000;stroke-linecap:round;\"/>\r\n    <path clip-path=\"url(#p26e02b8ceb)\" d=\"M 29.984063 184.056032 \r\nL 31.984063 180.056032 \r\nL 33.984063 184.056032 \r\nL 29.984063 184.056032 \r\nz\r\n\" style=\"stroke:#000000;stroke-linecap:round;\"/>\r\n   </g>\r\n   <g id=\"patch_5\">\r\n    <path clip-path=\"url(#p26e02b8ceb)\" d=\"M 160.562012 237.66843 \r\nQ 160.562012 208.303214 160.562012 180.056032 \r\n\" style=\"fill:none;stroke:#000000;stroke-linecap:round;\"/>\r\n    <path clip-path=\"url(#p26e02b8ceb)\" d=\"M 158.562012 184.056032 \r\nL 160.562012 180.056032 \r\nL 162.562012 184.056032 \r\nL 158.562012 184.056032 \r\nz\r\n\" style=\"stroke:#000000;stroke-linecap:round;\"/>\r\n   </g>\r\n   <g id=\"patch_6\">\r\n    <path clip-path=\"url(#p26e02b8ceb)\" d=\"M 31.984063 170.28 \r\nQ 91.943027 170.28 150.783958 170.28 \r\n\" style=\"fill:none;stroke:#000000;stroke-linecap:round;\"/>\r\n    <path clip-path=\"url(#p26e02b8ceb)\" d=\"M 146.783958 168.28 \r\nL 150.783958 170.28 \r\nL 146.783958 172.28 \r\nL 146.783958 168.28 \r\nz\r\n\" style=\"stroke:#000000;stroke-linecap:round;\"/>\r\n   </g>\r\n   <g id=\"patch_7\">\r\n    <path clip-path=\"url(#p26e02b8ceb)\" d=\"M 31.984063 170.28 \r\nQ 31.984063 140.914784 31.984063 112.667603 \r\n\" style=\"fill:none;stroke:#000000;stroke-linecap:round;\"/>\r\n    <path clip-path=\"url(#p26e02b8ceb)\" d=\"M 29.984063 116.667603 \r\nL 31.984063 112.667603 \r\nL 33.984063 116.667603 \r\nL 29.984063 116.667603 \r\nz\r\n\" style=\"stroke:#000000;stroke-linecap:round;\"/>\r\n   </g>\r\n   <g id=\"patch_8\">\r\n    <path clip-path=\"url(#p26e02b8ceb)\" d=\"M 160.562012 170.28 \r\nQ 160.562012 140.914784 160.562012 112.667603 \r\n\" style=\"fill:none;stroke:#000000;stroke-linecap:round;\"/>\r\n    <path clip-path=\"url(#p26e02b8ceb)\" d=\"M 158.562012 116.667603 \r\nL 160.562012 112.667603 \r\nL 162.562012 116.667603 \r\nL 158.562012 116.667603 \r\nz\r\n\" style=\"stroke:#000000;stroke-linecap:round;\"/>\r\n   </g>\r\n   <g id=\"patch_9\">\r\n    <path clip-path=\"url(#p26e02b8ceb)\" d=\"M 31.984063 102.89157 \r\nQ 91.943027 102.89157 150.783958 102.89157 \r\n\" style=\"fill:none;stroke:#000000;stroke-linecap:round;\"/>\r\n    <path clip-path=\"url(#p26e02b8ceb)\" d=\"M 146.783958 100.89157 \r\nL 150.783958 102.89157 \r\nL 146.783958 104.89157 \r\nL 146.783958 100.89157 \r\nz\r\n\" style=\"stroke:#000000;stroke-linecap:round;\"/>\r\n   </g>\r\n   <g id=\"patch_10\">\r\n    <path clip-path=\"url(#p26e02b8ceb)\" d=\"M 31.984063 102.89157 \r\nQ 31.984063 73.526355 31.984063 45.279173 \r\n\" style=\"fill:none;stroke:#000000;stroke-linecap:round;\"/>\r\n    <path clip-path=\"url(#p26e02b8ceb)\" d=\"M 29.984063 49.279173 \r\nL 31.984063 45.279173 \r\nL 33.984063 49.279173 \r\nL 29.984063 49.279173 \r\nz\r\n\" style=\"stroke:#000000;stroke-linecap:round;\"/>\r\n   </g>\r\n   <g id=\"patch_11\">\r\n    <path clip-path=\"url(#p26e02b8ceb)\" d=\"M 160.562012 102.89157 \r\nQ 160.562012 73.526355 160.562012 45.279173 \r\n\" style=\"fill:none;stroke:#000000;stroke-linecap:round;\"/>\r\n    <path clip-path=\"url(#p26e02b8ceb)\" d=\"M 158.562012 49.279173 \r\nL 160.562012 45.279173 \r\nL 162.562012 49.279173 \r\nL 158.562012 49.279173 \r\nz\r\n\" style=\"stroke:#000000;stroke-linecap:round;\"/>\r\n   </g>\r\n   <g id=\"patch_12\">\r\n    <path clip-path=\"url(#p26e02b8ceb)\" d=\"M 31.984063 35.50314 \r\nQ 91.943027 35.50314 150.783958 35.50314 \r\n\" style=\"fill:none;stroke:#000000;stroke-linecap:round;\"/>\r\n    <path clip-path=\"url(#p26e02b8ceb)\" d=\"M 146.783958 33.50314 \r\nL 150.783958 35.50314 \r\nL 146.783958 37.50314 \r\nL 146.783958 33.50314 \r\nz\r\n\" style=\"stroke:#000000;stroke-linecap:round;\"/>\r\n   </g>\r\n   <g id=\"PathCollection_1\">\r\n    <defs>\r\n     <path d=\"M 0 22.36068 \r\nC 5.930122 22.36068 11.618159 20.004617 15.811388 15.811388 \r\nC 20.004617 11.618159 22.36068 5.930122 22.36068 0 \r\nC 22.36068 -5.930122 20.004617 -11.618159 15.811388 -15.811388 \r\nC 11.618159 -20.004617 5.930122 -22.36068 0 -22.36068 \r\nC -5.930122 -22.36068 -11.618159 -20.004617 -15.811388 -15.811388 \r\nC -20.004617 -11.618159 -22.36068 -5.930122 -22.36068 0 \r\nC -22.36068 5.930122 -20.004617 11.618159 -15.811388 15.811388 \r\nC -11.618159 20.004617 -5.930122 22.36068 0 22.36068 \r\nz\r\n\" id=\"ma55e36db9b\" style=\"stroke:#1f78b4;\"/>\r\n    </defs>\r\n    <g clip-path=\"url(#p26e02b8ceb)\">\r\n     <use style=\"fill:#1f78b4;stroke:#1f78b4;\" x=\"31.984063\" xlink:href=\"#ma55e36db9b\" y=\"305.05686\"/>\r\n    </g>\r\n   </g>\r\n   <g id=\"PathCollection_2\">\r\n    <defs>\r\n     <path d=\"M 0 22.36068 \r\nC 5.930122 22.36068 11.618159 20.004617 15.811388 15.811388 \r\nC 20.004617 11.618159 22.36068 5.930122 22.36068 0 \r\nC 22.36068 -5.930122 20.004617 -11.618159 15.811388 -15.811388 \r\nC 11.618159 -20.004617 5.930122 -22.36068 0 -22.36068 \r\nC -5.930122 -22.36068 -11.618159 -20.004617 -15.811388 -15.811388 \r\nC -20.004617 -11.618159 -22.36068 -5.930122 -22.36068 0 \r\nC -22.36068 5.930122 -20.004617 11.618159 -15.811388 15.811388 \r\nC -11.618159 20.004617 -5.930122 22.36068 0 22.36068 \r\nz\r\n\" id=\"maf5db1860f\" style=\"stroke:#ff0000;\"/>\r\n    </defs>\r\n    <g clip-path=\"url(#p26e02b8ceb)\">\r\n     <use style=\"fill:#ff0000;stroke:#ff0000;\" x=\"31.984063\" xlink:href=\"#maf5db1860f\" y=\"237.66843\"/>\r\n     <use style=\"fill:#ff0000;stroke:#ff0000;\" x=\"160.562012\" xlink:href=\"#maf5db1860f\" y=\"237.66843\"/>\r\n     <use style=\"fill:#ff0000;stroke:#ff0000;\" x=\"31.984063\" xlink:href=\"#maf5db1860f\" y=\"170.28\"/>\r\n     <use style=\"fill:#ff0000;stroke:#ff0000;\" x=\"160.562012\" xlink:href=\"#maf5db1860f\" y=\"170.28\"/>\r\n     <use style=\"fill:#ff0000;stroke:#ff0000;\" x=\"31.984063\" xlink:href=\"#maf5db1860f\" y=\"102.89157\"/>\r\n     <use style=\"fill:#ff0000;stroke:#ff0000;\" x=\"160.562012\" xlink:href=\"#maf5db1860f\" y=\"102.89157\"/>\r\n     <use style=\"fill:#ff0000;stroke:#ff0000;\" x=\"31.984063\" xlink:href=\"#maf5db1860f\" y=\"35.50314\"/>\r\n     <use style=\"fill:#ff0000;stroke:#ff0000;\" x=\"160.562012\" xlink:href=\"#maf5db1860f\" y=\"35.50314\"/>\r\n    </g>\r\n   </g>\r\n   <g id=\"text_1\">\r\n    <g clip-path=\"url(#p26e02b8ceb)\">\r\n     <!-- (0, 0) -->\r\n     <defs>\r\n      <path d=\"M 31 75.875 \r\nQ 24.46875 64.65625 21.28125 53.65625 \r\nQ 18.109375 42.671875 18.109375 31.390625 \r\nQ 18.109375 20.125 21.3125 9.0625 \r\nQ 24.515625 -2 31 -13.1875 \r\nL 23.1875 -13.1875 \r\nQ 15.875 -1.703125 12.234375 9.375 \r\nQ 8.59375 20.453125 8.59375 31.390625 \r\nQ 8.59375 42.28125 12.203125 53.3125 \r\nQ 15.828125 64.359375 23.1875 75.875 \r\nz\r\n\" id=\"DejaVuSans-40\"/>\r\n      <path d=\"M 31.78125 66.40625 \r\nQ 24.171875 66.40625 20.328125 58.90625 \r\nQ 16.5 51.421875 16.5 36.375 \r\nQ 16.5 21.390625 20.328125 13.890625 \r\nQ 24.171875 6.390625 31.78125 6.390625 \r\nQ 39.453125 6.390625 43.28125 13.890625 \r\nQ 47.125 21.390625 47.125 36.375 \r\nQ 47.125 51.421875 43.28125 58.90625 \r\nQ 39.453125 66.40625 31.78125 66.40625 \r\nz\r\nM 31.78125 74.21875 \r\nQ 44.046875 74.21875 50.515625 64.515625 \r\nQ 56.984375 54.828125 56.984375 36.375 \r\nQ 56.984375 17.96875 50.515625 8.265625 \r\nQ 44.046875 -1.421875 31.78125 -1.421875 \r\nQ 19.53125 -1.421875 13.0625 8.265625 \r\nQ 6.59375 17.96875 6.59375 36.375 \r\nQ 6.59375 54.828125 13.0625 64.515625 \r\nQ 19.53125 74.21875 31.78125 74.21875 \r\nz\r\n\" id=\"DejaVuSans-48\"/>\r\n      <path d=\"M 11.71875 12.40625 \r\nL 22.015625 12.40625 \r\nL 22.015625 4 \r\nL 14.015625 -11.625 \r\nL 7.71875 -11.625 \r\nL 11.71875 4 \r\nz\r\n\" id=\"DejaVuSans-44\"/>\r\n      <path id=\"DejaVuSans-32\"/>\r\n      <path d=\"M 8.015625 75.875 \r\nL 15.828125 75.875 \r\nQ 23.140625 64.359375 26.78125 53.3125 \r\nQ 30.421875 42.28125 30.421875 31.390625 \r\nQ 30.421875 20.453125 26.78125 9.375 \r\nQ 23.140625 -1.703125 15.828125 -13.1875 \r\nL 8.015625 -13.1875 \r\nQ 14.5 -2 17.703125 9.0625 \r\nQ 20.90625 20.125 20.90625 31.390625 \r\nQ 20.90625 42.671875 17.703125 53.65625 \r\nQ 14.5 64.65625 8.015625 75.875 \r\nz\r\n\" id=\"DejaVuSans-41\"/>\r\n     </defs>\r\n     <g transform=\"translate(15.853438 308.36811)scale(0.12 -0.12)\">\r\n      <use xlink:href=\"#DejaVuSans-40\"/>\r\n      <use x=\"39.013672\" xlink:href=\"#DejaVuSans-48\"/>\r\n      <use x=\"102.636719\" xlink:href=\"#DejaVuSans-44\"/>\r\n      <use x=\"134.423828\" xlink:href=\"#DejaVuSans-32\"/>\r\n      <use x=\"166.210938\" xlink:href=\"#DejaVuSans-48\"/>\r\n      <use x=\"229.833984\" xlink:href=\"#DejaVuSans-41\"/>\r\n     </g>\r\n    </g>\r\n   </g>\r\n   <g id=\"text_2\">\r\n    <g clip-path=\"url(#p26e02b8ceb)\">\r\n     <!-- (0, 1) -->\r\n     <defs>\r\n      <path d=\"M 12.40625 8.296875 \r\nL 28.515625 8.296875 \r\nL 28.515625 63.921875 \r\nL 10.984375 60.40625 \r\nL 10.984375 69.390625 \r\nL 28.421875 72.90625 \r\nL 38.28125 72.90625 \r\nL 38.28125 8.296875 \r\nL 54.390625 8.296875 \r\nL 54.390625 0 \r\nL 12.40625 0 \r\nz\r\n\" id=\"DejaVuSans-49\"/>\r\n     </defs>\r\n     <g transform=\"translate(15.853438 240.97968)scale(0.12 -0.12)\">\r\n      <use xlink:href=\"#DejaVuSans-40\"/>\r\n      <use x=\"39.013672\" xlink:href=\"#DejaVuSans-48\"/>\r\n      <use x=\"102.636719\" xlink:href=\"#DejaVuSans-44\"/>\r\n      <use x=\"134.423828\" xlink:href=\"#DejaVuSans-32\"/>\r\n      <use x=\"166.210938\" xlink:href=\"#DejaVuSans-49\"/>\r\n      <use x=\"229.833984\" xlink:href=\"#DejaVuSans-41\"/>\r\n     </g>\r\n    </g>\r\n   </g>\r\n   <g id=\"text_3\">\r\n    <g clip-path=\"url(#p26e02b8ceb)\">\r\n     <!-- (1, 1) -->\r\n     <g transform=\"translate(144.431387 240.97968)scale(0.12 -0.12)\">\r\n      <use xlink:href=\"#DejaVuSans-40\"/>\r\n      <use x=\"39.013672\" xlink:href=\"#DejaVuSans-49\"/>\r\n      <use x=\"102.636719\" xlink:href=\"#DejaVuSans-44\"/>\r\n      <use x=\"134.423828\" xlink:href=\"#DejaVuSans-32\"/>\r\n      <use x=\"166.210938\" xlink:href=\"#DejaVuSans-49\"/>\r\n      <use x=\"229.833984\" xlink:href=\"#DejaVuSans-41\"/>\r\n     </g>\r\n    </g>\r\n   </g>\r\n   <g id=\"text_4\">\r\n    <g clip-path=\"url(#p26e02b8ceb)\">\r\n     <!-- (0, 2) -->\r\n     <defs>\r\n      <path d=\"M 19.1875 8.296875 \r\nL 53.609375 8.296875 \r\nL 53.609375 0 \r\nL 7.328125 0 \r\nL 7.328125 8.296875 \r\nQ 12.9375 14.109375 22.625 23.890625 \r\nQ 32.328125 33.6875 34.8125 36.53125 \r\nQ 39.546875 41.84375 41.421875 45.53125 \r\nQ 43.3125 49.21875 43.3125 52.78125 \r\nQ 43.3125 58.59375 39.234375 62.25 \r\nQ 35.15625 65.921875 28.609375 65.921875 \r\nQ 23.96875 65.921875 18.8125 64.3125 \r\nQ 13.671875 62.703125 7.8125 59.421875 \r\nL 7.8125 69.390625 \r\nQ 13.765625 71.78125 18.9375 73 \r\nQ 24.125 74.21875 28.421875 74.21875 \r\nQ 39.75 74.21875 46.484375 68.546875 \r\nQ 53.21875 62.890625 53.21875 53.421875 \r\nQ 53.21875 48.921875 51.53125 44.890625 \r\nQ 49.859375 40.875 45.40625 35.40625 \r\nQ 44.1875 33.984375 37.640625 27.21875 \r\nQ 31.109375 20.453125 19.1875 8.296875 \r\nz\r\n\" id=\"DejaVuSans-50\"/>\r\n     </defs>\r\n     <g transform=\"translate(15.853438 173.59125)scale(0.12 -0.12)\">\r\n      <use xlink:href=\"#DejaVuSans-40\"/>\r\n      <use x=\"39.013672\" xlink:href=\"#DejaVuSans-48\"/>\r\n      <use x=\"102.636719\" xlink:href=\"#DejaVuSans-44\"/>\r\n      <use x=\"134.423828\" xlink:href=\"#DejaVuSans-32\"/>\r\n      <use x=\"166.210938\" xlink:href=\"#DejaVuSans-50\"/>\r\n      <use x=\"229.833984\" xlink:href=\"#DejaVuSans-41\"/>\r\n     </g>\r\n    </g>\r\n   </g>\r\n   <g id=\"text_5\">\r\n    <g clip-path=\"url(#p26e02b8ceb)\">\r\n     <!-- (1, 2) -->\r\n     <g transform=\"translate(144.431387 173.59125)scale(0.12 -0.12)\">\r\n      <use xlink:href=\"#DejaVuSans-40\"/>\r\n      <use x=\"39.013672\" xlink:href=\"#DejaVuSans-49\"/>\r\n      <use x=\"102.636719\" xlink:href=\"#DejaVuSans-44\"/>\r\n      <use x=\"134.423828\" xlink:href=\"#DejaVuSans-32\"/>\r\n      <use x=\"166.210938\" xlink:href=\"#DejaVuSans-50\"/>\r\n      <use x=\"229.833984\" xlink:href=\"#DejaVuSans-41\"/>\r\n     </g>\r\n    </g>\r\n   </g>\r\n   <g id=\"text_6\">\r\n    <g clip-path=\"url(#p26e02b8ceb)\">\r\n     <!-- (0, 3) -->\r\n     <defs>\r\n      <path d=\"M 40.578125 39.3125 \r\nQ 47.65625 37.796875 51.625 33 \r\nQ 55.609375 28.21875 55.609375 21.1875 \r\nQ 55.609375 10.40625 48.1875 4.484375 \r\nQ 40.765625 -1.421875 27.09375 -1.421875 \r\nQ 22.515625 -1.421875 17.65625 -0.515625 \r\nQ 12.796875 0.390625 7.625 2.203125 \r\nL 7.625 11.71875 \r\nQ 11.71875 9.328125 16.59375 8.109375 \r\nQ 21.484375 6.890625 26.8125 6.890625 \r\nQ 36.078125 6.890625 40.9375 10.546875 \r\nQ 45.796875 14.203125 45.796875 21.1875 \r\nQ 45.796875 27.640625 41.28125 31.265625 \r\nQ 36.765625 34.90625 28.71875 34.90625 \r\nL 20.21875 34.90625 \r\nL 20.21875 43.015625 \r\nL 29.109375 43.015625 \r\nQ 36.375 43.015625 40.234375 45.921875 \r\nQ 44.09375 48.828125 44.09375 54.296875 \r\nQ 44.09375 59.90625 40.109375 62.90625 \r\nQ 36.140625 65.921875 28.71875 65.921875 \r\nQ 24.65625 65.921875 20.015625 65.03125 \r\nQ 15.375 64.15625 9.8125 62.3125 \r\nL 9.8125 71.09375 \r\nQ 15.4375 72.65625 20.34375 73.4375 \r\nQ 25.25 74.21875 29.59375 74.21875 \r\nQ 40.828125 74.21875 47.359375 69.109375 \r\nQ 53.90625 64.015625 53.90625 55.328125 \r\nQ 53.90625 49.265625 50.4375 45.09375 \r\nQ 46.96875 40.921875 40.578125 39.3125 \r\nz\r\n\" id=\"DejaVuSans-51\"/>\r\n     </defs>\r\n     <g transform=\"translate(15.853438 106.20282)scale(0.12 -0.12)\">\r\n      <use xlink:href=\"#DejaVuSans-40\"/>\r\n      <use x=\"39.013672\" xlink:href=\"#DejaVuSans-48\"/>\r\n      <use x=\"102.636719\" xlink:href=\"#DejaVuSans-44\"/>\r\n      <use x=\"134.423828\" xlink:href=\"#DejaVuSans-32\"/>\r\n      <use x=\"166.210938\" xlink:href=\"#DejaVuSans-51\"/>\r\n      <use x=\"229.833984\" xlink:href=\"#DejaVuSans-41\"/>\r\n     </g>\r\n    </g>\r\n   </g>\r\n   <g id=\"text_7\">\r\n    <g clip-path=\"url(#p26e02b8ceb)\">\r\n     <!-- (1, 3) -->\r\n     <g transform=\"translate(144.431387 106.20282)scale(0.12 -0.12)\">\r\n      <use xlink:href=\"#DejaVuSans-40\"/>\r\n      <use x=\"39.013672\" xlink:href=\"#DejaVuSans-49\"/>\r\n      <use x=\"102.636719\" xlink:href=\"#DejaVuSans-44\"/>\r\n      <use x=\"134.423828\" xlink:href=\"#DejaVuSans-32\"/>\r\n      <use x=\"166.210938\" xlink:href=\"#DejaVuSans-51\"/>\r\n      <use x=\"229.833984\" xlink:href=\"#DejaVuSans-41\"/>\r\n     </g>\r\n    </g>\r\n   </g>\r\n   <g id=\"text_8\">\r\n    <g clip-path=\"url(#p26e02b8ceb)\">\r\n     <!-- (0, 4) -->\r\n     <defs>\r\n      <path d=\"M 37.796875 64.3125 \r\nL 12.890625 25.390625 \r\nL 37.796875 25.390625 \r\nz\r\nM 35.203125 72.90625 \r\nL 47.609375 72.90625 \r\nL 47.609375 25.390625 \r\nL 58.015625 25.390625 \r\nL 58.015625 17.1875 \r\nL 47.609375 17.1875 \r\nL 47.609375 0 \r\nL 37.796875 0 \r\nL 37.796875 17.1875 \r\nL 4.890625 17.1875 \r\nL 4.890625 26.703125 \r\nz\r\n\" id=\"DejaVuSans-52\"/>\r\n     </defs>\r\n     <g transform=\"translate(15.853438 38.81439)scale(0.12 -0.12)\">\r\n      <use xlink:href=\"#DejaVuSans-40\"/>\r\n      <use x=\"39.013672\" xlink:href=\"#DejaVuSans-48\"/>\r\n      <use x=\"102.636719\" xlink:href=\"#DejaVuSans-44\"/>\r\n      <use x=\"134.423828\" xlink:href=\"#DejaVuSans-32\"/>\r\n      <use x=\"166.210938\" xlink:href=\"#DejaVuSans-52\"/>\r\n      <use x=\"229.833984\" xlink:href=\"#DejaVuSans-41\"/>\r\n     </g>\r\n    </g>\r\n   </g>\r\n   <g id=\"text_9\">\r\n    <g clip-path=\"url(#p26e02b8ceb)\">\r\n     <!-- (1, 4) -->\r\n     <g transform=\"translate(144.431387 38.81439)scale(0.12 -0.12)\">\r\n      <use xlink:href=\"#DejaVuSans-40\"/>\r\n      <use x=\"39.013672\" xlink:href=\"#DejaVuSans-49\"/>\r\n      <use x=\"102.636719\" xlink:href=\"#DejaVuSans-44\"/>\r\n      <use x=\"134.423828\" xlink:href=\"#DejaVuSans-32\"/>\r\n      <use x=\"166.210938\" xlink:href=\"#DejaVuSans-52\"/>\r\n      <use x=\"229.833984\" xlink:href=\"#DejaVuSans-41\"/>\r\n     </g>\r\n    </g>\r\n   </g>\r\n  </g>\r\n </g>\r\n <defs>\r\n  <clipPath id=\"p26e02b8ceb\">\r\n   <rect height=\"326.16\" width=\"167.4\" x=\"7.2\" y=\"7.2\"/>\r\n  </clipPath>\r\n </defs>\r\n</svg>\r\n",
      "image/png": "[encoded data removed]"
     },
     "metadata": {}
    }
   ],
   "source": [
    "abg.markov.visualise_ambulance_markov_chain(num_of_servers=1, threshold=1, system_capacity=4, buffer_capacity=1)"
   ]
  },
  {
   "cell_type": "code",
   "execution_count": 33,
   "metadata": {},
   "outputs": [
    {
     "data": {
      "text/latex": [
       "$\\displaystyle \\left[\\begin{matrix}1 & \\frac{\\Lambda}{\\mu} & \\frac{\\lambda^{o} \\left(\\left(\\lambda^{A}\\right)^{2} + \\lambda^{A} \\lambda^{o} + 2 \\lambda^{A} \\mu + \\mu^{2}\\right)}{\\left(\\lambda^{A}\\right)^{3} + 2 \\left(\\lambda^{A}\\right)^{2} \\lambda^{o} + 3 \\left(\\lambda^{A}\\right)^{2} \\mu + \\lambda^{A} \\left(\\lambda^{o}\\right)^{2} + 2 \\lambda^{A} \\lambda^{o} \\mu + 3 \\lambda^{A} \\mu^{2} + \\mu^{3}} & \\frac{\\lambda^{o} \\left(\\lambda^{A} + \\mu\\right)}{\\left(\\lambda^{A}\\right)^{2} + \\lambda^{A} \\lambda^{o} + 2 \\lambda^{A} \\mu + \\mu^{2}} & \\frac{\\lambda^{o}}{\\lambda^{A} + \\mu}\\\\0 & \\frac{\\lambda^{A} \\left(\\lambda^{A} + \\lambda^{o} + \\mu\\right) \\left(\\left(\\lambda^{A}\\right)^{2} + 2 \\lambda^{A} \\lambda^{o} + 2 \\lambda^{A} \\mu + \\left(\\lambda^{o}\\right)^{2} + \\mu^{2}\\right)}{\\mu \\left(\\left(\\lambda^{A}\\right)^{3} + 2 \\left(\\lambda^{A}\\right)^{2} \\lambda^{o} + 3 \\left(\\lambda^{A}\\right)^{2} \\mu + \\lambda^{A} \\left(\\lambda^{o}\\right)^{2} + 2 \\lambda^{A} \\lambda^{o} \\mu + 3 \\lambda^{A} \\mu^{2} + \\mu^{3}\\right)} & \\frac{\\lambda^{A} \\left(\\left(\\lambda^{A}\\right)^{3} + 3 \\left(\\lambda^{A}\\right)^{2} \\lambda^{o} + 4 \\left(\\lambda^{A}\\right)^{2} \\mu + 3 \\lambda^{A} \\left(\\lambda^{o}\\right)^{2} + 6 \\lambda^{A} \\lambda^{o} \\mu + 5 \\lambda^{A} \\mu^{2} + \\left(\\lambda^{o}\\right)^{3} + 2 \\left(\\lambda^{o}\\right)^{2} \\mu + 2 \\lambda^{o} \\mu^{2} + 2 \\mu^{3}\\right)}{\\mu^{2} \\left(\\left(\\lambda^{A}\\right)^{2} + \\lambda^{A} \\lambda^{o} + 2 \\lambda^{A} \\mu + \\mu^{2}\\right)} & \\frac{\\lambda^{A} \\left(\\left(\\lambda^{A}\\right)^{3} + 3 \\left(\\lambda^{A}\\right)^{2} \\lambda^{o} + 4 \\left(\\lambda^{A}\\right)^{2} \\mu + 3 \\lambda^{A} \\left(\\lambda^{o}\\right)^{2} + 6 \\lambda^{A} \\lambda^{o} \\mu + 6 \\lambda^{A} \\mu^{2} + \\left(\\lambda^{o}\\right)^{3} + 2 \\left(\\lambda^{o}\\right)^{2} \\mu + 3 \\lambda^{o} \\mu^{2} + 3 \\mu^{3}\\right)}{\\mu^{3} \\left(\\lambda^{A} + \\mu\\right)} & \\frac{\\lambda^{A} \\left(\\left(\\lambda^{A}\\right)^{3} + 3 \\left(\\lambda^{A}\\right)^{2} \\lambda^{o} + 4 \\left(\\lambda^{A}\\right)^{2} \\mu + 3 \\lambda^{A} \\left(\\lambda^{o}\\right)^{2} + 6 \\lambda^{A} \\lambda^{o} \\mu + 6 \\lambda^{A} \\mu^{2} + \\left(\\lambda^{o}\\right)^{3} + 2 \\left(\\lambda^{o}\\right)^{2} \\mu + 3 \\lambda^{o} \\mu^{2} + 4 \\mu^{3}\\right)}{\\mu^{4}}\\end{matrix}\\right]$"
      ],
      "text/plain": [
       "Matrix([\n",
       "[1,                                                                                                                                                                                                                                               Lambda/mu,                                                                 lambda_1*(lambda_2**2 + lambda_2*lambda_1 + 2*lambda_2*mu + mu**2)/(lambda_2**3 + 2*lambda_2**2*lambda_1 + 3*lambda_2**2*mu + lambda_2*lambda_1**2 + 2*lambda_2*lambda_1*mu + 3*lambda_2*mu**2 + mu**3),                                                                                                                                            lambda_1*(lambda_2 + mu)/(lambda_2**2 + lambda_2*lambda_1 + 2*lambda_2*mu + mu**2),                                                                                                                                                                                    lambda_1/(lambda_2 + mu)],\n",
       "[0, lambda_2*(lambda_2 + lambda_1 + mu)*(lambda_2**2 + 2*lambda_2*lambda_1 + 2*lambda_2*mu + lambda_1**2 + mu**2)/(mu*(lambda_2**3 + 2*lambda_2**2*lambda_1 + 3*lambda_2**2*mu + lambda_2*lambda_1**2 + 2*lambda_2*lambda_1*mu + 3*lambda_2*mu**2 + mu**3)), lambda_2*(lambda_2**3 + 3*lambda_2**2*lambda_1 + 4*lambda_2**2*mu + 3*lambda_2*lambda_1**2 + 6*lambda_2*lambda_1*mu + 5*lambda_2*mu**2 + lambda_1**3 + 2*lambda_1**2*mu + 2*lambda_1*mu**2 + 2*mu**3)/(mu**2*(lambda_2**2 + lambda_2*lambda_1 + 2*lambda_2*mu + mu**2)), lambda_2*(lambda_2**3 + 3*lambda_2**2*lambda_1 + 4*lambda_2**2*mu + 3*lambda_2*lambda_1**2 + 6*lambda_2*lambda_1*mu + 6*lambda_2*mu**2 + lambda_1**3 + 2*lambda_1**2*mu + 3*lambda_1*mu**2 + 3*mu**3)/(mu**3*(lambda_2 + mu)), lambda_2*(lambda_2**3 + 3*lambda_2**2*lambda_1 + 4*lambda_2**2*mu + 3*lambda_2*lambda_1**2 + 6*lambda_2*lambda_1*mu + 6*lambda_2*mu**2 + lambda_1**3 + 2*lambda_1**2*mu + 3*lambda_1*mu**2 + 4*mu**3)/mu**4]])"
      ]
     },
     "execution_count": 33,
     "metadata": {},
     "output_type": "execute_result"
    }
   ],
   "source": [
    "sym_state_recursive_ratios_1141"
   ]
  },
  {
   "cell_type": "code",
   "execution_count": 34,
   "metadata": {},
   "outputs": [
    {
     "data": {
      "text/latex": [
       "$\\displaystyle \\left[\\begin{matrix}1 & \\frac{\\Lambda}{\\mu} & \\frac{\\lambda^{o} \\left(\\left(\\lambda^{A}\\right)^{2} + \\lambda^{A} \\lambda^{o} + 2 \\lambda^{A} \\mu + \\mu^{2}\\right)}{\\left(\\lambda^{A}\\right)^{3} + 2 \\left(\\lambda^{A}\\right)^{2} \\lambda^{o} + 3 \\left(\\lambda^{A}\\right)^{2} \\mu + \\lambda^{A} \\left(\\lambda^{o}\\right)^{2} + 2 \\lambda^{A} \\lambda^{o} \\mu + 3 \\lambda^{A} \\mu^{2} + \\mu^{3}} & \\frac{\\lambda^{o} \\left(\\lambda^{A} + \\mu\\right)}{\\left(\\lambda^{A}\\right)^{2} + \\lambda^{A} \\lambda^{o} + 2 \\lambda^{A} \\mu + \\mu^{2}} & \\frac{\\lambda^{o}}{\\lambda^{A} + \\mu}\\\\0 & \\frac{\\lambda^{A} \\left(\\lambda^{A} + \\lambda^{o} + \\mu\\right) \\left(\\left(\\lambda^{A}\\right)^{2} + 2 \\lambda^{A} \\lambda^{o} + 2 \\lambda^{A} \\mu + \\left(\\lambda^{o}\\right)^{2} + \\mu^{2}\\right)}{\\mu \\left(\\left(\\lambda^{A}\\right)^{3} + 2 \\left(\\lambda^{A}\\right)^{2} \\lambda^{o} + 3 \\left(\\lambda^{A}\\right)^{2} \\mu + \\lambda^{A} \\left(\\lambda^{o}\\right)^{2} + 2 \\lambda^{A} \\lambda^{o} \\mu + 3 \\lambda^{A} \\mu^{2} + \\mu^{3}\\right)} & \\frac{\\lambda^{o} \\left(\\left(\\lambda^{A}\\right)^{3} + 3 \\left(\\lambda^{A}\\right)^{2} \\lambda^{o} + 4 \\left(\\lambda^{A}\\right)^{2} \\mu + 3 \\lambda^{A} \\left(\\lambda^{o}\\right)^{2} + 6 \\lambda^{A} \\lambda^{o} \\mu + 5 \\lambda^{A} \\mu^{2} + \\left(\\lambda^{o}\\right)^{3} + 2 \\left(\\lambda^{o}\\right)^{2} \\mu + 2 \\lambda^{o} \\mu^{2} + 2 \\mu^{3}\\right)}{\\mu \\left(\\lambda^{A} + \\lambda^{o} + \\mu\\right) \\left(\\left(\\lambda^{A}\\right)^{2} + 2 \\lambda^{A} \\lambda^{o} + 2 \\lambda^{A} \\mu + \\left(\\lambda^{o}\\right)^{2} + \\mu^{2}\\right)} & \\frac{\\lambda^{o} \\left(\\left(\\lambda^{A}\\right)^{3} + 3 \\left(\\lambda^{A}\\right)^{2} \\lambda^{o} + 4 \\left(\\lambda^{A}\\right)^{2} \\mu + 3 \\lambda^{A} \\left(\\lambda^{o}\\right)^{2} + 6 \\lambda^{A} \\lambda^{o} \\mu + 6 \\lambda^{A} \\mu^{2} + \\left(\\lambda^{o}\\right)^{3} + 2 \\left(\\lambda^{o}\\right)^{2} \\mu + 3 \\lambda^{o} \\mu^{2} + 3 \\mu^{3}\\right)}{\\mu \\left(\\left(\\lambda^{A}\\right)^{3} + 3 \\left(\\lambda^{A}\\right)^{2} \\lambda^{o} + 4 \\left(\\lambda^{A}\\right)^{2} \\mu + 3 \\lambda^{A} \\left(\\lambda^{o}\\right)^{2} + 6 \\lambda^{A} \\lambda^{o} \\mu + 5 \\lambda^{A} \\mu^{2} + \\left(\\lambda^{o}\\right)^{3} + 2 \\left(\\lambda^{o}\\right)^{2} \\mu + 2 \\lambda^{o} \\mu^{2} + 2 \\mu^{3}\\right)} & \\frac{\\lambda^{o} \\left(\\left(\\lambda^{A}\\right)^{3} + 3 \\left(\\lambda^{A}\\right)^{2} \\lambda^{o} + 4 \\left(\\lambda^{A}\\right)^{2} \\mu + 3 \\lambda^{A} \\left(\\lambda^{o}\\right)^{2} + 6 \\lambda^{A} \\lambda^{o} \\mu + 6 \\lambda^{A} \\mu^{2} + \\left(\\lambda^{o}\\right)^{3} + 2 \\left(\\lambda^{o}\\right)^{2} \\mu + 3 \\lambda^{o} \\mu^{2} + 4 \\mu^{3}\\right)}{\\mu \\left(\\left(\\lambda^{A}\\right)^{3} + 3 \\left(\\lambda^{A}\\right)^{2} \\lambda^{o} + 4 \\left(\\lambda^{A}\\right)^{2} \\mu + 3 \\lambda^{A} \\left(\\lambda^{o}\\right)^{2} + 6 \\lambda^{A} \\lambda^{o} \\mu + 6 \\lambda^{A} \\mu^{2} + \\left(\\lambda^{o}\\right)^{3} + 2 \\left(\\lambda^{o}\\right)^{2} \\mu + 3 \\lambda^{o} \\mu^{2} + 3 \\mu^{3}\\right)}\\end{matrix}\\right]$"
      ],
      "text/plain": [
       "Matrix([\n",
       "[1,                                                                                                                                                                                                                                               Lambda/mu,                                                                                                         lambda_1*(lambda_2**2 + lambda_2*lambda_1 + 2*lambda_2*mu + mu**2)/(lambda_2**3 + 2*lambda_2**2*lambda_1 + 3*lambda_2**2*mu + lambda_2*lambda_1**2 + 2*lambda_2*lambda_1*mu + 3*lambda_2*mu**2 + mu**3),                                                                                                                                                                                                                                                                                                                      lambda_1*(lambda_2 + mu)/(lambda_2**2 + lambda_2*lambda_1 + 2*lambda_2*mu + mu**2),                                                                                                                                                                                                                                                                                                                                                                                lambda_1/(lambda_2 + mu)],\n",
       "[0, lambda_2*(lambda_2 + lambda_1 + mu)*(lambda_2**2 + 2*lambda_2*lambda_1 + 2*lambda_2*mu + lambda_1**2 + mu**2)/(mu*(lambda_2**3 + 2*lambda_2**2*lambda_1 + 3*lambda_2**2*mu + lambda_2*lambda_1**2 + 2*lambda_2*lambda_1*mu + 3*lambda_2*mu**2 + mu**3)), lambda_1*(lambda_2**3 + 3*lambda_2**2*lambda_1 + 4*lambda_2**2*mu + 3*lambda_2*lambda_1**2 + 6*lambda_2*lambda_1*mu + 5*lambda_2*mu**2 + lambda_1**3 + 2*lambda_1**2*mu + 2*lambda_1*mu**2 + 2*mu**3)/(mu*(lambda_2 + lambda_1 + mu)*(lambda_2**2 + 2*lambda_2*lambda_1 + 2*lambda_2*mu + lambda_1**2 + mu**2)), lambda_1*(lambda_2**3 + 3*lambda_2**2*lambda_1 + 4*lambda_2**2*mu + 3*lambda_2*lambda_1**2 + 6*lambda_2*lambda_1*mu + 6*lambda_2*mu**2 + lambda_1**3 + 2*lambda_1**2*mu + 3*lambda_1*mu**2 + 3*mu**3)/(mu*(lambda_2**3 + 3*lambda_2**2*lambda_1 + 4*lambda_2**2*mu + 3*lambda_2*lambda_1**2 + 6*lambda_2*lambda_1*mu + 5*lambda_2*mu**2 + lambda_1**3 + 2*lambda_1**2*mu + 2*lambda_1*mu**2 + 2*mu**3)), lambda_1*(lambda_2**3 + 3*lambda_2**2*lambda_1 + 4*lambda_2**2*mu + 3*lambda_2*lambda_1**2 + 6*lambda_2*lambda_1*mu + 6*lambda_2*mu**2 + lambda_1**3 + 2*lambda_1**2*mu + 3*lambda_1*mu**2 + 4*mu**3)/(mu*(lambda_2**3 + 3*lambda_2**2*lambda_1 + 4*lambda_2**2*mu + 3*lambda_2*lambda_1**2 + 6*lambda_2*lambda_1*mu + 6*lambda_2*mu**2 + lambda_1**3 + 2*lambda_1**2*mu + 3*lambda_1*mu**2 + 3*mu**3))]])"
      ]
     },
     "execution_count": 34,
     "metadata": {},
     "output_type": "execute_result"
    }
   ],
   "source": [
    "sym_state_recursive_ratios_right_1141"
   ]
  },
  {
   "cell_type": "markdown",
   "metadata": {},
   "source": [
    "## $C=1, T=1, N=4, M=2$"
   ]
  },
  {
   "cell_type": "code",
   "execution_count": 19,
   "metadata": {},
   "outputs": [
    {
     "output_type": "execute_result",
     "data": {
      "text/plain": "<networkx.classes.multidigraph.MultiDiGraph at 0x27473aa1b80>"
     },
     "metadata": {},
     "execution_count": 19
    },
    {
     "output_type": "display_data",
     "data": {
      "text/plain": "<Figure size 324x432 with 1 Axes>",
      "image/svg+xml": "<?xml version=\"1.0\" encoding=\"utf-8\" standalone=\"no\"?>\r\n<!DOCTYPE svg PUBLIC \"-//W3C//DTD SVG 1.1//EN\"\r\n  \"http://www.w3.org/Graphics/SVG/1.1/DTD/svg11.dtd\">\r\n<!-- Created with matplotlib (https://matplotlib.org/) -->\r\n<svg height=\"340.56pt\" version=\"1.1\" viewBox=\"0 0 265.5 340.56\" width=\"265.5pt\" xmlns=\"http://www.w3.org/2000/svg\" xmlns:xlink=\"http://www.w3.org/1999/xlink\">\r\n <defs>\r\n  <style type=\"text/css\">\r\n*{stroke-linecap:butt;stroke-linejoin:round;}\r\n  </style>\r\n </defs>\r\n <g id=\"figure_1\">\r\n  <g id=\"patch_1\">\r\n   <path d=\"M 0 340.56 \r\nL 265.5 340.56 \r\nL 265.5 0 \r\nL 0 0 \r\nz\r\n\" style=\"fill:none;\"/>\r\n  </g>\r\n  <g id=\"axes_1\">\r\n   <g id=\"patch_2\">\r\n    <path clip-path=\"url(#pbe03e7138b)\" d=\"M 28.989669 305.05686 \r\nQ 28.989669 275.691644 28.989669 247.444462 \r\n\" style=\"fill:none;stroke:#000000;stroke-linecap:round;\"/>\r\n    <path clip-path=\"url(#pbe03e7138b)\" d=\"M 26.989669 251.444462 \r\nL 28.989669 247.444462 \r\nL 30.989669 251.444462 \r\nL 26.989669 251.444462 \r\nz\r\n\" style=\"stroke:#000000;stroke-linecap:round;\"/>\r\n   </g>\r\n   <g id=\"patch_3\">\r\n    <path clip-path=\"url(#pbe03e7138b)\" d=\"M 28.989669 237.66843 \r\nQ 76.539627 237.66843 122.97155 237.66843 \r\n\" style=\"fill:none;stroke:#000000;stroke-linecap:round;\"/>\r\n    <path clip-path=\"url(#pbe03e7138b)\" d=\"M 118.97155 235.66843 \r\nL 122.97155 237.66843 \r\nL 118.97155 239.66843 \r\nL 118.97155 235.66843 \r\nz\r\n\" style=\"stroke:#000000;stroke-linecap:round;\"/>\r\n   </g>\r\n   <g id=\"patch_4\">\r\n    <path clip-path=\"url(#pbe03e7138b)\" d=\"M 28.989669 237.66843 \r\nQ 28.989669 208.303214 28.989669 180.056032 \r\n\" style=\"fill:none;stroke:#000000;stroke-linecap:round;\"/>\r\n    <path clip-path=\"url(#pbe03e7138b)\" d=\"M 26.989669 184.056032 \r\nL 28.989669 180.056032 \r\nL 30.989669 184.056032 \r\nL 26.989669 184.056032 \r\nz\r\n\" style=\"stroke:#000000;stroke-linecap:round;\"/>\r\n   </g>\r\n   <g id=\"patch_5\">\r\n    <path clip-path=\"url(#pbe03e7138b)\" d=\"M 132.75 237.66843 \r\nQ 180.299957 237.66843 226.731881 237.66843 \r\n\" style=\"fill:none;stroke:#000000;stroke-linecap:round;\"/>\r\n    <path clip-path=\"url(#pbe03e7138b)\" d=\"M 222.731881 235.66843 \r\nL 226.731881 237.66843 \r\nL 222.731881 239.66843 \r\nL 222.731881 235.66843 \r\nz\r\n\" style=\"stroke:#000000;stroke-linecap:round;\"/>\r\n   </g>\r\n   <g id=\"patch_6\">\r\n    <path clip-path=\"url(#pbe03e7138b)\" d=\"M 132.75 237.66843 \r\nQ 132.75 208.303214 132.75 180.056032 \r\n\" style=\"fill:none;stroke:#000000;stroke-linecap:round;\"/>\r\n    <path clip-path=\"url(#pbe03e7138b)\" d=\"M 130.75 184.056032 \r\nL 132.75 180.056032 \r\nL 134.75 184.056032 \r\nL 130.75 184.056032 \r\nz\r\n\" style=\"stroke:#000000;stroke-linecap:round;\"/>\r\n   </g>\r\n   <g id=\"patch_7\">\r\n    <path clip-path=\"url(#pbe03e7138b)\" d=\"M 28.989669 170.28 \r\nQ 76.539627 170.28 122.97155 170.28 \r\n\" style=\"fill:none;stroke:#000000;stroke-linecap:round;\"/>\r\n    <path clip-path=\"url(#pbe03e7138b)\" d=\"M 118.97155 168.28 \r\nL 122.97155 170.28 \r\nL 118.97155 172.28 \r\nL 118.97155 168.28 \r\nz\r\n\" style=\"stroke:#000000;stroke-linecap:round;\"/>\r\n   </g>\r\n   <g id=\"patch_8\">\r\n    <path clip-path=\"url(#pbe03e7138b)\" d=\"M 28.989669 170.28 \r\nQ 28.989669 140.914784 28.989669 112.667603 \r\n\" style=\"fill:none;stroke:#000000;stroke-linecap:round;\"/>\r\n    <path clip-path=\"url(#pbe03e7138b)\" d=\"M 26.989669 116.667603 \r\nL 28.989669 112.667603 \r\nL 30.989669 116.667603 \r\nL 26.989669 116.667603 \r\nz\r\n\" style=\"stroke:#000000;stroke-linecap:round;\"/>\r\n   </g>\r\n   <g id=\"patch_9\">\r\n    <path clip-path=\"url(#pbe03e7138b)\" d=\"M 236.510331 237.66843 \r\nQ 236.510331 208.303214 236.510331 180.056032 \r\n\" style=\"fill:none;stroke:#000000;stroke-linecap:round;\"/>\r\n    <path clip-path=\"url(#pbe03e7138b)\" d=\"M 234.510331 184.056032 \r\nL 236.510331 180.056032 \r\nL 238.510331 184.056032 \r\nL 234.510331 184.056032 \r\nz\r\n\" style=\"stroke:#000000;stroke-linecap:round;\"/>\r\n   </g>\r\n   <g id=\"patch_10\">\r\n    <path clip-path=\"url(#pbe03e7138b)\" d=\"M 132.75 170.28 \r\nQ 180.299957 170.28 226.731881 170.28 \r\n\" style=\"fill:none;stroke:#000000;stroke-linecap:round;\"/>\r\n    <path clip-path=\"url(#pbe03e7138b)\" d=\"M 222.731881 168.28 \r\nL 226.731881 170.28 \r\nL 222.731881 172.28 \r\nL 222.731881 168.28 \r\nz\r\n\" style=\"stroke:#000000;stroke-linecap:round;\"/>\r\n   </g>\r\n   <g id=\"patch_11\">\r\n    <path clip-path=\"url(#pbe03e7138b)\" d=\"M 132.75 170.28 \r\nQ 132.75 140.914784 132.75 112.667603 \r\n\" style=\"fill:none;stroke:#000000;stroke-linecap:round;\"/>\r\n    <path clip-path=\"url(#pbe03e7138b)\" d=\"M 130.75 116.667603 \r\nL 132.75 112.667603 \r\nL 134.75 116.667603 \r\nL 130.75 116.667603 \r\nz\r\n\" style=\"stroke:#000000;stroke-linecap:round;\"/>\r\n   </g>\r\n   <g id=\"patch_12\">\r\n    <path clip-path=\"url(#pbe03e7138b)\" d=\"M 236.510331 170.28 \r\nQ 236.510331 140.914784 236.510331 112.667603 \r\n\" style=\"fill:none;stroke:#000000;stroke-linecap:round;\"/>\r\n    <path clip-path=\"url(#pbe03e7138b)\" d=\"M 234.510331 116.667603 \r\nL 236.510331 112.667603 \r\nL 238.510331 116.667603 \r\nL 234.510331 116.667603 \r\nz\r\n\" style=\"stroke:#000000;stroke-linecap:round;\"/>\r\n   </g>\r\n   <g id=\"patch_13\">\r\n    <path clip-path=\"url(#pbe03e7138b)\" d=\"M 28.989669 102.89157 \r\nQ 76.539627 102.89157 122.97155 102.89157 \r\n\" style=\"fill:none;stroke:#000000;stroke-linecap:round;\"/>\r\n    <path clip-path=\"url(#pbe03e7138b)\" d=\"M 118.97155 100.89157 \r\nL 122.97155 102.89157 \r\nL 118.97155 104.89157 \r\nL 118.97155 100.89157 \r\nz\r\n\" style=\"stroke:#000000;stroke-linecap:round;\"/>\r\n   </g>\r\n   <g id=\"patch_14\">\r\n    <path clip-path=\"url(#pbe03e7138b)\" d=\"M 28.989669 102.89157 \r\nQ 28.989669 73.526355 28.989669 45.279173 \r\n\" style=\"fill:none;stroke:#000000;stroke-linecap:round;\"/>\r\n    <path clip-path=\"url(#pbe03e7138b)\" d=\"M 26.989669 49.279173 \r\nL 28.989669 45.279173 \r\nL 30.989669 49.279173 \r\nL 26.989669 49.279173 \r\nz\r\n\" style=\"stroke:#000000;stroke-linecap:round;\"/>\r\n   </g>\r\n   <g id=\"patch_15\">\r\n    <path clip-path=\"url(#pbe03e7138b)\" d=\"M 132.75 102.89157 \r\nQ 180.299957 102.89157 226.731881 102.89157 \r\n\" style=\"fill:none;stroke:#000000;stroke-linecap:round;\"/>\r\n    <path clip-path=\"url(#pbe03e7138b)\" d=\"M 222.731881 100.89157 \r\nL 226.731881 102.89157 \r\nL 222.731881 104.89157 \r\nL 222.731881 100.89157 \r\nz\r\n\" style=\"stroke:#000000;stroke-linecap:round;\"/>\r\n   </g>\r\n   <g id=\"patch_16\">\r\n    <path clip-path=\"url(#pbe03e7138b)\" d=\"M 132.75 102.89157 \r\nQ 132.75 73.526355 132.75 45.279173 \r\n\" style=\"fill:none;stroke:#000000;stroke-linecap:round;\"/>\r\n    <path clip-path=\"url(#pbe03e7138b)\" d=\"M 130.75 49.279173 \r\nL 132.75 45.279173 \r\nL 134.75 49.279173 \r\nL 130.75 49.279173 \r\nz\r\n\" style=\"stroke:#000000;stroke-linecap:round;\"/>\r\n   </g>\r\n   <g id=\"patch_17\">\r\n    <path clip-path=\"url(#pbe03e7138b)\" d=\"M 236.510331 102.89157 \r\nQ 236.510331 73.526355 236.510331 45.279173 \r\n\" style=\"fill:none;stroke:#000000;stroke-linecap:round;\"/>\r\n    <path clip-path=\"url(#pbe03e7138b)\" d=\"M 234.510331 49.279173 \r\nL 236.510331 45.279173 \r\nL 238.510331 49.279173 \r\nL 234.510331 49.279173 \r\nz\r\n\" style=\"stroke:#000000;stroke-linecap:round;\"/>\r\n   </g>\r\n   <g id=\"patch_18\">\r\n    <path clip-path=\"url(#pbe03e7138b)\" d=\"M 28.989669 35.50314 \r\nQ 76.539627 35.50314 122.97155 35.50314 \r\n\" style=\"fill:none;stroke:#000000;stroke-linecap:round;\"/>\r\n    <path clip-path=\"url(#pbe03e7138b)\" d=\"M 118.97155 33.50314 \r\nL 122.97155 35.50314 \r\nL 118.97155 37.50314 \r\nL 118.97155 33.50314 \r\nz\r\n\" style=\"stroke:#000000;stroke-linecap:round;\"/>\r\n   </g>\r\n   <g id=\"patch_19\">\r\n    <path clip-path=\"url(#pbe03e7138b)\" d=\"M 132.75 35.50314 \r\nQ 180.299957 35.50314 226.731881 35.50314 \r\n\" style=\"fill:none;stroke:#000000;stroke-linecap:round;\"/>\r\n    <path clip-path=\"url(#pbe03e7138b)\" d=\"M 222.731881 33.50314 \r\nL 226.731881 35.50314 \r\nL 222.731881 37.50314 \r\nL 222.731881 33.50314 \r\nz\r\n\" style=\"stroke:#000000;stroke-linecap:round;\"/>\r\n   </g>\r\n   <g id=\"PathCollection_1\">\r\n    <defs>\r\n     <path d=\"M 0 22.36068 \r\nC 5.930122 22.36068 11.618159 20.004617 15.811388 15.811388 \r\nC 20.004617 11.618159 22.36068 5.930122 22.36068 0 \r\nC 22.36068 -5.930122 20.004617 -11.618159 15.811388 -15.811388 \r\nC 11.618159 -20.004617 5.930122 -22.36068 0 -22.36068 \r\nC -5.930122 -22.36068 -11.618159 -20.004617 -15.811388 -15.811388 \r\nC -20.004617 -11.618159 -22.36068 -5.930122 -22.36068 0 \r\nC -22.36068 5.930122 -20.004617 11.618159 -15.811388 15.811388 \r\nC -11.618159 20.004617 -5.930122 22.36068 0 22.36068 \r\nz\r\n\" id=\"m4a5a766195\" style=\"stroke:#1f78b4;\"/>\r\n    </defs>\r\n    <g clip-path=\"url(#pbe03e7138b)\">\r\n     <use style=\"fill:#1f78b4;stroke:#1f78b4;\" x=\"28.989669\" xlink:href=\"#m4a5a766195\" y=\"305.05686\"/>\r\n    </g>\r\n   </g>\r\n   <g id=\"PathCollection_2\">\r\n    <defs>\r\n     <path d=\"M 0 22.36068 \r\nC 5.930122 22.36068 11.618159 20.004617 15.811388 15.811388 \r\nC 20.004617 11.618159 22.36068 5.930122 22.36068 0 \r\nC 22.36068 -5.930122 20.004617 -11.618159 15.811388 -15.811388 \r\nC 11.618159 -20.004617 5.930122 -22.36068 0 -22.36068 \r\nC -5.930122 -22.36068 -11.618159 -20.004617 -15.811388 -15.811388 \r\nC -20.004617 -11.618159 -22.36068 -5.930122 -22.36068 0 \r\nC -22.36068 5.930122 -20.004617 11.618159 -15.811388 15.811388 \r\nC -11.618159 20.004617 -5.930122 22.36068 0 22.36068 \r\nz\r\n\" id=\"mcb48313aca\" style=\"stroke:#ff0000;\"/>\r\n    </defs>\r\n    <g clip-path=\"url(#pbe03e7138b)\">\r\n     <use style=\"fill:#ff0000;stroke:#ff0000;\" x=\"28.989669\" xlink:href=\"#mcb48313aca\" y=\"237.66843\"/>\r\n     <use style=\"fill:#ff0000;stroke:#ff0000;\" x=\"132.75\" xlink:href=\"#mcb48313aca\" y=\"237.66843\"/>\r\n     <use style=\"fill:#ff0000;stroke:#ff0000;\" x=\"236.510331\" xlink:href=\"#mcb48313aca\" y=\"237.66843\"/>\r\n     <use style=\"fill:#ff0000;stroke:#ff0000;\" x=\"28.989669\" xlink:href=\"#mcb48313aca\" y=\"170.28\"/>\r\n     <use style=\"fill:#ff0000;stroke:#ff0000;\" x=\"132.75\" xlink:href=\"#mcb48313aca\" y=\"170.28\"/>\r\n     <use style=\"fill:#ff0000;stroke:#ff0000;\" x=\"236.510331\" xlink:href=\"#mcb48313aca\" y=\"170.28\"/>\r\n     <use style=\"fill:#ff0000;stroke:#ff0000;\" x=\"28.989669\" xlink:href=\"#mcb48313aca\" y=\"102.89157\"/>\r\n     <use style=\"fill:#ff0000;stroke:#ff0000;\" x=\"132.75\" xlink:href=\"#mcb48313aca\" y=\"102.89157\"/>\r\n     <use style=\"fill:#ff0000;stroke:#ff0000;\" x=\"236.510331\" xlink:href=\"#mcb48313aca\" y=\"102.89157\"/>\r\n     <use style=\"fill:#ff0000;stroke:#ff0000;\" x=\"28.989669\" xlink:href=\"#mcb48313aca\" y=\"35.50314\"/>\r\n     <use style=\"fill:#ff0000;stroke:#ff0000;\" x=\"132.75\" xlink:href=\"#mcb48313aca\" y=\"35.50314\"/>\r\n     <use style=\"fill:#ff0000;stroke:#ff0000;\" x=\"236.510331\" xlink:href=\"#mcb48313aca\" y=\"35.50314\"/>\r\n    </g>\r\n   </g>\r\n   <g id=\"text_1\">\r\n    <g clip-path=\"url(#pbe03e7138b)\">\r\n     <!-- (0, 0) -->\r\n     <defs>\r\n      <path d=\"M 31 75.875 \r\nQ 24.46875 64.65625 21.28125 53.65625 \r\nQ 18.109375 42.671875 18.109375 31.390625 \r\nQ 18.109375 20.125 21.3125 9.0625 \r\nQ 24.515625 -2 31 -13.1875 \r\nL 23.1875 -13.1875 \r\nQ 15.875 -1.703125 12.234375 9.375 \r\nQ 8.59375 20.453125 8.59375 31.390625 \r\nQ 8.59375 42.28125 12.203125 53.3125 \r\nQ 15.828125 64.359375 23.1875 75.875 \r\nz\r\n\" id=\"DejaVuSans-40\"/>\r\n      <path d=\"M 31.78125 66.40625 \r\nQ 24.171875 66.40625 20.328125 58.90625 \r\nQ 16.5 51.421875 16.5 36.375 \r\nQ 16.5 21.390625 20.328125 13.890625 \r\nQ 24.171875 6.390625 31.78125 6.390625 \r\nQ 39.453125 6.390625 43.28125 13.890625 \r\nQ 47.125 21.390625 47.125 36.375 \r\nQ 47.125 51.421875 43.28125 58.90625 \r\nQ 39.453125 66.40625 31.78125 66.40625 \r\nz\r\nM 31.78125 74.21875 \r\nQ 44.046875 74.21875 50.515625 64.515625 \r\nQ 56.984375 54.828125 56.984375 36.375 \r\nQ 56.984375 17.96875 50.515625 8.265625 \r\nQ 44.046875 -1.421875 31.78125 -1.421875 \r\nQ 19.53125 -1.421875 13.0625 8.265625 \r\nQ 6.59375 17.96875 6.59375 36.375 \r\nQ 6.59375 54.828125 13.0625 64.515625 \r\nQ 19.53125 74.21875 31.78125 74.21875 \r\nz\r\n\" id=\"DejaVuSans-48\"/>\r\n      <path d=\"M 11.71875 12.40625 \r\nL 22.015625 12.40625 \r\nL 22.015625 4 \r\nL 14.015625 -11.625 \r\nL 7.71875 -11.625 \r\nL 11.71875 4 \r\nz\r\n\" id=\"DejaVuSans-44\"/>\r\n      <path id=\"DejaVuSans-32\"/>\r\n      <path d=\"M 8.015625 75.875 \r\nL 15.828125 75.875 \r\nQ 23.140625 64.359375 26.78125 53.3125 \r\nQ 30.421875 42.28125 30.421875 31.390625 \r\nQ 30.421875 20.453125 26.78125 9.375 \r\nQ 23.140625 -1.703125 15.828125 -13.1875 \r\nL 8.015625 -13.1875 \r\nQ 14.5 -2 17.703125 9.0625 \r\nQ 20.90625 20.125 20.90625 31.390625 \r\nQ 20.90625 42.671875 17.703125 53.65625 \r\nQ 14.5 64.65625 8.015625 75.875 \r\nz\r\n\" id=\"DejaVuSans-41\"/>\r\n     </defs>\r\n     <g transform=\"translate(12.859044 308.36811)scale(0.12 -0.12)\">\r\n      <use xlink:href=\"#DejaVuSans-40\"/>\r\n      <use x=\"39.013672\" xlink:href=\"#DejaVuSans-48\"/>\r\n      <use x=\"102.636719\" xlink:href=\"#DejaVuSans-44\"/>\r\n      <use x=\"134.423828\" xlink:href=\"#DejaVuSans-32\"/>\r\n      <use x=\"166.210938\" xlink:href=\"#DejaVuSans-48\"/>\r\n      <use x=\"229.833984\" xlink:href=\"#DejaVuSans-41\"/>\r\n     </g>\r\n    </g>\r\n   </g>\r\n   <g id=\"text_2\">\r\n    <g clip-path=\"url(#pbe03e7138b)\">\r\n     <!-- (0, 1) -->\r\n     <defs>\r\n      <path d=\"M 12.40625 8.296875 \r\nL 28.515625 8.296875 \r\nL 28.515625 63.921875 \r\nL 10.984375 60.40625 \r\nL 10.984375 69.390625 \r\nL 28.421875 72.90625 \r\nL 38.28125 72.90625 \r\nL 38.28125 8.296875 \r\nL 54.390625 8.296875 \r\nL 54.390625 0 \r\nL 12.40625 0 \r\nz\r\n\" id=\"DejaVuSans-49\"/>\r\n     </defs>\r\n     <g transform=\"translate(12.859044 240.97968)scale(0.12 -0.12)\">\r\n      <use xlink:href=\"#DejaVuSans-40\"/>\r\n      <use x=\"39.013672\" xlink:href=\"#DejaVuSans-48\"/>\r\n      <use x=\"102.636719\" xlink:href=\"#DejaVuSans-44\"/>\r\n      <use x=\"134.423828\" xlink:href=\"#DejaVuSans-32\"/>\r\n      <use x=\"166.210938\" xlink:href=\"#DejaVuSans-49\"/>\r\n      <use x=\"229.833984\" xlink:href=\"#DejaVuSans-41\"/>\r\n     </g>\r\n    </g>\r\n   </g>\r\n   <g id=\"text_3\">\r\n    <g clip-path=\"url(#pbe03e7138b)\">\r\n     <!-- (1, 1) -->\r\n     <g transform=\"translate(116.619375 240.97968)scale(0.12 -0.12)\">\r\n      <use xlink:href=\"#DejaVuSans-40\"/>\r\n      <use x=\"39.013672\" xlink:href=\"#DejaVuSans-49\"/>\r\n      <use x=\"102.636719\" xlink:href=\"#DejaVuSans-44\"/>\r\n      <use x=\"134.423828\" xlink:href=\"#DejaVuSans-32\"/>\r\n      <use x=\"166.210938\" xlink:href=\"#DejaVuSans-49\"/>\r\n      <use x=\"229.833984\" xlink:href=\"#DejaVuSans-41\"/>\r\n     </g>\r\n    </g>\r\n   </g>\r\n   <g id=\"text_4\">\r\n    <g clip-path=\"url(#pbe03e7138b)\">\r\n     <!-- (0, 2) -->\r\n     <defs>\r\n      <path d=\"M 19.1875 8.296875 \r\nL 53.609375 8.296875 \r\nL 53.609375 0 \r\nL 7.328125 0 \r\nL 7.328125 8.296875 \r\nQ 12.9375 14.109375 22.625 23.890625 \r\nQ 32.328125 33.6875 34.8125 36.53125 \r\nQ 39.546875 41.84375 41.421875 45.53125 \r\nQ 43.3125 49.21875 43.3125 52.78125 \r\nQ 43.3125 58.59375 39.234375 62.25 \r\nQ 35.15625 65.921875 28.609375 65.921875 \r\nQ 23.96875 65.921875 18.8125 64.3125 \r\nQ 13.671875 62.703125 7.8125 59.421875 \r\nL 7.8125 69.390625 \r\nQ 13.765625 71.78125 18.9375 73 \r\nQ 24.125 74.21875 28.421875 74.21875 \r\nQ 39.75 74.21875 46.484375 68.546875 \r\nQ 53.21875 62.890625 53.21875 53.421875 \r\nQ 53.21875 48.921875 51.53125 44.890625 \r\nQ 49.859375 40.875 45.40625 35.40625 \r\nQ 44.1875 33.984375 37.640625 27.21875 \r\nQ 31.109375 20.453125 19.1875 8.296875 \r\nz\r\n\" id=\"DejaVuSans-50\"/>\r\n     </defs>\r\n     <g transform=\"translate(12.859044 173.59125)scale(0.12 -0.12)\">\r\n      <use xlink:href=\"#DejaVuSans-40\"/>\r\n      <use x=\"39.013672\" xlink:href=\"#DejaVuSans-48\"/>\r\n      <use x=\"102.636719\" xlink:href=\"#DejaVuSans-44\"/>\r\n      <use x=\"134.423828\" xlink:href=\"#DejaVuSans-32\"/>\r\n      <use x=\"166.210938\" xlink:href=\"#DejaVuSans-50\"/>\r\n      <use x=\"229.833984\" xlink:href=\"#DejaVuSans-41\"/>\r\n     </g>\r\n    </g>\r\n   </g>\r\n   <g id=\"text_5\">\r\n    <g clip-path=\"url(#pbe03e7138b)\">\r\n     <!-- (2, 1) -->\r\n     <g transform=\"translate(220.379706 240.97968)scale(0.12 -0.12)\">\r\n      <use xlink:href=\"#DejaVuSans-40\"/>\r\n      <use x=\"39.013672\" xlink:href=\"#DejaVuSans-50\"/>\r\n      <use x=\"102.636719\" xlink:href=\"#DejaVuSans-44\"/>\r\n      <use x=\"134.423828\" xlink:href=\"#DejaVuSans-32\"/>\r\n      <use x=\"166.210938\" xlink:href=\"#DejaVuSans-49\"/>\r\n      <use x=\"229.833984\" xlink:href=\"#DejaVuSans-41\"/>\r\n     </g>\r\n    </g>\r\n   </g>\r\n   <g id=\"text_6\">\r\n    <g clip-path=\"url(#pbe03e7138b)\">\r\n     <!-- (1, 2) -->\r\n     <g transform=\"translate(116.619375 173.59125)scale(0.12 -0.12)\">\r\n      <use xlink:href=\"#DejaVuSans-40\"/>\r\n      <use x=\"39.013672\" xlink:href=\"#DejaVuSans-49\"/>\r\n      <use x=\"102.636719\" xlink:href=\"#DejaVuSans-44\"/>\r\n      <use x=\"134.423828\" xlink:href=\"#DejaVuSans-32\"/>\r\n      <use x=\"166.210938\" xlink:href=\"#DejaVuSans-50\"/>\r\n      <use x=\"229.833984\" xlink:href=\"#DejaVuSans-41\"/>\r\n     </g>\r\n    </g>\r\n   </g>\r\n   <g id=\"text_7\">\r\n    <g clip-path=\"url(#pbe03e7138b)\">\r\n     <!-- (2, 2) -->\r\n     <g transform=\"translate(220.379706 173.59125)scale(0.12 -0.12)\">\r\n      <use xlink:href=\"#DejaVuSans-40\"/>\r\n      <use x=\"39.013672\" xlink:href=\"#DejaVuSans-50\"/>\r\n      <use x=\"102.636719\" xlink:href=\"#DejaVuSans-44\"/>\r\n      <use x=\"134.423828\" xlink:href=\"#DejaVuSans-32\"/>\r\n      <use x=\"166.210938\" xlink:href=\"#DejaVuSans-50\"/>\r\n      <use x=\"229.833984\" xlink:href=\"#DejaVuSans-41\"/>\r\n     </g>\r\n    </g>\r\n   </g>\r\n   <g id=\"text_8\">\r\n    <g clip-path=\"url(#pbe03e7138b)\">\r\n     <!-- (0, 3) -->\r\n     <defs>\r\n      <path d=\"M 40.578125 39.3125 \r\nQ 47.65625 37.796875 51.625 33 \r\nQ 55.609375 28.21875 55.609375 21.1875 \r\nQ 55.609375 10.40625 48.1875 4.484375 \r\nQ 40.765625 -1.421875 27.09375 -1.421875 \r\nQ 22.515625 -1.421875 17.65625 -0.515625 \r\nQ 12.796875 0.390625 7.625 2.203125 \r\nL 7.625 11.71875 \r\nQ 11.71875 9.328125 16.59375 8.109375 \r\nQ 21.484375 6.890625 26.8125 6.890625 \r\nQ 36.078125 6.890625 40.9375 10.546875 \r\nQ 45.796875 14.203125 45.796875 21.1875 \r\nQ 45.796875 27.640625 41.28125 31.265625 \r\nQ 36.765625 34.90625 28.71875 34.90625 \r\nL 20.21875 34.90625 \r\nL 20.21875 43.015625 \r\nL 29.109375 43.015625 \r\nQ 36.375 43.015625 40.234375 45.921875 \r\nQ 44.09375 48.828125 44.09375 54.296875 \r\nQ 44.09375 59.90625 40.109375 62.90625 \r\nQ 36.140625 65.921875 28.71875 65.921875 \r\nQ 24.65625 65.921875 20.015625 65.03125 \r\nQ 15.375 64.15625 9.8125 62.3125 \r\nL 9.8125 71.09375 \r\nQ 15.4375 72.65625 20.34375 73.4375 \r\nQ 25.25 74.21875 29.59375 74.21875 \r\nQ 40.828125 74.21875 47.359375 69.109375 \r\nQ 53.90625 64.015625 53.90625 55.328125 \r\nQ 53.90625 49.265625 50.4375 45.09375 \r\nQ 46.96875 40.921875 40.578125 39.3125 \r\nz\r\n\" id=\"DejaVuSans-51\"/>\r\n     </defs>\r\n     <g transform=\"translate(12.859044 106.20282)scale(0.12 -0.12)\">\r\n      <use xlink:href=\"#DejaVuSans-40\"/>\r\n      <use x=\"39.013672\" xlink:href=\"#DejaVuSans-48\"/>\r\n      <use x=\"102.636719\" xlink:href=\"#DejaVuSans-44\"/>\r\n      <use x=\"134.423828\" xlink:href=\"#DejaVuSans-32\"/>\r\n      <use x=\"166.210938\" xlink:href=\"#DejaVuSans-51\"/>\r\n      <use x=\"229.833984\" xlink:href=\"#DejaVuSans-41\"/>\r\n     </g>\r\n    </g>\r\n   </g>\r\n   <g id=\"text_9\">\r\n    <g clip-path=\"url(#pbe03e7138b)\">\r\n     <!-- (1, 3) -->\r\n     <g transform=\"translate(116.619375 106.20282)scale(0.12 -0.12)\">\r\n      <use xlink:href=\"#DejaVuSans-40\"/>\r\n      <use x=\"39.013672\" xlink:href=\"#DejaVuSans-49\"/>\r\n      <use x=\"102.636719\" xlink:href=\"#DejaVuSans-44\"/>\r\n      <use x=\"134.423828\" xlink:href=\"#DejaVuSans-32\"/>\r\n      <use x=\"166.210938\" xlink:href=\"#DejaVuSans-51\"/>\r\n      <use x=\"229.833984\" xlink:href=\"#DejaVuSans-41\"/>\r\n     </g>\r\n    </g>\r\n   </g>\r\n   <g id=\"text_10\">\r\n    <g clip-path=\"url(#pbe03e7138b)\">\r\n     <!-- (2, 3) -->\r\n     <g transform=\"translate(220.379706 106.20282)scale(0.12 -0.12)\">\r\n      <use xlink:href=\"#DejaVuSans-40\"/>\r\n      <use x=\"39.013672\" xlink:href=\"#DejaVuSans-50\"/>\r\n      <use x=\"102.636719\" xlink:href=\"#DejaVuSans-44\"/>\r\n      <use x=\"134.423828\" xlink:href=\"#DejaVuSans-32\"/>\r\n      <use x=\"166.210938\" xlink:href=\"#DejaVuSans-51\"/>\r\n      <use x=\"229.833984\" xlink:href=\"#DejaVuSans-41\"/>\r\n     </g>\r\n    </g>\r\n   </g>\r\n   <g id=\"text_11\">\r\n    <g clip-path=\"url(#pbe03e7138b)\">\r\n     <!-- (0, 4) -->\r\n     <defs>\r\n      <path d=\"M 37.796875 64.3125 \r\nL 12.890625 25.390625 \r\nL 37.796875 25.390625 \r\nz\r\nM 35.203125 72.90625 \r\nL 47.609375 72.90625 \r\nL 47.609375 25.390625 \r\nL 58.015625 25.390625 \r\nL 58.015625 17.1875 \r\nL 47.609375 17.1875 \r\nL 47.609375 0 \r\nL 37.796875 0 \r\nL 37.796875 17.1875 \r\nL 4.890625 17.1875 \r\nL 4.890625 26.703125 \r\nz\r\n\" id=\"DejaVuSans-52\"/>\r\n     </defs>\r\n     <g transform=\"translate(12.859044 38.81439)scale(0.12 -0.12)\">\r\n      <use xlink:href=\"#DejaVuSans-40\"/>\r\n      <use x=\"39.013672\" xlink:href=\"#DejaVuSans-48\"/>\r\n      <use x=\"102.636719\" xlink:href=\"#DejaVuSans-44\"/>\r\n      <use x=\"134.423828\" xlink:href=\"#DejaVuSans-32\"/>\r\n      <use x=\"166.210938\" xlink:href=\"#DejaVuSans-52\"/>\r\n      <use x=\"229.833984\" xlink:href=\"#DejaVuSans-41\"/>\r\n     </g>\r\n    </g>\r\n   </g>\r\n   <g id=\"text_12\">\r\n    <g clip-path=\"url(#pbe03e7138b)\">\r\n     <!-- (1, 4) -->\r\n     <g transform=\"translate(116.619375 38.81439)scale(0.12 -0.12)\">\r\n      <use xlink:href=\"#DejaVuSans-40\"/>\r\n      <use x=\"39.013672\" xlink:href=\"#DejaVuSans-49\"/>\r\n      <use x=\"102.636719\" xlink:href=\"#DejaVuSans-44\"/>\r\n      <use x=\"134.423828\" xlink:href=\"#DejaVuSans-32\"/>\r\n      <use x=\"166.210938\" xlink:href=\"#DejaVuSans-52\"/>\r\n      <use x=\"229.833984\" xlink:href=\"#DejaVuSans-41\"/>\r\n     </g>\r\n    </g>\r\n   </g>\r\n   <g id=\"text_13\">\r\n    <g clip-path=\"url(#pbe03e7138b)\">\r\n     <!-- (2, 4) -->\r\n     <g transform=\"translate(220.379706 38.81439)scale(0.12 -0.12)\">\r\n      <use xlink:href=\"#DejaVuSans-40\"/>\r\n      <use x=\"39.013672\" xlink:href=\"#DejaVuSans-50\"/>\r\n      <use x=\"102.636719\" xlink:href=\"#DejaVuSans-44\"/>\r\n      <use x=\"134.423828\" xlink:href=\"#DejaVuSans-32\"/>\r\n      <use x=\"166.210938\" xlink:href=\"#DejaVuSans-52\"/>\r\n      <use x=\"229.833984\" xlink:href=\"#DejaVuSans-41\"/>\r\n     </g>\r\n    </g>\r\n   </g>\r\n  </g>\r\n </g>\r\n <defs>\r\n  <clipPath id=\"pbe03e7138b\">\r\n   <rect height=\"326.16\" width=\"251.1\" x=\"7.2\" y=\"7.2\"/>\r\n  </clipPath>\r\n </defs>\r\n</svg>\r\n",
      "image/png": "[encoded data removed]"
     },
     "metadata": {}
    }
   ],
   "source": [
    "abg.markov.visualise_ambulance_markov_chain(num_of_servers=1, threshold=1, system_capacity=4, buffer_capacity=2)"
   ]
  },
  {
   "cell_type": "code",
   "execution_count": 20,
   "metadata": {},
   "outputs": [
    {
     "data": {
      "text/latex": [
       "$\\displaystyle \\left[\\begin{matrix}1 & \\frac{\\Lambda}{\\mu} & \\frac{\\lambda^{o} \\left(\\left(\\lambda^{A}\\right)^{2} + \\lambda^{A} \\lambda^{o} + 2 \\lambda^{A} \\mu + \\mu^{2}\\right)}{\\left(\\lambda^{A}\\right)^{3} + 2 \\left(\\lambda^{A}\\right)^{2} \\lambda^{o} + 3 \\left(\\lambda^{A}\\right)^{2} \\mu + \\lambda^{A} \\left(\\lambda^{o}\\right)^{2} + 2 \\lambda^{A} \\lambda^{o} \\mu + 3 \\lambda^{A} \\mu^{2} + \\mu^{3}} & \\frac{\\lambda^{o} \\left(\\lambda^{A} + \\mu\\right)}{\\left(\\lambda^{A}\\right)^{2} + \\lambda^{A} \\lambda^{o} + 2 \\lambda^{A} \\mu + \\mu^{2}} & \\frac{\\lambda^{o}}{\\lambda^{A} + \\mu}\\\\0 & \\frac{\\lambda^{A} \\left(\\lambda^{A} + \\lambda^{o} + \\mu\\right) \\left(\\left(\\lambda^{A}\\right)^{2} + 2 \\lambda^{A} \\lambda^{o} + 2 \\lambda^{A} \\mu + \\left(\\lambda^{o}\\right)^{2} + \\mu^{2}\\right)}{\\mu \\left(\\left(\\lambda^{A}\\right)^{3} + 2 \\left(\\lambda^{A}\\right)^{2} \\lambda^{o} + 3 \\left(\\lambda^{A}\\right)^{2} \\mu + \\lambda^{A} \\left(\\lambda^{o}\\right)^{2} + 2 \\lambda^{A} \\lambda^{o} \\mu + 3 \\lambda^{A} \\mu^{2} + \\mu^{3}\\right)} & \\frac{\\lambda^{A} \\left(\\left(\\lambda^{A}\\right)^{5} + 4 \\left(\\lambda^{A}\\right)^{4} \\lambda^{o} + 6 \\left(\\lambda^{A}\\right)^{4} \\mu + 6 \\left(\\lambda^{A}\\right)^{3} \\left(\\lambda^{o}\\right)^{2} + 15 \\left(\\lambda^{A}\\right)^{3} \\lambda^{o} \\mu + 14 \\left(\\lambda^{A}\\right)^{3} \\mu^{2} + 4 \\left(\\lambda^{A}\\right)^{2} \\left(\\lambda^{o}\\right)^{3} + 12 \\left(\\lambda^{A}\\right)^{2} \\left(\\lambda^{o}\\right)^{2} \\mu + 20 \\left(\\lambda^{A}\\right)^{2} \\lambda^{o} \\mu^{2} + 16 \\left(\\lambda^{A}\\right)^{2} \\mu^{3} + \\lambda^{A} \\left(\\lambda^{o}\\right)^{4} + 3 \\lambda^{A} \\left(\\lambda^{o}\\right)^{3} \\mu + 6 \\lambda^{A} \\left(\\lambda^{o}\\right)^{2} \\mu^{2} + 11 \\lambda^{A} \\lambda^{o} \\mu^{3} + 9 \\lambda^{A} \\mu^{4} + \\left(\\lambda^{o}\\right)^{3} \\mu^{2} + 2 \\left(\\lambda^{o}\\right)^{2} \\mu^{3} + 2 \\lambda^{o} \\mu^{4} + 2 \\mu^{5}\\right)}{\\mu \\left(\\left(\\lambda^{A}\\right)^{2} + \\lambda^{A} \\lambda^{o} + 2 \\lambda^{A} \\mu + \\mu^{2}\\right) \\left(\\left(\\lambda^{A}\\right)^{3} + 2 \\left(\\lambda^{A}\\right)^{2} \\lambda^{o} + 3 \\left(\\lambda^{A}\\right)^{2} \\mu + \\lambda^{A} \\left(\\lambda^{o}\\right)^{2} + 2 \\lambda^{A} \\lambda^{o} \\mu + 3 \\lambda^{A} \\mu^{2} + \\mu^{3}\\right)} & \\frac{\\lambda^{A} \\left(\\left(\\lambda^{A}\\right)^{4} + 3 \\left(\\lambda^{A}\\right)^{3} \\lambda^{o} + 6 \\left(\\lambda^{A}\\right)^{3} \\mu + 3 \\left(\\lambda^{A}\\right)^{2} \\left(\\lambda^{o}\\right)^{2} + 9 \\left(\\lambda^{A}\\right)^{2} \\lambda^{o} \\mu + 12 \\left(\\lambda^{A}\\right)^{2} \\mu^{2} + \\lambda^{A} \\left(\\lambda^{o}\\right)^{3} + 4 \\lambda^{A} \\left(\\lambda^{o}\\right)^{2} \\mu + 9 \\lambda^{A} \\lambda^{o} \\mu^{2} + 10 \\lambda^{A} \\mu^{3} + \\left(\\lambda^{o}\\right)^{3} \\mu + 2 \\left(\\lambda^{o}\\right)^{2} \\mu^{2} + 3 \\lambda^{o} \\mu^{3} + 3 \\mu^{4}\\right)}{\\mu \\left(\\lambda^{A} + \\mu\\right) \\left(\\left(\\lambda^{A}\\right)^{3} + 2 \\left(\\lambda^{A}\\right)^{2} \\lambda^{o} + 3 \\left(\\lambda^{A}\\right)^{2} \\mu + \\lambda^{A} \\left(\\lambda^{o}\\right)^{2} + 2 \\lambda^{A} \\lambda^{o} \\mu + 3 \\lambda^{A} \\mu^{2} + \\mu^{3}\\right)} & \\frac{\\lambda^{A} \\left(\\left(\\lambda^{A}\\right)^{3} + 3 \\left(\\lambda^{A}\\right)^{2} \\lambda^{o} + 6 \\left(\\lambda^{A}\\right)^{2} \\mu + 3 \\lambda^{A} \\left(\\lambda^{o}\\right)^{2} + 8 \\lambda^{A} \\lambda^{o} \\mu + 9 \\lambda^{A} \\mu^{2} + \\left(\\lambda^{o}\\right)^{3} + 2 \\left(\\lambda^{o}\\right)^{2} \\mu + 3 \\lambda^{o} \\mu^{2} + 4 \\mu^{3}\\right)}{\\mu \\left(\\left(\\lambda^{A}\\right)^{3} + 2 \\left(\\lambda^{A}\\right)^{2} \\lambda^{o} + 3 \\left(\\lambda^{A}\\right)^{2} \\mu + \\lambda^{A} \\left(\\lambda^{o}\\right)^{2} + 2 \\lambda^{A} \\lambda^{o} \\mu + 3 \\lambda^{A} \\mu^{2} + \\mu^{3}\\right)}\\\\0 & \\frac{\\lambda^{A} \\left(\\left(\\lambda^{A}\\right)^{6} + 6 \\left(\\lambda^{A}\\right)^{5} \\lambda^{o} + 6 \\left(\\lambda^{A}\\right)^{5} \\mu + 15 \\left(\\lambda^{A}\\right)^{4} \\left(\\lambda^{o}\\right)^{2} + 27 \\left(\\lambda^{A}\\right)^{4} \\lambda^{o} \\mu + 15 \\left(\\lambda^{A}\\right)^{4} \\mu^{2} + 20 \\left(\\lambda^{A}\\right)^{3} \\left(\\lambda^{o}\\right)^{3} + 48 \\left(\\lambda^{A}\\right)^{3} \\left(\\lambda^{o}\\right)^{2} \\mu + 48 \\left(\\lambda^{A}\\right)^{3} \\lambda^{o} \\mu^{2} + 20 \\left(\\lambda^{A}\\right)^{3} \\mu^{3} + 15 \\left(\\lambda^{A}\\right)^{2} \\left(\\lambda^{o}\\right)^{4} + 42 \\left(\\lambda^{A}\\right)^{2} \\left(\\lambda^{o}\\right)^{3} \\mu + 57 \\left(\\lambda^{A}\\right)^{2} \\left(\\lambda^{o}\\right)^{2} \\mu^{2} + 42 \\left(\\lambda^{A}\\right)^{2} \\lambda^{o} \\mu^{3} + 15 \\left(\\lambda^{A}\\right)^{2} \\mu^{4} + 6 \\lambda^{A} \\left(\\lambda^{o}\\right)^{5} + 18 \\lambda^{A} \\left(\\lambda^{o}\\right)^{4} \\mu + 30 \\lambda^{A} \\left(\\lambda^{o}\\right)^{3} \\mu^{2} + 30 \\lambda^{A} \\left(\\lambda^{o}\\right)^{2} \\mu^{3} + 18 \\lambda^{A} \\lambda^{o} \\mu^{4} + 6 \\lambda^{A} \\mu^{5} + \\left(\\lambda^{o}\\right)^{6} + 3 \\left(\\lambda^{o}\\right)^{5} \\mu + 6 \\left(\\lambda^{o}\\right)^{4} \\mu^{2} + 10 \\left(\\lambda^{o}\\right)^{3} \\mu^{3} + 6 \\left(\\lambda^{o}\\right)^{2} \\mu^{4} + 3 \\lambda^{o} \\mu^{5} + \\mu^{6}\\right)}{\\mu \\left(\\lambda^{A} + \\lambda^{o} + \\mu\\right) \\left(\\left(\\lambda^{A}\\right)^{2} + 2 \\lambda^{A} \\lambda^{o} + 2 \\lambda^{A} \\mu + \\left(\\lambda^{o}\\right)^{2} + \\mu^{2}\\right) \\left(\\left(\\lambda^{A}\\right)^{3} + 2 \\left(\\lambda^{A}\\right)^{2} \\lambda^{o} + 3 \\left(\\lambda^{A}\\right)^{2} \\mu + \\lambda^{A} \\left(\\lambda^{o}\\right)^{2} + 2 \\lambda^{A} \\lambda^{o} \\mu + 3 \\lambda^{A} \\mu^{2} + \\mu^{3}\\right)} & \\frac{\\lambda^{A} \\left(\\left(\\lambda^{A}\\right)^{6} + 6 \\left(\\lambda^{A}\\right)^{5} \\lambda^{o} + 7 \\left(\\lambda^{A}\\right)^{5} \\mu + 15 \\left(\\lambda^{A}\\right)^{4} \\left(\\lambda^{o}\\right)^{2} + 32 \\left(\\lambda^{A}\\right)^{4} \\lambda^{o} \\mu + 21 \\left(\\lambda^{A}\\right)^{4} \\mu^{2} + 20 \\left(\\lambda^{A}\\right)^{3} \\left(\\lambda^{o}\\right)^{3} + 58 \\left(\\lambda^{A}\\right)^{3} \\left(\\lambda^{o}\\right)^{2} \\mu + 69 \\left(\\lambda^{A}\\right)^{3} \\lambda^{o} \\mu^{2} + 34 \\left(\\lambda^{A}\\right)^{3} \\mu^{3} + 15 \\left(\\lambda^{A}\\right)^{2} \\left(\\lambda^{o}\\right)^{4} + 52 \\left(\\lambda^{A}\\right)^{2} \\left(\\lambda^{o}\\right)^{3} \\mu + 84 \\left(\\lambda^{A}\\right)^{2} \\left(\\lambda^{o}\\right)^{2} \\mu^{2} + 74 \\left(\\lambda^{A}\\right)^{2} \\lambda^{o} \\mu^{3} + 31 \\left(\\lambda^{A}\\right)^{2} \\mu^{4} + 6 \\lambda^{A} \\left(\\lambda^{o}\\right)^{5} + 23 \\lambda^{A} \\left(\\lambda^{o}\\right)^{4} \\mu + 45 \\lambda^{A} \\left(\\lambda^{o}\\right)^{3} \\mu^{2} + 54 \\lambda^{A} \\left(\\lambda^{o}\\right)^{2} \\mu^{3} + 39 \\lambda^{A} \\lambda^{o} \\mu^{4} + 15 \\lambda^{A} \\mu^{5} + \\left(\\lambda^{o}\\right)^{6} + 4 \\left(\\lambda^{o}\\right)^{5} \\mu + 9 \\left(\\lambda^{o}\\right)^{4} \\mu^{2} + 16 \\left(\\lambda^{o}\\right)^{3} \\mu^{3} + 15 \\left(\\lambda^{o}\\right)^{2} \\mu^{4} + 8 \\lambda^{o} \\mu^{5} + 3 \\mu^{6}\\right)}{\\mu^{2} \\left(\\left(\\lambda^{A}\\right)^{5} + 4 \\left(\\lambda^{A}\\right)^{4} \\lambda^{o} + 6 \\left(\\lambda^{A}\\right)^{4} \\mu + 6 \\left(\\lambda^{A}\\right)^{3} \\left(\\lambda^{o}\\right)^{2} + 15 \\left(\\lambda^{A}\\right)^{3} \\lambda^{o} \\mu + 14 \\left(\\lambda^{A}\\right)^{3} \\mu^{2} + 4 \\left(\\lambda^{A}\\right)^{2} \\left(\\lambda^{o}\\right)^{3} + 12 \\left(\\lambda^{A}\\right)^{2} \\left(\\lambda^{o}\\right)^{2} \\mu + 20 \\left(\\lambda^{A}\\right)^{2} \\lambda^{o} \\mu^{2} + 16 \\left(\\lambda^{A}\\right)^{2} \\mu^{3} + \\lambda^{A} \\left(\\lambda^{o}\\right)^{4} + 3 \\lambda^{A} \\left(\\lambda^{o}\\right)^{3} \\mu + 6 \\lambda^{A} \\left(\\lambda^{o}\\right)^{2} \\mu^{2} + 11 \\lambda^{A} \\lambda^{o} \\mu^{3} + 9 \\lambda^{A} \\mu^{4} + \\left(\\lambda^{o}\\right)^{3} \\mu^{2} + 2 \\left(\\lambda^{o}\\right)^{2} \\mu^{3} + 2 \\lambda^{o} \\mu^{4} + 2 \\mu^{5}\\right)} & \\frac{\\lambda^{A} \\left(\\left(\\lambda^{A}\\right)^{6} + 6 \\left(\\lambda^{A}\\right)^{5} \\lambda^{o} + 7 \\left(\\lambda^{A}\\right)^{5} \\mu + 15 \\left(\\lambda^{A}\\right)^{4} \\left(\\lambda^{o}\\right)^{2} + 32 \\left(\\lambda^{A}\\right)^{4} \\lambda^{o} \\mu + 22 \\left(\\lambda^{A}\\right)^{4} \\mu^{2} + 20 \\left(\\lambda^{A}\\right)^{3} \\left(\\lambda^{o}\\right)^{3} + 58 \\left(\\lambda^{A}\\right)^{3} \\left(\\lambda^{o}\\right)^{2} \\mu + 73 \\left(\\lambda^{A}\\right)^{3} \\lambda^{o} \\mu^{2} + 40 \\left(\\lambda^{A}\\right)^{3} \\mu^{3} + 15 \\left(\\lambda^{A}\\right)^{2} \\left(\\lambda^{o}\\right)^{4} + 52 \\left(\\lambda^{A}\\right)^{2} \\left(\\lambda^{o}\\right)^{3} \\mu + 90 \\left(\\lambda^{A}\\right)^{2} \\left(\\lambda^{o}\\right)^{2} \\mu^{2} + 89 \\left(\\lambda^{A}\\right)^{2} \\lambda^{o} \\mu^{3} + 43 \\left(\\lambda^{A}\\right)^{2} \\mu^{4} + 6 \\lambda^{A} \\left(\\lambda^{o}\\right)^{5} + 23 \\lambda^{A} \\left(\\lambda^{o}\\right)^{4} \\mu + 49 \\lambda^{A} \\left(\\lambda^{o}\\right)^{3} \\mu^{2} + 66 \\lambda^{A} \\left(\\lambda^{o}\\right)^{2} \\mu^{3} + 57 \\lambda^{A} \\lambda^{o} \\mu^{4} + 25 \\lambda^{A} \\mu^{5} + \\left(\\lambda^{o}\\right)^{6} + 4 \\left(\\lambda^{o}\\right)^{5} \\mu + 10 \\left(\\lambda^{o}\\right)^{4} \\mu^{2} + 19 \\left(\\lambda^{o}\\right)^{3} \\mu^{3} + 20 \\left(\\lambda^{o}\\right)^{2} \\mu^{4} + 15 \\lambda^{o} \\mu^{5} + 6 \\mu^{6}\\right)}{\\mu^{3} \\left(\\left(\\lambda^{A}\\right)^{4} + 3 \\left(\\lambda^{A}\\right)^{3} \\lambda^{o} + 6 \\left(\\lambda^{A}\\right)^{3} \\mu + 3 \\left(\\lambda^{A}\\right)^{2} \\left(\\lambda^{o}\\right)^{2} + 9 \\left(\\lambda^{A}\\right)^{2} \\lambda^{o} \\mu + 12 \\left(\\lambda^{A}\\right)^{2} \\mu^{2} + \\lambda^{A} \\left(\\lambda^{o}\\right)^{3} + 4 \\lambda^{A} \\left(\\lambda^{o}\\right)^{2} \\mu + 9 \\lambda^{A} \\lambda^{o} \\mu^{2} + 10 \\lambda^{A} \\mu^{3} + \\left(\\lambda^{o}\\right)^{3} \\mu + 2 \\left(\\lambda^{o}\\right)^{2} \\mu^{2} + 3 \\lambda^{o} \\mu^{3} + 3 \\mu^{4}\\right)} & \\frac{\\lambda^{A} \\left(\\left(\\lambda^{A}\\right)^{6} + 6 \\left(\\lambda^{A}\\right)^{5} \\lambda^{o} + 7 \\left(\\lambda^{A}\\right)^{5} \\mu + 15 \\left(\\lambda^{A}\\right)^{4} \\left(\\lambda^{o}\\right)^{2} + 32 \\left(\\lambda^{A}\\right)^{4} \\lambda^{o} \\mu + 22 \\left(\\lambda^{A}\\right)^{4} \\mu^{2} + 20 \\left(\\lambda^{A}\\right)^{3} \\left(\\lambda^{o}\\right)^{3} + 58 \\left(\\lambda^{A}\\right)^{3} \\left(\\lambda^{o}\\right)^{2} \\mu + 73 \\left(\\lambda^{A}\\right)^{3} \\lambda^{o} \\mu^{2} + 41 \\left(\\lambda^{A}\\right)^{3} \\mu^{3} + 15 \\left(\\lambda^{A}\\right)^{2} \\left(\\lambda^{o}\\right)^{4} + 52 \\left(\\lambda^{A}\\right)^{2} \\left(\\lambda^{o}\\right)^{3} \\mu + 90 \\left(\\lambda^{A}\\right)^{2} \\left(\\lambda^{o}\\right)^{2} \\mu^{2} + 92 \\left(\\lambda^{A}\\right)^{2} \\lambda^{o} \\mu^{3} + 49 \\left(\\lambda^{A}\\right)^{2} \\mu^{4} + 6 \\lambda^{A} \\left(\\lambda^{o}\\right)^{5} + 23 \\lambda^{A} \\left(\\lambda^{o}\\right)^{4} \\mu + 49 \\lambda^{A} \\left(\\lambda^{o}\\right)^{3} \\mu^{2} + 69 \\lambda^{A} \\left(\\lambda^{o}\\right)^{2} \\mu^{3} + 65 \\lambda^{A} \\lambda^{o} \\mu^{4} + 34 \\lambda^{A} \\mu^{5} + \\left(\\lambda^{o}\\right)^{6} + 4 \\left(\\lambda^{o}\\right)^{5} \\mu + 10 \\left(\\lambda^{o}\\right)^{4} \\mu^{2} + 20 \\left(\\lambda^{o}\\right)^{3} \\mu^{3} + 22 \\left(\\lambda^{o}\\right)^{2} \\mu^{4} + 18 \\lambda^{o} \\mu^{5} + 10 \\mu^{6}\\right)}{\\mu^{4} \\left(\\left(\\lambda^{A}\\right)^{3} + 3 \\left(\\lambda^{A}\\right)^{2} \\lambda^{o} + 6 \\left(\\lambda^{A}\\right)^{2} \\mu + 3 \\lambda^{A} \\left(\\lambda^{o}\\right)^{2} + 8 \\lambda^{A} \\lambda^{o} \\mu + 9 \\lambda^{A} \\mu^{2} + \\left(\\lambda^{o}\\right)^{3} + 2 \\left(\\lambda^{o}\\right)^{2} \\mu + 3 \\lambda^{o} \\mu^{2} + 4 \\mu^{3}\\right)}\\end{matrix}\\right]$"
      ],
      "text/plain": [
       "Matrix([\n",
       "[1,                                                                                                                                                                                                                                                                                                                                                                                                                                                                                                                                                                                                                                                                                                                                                                                                                                                                                                                                                                          Lambda/mu,                                                                                                                                                                                                                                                                                                                                                                                                                                                                                                                                                                                                                                                                                                                                                                                                                                                                                                                                                                                                               lambda_1*(lambda_2**2 + lambda_2*lambda_1 + 2*lambda_2*mu + mu**2)/(lambda_2**3 + 2*lambda_2**2*lambda_1 + 3*lambda_2**2*mu + lambda_2*lambda_1**2 + 2*lambda_2*lambda_1*mu + 3*lambda_2*mu**2 + mu**3),                                                                                                                                                                                                                                                                                                                                                                                                                                                                                                                                                                                                                                                                                                                                                                                                                                                                                                                                                                                lambda_1*(lambda_2 + mu)/(lambda_2**2 + lambda_2*lambda_1 + 2*lambda_2*mu + mu**2),                                                                                                                                                                                                                                                                                                                                                                                                                                                                                                                                                                                                                                                                                                                                                                                                                                                                                                                        lambda_1/(lambda_2 + mu)],\n",
       "[0,                                                                                                                                                                                                                                                                                                                                                                                                                                                                                                                                                                                                                                                                                                                            lambda_2*(lambda_2 + lambda_1 + mu)*(lambda_2**2 + 2*lambda_2*lambda_1 + 2*lambda_2*mu + lambda_1**2 + mu**2)/(mu*(lambda_2**3 + 2*lambda_2**2*lambda_1 + 3*lambda_2**2*mu + lambda_2*lambda_1**2 + 2*lambda_2*lambda_1*mu + 3*lambda_2*mu**2 + mu**3)),                                                                                                                                                                                                                                                                                                                                                                                                                                                                                                                                    lambda_2*(lambda_2**5 + 4*lambda_2**4*lambda_1 + 6*lambda_2**4*mu + 6*lambda_2**3*lambda_1**2 + 15*lambda_2**3*lambda_1*mu + 14*lambda_2**3*mu**2 + 4*lambda_2**2*lambda_1**3 + 12*lambda_2**2*lambda_1**2*mu + 20*lambda_2**2*lambda_1*mu**2 + 16*lambda_2**2*mu**3 + lambda_2*lambda_1**4 + 3*lambda_2*lambda_1**3*mu + 6*lambda_2*lambda_1**2*mu**2 + 11*lambda_2*lambda_1*mu**3 + 9*lambda_2*mu**4 + lambda_1**3*mu**2 + 2*lambda_1**2*mu**3 + 2*lambda_1*mu**4 + 2*mu**5)/(mu*(lambda_2**2 + lambda_2*lambda_1 + 2*lambda_2*mu + mu**2)*(lambda_2**3 + 2*lambda_2**2*lambda_1 + 3*lambda_2**2*mu + lambda_2*lambda_1**2 + 2*lambda_2*lambda_1*mu + 3*lambda_2*mu**2 + mu**3)),                                                                                                                                                                                                                                                                                                                                                                                                                                                                                                                                                                                lambda_2*(lambda_2**4 + 3*lambda_2**3*lambda_1 + 6*lambda_2**3*mu + 3*lambda_2**2*lambda_1**2 + 9*lambda_2**2*lambda_1*mu + 12*lambda_2**2*mu**2 + lambda_2*lambda_1**3 + 4*lambda_2*lambda_1**2*mu + 9*lambda_2*lambda_1*mu**2 + 10*lambda_2*mu**3 + lambda_1**3*mu + 2*lambda_1**2*mu**2 + 3*lambda_1*mu**3 + 3*mu**4)/(mu*(lambda_2 + mu)*(lambda_2**3 + 2*lambda_2**2*lambda_1 + 3*lambda_2**2*mu + lambda_2*lambda_1**2 + 2*lambda_2*lambda_1*mu + 3*lambda_2*mu**2 + mu**3)),                                                                                                                                                                                                                                                                                                                                                                                                                                                                                                                                                                                                 lambda_2*(lambda_2**3 + 3*lambda_2**2*lambda_1 + 6*lambda_2**2*mu + 3*lambda_2*lambda_1**2 + 8*lambda_2*lambda_1*mu + 9*lambda_2*mu**2 + lambda_1**3 + 2*lambda_1**2*mu + 3*lambda_1*mu**2 + 4*mu**3)/(mu*(lambda_2**3 + 2*lambda_2**2*lambda_1 + 3*lambda_2**2*mu + lambda_2*lambda_1**2 + 2*lambda_2*lambda_1*mu + 3*lambda_2*mu**2 + mu**3))],\n",
       "[0, lambda_2*(lambda_2**6 + 6*lambda_2**5*lambda_1 + 6*lambda_2**5*mu + 15*lambda_2**4*lambda_1**2 + 27*lambda_2**4*lambda_1*mu + 15*lambda_2**4*mu**2 + 20*lambda_2**3*lambda_1**3 + 48*lambda_2**3*lambda_1**2*mu + 48*lambda_2**3*lambda_1*mu**2 + 20*lambda_2**3*mu**3 + 15*lambda_2**2*lambda_1**4 + 42*lambda_2**2*lambda_1**3*mu + 57*lambda_2**2*lambda_1**2*mu**2 + 42*lambda_2**2*lambda_1*mu**3 + 15*lambda_2**2*mu**4 + 6*lambda_2*lambda_1**5 + 18*lambda_2*lambda_1**4*mu + 30*lambda_2*lambda_1**3*mu**2 + 30*lambda_2*lambda_1**2*mu**3 + 18*lambda_2*lambda_1*mu**4 + 6*lambda_2*mu**5 + lambda_1**6 + 3*lambda_1**5*mu + 6*lambda_1**4*mu**2 + 10*lambda_1**3*mu**3 + 6*lambda_1**2*mu**4 + 3*lambda_1*mu**5 + mu**6)/(mu*(lambda_2 + lambda_1 + mu)*(lambda_2**2 + 2*lambda_2*lambda_1 + 2*lambda_2*mu + lambda_1**2 + mu**2)*(lambda_2**3 + 2*lambda_2**2*lambda_1 + 3*lambda_2**2*mu + lambda_2*lambda_1**2 + 2*lambda_2*lambda_1*mu + 3*lambda_2*mu**2 + mu**3)), lambda_2*(lambda_2**6 + 6*lambda_2**5*lambda_1 + 7*lambda_2**5*mu + 15*lambda_2**4*lambda_1**2 + 32*lambda_2**4*lambda_1*mu + 21*lambda_2**4*mu**2 + 20*lambda_2**3*lambda_1**3 + 58*lambda_2**3*lambda_1**2*mu + 69*lambda_2**3*lambda_1*mu**2 + 34*lambda_2**3*mu**3 + 15*lambda_2**2*lambda_1**4 + 52*lambda_2**2*lambda_1**3*mu + 84*lambda_2**2*lambda_1**2*mu**2 + 74*lambda_2**2*lambda_1*mu**3 + 31*lambda_2**2*mu**4 + 6*lambda_2*lambda_1**5 + 23*lambda_2*lambda_1**4*mu + 45*lambda_2*lambda_1**3*mu**2 + 54*lambda_2*lambda_1**2*mu**3 + 39*lambda_2*lambda_1*mu**4 + 15*lambda_2*mu**5 + lambda_1**6 + 4*lambda_1**5*mu + 9*lambda_1**4*mu**2 + 16*lambda_1**3*mu**3 + 15*lambda_1**2*mu**4 + 8*lambda_1*mu**5 + 3*mu**6)/(mu**2*(lambda_2**5 + 4*lambda_2**4*lambda_1 + 6*lambda_2**4*mu + 6*lambda_2**3*lambda_1**2 + 15*lambda_2**3*lambda_1*mu + 14*lambda_2**3*mu**2 + 4*lambda_2**2*lambda_1**3 + 12*lambda_2**2*lambda_1**2*mu + 20*lambda_2**2*lambda_1*mu**2 + 16*lambda_2**2*mu**3 + lambda_2*lambda_1**4 + 3*lambda_2*lambda_1**3*mu + 6*lambda_2*lambda_1**2*mu**2 + 11*lambda_2*lambda_1*mu**3 + 9*lambda_2*mu**4 + lambda_1**3*mu**2 + 2*lambda_1**2*mu**3 + 2*lambda_1*mu**4 + 2*mu**5)), lambda_2*(lambda_2**6 + 6*lambda_2**5*lambda_1 + 7*lambda_2**5*mu + 15*lambda_2**4*lambda_1**2 + 32*lambda_2**4*lambda_1*mu + 22*lambda_2**4*mu**2 + 20*lambda_2**3*lambda_1**3 + 58*lambda_2**3*lambda_1**2*mu + 73*lambda_2**3*lambda_1*mu**2 + 40*lambda_2**3*mu**3 + 15*lambda_2**2*lambda_1**4 + 52*lambda_2**2*lambda_1**3*mu + 90*lambda_2**2*lambda_1**2*mu**2 + 89*lambda_2**2*lambda_1*mu**3 + 43*lambda_2**2*mu**4 + 6*lambda_2*lambda_1**5 + 23*lambda_2*lambda_1**4*mu + 49*lambda_2*lambda_1**3*mu**2 + 66*lambda_2*lambda_1**2*mu**3 + 57*lambda_2*lambda_1*mu**4 + 25*lambda_2*mu**5 + lambda_1**6 + 4*lambda_1**5*mu + 10*lambda_1**4*mu**2 + 19*lambda_1**3*mu**3 + 20*lambda_1**2*mu**4 + 15*lambda_1*mu**5 + 6*mu**6)/(mu**3*(lambda_2**4 + 3*lambda_2**3*lambda_1 + 6*lambda_2**3*mu + 3*lambda_2**2*lambda_1**2 + 9*lambda_2**2*lambda_1*mu + 12*lambda_2**2*mu**2 + lambda_2*lambda_1**3 + 4*lambda_2*lambda_1**2*mu + 9*lambda_2*lambda_1*mu**2 + 10*lambda_2*mu**3 + lambda_1**3*mu + 2*lambda_1**2*mu**2 + 3*lambda_1*mu**3 + 3*mu**4)), lambda_2*(lambda_2**6 + 6*lambda_2**5*lambda_1 + 7*lambda_2**5*mu + 15*lambda_2**4*lambda_1**2 + 32*lambda_2**4*lambda_1*mu + 22*lambda_2**4*mu**2 + 20*lambda_2**3*lambda_1**3 + 58*lambda_2**3*lambda_1**2*mu + 73*lambda_2**3*lambda_1*mu**2 + 41*lambda_2**3*mu**3 + 15*lambda_2**2*lambda_1**4 + 52*lambda_2**2*lambda_1**3*mu + 90*lambda_2**2*lambda_1**2*mu**2 + 92*lambda_2**2*lambda_1*mu**3 + 49*lambda_2**2*mu**4 + 6*lambda_2*lambda_1**5 + 23*lambda_2*lambda_1**4*mu + 49*lambda_2*lambda_1**3*mu**2 + 69*lambda_2*lambda_1**2*mu**3 + 65*lambda_2*lambda_1*mu**4 + 34*lambda_2*mu**5 + lambda_1**6 + 4*lambda_1**5*mu + 10*lambda_1**4*mu**2 + 20*lambda_1**3*mu**3 + 22*lambda_1**2*mu**4 + 18*lambda_1*mu**5 + 10*mu**6)/(mu**4*(lambda_2**3 + 3*lambda_2**2*lambda_1 + 6*lambda_2**2*mu + 3*lambda_2*lambda_1**2 + 8*lambda_2*lambda_1*mu + 9*lambda_2*mu**2 + lambda_1**3 + 2*lambda_1**2*mu + 3*lambda_1*mu**2 + 4*mu**3))]])"
      ]
     },
     "execution_count": 20,
     "metadata": {},
     "output_type": "execute_result"
    }
   ],
   "source": [
    "sym_state_recursive_ratios_1142"
   ]
  },
  {
   "cell_type": "code",
   "execution_count": 21,
   "metadata": {},
   "outputs": [
    {
     "data": {
      "text/latex": [
       "$\\displaystyle \\left[\\begin{matrix}1 & \\frac{\\Lambda}{\\mu} & \\frac{\\lambda^{o} \\left(\\left(\\lambda^{A}\\right)^{2} + \\lambda^{A} \\lambda^{o} + 2 \\lambda^{A} \\mu + \\mu^{2}\\right)}{\\left(\\lambda^{A}\\right)^{3} + 2 \\left(\\lambda^{A}\\right)^{2} \\lambda^{o} + 3 \\left(\\lambda^{A}\\right)^{2} \\mu + \\lambda^{A} \\left(\\lambda^{o}\\right)^{2} + 2 \\lambda^{A} \\lambda^{o} \\mu + 3 \\lambda^{A} \\mu^{2} + \\mu^{3}} & \\frac{\\lambda^{o} \\left(\\lambda^{A} + \\mu\\right)}{\\left(\\lambda^{A}\\right)^{2} + \\lambda^{A} \\lambda^{o} + 2 \\lambda^{A} \\mu + \\mu^{2}} & \\frac{\\lambda^{o}}{\\lambda^{A} + \\mu}\\\\0 & \\frac{\\lambda^{A} \\left(\\lambda^{A} + \\lambda^{o} + \\mu\\right) \\left(\\left(\\lambda^{A}\\right)^{2} + 2 \\lambda^{A} \\lambda^{o} + 2 \\lambda^{A} \\mu + \\left(\\lambda^{o}\\right)^{2} + \\mu^{2}\\right)}{\\mu \\left(\\left(\\lambda^{A}\\right)^{3} + 2 \\left(\\lambda^{A}\\right)^{2} \\lambda^{o} + 3 \\left(\\lambda^{A}\\right)^{2} \\mu + \\lambda^{A} \\left(\\lambda^{o}\\right)^{2} + 2 \\lambda^{A} \\lambda^{o} \\mu + 3 \\lambda^{A} \\mu^{2} + \\mu^{3}\\right)} & \\frac{\\lambda^{o} \\left(\\left(\\lambda^{A}\\right)^{5} + 4 \\left(\\lambda^{A}\\right)^{4} \\lambda^{o} + 6 \\left(\\lambda^{A}\\right)^{4} \\mu + 6 \\left(\\lambda^{A}\\right)^{3} \\left(\\lambda^{o}\\right)^{2} + 15 \\left(\\lambda^{A}\\right)^{3} \\lambda^{o} \\mu + 14 \\left(\\lambda^{A}\\right)^{3} \\mu^{2} + 4 \\left(\\lambda^{A}\\right)^{2} \\left(\\lambda^{o}\\right)^{3} + 12 \\left(\\lambda^{A}\\right)^{2} \\left(\\lambda^{o}\\right)^{2} \\mu + 20 \\left(\\lambda^{A}\\right)^{2} \\lambda^{o} \\mu^{2} + 16 \\left(\\lambda^{A}\\right)^{2} \\mu^{3} + \\lambda^{A} \\left(\\lambda^{o}\\right)^{4} + 3 \\lambda^{A} \\left(\\lambda^{o}\\right)^{3} \\mu + 6 \\lambda^{A} \\left(\\lambda^{o}\\right)^{2} \\mu^{2} + 11 \\lambda^{A} \\lambda^{o} \\mu^{3} + 9 \\lambda^{A} \\mu^{4} + \\left(\\lambda^{o}\\right)^{3} \\mu^{2} + 2 \\left(\\lambda^{o}\\right)^{2} \\mu^{3} + 2 \\lambda^{o} \\mu^{4} + 2 \\mu^{5}\\right)}{\\left(\\lambda^{A} + \\lambda^{o} + \\mu\\right) \\left(\\left(\\lambda^{A}\\right)^{2} + 2 \\lambda^{A} \\lambda^{o} + 2 \\lambda^{A} \\mu + \\left(\\lambda^{o}\\right)^{2} + \\mu^{2}\\right) \\left(\\left(\\lambda^{A}\\right)^{3} + 2 \\left(\\lambda^{A}\\right)^{2} \\lambda^{o} + 3 \\left(\\lambda^{A}\\right)^{2} \\mu + \\lambda^{A} \\left(\\lambda^{o}\\right)^{2} + 2 \\lambda^{A} \\lambda^{o} \\mu + 3 \\lambda^{A} \\mu^{2} + \\mu^{3}\\right)} & \\frac{\\lambda^{o} \\left(\\left(\\lambda^{A}\\right)^{4} + 3 \\left(\\lambda^{A}\\right)^{3} \\lambda^{o} + 6 \\left(\\lambda^{A}\\right)^{3} \\mu + 3 \\left(\\lambda^{A}\\right)^{2} \\left(\\lambda^{o}\\right)^{2} + 9 \\left(\\lambda^{A}\\right)^{2} \\lambda^{o} \\mu + 12 \\left(\\lambda^{A}\\right)^{2} \\mu^{2} + \\lambda^{A} \\left(\\lambda^{o}\\right)^{3} + 4 \\lambda^{A} \\left(\\lambda^{o}\\right)^{2} \\mu + 9 \\lambda^{A} \\lambda^{o} \\mu^{2} + 10 \\lambda^{A} \\mu^{3} + \\left(\\lambda^{o}\\right)^{3} \\mu + 2 \\left(\\lambda^{o}\\right)^{2} \\mu^{2} + 3 \\lambda^{o} \\mu^{3} + 3 \\mu^{4}\\right)}{\\left(\\lambda^{A}\\right)^{5} + 4 \\left(\\lambda^{A}\\right)^{4} \\lambda^{o} + 6 \\left(\\lambda^{A}\\right)^{4} \\mu + 6 \\left(\\lambda^{A}\\right)^{3} \\left(\\lambda^{o}\\right)^{2} + 15 \\left(\\lambda^{A}\\right)^{3} \\lambda^{o} \\mu + 14 \\left(\\lambda^{A}\\right)^{3} \\mu^{2} + 4 \\left(\\lambda^{A}\\right)^{2} \\left(\\lambda^{o}\\right)^{3} + 12 \\left(\\lambda^{A}\\right)^{2} \\left(\\lambda^{o}\\right)^{2} \\mu + 20 \\left(\\lambda^{A}\\right)^{2} \\lambda^{o} \\mu^{2} + 16 \\left(\\lambda^{A}\\right)^{2} \\mu^{3} + \\lambda^{A} \\left(\\lambda^{o}\\right)^{4} + 3 \\lambda^{A} \\left(\\lambda^{o}\\right)^{3} \\mu + 6 \\lambda^{A} \\left(\\lambda^{o}\\right)^{2} \\mu^{2} + 11 \\lambda^{A} \\lambda^{o} \\mu^{3} + 9 \\lambda^{A} \\mu^{4} + \\left(\\lambda^{o}\\right)^{3} \\mu^{2} + 2 \\left(\\lambda^{o}\\right)^{2} \\mu^{3} + 2 \\lambda^{o} \\mu^{4} + 2 \\mu^{5}} & \\frac{\\lambda^{o} \\left(\\left(\\lambda^{A}\\right)^{3} + 3 \\left(\\lambda^{A}\\right)^{2} \\lambda^{o} + 6 \\left(\\lambda^{A}\\right)^{2} \\mu + 3 \\lambda^{A} \\left(\\lambda^{o}\\right)^{2} + 8 \\lambda^{A} \\lambda^{o} \\mu + 9 \\lambda^{A} \\mu^{2} + \\left(\\lambda^{o}\\right)^{3} + 2 \\left(\\lambda^{o}\\right)^{2} \\mu + 3 \\lambda^{o} \\mu^{2} + 4 \\mu^{3}\\right)}{\\left(\\lambda^{A}\\right)^{4} + 3 \\left(\\lambda^{A}\\right)^{3} \\lambda^{o} + 6 \\left(\\lambda^{A}\\right)^{3} \\mu + 3 \\left(\\lambda^{A}\\right)^{2} \\left(\\lambda^{o}\\right)^{2} + 9 \\left(\\lambda^{A}\\right)^{2} \\lambda^{o} \\mu + 12 \\left(\\lambda^{A}\\right)^{2} \\mu^{2} + \\lambda^{A} \\left(\\lambda^{o}\\right)^{3} + 4 \\lambda^{A} \\left(\\lambda^{o}\\right)^{2} \\mu + 9 \\lambda^{A} \\lambda^{o} \\mu^{2} + 10 \\lambda^{A} \\mu^{3} + \\left(\\lambda^{o}\\right)^{3} \\mu + 2 \\left(\\lambda^{o}\\right)^{2} \\mu^{2} + 3 \\lambda^{o} \\mu^{3} + 3 \\mu^{4}}\\\\0 & \\frac{\\lambda^{A} \\left(\\left(\\lambda^{A}\\right)^{6} + 6 \\left(\\lambda^{A}\\right)^{5} \\lambda^{o} + 6 \\left(\\lambda^{A}\\right)^{5} \\mu + 15 \\left(\\lambda^{A}\\right)^{4} \\left(\\lambda^{o}\\right)^{2} + 27 \\left(\\lambda^{A}\\right)^{4} \\lambda^{o} \\mu + 15 \\left(\\lambda^{A}\\right)^{4} \\mu^{2} + 20 \\left(\\lambda^{A}\\right)^{3} \\left(\\lambda^{o}\\right)^{3} + 48 \\left(\\lambda^{A}\\right)^{3} \\left(\\lambda^{o}\\right)^{2} \\mu + 48 \\left(\\lambda^{A}\\right)^{3} \\lambda^{o} \\mu^{2} + 20 \\left(\\lambda^{A}\\right)^{3} \\mu^{3} + 15 \\left(\\lambda^{A}\\right)^{2} \\left(\\lambda^{o}\\right)^{4} + 42 \\left(\\lambda^{A}\\right)^{2} \\left(\\lambda^{o}\\right)^{3} \\mu + 57 \\left(\\lambda^{A}\\right)^{2} \\left(\\lambda^{o}\\right)^{2} \\mu^{2} + 42 \\left(\\lambda^{A}\\right)^{2} \\lambda^{o} \\mu^{3} + 15 \\left(\\lambda^{A}\\right)^{2} \\mu^{4} + 6 \\lambda^{A} \\left(\\lambda^{o}\\right)^{5} + 18 \\lambda^{A} \\left(\\lambda^{o}\\right)^{4} \\mu + 30 \\lambda^{A} \\left(\\lambda^{o}\\right)^{3} \\mu^{2} + 30 \\lambda^{A} \\left(\\lambda^{o}\\right)^{2} \\mu^{3} + 18 \\lambda^{A} \\lambda^{o} \\mu^{4} + 6 \\lambda^{A} \\mu^{5} + \\left(\\lambda^{o}\\right)^{6} + 3 \\left(\\lambda^{o}\\right)^{5} \\mu + 6 \\left(\\lambda^{o}\\right)^{4} \\mu^{2} + 10 \\left(\\lambda^{o}\\right)^{3} \\mu^{3} + 6 \\left(\\lambda^{o}\\right)^{2} \\mu^{4} + 3 \\lambda^{o} \\mu^{5} + \\mu^{6}\\right)}{\\mu \\left(\\lambda^{A} + \\lambda^{o} + \\mu\\right) \\left(\\left(\\lambda^{A}\\right)^{2} + 2 \\lambda^{A} \\lambda^{o} + 2 \\lambda^{A} \\mu + \\left(\\lambda^{o}\\right)^{2} + \\mu^{2}\\right) \\left(\\left(\\lambda^{A}\\right)^{3} + 2 \\left(\\lambda^{A}\\right)^{2} \\lambda^{o} + 3 \\left(\\lambda^{A}\\right)^{2} \\mu + \\lambda^{A} \\left(\\lambda^{o}\\right)^{2} + 2 \\lambda^{A} \\lambda^{o} \\mu + 3 \\lambda^{A} \\mu^{2} + \\mu^{3}\\right)} & \\frac{\\lambda^{o} \\left(\\left(\\lambda^{A}\\right)^{6} + 6 \\left(\\lambda^{A}\\right)^{5} \\lambda^{o} + 7 \\left(\\lambda^{A}\\right)^{5} \\mu + 15 \\left(\\lambda^{A}\\right)^{4} \\left(\\lambda^{o}\\right)^{2} + 32 \\left(\\lambda^{A}\\right)^{4} \\lambda^{o} \\mu + 21 \\left(\\lambda^{A}\\right)^{4} \\mu^{2} + 20 \\left(\\lambda^{A}\\right)^{3} \\left(\\lambda^{o}\\right)^{3} + 58 \\left(\\lambda^{A}\\right)^{3} \\left(\\lambda^{o}\\right)^{2} \\mu + 69 \\left(\\lambda^{A}\\right)^{3} \\lambda^{o} \\mu^{2} + 34 \\left(\\lambda^{A}\\right)^{3} \\mu^{3} + 15 \\left(\\lambda^{A}\\right)^{2} \\left(\\lambda^{o}\\right)^{4} + 52 \\left(\\lambda^{A}\\right)^{2} \\left(\\lambda^{o}\\right)^{3} \\mu + 84 \\left(\\lambda^{A}\\right)^{2} \\left(\\lambda^{o}\\right)^{2} \\mu^{2} + 74 \\left(\\lambda^{A}\\right)^{2} \\lambda^{o} \\mu^{3} + 31 \\left(\\lambda^{A}\\right)^{2} \\mu^{4} + 6 \\lambda^{A} \\left(\\lambda^{o}\\right)^{5} + 23 \\lambda^{A} \\left(\\lambda^{o}\\right)^{4} \\mu + 45 \\lambda^{A} \\left(\\lambda^{o}\\right)^{3} \\mu^{2} + 54 \\lambda^{A} \\left(\\lambda^{o}\\right)^{2} \\mu^{3} + 39 \\lambda^{A} \\lambda^{o} \\mu^{4} + 15 \\lambda^{A} \\mu^{5} + \\left(\\lambda^{o}\\right)^{6} + 4 \\left(\\lambda^{o}\\right)^{5} \\mu + 9 \\left(\\lambda^{o}\\right)^{4} \\mu^{2} + 16 \\left(\\lambda^{o}\\right)^{3} \\mu^{3} + 15 \\left(\\lambda^{o}\\right)^{2} \\mu^{4} + 8 \\lambda^{o} \\mu^{5} + 3 \\mu^{6}\\right)}{\\mu \\left(\\left(\\lambda^{A}\\right)^{6} + 6 \\left(\\lambda^{A}\\right)^{5} \\lambda^{o} + 6 \\left(\\lambda^{A}\\right)^{5} \\mu + 15 \\left(\\lambda^{A}\\right)^{4} \\left(\\lambda^{o}\\right)^{2} + 27 \\left(\\lambda^{A}\\right)^{4} \\lambda^{o} \\mu + 15 \\left(\\lambda^{A}\\right)^{4} \\mu^{2} + 20 \\left(\\lambda^{A}\\right)^{3} \\left(\\lambda^{o}\\right)^{3} + 48 \\left(\\lambda^{A}\\right)^{3} \\left(\\lambda^{o}\\right)^{2} \\mu + 48 \\left(\\lambda^{A}\\right)^{3} \\lambda^{o} \\mu^{2} + 20 \\left(\\lambda^{A}\\right)^{3} \\mu^{3} + 15 \\left(\\lambda^{A}\\right)^{2} \\left(\\lambda^{o}\\right)^{4} + 42 \\left(\\lambda^{A}\\right)^{2} \\left(\\lambda^{o}\\right)^{3} \\mu + 57 \\left(\\lambda^{A}\\right)^{2} \\left(\\lambda^{o}\\right)^{2} \\mu^{2} + 42 \\left(\\lambda^{A}\\right)^{2} \\lambda^{o} \\mu^{3} + 15 \\left(\\lambda^{A}\\right)^{2} \\mu^{4} + 6 \\lambda^{A} \\left(\\lambda^{o}\\right)^{5} + 18 \\lambda^{A} \\left(\\lambda^{o}\\right)^{4} \\mu + 30 \\lambda^{A} \\left(\\lambda^{o}\\right)^{3} \\mu^{2} + 30 \\lambda^{A} \\left(\\lambda^{o}\\right)^{2} \\mu^{3} + 18 \\lambda^{A} \\lambda^{o} \\mu^{4} + 6 \\lambda^{A} \\mu^{5} + \\left(\\lambda^{o}\\right)^{6} + 3 \\left(\\lambda^{o}\\right)^{5} \\mu + 6 \\left(\\lambda^{o}\\right)^{4} \\mu^{2} + 10 \\left(\\lambda^{o}\\right)^{3} \\mu^{3} + 6 \\left(\\lambda^{o}\\right)^{2} \\mu^{4} + 3 \\lambda^{o} \\mu^{5} + \\mu^{6}\\right)} & \\frac{\\lambda^{o} \\left(\\left(\\lambda^{A}\\right)^{6} + 6 \\left(\\lambda^{A}\\right)^{5} \\lambda^{o} + 7 \\left(\\lambda^{A}\\right)^{5} \\mu + 15 \\left(\\lambda^{A}\\right)^{4} \\left(\\lambda^{o}\\right)^{2} + 32 \\left(\\lambda^{A}\\right)^{4} \\lambda^{o} \\mu + 22 \\left(\\lambda^{A}\\right)^{4} \\mu^{2} + 20 \\left(\\lambda^{A}\\right)^{3} \\left(\\lambda^{o}\\right)^{3} + 58 \\left(\\lambda^{A}\\right)^{3} \\left(\\lambda^{o}\\right)^{2} \\mu + 73 \\left(\\lambda^{A}\\right)^{3} \\lambda^{o} \\mu^{2} + 40 \\left(\\lambda^{A}\\right)^{3} \\mu^{3} + 15 \\left(\\lambda^{A}\\right)^{2} \\left(\\lambda^{o}\\right)^{4} + 52 \\left(\\lambda^{A}\\right)^{2} \\left(\\lambda^{o}\\right)^{3} \\mu + 90 \\left(\\lambda^{A}\\right)^{2} \\left(\\lambda^{o}\\right)^{2} \\mu^{2} + 89 \\left(\\lambda^{A}\\right)^{2} \\lambda^{o} \\mu^{3} + 43 \\left(\\lambda^{A}\\right)^{2} \\mu^{4} + 6 \\lambda^{A} \\left(\\lambda^{o}\\right)^{5} + 23 \\lambda^{A} \\left(\\lambda^{o}\\right)^{4} \\mu + 49 \\lambda^{A} \\left(\\lambda^{o}\\right)^{3} \\mu^{2} + 66 \\lambda^{A} \\left(\\lambda^{o}\\right)^{2} \\mu^{3} + 57 \\lambda^{A} \\lambda^{o} \\mu^{4} + 25 \\lambda^{A} \\mu^{5} + \\left(\\lambda^{o}\\right)^{6} + 4 \\left(\\lambda^{o}\\right)^{5} \\mu + 10 \\left(\\lambda^{o}\\right)^{4} \\mu^{2} + 19 \\left(\\lambda^{o}\\right)^{3} \\mu^{3} + 20 \\left(\\lambda^{o}\\right)^{2} \\mu^{4} + 15 \\lambda^{o} \\mu^{5} + 6 \\mu^{6}\\right)}{\\mu \\left(\\left(\\lambda^{A}\\right)^{6} + 6 \\left(\\lambda^{A}\\right)^{5} \\lambda^{o} + 7 \\left(\\lambda^{A}\\right)^{5} \\mu + 15 \\left(\\lambda^{A}\\right)^{4} \\left(\\lambda^{o}\\right)^{2} + 32 \\left(\\lambda^{A}\\right)^{4} \\lambda^{o} \\mu + 21 \\left(\\lambda^{A}\\right)^{4} \\mu^{2} + 20 \\left(\\lambda^{A}\\right)^{3} \\left(\\lambda^{o}\\right)^{3} + 58 \\left(\\lambda^{A}\\right)^{3} \\left(\\lambda^{o}\\right)^{2} \\mu + 69 \\left(\\lambda^{A}\\right)^{3} \\lambda^{o} \\mu^{2} + 34 \\left(\\lambda^{A}\\right)^{3} \\mu^{3} + 15 \\left(\\lambda^{A}\\right)^{2} \\left(\\lambda^{o}\\right)^{4} + 52 \\left(\\lambda^{A}\\right)^{2} \\left(\\lambda^{o}\\right)^{3} \\mu + 84 \\left(\\lambda^{A}\\right)^{2} \\left(\\lambda^{o}\\right)^{2} \\mu^{2} + 74 \\left(\\lambda^{A}\\right)^{2} \\lambda^{o} \\mu^{3} + 31 \\left(\\lambda^{A}\\right)^{2} \\mu^{4} + 6 \\lambda^{A} \\left(\\lambda^{o}\\right)^{5} + 23 \\lambda^{A} \\left(\\lambda^{o}\\right)^{4} \\mu + 45 \\lambda^{A} \\left(\\lambda^{o}\\right)^{3} \\mu^{2} + 54 \\lambda^{A} \\left(\\lambda^{o}\\right)^{2} \\mu^{3} + 39 \\lambda^{A} \\lambda^{o} \\mu^{4} + 15 \\lambda^{A} \\mu^{5} + \\left(\\lambda^{o}\\right)^{6} + 4 \\left(\\lambda^{o}\\right)^{5} \\mu + 9 \\left(\\lambda^{o}\\right)^{4} \\mu^{2} + 16 \\left(\\lambda^{o}\\right)^{3} \\mu^{3} + 15 \\left(\\lambda^{o}\\right)^{2} \\mu^{4} + 8 \\lambda^{o} \\mu^{5} + 3 \\mu^{6}\\right)} & \\frac{\\lambda^{o} \\left(\\left(\\lambda^{A}\\right)^{6} + 6 \\left(\\lambda^{A}\\right)^{5} \\lambda^{o} + 7 \\left(\\lambda^{A}\\right)^{5} \\mu + 15 \\left(\\lambda^{A}\\right)^{4} \\left(\\lambda^{o}\\right)^{2} + 32 \\left(\\lambda^{A}\\right)^{4} \\lambda^{o} \\mu + 22 \\left(\\lambda^{A}\\right)^{4} \\mu^{2} + 20 \\left(\\lambda^{A}\\right)^{3} \\left(\\lambda^{o}\\right)^{3} + 58 \\left(\\lambda^{A}\\right)^{3} \\left(\\lambda^{o}\\right)^{2} \\mu + 73 \\left(\\lambda^{A}\\right)^{3} \\lambda^{o} \\mu^{2} + 41 \\left(\\lambda^{A}\\right)^{3} \\mu^{3} + 15 \\left(\\lambda^{A}\\right)^{2} \\left(\\lambda^{o}\\right)^{4} + 52 \\left(\\lambda^{A}\\right)^{2} \\left(\\lambda^{o}\\right)^{3} \\mu + 90 \\left(\\lambda^{A}\\right)^{2} \\left(\\lambda^{o}\\right)^{2} \\mu^{2} + 92 \\left(\\lambda^{A}\\right)^{2} \\lambda^{o} \\mu^{3} + 49 \\left(\\lambda^{A}\\right)^{2} \\mu^{4} + 6 \\lambda^{A} \\left(\\lambda^{o}\\right)^{5} + 23 \\lambda^{A} \\left(\\lambda^{o}\\right)^{4} \\mu + 49 \\lambda^{A} \\left(\\lambda^{o}\\right)^{3} \\mu^{2} + 69 \\lambda^{A} \\left(\\lambda^{o}\\right)^{2} \\mu^{3} + 65 \\lambda^{A} \\lambda^{o} \\mu^{4} + 34 \\lambda^{A} \\mu^{5} + \\left(\\lambda^{o}\\right)^{6} + 4 \\left(\\lambda^{o}\\right)^{5} \\mu + 10 \\left(\\lambda^{o}\\right)^{4} \\mu^{2} + 20 \\left(\\lambda^{o}\\right)^{3} \\mu^{3} + 22 \\left(\\lambda^{o}\\right)^{2} \\mu^{4} + 18 \\lambda^{o} \\mu^{5} + 10 \\mu^{6}\\right)}{\\mu \\left(\\left(\\lambda^{A}\\right)^{6} + 6 \\left(\\lambda^{A}\\right)^{5} \\lambda^{o} + 7 \\left(\\lambda^{A}\\right)^{5} \\mu + 15 \\left(\\lambda^{A}\\right)^{4} \\left(\\lambda^{o}\\right)^{2} + 32 \\left(\\lambda^{A}\\right)^{4} \\lambda^{o} \\mu + 22 \\left(\\lambda^{A}\\right)^{4} \\mu^{2} + 20 \\left(\\lambda^{A}\\right)^{3} \\left(\\lambda^{o}\\right)^{3} + 58 \\left(\\lambda^{A}\\right)^{3} \\left(\\lambda^{o}\\right)^{2} \\mu + 73 \\left(\\lambda^{A}\\right)^{3} \\lambda^{o} \\mu^{2} + 40 \\left(\\lambda^{A}\\right)^{3} \\mu^{3} + 15 \\left(\\lambda^{A}\\right)^{2} \\left(\\lambda^{o}\\right)^{4} + 52 \\left(\\lambda^{A}\\right)^{2} \\left(\\lambda^{o}\\right)^{3} \\mu + 90 \\left(\\lambda^{A}\\right)^{2} \\left(\\lambda^{o}\\right)^{2} \\mu^{2} + 89 \\left(\\lambda^{A}\\right)^{2} \\lambda^{o} \\mu^{3} + 43 \\left(\\lambda^{A}\\right)^{2} \\mu^{4} + 6 \\lambda^{A} \\left(\\lambda^{o}\\right)^{5} + 23 \\lambda^{A} \\left(\\lambda^{o}\\right)^{4} \\mu + 49 \\lambda^{A} \\left(\\lambda^{o}\\right)^{3} \\mu^{2} + 66 \\lambda^{A} \\left(\\lambda^{o}\\right)^{2} \\mu^{3} + 57 \\lambda^{A} \\lambda^{o} \\mu^{4} + 25 \\lambda^{A} \\mu^{5} + \\left(\\lambda^{o}\\right)^{6} + 4 \\left(\\lambda^{o}\\right)^{5} \\mu + 10 \\left(\\lambda^{o}\\right)^{4} \\mu^{2} + 19 \\left(\\lambda^{o}\\right)^{3} \\mu^{3} + 20 \\left(\\lambda^{o}\\right)^{2} \\mu^{4} + 15 \\lambda^{o} \\mu^{5} + 6 \\mu^{6}\\right)}\\end{matrix}\\right]$"
      ],
      "text/plain": [
       "Matrix([\n",
       "[1,                                                                                                                                                                                                                                                                                                                                                                                                                                                                                                                                                                                                                                                                                                                                                                                                                                                                                                                                                                          Lambda/mu,                                                                                                                                                                                                                                                                                                                                                                                                                                                                                                                                                                                                                                                                                                                                                                                                                                                                                                                                                                                                                                                                                                                                                                                                                                                                 lambda_1*(lambda_2**2 + lambda_2*lambda_1 + 2*lambda_2*mu + mu**2)/(lambda_2**3 + 2*lambda_2**2*lambda_1 + 3*lambda_2**2*mu + lambda_2*lambda_1**2 + 2*lambda_2*lambda_1*mu + 3*lambda_2*mu**2 + mu**3),                                                                                                                                                                                                                                                                                                                                                                                                                                                                                                                                                                                                                                                                                                                                                                                                                                                                                                                                                                                                                                                                                                                                                                                                                                                                                                                                                                                            lambda_1*(lambda_2 + mu)/(lambda_2**2 + lambda_2*lambda_1 + 2*lambda_2*mu + mu**2),                                                                                                                                                                                                                                                                                                                                                                                                                                                                                                                                                                                                                                                                                                                                                                                                                                                                                                                                                                                                                                                                                                                                                                                                                                                                                                                                                                                                                                                         lambda_1/(lambda_2 + mu)],\n",
       "[0,                                                                                                                                                                                                                                                                                                                                                                                                                                                                                                                                                                                                                                                                                                                            lambda_2*(lambda_2 + lambda_1 + mu)*(lambda_2**2 + 2*lambda_2*lambda_1 + 2*lambda_2*mu + lambda_1**2 + mu**2)/(mu*(lambda_2**3 + 2*lambda_2**2*lambda_1 + 3*lambda_2**2*mu + lambda_2*lambda_1**2 + 2*lambda_2*lambda_1*mu + 3*lambda_2*mu**2 + mu**3)),                                                                                                                                                                                                                                                                                                                                                                                                                                                                                                                                                                                                                                                                                                                                              lambda_1*(lambda_2**5 + 4*lambda_2**4*lambda_1 + 6*lambda_2**4*mu + 6*lambda_2**3*lambda_1**2 + 15*lambda_2**3*lambda_1*mu + 14*lambda_2**3*mu**2 + 4*lambda_2**2*lambda_1**3 + 12*lambda_2**2*lambda_1**2*mu + 20*lambda_2**2*lambda_1*mu**2 + 16*lambda_2**2*mu**3 + lambda_2*lambda_1**4 + 3*lambda_2*lambda_1**3*mu + 6*lambda_2*lambda_1**2*mu**2 + 11*lambda_2*lambda_1*mu**3 + 9*lambda_2*mu**4 + lambda_1**3*mu**2 + 2*lambda_1**2*mu**3 + 2*lambda_1*mu**4 + 2*mu**5)/((lambda_2 + lambda_1 + mu)*(lambda_2**2 + 2*lambda_2*lambda_1 + 2*lambda_2*mu + lambda_1**2 + mu**2)*(lambda_2**3 + 2*lambda_2**2*lambda_1 + 3*lambda_2**2*mu + lambda_2*lambda_1**2 + 2*lambda_2*lambda_1*mu + 3*lambda_2*mu**2 + mu**3)),                                                                                                                                                                                                                                                                                                                                                                                                                                                                                                                                                                                                                                                                                lambda_1*(lambda_2**4 + 3*lambda_2**3*lambda_1 + 6*lambda_2**3*mu + 3*lambda_2**2*lambda_1**2 + 9*lambda_2**2*lambda_1*mu + 12*lambda_2**2*mu**2 + lambda_2*lambda_1**3 + 4*lambda_2*lambda_1**2*mu + 9*lambda_2*lambda_1*mu**2 + 10*lambda_2*mu**3 + lambda_1**3*mu + 2*lambda_1**2*mu**2 + 3*lambda_1*mu**3 + 3*mu**4)/(lambda_2**5 + 4*lambda_2**4*lambda_1 + 6*lambda_2**4*mu + 6*lambda_2**3*lambda_1**2 + 15*lambda_2**3*lambda_1*mu + 14*lambda_2**3*mu**2 + 4*lambda_2**2*lambda_1**3 + 12*lambda_2**2*lambda_1**2*mu + 20*lambda_2**2*lambda_1*mu**2 + 16*lambda_2**2*mu**3 + lambda_2*lambda_1**4 + 3*lambda_2*lambda_1**3*mu + 6*lambda_2*lambda_1**2*mu**2 + 11*lambda_2*lambda_1*mu**3 + 9*lambda_2*mu**4 + lambda_1**3*mu**2 + 2*lambda_1**2*mu**3 + 2*lambda_1*mu**4 + 2*mu**5),                                                                                                                                                                                                                                                                                                                                                                                                                                                                                                                                                                                                                                                                                                                                                                                                                                                                                                                                                            lambda_1*(lambda_2**3 + 3*lambda_2**2*lambda_1 + 6*lambda_2**2*mu + 3*lambda_2*lambda_1**2 + 8*lambda_2*lambda_1*mu + 9*lambda_2*mu**2 + lambda_1**3 + 2*lambda_1**2*mu + 3*lambda_1*mu**2 + 4*mu**3)/(lambda_2**4 + 3*lambda_2**3*lambda_1 + 6*lambda_2**3*mu + 3*lambda_2**2*lambda_1**2 + 9*lambda_2**2*lambda_1*mu + 12*lambda_2**2*mu**2 + lambda_2*lambda_1**3 + 4*lambda_2*lambda_1**2*mu + 9*lambda_2*lambda_1*mu**2 + 10*lambda_2*mu**3 + lambda_1**3*mu + 2*lambda_1**2*mu**2 + 3*lambda_1*mu**3 + 3*mu**4)],\n",
       "[0, lambda_2*(lambda_2**6 + 6*lambda_2**5*lambda_1 + 6*lambda_2**5*mu + 15*lambda_2**4*lambda_1**2 + 27*lambda_2**4*lambda_1*mu + 15*lambda_2**4*mu**2 + 20*lambda_2**3*lambda_1**3 + 48*lambda_2**3*lambda_1**2*mu + 48*lambda_2**3*lambda_1*mu**2 + 20*lambda_2**3*mu**3 + 15*lambda_2**2*lambda_1**4 + 42*lambda_2**2*lambda_1**3*mu + 57*lambda_2**2*lambda_1**2*mu**2 + 42*lambda_2**2*lambda_1*mu**3 + 15*lambda_2**2*mu**4 + 6*lambda_2*lambda_1**5 + 18*lambda_2*lambda_1**4*mu + 30*lambda_2*lambda_1**3*mu**2 + 30*lambda_2*lambda_1**2*mu**3 + 18*lambda_2*lambda_1*mu**4 + 6*lambda_2*mu**5 + lambda_1**6 + 3*lambda_1**5*mu + 6*lambda_1**4*mu**2 + 10*lambda_1**3*mu**3 + 6*lambda_1**2*mu**4 + 3*lambda_1*mu**5 + mu**6)/(mu*(lambda_2 + lambda_1 + mu)*(lambda_2**2 + 2*lambda_2*lambda_1 + 2*lambda_2*mu + lambda_1**2 + mu**2)*(lambda_2**3 + 2*lambda_2**2*lambda_1 + 3*lambda_2**2*mu + lambda_2*lambda_1**2 + 2*lambda_2*lambda_1*mu + 3*lambda_2*mu**2 + mu**3)), lambda_1*(lambda_2**6 + 6*lambda_2**5*lambda_1 + 7*lambda_2**5*mu + 15*lambda_2**4*lambda_1**2 + 32*lambda_2**4*lambda_1*mu + 21*lambda_2**4*mu**2 + 20*lambda_2**3*lambda_1**3 + 58*lambda_2**3*lambda_1**2*mu + 69*lambda_2**3*lambda_1*mu**2 + 34*lambda_2**3*mu**3 + 15*lambda_2**2*lambda_1**4 + 52*lambda_2**2*lambda_1**3*mu + 84*lambda_2**2*lambda_1**2*mu**2 + 74*lambda_2**2*lambda_1*mu**3 + 31*lambda_2**2*mu**4 + 6*lambda_2*lambda_1**5 + 23*lambda_2*lambda_1**4*mu + 45*lambda_2*lambda_1**3*mu**2 + 54*lambda_2*lambda_1**2*mu**3 + 39*lambda_2*lambda_1*mu**4 + 15*lambda_2*mu**5 + lambda_1**6 + 4*lambda_1**5*mu + 9*lambda_1**4*mu**2 + 16*lambda_1**3*mu**3 + 15*lambda_1**2*mu**4 + 8*lambda_1*mu**5 + 3*mu**6)/(mu*(lambda_2**6 + 6*lambda_2**5*lambda_1 + 6*lambda_2**5*mu + 15*lambda_2**4*lambda_1**2 + 27*lambda_2**4*lambda_1*mu + 15*lambda_2**4*mu**2 + 20*lambda_2**3*lambda_1**3 + 48*lambda_2**3*lambda_1**2*mu + 48*lambda_2**3*lambda_1*mu**2 + 20*lambda_2**3*mu**3 + 15*lambda_2**2*lambda_1**4 + 42*lambda_2**2*lambda_1**3*mu + 57*lambda_2**2*lambda_1**2*mu**2 + 42*lambda_2**2*lambda_1*mu**3 + 15*lambda_2**2*mu**4 + 6*lambda_2*lambda_1**5 + 18*lambda_2*lambda_1**4*mu + 30*lambda_2*lambda_1**3*mu**2 + 30*lambda_2*lambda_1**2*mu**3 + 18*lambda_2*lambda_1*mu**4 + 6*lambda_2*mu**5 + lambda_1**6 + 3*lambda_1**5*mu + 6*lambda_1**4*mu**2 + 10*lambda_1**3*mu**3 + 6*lambda_1**2*mu**4 + 3*lambda_1*mu**5 + mu**6)), lambda_1*(lambda_2**6 + 6*lambda_2**5*lambda_1 + 7*lambda_2**5*mu + 15*lambda_2**4*lambda_1**2 + 32*lambda_2**4*lambda_1*mu + 22*lambda_2**4*mu**2 + 20*lambda_2**3*lambda_1**3 + 58*lambda_2**3*lambda_1**2*mu + 73*lambda_2**3*lambda_1*mu**2 + 40*lambda_2**3*mu**3 + 15*lambda_2**2*lambda_1**4 + 52*lambda_2**2*lambda_1**3*mu + 90*lambda_2**2*lambda_1**2*mu**2 + 89*lambda_2**2*lambda_1*mu**3 + 43*lambda_2**2*mu**4 + 6*lambda_2*lambda_1**5 + 23*lambda_2*lambda_1**4*mu + 49*lambda_2*lambda_1**3*mu**2 + 66*lambda_2*lambda_1**2*mu**3 + 57*lambda_2*lambda_1*mu**4 + 25*lambda_2*mu**5 + lambda_1**6 + 4*lambda_1**5*mu + 10*lambda_1**4*mu**2 + 19*lambda_1**3*mu**3 + 20*lambda_1**2*mu**4 + 15*lambda_1*mu**5 + 6*mu**6)/(mu*(lambda_2**6 + 6*lambda_2**5*lambda_1 + 7*lambda_2**5*mu + 15*lambda_2**4*lambda_1**2 + 32*lambda_2**4*lambda_1*mu + 21*lambda_2**4*mu**2 + 20*lambda_2**3*lambda_1**3 + 58*lambda_2**3*lambda_1**2*mu + 69*lambda_2**3*lambda_1*mu**2 + 34*lambda_2**3*mu**3 + 15*lambda_2**2*lambda_1**4 + 52*lambda_2**2*lambda_1**3*mu + 84*lambda_2**2*lambda_1**2*mu**2 + 74*lambda_2**2*lambda_1*mu**3 + 31*lambda_2**2*mu**4 + 6*lambda_2*lambda_1**5 + 23*lambda_2*lambda_1**4*mu + 45*lambda_2*lambda_1**3*mu**2 + 54*lambda_2*lambda_1**2*mu**3 + 39*lambda_2*lambda_1*mu**4 + 15*lambda_2*mu**5 + lambda_1**6 + 4*lambda_1**5*mu + 9*lambda_1**4*mu**2 + 16*lambda_1**3*mu**3 + 15*lambda_1**2*mu**4 + 8*lambda_1*mu**5 + 3*mu**6)), lambda_1*(lambda_2**6 + 6*lambda_2**5*lambda_1 + 7*lambda_2**5*mu + 15*lambda_2**4*lambda_1**2 + 32*lambda_2**4*lambda_1*mu + 22*lambda_2**4*mu**2 + 20*lambda_2**3*lambda_1**3 + 58*lambda_2**3*lambda_1**2*mu + 73*lambda_2**3*lambda_1*mu**2 + 41*lambda_2**3*mu**3 + 15*lambda_2**2*lambda_1**4 + 52*lambda_2**2*lambda_1**3*mu + 90*lambda_2**2*lambda_1**2*mu**2 + 92*lambda_2**2*lambda_1*mu**3 + 49*lambda_2**2*mu**4 + 6*lambda_2*lambda_1**5 + 23*lambda_2*lambda_1**4*mu + 49*lambda_2*lambda_1**3*mu**2 + 69*lambda_2*lambda_1**2*mu**3 + 65*lambda_2*lambda_1*mu**4 + 34*lambda_2*mu**5 + lambda_1**6 + 4*lambda_1**5*mu + 10*lambda_1**4*mu**2 + 20*lambda_1**3*mu**3 + 22*lambda_1**2*mu**4 + 18*lambda_1*mu**5 + 10*mu**6)/(mu*(lambda_2**6 + 6*lambda_2**5*lambda_1 + 7*lambda_2**5*mu + 15*lambda_2**4*lambda_1**2 + 32*lambda_2**4*lambda_1*mu + 22*lambda_2**4*mu**2 + 20*lambda_2**3*lambda_1**3 + 58*lambda_2**3*lambda_1**2*mu + 73*lambda_2**3*lambda_1*mu**2 + 40*lambda_2**3*mu**3 + 15*lambda_2**2*lambda_1**4 + 52*lambda_2**2*lambda_1**3*mu + 90*lambda_2**2*lambda_1**2*mu**2 + 89*lambda_2**2*lambda_1*mu**3 + 43*lambda_2**2*mu**4 + 6*lambda_2*lambda_1**5 + 23*lambda_2*lambda_1**4*mu + 49*lambda_2*lambda_1**3*mu**2 + 66*lambda_2*lambda_1**2*mu**3 + 57*lambda_2*lambda_1*mu**4 + 25*lambda_2*mu**5 + lambda_1**6 + 4*lambda_1**5*mu + 10*lambda_1**4*mu**2 + 19*lambda_1**3*mu**3 + 20*lambda_1**2*mu**4 + 15*lambda_1*mu**5 + 6*mu**6))]])"
      ]
     },
     "execution_count": 21,
     "metadata": {},
     "output_type": "execute_result"
    }
   ],
   "source": [
    "sym_state_recursive_ratios_right_1142"
   ]
  },
  {
   "cell_type": "code",
   "execution_count": null,
   "metadata": {},
   "outputs": [],
   "source": []
  },
  {
   "cell_type": "code",
   "execution_count": null,
   "metadata": {},
   "outputs": [],
   "source": []
  },
  {
   "cell_type": "markdown",
   "metadata": {},
   "source": [
    "# $P_0$ rate"
   ]
  },
  {
   "cell_type": "markdown",
   "metadata": {},
   "source": [
    "## $C=1, T=2, N=2, M=2$"
   ]
  },
  {
   "cell_type": "code",
   "execution_count": 63,
   "metadata": {},
   "outputs": [
    {
     "data": {
      "text/latex": [
       "$\\displaystyle \\mu^{4}$"
      ],
      "text/plain": [
       " 4\n",
       "μ "
      ]
     },
     "execution_count": 63,
     "metadata": {},
     "output_type": "execute_result"
    }
   ],
   "source": [
    "sym.factor(sym.fraction(sym_state_probs_1222[0])[0])"
   ]
  },
  {
   "cell_type": "markdown",
   "metadata": {},
   "source": [
    "## $C=1, T=1, N=2, M=1$"
   ]
  },
  {
   "cell_type": "code",
   "execution_count": 64,
   "metadata": {},
   "outputs": [
    {
     "data": {
      "text/latex": [
       "$\\displaystyle \\mu^{3} \\left(\\lambda^{A} + \\mu\\right)$"
      ],
      "text/plain": [
       " 3           \n",
       "μ ⋅(λ__A + μ)"
      ]
     },
     "execution_count": 64,
     "metadata": {},
     "output_type": "execute_result"
    }
   ],
   "source": [
    "sym.factor(sym.fraction(sym_state_probs_1121[0])[0])"
   ]
  },
  {
   "cell_type": "markdown",
   "metadata": {},
   "source": [
    "## $C=1, T=3, N=4, M=1$"
   ]
  },
  {
   "cell_type": "code",
   "execution_count": 65,
   "metadata": {},
   "outputs": [
    {
     "data": {
      "text/latex": [
       "$\\displaystyle \\mu^{5} \\left(\\lambda^{A} + \\mu\\right)$"
      ],
      "text/plain": [
       " 5           \n",
       "μ ⋅(λ__A + μ)"
      ]
     },
     "execution_count": 65,
     "metadata": {},
     "output_type": "execute_result"
    }
   ],
   "source": [
    "sym.factor(sym.fraction(sym_state_probs_1341[0])[0])"
   ]
  },
  {
   "cell_type": "markdown",
   "metadata": {},
   "source": [
    "## $C=1, T=1, N=2, M=2$"
   ]
  },
  {
   "cell_type": "code",
   "execution_count": 66,
   "metadata": {},
   "outputs": [
    {
     "data": {
      "text/latex": [
       "$\\displaystyle \\mu^{4} \\left(\\lambda^{A} + \\mu\\right)^{2}$"
      ],
      "text/plain": [
       " 4           2\n",
       "μ ⋅(λ__A + μ) "
      ]
     },
     "execution_count": 66,
     "metadata": {},
     "output_type": "execute_result"
    }
   ],
   "source": [
    "sym.factor(sym.fraction(sym_state_probs_1122[0])[0])"
   ]
  },
  {
   "cell_type": "markdown",
   "metadata": {},
   "source": [
    "## $C=1, T=1, N=3, M=1$"
   ]
  },
  {
   "cell_type": "code",
   "execution_count": 61,
   "metadata": {},
   "outputs": [
    {
     "data": {
      "text/latex": [
       "$\\displaystyle \\mu^{4} \\left(\\left(\\lambda^{A}\\right)^{2} + \\lambda^{A} \\lambda^{o} + 2 \\lambda^{A} \\mu + \\mu^{2}\\right)$"
      ],
      "text/plain": [
       " 4 ⎛    2                           2⎞\n",
       "μ ⋅⎝λ__A  + λ__A⋅λ__o + 2⋅λ__A⋅μ + μ ⎠"
      ]
     },
     "execution_count": 61,
     "metadata": {},
     "output_type": "execute_result"
    }
   ],
   "source": [
    "sym.factor(sym.fraction(sym_state_probs_1131[0])[0])"
   ]
  },
  {
   "cell_type": "markdown",
   "metadata": {},
   "source": [
    "## $C=1, T=1, N=3, M=2$"
   ]
  },
  {
   "cell_type": "code",
   "execution_count": 15,
   "metadata": {},
   "outputs": [
    {
     "data": {
      "text/latex": [
       "$\\displaystyle \\mu^{5} \\left(\\left(\\lambda^{A}\\right)^{2} + \\lambda^{A} \\lambda^{o} + 2 \\lambda^{A} \\mu + \\mu^{2}\\right)^{2}$"
      ],
      "text/plain": [
       "mu**5*(lambda_2**2 + lambda_2*lambda_1 + 2*lambda_2*mu + mu**2)**2"
      ]
     },
     "execution_count": 15,
     "metadata": {},
     "output_type": "execute_result"
    }
   ],
   "source": [
    "sym.factor(sym.fraction(sym_state_probs_1132[p00])[0])"
   ]
  },
  {
   "cell_type": "markdown",
   "metadata": {},
   "source": [
    "## $C=1, T=1, N=4, M=1$"
   ]
  },
  {
   "cell_type": "code",
   "execution_count": 41,
   "metadata": {},
   "outputs": [
    {
     "data": {
      "text/latex": [
       "$\\displaystyle \\mu^{5} \\left(\\left(\\lambda^{A}\\right)^{3} + 2 \\left(\\lambda^{A}\\right)^{2} \\lambda^{o} + 3 \\left(\\lambda^{A}\\right)^{2} \\mu + \\lambda^{A} \\left(\\lambda^{o}\\right)^{2} + 2 \\lambda^{A} \\lambda^{o} \\mu + 3 \\lambda^{A} \\mu^{2} + \\mu^{3}\\right)$"
      ],
      "text/plain": [
       "mu**5*(lambda_2**3 + 2*lambda_2**2*lambda_1 + 3*lambda_2**2*mu + lambda_2*lambda_1**2 + 2*lambda_2*lambda_1*mu + 3*lambda_2*mu**2 + mu**3)"
      ]
     },
     "execution_count": 41,
     "metadata": {},
     "output_type": "execute_result"
    }
   ],
   "source": [
    "sym.factor(sym.fraction(sym_state_probs_1141[p00])[0])"
   ]
  },
  {
   "cell_type": "markdown",
   "metadata": {},
   "source": [
    "## $C=1, T=1, N=4, M=2$"
   ]
  },
  {
   "cell_type": "code",
   "execution_count": 22,
   "metadata": {},
   "outputs": [
    {
     "data": {
      "text/latex": [
       "$\\displaystyle \\mu^{6} \\left(\\left(\\lambda^{A}\\right)^{3} + 2 \\left(\\lambda^{A}\\right)^{2} \\lambda^{o} + 3 \\left(\\lambda^{A}\\right)^{2} \\mu + \\lambda^{A} \\left(\\lambda^{o}\\right)^{2} + 2 \\lambda^{A} \\lambda^{o} \\mu + 3 \\lambda^{A} \\mu^{2} + \\mu^{3}\\right)^{2}$"
      ],
      "text/plain": [
       "mu**6*(lambda_2**3 + 2*lambda_2**2*lambda_1 + 3*lambda_2**2*mu + lambda_2*lambda_1**2 + 2*lambda_2*lambda_1*mu + 3*lambda_2*mu**2 + mu**3)**2"
      ]
     },
     "execution_count": 22,
     "metadata": {},
     "output_type": "execute_result"
    }
   ],
   "source": [
    "sym.factor(sym.fraction(sym_state_probs_1142[p00])[0])"
   ]
  },
  {
   "cell_type": "code",
   "execution_count": null,
   "metadata": {},
   "outputs": [],
   "source": []
  }
 ],
 "metadata": {
  "kernelspec": {
   "display_name": "Python 3",
   "language": "python",
   "name": "python3"
  },
  "language_info": {
   "codemirror_mode": {
    "name": "ipython",
    "version": 3
   },
   "file_extension": ".py",
   "mimetype": "text/x-python",
   "name": "python",
   "nbconvert_exporter": "python",
   "pygments_lexer": "ipython3",
   "version": "3.7.3"
  }
 },
 "nbformat": 4,
 "nbformat_minor": 4
}