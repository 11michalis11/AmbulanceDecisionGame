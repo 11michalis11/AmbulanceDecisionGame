{
 "cells": [
  {
   "cell_type": "code",
   "execution_count": 1,
   "metadata": {},
   "outputs": [],
   "source": [
    "import ambulance_game as abg\n",
    "import numpy as np\n",
    "import math\n",
    "import matplotlib.pyplot as plt"
   ]
  },
  {
   "cell_type": "markdown",
   "metadata": {},
   "source": [
    "## Waiting time from state probabilities"
   ]
  },
  {
   "cell_type": "markdown",
   "metadata": {},
   "source": [
    "##### Theoretical waiting times (for inifinite queue size and infinite threshold)"
   ]
  },
  {
   "cell_type": "code",
   "execution_count": 2,
   "metadata": {},
   "outputs": [],
   "source": [
    "def probability_no_people_in_the_system(traffic_intensity, num_of_servers):\n",
    "    denominator = 0\n",
    "    for i in range(num_of_servers):\n",
    "        denominator += ((num_of_servers * traffic_intensity) ** i) / math.factorial(i)\n",
    "    denominator += ((num_of_servers * traffic_intensity) ** num_of_servers) / (math.factorial(num_of_servers) * (1 - traffic_intensity))\n",
    "    return 1 / denominator"
   ]
  },
  {
   "cell_type": "code",
   "execution_count": 3,
   "metadata": {},
   "outputs": [],
   "source": [
    "def get_theoretical_waiting_time(Lambda, mu, num_of_servers):\n",
    "    traffic_intensity = Lambda / (num_of_servers * mu)\n",
    "    prob_0 = probability_no_people_in_the_system(traffic_intensity, num_of_servers)\n",
    "\n",
    "    wait = ((num_of_servers * traffic_intensity) ** num_of_servers) / (math.factorial(num_of_servers) * mu * num_of_servers * (1 - traffic_intensity) ** 2)\n",
    "    wait *= prob_0\n",
    "    \n",
    "    return wait"
   ]
  },
  {
   "cell_type": "markdown",
   "metadata": {},
   "source": [
    "###### Waiting times from simulated state probabiliteis - Considering only other arrivals"
   ]
  },
  {
   "cell_type": "markdown",
   "metadata": {},
   "source": [
    "*Waiting States:*"
   ]
  },
  {
   "cell_type": "markdown",
   "metadata": {},
   "source": [
    "$$ S_w = \\{ (u,v) \\in S \\; | \\; v \\geq C \\} $$"
   ]
  },
  {
   "cell_type": "code",
   "execution_count": 4,
   "metadata": {},
   "outputs": [],
   "source": [
    "def is_waiting_state(state, num_of_servers):\n",
    "    return (True if state[1] >= num_of_servers else False)"
   ]
  },
  {
   "cell_type": "markdown",
   "metadata": {},
   "source": [
    "*Accepting States (for other arrivals):*"
   ]
  },
  {
   "cell_type": "markdown",
   "metadata": {},
   "source": [
    "$$ S_A = \\{ (u,v) \\in S \\; | \\; v < M \\} $$"
   ]
  },
  {
   "cell_type": "code",
   "execution_count": 343,
   "metadata": {},
   "outputs": [],
   "source": [
    "def is_accepting_state_other(state, system_capacity):\n",
    "    return (True if state[1] < system_capacity else False)"
   ]
  },
  {
   "cell_type": "markdown",
   "metadata": {},
   "source": [
    "*Expected waiting time in a state (when ignoring arrivals):*"
   ]
  },
  {
   "cell_type": "markdown",
   "metadata": {},
   "source": [
    "$$ c(u,v) = \\frac{1}{min(v,C) \\mu} $$"
   ]
  },
  {
   "cell_type": "code",
   "execution_count": 236,
   "metadata": {},
   "outputs": [],
   "source": [
    "def expected_time_in_markov_state_ignoring_arrivals(state, num_of_servers, mu):\n",
    "    return 1 / (min(state[1], num_of_servers) * mu)"
   ]
  },
  {
   "cell_type": "markdown",
   "metadata": {},
   "source": [
    "*Probability of a transition at state (u,v) being a service:*"
   ]
  },
  {
   "cell_type": "markdown",
   "metadata": {},
   "source": [
    "$$ P_s(u,v) = \\frac{\\text{min}(v,C)\\mu}{\\text{min}(1, N - v)\\lambda^o + \\text{ min}(1, M - u)\\lambda_A + \\text{ min}(v,C)\\mu} $$"
   ]
  },
  {
   "cell_type": "markdown",
   "metadata": {},
   "source": [
    "$$ P_s(u,v) = 1 $$"
   ]
  },
  {
   "cell_type": "code",
   "execution_count": 405,
   "metadata": {},
   "outputs": [],
   "source": [
    "def probability_of_service(state, lambda_a, lambda_o, mu, num_of_servers, system_capacity, parking_capacity):\n",
    "    \n",
    "    return 1\n",
    "    ambulance_rate = min(1, parking_capacity - state[0]) * lambda_a\n",
    "    others_rate = min(1, system_capacity - state[1]) * lambda_o\n",
    "    service_rate = min(state[1], num_of_servers) * mu\n",
    "    total_rate = ambulance_rate + others_rate + service_rate\n",
    "\n",
    "    return service_rate / total_rate"
   ]
  },
  {
   "cell_type": "markdown",
   "metadata": {},
   "source": [
    "*Waiting time of an individual when arriving at state (u,v):*"
   ]
  },
  {
   "cell_type": "markdown",
   "metadata": {},
   "source": [
    "$$ \n",
    "w(u,v) = \n",
    "\\begin{cases} \n",
    "    0, \\hspace{4.85cm} \\textbf{if } v < C \\\\\n",
    "    c(u,v) + P_s w(u-1, v), \\hspace{1cm} \\textbf{if } u \\geq 1 \\textbf{ and } v = t \\\\\n",
    "    c(u,v) + P_s w(u, v-1), \\hspace{1cm} \\textbf{otherwise} \\\\\n",
    "\\end{cases}\n",
    "$$"
   ]
  },
  {
   "cell_type": "code",
   "execution_count": 406,
   "metadata": {},
   "outputs": [],
   "source": [
    "def get_recursive_waiting_time(state, lambda_a, lambda_o, mu, num_of_servers, threshold, system_capacity, parking_capacity):\n",
    "    if not is_waiting_state(state, num_of_servers):\n",
    "        return 0\n",
    "    wait = expected_time_in_markov_state_ignoring_arrivals(state, num_of_servers, mu)\n",
    "    if state[0] >= 1 and state[1] == threshold:\n",
    "        wait += probability_of_service(state, lambda_a, lambda_o, mu, num_of_servers, system_capacity, parking_capacity) * get_recursive_waiting_time((state[0] - 1, state[1]), lambda_a, lambda_o, mu, num_of_servers, threshold, system_capacity, parking_capacity)\n",
    "        return wait\n",
    "    \n",
    "    wait += probability_of_service(state, lambda_a, lambda_o, mu, num_of_servers, system_capacity, parking_capacity) * get_recursive_waiting_time((state[0], state[1] - 1), lambda_a, lambda_o, mu, num_of_servers, threshold, system_capacity, parking_capacity)\n",
    "    return wait"
   ]
  },
  {
   "cell_type": "markdown",
   "metadata": {},
   "source": [
    "*Mean Waiting Time:*"
   ]
  },
  {
   "cell_type": "markdown",
   "metadata": {},
   "source": [
    "$$ W = \\frac{\\sum_{(u,v) \\in S_A} \\pi_{(u,v)} \\; w(u,v)}{\\sum_{(u,v) \\in S_A} \\pi_{(u,v)}} $$"
   ]
  },
  {
   "cell_type": "code",
   "execution_count": 411,
   "metadata": {},
   "outputs": [],
   "source": [
    "def mean_waiting_time_formula(all_states, pi, lambda_a, lambda_o, mu, num_of_servers, threshold, system_capacity, parking_capacity):\n",
    "    mean_waiting_time = 0\n",
    "    probability_of_accepting = 0\n",
    "    for u, v in all_states:\n",
    "        if is_accepting_state_other((u,v), system_capacity):\n",
    "            current_state_wait = get_recursive_waiting_time((u,v), lambda_a, lambda_o, mu, num_of_servers, threshold, system_capacity, parking_capacity)\n",
    "            mean_waiting_time += current_state_wait * pi[u,v]\n",
    "            probability_of_accepting += pi[u,v]\n",
    "#             print((u,v), current_state_wait, pi[u,v])\n",
    "    mean_waiting_time /= probability_of_accepting\n",
    "    return mean_waiting_time"
   ]
  },
  {
   "cell_type": "markdown",
   "metadata": {},
   "source": [
    "*Main function:*"
   ]
  },
  {
   "cell_type": "code",
   "execution_count": 228,
   "metadata": {},
   "outputs": [],
   "source": [
    "def get_mean_waiting_time_simulation(lambda_a, lambda_o, mu, num_of_servers, threshold, system_capacity, parking_capacity, seed_num, num_of_trials):\n",
    "    state_probabilities = abg.simulation.get_average_simulated_state_probabilities(lambda_a, lambda_o, mu, num_of_servers, threshold, system_capacity, parking_capacity, seed_num=seed_num, num_of_trials=num_of_trials)\n",
    "    all_states = [(u,v) for v in range(state_probabilities.shape[1]) for u in range(state_probabilities.shape[0]) if state_probabilities[u,v] > 0]\n",
    "    mean_waiting_time = mean_waiting_time_formula(all_states, state_probabilities, lambda_a, lambda_o, mu, num_of_servers, threshold, system_capacity, parking_capacity)\n",
    "    return mean_waiting_time"
   ]
  },
  {
   "cell_type": "markdown",
   "metadata": {},
   "source": [
    "###### Waiting times from markov state probabiliteis"
   ]
  },
  {
   "cell_type": "code",
   "execution_count": 229,
   "metadata": {},
   "outputs": [],
   "source": [
    "def get_mean_waiting_time_markov(lambda_a, lambda_o, mu, num_of_servers, threshold, system_capacity, parking_capacity):\n",
    "    transition_matrix = abg.markov.get_transition_matrix(lambda_a, lambda_o, mu, num_of_servers, threshold, system_capacity, parking_capacity)\n",
    "    pi = abg.markov.get_steady_state_algebraically(transition_matrix, algebraic_function=np.linalg.solve)\n",
    "    all_states = abg.markov.build_states(threshold, system_capacity, parking_capacity)\n",
    "    state_probabilities = abg.markov.get_markov_state_probabilities(pi, all_states, output=np.ndarray)\n",
    "    mean_waiting_time = mean_waiting_time_formula(all_states, state_probabilities, lambda_a, lambda_o, mu, num_of_servers, threshold, system_capacity, parking_capacity)\n",
    "    return mean_waiting_time"
   ]
  },
  {
   "cell_type": "markdown",
   "metadata": {},
   "source": [
    "## Comparing Results"
   ]
  },
  {
   "cell_type": "code",
   "execution_count": 396,
   "metadata": {},
   "outputs": [],
   "source": [
    "lambda_a = 0.0001\n",
    "lambda_o = 0.3\n",
    "mu = 0.4\n",
    "num_of_servers = 1\n",
    "threshold = 2\n",
    "system_capacity = 5\n",
    "parking_capacity = 0\n",
    "\n",
    "num_of_trials = 10\n",
    "seed_num = 0\n",
    "runtime = 10000"
   ]
  },
  {
   "cell_type": "code",
   "execution_count": 397,
   "metadata": {},
   "outputs": [
    {
     "data": {
      "image/png": "[encoded data removed]",
      "text/plain": [
       "<Figure size 1440x720 with 6 Axes>"
      ]
     },
     "metadata": {
      "needs_background": "light"
     },
     "output_type": "display_data"
    }
   ],
   "source": [
    "plt.figure(figsize=(20,10))\n",
    "abg.get_heatmaps(lambda_a=lambda_a, lambda_o=lambda_o, mu=mu, num_of_servers=num_of_servers, threshold=threshold, system_capacity=system_capacity, parking_capacity=parking_capacity, seed_num=seed_num, runtime=runtime, num_of_trials=num_of_trials)"
   ]
  },
  {
   "cell_type": "markdown",
   "metadata": {},
   "source": [
    "##### Simulated waiting time"
   ]
  },
  {
   "cell_type": "code",
   "execution_count": 407,
   "metadata": {},
   "outputs": [
    {
     "name": "stdout",
     "output_type": "stream",
     "text": [
      "4.277067209302156\n"
     ]
    }
   ],
   "source": [
    "times = abg.simulation.get_multiple_runs_results(lambda_a, lambda_o, mu, num_of_servers, threshold, num_of_trials=num_of_trials, seed_num=seed_num, runtime=runtime, system_capacity=system_capacity, parking_capacity=parking_capacity)\n",
    "mean_waiting_time = np.mean([np.mean(w.waiting_times) for w in times])\n",
    "print(mean_waiting_time)"
   ]
  },
  {
   "cell_type": "markdown",
   "metadata": {},
   "source": [
    "##### Waiting time from simulated state probabilities"
   ]
  },
  {
   "cell_type": "code",
   "execution_count": 408,
   "metadata": {},
   "outputs": [
    {
     "name": "stdout",
     "output_type": "stream",
     "text": [
      "(0, 0) 0 0.28454200555261316\n",
      "(0, 1) 2.5 0.2205021079974403\n",
      "(0, 2) 5.0 0.1655702025084607\n",
      "(0, 3) 7.5 0.1263300007544721\n",
      "(0, 4) 10.0 0.08862574476629602\n",
      "(0, 5) 12.5 0.06326048275210369\n",
      "0.9488305443313859\n"
     ]
    },
    {
     "data": {
      "text/plain": [
       "4.219504519724247"
      ]
     },
     "execution_count": 408,
     "metadata": {},
     "output_type": "execute_result"
    }
   ],
   "source": [
    "get_mean_waiting_time_simulation(lambda_a, lambda_o, mu, num_of_servers, threshold, system_capacity, parking_capacity, seed_num=seed_num, num_of_trials=num_of_trials)"
   ]
  },
  {
   "cell_type": "markdown",
   "metadata": {},
   "source": [
    "###### Waiting time from markov state probabilities"
   ]
  },
  {
   "cell_type": "code",
   "execution_count": 409,
   "metadata": {},
   "outputs": [
    {
     "name": "stdout",
     "output_type": "stream",
     "text": [
      "(0, 0) 0 0.28839564947555774\n",
      "(0, 1) 2.5 0.21636883601903723\n",
      "(0, 2) 5.0 0.16233071922328263\n",
      "(0, 3) 7.5 0.12174803941746198\n",
      "(0, 4) 10.0 0.09131102956309647\n",
      "(0, 5) 12.5 0.06848327217232232\n",
      "0.9486375458707582\n"
     ]
    },
    {
     "data": {
      "text/plain": [
       "4.253296949022159"
      ]
     },
     "execution_count": 409,
     "metadata": {},
     "output_type": "execute_result"
    }
   ],
   "source": [
    "get_mean_waiting_time_markov(lambda_a, lambda_o, mu, num_of_servers, threshold, system_capacity, parking_capacity)"
   ]
  },
  {
   "cell_type": "code",
   "execution_count": null,
   "metadata": {},
   "outputs": [],
   "source": []
  },
  {
   "cell_type": "code",
   "execution_count": null,
   "metadata": {},
   "outputs": [],
   "source": []
  },
  {
   "cell_type": "code",
   "execution_count": null,
   "metadata": {},
   "outputs": [],
   "source": []
  },
  {
   "cell_type": "code",
   "execution_count": 418,
   "metadata": {},
   "outputs": [],
   "source": [
    "all_times_sim = []\n",
    "all_mean_times_sim = []\n",
    "all_mean_times_markov = []\n",
    "min_sys_cap = 1\n",
    "max_sys_cap = 10\n",
    "sys_cap_space = np.linspace(min_sys_cap, max_sys_cap, max_sys_cap - min_sys_cap + 1, dtype=int)\n",
    "for system_capacity in sys_cap_space:\n",
    "    system_capacity = int(system_capacity)\n",
    "\n",
    "    times = abg.simulation.get_multiple_runs_results(lambda_a, lambda_o, mu, num_of_servers, threshold, num_of_trials=num_of_trials, seed_num=seed_num, runtime=runtime, system_capacity=system_capacity, parking_capacity=parking_capacity)\n",
    "    simulation_waiting_times = [np.mean(w.waiting_times) for w in times]\n",
    "    \n",
    "    mean_waiting_time_sim = get_mean_waiting_time_simulation(lambda_a, lambda_o, mu, num_of_servers, threshold, system_capacity, parking_capacity, seed_num=seed_num, num_of_trials=num_of_trials)\n",
    "    mean_waiting_time_markov = get_mean_waiting_time_markov(lambda_a, lambda_o, mu, num_of_servers, threshold, system_capacity, parking_capacity)\n",
    "    \n",
    "    all_times_sim.append(simulation_waiting_times)\n",
    "    all_mean_times_sim.append(mean_waiting_time_sim)\n",
    "    all_mean_times_markov.append(mean_waiting_time_markov)"
   ]
  },
  {
   "cell_type": "code",
   "execution_count": 422,
   "metadata": {},
   "outputs": [
    {
     "data": {
      "image/png": "[encoded data removed]",
      "text/plain": [
       "<Figure size 1440x720 with 1 Axes>"
      ]
     },
     "metadata": {
      "needs_background": "light"
     },
     "output_type": "display_data"
    }
   ],
   "source": [
    "plt.figure(figsize=(20,10))\n",
    "plt.plot(sys_cap_space, all_mean_times_sim, label=\"Simulation State probabilities\")\n",
    "plt.plot(sys_cap_space, all_mean_times_markov, label=\"Markov State probabilities\")\n",
    "plt.violinplot(all_times_sim, showmeans=True, showmedians=False)\n",
    "title = \"λa=\" + str(lambda_a) + \", λo=\" +str(lambda_o) + \", μ=\" + str(mu) + \", C=\" + str(num_of_servers) + \", T=\" + str(threshold) + \", N=\" + str(system_capacity) + \", M=\" + str(parking_capacity)\n",
    "plt.title(title)\n",
    "plt.xlabel(\"System capacity\")\n",
    "plt.ylabel(\"Waiting time\")\n",
    "plt.legend()\n",
    "plt.show()"
   ]
  },
  {
   "cell_type": "code",
   "execution_count": null,
   "metadata": {},
   "outputs": [],
   "source": []
  },
  {
   "cell_type": "code",
   "execution_count": null,
   "metadata": {},
   "outputs": [],
   "source": []
  },
  {
   "cell_type": "code",
   "execution_count": null,
   "metadata": {},
   "outputs": [],
   "source": []
  },
  {
   "cell_type": "code",
   "execution_count": null,
   "metadata": {},
   "outputs": [],
   "source": []
  },
  {
   "cell_type": "code",
   "execution_count": null,
   "metadata": {},
   "outputs": [],
   "source": []
  },
  {
   "cell_type": "code",
   "execution_count": null,
   "metadata": {},
   "outputs": [],
   "source": []
  },
  {
   "cell_type": "code",
   "execution_count": null,
   "metadata": {},
   "outputs": [],
   "source": []
  },
  {
   "cell_type": "code",
   "execution_count": null,
   "metadata": {},
   "outputs": [],
   "source": []
  },
  {
   "cell_type": "markdown",
   "metadata": {},
   "source": [
    "##### Theoretical waiting time (valid for infinite system size and threshold)"
   ]
  },
  {
   "cell_type": "code",
   "execution_count": 269,
   "metadata": {},
   "outputs": [
    {
     "name": "stdout",
     "output_type": "stream",
     "text": [
      "0.16666666666666666\n"
     ]
    }
   ],
   "source": [
    "waiting_time= get_theoretical_waiting_time(lambda_a + lambda_o, mu, num_of_servers)\n",
    "print(waiting_time)"
   ]
  },
  {
   "cell_type": "code",
   "execution_count": null,
   "metadata": {},
   "outputs": [],
   "source": []
  },
  {
   "cell_type": "code",
   "execution_count": null,
   "metadata": {},
   "outputs": [],
   "source": []
  },
  {
   "cell_type": "code",
   "execution_count": null,
   "metadata": {},
   "outputs": [],
   "source": []
  },
  {
   "cell_type": "code",
   "execution_count": null,
   "metadata": {},
   "outputs": [],
   "source": []
  },
  {
   "cell_type": "code",
   "execution_count": null,
   "metadata": {},
   "outputs": [],
   "source": []
  },
  {
   "cell_type": "code",
   "execution_count": null,
   "metadata": {},
   "outputs": [],
   "source": []
  },
  {
   "cell_type": "code",
   "execution_count": null,
   "metadata": {},
   "outputs": [],
   "source": []
  },
  {
   "cell_type": "code",
   "execution_count": null,
   "metadata": {},
   "outputs": [],
   "source": []
  },
  {
   "cell_type": "code",
   "execution_count": null,
   "metadata": {},
   "outputs": [],
   "source": []
  },
  {
   "cell_type": "code",
   "execution_count": null,
   "metadata": {},
   "outputs": [],
   "source": []
  },
  {
   "cell_type": "code",
   "execution_count": null,
   "metadata": {},
   "outputs": [],
   "source": []
  },
  {
   "cell_type": "code",
   "execution_count": null,
   "metadata": {},
   "outputs": [],
   "source": []
  },
  {
   "cell_type": "code",
   "execution_count": null,
   "metadata": {},
   "outputs": [],
   "source": []
  },
  {
   "cell_type": "code",
   "execution_count": null,
   "metadata": {},
   "outputs": [],
   "source": []
  },
  {
   "cell_type": "markdown",
   "metadata": {},
   "source": [
    "###### Failed Attempt 1"
   ]
  },
  {
   "cell_type": "code",
   "execution_count": 8,
   "metadata": {},
   "outputs": [],
   "source": [
    "def is_waiting_state(state, num_of_servers):\n",
    "    return (True if state[1] > num_of_servers else False)\n",
    "\n",
    "def expected_time_in_markov_state_ignoring_arrivals(state, num_of_servers, mu):\n",
    "    return 1 / (min(state[1], num_of_servers) * mu)"
   ]
  },
  {
   "cell_type": "code",
   "execution_count": 9,
   "metadata": {},
   "outputs": [],
   "source": [
    "def recursive_waiting_time_at_each_state(state, mu, num_of_servers, threshold):\n",
    "    if not is_waiting_state(state, num_of_servers):\n",
    "        return 0\n",
    "    if state[1] == threshold and state[0] > 0:\n",
    "        return expected_time_in_markov_state_ignoring_arrivals(state, num_of_servers, mu) + recursive_waiting_time_at_each_state((state[0] - 1, state[1]), mu, num_of_servers, threshold)\n",
    "    elif state[1] != threshold or state[0] == 0:\n",
    "        return expected_time_in_markov_state_ignoring_arrivals(state, num_of_servers, mu) + recursive_waiting_time_at_each_state((state[0], state[1] - 1), mu, num_of_servers, threshold)"
   ]
  },
  {
   "cell_type": "code",
   "execution_count": 10,
   "metadata": {},
   "outputs": [],
   "source": [
    "def get_mean_waiting_time(all_states, pi, mu, num_of_servers, threshold):\n",
    "    mean_waiting_time = 0\n",
    "    for u, v in all_states:\n",
    "        current_state_wait = recursive_waiting_time_at_each_state((u,v), mu, num_of_servers, threshold)\n",
    "        mean_waiting_time += current_state_wait * pi[u,v]\n",
    "\n",
    "#     mean_waiting_time /= probability_of_waiting\n",
    "    return mean_waiting_time"
   ]
  },
  {
   "cell_type": "code",
   "execution_count": 11,
   "metadata": {},
   "outputs": [],
   "source": [
    "state_probabilities = abg.simulation.get_average_simulated_state_probabilities(lambda_a, lambda_o, mu, num_of_servers, threshold, system_capacity, parking_capacity, seed_num=seed_num, num_of_trials=num_of_trials)"
   ]
  },
  {
   "cell_type": "code",
   "execution_count": 12,
   "metadata": {},
   "outputs": [],
   "source": [
    "state_probs_dict = abg.simulation.get_average_simulated_state_probabilities(lambda_a, lambda_o, mu, num_of_servers, threshold, system_capacity, parking_capacity, seed_num=seed_num, num_of_trials=num_of_trials, output=dict)\n",
    "all_states = [state for state in state_probs_dict.keys() if state_probs_dict[state] > 0]"
   ]
  },
  {
   "cell_type": "code",
   "execution_count": 13,
   "metadata": {},
   "outputs": [
    {
     "data": {
      "text/plain": [
       "1.0091220212215992"
      ]
     },
     "execution_count": 13,
     "metadata": {},
     "output_type": "execute_result"
    }
   ],
   "source": [
    "get_mean_waiting_time(all_states, state_probabilities, mu, num_of_servers, threshold)"
   ]
  },
  {
   "cell_type": "markdown",
   "metadata": {},
   "source": [
    "###### Failed Attempt 2"
   ]
  },
  {
   "cell_type": "code",
   "execution_count": 14,
   "metadata": {},
   "outputs": [],
   "source": [
    "def is_waiting_state(state, num_of_servers):\n",
    "    return (True if state[1] > num_of_servers else False)\n",
    "\n",
    "def expected_time_in_markov_state(state, lambda_a, lambda_o, mu, num_of_servers, system_capacity, parking_capacity):\n",
    "    return 1 / (min(state[1], num_of_servers) * mu + min(1, parking_capacity - state[0]) * lambda_a + min(1, system_capacity - state[1]) * lambda_o)"
   ]
  },
  {
   "cell_type": "code",
   "execution_count": 15,
   "metadata": {},
   "outputs": [],
   "source": [
    "def transition_probs(state, lambda_a, lambda_o, mu, num_of_servers, system_capacity, parking_capacity):\n",
    "    ambulance_rate = min(1, parking_capacity - state[0]) * lambda_a\n",
    "    others_rate = min(1, system_capacity - state[1]) * lambda_o\n",
    "    service_rate = min(state[1], num_of_servers) * mu\n",
    "    total_rate = ambulance_rate + others_rate + service_rate\n",
    "    \n",
    "    return ambulance_rate / total_rate, others_rate / total_rate, service_rate / total_rate"
   ]
  },
  {
   "cell_type": "code",
   "execution_count": 16,
   "metadata": {},
   "outputs": [],
   "source": [
    "def recursive_waiting_time(state, lambda_a, lambda_o, mu, num_of_servers, threshold, system_capacity, parking_capacity):\n",
    "    \n",
    "    depth = 0.001\n",
    "    if not is_waiting_state(state, num_of_servers):\n",
    "        return 0\n",
    "    \n",
    "    waiting_time = expected_time_in_markov_state(state, lambda_a, lambda_o, mu, num_of_servers, system_capacity, parking_capacity)\n",
    "    ambulance_prob, others_prob, service_prob = transition_probs(state, lambda_a, lambda_o, mu, num_of_servers, system_capacity, parking_capacity)\n",
    "    \n",
    "    if state[1] < threshold:\n",
    "        if ambulance_prob + others_prob > depth:\n",
    "            waiting_time += (ambulance_prob + others_prob) * recursive_waiting_time((state[0], state[1] + 1), lambda_a, lambda_o, mu, num_of_servers, threshold, system_capacity, parking_capacity)\n",
    "        if service_prob > depth:\n",
    "            waiting_time += service_prob * recursive_waiting_time((state[0], state[1] - 1), lambda_a, lambda_o, mu, num_of_servers, threshold, system_capacity, parking_capacity)\n",
    "        return waiting_time\n",
    "    \n",
    "    if state[1] == threshold and state[0] != 0:\n",
    "        if ambulance_prob > depth:\n",
    "            waiting_time += ambulance_prob * recursive_waiting_time((state[0] + 1, state[1]), lambda_a, lambda_o, mu, num_of_servers, threshold, system_capacity, parking_capacity)\n",
    "        if others_prob > depth:\n",
    "            waiting_time += others_prob * recursive_waiting_time((state[0], state[1] + 1), lambda_a, lambda_o, mu, num_of_servers, threshold, system_capacity, parking_capacity)\n",
    "        if service_prob > depth:\n",
    "            waiting_time += service_prob * recursive_waiting_time((state[0] - 1, state[1]), lambda_a, lambda_o, mu, num_of_servers, threshold, system_capacity, parking_capacity)\n",
    "        return waiting_time\n",
    "    \n",
    "    if ambulance_prob > depth:\n",
    "        waiting_time += ambulance_prob * recursive_waiting_time((state[0] + 1, state[1]), lambda_a, lambda_o, mu, num_of_servers, threshold, system_capacity, parking_capacity)\n",
    "    if others_prob > depth:\n",
    "        waiting_time += others_prob * recursive_waiting_time((state[0], state[1] + 1), lambda_a, lambda_o, mu, num_of_servers, threshold, system_capacity, parking_capacity)\n",
    "    if service_prob > depth:\n",
    "        waiting_time += service_prob * recursive_waiting_time((state[0], state[1] - 1), lambda_a, lambda_o, mu, num_of_servers, threshold, system_capacity, parking_capacity)\n",
    "    return waiting_time"
   ]
  },
  {
   "cell_type": "code",
   "execution_count": 17,
   "metadata": {},
   "outputs": [],
   "source": [
    "def get_mean_waiting_time(all_states, pi, mu, num_of_servers, threshold):\n",
    "    mean_waiting_time = 0\n",
    "    for u, v in all_states:\n",
    "        current_state_wait = recursive_waiting_time((u,v), lambda_a, lambda_o, mu, num_of_servers, threshold, system_capacity, parking_capacity)\n",
    "        mean_waiting_time += current_state_wait * pi[u,v]\n",
    "\n",
    "    return mean_waiting_time"
   ]
  },
  {
   "cell_type": "code",
   "execution_count": 18,
   "metadata": {},
   "outputs": [],
   "source": [
    "state_probabilities = abg.simulation.get_average_simulated_state_probabilities(lambda_a, lambda_o, mu, num_of_servers, threshold, system_capacity, parking_capacity, seed_num=seed_num, num_of_trials=num_of_trials)"
   ]
  },
  {
   "cell_type": "code",
   "execution_count": 19,
   "metadata": {},
   "outputs": [],
   "source": [
    "state_probs_dict = abg.simulation.get_average_simulated_state_probabilities(lambda_a, lambda_o, mu, num_of_servers, threshold, system_capacity, parking_capacity, seed_num=seed_num, num_of_trials=num_of_trials, output=dict)\n",
    "all_states = [state for state in state_probs_dict.keys() if state_probs_dict[state] > 0]"
   ]
  },
  {
   "cell_type": "code",
   "execution_count": 57,
   "metadata": {},
   "outputs": [
    {
     "ename": "RecursionError",
     "evalue": "maximum recursion depth exceeded in comparison",
     "output_type": "error",
     "traceback": [
      "\u001b[1;31m---------------------------------------------------------------------------\u001b[0m",
      "\u001b[1;31mRecursionError\u001b[0m                            Traceback (most recent call last)",
      "\u001b[1;32m<ipython-input-57-15105bcc7da8>\u001b[0m in \u001b[0;36m<module>\u001b[1;34m\u001b[0m\n\u001b[1;32m----> 1\u001b[1;33m \u001b[0mget_mean_waiting_time\u001b[0m\u001b[1;33m(\u001b[0m\u001b[0mall_states\u001b[0m\u001b[1;33m,\u001b[0m \u001b[0mstate_probabilities\u001b[0m\u001b[1;33m,\u001b[0m \u001b[0mmu\u001b[0m\u001b[1;33m,\u001b[0m \u001b[0mnum_of_servers\u001b[0m\u001b[1;33m,\u001b[0m \u001b[0mthreshold\u001b[0m\u001b[1;33m)\u001b[0m\u001b[1;33m\u001b[0m\u001b[1;33m\u001b[0m\u001b[0m\n\u001b[0m",
      "\u001b[1;32m<ipython-input-54-dbea400dfdfe>\u001b[0m in \u001b[0;36mget_mean_waiting_time\u001b[1;34m(all_states, pi, mu, num_of_servers, threshold)\u001b[0m\n\u001b[0;32m      2\u001b[0m     \u001b[0mmean_waiting_time\u001b[0m \u001b[1;33m=\u001b[0m \u001b[1;36m0\u001b[0m\u001b[1;33m\u001b[0m\u001b[1;33m\u001b[0m\u001b[0m\n\u001b[0;32m      3\u001b[0m     \u001b[1;32mfor\u001b[0m \u001b[0mu\u001b[0m\u001b[1;33m,\u001b[0m \u001b[0mv\u001b[0m \u001b[1;32min\u001b[0m \u001b[0mall_states\u001b[0m\u001b[1;33m:\u001b[0m\u001b[1;33m\u001b[0m\u001b[1;33m\u001b[0m\u001b[0m\n\u001b[1;32m----> 4\u001b[1;33m         \u001b[0mcurrent_state_wait\u001b[0m \u001b[1;33m=\u001b[0m \u001b[0mrecursive_waiting_time\u001b[0m\u001b[1;33m(\u001b[0m\u001b[1;33m(\u001b[0m\u001b[0mu\u001b[0m\u001b[1;33m,\u001b[0m\u001b[0mv\u001b[0m\u001b[1;33m)\u001b[0m\u001b[1;33m,\u001b[0m \u001b[0mlambda_a\u001b[0m\u001b[1;33m,\u001b[0m \u001b[0mlambda_o\u001b[0m\u001b[1;33m,\u001b[0m \u001b[0mmu\u001b[0m\u001b[1;33m,\u001b[0m \u001b[0mnum_of_servers\u001b[0m\u001b[1;33m,\u001b[0m \u001b[0mthreshold\u001b[0m\u001b[1;33m,\u001b[0m \u001b[0msystem_capacity\u001b[0m\u001b[1;33m,\u001b[0m \u001b[0mparking_capacity\u001b[0m\u001b[1;33m)\u001b[0m\u001b[1;33m\u001b[0m\u001b[1;33m\u001b[0m\u001b[0m\n\u001b[0m\u001b[0;32m      5\u001b[0m         \u001b[0mmean_waiting_time\u001b[0m \u001b[1;33m+=\u001b[0m \u001b[0mcurrent_state_wait\u001b[0m \u001b[1;33m*\u001b[0m \u001b[0mpi\u001b[0m\u001b[1;33m[\u001b[0m\u001b[0mu\u001b[0m\u001b[1;33m,\u001b[0m\u001b[0mv\u001b[0m\u001b[1;33m]\u001b[0m\u001b[1;33m\u001b[0m\u001b[1;33m\u001b[0m\u001b[0m\n\u001b[0;32m      6\u001b[0m \u001b[1;33m\u001b[0m\u001b[0m\n",
      "\u001b[1;32m<ipython-input-53-cc643e1c954d>\u001b[0m in \u001b[0;36mrecursive_waiting_time\u001b[1;34m(state, lambda_a, lambda_o, mu, num_of_servers, threshold, system_capacity, parking_capacity)\u001b[0m\n\u001b[0;32m     10\u001b[0m     \u001b[1;32mif\u001b[0m \u001b[0mstate\u001b[0m\u001b[1;33m[\u001b[0m\u001b[1;36m1\u001b[0m\u001b[1;33m]\u001b[0m \u001b[1;33m<\u001b[0m \u001b[0mthreshold\u001b[0m\u001b[1;33m:\u001b[0m\u001b[1;33m\u001b[0m\u001b[1;33m\u001b[0m\u001b[0m\n\u001b[0;32m     11\u001b[0m         \u001b[1;32mif\u001b[0m \u001b[0mambulance_prob\u001b[0m \u001b[1;33m+\u001b[0m \u001b[0mothers_prob\u001b[0m \u001b[1;33m>\u001b[0m \u001b[0mdepth\u001b[0m\u001b[1;33m:\u001b[0m\u001b[1;33m\u001b[0m\u001b[1;33m\u001b[0m\u001b[0m\n\u001b[1;32m---> 12\u001b[1;33m             \u001b[0mwaiting_time\u001b[0m \u001b[1;33m+=\u001b[0m \u001b[1;33m(\u001b[0m\u001b[0mambulance_prob\u001b[0m \u001b[1;33m+\u001b[0m \u001b[0mothers_prob\u001b[0m\u001b[1;33m)\u001b[0m \u001b[1;33m*\u001b[0m \u001b[0mrecursive_waiting_time\u001b[0m\u001b[1;33m(\u001b[0m\u001b[1;33m(\u001b[0m\u001b[0mstate\u001b[0m\u001b[1;33m[\u001b[0m\u001b[1;36m0\u001b[0m\u001b[1;33m]\u001b[0m\u001b[1;33m,\u001b[0m \u001b[0mstate\u001b[0m\u001b[1;33m[\u001b[0m\u001b[1;36m1\u001b[0m\u001b[1;33m]\u001b[0m \u001b[1;33m+\u001b[0m \u001b[1;36m1\u001b[0m\u001b[1;33m)\u001b[0m\u001b[1;33m,\u001b[0m \u001b[0mlambda_a\u001b[0m\u001b[1;33m,\u001b[0m \u001b[0mlambda_o\u001b[0m\u001b[1;33m,\u001b[0m \u001b[0mmu\u001b[0m\u001b[1;33m,\u001b[0m \u001b[0mnum_of_servers\u001b[0m\u001b[1;33m,\u001b[0m \u001b[0mthreshold\u001b[0m\u001b[1;33m,\u001b[0m \u001b[0msystem_capacity\u001b[0m\u001b[1;33m,\u001b[0m \u001b[0mparking_capacity\u001b[0m\u001b[1;33m)\u001b[0m\u001b[1;33m\u001b[0m\u001b[1;33m\u001b[0m\u001b[0m\n\u001b[0m\u001b[0;32m     13\u001b[0m         \u001b[1;32mif\u001b[0m \u001b[0mservice_prob\u001b[0m \u001b[1;33m>\u001b[0m \u001b[0mdepth\u001b[0m\u001b[1;33m:\u001b[0m\u001b[1;33m\u001b[0m\u001b[1;33m\u001b[0m\u001b[0m\n\u001b[0;32m     14\u001b[0m             \u001b[0mwaiting_time\u001b[0m \u001b[1;33m+=\u001b[0m \u001b[0mservice_prob\u001b[0m \u001b[1;33m*\u001b[0m \u001b[0mrecursive_waiting_time\u001b[0m\u001b[1;33m(\u001b[0m\u001b[1;33m(\u001b[0m\u001b[0mstate\u001b[0m\u001b[1;33m[\u001b[0m\u001b[1;36m0\u001b[0m\u001b[1;33m]\u001b[0m\u001b[1;33m,\u001b[0m \u001b[0mstate\u001b[0m\u001b[1;33m[\u001b[0m\u001b[1;36m1\u001b[0m\u001b[1;33m]\u001b[0m \u001b[1;33m-\u001b[0m \u001b[1;36m1\u001b[0m\u001b[1;33m)\u001b[0m\u001b[1;33m,\u001b[0m \u001b[0mlambda_a\u001b[0m\u001b[1;33m,\u001b[0m \u001b[0mlambda_o\u001b[0m\u001b[1;33m,\u001b[0m \u001b[0mmu\u001b[0m\u001b[1;33m,\u001b[0m \u001b[0mnum_of_servers\u001b[0m\u001b[1;33m,\u001b[0m \u001b[0mthreshold\u001b[0m\u001b[1;33m,\u001b[0m \u001b[0msystem_capacity\u001b[0m\u001b[1;33m,\u001b[0m \u001b[0mparking_capacity\u001b[0m\u001b[1;33m)\u001b[0m\u001b[1;33m\u001b[0m\u001b[1;33m\u001b[0m\u001b[0m\n",
      "\u001b[1;32m<ipython-input-53-cc643e1c954d>\u001b[0m in \u001b[0;36mrecursive_waiting_time\u001b[1;34m(state, lambda_a, lambda_o, mu, num_of_servers, threshold, system_capacity, parking_capacity)\u001b[0m\n\u001b[0;32m     10\u001b[0m     \u001b[1;32mif\u001b[0m \u001b[0mstate\u001b[0m\u001b[1;33m[\u001b[0m\u001b[1;36m1\u001b[0m\u001b[1;33m]\u001b[0m \u001b[1;33m<\u001b[0m \u001b[0mthreshold\u001b[0m\u001b[1;33m:\u001b[0m\u001b[1;33m\u001b[0m\u001b[1;33m\u001b[0m\u001b[0m\n\u001b[0;32m     11\u001b[0m         \u001b[1;32mif\u001b[0m \u001b[0mambulance_prob\u001b[0m \u001b[1;33m+\u001b[0m \u001b[0mothers_prob\u001b[0m \u001b[1;33m>\u001b[0m \u001b[0mdepth\u001b[0m\u001b[1;33m:\u001b[0m\u001b[1;33m\u001b[0m\u001b[1;33m\u001b[0m\u001b[0m\n\u001b[1;32m---> 12\u001b[1;33m             \u001b[0mwaiting_time\u001b[0m \u001b[1;33m+=\u001b[0m \u001b[1;33m(\u001b[0m\u001b[0mambulance_prob\u001b[0m \u001b[1;33m+\u001b[0m \u001b[0mothers_prob\u001b[0m\u001b[1;33m)\u001b[0m \u001b[1;33m*\u001b[0m \u001b[0mrecursive_waiting_time\u001b[0m\u001b[1;33m(\u001b[0m\u001b[1;33m(\u001b[0m\u001b[0mstate\u001b[0m\u001b[1;33m[\u001b[0m\u001b[1;36m0\u001b[0m\u001b[1;33m]\u001b[0m\u001b[1;33m,\u001b[0m \u001b[0mstate\u001b[0m\u001b[1;33m[\u001b[0m\u001b[1;36m1\u001b[0m\u001b[1;33m]\u001b[0m \u001b[1;33m+\u001b[0m \u001b[1;36m1\u001b[0m\u001b[1;33m)\u001b[0m\u001b[1;33m,\u001b[0m \u001b[0mlambda_a\u001b[0m\u001b[1;33m,\u001b[0m \u001b[0mlambda_o\u001b[0m\u001b[1;33m,\u001b[0m \u001b[0mmu\u001b[0m\u001b[1;33m,\u001b[0m \u001b[0mnum_of_servers\u001b[0m\u001b[1;33m,\u001b[0m \u001b[0mthreshold\u001b[0m\u001b[1;33m,\u001b[0m \u001b[0msystem_capacity\u001b[0m\u001b[1;33m,\u001b[0m \u001b[0mparking_capacity\u001b[0m\u001b[1;33m)\u001b[0m\u001b[1;33m\u001b[0m\u001b[1;33m\u001b[0m\u001b[0m\n\u001b[0m\u001b[0;32m     13\u001b[0m         \u001b[1;32mif\u001b[0m \u001b[0mservice_prob\u001b[0m \u001b[1;33m>\u001b[0m \u001b[0mdepth\u001b[0m\u001b[1;33m:\u001b[0m\u001b[1;33m\u001b[0m\u001b[1;33m\u001b[0m\u001b[0m\n\u001b[0;32m     14\u001b[0m             \u001b[0mwaiting_time\u001b[0m \u001b[1;33m+=\u001b[0m \u001b[0mservice_prob\u001b[0m \u001b[1;33m*\u001b[0m \u001b[0mrecursive_waiting_time\u001b[0m\u001b[1;33m(\u001b[0m\u001b[1;33m(\u001b[0m\u001b[0mstate\u001b[0m\u001b[1;33m[\u001b[0m\u001b[1;36m0\u001b[0m\u001b[1;33m]\u001b[0m\u001b[1;33m,\u001b[0m \u001b[0mstate\u001b[0m\u001b[1;33m[\u001b[0m\u001b[1;36m1\u001b[0m\u001b[1;33m]\u001b[0m \u001b[1;33m-\u001b[0m \u001b[1;36m1\u001b[0m\u001b[1;33m)\u001b[0m\u001b[1;33m,\u001b[0m \u001b[0mlambda_a\u001b[0m\u001b[1;33m,\u001b[0m \u001b[0mlambda_o\u001b[0m\u001b[1;33m,\u001b[0m \u001b[0mmu\u001b[0m\u001b[1;33m,\u001b[0m \u001b[0mnum_of_servers\u001b[0m\u001b[1;33m,\u001b[0m \u001b[0mthreshold\u001b[0m\u001b[1;33m,\u001b[0m \u001b[0msystem_capacity\u001b[0m\u001b[1;33m,\u001b[0m \u001b[0mparking_capacity\u001b[0m\u001b[1;33m)\u001b[0m\u001b[1;33m\u001b[0m\u001b[1;33m\u001b[0m\u001b[0m\n",
      "... last 2 frames repeated, from the frame below ...\n",
      "\u001b[1;32m<ipython-input-53-cc643e1c954d>\u001b[0m in \u001b[0;36mrecursive_waiting_time\u001b[1;34m(state, lambda_a, lambda_o, mu, num_of_servers, threshold, system_capacity, parking_capacity)\u001b[0m\n\u001b[0;32m     10\u001b[0m     \u001b[1;32mif\u001b[0m \u001b[0mstate\u001b[0m\u001b[1;33m[\u001b[0m\u001b[1;36m1\u001b[0m\u001b[1;33m]\u001b[0m \u001b[1;33m<\u001b[0m \u001b[0mthreshold\u001b[0m\u001b[1;33m:\u001b[0m\u001b[1;33m\u001b[0m\u001b[1;33m\u001b[0m\u001b[0m\n\u001b[0;32m     11\u001b[0m         \u001b[1;32mif\u001b[0m \u001b[0mambulance_prob\u001b[0m \u001b[1;33m+\u001b[0m \u001b[0mothers_prob\u001b[0m \u001b[1;33m>\u001b[0m \u001b[0mdepth\u001b[0m\u001b[1;33m:\u001b[0m\u001b[1;33m\u001b[0m\u001b[1;33m\u001b[0m\u001b[0m\n\u001b[1;32m---> 12\u001b[1;33m             \u001b[0mwaiting_time\u001b[0m \u001b[1;33m+=\u001b[0m \u001b[1;33m(\u001b[0m\u001b[0mambulance_prob\u001b[0m \u001b[1;33m+\u001b[0m \u001b[0mothers_prob\u001b[0m\u001b[1;33m)\u001b[0m \u001b[1;33m*\u001b[0m \u001b[0mrecursive_waiting_time\u001b[0m\u001b[1;33m(\u001b[0m\u001b[1;33m(\u001b[0m\u001b[0mstate\u001b[0m\u001b[1;33m[\u001b[0m\u001b[1;36m0\u001b[0m\u001b[1;33m]\u001b[0m\u001b[1;33m,\u001b[0m \u001b[0mstate\u001b[0m\u001b[1;33m[\u001b[0m\u001b[1;36m1\u001b[0m\u001b[1;33m]\u001b[0m \u001b[1;33m+\u001b[0m \u001b[1;36m1\u001b[0m\u001b[1;33m)\u001b[0m\u001b[1;33m,\u001b[0m \u001b[0mlambda_a\u001b[0m\u001b[1;33m,\u001b[0m \u001b[0mlambda_o\u001b[0m\u001b[1;33m,\u001b[0m \u001b[0mmu\u001b[0m\u001b[1;33m,\u001b[0m \u001b[0mnum_of_servers\u001b[0m\u001b[1;33m,\u001b[0m \u001b[0mthreshold\u001b[0m\u001b[1;33m,\u001b[0m \u001b[0msystem_capacity\u001b[0m\u001b[1;33m,\u001b[0m \u001b[0mparking_capacity\u001b[0m\u001b[1;33m)\u001b[0m\u001b[1;33m\u001b[0m\u001b[1;33m\u001b[0m\u001b[0m\n\u001b[0m\u001b[0;32m     13\u001b[0m         \u001b[1;32mif\u001b[0m \u001b[0mservice_prob\u001b[0m \u001b[1;33m>\u001b[0m \u001b[0mdepth\u001b[0m\u001b[1;33m:\u001b[0m\u001b[1;33m\u001b[0m\u001b[1;33m\u001b[0m\u001b[0m\n\u001b[0;32m     14\u001b[0m             \u001b[0mwaiting_time\u001b[0m \u001b[1;33m+=\u001b[0m \u001b[0mservice_prob\u001b[0m \u001b[1;33m*\u001b[0m \u001b[0mrecursive_waiting_time\u001b[0m\u001b[1;33m(\u001b[0m\u001b[1;33m(\u001b[0m\u001b[0mstate\u001b[0m\u001b[1;33m[\u001b[0m\u001b[1;36m0\u001b[0m\u001b[1;33m]\u001b[0m\u001b[1;33m,\u001b[0m \u001b[0mstate\u001b[0m\u001b[1;33m[\u001b[0m\u001b[1;36m1\u001b[0m\u001b[1;33m]\u001b[0m \u001b[1;33m-\u001b[0m \u001b[1;36m1\u001b[0m\u001b[1;33m)\u001b[0m\u001b[1;33m,\u001b[0m \u001b[0mlambda_a\u001b[0m\u001b[1;33m,\u001b[0m \u001b[0mlambda_o\u001b[0m\u001b[1;33m,\u001b[0m \u001b[0mmu\u001b[0m\u001b[1;33m,\u001b[0m \u001b[0mnum_of_servers\u001b[0m\u001b[1;33m,\u001b[0m \u001b[0mthreshold\u001b[0m\u001b[1;33m,\u001b[0m \u001b[0msystem_capacity\u001b[0m\u001b[1;33m,\u001b[0m \u001b[0mparking_capacity\u001b[0m\u001b[1;33m)\u001b[0m\u001b[1;33m\u001b[0m\u001b[1;33m\u001b[0m\u001b[0m\n",
      "\u001b[1;31mRecursionError\u001b[0m: maximum recursion depth exceeded in comparison"
     ]
    }
   ],
   "source": [
    "get_mean_waiting_time(all_states, state_probabilities, mu, num_of_servers, threshold)"
   ]
  },
  {
   "cell_type": "code",
   "execution_count": null,
   "metadata": {},
   "outputs": [],
   "source": [
    "for state in all_states:\n",
    "    print(recursive_waiting_time(state, lambda_a, lambda_o, mu, num_of_servers, threshold, system_capacity, parking_capacity))"
   ]
  },
  {
   "cell_type": "markdown",
   "metadata": {},
   "source": [
    "##### Failed Attempt 3"
   ]
  },
  {
   "cell_type": "code",
   "execution_count": 340,
   "metadata": {},
   "outputs": [],
   "source": [
    "def get_wait(all_states, pi, num_of_servers, mu):\n",
    "    mean_waiting_time = 0\n",
    "    for u, v in all_states:\n",
    "        if is_waiting_state((u,v), num_of_servers):\n",
    "            exit_rate = (num_of_servers * mu)\n",
    "            print(pi[u,v])\n",
    "            mean_waiting_time += v * (1 / exit_rate) * pi[u,v]\n",
    "    \n",
    "#     mean_waiting_time /= probability_of_waiting\n",
    "    return mean_waiting_time"
   ]
  },
  {
   "cell_type": "code",
   "execution_count": 341,
   "metadata": {},
   "outputs": [
    {
     "name": "stdout",
     "output_type": "stream",
     "text": [
      "0.12630412679126404\n",
      "0.06401389189147107\n",
      "0.028053655238083407\n",
      "0.016288983050045825\n"
     ]
    },
    {
     "data": {
      "text/plain": [
       "1.59577366364876"
      ]
     },
     "execution_count": 341,
     "metadata": {},
     "output_type": "execute_result"
    }
   ],
   "source": [
    "get_wait(all_states, state_probabilities, num_of_servers, mu)"
   ]
  },
  {
   "cell_type": "code",
   "execution_count": null,
   "metadata": {},
   "outputs": [],
   "source": []
  }
 ],
 "metadata": {
  "kernelspec": {
   "display_name": "Python 3.8.1 64-bit ('AmbulanceGame': conda)",
   "language": "python",
   "name": "python38164bitambulancegameconda313376b6b30b4ff1a63b667ba23e8abb"
  },
  "language_info": {
   "codemirror_mode": {
    "name": "ipython",
    "version": 3
   },
   "file_extension": ".py",
   "mimetype": "text/x-python",
   "name": "python",
   "nbconvert_exporter": "python",
   "pygments_lexer": "ipython3",
   "version": "3.8.1"
  }
 },
 "nbformat": 4,
 "nbformat_minor": 4
}
