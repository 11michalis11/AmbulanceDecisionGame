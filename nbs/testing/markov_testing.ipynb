{
 "cells": [
  {
   "cell_type": "code",
   "execution_count": 2,
   "metadata": {},
   "outputs": [],
   "source": [
    "import numpy as np\n",
    "import networkx as nx\n",
    "import sympy as sym\n",
    "import scipy as sci\n",
    "import matplotlib.pyplot as plt"
   ]
  },
  {
   "cell_type": "code",
   "execution_count": 3,
   "metadata": {},
   "outputs": [],
   "source": [
    "from hypothesis import (\n",
    "    given,\n",
    "    settings,\n",
    ")\n",
    "from hypothesis.strategies import (\n",
    "    floats,\n",
    "    integers,\n",
    "    booleans,\n",
    ")\n",
    "from hypothesis.extra.numpy import arrays"
   ]
  },
  {
   "cell_type": "code",
   "execution_count": 4,
   "metadata": {},
   "outputs": [],
   "source": [
    "from ambulance_game.markov.markov import (\n",
    "    build_states,\n",
    "    visualise_ambulance_markov_chain,\n",
    "    get_transition_matrix_entry,\n",
    "    get_symbolic_transition_matrix,\n",
    "    get_transition_matrix,\n",
    "    convert_symbolic_transition_matrix,\n",
    "    is_steady_state,\n",
    "    get_steady_state_numerically,\n",
    "    augment_Q,\n",
    "    get_steady_state_algebraically,\n",
    "    get_mean_number_of_patients_in_system,\n",
    "    get_mean_number_of_patients_in_hospital,\n",
    "    get_mean_ambulances_blocked,\n",
    ")"
   ]
  },
  {
   "cell_type": "markdown",
   "metadata": {},
   "source": [
    "# build_states"
   ]
  },
  {
   "cell_type": "code",
   "execution_count": 88,
   "metadata": {},
   "outputs": [],
   "source": [
    "@given(\n",
    "    threshold=integers(min_value=0, max_value=1000),\n",
    "    system_capacity=integers(min_value=0, max_value=1000),\n",
    "    parking_capacity=integers(min_value=0, max_value=1000)\n",
    ")\n",
    "def test_build_states(threshold, system_capacity, parking_capacity):\n",
    "\n",
    "    states = build_states(threshold=threshold, system_capacity=system_capacity, parking_capacity=parking_capacity)\n",
    "    \n",
    "    states_after_threshold = system_capacity - threshold + 1\n",
    "    S_2_size = states_after_threshold if states_after_threshold >= 0 else 0\n",
    "    all_states_size = S_2_size * (parking_capacity + 1) + threshold\n",
    "    \n",
    "    assert len(states) == all_states_size"
   ]
  },
  {
   "cell_type": "code",
   "execution_count": 89,
   "metadata": {},
   "outputs": [],
   "source": [
    "test_build_states()"
   ]
  },
  {
   "cell_type": "markdown",
   "metadata": {},
   "source": [
    "# visualise_ambulance_markov_chain"
   ]
  },
  {
   "cell_type": "code",
   "execution_count": 181,
   "metadata": {},
   "outputs": [],
   "source": [
    "@given(\n",
    "    num_of_servers=integers(min_value=2, max_value=10),\n",
    "    threshold=integers(min_value=2, max_value=10),\n",
    "    parking_capacity=integers(min_value=2, max_value=10),\n",
    "    system_capacity=integers(min_value=2, max_value=10)\n",
    ")\n",
    "@settings(\n",
    "    deadline=None\n",
    ")\n",
    "def test_visualise_ambulance_markov_chain(num_of_servers, threshold, system_capacity, parking_capacity):\n",
    "    \n",
    "    all_states = build_states(threshold=threshold, system_capacity=system_capacity, parking_capacity=parking_capacity)\n",
    "    set_of_all_states = set(all_states)\n",
    "    \n",
    "    markov_chain_plot = visualise_ambulance_markov_chain(num_of_servers=num_of_servers, threshold=threshold, system_capacity=system_capacity, parking_capacity=parking_capacity)\n",
    "    set_of_nodes = set(markov_chain_plot.nodes)\n",
    "    \n",
    "    assert type(markov_chain_plot) == nx.classes.multidigraph.MultiDiGraph\n",
    "    assert set_of_all_states == set_of_nodes\n",
    "    plt.close()"
   ]
  },
  {
   "cell_type": "code",
   "execution_count": 182,
   "metadata": {},
   "outputs": [],
   "source": [
    "test_visualise_ambulance_markov_chain()"
   ]
  },
  {
   "cell_type": "markdown",
   "metadata": {},
   "source": [
    "# get_transition_matrix_entry"
   ]
  },
  {
   "cell_type": "code",
   "execution_count": 183,
   "metadata": {},
   "outputs": [],
   "source": [
    "@given(\n",
    "    ambulance_state = integers(min_value=0),\n",
    "    hospital_state = integers(min_value=0),\n",
    "    lambda_a = floats(min_value=0, allow_nan=False, allow_infinity=False),\n",
    "    lambda_o = floats(min_value=0, allow_nan=False, allow_infinity=False),\n",
    "    mu = floats(min_value=0, allow_nan=False, allow_infinity=False),\n",
    "    num_of_servers = integers(min_value=1),\n",
    "    threshold = integers(min_value=0),\n",
    "    symbolic = booleans()\n",
    ")\n",
    "def test_get_transition_matrix_entry(ambulance_state, hospital_state, lambda_a, lambda_o, mu, num_of_servers, threshold, symbolic):\n",
    "    \n",
    "    Lambda = lambda_a + lambda_o\n",
    "    \n",
    "    if symbolic:\n",
    "        Lambda = sym.symbols(\"Lambda\")\n",
    "        lambda_o = sym.symbols(\"lambda\") ** sym.symbols(\"o\")\n",
    "        lambda_a = sym.symbols(\"lambda\") ** sym.symbols(\"A\")\n",
    "        mu = sym.symbols(\"mu\")\n",
    "    \n",
    "    origin_state = (ambulance_state, hospital_state)\n",
    "    destination_state_1 = (ambulance_state, hospital_state + 1)\n",
    "    destination_state_2 = (ambulance_state + 1, hospital_state)\n",
    "    destination_state_3 = (ambulance_state, hospital_state - 1)\n",
    "    destination_state_4 = (ambulance_state - 1, hospital_state)\n",
    "    \n",
    "    entry_1 = get_transition_matrix_entry(origin_state, destination_state_1, threshold=threshold, lambda_a=lambda_a, lambda_o=lambda_o, Lambda=Lambda, mu=mu, num_of_servers=num_of_servers)\n",
    "    entry_2 = get_transition_matrix_entry(origin_state, destination_state_2, threshold=threshold, lambda_a=lambda_a, lambda_o=lambda_o, Lambda=Lambda, mu=mu, num_of_servers=num_of_servers)\n",
    "    entry_3 = get_transition_matrix_entry(origin_state, destination_state_3, threshold=threshold, lambda_a=lambda_a, lambda_o=lambda_o, Lambda=Lambda, mu=mu, num_of_servers=num_of_servers)\n",
    "    entry_4 = get_transition_matrix_entry(origin_state, destination_state_4, threshold=threshold, lambda_a=lambda_a, lambda_o=lambda_o, Lambda=Lambda, mu=mu, num_of_servers=num_of_servers)\n",
    "  \n",
    "    assert entry_1 == (Lambda if hospital_state < threshold else lambda_o)\n",
    "    assert entry_2 == lambda_a \n",
    "    assert entry_3 == (mu * hospital_state if hospital_state <= num_of_servers else mu * num_of_servers)\n",
    "    assert entry_4 == (threshold * mu if hospital_state == threshold else 0)\n"
   ]
  },
  {
   "cell_type": "code",
   "execution_count": 184,
   "metadata": {},
   "outputs": [],
   "source": [
    "test_get_transition_matrix_entry()"
   ]
  },
  {
   "cell_type": "markdown",
   "metadata": {},
   "source": [
    "# get_symbolic_transition_matrix"
   ]
  },
  {
   "cell_type": "code",
   "execution_count": 185,
   "metadata": {},
   "outputs": [],
   "source": [
    "@given(\n",
    "    num_of_servers = integers(min_value=1, max_value=5),\n",
    "    threshold = integers(min_value=0, max_value=5),\n",
    "    system_capacity = integers(min_value=5, max_value=10),\n",
    "    parking_capacity = integers(min_value=1, max_value=5),\n",
    "\n",
    ")\n",
    "def test_get_symbolic_transition_matrix(num_of_servers, threshold, system_capacity, parking_capacity):\n",
    "    \n",
    "    states_after_threshold = system_capacity - threshold + 1\n",
    "    S_2_size = states_after_threshold if states_after_threshold >= 0 else 0\n",
    "    matrix_size = S_2_size * (parking_capacity + 1) + threshold\n",
    "    result = get_symbolic_transition_matrix(num_of_servers=num_of_servers, threshold=threshold, system_capacity=system_capacity, parking_capacity=parking_capacity)\n",
    "    \n",
    "    assert matrix_size == result.shape[0]"
   ]
  },
  {
   "cell_type": "code",
   "execution_count": 186,
   "metadata": {},
   "outputs": [],
   "source": [
    "test_get_symbolic_transition_matrix()"
   ]
  },
  {
   "cell_type": "markdown",
   "metadata": {},
   "source": [
    "# get_transition_matrix"
   ]
  },
  {
   "cell_type": "code",
   "execution_count": 84,
   "metadata": {},
   "outputs": [],
   "source": [
    "@given(\n",
    "    system_capacity = integers(min_value=10, max_value=20),\n",
    "    parking_capacity = integers(min_value=1, max_value=20),\n",
    "    lambda_a = floats(min_value=0.05, max_value=100, allow_nan=False, allow_infinity=False),\n",
    "    lambda_o = floats(min_value=0.05, max_value=100, allow_nan=False, allow_infinity=False),\n",
    "    mu = floats(min_value=0.05, max_value=5, allow_nan=False, allow_infinity=False),\n",
    ")\n",
    "def test_get_transition_matrix(system_capacity, parking_capacity, lambda_a, lambda_o, mu):\n",
    "    \n",
    "    num_of_servers = 10\n",
    "    threshold = 8\n",
    "    \n",
    "    states_after_threshold = system_capacity - threshold + 1\n",
    "    S_2_size = states_after_threshold if states_after_threshold >= 0 else 0\n",
    "    matrix_size = S_2_size * (parking_capacity + 1) + threshold\n",
    "    \n",
    "    transition_matrix = get_transition_matrix(lambda_a=lambda_a, lambda_o=lambda_o, mu=mu, num_of_servers=num_of_servers, threshold=threshold, system_capacity=system_capacity, parking_capacity=parking_capacity)\n",
    "    \n",
    "    assert matrix_size == np.shape(transition_matrix)[0]\n",
    "    mid = int(matrix_size/2)\n",
    "    assert transition_matrix[0][0] == -sum(transition_matrix[0][1:])\n",
    "    assert transition_matrix[-1][-1] == -sum(transition_matrix[-1][:-1])\n",
    "    \n",
    "    mid_row_sum = sum(transition_matrix[mid][:mid]) + sum(transition_matrix[mid][mid+1:])\n",
    "    assert np.isclose(transition_matrix[mid][mid], -mid_row_sum)    "
   ]
  },
  {
   "cell_type": "code",
   "execution_count": 85,
   "metadata": {},
   "outputs": [],
   "source": [
    "test_get_transition_matrix()"
   ]
  },
  {
   "cell_type": "markdown",
   "metadata": {},
   "source": [
    "# convert_symbolic_transition_matrix"
   ]
  },
  {
   "cell_type": "code",
   "execution_count": 191,
   "metadata": {},
   "outputs": [],
   "source": [
    "@given(threshold=integers(min_value=0, max_value=10))\n",
    "def test_convert_symbolic_transition_matrix(threshold):\n",
    "    \n",
    "    lambda_a = 0.3\n",
    "    lambda_o = 0.2\n",
    "    mu = 0.05\n",
    "    num_of_servers = 10\n",
    "    system_capacity = 8\n",
    "    parking_capacity = 2\n",
    "    \n",
    "    transition_matrix = get_transition_matrix(lambda_a=lambda_a, lambda_o=lambda_o, mu=mu, num_of_servers=num_of_servers, threshold=threshold, system_capacity=system_capacity, parking_capacity=parking_capacity)\n",
    "    \n",
    "    sym_transition_matrix = get_symbolic_transition_matrix(num_of_servers=num_of_servers, threshold=threshold, system_capacity=system_capacity, parking_capacity=parking_capacity)\n",
    "    converted_matrix = convert_symbolic_transition_matrix(sym_transition_matrix, lambda_a, lambda_o, mu)\n",
    "    \n",
    "    assert np.allclose(converted_matrix, transition_matrix)"
   ]
  },
  {
   "cell_type": "code",
   "execution_count": 192,
   "metadata": {},
   "outputs": [],
   "source": [
    "test_convert_symbolic_transition_matrix()"
   ]
  },
  {
   "cell_type": "markdown",
   "metadata": {},
   "source": [
    "# is_steady_state"
   ]
  },
  {
   "cell_type": "code",
   "execution_count": 90,
   "metadata": {},
   "outputs": [],
   "source": [
    "def test_is_steady_state():\n",
    "    steady_1 = [6/17, 6/17, 5/17]\n",
    "    generator_matrix_1 = np.array([[-2/3, 1/3, 1/3],[1/2, -1/2, 0], [1/5, 1/5, -2/5]])\n",
    "    \n",
    "    steady_2 = np.array([0.0877193, 0.38596491, 0.52631579])\n",
    "    generator_matrix_2 = np.array([[-0.6, 0.4, 0.2], [0, -0.5, 0.5], [0.1, 0.3, -0.4]])\n",
    "    \n",
    "    steady_3 = np.array([1, 2, 3])\n",
    "    generator_matrix_3 = np.array([[-4, 2, 2], [0, -2, 2], [1, 5, -6]])\n",
    "\n",
    "    assert is_steady_state(steady_1, generator_matrix_1)\n",
    "    assert is_steady_state(steady_2, generator_matrix_2)\n",
    "    assert not is_steady_state(steady_3, generator_matrix_3)"
   ]
  },
  {
   "cell_type": "code",
   "execution_count": 91,
   "metadata": {},
   "outputs": [],
   "source": [
    "test_is_steady_state()"
   ]
  },
  {
   "cell_type": "markdown",
   "metadata": {},
   "source": [
    "# get_steady_state_numerically"
   ]
  },
  {
   "cell_type": "code",
   "execution_count": 120,
   "metadata": {},
   "outputs": [],
   "source": [
    "@given(\n",
    "    a = floats(min_value=0, max_value=10),\n",
    "    b = floats(min_value=0, max_value=10),\n",
    "    c = floats(min_value=0, max_value=10),\n",
    "    d = floats(min_value=0, max_value=10),\n",
    "    e = floats(min_value=0, max_value=10),\n",
    "    f = floats(min_value=0, max_value=10)\n",
    ")\n",
    "def test_get_steady_state_numerically_odeint(a, b, c, d, e, f):\n",
    "    Q = np.array([[- a - b, a, b], [c, - c - d, d], [e, f, - e - f]])\n",
    "    steady = get_steady_state_numerically(Q, integration_function=sci.integrate.odeint)\n",
    "    assert (is_steady_state(steady, Q))"
   ]
  },
  {
   "cell_type": "code",
   "execution_count": 121,
   "metadata": {},
   "outputs": [],
   "source": [
    "test_get_steady_state_numerically_odeint()"
   ]
  },
  {
   "cell_type": "code",
   "execution_count": 122,
   "metadata": {},
   "outputs": [],
   "source": [
    "@given(\n",
    "    a = floats(min_value=0, max_value=10),\n",
    "    b = floats(min_value=0, max_value=10),\n",
    "    c = floats(min_value=0, max_value=10),\n",
    "    d = floats(min_value=0, max_value=10),\n",
    "    e = floats(min_value=0, max_value=10),\n",
    "    f = floats(min_value=0, max_value=10)\n",
    ")\n",
    "def test_get_steady_state_numerically_solve_ivp(a, b, c, d, e, f):\n",
    "    Q = np.array([[- a - b, a, b], [c, - c - d, d], [e, f, - e - f]])\n",
    "    steady = get_steady_state_numerically(Q, integration_function=sci.integrate.solve_ivp)\n",
    "    assert (is_steady_state(steady, Q))"
   ]
  },
  {
   "cell_type": "code",
   "execution_count": 123,
   "metadata": {},
   "outputs": [],
   "source": [
    "test_get_steady_state_numerically_solve_ivp()"
   ]
  },
  {
   "cell_type": "markdown",
   "metadata": {},
   "source": [
    "# augment_Q"
   ]
  },
  {
   "cell_type": "code",
   "execution_count": 130,
   "metadata": {},
   "outputs": [],
   "source": [
    "@given(\n",
    "    Q=arrays(np.int8, (10,10))\n",
    ")\n",
    "def test_augment_Q(Q):\n",
    "    M,b = augment_Q(Q)\n",
    "    assert M.shape == (10, 10) \n",
    "    assert b.shape == (10, 1) \n",
    "    assert all(b[0:-1]) == 0\n",
    "    assert b[-1] == 1"
   ]
  },
  {
   "cell_type": "code",
   "execution_count": 131,
   "metadata": {},
   "outputs": [],
   "source": [
    "test_augment_Q()"
   ]
  },
  {
   "cell_type": "markdown",
   "metadata": {},
   "source": [
    "# get_steady_state_algebraically"
   ]
  },
  {
   "cell_type": "code",
   "execution_count": 362,
   "metadata": {},
   "outputs": [],
   "source": [
    "@given(\n",
    "    a = floats(min_value=1, max_value=10000),\n",
    "    b = floats(min_value=1, max_value=10000),\n",
    "    c = floats(min_value=1, max_value=10000),\n",
    "    d = floats(min_value=1, max_value=10000),\n",
    "    e = floats(min_value=1, max_value=10000),\n",
    "    f = floats(min_value=1, max_value=10000)\n",
    ")\n",
    "def test_get_steady_state_algebraically_solve(a, b, c, d, e, f):\n",
    "    Q = np.array([[- a - b, a, b], [c, - c - d, d], [e, f, - e - f]])\n",
    "    steady = get_steady_state_algebraically(Q, algebraic_function=np.linalg.solve)\n",
    "    assert is_steady_state(steady, Q)"
   ]
  },
  {
   "cell_type": "code",
   "execution_count": 363,
   "metadata": {},
   "outputs": [],
   "source": [
    "test_get_steady_state_algebraically_solve()"
   ]
  },
  {
   "cell_type": "code",
   "execution_count": 364,
   "metadata": {},
   "outputs": [],
   "source": [
    "@given(\n",
    "    a = floats(min_value=1, max_value=10000),\n",
    "    b = floats(min_value=1, max_value=10000),\n",
    "    c = floats(min_value=1, max_value=10000),\n",
    "    d = floats(min_value=1, max_value=10000),\n",
    "    e = floats(min_value=1, max_value=10000),\n",
    "    f = floats(min_value=1, max_value=10000)\n",
    ")\n",
    "def test_get_steady_state_algebraically_lstsq(a, b, c, d, e, f):\n",
    "    Q = np.array([[- a - b, a, b], [c, - c - d, d], [e, f, - e - f]])\n",
    "    steady = get_steady_state_algebraically(Q, algebraic_function=np.linalg.lstsq)\n",
    "    assert is_steady_state(steady, Q)"
   ]
  },
  {
   "cell_type": "code",
   "execution_count": 366,
   "metadata": {},
   "outputs": [],
   "source": [
    "test_get_steady_state_algebraically_lstsq()"
   ]
  },
  {
   "cell_type": "code",
   "execution_count": null,
   "metadata": {},
   "outputs": [],
   "source": []
  },
  {
   "cell_type": "code",
   "execution_count": null,
   "metadata": {},
   "outputs": [],
   "source": []
  },
  {
   "cell_type": "code",
   "execution_count": null,
   "metadata": {},
   "outputs": [],
   "source": []
  },
  {
   "cell_type": "code",
   "execution_count": 173,
   "metadata": {},
   "outputs": [],
   "source": [
    "lambda_a = 0.3\n",
    "lambda_o = 0.2\n",
    "mu = 0.05\n",
    "num_of_servers = 10\n",
    "system_capacity = 8\n",
    "parking_capacity = 2\n",
    "threshold = 0"
   ]
  }
 ],
 "metadata": {
  "kernelspec": {
   "display_name": "Python 3.8.1 64-bit ('AmbulanceGame': conda)",
   "language": "python",
   "name": "python38164bitambulancegameconda313376b6b30b4ff1a63b667ba23e8abb"
  },
  "language_info": {
   "codemirror_mode": {
    "name": "ipython",
    "version": 3
   },
   "file_extension": ".py",
   "mimetype": "text/x-python",
   "name": "python",
   "nbconvert_exporter": "python",
   "pygments_lexer": "ipython3",
   "version": "3.8.1"
  }
 },
 "nbformat": 4,
 "nbformat_minor": 4
}
