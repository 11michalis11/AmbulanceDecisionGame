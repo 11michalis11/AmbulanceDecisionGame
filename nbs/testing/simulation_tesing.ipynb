{
 "cells": [
  {
   "cell_type": "code",
   "execution_count": 62,
   "metadata": {},
   "outputs": [],
   "source": [
    "import numpy as np\n",
    "import ciw\n",
    "import pytest"
   ]
  },
  {
   "cell_type": "code",
   "execution_count": 5,
   "metadata": {},
   "outputs": [],
   "source": [
    "from hypothesis import (\n",
    "    given,\n",
    "    settings,\n",
    ")\n",
    "from hypothesis.strategies import (\n",
    "    floats,\n",
    "    integers,\n",
    ")"
   ]
  },
  {
   "cell_type": "code",
   "execution_count": 6,
   "metadata": {},
   "outputs": [],
   "source": [
    "from ambulance_game.simulation.simulation import (\n",
    "    build_model,\n",
    "    build_custom_node,\n",
    "    simulate_model,\n",
    "    get_multiple_runs_results,\n",
    "    get_mean_blocking_difference_between_two_hospitals,\n",
    "    calculate_optimal_ambulance_distribution,\n",
    ")"
   ]
  },
  {
   "cell_type": "markdown",
   "metadata": {},
   "source": [
    "# build_model()"
   ]
  },
  {
   "cell_type": "code",
   "execution_count": 7,
   "metadata": {},
   "outputs": [],
   "source": [
    "@given(\n",
    "    lambda_a=floats(min_value=0.1, max_value=10),\n",
    "    lambda_o=floats(min_value=0.1, max_value=10),\n",
    "    mu=floats(min_value=0.1, max_value=10),\n",
    "    c=integers(min_value=1, max_value=20),\n",
    ")\n",
    "def test_build_model(lambda_a, lambda_o, mu, c):\n",
    "    \"\"\"\n",
    "    Test to ensure consistent outcome type\n",
    "    \"\"\"\n",
    "    result = build_model(lambda_a, lambda_o, mu, c)\n",
    "    \n",
    "    assert type(result) == ciw.network.Network"
   ]
  },
  {
   "cell_type": "code",
   "execution_count": 8,
   "metadata": {},
   "outputs": [],
   "source": [
    "test_build_model()"
   ]
  },
  {
   "cell_type": "code",
   "execution_count": 9,
   "metadata": {},
   "outputs": [],
   "source": [
    "def test_example_model():\n",
    "    \"\"\"\n",
    "    Test to ensure that the correct results are output to a specific problem\n",
    "    \"\"\"\n",
    "    ciw.seed(5)\n",
    "    Q = ciw.Simulation(build_model(lambda_a=1, lambda_o=1, mu=2, num_of_servers=1))\n",
    "    Q.simulate_until_max_time(max_simulation_time=100)\n",
    "    records = Q.get_all_records()\n",
    "    wait = [r.waiting_time for r in records]\n",
    "    blocks = [r.time_blocked for r in records]\n",
    "\n",
    "    assert len(records) == 290\n",
    "    assert sum(wait) == 1089.854729732795\n",
    "    assert sum(blocks) == 0"
   ]
  },
  {
   "cell_type": "code",
   "execution_count": 10,
   "metadata": {},
   "outputs": [],
   "source": [
    "test_example_model()"
   ]
  },
  {
   "cell_type": "markdown",
   "metadata": {},
   "source": [
    "# build_custom_node()"
   ]
  },
  {
   "cell_type": "code",
   "execution_count": 11,
   "metadata": {},
   "outputs": [],
   "source": [
    "@given(\n",
    "    num_of_servers=integers(min_value=1, max_value=20),\n",
    ")\n",
    "def test_build_custom_node(num_of_servers):\n",
    "    \"\"\"\n",
    "    Test to ensure blocking works as expected for extreme cases where the threshold is set to infinity and -1\n",
    "    \"\"\"\n",
    "    ciw.seed(5)\n",
    "    model_1 = ciw.Simulation(build_model(lambda_a=0.2, lambda_o=0.15, mu=0.05, num_of_servers=num_of_servers), node_class=build_custom_node(np.inf))\n",
    "    model_1.simulate_until_max_time(max_simulation_time=100)\n",
    "    records_1 = model_1.get_all_records()\n",
    "    model_1_blocks = [r.time_blocked for r in records_1]\n",
    "    model_1_waits = [r.waiting_time for r in records_1 if r.node == 1]\n",
    "\n",
    "    model_2 = ciw.Simulation(build_model(lambda_a=0.2, lambda_o=0.15, mu=0.05, num_of_servers=num_of_servers), node_class=build_custom_node(-1))\n",
    "    model_2.simulate_until_max_time(max_simulation_time=100)\n",
    "    records_2 = model_2.get_all_records()\n",
    "    model_2_blocks = [r.time_blocked for r in records_2 if r.node == 1]\n",
    "\n",
    "    assert all(model_1_blocks) == 0\n",
    "    assert all(model_1_waits) == 0\n",
    "    assert all(model_2_blocks) != 0"
   ]
  },
  {
   "cell_type": "code",
   "execution_count": 12,
   "metadata": {},
   "outputs": [],
   "source": [
    "test_build_custom_node()"
   ]
  },
  {
   "cell_type": "code",
   "execution_count": 13,
   "metadata": {},
   "outputs": [],
   "source": [
    "def test_example_build_custom_node():\n",
    "    \"\"\"\n",
    "    Test to ensure blocking occurs for specific case\n",
    "    \"\"\"\n",
    "    ciw.seed(5)\n",
    "    Q = ciw.Simulation(build_model(lambda_a=1, lambda_o=1, mu=2, num_of_servers=1), node_class=build_custom_node(7))\n",
    "    Q.simulate_until_max_time(max_simulation_time=100)\n",
    "    records = Q.get_all_records()\n",
    "    wait = [r.waiting_time for r in records]\n",
    "    blocks = [r.time_blocked for r in records]\n",
    "\n",
    "    assert len(records) == 274\n",
    "    assert sum(wait) == 521.0071454616575\n",
    "    assert sum(blocks) == 546.9988970370749"
   ]
  },
  {
   "cell_type": "code",
   "execution_count": 14,
   "metadata": {},
   "outputs": [],
   "source": [
    "test_example_build_custom_node()"
   ]
  },
  {
   "cell_type": "markdown",
   "metadata": {},
   "source": [
    "# simulate_model()"
   ]
  },
  {
   "cell_type": "code",
   "execution_count": 15,
   "metadata": {},
   "outputs": [],
   "source": [
    "def test_simulate_model_unconstrained():\n",
    "    \"\"\"\n",
    "    Test that the crorect values are output given specific values and whhen the system capacity and the parking capacity are infinite\n",
    "    \"\"\"\n",
    "    sim_results = []\n",
    "    blocks = 0\n",
    "    waits = 0\n",
    "    services = 0\n",
    "    for seed in range(5):\n",
    "        simulation = simulate_model(\n",
    "            lambda_a=0.15,\n",
    "            lambda_o=0.2,\n",
    "            mu=0.05,\n",
    "            num_of_servers=8,\n",
    "            threshold=4,\n",
    "            seed_num=seed,\n",
    "        )\n",
    "        rec = simulation.get_all_records()\n",
    "        sim_results.append(rec)\n",
    "        blocks = blocks + sum([b.time_blocked for b in rec])\n",
    "        waits = waits + sum([w.waiting_time for w in rec])\n",
    "        services = services + sum([s.service_time for s in rec])\n",
    "        \n",
    "    assert type(simulation) == ciw.simulation.Simulation\n",
    "    assert len(sim_results[0]) == 474\n",
    "    assert len(sim_results[1]) == 490\n",
    "    assert len(sim_results[2]) == 491\n",
    "    assert len(sim_results[3]) == 486\n",
    "    assert len(sim_results[4]) == 458\n",
    "    assert blocks == 171712.5200250419\n",
    "    assert waits == 580.0884411214596\n",
    "    assert services == 37134.74895651618"
   ]
  },
  {
   "cell_type": "code",
   "execution_count": 16,
   "metadata": {},
   "outputs": [],
   "source": [
    "test_simulate_model_unconstrained()"
   ]
  },
  {
   "cell_type": "code",
   "execution_count": 17,
   "metadata": {},
   "outputs": [],
   "source": [
    "def test_simulate_model_constrained():\n",
    "    \"\"\"\n",
    "    Test that correct amount of patients flow through the system given specific values with a specified capacity of the hospital and the parking space\n",
    "    \"\"\"\n",
    "    sim_results = []\n",
    "    blocks = 0\n",
    "    waits = 0\n",
    "    services = 0\n",
    "    for seed in range(5):\n",
    "        simulation = simulate_model(\n",
    "            lambda_a=0.15,\n",
    "            lambda_o=0.2,\n",
    "            mu=0.05,\n",
    "            num_of_servers=8,\n",
    "            threshold=4,\n",
    "            seed_num=seed,\n",
    "            system_capacity=10,\n",
    "            parking_capacity=5\n",
    "        )\n",
    "        rec = simulation.get_all_records()\n",
    "        sim_results.append(rec)\n",
    "        blocks = blocks + sum([b.time_blocked for b in rec])\n",
    "        waits = waits + sum([w.waiting_time for w in rec])\n",
    "        services = services + sum([s.service_time for s in rec])\n",
    "        \n",
    "    assert type(simulation) == ciw.simulation.Simulation\n",
    "    assert len(sim_results[0]) == 490\n",
    "    assert len(sim_results[1]) == 446\n",
    "    assert len(sim_results[2]) == 477\n",
    "    assert len(sim_results[3]) == 486\n",
    "    assert len(sim_results[4]) == 455\n",
    "    assert blocks == 184149.7203971063\n",
    "    assert waits == 241.44395610608004\n",
    "    assert services == 36809.684541837734"
   ]
  },
  {
   "cell_type": "code",
   "execution_count": 18,
   "metadata": {},
   "outputs": [],
   "source": [
    "test_simulate_model_constrained()"
   ]
  },
  {
   "cell_type": "markdown",
   "metadata": {},
   "source": [
    "# test_get_multiple_results()"
   ]
  },
  {
   "cell_type": "code",
   "execution_count": 19,
   "metadata": {},
   "outputs": [],
   "source": [
    "def test_get_multiple_results():\n",
    "    mult_results_1 = get_multiple_runs_results(\n",
    "        lambda_a=0.15,\n",
    "        lambda_o=0.2,\n",
    "        mu=0.05,\n",
    "        num_of_servers=8,\n",
    "        threshold=4,\n",
    "        num_of_trials=5,\n",
    "        seed_num=1,\n",
    "    )\n",
    "    mult_results_2 = get_multiple_runs_results(\n",
    "        lambda_a=0.15,\n",
    "        lambda_o=0.2,\n",
    "        mu=0.05,\n",
    "        num_of_servers=8,\n",
    "        threshold=4,\n",
    "        num_of_trials=5,\n",
    "        seed_num=1,\n",
    "        output_type=\"list\"\n",
    "    )\n",
    "    assert type(mult_results_1) == list\n",
    "    for trial in range(5):\n",
    "        assert type(mult_results_1[trial]) != list\n",
    "        assert type(mult_results_1[trial].waiting_times) == list\n",
    "        assert type(mult_results_1[trial].service_times) == list\n",
    "        assert type(mult_results_1[trial].blocking_times) == list\n",
    "\n",
    "    assert type(mult_results_2) == list\n",
    "    for times in range(3): \n",
    "        for trial in range(5):\n",
    "            assert type(mult_results_2[times][trial]) == list"
   ]
  },
  {
   "cell_type": "code",
   "execution_count": 20,
   "metadata": {},
   "outputs": [],
   "source": [
    "test_get_multiple_results()"
   ]
  },
  {
   "cell_type": "markdown",
   "metadata": {},
   "source": [
    "# get_mean_blocking_difference_between_two_hospitals()"
   ]
  },
  {
   "cell_type": "code",
   "execution_count": 44,
   "metadata": {},
   "outputs": [],
   "source": [
    "# @given(\n",
    "#     lambda_a=floats(min_value=0.1, max_value=0.2),\n",
    "# )\n",
    "# @settings(deadline=None)\n",
    "def test_get_mean_blocking_difference_between_two_hospitals_increasing():\n",
    "    diff_list = []\n",
    "    proportions = np.linspace(0.1,0.9,9)\n",
    "    for prop in proportions:\n",
    "        diff_list.append(get_mean_blocking_difference_between_two_hospitals(prop_1=prop, lambda_a=0.15, lambda_o_1=0.08, lambda_o_2=0.08, mu_1=0.05, mu_2=0.05, num_of_servers_1=6, num_of_servers_2=6, threshold_1=5, threshold_2=5, seed_num_1=2, seed_num_2=2, num_of_trials=100, warm_up_time=100, runtime=500))\n",
    "    is_increasing = all(x <= y for x, y in zip(diff_list, diff_list[1:]))\n",
    "    assert is_increasing"
   ]
  },
  {
   "cell_type": "code",
   "execution_count": 45,
   "metadata": {},
   "outputs": [],
   "source": [
    "test_get_mean_blocking_difference_between_two_hospitals_increasing()"
   ]
  },
  {
   "cell_type": "code",
   "execution_count": 46,
   "metadata": {},
   "outputs": [],
   "source": [
    "@given(\n",
    "    lambda_a=floats(min_value=0.1, max_value=0.4),\n",
    "    lambda_o=floats(min_value=0.1, max_value=0.4)\n",
    ")\n",
    "@settings(deadline=None)\n",
    "def test_get_mean_blocking_difference_between_two_hospitals_equal_split(lambda_a, lambda_o):\n",
    "    diff = get_mean_blocking_difference_between_two_hospitals(prop_1=0.5, lambda_a=lambda_a, lambda_o_1=lambda_o, lambda_o_2=lambda_o, mu_1=0.2, mu_2=0.2, num_of_servers_1=4, num_of_servers_2=4, threshold_1=3, threshold_2=3, seed_num_1=2, seed_num_2=2, num_of_trials=5, warm_up_time=100, runtime=500)\n",
    "    assert diff == 0"
   ]
  },
  {
   "cell_type": "code",
   "execution_count": 47,
   "metadata": {},
   "outputs": [],
   "source": [
    "test_get_mean_blocking_difference_between_two_hospitals_equal_split()"
   ]
  },
  {
   "cell_type": "markdown",
   "metadata": {},
   "source": [
    "# calculate_optimal_ambulance_distribution"
   ]
  },
  {
   "cell_type": "code",
   "execution_count": 74,
   "metadata": {},
   "outputs": [],
   "source": [
    "# @given(\n",
    "#     lambda_a=floats(min_value=0.3, max_value=0.4),\n",
    "# )\n",
    "# @settings(deadline=None)\n",
    "def test_calculate_optimal_ambulance_distribution_equal_split():\n",
    "    lambda_a=0.3\n",
    "    equal_split = calculate_optimal_ambulance_distribution(lambda_a=lambda_a, lambda_o_1=0.3, lambda_o_2=0.3, mu_1=0.2, mu_2=0.2, num_of_servers_1=4, num_of_servers_2=4, threshold_1=3, threshold_2=3, seed_num_1=10, seed_num_2=10, num_of_trials=5, warm_up_time=100, runtime=500) \n",
    "    \n",
    "    assert np.isclose(equal_split, 0.5)\n",
    "#     assert equal_split == 0.5"
   ]
  },
  {
   "cell_type": "code",
   "execution_count": 75,
   "metadata": {},
   "outputs": [],
   "source": [
    "test_calculate_optimal_ambulance_distribution_equal_split()"
   ]
  },
  {
   "cell_type": "code",
   "execution_count": null,
   "metadata": {},
   "outputs": [],
   "source": []
  },
  {
   "cell_type": "code",
   "execution_count": null,
   "metadata": {},
   "outputs": [],
   "source": []
  },
  {
   "cell_type": "code",
   "execution_count": null,
   "metadata": {},
   "outputs": [],
   "source": [
    "lambda_a = 0.4\n",
    "lambda_o_1 = 0.3\n",
    "lambda_o_2 = 0.3\n",
    "mu_1 = 0.2\n",
    "mu_2 = 0.2\n",
    "num_of_servers_1 = 4\n",
    "num_of_servers_2 = 4\n",
    "threshold_1 = 3\n",
    "threshold_2 = 3\n",
    "seed_num_1 = 10\n",
    "seed_num_2 = 10\n",
    "num_of_trials = 5\n",
    "warm_up_time = 100\n",
    "runtime = 500"
   ]
  },
  {
   "cell_type": "code",
   "execution_count": null,
   "metadata": {},
   "outputs": [],
   "source": []
  }
 ],
 "metadata": {
  "kernelspec": {
   "display_name": "Python 3.8.1 64-bit ('AmbulanceGame': conda)",
   "language": "python",
   "name": "python38164bitambulancegameconda313376b6b30b4ff1a63b667ba23e8abb"
  },
  "language_info": {
   "codemirror_mode": {
    "name": "ipython",
    "version": 3
   },
   "file_extension": ".py",
   "mimetype": "text/x-python",
   "name": "python",
   "nbconvert_exporter": "python",
   "pygments_lexer": "ipython3",
   "version": "3.8.1"
  }
 },
 "nbformat": 4,
 "nbformat_minor": 4
}
